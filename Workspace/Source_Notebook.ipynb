{
 "cells": [
  {
   "cell_type": "markdown",
   "metadata": {},
   "source": [
    "### Imports"
   ]
  },
  {
   "cell_type": "code",
   "execution_count": 1,
   "metadata": {
    "ExecuteTime": {
     "end_time": "2022-04-21T20:38:40.994679Z",
     "start_time": "2022-04-21T20:38:39.865118Z"
    }
   },
   "outputs": [],
   "source": [
    "import pandas as pd\n",
    "import numpy as np\n",
    "from matplotlib import pyplot as plt\n",
    "import seaborn as sns\n",
    "\n",
    "from sklearn.model_selection import train_test_split,\\\n",
    "    GridSearchCV, cross_val_score\n",
    "from sklearn.dummy import DummyClassifier \n",
    "from sklearn.pipeline import Pipeline\n",
    "from sklearn.preprocessing import StandardScaler, OneHotEncoder,\\\n",
    "    FunctionTransformer, OrdinalEncoder\n",
    "from sklearn.impute import SimpleImputer\n",
    "from sklearn.compose import ColumnTransformer\n",
    "from sklearn.linear_model import LogisticRegression\n",
    "from sklearn.neighbors import KNeighborsClassifier\n",
    "from sklearn.ensemble import RandomForestClassifier,\\\n",
    "    GradientBoostingClassifier, AdaBoostClassifier,\\\n",
    "    BaggingClassifier, ExtraTreesClassifier,\\\n",
    "    VotingClassifier, StackingClassifier\n",
    "from sklearn.metrics import plot_confusion_matrix, recall_score,\\\n",
    "    accuracy_score, precision_score, f1_score\n",
    "from sklearn.metrics import plot_roc_curve\n",
    "\n",
    "import xgboost\n",
    "\n",
    "import pickle\n",
    "\n",
    "from imblearn.over_sampling import SMOTE\n",
    "from imblearn.pipeline import Pipeline as ImPipeline\n",
    "\n",
    "#https://machinelearningmastery.com/threshold-moving-for-imbalanced-classification/\n",
    "from sklearn.metrics import roc_curve\n",
    "from numpy import sqrt, argmax"
   ]
  },
  {
   "cell_type": "code",
   "execution_count": 2,
   "metadata": {
    "ExecuteTime": {
     "end_time": "2022-04-21T20:38:40.997826Z",
     "start_time": "2022-04-21T20:38:40.995792Z"
    }
   },
   "outputs": [],
   "source": [
    "import warnings\n",
    "warnings.simplefilter(action='ignore', category=FutureWarning)\n",
    "\n",
    "from warnings import simplefilter\n",
    "from sklearn.exceptions import ConvergenceWarning\n",
    "simplefilter(\"ignore\", category=ConvergenceWarning)"
   ]
  },
  {
   "cell_type": "markdown",
   "metadata": {},
   "source": [
    "### Problem Description"
   ]
  },
  {
   "cell_type": "markdown",
   "metadata": {},
   "source": [
    "My goal is to predict how likely individuals are to receive their H1N1 and seasonal flu vaccines. Specifically, I'll be predicting two probabilities: one for h1n1_vaccine and one for seasonal_vaccine."
   ]
  },
  {
   "cell_type": "markdown",
   "metadata": {},
   "source": [
    "#### Business Problem "
   ]
  },
  {
   "cell_type": "markdown",
   "metadata": {},
   "source": [
    "Mayo Clinic: \n",
    "\n",
    "Can we predict who will get the seasonal vaccine?\n",
    "\n",
    "What are the most significant features in determining whether or not an individual will get vaccinated? \n",
    "\n",
    "How can we get more people to get vaccinated?"
   ]
  },
  {
   "cell_type": "markdown",
   "metadata": {},
   "source": [
    "### Data"
   ]
  },
  {
   "cell_type": "code",
   "execution_count": 3,
   "metadata": {
    "ExecuteTime": {
     "end_time": "2022-04-21T20:38:41.021902Z",
     "start_time": "2022-04-21T20:38:40.998985Z"
    }
   },
   "outputs": [
    {
     "name": "stdout",
     "output_type": "stream",
     "text": [
      "<class 'pandas.core.frame.DataFrame'>\n",
      "RangeIndex: 26708 entries, 0 to 26707\n",
      "Data columns (total 3 columns):\n",
      " #   Column            Non-Null Count  Dtype  \n",
      "---  ------            --------------  -----  \n",
      " 0   respondent_id     26708 non-null  int64  \n",
      " 1   h1n1_vaccine      26708 non-null  float64\n",
      " 2   seasonal_vaccine  26708 non-null  float64\n",
      "dtypes: float64(2), int64(1)\n",
      "memory usage: 626.1 KB\n"
     ]
    }
   ],
   "source": [
    "submission_format = pd.read_csv('../Data/submission_format.csv')\n",
    "submission_format.info()"
   ]
  },
  {
   "cell_type": "markdown",
   "metadata": {},
   "source": [
    "The submission_format.csv is an example of how my submission should be submitted."
   ]
  },
  {
   "cell_type": "code",
   "execution_count": 4,
   "metadata": {
    "ExecuteTime": {
     "end_time": "2022-04-21T20:38:41.111997Z",
     "start_time": "2022-04-21T20:38:41.023169Z"
    }
   },
   "outputs": [
    {
     "name": "stdout",
     "output_type": "stream",
     "text": [
      "<class 'pandas.core.frame.DataFrame'>\n",
      "RangeIndex: 26708 entries, 0 to 26707\n",
      "Data columns (total 36 columns):\n",
      " #   Column                       Non-Null Count  Dtype  \n",
      "---  ------                       --------------  -----  \n",
      " 0   respondent_id                26708 non-null  int64  \n",
      " 1   h1n1_concern                 26623 non-null  float64\n",
      " 2   h1n1_knowledge               26586 non-null  float64\n",
      " 3   behavioral_antiviral_meds    26629 non-null  float64\n",
      " 4   behavioral_avoidance         26495 non-null  float64\n",
      " 5   behavioral_face_mask         26689 non-null  float64\n",
      " 6   behavioral_wash_hands        26668 non-null  float64\n",
      " 7   behavioral_large_gatherings  26636 non-null  float64\n",
      " 8   behavioral_outside_home      26626 non-null  float64\n",
      " 9   behavioral_touch_face        26580 non-null  float64\n",
      " 10  doctor_recc_h1n1             24548 non-null  float64\n",
      " 11  doctor_recc_seasonal         24548 non-null  float64\n",
      " 12  chronic_med_condition        25776 non-null  float64\n",
      " 13  child_under_6_months         25895 non-null  float64\n",
      " 14  health_worker                25919 non-null  float64\n",
      " 15  health_insurance             14480 non-null  float64\n",
      " 16  opinion_h1n1_vacc_effective  26310 non-null  float64\n",
      " 17  opinion_h1n1_risk            26328 non-null  float64\n",
      " 18  opinion_h1n1_sick_from_vacc  26333 non-null  float64\n",
      " 19  opinion_seas_vacc_effective  26256 non-null  float64\n",
      " 20  opinion_seas_risk            26209 non-null  float64\n",
      " 21  opinion_seas_sick_from_vacc  26187 non-null  float64\n",
      " 22  age_group                    26708 non-null  object \n",
      " 23  education                    25301 non-null  object \n",
      " 24  race                         26708 non-null  object \n",
      " 25  sex                          26708 non-null  object \n",
      " 26  income_poverty               22211 non-null  object \n",
      " 27  marital_status               25266 non-null  object \n",
      " 28  rent_or_own                  24672 non-null  object \n",
      " 29  employment_status            25237 non-null  object \n",
      " 30  hhs_geo_region               26708 non-null  object \n",
      " 31  census_msa                   26708 non-null  object \n",
      " 32  household_adults             26483 non-null  float64\n",
      " 33  household_children           26483 non-null  float64\n",
      " 34  employment_industry          13433 non-null  object \n",
      " 35  employment_occupation        13282 non-null  object \n",
      "dtypes: float64(23), int64(1), object(12)\n",
      "memory usage: 7.3+ MB\n"
     ]
    }
   ],
   "source": [
    "test_set_features = pd.read_csv('../Data/test_set_features.csv')\n",
    "test_set_features.info()"
   ]
  },
  {
   "cell_type": "markdown",
   "metadata": {},
   "source": [
    "The test_set_features.csv will be used to run my model and produce a predictive csv in the format of submission_format. "
   ]
  },
  {
   "cell_type": "code",
   "execution_count": 5,
   "metadata": {
    "ExecuteTime": {
     "end_time": "2022-04-21T20:38:41.205945Z",
     "start_time": "2022-04-21T20:38:41.113175Z"
    }
   },
   "outputs": [
    {
     "name": "stdout",
     "output_type": "stream",
     "text": [
      "<class 'pandas.core.frame.DataFrame'>\n",
      "RangeIndex: 26707 entries, 0 to 26706\n",
      "Data columns (total 36 columns):\n",
      " #   Column                       Non-Null Count  Dtype  \n",
      "---  ------                       --------------  -----  \n",
      " 0   respondent_id                26707 non-null  int64  \n",
      " 1   h1n1_concern                 26615 non-null  float64\n",
      " 2   h1n1_knowledge               26591 non-null  float64\n",
      " 3   behavioral_antiviral_meds    26636 non-null  float64\n",
      " 4   behavioral_avoidance         26499 non-null  float64\n",
      " 5   behavioral_face_mask         26688 non-null  float64\n",
      " 6   behavioral_wash_hands        26665 non-null  float64\n",
      " 7   behavioral_large_gatherings  26620 non-null  float64\n",
      " 8   behavioral_outside_home      26625 non-null  float64\n",
      " 9   behavioral_touch_face        26579 non-null  float64\n",
      " 10  doctor_recc_h1n1             24547 non-null  float64\n",
      " 11  doctor_recc_seasonal         24547 non-null  float64\n",
      " 12  chronic_med_condition        25736 non-null  float64\n",
      " 13  child_under_6_months         25887 non-null  float64\n",
      " 14  health_worker                25903 non-null  float64\n",
      " 15  health_insurance             14433 non-null  float64\n",
      " 16  opinion_h1n1_vacc_effective  26316 non-null  float64\n",
      " 17  opinion_h1n1_risk            26319 non-null  float64\n",
      " 18  opinion_h1n1_sick_from_vacc  26312 non-null  float64\n",
      " 19  opinion_seas_vacc_effective  26245 non-null  float64\n",
      " 20  opinion_seas_risk            26193 non-null  float64\n",
      " 21  opinion_seas_sick_from_vacc  26170 non-null  float64\n",
      " 22  age_group                    26707 non-null  object \n",
      " 23  education                    25300 non-null  object \n",
      " 24  race                         26707 non-null  object \n",
      " 25  sex                          26707 non-null  object \n",
      " 26  income_poverty               22284 non-null  object \n",
      " 27  marital_status               25299 non-null  object \n",
      " 28  rent_or_own                  24665 non-null  object \n",
      " 29  employment_status            25244 non-null  object \n",
      " 30  hhs_geo_region               26707 non-null  object \n",
      " 31  census_msa                   26707 non-null  object \n",
      " 32  household_adults             26458 non-null  float64\n",
      " 33  household_children           26458 non-null  float64\n",
      " 34  employment_industry          13377 non-null  object \n",
      " 35  employment_occupation        13237 non-null  object \n",
      "dtypes: float64(23), int64(1), object(12)\n",
      "memory usage: 7.3+ MB\n"
     ]
    }
   ],
   "source": [
    "training_set_features = pd.read_csv('../Data/training_set_features.csv')\n",
    "training_set_features.info()"
   ]
  },
  {
   "cell_type": "code",
   "execution_count": 6,
   "metadata": {
    "ExecuteTime": {
     "end_time": "2022-04-21T20:38:41.215519Z",
     "start_time": "2022-04-21T20:38:41.207144Z"
    }
   },
   "outputs": [
    {
     "name": "stdout",
     "output_type": "stream",
     "text": [
      "<class 'pandas.core.frame.DataFrame'>\n",
      "RangeIndex: 26707 entries, 0 to 26706\n",
      "Data columns (total 3 columns):\n",
      " #   Column            Non-Null Count  Dtype\n",
      "---  ------            --------------  -----\n",
      " 0   respondent_id     26707 non-null  int64\n",
      " 1   h1n1_vaccine      26707 non-null  int64\n",
      " 2   seasonal_vaccine  26707 non-null  int64\n",
      "dtypes: int64(3)\n",
      "memory usage: 626.1 KB\n"
     ]
    }
   ],
   "source": [
    "training_set_labels = pd.read_csv('../Data/training_set_labels.csv')\n",
    "training_set_labels.info()"
   ]
  },
  {
   "cell_type": "markdown",
   "metadata": {},
   "source": [
    "The training_set_features and is the dataset used to predict the actual training_set_labels. They are already split, however I will be rejoining for any cleaning I find necessary and splitting again in a format that is more convenient since there is two target variables. "
   ]
  },
  {
   "cell_type": "code",
   "execution_count": 7,
   "metadata": {
    "ExecuteTime": {
     "end_time": "2022-04-21T20:38:41.240024Z",
     "start_time": "2022-04-21T20:38:41.216480Z"
    }
   },
   "outputs": [],
   "source": [
    "complete_data = pd.merge(training_set_features, training_set_labels, on='respondent_id')"
   ]
  },
  {
   "cell_type": "code",
   "execution_count": 8,
   "metadata": {
    "ExecuteTime": {
     "end_time": "2022-04-21T20:38:41.267186Z",
     "start_time": "2022-04-21T20:38:41.242091Z"
    }
   },
   "outputs": [
    {
     "name": "stdout",
     "output_type": "stream",
     "text": [
      "<class 'pandas.core.frame.DataFrame'>\n",
      "Int64Index: 26707 entries, 0 to 26706\n",
      "Data columns (total 38 columns):\n",
      " #   Column                       Non-Null Count  Dtype  \n",
      "---  ------                       --------------  -----  \n",
      " 0   respondent_id                26707 non-null  int64  \n",
      " 1   h1n1_concern                 26615 non-null  float64\n",
      " 2   h1n1_knowledge               26591 non-null  float64\n",
      " 3   behavioral_antiviral_meds    26636 non-null  float64\n",
      " 4   behavioral_avoidance         26499 non-null  float64\n",
      " 5   behavioral_face_mask         26688 non-null  float64\n",
      " 6   behavioral_wash_hands        26665 non-null  float64\n",
      " 7   behavioral_large_gatherings  26620 non-null  float64\n",
      " 8   behavioral_outside_home      26625 non-null  float64\n",
      " 9   behavioral_touch_face        26579 non-null  float64\n",
      " 10  doctor_recc_h1n1             24547 non-null  float64\n",
      " 11  doctor_recc_seasonal         24547 non-null  float64\n",
      " 12  chronic_med_condition        25736 non-null  float64\n",
      " 13  child_under_6_months         25887 non-null  float64\n",
      " 14  health_worker                25903 non-null  float64\n",
      " 15  health_insurance             14433 non-null  float64\n",
      " 16  opinion_h1n1_vacc_effective  26316 non-null  float64\n",
      " 17  opinion_h1n1_risk            26319 non-null  float64\n",
      " 18  opinion_h1n1_sick_from_vacc  26312 non-null  float64\n",
      " 19  opinion_seas_vacc_effective  26245 non-null  float64\n",
      " 20  opinion_seas_risk            26193 non-null  float64\n",
      " 21  opinion_seas_sick_from_vacc  26170 non-null  float64\n",
      " 22  age_group                    26707 non-null  object \n",
      " 23  education                    25300 non-null  object \n",
      " 24  race                         26707 non-null  object \n",
      " 25  sex                          26707 non-null  object \n",
      " 26  income_poverty               22284 non-null  object \n",
      " 27  marital_status               25299 non-null  object \n",
      " 28  rent_or_own                  24665 non-null  object \n",
      " 29  employment_status            25244 non-null  object \n",
      " 30  hhs_geo_region               26707 non-null  object \n",
      " 31  census_msa                   26707 non-null  object \n",
      " 32  household_adults             26458 non-null  float64\n",
      " 33  household_children           26458 non-null  float64\n",
      " 34  employment_industry          13377 non-null  object \n",
      " 35  employment_occupation        13237 non-null  object \n",
      " 36  h1n1_vaccine                 26707 non-null  int64  \n",
      " 37  seasonal_vaccine             26707 non-null  int64  \n",
      "dtypes: float64(23), int64(3), object(12)\n",
      "memory usage: 7.9+ MB\n"
     ]
    }
   ],
   "source": [
    "complete_data.info()"
   ]
  },
  {
   "cell_type": "code",
   "execution_count": 9,
   "metadata": {
    "ExecuteTime": {
     "end_time": "2022-04-21T20:38:41.284626Z",
     "start_time": "2022-04-21T20:38:41.268659Z"
    },
    "scrolled": true
   },
   "outputs": [
    {
     "data": {
      "text/plain": [
       "employment_occupation          13470\n",
       "employment_industry            13330\n",
       "health_insurance               12274\n",
       "income_poverty                  4423\n",
       "doctor_recc_h1n1                2160\n",
       "doctor_recc_seasonal            2160\n",
       "rent_or_own                     2042\n",
       "employment_status               1463\n",
       "marital_status                  1408\n",
       "education                       1407\n",
       "chronic_med_condition            971\n",
       "child_under_6_months             820\n",
       "health_worker                    804\n",
       "opinion_seas_sick_from_vacc      537\n",
       "opinion_seas_risk                514\n",
       "opinion_seas_vacc_effective      462\n",
       "opinion_h1n1_sick_from_vacc      395\n",
       "opinion_h1n1_vacc_effective      391\n",
       "opinion_h1n1_risk                388\n",
       "household_adults                 249\n",
       "household_children               249\n",
       "behavioral_avoidance             208\n",
       "behavioral_touch_face            128\n",
       "h1n1_knowledge                   116\n",
       "h1n1_concern                      92\n",
       "behavioral_large_gatherings       87\n",
       "behavioral_outside_home           82\n",
       "behavioral_antiviral_meds         71\n",
       "behavioral_wash_hands             42\n",
       "behavioral_face_mask              19\n",
       "seasonal_vaccine                   0\n",
       "h1n1_vaccine                       0\n",
       "age_group                          0\n",
       "race                               0\n",
       "sex                                0\n",
       "hhs_geo_region                     0\n",
       "census_msa                         0\n",
       "respondent_id                      0\n",
       "dtype: int64"
      ]
     },
     "execution_count": 9,
     "metadata": {},
     "output_type": "execute_result"
    }
   ],
   "source": [
    "complete_data.isna().sum().sort_values(ascending=False)"
   ]
  },
  {
   "cell_type": "markdown",
   "metadata": {},
   "source": [
    "If the employment_status column has a value of Not in Labor Force, then columns employment_industry and employment_occupation will have NA's. \n",
    "\n",
    "Values in columns employment_industry and employment_occupation are represented as short random character strings. \n",
    "\n",
    "Filling NA's in employment_occupation and employment_industry associated with \"not in labor force\" with because they would otherwise be imputed as the most frequent occupation or industry.\n",
    "\n",
    "Filling Unemployed with \"not in labor force\"."
   ]
  },
  {
   "cell_type": "code",
   "execution_count": 10,
   "metadata": {
    "ExecuteTime": {
     "end_time": "2022-04-21T20:38:41.295149Z",
     "start_time": "2022-04-21T20:38:41.285659Z"
    }
   },
   "outputs": [],
   "source": [
    "complete_data['employment_status'].replace(\"Unemployed\", \"Not in Labor Force\", inplace=True)\n",
    "complete_data.loc[complete_data['employment_status'] == \"Not in Labor Force\", 'employment_industry'] = \"Not in Labor Force\"\n",
    "complete_data.loc[complete_data['employment_status'] == \"Not in Labor Force\", 'employment_occupation'] = \"Not in Labor Force\""
   ]
  },
  {
   "cell_type": "code",
   "execution_count": 11,
   "metadata": {
    "ExecuteTime": {
     "end_time": "2022-04-21T20:38:41.305131Z",
     "start_time": "2022-04-21T20:38:41.296051Z"
    },
    "scrolled": true
   },
   "outputs": [
    {
     "data": {
      "text/html": [
       "<div>\n",
       "<style scoped>\n",
       "    .dataframe tbody tr th:only-of-type {\n",
       "        vertical-align: middle;\n",
       "    }\n",
       "\n",
       "    .dataframe tbody tr th {\n",
       "        vertical-align: top;\n",
       "    }\n",
       "\n",
       "    .dataframe thead th {\n",
       "        text-align: right;\n",
       "    }\n",
       "</style>\n",
       "<table border=\"1\" class=\"dataframe\">\n",
       "  <thead>\n",
       "    <tr style=\"text-align: right;\">\n",
       "      <th></th>\n",
       "      <th>employment_status</th>\n",
       "      <th>employment_occupation</th>\n",
       "      <th>employment_industry</th>\n",
       "    </tr>\n",
       "  </thead>\n",
       "  <tbody>\n",
       "    <tr>\n",
       "      <th>0</th>\n",
       "      <td>Not in Labor Force</td>\n",
       "      <td>Not in Labor Force</td>\n",
       "      <td>Not in Labor Force</td>\n",
       "    </tr>\n",
       "    <tr>\n",
       "      <th>1</th>\n",
       "      <td>Employed</td>\n",
       "      <td>xgwztkwe</td>\n",
       "      <td>pxcmvdjn</td>\n",
       "    </tr>\n",
       "    <tr>\n",
       "      <th>2</th>\n",
       "      <td>Employed</td>\n",
       "      <td>xtkaffoo</td>\n",
       "      <td>rucpziij</td>\n",
       "    </tr>\n",
       "    <tr>\n",
       "      <th>3</th>\n",
       "      <td>Not in Labor Force</td>\n",
       "      <td>Not in Labor Force</td>\n",
       "      <td>Not in Labor Force</td>\n",
       "    </tr>\n",
       "    <tr>\n",
       "      <th>4</th>\n",
       "      <td>Employed</td>\n",
       "      <td>emcorrxb</td>\n",
       "      <td>wxleyezf</td>\n",
       "    </tr>\n",
       "    <tr>\n",
       "      <th>...</th>\n",
       "      <td>...</td>\n",
       "      <td>...</td>\n",
       "      <td>...</td>\n",
       "    </tr>\n",
       "    <tr>\n",
       "      <th>26702</th>\n",
       "      <td>Not in Labor Force</td>\n",
       "      <td>Not in Labor Force</td>\n",
       "      <td>Not in Labor Force</td>\n",
       "    </tr>\n",
       "    <tr>\n",
       "      <th>26703</th>\n",
       "      <td>Employed</td>\n",
       "      <td>cmhcxjea</td>\n",
       "      <td>fcxhlnwr</td>\n",
       "    </tr>\n",
       "    <tr>\n",
       "      <th>26704</th>\n",
       "      <td>NaN</td>\n",
       "      <td>NaN</td>\n",
       "      <td>NaN</td>\n",
       "    </tr>\n",
       "    <tr>\n",
       "      <th>26705</th>\n",
       "      <td>Employed</td>\n",
       "      <td>haliazsg</td>\n",
       "      <td>fcxhlnwr</td>\n",
       "    </tr>\n",
       "    <tr>\n",
       "      <th>26706</th>\n",
       "      <td>Not in Labor Force</td>\n",
       "      <td>Not in Labor Force</td>\n",
       "      <td>Not in Labor Force</td>\n",
       "    </tr>\n",
       "  </tbody>\n",
       "</table>\n",
       "<p>26707 rows × 3 columns</p>\n",
       "</div>"
      ],
      "text/plain": [
       "        employment_status employment_occupation employment_industry\n",
       "0      Not in Labor Force    Not in Labor Force  Not in Labor Force\n",
       "1                Employed              xgwztkwe            pxcmvdjn\n",
       "2                Employed              xtkaffoo            rucpziij\n",
       "3      Not in Labor Force    Not in Labor Force  Not in Labor Force\n",
       "4                Employed              emcorrxb            wxleyezf\n",
       "...                   ...                   ...                 ...\n",
       "26702  Not in Labor Force    Not in Labor Force  Not in Labor Force\n",
       "26703            Employed              cmhcxjea            fcxhlnwr\n",
       "26704                 NaN                   NaN                 NaN\n",
       "26705            Employed              haliazsg            fcxhlnwr\n",
       "26706  Not in Labor Force    Not in Labor Force  Not in Labor Force\n",
       "\n",
       "[26707 rows x 3 columns]"
      ]
     },
     "execution_count": 11,
     "metadata": {},
     "output_type": "execute_result"
    }
   ],
   "source": [
    "complete_data.filter(['employment_status', 'employment_occupation', 'employment_industry'])"
   ]
  },
  {
   "cell_type": "code",
   "execution_count": 16,
   "metadata": {
    "ExecuteTime": {
     "end_time": "2022-04-21T20:39:40.592325Z",
     "start_time": "2022-04-21T20:39:40.580195Z"
    }
   },
   "outputs": [],
   "source": [
    "complete_data['health_insurance'].fillna('Unknown', inplace=True)"
   ]
  },
  {
   "cell_type": "code",
   "execution_count": 35,
   "metadata": {
    "ExecuteTime": {
     "end_time": "2022-04-21T20:44:39.443848Z",
     "start_time": "2022-04-21T20:44:39.434676Z"
    }
   },
   "outputs": [],
   "source": [
    "complete_data['health_insurance'].replace(0,'0', inplace=True)\n",
    "complete_data['health_insurance'].replace(1,'1', inplace=True)"
   ]
  },
  {
   "cell_type": "code",
   "execution_count": null,
   "metadata": {},
   "outputs": [],
   "source": []
  },
  {
   "cell_type": "markdown",
   "metadata": {},
   "source": [
    "### Split"
   ]
  },
  {
   "cell_type": "markdown",
   "metadata": {},
   "source": [
    "Creating two splits for each target variable."
   ]
  },
  {
   "cell_type": "code",
   "execution_count": 36,
   "metadata": {
    "ExecuteTime": {
     "end_time": "2022-04-21T20:44:54.145655Z",
     "start_time": "2022-04-21T20:44:54.117663Z"
    }
   },
   "outputs": [],
   "source": [
    "X = complete_data.drop(['h1n1_vaccine', 'seasonal_vaccine', 'respondent_id'], axis=1)\n",
    "y1 = complete_data.filter(['seasonal_vaccine'])\n",
    "X_train1, X_test1, y_train1, y_test1 = train_test_split(X, y1, test_size=0.33, random_state=42)"
   ]
  },
  {
   "cell_type": "code",
   "execution_count": 37,
   "metadata": {
    "ExecuteTime": {
     "end_time": "2022-04-21T20:44:54.296820Z",
     "start_time": "2022-04-21T20:44:54.287022Z"
    }
   },
   "outputs": [
    {
     "data": {
      "text/plain": [
       "seasonal_vaccine\n",
       "0                   0.531046\n",
       "1                   0.468954\n",
       "dtype: float64"
      ]
     },
     "execution_count": 37,
     "metadata": {},
     "output_type": "execute_result"
    }
   ],
   "source": [
    "y_train1.value_counts(normalize=True)"
   ]
  },
  {
   "cell_type": "markdown",
   "metadata": {},
   "source": [
    "#### Numeric Pipeline for Column Transformer"
   ]
  },
  {
   "cell_type": "markdown",
   "metadata": {},
   "source": [
    "All columns are in a categorical format, however, some are scales and may better be represented as numeric columns.\n",
    "\n",
    "Possible numeric columns: h1n1_concern, h1n1_knowledge, opinion_h1n1_vacc_effective, opinion_h1n1_risk, opinion_h1n1_sick_from_vacc, opinion_seas_vacc_effective, opinion_seas_risk, and opinion_seas_sick_from_vacc."
   ]
  },
  {
   "cell_type": "code",
   "execution_count": 38,
   "metadata": {
    "ExecuteTime": {
     "end_time": "2022-04-21T20:44:55.229917Z",
     "start_time": "2022-04-21T20:44:55.226560Z"
    }
   },
   "outputs": [],
   "source": [
    "num_cols = ['h1n1_concern', 'h1n1_knowledge', 'opinion_h1n1_vacc_effective', 'opinion_h1n1_risk', 'opinion_h1n1_sick_from_vacc', 'opinion_seas_vacc_effective', 'opinion_seas_risk', 'opinion_seas_sick_from_vacc']"
   ]
  },
  {
   "cell_type": "code",
   "execution_count": 39,
   "metadata": {
    "ExecuteTime": {
     "end_time": "2022-04-21T20:44:55.593751Z",
     "start_time": "2022-04-21T20:44:55.551170Z"
    },
    "scrolled": true
   },
   "outputs": [
    {
     "data": {
      "text/html": [
       "<div>\n",
       "<style scoped>\n",
       "    .dataframe tbody tr th:only-of-type {\n",
       "        vertical-align: middle;\n",
       "    }\n",
       "\n",
       "    .dataframe tbody tr th {\n",
       "        vertical-align: top;\n",
       "    }\n",
       "\n",
       "    .dataframe thead th {\n",
       "        text-align: right;\n",
       "    }\n",
       "</style>\n",
       "<table border=\"1\" class=\"dataframe\">\n",
       "  <thead>\n",
       "    <tr style=\"text-align: right;\">\n",
       "      <th></th>\n",
       "      <th>h1n1_concern</th>\n",
       "      <th>h1n1_knowledge</th>\n",
       "      <th>opinion_h1n1_vacc_effective</th>\n",
       "      <th>opinion_h1n1_risk</th>\n",
       "      <th>opinion_h1n1_sick_from_vacc</th>\n",
       "      <th>opinion_seas_vacc_effective</th>\n",
       "      <th>opinion_seas_risk</th>\n",
       "      <th>opinion_seas_sick_from_vacc</th>\n",
       "    </tr>\n",
       "  </thead>\n",
       "  <tbody>\n",
       "    <tr>\n",
       "      <th>count</th>\n",
       "      <td>26615.000000</td>\n",
       "      <td>26591.000000</td>\n",
       "      <td>26316.000000</td>\n",
       "      <td>26319.000000</td>\n",
       "      <td>26312.000000</td>\n",
       "      <td>26245.000000</td>\n",
       "      <td>26193.000000</td>\n",
       "      <td>26170.000000</td>\n",
       "    </tr>\n",
       "    <tr>\n",
       "      <th>mean</th>\n",
       "      <td>1.618486</td>\n",
       "      <td>1.262532</td>\n",
       "      <td>3.850623</td>\n",
       "      <td>2.342566</td>\n",
       "      <td>2.357670</td>\n",
       "      <td>4.025986</td>\n",
       "      <td>2.719162</td>\n",
       "      <td>2.118112</td>\n",
       "    </tr>\n",
       "    <tr>\n",
       "      <th>std</th>\n",
       "      <td>0.910311</td>\n",
       "      <td>0.618149</td>\n",
       "      <td>1.007436</td>\n",
       "      <td>1.285539</td>\n",
       "      <td>1.362766</td>\n",
       "      <td>1.086565</td>\n",
       "      <td>1.385055</td>\n",
       "      <td>1.332950</td>\n",
       "    </tr>\n",
       "    <tr>\n",
       "      <th>min</th>\n",
       "      <td>0.000000</td>\n",
       "      <td>0.000000</td>\n",
       "      <td>1.000000</td>\n",
       "      <td>1.000000</td>\n",
       "      <td>1.000000</td>\n",
       "      <td>1.000000</td>\n",
       "      <td>1.000000</td>\n",
       "      <td>1.000000</td>\n",
       "    </tr>\n",
       "    <tr>\n",
       "      <th>25%</th>\n",
       "      <td>1.000000</td>\n",
       "      <td>1.000000</td>\n",
       "      <td>3.000000</td>\n",
       "      <td>1.000000</td>\n",
       "      <td>1.000000</td>\n",
       "      <td>4.000000</td>\n",
       "      <td>2.000000</td>\n",
       "      <td>1.000000</td>\n",
       "    </tr>\n",
       "    <tr>\n",
       "      <th>50%</th>\n",
       "      <td>2.000000</td>\n",
       "      <td>1.000000</td>\n",
       "      <td>4.000000</td>\n",
       "      <td>2.000000</td>\n",
       "      <td>2.000000</td>\n",
       "      <td>4.000000</td>\n",
       "      <td>2.000000</td>\n",
       "      <td>2.000000</td>\n",
       "    </tr>\n",
       "    <tr>\n",
       "      <th>75%</th>\n",
       "      <td>2.000000</td>\n",
       "      <td>2.000000</td>\n",
       "      <td>5.000000</td>\n",
       "      <td>4.000000</td>\n",
       "      <td>4.000000</td>\n",
       "      <td>5.000000</td>\n",
       "      <td>4.000000</td>\n",
       "      <td>4.000000</td>\n",
       "    </tr>\n",
       "    <tr>\n",
       "      <th>max</th>\n",
       "      <td>3.000000</td>\n",
       "      <td>2.000000</td>\n",
       "      <td>5.000000</td>\n",
       "      <td>5.000000</td>\n",
       "      <td>5.000000</td>\n",
       "      <td>5.000000</td>\n",
       "      <td>5.000000</td>\n",
       "      <td>5.000000</td>\n",
       "    </tr>\n",
       "  </tbody>\n",
       "</table>\n",
       "</div>"
      ],
      "text/plain": [
       "       h1n1_concern  h1n1_knowledge  opinion_h1n1_vacc_effective  \\\n",
       "count  26615.000000    26591.000000                 26316.000000   \n",
       "mean       1.618486        1.262532                     3.850623   \n",
       "std        0.910311        0.618149                     1.007436   \n",
       "min        0.000000        0.000000                     1.000000   \n",
       "25%        1.000000        1.000000                     3.000000   \n",
       "50%        2.000000        1.000000                     4.000000   \n",
       "75%        2.000000        2.000000                     5.000000   \n",
       "max        3.000000        2.000000                     5.000000   \n",
       "\n",
       "       opinion_h1n1_risk  opinion_h1n1_sick_from_vacc  \\\n",
       "count       26319.000000                 26312.000000   \n",
       "mean            2.342566                     2.357670   \n",
       "std             1.285539                     1.362766   \n",
       "min             1.000000                     1.000000   \n",
       "25%             1.000000                     1.000000   \n",
       "50%             2.000000                     2.000000   \n",
       "75%             4.000000                     4.000000   \n",
       "max             5.000000                     5.000000   \n",
       "\n",
       "       opinion_seas_vacc_effective  opinion_seas_risk  \\\n",
       "count                 26245.000000       26193.000000   \n",
       "mean                      4.025986           2.719162   \n",
       "std                       1.086565           1.385055   \n",
       "min                       1.000000           1.000000   \n",
       "25%                       4.000000           2.000000   \n",
       "50%                       4.000000           2.000000   \n",
       "75%                       5.000000           4.000000   \n",
       "max                       5.000000           5.000000   \n",
       "\n",
       "       opinion_seas_sick_from_vacc  \n",
       "count                 26170.000000  \n",
       "mean                      2.118112  \n",
       "std                       1.332950  \n",
       "min                       1.000000  \n",
       "25%                       1.000000  \n",
       "50%                       2.000000  \n",
       "75%                       4.000000  \n",
       "max                       5.000000  "
      ]
     },
     "execution_count": 39,
     "metadata": {},
     "output_type": "execute_result"
    }
   ],
   "source": [
    "X[num_cols].describe()"
   ]
  },
  {
   "cell_type": "code",
   "execution_count": 40,
   "metadata": {
    "ExecuteTime": {
     "end_time": "2022-04-21T20:44:56.023793Z",
     "start_time": "2022-04-21T20:44:56.007483Z"
    }
   },
   "outputs": [
    {
     "data": {
      "text/plain": [
       "h1n1_concern                   2.0\n",
       "h1n1_knowledge                 1.0\n",
       "opinion_h1n1_vacc_effective    4.0\n",
       "opinion_h1n1_risk              2.0\n",
       "opinion_h1n1_sick_from_vacc    2.0\n",
       "opinion_seas_vacc_effective    4.0\n",
       "opinion_seas_risk              2.0\n",
       "opinion_seas_sick_from_vacc    2.0\n",
       "dtype: float64"
      ]
     },
     "execution_count": 40,
     "metadata": {},
     "output_type": "execute_result"
    }
   ],
   "source": [
    "X[num_cols].median()"
   ]
  },
  {
   "cell_type": "markdown",
   "metadata": {},
   "source": [
    "#### Using `Pipeline` and `ColumnTransformer`"
   ]
  },
  {
   "cell_type": "code",
   "execution_count": 41,
   "metadata": {
    "ExecuteTime": {
     "end_time": "2022-04-21T20:44:56.700627Z",
     "start_time": "2022-04-21T20:44:56.618375Z"
    }
   },
   "outputs": [
    {
     "data": {
      "text/html": [
       "<div>\n",
       "<style scoped>\n",
       "    .dataframe tbody tr th:only-of-type {\n",
       "        vertical-align: middle;\n",
       "    }\n",
       "\n",
       "    .dataframe tbody tr th {\n",
       "        vertical-align: top;\n",
       "    }\n",
       "\n",
       "    .dataframe thead th {\n",
       "        text-align: right;\n",
       "    }\n",
       "</style>\n",
       "<table border=\"1\" class=\"dataframe\">\n",
       "  <thead>\n",
       "    <tr style=\"text-align: right;\">\n",
       "      <th></th>\n",
       "      <th>h1n1_concern</th>\n",
       "      <th>h1n1_knowledge</th>\n",
       "      <th>behavioral_antiviral_meds</th>\n",
       "      <th>behavioral_avoidance</th>\n",
       "      <th>behavioral_face_mask</th>\n",
       "      <th>behavioral_wash_hands</th>\n",
       "      <th>behavioral_large_gatherings</th>\n",
       "      <th>behavioral_outside_home</th>\n",
       "      <th>behavioral_touch_face</th>\n",
       "      <th>doctor_recc_h1n1</th>\n",
       "      <th>...</th>\n",
       "      <th>child_under_6_months</th>\n",
       "      <th>health_worker</th>\n",
       "      <th>opinion_h1n1_vacc_effective</th>\n",
       "      <th>opinion_h1n1_risk</th>\n",
       "      <th>opinion_h1n1_sick_from_vacc</th>\n",
       "      <th>opinion_seas_vacc_effective</th>\n",
       "      <th>opinion_seas_risk</th>\n",
       "      <th>opinion_seas_sick_from_vacc</th>\n",
       "      <th>household_adults</th>\n",
       "      <th>household_children</th>\n",
       "    </tr>\n",
       "  </thead>\n",
       "  <tbody>\n",
       "    <tr>\n",
       "      <th>count</th>\n",
       "      <td>26615.000000</td>\n",
       "      <td>26591.000000</td>\n",
       "      <td>26636.000000</td>\n",
       "      <td>26499.000000</td>\n",
       "      <td>26688.000000</td>\n",
       "      <td>26665.000000</td>\n",
       "      <td>26620.00000</td>\n",
       "      <td>26625.000000</td>\n",
       "      <td>26579.000000</td>\n",
       "      <td>24547.000000</td>\n",
       "      <td>...</td>\n",
       "      <td>25887.000000</td>\n",
       "      <td>25903.000000</td>\n",
       "      <td>26316.000000</td>\n",
       "      <td>26319.000000</td>\n",
       "      <td>26312.000000</td>\n",
       "      <td>26245.000000</td>\n",
       "      <td>26193.000000</td>\n",
       "      <td>26170.000000</td>\n",
       "      <td>26458.000000</td>\n",
       "      <td>26458.000000</td>\n",
       "    </tr>\n",
       "    <tr>\n",
       "      <th>mean</th>\n",
       "      <td>1.618486</td>\n",
       "      <td>1.262532</td>\n",
       "      <td>0.048844</td>\n",
       "      <td>0.725612</td>\n",
       "      <td>0.068982</td>\n",
       "      <td>0.825614</td>\n",
       "      <td>0.35864</td>\n",
       "      <td>0.337315</td>\n",
       "      <td>0.677264</td>\n",
       "      <td>0.220312</td>\n",
       "      <td>...</td>\n",
       "      <td>0.082590</td>\n",
       "      <td>0.111918</td>\n",
       "      <td>3.850623</td>\n",
       "      <td>2.342566</td>\n",
       "      <td>2.357670</td>\n",
       "      <td>4.025986</td>\n",
       "      <td>2.719162</td>\n",
       "      <td>2.118112</td>\n",
       "      <td>0.886499</td>\n",
       "      <td>0.534583</td>\n",
       "    </tr>\n",
       "    <tr>\n",
       "      <th>std</th>\n",
       "      <td>0.910311</td>\n",
       "      <td>0.618149</td>\n",
       "      <td>0.215545</td>\n",
       "      <td>0.446214</td>\n",
       "      <td>0.253429</td>\n",
       "      <td>0.379448</td>\n",
       "      <td>0.47961</td>\n",
       "      <td>0.472802</td>\n",
       "      <td>0.467531</td>\n",
       "      <td>0.414466</td>\n",
       "      <td>...</td>\n",
       "      <td>0.275266</td>\n",
       "      <td>0.315271</td>\n",
       "      <td>1.007436</td>\n",
       "      <td>1.285539</td>\n",
       "      <td>1.362766</td>\n",
       "      <td>1.086565</td>\n",
       "      <td>1.385055</td>\n",
       "      <td>1.332950</td>\n",
       "      <td>0.753422</td>\n",
       "      <td>0.928173</td>\n",
       "    </tr>\n",
       "    <tr>\n",
       "      <th>min</th>\n",
       "      <td>0.000000</td>\n",
       "      <td>0.000000</td>\n",
       "      <td>0.000000</td>\n",
       "      <td>0.000000</td>\n",
       "      <td>0.000000</td>\n",
       "      <td>0.000000</td>\n",
       "      <td>0.00000</td>\n",
       "      <td>0.000000</td>\n",
       "      <td>0.000000</td>\n",
       "      <td>0.000000</td>\n",
       "      <td>...</td>\n",
       "      <td>0.000000</td>\n",
       "      <td>0.000000</td>\n",
       "      <td>1.000000</td>\n",
       "      <td>1.000000</td>\n",
       "      <td>1.000000</td>\n",
       "      <td>1.000000</td>\n",
       "      <td>1.000000</td>\n",
       "      <td>1.000000</td>\n",
       "      <td>0.000000</td>\n",
       "      <td>0.000000</td>\n",
       "    </tr>\n",
       "    <tr>\n",
       "      <th>25%</th>\n",
       "      <td>1.000000</td>\n",
       "      <td>1.000000</td>\n",
       "      <td>0.000000</td>\n",
       "      <td>0.000000</td>\n",
       "      <td>0.000000</td>\n",
       "      <td>1.000000</td>\n",
       "      <td>0.00000</td>\n",
       "      <td>0.000000</td>\n",
       "      <td>0.000000</td>\n",
       "      <td>0.000000</td>\n",
       "      <td>...</td>\n",
       "      <td>0.000000</td>\n",
       "      <td>0.000000</td>\n",
       "      <td>3.000000</td>\n",
       "      <td>1.000000</td>\n",
       "      <td>1.000000</td>\n",
       "      <td>4.000000</td>\n",
       "      <td>2.000000</td>\n",
       "      <td>1.000000</td>\n",
       "      <td>0.000000</td>\n",
       "      <td>0.000000</td>\n",
       "    </tr>\n",
       "    <tr>\n",
       "      <th>50%</th>\n",
       "      <td>2.000000</td>\n",
       "      <td>1.000000</td>\n",
       "      <td>0.000000</td>\n",
       "      <td>1.000000</td>\n",
       "      <td>0.000000</td>\n",
       "      <td>1.000000</td>\n",
       "      <td>0.00000</td>\n",
       "      <td>0.000000</td>\n",
       "      <td>1.000000</td>\n",
       "      <td>0.000000</td>\n",
       "      <td>...</td>\n",
       "      <td>0.000000</td>\n",
       "      <td>0.000000</td>\n",
       "      <td>4.000000</td>\n",
       "      <td>2.000000</td>\n",
       "      <td>2.000000</td>\n",
       "      <td>4.000000</td>\n",
       "      <td>2.000000</td>\n",
       "      <td>2.000000</td>\n",
       "      <td>1.000000</td>\n",
       "      <td>0.000000</td>\n",
       "    </tr>\n",
       "    <tr>\n",
       "      <th>75%</th>\n",
       "      <td>2.000000</td>\n",
       "      <td>2.000000</td>\n",
       "      <td>0.000000</td>\n",
       "      <td>1.000000</td>\n",
       "      <td>0.000000</td>\n",
       "      <td>1.000000</td>\n",
       "      <td>1.00000</td>\n",
       "      <td>1.000000</td>\n",
       "      <td>1.000000</td>\n",
       "      <td>0.000000</td>\n",
       "      <td>...</td>\n",
       "      <td>0.000000</td>\n",
       "      <td>0.000000</td>\n",
       "      <td>5.000000</td>\n",
       "      <td>4.000000</td>\n",
       "      <td>4.000000</td>\n",
       "      <td>5.000000</td>\n",
       "      <td>4.000000</td>\n",
       "      <td>4.000000</td>\n",
       "      <td>1.000000</td>\n",
       "      <td>1.000000</td>\n",
       "    </tr>\n",
       "    <tr>\n",
       "      <th>max</th>\n",
       "      <td>3.000000</td>\n",
       "      <td>2.000000</td>\n",
       "      <td>1.000000</td>\n",
       "      <td>1.000000</td>\n",
       "      <td>1.000000</td>\n",
       "      <td>1.000000</td>\n",
       "      <td>1.00000</td>\n",
       "      <td>1.000000</td>\n",
       "      <td>1.000000</td>\n",
       "      <td>1.000000</td>\n",
       "      <td>...</td>\n",
       "      <td>1.000000</td>\n",
       "      <td>1.000000</td>\n",
       "      <td>5.000000</td>\n",
       "      <td>5.000000</td>\n",
       "      <td>5.000000</td>\n",
       "      <td>5.000000</td>\n",
       "      <td>5.000000</td>\n",
       "      <td>5.000000</td>\n",
       "      <td>3.000000</td>\n",
       "      <td>3.000000</td>\n",
       "    </tr>\n",
       "  </tbody>\n",
       "</table>\n",
       "<p>8 rows × 22 columns</p>\n",
       "</div>"
      ],
      "text/plain": [
       "       h1n1_concern  h1n1_knowledge  behavioral_antiviral_meds  \\\n",
       "count  26615.000000    26591.000000               26636.000000   \n",
       "mean       1.618486        1.262532                   0.048844   \n",
       "std        0.910311        0.618149                   0.215545   \n",
       "min        0.000000        0.000000                   0.000000   \n",
       "25%        1.000000        1.000000                   0.000000   \n",
       "50%        2.000000        1.000000                   0.000000   \n",
       "75%        2.000000        2.000000                   0.000000   \n",
       "max        3.000000        2.000000                   1.000000   \n",
       "\n",
       "       behavioral_avoidance  behavioral_face_mask  behavioral_wash_hands  \\\n",
       "count          26499.000000          26688.000000           26665.000000   \n",
       "mean               0.725612              0.068982               0.825614   \n",
       "std                0.446214              0.253429               0.379448   \n",
       "min                0.000000              0.000000               0.000000   \n",
       "25%                0.000000              0.000000               1.000000   \n",
       "50%                1.000000              0.000000               1.000000   \n",
       "75%                1.000000              0.000000               1.000000   \n",
       "max                1.000000              1.000000               1.000000   \n",
       "\n",
       "       behavioral_large_gatherings  behavioral_outside_home  \\\n",
       "count                  26620.00000             26625.000000   \n",
       "mean                       0.35864                 0.337315   \n",
       "std                        0.47961                 0.472802   \n",
       "min                        0.00000                 0.000000   \n",
       "25%                        0.00000                 0.000000   \n",
       "50%                        0.00000                 0.000000   \n",
       "75%                        1.00000                 1.000000   \n",
       "max                        1.00000                 1.000000   \n",
       "\n",
       "       behavioral_touch_face  doctor_recc_h1n1  ...  child_under_6_months  \\\n",
       "count           26579.000000      24547.000000  ...          25887.000000   \n",
       "mean                0.677264          0.220312  ...              0.082590   \n",
       "std                 0.467531          0.414466  ...              0.275266   \n",
       "min                 0.000000          0.000000  ...              0.000000   \n",
       "25%                 0.000000          0.000000  ...              0.000000   \n",
       "50%                 1.000000          0.000000  ...              0.000000   \n",
       "75%                 1.000000          0.000000  ...              0.000000   \n",
       "max                 1.000000          1.000000  ...              1.000000   \n",
       "\n",
       "       health_worker  opinion_h1n1_vacc_effective  opinion_h1n1_risk  \\\n",
       "count   25903.000000                 26316.000000       26319.000000   \n",
       "mean        0.111918                     3.850623           2.342566   \n",
       "std         0.315271                     1.007436           1.285539   \n",
       "min         0.000000                     1.000000           1.000000   \n",
       "25%         0.000000                     3.000000           1.000000   \n",
       "50%         0.000000                     4.000000           2.000000   \n",
       "75%         0.000000                     5.000000           4.000000   \n",
       "max         1.000000                     5.000000           5.000000   \n",
       "\n",
       "       opinion_h1n1_sick_from_vacc  opinion_seas_vacc_effective  \\\n",
       "count                 26312.000000                 26245.000000   \n",
       "mean                      2.357670                     4.025986   \n",
       "std                       1.362766                     1.086565   \n",
       "min                       1.000000                     1.000000   \n",
       "25%                       1.000000                     4.000000   \n",
       "50%                       2.000000                     4.000000   \n",
       "75%                       4.000000                     5.000000   \n",
       "max                       5.000000                     5.000000   \n",
       "\n",
       "       opinion_seas_risk  opinion_seas_sick_from_vacc  household_adults  \\\n",
       "count       26193.000000                 26170.000000      26458.000000   \n",
       "mean            2.719162                     2.118112          0.886499   \n",
       "std             1.385055                     1.332950          0.753422   \n",
       "min             1.000000                     1.000000          0.000000   \n",
       "25%             2.000000                     1.000000          0.000000   \n",
       "50%             2.000000                     2.000000          1.000000   \n",
       "75%             4.000000                     4.000000          1.000000   \n",
       "max             5.000000                     5.000000          3.000000   \n",
       "\n",
       "       household_children  \n",
       "count        26458.000000  \n",
       "mean             0.534583  \n",
       "std              0.928173  \n",
       "min              0.000000  \n",
       "25%              0.000000  \n",
       "50%              0.000000  \n",
       "75%              1.000000  \n",
       "max              3.000000  \n",
       "\n",
       "[8 rows x 22 columns]"
      ]
     },
     "execution_count": 41,
     "metadata": {},
     "output_type": "execute_result"
    }
   ],
   "source": [
    "X.describe()"
   ]
  },
  {
   "cell_type": "code",
   "execution_count": 42,
   "metadata": {
    "ExecuteTime": {
     "end_time": "2022-04-21T20:44:56.971378Z",
     "start_time": "2022-04-21T20:44:56.966350Z"
    }
   },
   "outputs": [],
   "source": [
    "subpipe_cat = Pipeline(steps=[('cat_impute', SimpleImputer(strategy='most_frequent')),\n",
    "                              ('ohe', OneHotEncoder(drop='first', sparse=False, handle_unknown='ignore')) ])\n",
    "\n",
    "subpipe_num = Pipeline(steps=[('num_impute', SimpleImputer(strategy='median')),\n",
    "                              ('ss', StandardScaler()) ])"
   ]
  },
  {
   "cell_type": "code",
   "execution_count": 43,
   "metadata": {
    "ExecuteTime": {
     "end_time": "2022-04-21T20:44:57.740726Z",
     "start_time": "2022-04-21T20:44:57.736195Z"
    }
   },
   "outputs": [
    {
     "data": {
      "text/plain": [
       "['h1n1_concern',\n",
       " 'h1n1_knowledge',\n",
       " 'opinion_h1n1_vacc_effective',\n",
       " 'opinion_h1n1_risk',\n",
       " 'opinion_h1n1_sick_from_vacc',\n",
       " 'opinion_seas_vacc_effective',\n",
       " 'opinion_seas_risk',\n",
       " 'opinion_seas_sick_from_vacc']"
      ]
     },
     "execution_count": 43,
     "metadata": {},
     "output_type": "execute_result"
    }
   ],
   "source": [
    "num_cols"
   ]
  },
  {
   "cell_type": "code",
   "execution_count": 44,
   "metadata": {
    "ExecuteTime": {
     "end_time": "2022-04-21T20:44:58.154448Z",
     "start_time": "2022-04-21T20:44:58.146811Z"
    }
   },
   "outputs": [
    {
     "data": {
      "text/plain": [
       "Index(['behavioral_antiviral_meds', 'behavioral_avoidance',\n",
       "       'behavioral_face_mask', 'behavioral_wash_hands',\n",
       "       'behavioral_large_gatherings', 'behavioral_outside_home',\n",
       "       'behavioral_touch_face', 'doctor_recc_h1n1', 'doctor_recc_seasonal',\n",
       "       'chronic_med_condition', 'child_under_6_months', 'health_worker',\n",
       "       'health_insurance', 'age_group', 'education', 'race', 'sex',\n",
       "       'income_poverty', 'marital_status', 'rent_or_own', 'employment_status',\n",
       "       'hhs_geo_region', 'census_msa', 'household_adults',\n",
       "       'household_children', 'employment_industry', 'employment_occupation'],\n",
       "      dtype='object')"
      ]
     },
     "execution_count": 44,
     "metadata": {},
     "output_type": "execute_result"
    }
   ],
   "source": [
    "cat_cols = X.columns.drop(num_cols)\n",
    "cat_cols"
   ]
  },
  {
   "cell_type": "code",
   "execution_count": 45,
   "metadata": {
    "ExecuteTime": {
     "end_time": "2022-04-21T20:44:58.799290Z",
     "start_time": "2022-04-21T20:44:58.795798Z"
    }
   },
   "outputs": [],
   "source": [
    "# The \"remainder='passthrough'\" bit tells the compiler to leave\n",
    "# the other df columns unchanged.\n",
    "ct = ColumnTransformer(transformers = [\n",
    "    ('subpipe_cat', subpipe_cat, cat_cols),\n",
    "    ('subpipe_num', subpipe_num, num_cols)\n",
    "])"
   ]
  },
  {
   "cell_type": "markdown",
   "metadata": {},
   "source": [
    "#### Logistic Regression Pipeline"
   ]
  },
  {
   "cell_type": "code",
   "execution_count": 22,
   "metadata": {
    "ExecuteTime": {
     "end_time": "2022-04-19T21:42:13.021605Z",
     "start_time": "2022-04-19T21:42:13.018361Z"
    }
   },
   "outputs": [],
   "source": [
    "# dummy_model_pipe = Pipeline(steps=[\n",
    "#     ('ct', ct),\n",
    "#     ('dummy', DummyClassifier(random_state=42))\n",
    "# ])"
   ]
  },
  {
   "cell_type": "markdown",
   "metadata": {},
   "source": [
    "The .values.ravel() removes warnings."
   ]
  },
  {
   "cell_type": "code",
   "execution_count": 46,
   "metadata": {
    "ExecuteTime": {
     "end_time": "2022-04-21T20:45:02.990749Z",
     "start_time": "2022-04-21T20:45:02.987725Z"
    }
   },
   "outputs": [],
   "source": [
    "#y_train1 = y_train1.values.ravel()"
   ]
  },
  {
   "cell_type": "code",
   "execution_count": 24,
   "metadata": {
    "ExecuteTime": {
     "end_time": "2022-04-19T16:51:56.350093Z",
     "start_time": "2022-04-19T16:51:56.112519Z"
    }
   },
   "outputs": [],
   "source": [
    "#dummy_model_pipe.fit(X_train1, y_train1);"
   ]
  },
  {
   "cell_type": "code",
   "execution_count": 25,
   "metadata": {
    "ExecuteTime": {
     "end_time": "2022-04-19T16:51:56.495372Z",
     "start_time": "2022-04-19T16:51:56.351081Z"
    }
   },
   "outputs": [
    {
     "data": {
      "text/plain": [
       "0.5310456603140893"
      ]
     },
     "execution_count": 25,
     "metadata": {},
     "output_type": "execute_result"
    }
   ],
   "source": [
    "#dummy_model_pipe.score(X_train1, y_train1)"
   ]
  },
  {
   "cell_type": "code",
   "execution_count": 26,
   "metadata": {
    "ExecuteTime": {
     "end_time": "2022-04-19T16:51:57.536153Z",
     "start_time": "2022-04-19T16:51:56.496378Z"
    }
   },
   "outputs": [
    {
     "data": {
      "text/plain": [
       "array([0.53087455, 0.53115395, 0.53115395, 0.53102292, 0.53102292])"
      ]
     },
     "execution_count": 26,
     "metadata": {},
     "output_type": "execute_result"
    }
   ],
   "source": [
    "#cross_val_score(dummy_model_pipe, X_train1, y_train1)"
   ]
  },
  {
   "cell_type": "markdown",
   "metadata": {},
   "source": [
    "### ModelWithCV"
   ]
  },
  {
   "cell_type": "code",
   "execution_count": 47,
   "metadata": {
    "ExecuteTime": {
     "end_time": "2022-04-21T20:45:06.576708Z",
     "start_time": "2022-04-21T20:45:06.562872Z"
    }
   },
   "outputs": [],
   "source": [
    "from sklearn.model_selection import cross_val_score\n",
    "import numpy as np\n",
    "import seaborn as sns\n",
    "import matplotlib.pyplot as plt\n",
    "\n",
    "class ModelWithCV():\n",
    "    '''Structure to save the model and more easily see its crossvalidation'''\n",
    "    \n",
    "    def __init__(self, model, model_name, X, y, cv_now=True):\n",
    "        self.model = model\n",
    "        self.name = model_name\n",
    "        self.X = X\n",
    "        self.y = y\n",
    "        # For CV results\n",
    "        self.cv_results = None\n",
    "        self.cv_mean = None\n",
    "        self.cv_median = None\n",
    "        self.cv_std = None\n",
    "        self.recall_score = None\n",
    "        self.precision_score = None\n",
    "        self.f1_score = None\n",
    "        #\n",
    "        if cv_now:\n",
    "            self.cross_validate()\n",
    "        \n",
    "    def cross_validate(self, X=None, y=None, kfolds=10):\n",
    "        '''\n",
    "        Perform cross-validation and return results.\n",
    "        \n",
    "        Args: \n",
    "          X:\n",
    "            Optional; Training data to perform CV on. Otherwise use X from object\n",
    "          y:\n",
    "            Optional; Training data to perform CV on. Otherwise use y from object\n",
    "          kfolds:\n",
    "            Optional; Number of folds for CV (default is 10)  \n",
    "        '''\n",
    "        \n",
    "        cv_X = X if X else self.X\n",
    "        cv_y = y if y else self.y\n",
    "\n",
    "        self.cv_results = cross_val_score(self.model, cv_X, cv_y, cv=kfolds)\n",
    "        self.cv_mean = np.mean(self.cv_results)\n",
    "        self.cv_median = np.median(self.cv_results)\n",
    "        self.cv_std = np.std(self.cv_results)\n",
    "        self.recall_score = cross_val_score(self.model, self.X, self.y, cv=10, scoring='recall').mean()\n",
    "        self.precision_score = cross_val_score(self.model, self.X, self.y, cv=10, scoring='average_precision').mean()\n",
    "        self.f1_score = cross_val_score(self.model, self.X, self.y, cv=10, scoring='f1').mean()\n",
    "        \n",
    "    def print_cv_summary(self):\n",
    "        cv_summary = (\n",
    "        f'''CV Results for `{self.name}` model:\n",
    "            {self.cv_mean:.5f} ± {self.cv_std:.5f} accuracy\n",
    "            recall_score: {self.recall_score}\n",
    "            precision_score: {self.precision_score}\n",
    "            f1_score: {self.f1_score}    \n",
    "        ''')\n",
    "        print(cv_summary)"
   ]
  },
  {
   "cell_type": "code",
   "execution_count": 28,
   "metadata": {
    "ExecuteTime": {
     "end_time": "2022-04-19T16:51:59.584811Z",
     "start_time": "2022-04-19T16:51:57.543115Z"
    }
   },
   "outputs": [],
   "source": [
    "dummy_pipe = ModelWithCV(dummy_model_pipe, model_name='dummy_pipe', X=X_train1, y=y_train1)"
   ]
  },
  {
   "cell_type": "code",
   "execution_count": 30,
   "metadata": {
    "ExecuteTime": {
     "end_time": "2022-04-19T16:52:05.946486Z",
     "start_time": "2022-04-19T16:51:59.682457Z"
    },
    "scrolled": true
   },
   "outputs": [
    {
     "name": "stdout",
     "output_type": "stream",
     "text": [
      "CV Results for `dummy_pipe` model:\n",
      "            0.53105 ± 0.00015 accuracy\n",
      "            recall_score: 0.0\n",
      "            precision_score: 0.46895434857961904\n",
      "            f1_score: 0.0    \n",
      "        \n"
     ]
    }
   ],
   "source": [
    "dummy_pipe.print_cv_summary()"
   ]
  },
  {
   "cell_type": "markdown",
   "metadata": {},
   "source": [
    "#### Logistic Regression Pipeline"
   ]
  },
  {
   "cell_type": "code",
   "execution_count": 48,
   "metadata": {
    "ExecuteTime": {
     "end_time": "2022-04-21T20:45:10.117402Z",
     "start_time": "2022-04-21T20:45:10.113576Z"
    }
   },
   "outputs": [],
   "source": [
    "# logreg_model_pipe = Pipeline(steps=[\n",
    "#     ('ct', ct),\n",
    "#     ('logreg', LogisticRegression(random_state=42, max_iter=1000))\n",
    "# ])"
   ]
  },
  {
   "cell_type": "code",
   "execution_count": 49,
   "metadata": {
    "ExecuteTime": {
     "end_time": "2022-04-21T20:45:12.194898Z",
     "start_time": "2022-04-21T20:45:11.477523Z"
    },
    "scrolled": true
   },
   "outputs": [],
   "source": [
    "# logreg_model_pipe.fit(X_train1, y_train1);"
   ]
  },
  {
   "cell_type": "markdown",
   "metadata": {},
   "source": [
    "#### Bringing in Our Modeling Class from before"
   ]
  },
  {
   "cell_type": "code",
   "execution_count": 50,
   "metadata": {
    "ExecuteTime": {
     "end_time": "2022-04-21T20:45:55.448310Z",
     "start_time": "2022-04-21T20:45:32.217064Z"
    }
   },
   "outputs": [],
   "source": [
    "# log_pipe = ModelWithCV(logreg_model_pipe, model_name='log_pipe', X=X_train1, y=y_train1)"
   ]
  },
  {
   "cell_type": "code",
   "execution_count": 37,
   "metadata": {
    "ExecuteTime": {
     "end_time": "2022-04-19T16:52:32.426285Z",
     "start_time": "2022-04-19T16:52:14.972477Z"
    },
    "scrolled": false
   },
   "outputs": [
    {
     "name": "stdout",
     "output_type": "stream",
     "text": [
      "CV Results for `log_pipe` model:\n",
      "            0.77718 ± 0.01162 accuracy\n",
      "            recall_score: 0.7466334638742267\n",
      "            precision_score: 0.8286463637855354\n",
      "            f1_score: 0.7586460472504087    \n",
      "        \n"
     ]
    }
   ],
   "source": [
    "# log_pipe.print_cv_summary()"
   ]
  },
  {
   "cell_type": "code",
   "execution_count": 51,
   "metadata": {
    "ExecuteTime": {
     "end_time": "2022-04-21T20:46:34.910294Z",
     "start_time": "2022-04-21T20:46:34.886802Z"
    }
   },
   "outputs": [],
   "source": [
    "# log_pickle = 'tuned_logreg.sav'\n",
    "# pickle.dump(log_pipe, open(log_pickle, 'wb'))"
   ]
  },
  {
   "cell_type": "markdown",
   "metadata": {},
   "source": [
    "##### Logistic Regression Tuning"
   ]
  },
  {
   "cell_type": "code",
   "execution_count": 38,
   "metadata": {
    "ExecuteTime": {
     "end_time": "2022-04-19T16:52:32.430178Z",
     "start_time": "2022-04-19T16:52:32.427678Z"
    }
   },
   "outputs": [],
   "source": [
    "# params = {}\n",
    "\n",
    "# params['logreg__solver'] = ['liblinear', 'sag']\n",
    "# params['logreg__C'] = [.1,.3,.5]\n",
    "# params['logreg__max_iter'] = [1, 5, 10]"
   ]
  },
  {
   "cell_type": "code",
   "execution_count": 39,
   "metadata": {
    "ExecuteTime": {
     "end_time": "2022-04-19T16:52:32.434794Z",
     "start_time": "2022-04-19T16:52:32.431218Z"
    }
   },
   "outputs": [],
   "source": [
    "# gs_log = GridSearchCV(estimator=logreg_model_pipe, param_grid=params, cv=10)"
   ]
  },
  {
   "cell_type": "code",
   "execution_count": 40,
   "metadata": {
    "ExecuteTime": {
     "end_time": "2022-04-19T16:53:21.720219Z",
     "start_time": "2022-04-19T16:52:32.435977Z"
    }
   },
   "outputs": [],
   "source": [
    "# gs_log.fit(X_train1, y_train1);"
   ]
  },
  {
   "cell_type": "code",
   "execution_count": 41,
   "metadata": {
    "ExecuteTime": {
     "end_time": "2022-04-19T16:53:21.723759Z",
     "start_time": "2022-04-19T16:53:21.721173Z"
    },
    "code_folding": []
   },
   "outputs": [
    {
     "data": {
      "text/plain": [
       "array([0.76538458, 0.7421907 , 0.77706509, 0.77387948, 0.77706509,\n",
       "       0.77728852, 0.76549628, 0.73811096, 0.77751208, 0.77114127,\n",
       "       0.77751208, 0.7772324 , 0.76549625, 0.73816654, 0.77734426,\n",
       "       0.77142119, 0.77734426, 0.77684122])"
      ]
     },
     "execution_count": 41,
     "metadata": {},
     "output_type": "execute_result"
    }
   ],
   "source": [
    "# gs_log.cv_results_['mean_test_score']"
   ]
  },
  {
   "cell_type": "code",
   "execution_count": 42,
   "metadata": {
    "ExecuteTime": {
     "end_time": "2022-04-19T16:53:21.726594Z",
     "start_time": "2022-04-19T16:53:21.724579Z"
    }
   },
   "outputs": [
    {
     "data": {
      "text/plain": [
       "{'logreg__C': 0.3, 'logreg__max_iter': 5, 'logreg__solver': 'liblinear'}"
      ]
     },
     "execution_count": 42,
     "metadata": {},
     "output_type": "execute_result"
    }
   ],
   "source": [
    "# gs_log.best_params_"
   ]
  },
  {
   "cell_type": "markdown",
   "metadata": {},
   "source": [
    "Best parameters  for logreg: 'logreg__C': 0.3, 'logreg__max_iter': 50, 'logreg__solver': 'liblinear'"
   ]
  },
  {
   "cell_type": "code",
   "execution_count": 43,
   "metadata": {
    "ExecuteTime": {
     "end_time": "2022-04-19T16:53:21.746784Z",
     "start_time": "2022-04-19T16:53:21.727328Z"
    }
   },
   "outputs": [
    {
     "data": {
      "text/plain": [
       "Pipeline(steps=[('ct',\n",
       "                 ColumnTransformer(transformers=[('subpipe_cat',\n",
       "                                                  Pipeline(steps=[('cat_impute',\n",
       "                                                                   SimpleImputer(strategy='most_frequent')),\n",
       "                                                                  ('ohe',\n",
       "                                                                   OneHotEncoder(drop='first',\n",
       "                                                                                 handle_unknown='ignore',\n",
       "                                                                                 sparse=False))]),\n",
       "                                                  Index(['behavioral_antiviral_meds', 'behavioral_avoidance',\n",
       "       'behavioral_face_mask', 'behavioral_wash_hands',\n",
       "       'behavioral_large_gatherings',...\n",
       "                                                  Pipeline(steps=[('num_impute',\n",
       "                                                                   SimpleImputer(strategy='median')),\n",
       "                                                                  ('ss',\n",
       "                                                                   StandardScaler())]),\n",
       "                                                  ['h1n1_concern',\n",
       "                                                   'h1n1_knowledge',\n",
       "                                                   'opinion_h1n1_vacc_effective',\n",
       "                                                   'opinion_h1n1_risk',\n",
       "                                                   'opinion_h1n1_sick_from_vacc',\n",
       "                                                   'opinion_seas_vacc_effective',\n",
       "                                                   'opinion_seas_risk',\n",
       "                                                   'opinion_seas_sick_from_vacc'])])),\n",
       "                ('logreg',\n",
       "                 LogisticRegression(C=0.3, max_iter=5, random_state=42,\n",
       "                                    solver='liblinear'))])"
      ]
     },
     "execution_count": 43,
     "metadata": {},
     "output_type": "execute_result"
    }
   ],
   "source": [
    "# gs_log.best_estimator_"
   ]
  },
  {
   "cell_type": "code",
   "execution_count": 52,
   "metadata": {
    "ExecuteTime": {
     "end_time": "2022-04-21T20:46:52.401915Z",
     "start_time": "2022-04-21T20:46:52.397621Z"
    }
   },
   "outputs": [],
   "source": [
    "# tuned_logreg_pipe = Pipeline(steps=[\n",
    "#     ('ct', ct),\n",
    "#     ('logreg', LogisticRegression(random_state=42, max_iter=5, solver='liblinear', C=.3))\n",
    "# ])"
   ]
  },
  {
   "cell_type": "code",
   "execution_count": 53,
   "metadata": {
    "ExecuteTime": {
     "end_time": "2022-04-21T20:47:05.606414Z",
     "start_time": "2022-04-21T20:46:54.401121Z"
    }
   },
   "outputs": [],
   "source": [
    "# tlog_pipe = ModelWithCV(tuned_logreg_pipe, model_name='tlog_pipe', X=X_train1, y=y_train1)"
   ]
  },
  {
   "cell_type": "code",
   "execution_count": 47,
   "metadata": {
    "ExecuteTime": {
     "end_time": "2022-04-19T16:53:33.252552Z",
     "start_time": "2022-04-19T16:53:24.636651Z"
    },
    "scrolled": true
   },
   "outputs": [
    {
     "name": "stdout",
     "output_type": "stream",
     "text": [
      "CV Results for `tlog_pipe` model:\n",
      "            0.77751 ± 0.01195 accuracy\n",
      "            recall_score: 0.7461571315057609\n",
      "            precision_score: 0.8288517338281706\n",
      "            f1_score: 0.7587960505203576    \n",
      "        \n"
     ]
    }
   ],
   "source": [
    "# tlog_pipe.print_cv_summary()"
   ]
  },
  {
   "cell_type": "markdown",
   "metadata": {},
   "source": [
    "Pickle and save model."
   ]
  },
  {
   "cell_type": "code",
   "execution_count": 48,
   "metadata": {
    "ExecuteTime": {
     "end_time": "2022-04-19T16:53:33.302440Z",
     "start_time": "2022-04-19T16:53:33.253774Z"
    }
   },
   "outputs": [],
   "source": [
    "# tlog_pickle = 'tuned_logreg.sav'\n",
    "# pickle.dump(tlog_pipe, open(tlog_pickle, 'wb'))"
   ]
  },
  {
   "cell_type": "code",
   "execution_count": 40,
   "metadata": {
    "ExecuteTime": {
     "end_time": "2022-04-20T22:15:23.205119Z",
     "start_time": "2022-04-20T22:15:23.171934Z"
    },
    "collapsed": true
   },
   "outputs": [
    {
     "ename": "NameError",
     "evalue": "name 'logreg_model_pipe' is not defined",
     "output_type": "error",
     "traceback": [
      "\u001b[0;31m---------------------------------------------------------------------------\u001b[0m",
      "\u001b[0;31mNameError\u001b[0m                                 Traceback (most recent call last)",
      "\u001b[0;32m<ipython-input-40-87dfa9dcba53>\u001b[0m in \u001b[0;36m<module>\u001b[0;34m\u001b[0m\n\u001b[1;32m      1\u001b[0m \u001b[0;31m# Accessing one-hot encoded feature names\u001b[0m\u001b[0;34m\u001b[0m\u001b[0;34m\u001b[0m\u001b[0;34m\u001b[0m\u001b[0m\n\u001b[0;32m----> 2\u001b[0;31m \u001b[0mohe_col_names\u001b[0m \u001b[0;34m=\u001b[0m \u001b[0mlogreg_model_pipe\u001b[0m\u001b[0;34m.\u001b[0m\u001b[0mnamed_steps\u001b[0m\u001b[0;34m[\u001b[0m\u001b[0;34m'ct'\u001b[0m\u001b[0;34m]\u001b[0m\u001b[0;34m.\u001b[0m\u001b[0mnamed_transformers_\u001b[0m\u001b[0;34m[\u001b[0m\u001b[0;34m'subpipe_cat'\u001b[0m\u001b[0;34m]\u001b[0m\u001b[0;34m[\u001b[0m\u001b[0;34m'ohe'\u001b[0m\u001b[0;34m]\u001b[0m\u001b[0;34m.\u001b[0m\u001b[0mget_feature_names_out\u001b[0m\u001b[0;34m(\u001b[0m\u001b[0;34m)\u001b[0m\u001b[0;34m\u001b[0m\u001b[0;34m\u001b[0m\u001b[0m\n\u001b[0m\u001b[1;32m      3\u001b[0m \u001b[0;34m\u001b[0m\u001b[0m\n\u001b[1;32m      4\u001b[0m \u001b[0;31m# Converting to list\u001b[0m\u001b[0;34m\u001b[0m\u001b[0;34m\u001b[0m\u001b[0;34m\u001b[0m\u001b[0m\n\u001b[1;32m      5\u001b[0m \u001b[0mohe_cat_cols\u001b[0m \u001b[0;34m=\u001b[0m \u001b[0mohe_col_names\u001b[0m\u001b[0;34m.\u001b[0m\u001b[0mtolist\u001b[0m\u001b[0;34m(\u001b[0m\u001b[0;34m)\u001b[0m\u001b[0;34m\u001b[0m\u001b[0;34m\u001b[0m\u001b[0m\n",
      "\u001b[0;31mNameError\u001b[0m: name 'logreg_model_pipe' is not defined"
     ]
    }
   ],
   "source": [
    "# Accessing one-hot encoded feature names\n",
    "ohe_col_names = logreg_model_pipe.named_steps['ct'].named_transformers_['subpipe_cat']['ohe'].get_feature_names_out()\n",
    "\n",
    "# Converting to list\n",
    "ohe_cat_cols = ohe_col_names.tolist()"
   ]
  },
  {
   "cell_type": "code",
   "execution_count": 249,
   "metadata": {
    "ExecuteTime": {
     "end_time": "2022-04-20T19:12:35.238367Z",
     "start_time": "2022-04-20T19:12:35.213244Z"
    },
    "scrolled": true
   },
   "outputs": [
    {
     "data": {
      "text/plain": [
       "['h1n1_concern',\n",
       " 'h1n1_knowledge',\n",
       " 'opinion_h1n1_vacc_effective',\n",
       " 'opinion_h1n1_risk',\n",
       " 'opinion_h1n1_sick_from_vacc',\n",
       " 'opinion_seas_vacc_effective',\n",
       " 'opinion_seas_risk',\n",
       " 'opinion_seas_sick_from_vacc']"
      ]
     },
     "execution_count": 249,
     "metadata": {},
     "output_type": "execute_result"
    }
   ],
   "source": [
    "num_cols"
   ]
  },
  {
   "cell_type": "code",
   "execution_count": 252,
   "metadata": {
    "ExecuteTime": {
     "end_time": "2022-04-20T19:13:59.454415Z",
     "start_time": "2022-04-20T19:13:59.439292Z"
    },
    "scrolled": true
   },
   "outputs": [],
   "source": [
    "post_ct_cols = ohe_cat_cols + num_cols"
   ]
  },
  {
   "cell_type": "markdown",
   "metadata": {},
   "source": [
    "#### Nearest Neighbors Pipeline"
   ]
  },
  {
   "cell_type": "code",
   "execution_count": 49,
   "metadata": {
    "ExecuteTime": {
     "end_time": "2022-04-19T16:53:33.690262Z",
     "start_time": "2022-04-19T16:53:33.303414Z"
    },
    "collapsed": true
   },
   "outputs": [
    {
     "data": {
      "text/html": [
       "<div>\n",
       "<style scoped>\n",
       "    .dataframe tbody tr th:only-of-type {\n",
       "        vertical-align: middle;\n",
       "    }\n",
       "\n",
       "    .dataframe tbody tr th {\n",
       "        vertical-align: top;\n",
       "    }\n",
       "\n",
       "    .dataframe thead th {\n",
       "        text-align: right;\n",
       "    }\n",
       "</style>\n",
       "<table border=\"1\" class=\"dataframe\">\n",
       "  <thead>\n",
       "    <tr style=\"text-align: right;\">\n",
       "      <th></th>\n",
       "      <th>0</th>\n",
       "      <th>1</th>\n",
       "      <th>2</th>\n",
       "      <th>3</th>\n",
       "      <th>4</th>\n",
       "      <th>5</th>\n",
       "      <th>6</th>\n",
       "      <th>7</th>\n",
       "      <th>8</th>\n",
       "      <th>9</th>\n",
       "      <th>...</th>\n",
       "      <th>88</th>\n",
       "      <th>89</th>\n",
       "      <th>90</th>\n",
       "      <th>91</th>\n",
       "      <th>92</th>\n",
       "      <th>93</th>\n",
       "      <th>94</th>\n",
       "      <th>95</th>\n",
       "      <th>96</th>\n",
       "      <th>97</th>\n",
       "    </tr>\n",
       "  </thead>\n",
       "  <tbody>\n",
       "    <tr>\n",
       "      <th>count</th>\n",
       "      <td>17893.000000</td>\n",
       "      <td>17893.000000</td>\n",
       "      <td>17893.000000</td>\n",
       "      <td>17893.000000</td>\n",
       "      <td>17893.000000</td>\n",
       "      <td>17893.000000</td>\n",
       "      <td>17893.000000</td>\n",
       "      <td>17893.000000</td>\n",
       "      <td>17893.000000</td>\n",
       "      <td>17893.000000</td>\n",
       "      <td>...</td>\n",
       "      <td>17893.000000</td>\n",
       "      <td>17893.000000</td>\n",
       "      <td>1.789300e+04</td>\n",
       "      <td>1.789300e+04</td>\n",
       "      <td>1.789300e+04</td>\n",
       "      <td>1.789300e+04</td>\n",
       "      <td>1.789300e+04</td>\n",
       "      <td>1.789300e+04</td>\n",
       "      <td>1.789300e+04</td>\n",
       "      <td>1.789300e+04</td>\n",
       "    </tr>\n",
       "    <tr>\n",
       "      <th>mean</th>\n",
       "      <td>0.048902</td>\n",
       "      <td>0.725591</td>\n",
       "      <td>0.069692</td>\n",
       "      <td>0.821942</td>\n",
       "      <td>0.356564</td>\n",
       "      <td>0.337898</td>\n",
       "      <td>0.675124</td>\n",
       "      <td>0.203487</td>\n",
       "      <td>0.306041</td>\n",
       "      <td>0.275136</td>\n",
       "      <td>...</td>\n",
       "      <td>0.065445</td>\n",
       "      <td>0.009277</td>\n",
       "      <td>2.422350e-17</td>\n",
       "      <td>-1.052332e-16</td>\n",
       "      <td>3.027937e-17</td>\n",
       "      <td>7.981841e-17</td>\n",
       "      <td>-5.956598e-18</td>\n",
       "      <td>5.797756e-17</td>\n",
       "      <td>1.111898e-17</td>\n",
       "      <td>-4.487304e-17</td>\n",
       "    </tr>\n",
       "    <tr>\n",
       "      <th>std</th>\n",
       "      <td>0.215669</td>\n",
       "      <td>0.446228</td>\n",
       "      <td>0.254634</td>\n",
       "      <td>0.382573</td>\n",
       "      <td>0.478998</td>\n",
       "      <td>0.473007</td>\n",
       "      <td>0.468341</td>\n",
       "      <td>0.402603</td>\n",
       "      <td>0.460860</td>\n",
       "      <td>0.446595</td>\n",
       "      <td>...</td>\n",
       "      <td>0.247316</td>\n",
       "      <td>0.095874</td>\n",
       "      <td>1.000028e+00</td>\n",
       "      <td>1.000028e+00</td>\n",
       "      <td>1.000028e+00</td>\n",
       "      <td>1.000028e+00</td>\n",
       "      <td>1.000028e+00</td>\n",
       "      <td>1.000028e+00</td>\n",
       "      <td>1.000028e+00</td>\n",
       "      <td>1.000028e+00</td>\n",
       "    </tr>\n",
       "    <tr>\n",
       "      <th>min</th>\n",
       "      <td>0.000000</td>\n",
       "      <td>0.000000</td>\n",
       "      <td>0.000000</td>\n",
       "      <td>0.000000</td>\n",
       "      <td>0.000000</td>\n",
       "      <td>0.000000</td>\n",
       "      <td>0.000000</td>\n",
       "      <td>0.000000</td>\n",
       "      <td>0.000000</td>\n",
       "      <td>0.000000</td>\n",
       "      <td>...</td>\n",
       "      <td>0.000000</td>\n",
       "      <td>0.000000</td>\n",
       "      <td>-1.788306e+00</td>\n",
       "      <td>-2.049421e+00</td>\n",
       "      <td>-2.853217e+00</td>\n",
       "      <td>-1.051483e+00</td>\n",
       "      <td>-1.002707e+00</td>\n",
       "      <td>-2.833489e+00</td>\n",
       "      <td>-1.245505e+00</td>\n",
       "      <td>-8.452392e-01</td>\n",
       "    </tr>\n",
       "    <tr>\n",
       "      <th>25%</th>\n",
       "      <td>0.000000</td>\n",
       "      <td>0.000000</td>\n",
       "      <td>0.000000</td>\n",
       "      <td>1.000000</td>\n",
       "      <td>0.000000</td>\n",
       "      <td>0.000000</td>\n",
       "      <td>0.000000</td>\n",
       "      <td>0.000000</td>\n",
       "      <td>0.000000</td>\n",
       "      <td>0.000000</td>\n",
       "      <td>...</td>\n",
       "      <td>0.000000</td>\n",
       "      <td>0.000000</td>\n",
       "      <td>-6.865928e-01</td>\n",
       "      <td>-4.259798e-01</td>\n",
       "      <td>-8.528797e-01</td>\n",
       "      <td>-1.051483e+00</td>\n",
       "      <td>-1.002707e+00</td>\n",
       "      <td>-3.039182e-02</td>\n",
       "      <td>-5.188961e-01</td>\n",
       "      <td>-8.452392e-01</td>\n",
       "    </tr>\n",
       "    <tr>\n",
       "      <th>50%</th>\n",
       "      <td>0.000000</td>\n",
       "      <td>1.000000</td>\n",
       "      <td>0.000000</td>\n",
       "      <td>1.000000</td>\n",
       "      <td>0.000000</td>\n",
       "      <td>0.000000</td>\n",
       "      <td>1.000000</td>\n",
       "      <td>0.000000</td>\n",
       "      <td>0.000000</td>\n",
       "      <td>0.000000</td>\n",
       "      <td>...</td>\n",
       "      <td>0.000000</td>\n",
       "      <td>0.000000</td>\n",
       "      <td>4.151205e-01</td>\n",
       "      <td>-4.259798e-01</td>\n",
       "      <td>1.472892e-01</td>\n",
       "      <td>-2.704224e-01</td>\n",
       "      <td>-2.659226e-01</td>\n",
       "      <td>-3.039182e-02</td>\n",
       "      <td>-5.188961e-01</td>\n",
       "      <td>-8.946163e-02</td>\n",
       "    </tr>\n",
       "    <tr>\n",
       "      <th>75%</th>\n",
       "      <td>0.000000</td>\n",
       "      <td>1.000000</td>\n",
       "      <td>0.000000</td>\n",
       "      <td>1.000000</td>\n",
       "      <td>1.000000</td>\n",
       "      <td>1.000000</td>\n",
       "      <td>1.000000</td>\n",
       "      <td>0.000000</td>\n",
       "      <td>1.000000</td>\n",
       "      <td>1.000000</td>\n",
       "      <td>...</td>\n",
       "      <td>0.000000</td>\n",
       "      <td>0.000000</td>\n",
       "      <td>4.151205e-01</td>\n",
       "      <td>1.197462e+00</td>\n",
       "      <td>1.147458e+00</td>\n",
       "      <td>1.291698e+00</td>\n",
       "      <td>1.207646e+00</td>\n",
       "      <td>9.039739e-01</td>\n",
       "      <td>9.343216e-01</td>\n",
       "      <td>-8.946163e-02</td>\n",
       "    </tr>\n",
       "    <tr>\n",
       "      <th>max</th>\n",
       "      <td>1.000000</td>\n",
       "      <td>1.000000</td>\n",
       "      <td>1.000000</td>\n",
       "      <td>1.000000</td>\n",
       "      <td>1.000000</td>\n",
       "      <td>1.000000</td>\n",
       "      <td>1.000000</td>\n",
       "      <td>1.000000</td>\n",
       "      <td>1.000000</td>\n",
       "      <td>1.000000</td>\n",
       "      <td>...</td>\n",
       "      <td>1.000000</td>\n",
       "      <td>1.000000</td>\n",
       "      <td>1.516834e+00</td>\n",
       "      <td>1.197462e+00</td>\n",
       "      <td>1.147458e+00</td>\n",
       "      <td>2.072758e+00</td>\n",
       "      <td>1.944430e+00</td>\n",
       "      <td>9.039739e-01</td>\n",
       "      <td>1.660931e+00</td>\n",
       "      <td>2.177871e+00</td>\n",
       "    </tr>\n",
       "  </tbody>\n",
       "</table>\n",
       "<p>8 rows × 98 columns</p>\n",
       "</div>"
      ],
      "text/plain": [
       "                 0             1             2             3             4   \\\n",
       "count  17893.000000  17893.000000  17893.000000  17893.000000  17893.000000   \n",
       "mean       0.048902      0.725591      0.069692      0.821942      0.356564   \n",
       "std        0.215669      0.446228      0.254634      0.382573      0.478998   \n",
       "min        0.000000      0.000000      0.000000      0.000000      0.000000   \n",
       "25%        0.000000      0.000000      0.000000      1.000000      0.000000   \n",
       "50%        0.000000      1.000000      0.000000      1.000000      0.000000   \n",
       "75%        0.000000      1.000000      0.000000      1.000000      1.000000   \n",
       "max        1.000000      1.000000      1.000000      1.000000      1.000000   \n",
       "\n",
       "                 5             6             7             8             9   \\\n",
       "count  17893.000000  17893.000000  17893.000000  17893.000000  17893.000000   \n",
       "mean       0.337898      0.675124      0.203487      0.306041      0.275136   \n",
       "std        0.473007      0.468341      0.402603      0.460860      0.446595   \n",
       "min        0.000000      0.000000      0.000000      0.000000      0.000000   \n",
       "25%        0.000000      0.000000      0.000000      0.000000      0.000000   \n",
       "50%        0.000000      1.000000      0.000000      0.000000      0.000000   \n",
       "75%        1.000000      1.000000      0.000000      1.000000      1.000000   \n",
       "max        1.000000      1.000000      1.000000      1.000000      1.000000   \n",
       "\n",
       "       ...            88            89            90            91  \\\n",
       "count  ...  17893.000000  17893.000000  1.789300e+04  1.789300e+04   \n",
       "mean   ...      0.065445      0.009277  2.422350e-17 -1.052332e-16   \n",
       "std    ...      0.247316      0.095874  1.000028e+00  1.000028e+00   \n",
       "min    ...      0.000000      0.000000 -1.788306e+00 -2.049421e+00   \n",
       "25%    ...      0.000000      0.000000 -6.865928e-01 -4.259798e-01   \n",
       "50%    ...      0.000000      0.000000  4.151205e-01 -4.259798e-01   \n",
       "75%    ...      0.000000      0.000000  4.151205e-01  1.197462e+00   \n",
       "max    ...      1.000000      1.000000  1.516834e+00  1.197462e+00   \n",
       "\n",
       "                 92            93            94            95            96  \\\n",
       "count  1.789300e+04  1.789300e+04  1.789300e+04  1.789300e+04  1.789300e+04   \n",
       "mean   3.027937e-17  7.981841e-17 -5.956598e-18  5.797756e-17  1.111898e-17   \n",
       "std    1.000028e+00  1.000028e+00  1.000028e+00  1.000028e+00  1.000028e+00   \n",
       "min   -2.853217e+00 -1.051483e+00 -1.002707e+00 -2.833489e+00 -1.245505e+00   \n",
       "25%   -8.528797e-01 -1.051483e+00 -1.002707e+00 -3.039182e-02 -5.188961e-01   \n",
       "50%    1.472892e-01 -2.704224e-01 -2.659226e-01 -3.039182e-02 -5.188961e-01   \n",
       "75%    1.147458e+00  1.291698e+00  1.207646e+00  9.039739e-01  9.343216e-01   \n",
       "max    1.147458e+00  2.072758e+00  1.944430e+00  9.039739e-01  1.660931e+00   \n",
       "\n",
       "                 97  \n",
       "count  1.789300e+04  \n",
       "mean  -4.487304e-17  \n",
       "std    1.000028e+00  \n",
       "min   -8.452392e-01  \n",
       "25%   -8.452392e-01  \n",
       "50%   -8.946163e-02  \n",
       "75%   -8.946163e-02  \n",
       "max    2.177871e+00  \n",
       "\n",
       "[8 rows x 98 columns]"
      ]
     },
     "execution_count": 49,
     "metadata": {},
     "output_type": "execute_result"
    }
   ],
   "source": [
    "# pd.DataFrame(ct.fit_transform(X_train1)).describe()"
   ]
  },
  {
   "cell_type": "code",
   "execution_count": 176,
   "metadata": {
    "ExecuteTime": {
     "end_time": "2022-04-20T16:54:21.762985Z",
     "start_time": "2022-04-20T16:54:21.744539Z"
    }
   },
   "outputs": [],
   "source": [
    "# knn = KNeighborsClassifier()\n",
    "# knn_model_pipe = Pipeline([('ct', ct), ('knn', knn)]) "
   ]
  },
  {
   "cell_type": "code",
   "execution_count": 177,
   "metadata": {
    "ExecuteTime": {
     "end_time": "2022-04-20T16:54:30.767549Z",
     "start_time": "2022-04-20T16:54:22.162255Z"
    }
   },
   "outputs": [],
   "source": [
    "# knn_pipe = ModelWithCV(knn_model_pipe, 'knn_pipe', X_train1, y_train1)"
   ]
  },
  {
   "cell_type": "code",
   "execution_count": 52,
   "metadata": {
    "ExecuteTime": {
     "end_time": "2022-04-19T16:53:41.154684Z",
     "start_time": "2022-04-19T16:53:41.039959Z"
    }
   },
   "outputs": [
    {
     "data": {
      "image/png": "[encoded data removed]",
      "text/plain": [
       "<Figure size 432x288 with 1 Axes>"
      ]
     },
     "metadata": {
      "needs_background": "light"
     },
     "output_type": "display_data"
    }
   ],
   "source": [
    "# fig, ax = plt.subplots()\n",
    "\n",
    "# knn_pipe.plot_cv(ax=ax);"
   ]
  },
  {
   "cell_type": "code",
   "execution_count": 178,
   "metadata": {
    "ExecuteTime": {
     "end_time": "2022-04-20T16:54:53.213044Z",
     "start_time": "2022-04-20T16:54:30.769253Z"
    }
   },
   "outputs": [
    {
     "name": "stdout",
     "output_type": "stream",
     "text": [
      "CV Results for `knn_pipe` model:\n",
      "            0.72230 ± 0.01073 accuracy\n",
      "            recall_score: 0.7126701288381861\n",
      "            precision_score: 0.7137761625386754\n",
      "            f1_score: 0.7065149188240983    \n",
      "        \n"
     ]
    }
   ],
   "source": [
    "# knn_pipe.print_cv_summary()"
   ]
  },
  {
   "cell_type": "markdown",
   "metadata": {},
   "source": [
    "##### Nearest Neighbors Tuning"
   ]
  },
  {
   "cell_type": "code",
   "execution_count": 179,
   "metadata": {
    "ExecuteTime": {
     "end_time": "2022-04-20T16:54:53.218196Z",
     "start_time": "2022-04-20T16:54:53.214614Z"
    }
   },
   "outputs": [],
   "source": [
    "# params = {}\n",
    "\n",
    "# params['knn__metric'] = ['euclidean', 'manhattan']\n",
    "# params['knn__n_neighbors'] = [175, 200, 225]"
   ]
  },
  {
   "cell_type": "code",
   "execution_count": 180,
   "metadata": {
    "ExecuteTime": {
     "end_time": "2022-04-20T16:54:53.221284Z",
     "start_time": "2022-04-20T16:54:53.219467Z"
    }
   },
   "outputs": [],
   "source": [
    "# gs_knn = GridSearchCV(estimator=knn_model_pipe, param_grid=params, cv=10)"
   ]
  },
  {
   "cell_type": "code",
   "execution_count": 181,
   "metadata": {
    "ExecuteTime": {
     "end_time": "2022-04-20T16:56:30.393772Z",
     "start_time": "2022-04-20T16:54:53.222126Z"
    }
   },
   "outputs": [],
   "source": [
    "#gs_knn.fit(X_train1, y_train1);"
   ]
  },
  {
   "cell_type": "code",
   "execution_count": 57,
   "metadata": {
    "ExecuteTime": {
     "end_time": "2022-04-19T16:55:34.215302Z",
     "start_time": "2022-04-19T16:55:34.212125Z"
    }
   },
   "outputs": [
    {
     "data": {
      "text/plain": [
       "array([0.75510101, 0.75470969, 0.75487701, 0.75962733, 0.76085719,\n",
       "       0.75733627])"
      ]
     },
     "execution_count": 57,
     "metadata": {},
     "output_type": "execute_result"
    }
   ],
   "source": [
    "#gs_knn.cv_results_['mean_test_score']"
   ]
  },
  {
   "cell_type": "code",
   "execution_count": 182,
   "metadata": {
    "ExecuteTime": {
     "end_time": "2022-04-20T16:56:30.399366Z",
     "start_time": "2022-04-20T16:56:30.395430Z"
    }
   },
   "outputs": [
    {
     "data": {
      "text/plain": [
       "{'knn__metric': 'manhattan', 'knn__n_neighbors': 200}"
      ]
     },
     "execution_count": 182,
     "metadata": {},
     "output_type": "execute_result"
    }
   ],
   "source": [
    "#gs_knn.best_params_"
   ]
  },
  {
   "cell_type": "markdown",
   "metadata": {
    "ExecuteTime": {
     "end_time": "2022-04-18T16:04:12.083217Z",
     "start_time": "2022-04-18T16:04:12.081059Z"
    }
   },
   "source": [
    "knn best perameters: 'knn__metric': 'manhattan', 'knn__n_neighbors':200"
   ]
  },
  {
   "cell_type": "code",
   "execution_count": 183,
   "metadata": {
    "ExecuteTime": {
     "end_time": "2022-04-20T16:56:30.422805Z",
     "start_time": "2022-04-20T16:56:30.402808Z"
    },
    "collapsed": true
   },
   "outputs": [
    {
     "data": {
      "text/plain": [
       "Pipeline(steps=[('ct',\n",
       "                 ColumnTransformer(transformers=[('subpipe_cat',\n",
       "                                                  Pipeline(steps=[('cat_impute',\n",
       "                                                                   SimpleImputer(strategy='most_frequent')),\n",
       "                                                                  ('ohe',\n",
       "                                                                   OneHotEncoder(drop='first',\n",
       "                                                                                 handle_unknown='ignore',\n",
       "                                                                                 sparse=False))]),\n",
       "                                                  Index(['behavioral_antiviral_meds', 'behavioral_avoidance',\n",
       "       'behavioral_face_mask', 'behavioral_wash_hands',\n",
       "       'behavioral_large_gatherings',...\n",
       "                                                  Pipeline(steps=[('num_impute',\n",
       "                                                                   SimpleImputer(strategy='median')),\n",
       "                                                                  ('ss',\n",
       "                                                                   StandardScaler())]),\n",
       "                                                  ['h1n1_concern',\n",
       "                                                   'h1n1_knowledge',\n",
       "                                                   'opinion_h1n1_vacc_effective',\n",
       "                                                   'opinion_h1n1_risk',\n",
       "                                                   'opinion_h1n1_sick_from_vacc',\n",
       "                                                   'opinion_seas_vacc_effective',\n",
       "                                                   'opinion_seas_risk',\n",
       "                                                   'opinion_seas_sick_from_vacc'])])),\n",
       "                ('knn',\n",
       "                 KNeighborsClassifier(metric='manhattan', n_neighbors=200))])"
      ]
     },
     "execution_count": 183,
     "metadata": {},
     "output_type": "execute_result"
    }
   ],
   "source": [
    "#gs_knn.best_estimator_"
   ]
  },
  {
   "cell_type": "code",
   "execution_count": 59,
   "metadata": {
    "ExecuteTime": {
     "end_time": "2022-04-19T16:55:34.221341Z",
     "start_time": "2022-04-19T16:55:34.219368Z"
    }
   },
   "outputs": [],
   "source": [
    "#tuned_knn_pipe = Pipeline([('ct', ct), ('knn', KNeighborsClassifier(metric='manhattan', n_neighbors=200))]) "
   ]
  },
  {
   "cell_type": "code",
   "execution_count": 60,
   "metadata": {
    "ExecuteTime": {
     "end_time": "2022-04-19T16:55:57.093879Z",
     "start_time": "2022-04-19T16:55:34.222545Z"
    }
   },
   "outputs": [],
   "source": [
    "#tknn_pipe = ModelWithCV(tuned_knn_pipe, 'tknn_pipe', X_train1, y_train1)"
   ]
  },
  {
   "cell_type": "code",
   "execution_count": 62,
   "metadata": {
    "ExecuteTime": {
     "end_time": "2022-04-19T16:57:04.877225Z",
     "start_time": "2022-04-19T16:55:57.159248Z"
    }
   },
   "outputs": [
    {
     "name": "stdout",
     "output_type": "stream",
     "text": [
      "CV Results for `tknn_pipe` model:\n",
      "            0.76086 ± 0.01106 accuracy\n",
      "            recall_score: 0.7558094954310688\n",
      "            precision_score: 0.8099638161731366\n",
      "            f1_score: 0.7478056299135101    \n",
      "        \n"
     ]
    }
   ],
   "source": [
    "#tknn_pipe.print_cv_summary()"
   ]
  },
  {
   "cell_type": "markdown",
   "metadata": {},
   "source": [
    "Pickle and save."
   ]
  },
  {
   "cell_type": "code",
   "execution_count": 63,
   "metadata": {
    "ExecuteTime": {
     "end_time": "2022-04-19T16:57:04.886876Z",
     "start_time": "2022-04-19T16:57:04.878391Z"
    }
   },
   "outputs": [],
   "source": [
    "# tknn_pickle = 'tuned_knn.sav'\n",
    "# pickle.dump(tknn_pipe, open(tknn_pickle, 'wb'))"
   ]
  },
  {
   "cell_type": "markdown",
   "metadata": {},
   "source": [
    "#### Random Forest Pipeline"
   ]
  },
  {
   "cell_type": "code",
   "execution_count": 54,
   "metadata": {
    "ExecuteTime": {
     "end_time": "2022-04-21T20:47:44.186510Z",
     "start_time": "2022-04-21T20:47:44.182449Z"
    }
   },
   "outputs": [],
   "source": [
    "# rfc!\n",
    "rfc = RandomForestClassifier(random_state=42)\n",
    "rfc_model_pipe = Pipeline([('ct', ct), ('rfc', rfc)])"
   ]
  },
  {
   "cell_type": "code",
   "execution_count": 55,
   "metadata": {
    "ExecuteTime": {
     "end_time": "2022-04-21T20:48:42.727775Z",
     "start_time": "2022-04-21T20:47:45.153666Z"
    }
   },
   "outputs": [],
   "source": [
    "forest_pipe = ModelWithCV(rfc_model_pipe, 'forest_pipe', X_train1, y_train1)"
   ]
  },
  {
   "cell_type": "code",
   "execution_count": 62,
   "metadata": {
    "ExecuteTime": {
     "end_time": "2022-04-21T21:03:03.461160Z",
     "start_time": "2022-04-21T21:03:03.433722Z"
    }
   },
   "outputs": [],
   "source": [
    "forest_pickle = '../forest.sav'\n",
    "pickle.dump(forest_pipe, open(forest_pickle, 'wb'))"
   ]
  },
  {
   "cell_type": "code",
   "execution_count": 57,
   "metadata": {
    "ExecuteTime": {
     "end_time": "2022-04-21T20:48:54.111424Z",
     "start_time": "2022-04-21T20:48:54.107942Z"
    },
    "scrolled": true
   },
   "outputs": [
    {
     "name": "stdout",
     "output_type": "stream",
     "text": [
      "CV Results for `forest_pipe` model:\n",
      "            0.77153 ± 0.01219 accuracy\n",
      "            recall_score: 0.7391263692604574\n",
      "            precision_score: 0.8263930425720363\n",
      "            f1_score: 0.7521140408449998    \n",
      "        \n"
     ]
    }
   ],
   "source": [
    "forest_pipe.print_cv_summary()"
   ]
  },
  {
   "cell_type": "markdown",
   "metadata": {},
   "source": [
    "##### Random Forest Tuning"
   ]
  },
  {
   "cell_type": "code",
   "execution_count": 166,
   "metadata": {
    "ExecuteTime": {
     "end_time": "2022-04-20T16:29:11.517098Z",
     "start_time": "2022-04-20T16:29:11.501818Z"
    }
   },
   "outputs": [],
   "source": [
    "params = {}\n",
    "\n",
    "params['rfc__max_features'] = ['sqrt']\n",
    "params['rfc__n_estimators'] = [1000, 1250, 1500]"
   ]
  },
  {
   "cell_type": "code",
   "execution_count": 167,
   "metadata": {
    "ExecuteTime": {
     "end_time": "2022-04-20T16:29:11.739336Z",
     "start_time": "2022-04-20T16:29:11.723315Z"
    }
   },
   "outputs": [],
   "source": [
    "gs_rfc = GridSearchCV(estimator=rfc_model_pipe, param_grid=params, cv=10)"
   ]
  },
  {
   "cell_type": "code",
   "execution_count": 168,
   "metadata": {
    "ExecuteTime": {
     "end_time": "2022-04-20T16:38:31.805789Z",
     "start_time": "2022-04-20T16:29:12.022798Z"
    }
   },
   "outputs": [],
   "source": [
    "gs_rfc.fit(X_train1, y_train1); #11m"
   ]
  },
  {
   "cell_type": "code",
   "execution_count": 169,
   "metadata": {
    "ExecuteTime": {
     "end_time": "2022-04-20T16:38:31.822561Z",
     "start_time": "2022-04-20T16:38:31.809250Z"
    }
   },
   "outputs": [
    {
     "data": {
      "text/plain": [
       "array([0.77689743, 0.77728839, 0.77656192])"
      ]
     },
     "execution_count": 169,
     "metadata": {},
     "output_type": "execute_result"
    }
   ],
   "source": [
    "gs_rfc.cv_results_['mean_test_score']"
   ]
  },
  {
   "cell_type": "code",
   "execution_count": 170,
   "metadata": {
    "ExecuteTime": {
     "end_time": "2022-04-20T16:38:31.831044Z",
     "start_time": "2022-04-20T16:38:31.825680Z"
    }
   },
   "outputs": [
    {
     "data": {
      "text/plain": [
       "{'rfc__max_features': 'sqrt', 'rfc__n_estimators': 1250}"
      ]
     },
     "execution_count": 170,
     "metadata": {},
     "output_type": "execute_result"
    }
   ],
   "source": [
    "gs_rfc.best_params_"
   ]
  },
  {
   "cell_type": "markdown",
   "metadata": {},
   "source": [
    "Random Forest best params: 'rfc__max_features': 'sqrt', 'rfc__n_estimators': 1250"
   ]
  },
  {
   "cell_type": "code",
   "execution_count": 58,
   "metadata": {
    "ExecuteTime": {
     "end_time": "2022-04-21T20:49:23.329583Z",
     "start_time": "2022-04-21T20:49:23.325216Z"
    }
   },
   "outputs": [],
   "source": [
    "rfc = RandomForestClassifier(random_state=42)\n",
    "tuned_rfc_pipe = Pipeline([('ct', ct), ('rfc', RandomForestClassifier(random_state=42, max_features='sqrt', n_estimators=1250))])"
   ]
  },
  {
   "cell_type": "code",
   "execution_count": 59,
   "metadata": {
    "ExecuteTime": {
     "end_time": "2022-04-21T20:59:46.775490Z",
     "start_time": "2022-04-21T20:49:25.048186Z"
    }
   },
   "outputs": [],
   "source": [
    "tforest_pipe = ModelWithCV(tuned_rfc_pipe, 'tforest_pipe', X_train1, y_train1) #10m 35s"
   ]
  },
  {
   "cell_type": "code",
   "execution_count": 60,
   "metadata": {
    "ExecuteTime": {
     "end_time": "2022-04-21T21:02:35.538972Z",
     "start_time": "2022-04-21T21:02:35.531120Z"
    }
   },
   "outputs": [
    {
     "name": "stdout",
     "output_type": "stream",
     "text": [
      "CV Results for `tforest_pipe` model:\n",
      "            0.77706 ± 0.01164 accuracy\n",
      "            recall_score: 0.7499721891140246\n",
      "            precision_score: 0.8336055852918713\n",
      "            f1_score: 0.759324132932402    \n",
      "        \n"
     ]
    }
   ],
   "source": [
    "tforest_pipe.print_cv_summary() #6.5m"
   ]
  },
  {
   "cell_type": "markdown",
   "metadata": {},
   "source": [
    "Pickle and save."
   ]
  },
  {
   "cell_type": "code",
   "execution_count": 61,
   "metadata": {
    "ExecuteTime": {
     "end_time": "2022-04-21T21:02:40.475620Z",
     "start_time": "2022-04-21T21:02:40.449517Z"
    }
   },
   "outputs": [],
   "source": [
    "tforest_pickle = '../tuned_forest.sav'\n",
    "pickle.dump(tforest_pipe, open(tforest_pickle, 'wb'))"
   ]
  },
  {
   "cell_type": "markdown",
   "metadata": {},
   "source": [
    "#### Gradient Booster"
   ]
  },
  {
   "cell_type": "code",
   "execution_count": 78,
   "metadata": {
    "ExecuteTime": {
     "end_time": "2022-04-19T17:19:36.400418Z",
     "start_time": "2022-04-19T17:19:36.397378Z"
    }
   },
   "outputs": [],
   "source": [
    "# gbc = GradientBoostingClassifier(random_state=42)\n",
    "# gbc_model_pipe = Pipeline([('ct', ct), ('gbc', gbc)])"
   ]
  },
  {
   "cell_type": "code",
   "execution_count": 79,
   "metadata": {
    "ExecuteTime": {
     "end_time": "2022-04-19T17:20:00.896803Z",
     "start_time": "2022-04-19T17:19:36.401395Z"
    }
   },
   "outputs": [],
   "source": [
    "# boost_pipe = ModelWithCV(model=gbc_model_pipe,\n",
    "#                          model_name='boost_pipe',\n",
    "#                          X=X_train1,\n",
    "#                          y=y_train1)"
   ]
  },
  {
   "cell_type": "code",
   "execution_count": 81,
   "metadata": {
    "ExecuteTime": {
     "end_time": "2022-04-19T17:21:12.642782Z",
     "start_time": "2022-04-19T17:20:00.979337Z"
    }
   },
   "outputs": [
    {
     "name": "stdout",
     "output_type": "stream",
     "text": [
      "CV Results for `boost_pipe` model:\n",
      "            0.78008 ± 0.01134 accuracy\n",
      "            recall_score: 0.750687468074238\n",
      "            precision_score: 0.8334631002183975\n",
      "            f1_score: 0.7620078356718321    \n",
      "        \n"
     ]
    }
   ],
   "source": [
    "#boost_pipe.print_cv_summary()"
   ]
  },
  {
   "cell_type": "markdown",
   "metadata": {},
   "source": [
    "##### Gradient Booster Tuning"
   ]
  },
  {
   "cell_type": "code",
   "execution_count": 82,
   "metadata": {
    "ExecuteTime": {
     "end_time": "2022-04-19T17:21:12.645802Z",
     "start_time": "2022-04-19T17:21:12.643841Z"
    }
   },
   "outputs": [],
   "source": [
    "# params = {}\n",
    "\n",
    "# params['gbc__learning_rate'] = [.025, .05, .1]\n",
    "# params['gbc__n_estimators'] = [300, 350, 400]"
   ]
  },
  {
   "cell_type": "code",
   "execution_count": 83,
   "metadata": {
    "ExecuteTime": {
     "end_time": "2022-04-19T17:21:12.648294Z",
     "start_time": "2022-04-19T17:21:12.646697Z"
    }
   },
   "outputs": [],
   "source": [
    "#gs_gbc = GridSearchCV(estimator=gbc_model_pipe, param_grid=params, cv=10)"
   ]
  },
  {
   "cell_type": "code",
   "execution_count": 84,
   "metadata": {
    "ExecuteTime": {
     "end_time": "2022-04-19T17:33:00.602616Z",
     "start_time": "2022-04-19T17:21:12.649116Z"
    }
   },
   "outputs": [],
   "source": [
    "#gs_gbc.fit(X_train1, y_train1);"
   ]
  },
  {
   "cell_type": "code",
   "execution_count": 85,
   "metadata": {
    "ExecuteTime": {
     "end_time": "2022-04-19T17:33:00.607031Z",
     "start_time": "2022-04-19T17:33:00.603971Z"
    }
   },
   "outputs": [
    {
     "data": {
      "text/plain": [
       "array([0.77807099, 0.77874153, 0.78047428, 0.78075399, 0.78148031,\n",
       "       0.78058583, 0.78047403, 0.78075339, 0.77974759])"
      ]
     },
     "execution_count": 85,
     "metadata": {},
     "output_type": "execute_result"
    }
   ],
   "source": [
    "#gs_gbc.cv_results_['mean_test_score']"
   ]
  },
  {
   "cell_type": "code",
   "execution_count": 86,
   "metadata": {
    "ExecuteTime": {
     "end_time": "2022-04-19T17:33:00.611188Z",
     "start_time": "2022-04-19T17:33:00.607919Z"
    }
   },
   "outputs": [
    {
     "data": {
      "text/plain": [
       "{'gbc__learning_rate': 0.05, 'gbc__n_estimators': 350}"
      ]
     },
     "execution_count": 86,
     "metadata": {},
     "output_type": "execute_result"
    }
   ],
   "source": [
    "#gs_gbc.best_params_"
   ]
  },
  {
   "cell_type": "markdown",
   "metadata": {},
   "source": [
    "Gradient Booster best parmeters: 'gbc__learning_rate': 0.05, 'gbc__n_estimators': 350"
   ]
  },
  {
   "cell_type": "code",
   "execution_count": 89,
   "metadata": {
    "ExecuteTime": {
     "end_time": "2022-04-19T17:38:37.724117Z",
     "start_time": "2022-04-19T17:38:37.711198Z"
    }
   },
   "outputs": [],
   "source": [
    "# gbc = GradientBoostingClassifier(random_state=42, learning_rate=.05, n_estimators=350)\n",
    "# tuned_gbc_pipe = Pipeline([('ct', ct), ('gbc', gbc)])"
   ]
  },
  {
   "cell_type": "code",
   "execution_count": 90,
   "metadata": {
    "ExecuteTime": {
     "end_time": "2022-04-19T17:39:55.483636Z",
     "start_time": "2022-04-19T17:38:37.727685Z"
    }
   },
   "outputs": [],
   "source": [
    "# tgbc_pipe = ModelWithCV(model=tuned_gbc_pipe,\n",
    "#                          model_name='tgbc_pipe',\n",
    "#                          X=X_train1,\n",
    "#                          y=y_train1)"
   ]
  },
  {
   "cell_type": "code",
   "execution_count": 92,
   "metadata": {
    "ExecuteTime": {
     "end_time": "2022-04-19T17:43:46.976209Z",
     "start_time": "2022-04-19T17:39:55.555210Z"
    }
   },
   "outputs": [
    {
     "name": "stdout",
     "output_type": "stream",
     "text": [
      "CV Results for `tgbc_pipe` model:\n",
      "            0.78148 ± 0.01160 accuracy\n",
      "            recall_score: 0.7530704069470457\n",
      "            precision_score: 0.8352472411012861\n",
      "            f1_score: 0.7637401536031916    \n",
      "        \n"
     ]
    }
   ],
   "source": [
    "#tgbc_pipe.print_cv_summary()"
   ]
  },
  {
   "cell_type": "markdown",
   "metadata": {},
   "source": [
    "Pickle and save"
   ]
  },
  {
   "cell_type": "code",
   "execution_count": 93,
   "metadata": {
    "ExecuteTime": {
     "end_time": "2022-04-19T17:43:46.988855Z",
     "start_time": "2022-04-19T17:43:46.977386Z"
    }
   },
   "outputs": [],
   "source": [
    "# tgbc_pickle = 'tuned_gboost.sav'\n",
    "# pickle.dump(tgbc_pipe, open(tgbc_pickle, 'wb'))"
   ]
  },
  {
   "cell_type": "markdown",
   "metadata": {},
   "source": [
    "#### AdaBoost "
   ]
  },
  {
   "cell_type": "code",
   "execution_count": 191,
   "metadata": {
    "ExecuteTime": {
     "end_time": "2022-04-20T17:15:25.548075Z",
     "start_time": "2022-04-20T17:15:25.531506Z"
    }
   },
   "outputs": [],
   "source": [
    "# ada = AdaBoostClassifier()\n",
    "# ada_model_pipe = Pipeline([('ct', ct), ('ada', ada)])"
   ]
  },
  {
   "cell_type": "code",
   "execution_count": 192,
   "metadata": {
    "ExecuteTime": {
     "end_time": "2022-04-20T17:15:34.981176Z",
     "start_time": "2022-04-20T17:15:25.794154Z"
    }
   },
   "outputs": [],
   "source": [
    "# ada_pipe = ModelWithCV(model=ada_model_pipe,\n",
    "#                          model_name='ada_pipe',\n",
    "#                          X=X_train1,\n",
    "#                          y=y_train1) #8s"
   ]
  },
  {
   "cell_type": "code",
   "execution_count": 193,
   "metadata": {
    "ExecuteTime": {
     "end_time": "2022-04-20T17:15:59.771688Z",
     "start_time": "2022-04-20T17:15:34.987251Z"
    },
    "scrolled": true
   },
   "outputs": [
    {
     "name": "stdout",
     "output_type": "stream",
     "text": [
      "CV Results for `ada_pipe` model:\n",
      "            0.77723 ± 0.01395 accuracy\n",
      "            recall_score: 0.7368603496225666\n",
      "            precision_score: 0.8289267340215444\n",
      "            f1_score: 0.7562475848416511    \n",
      "        \n"
     ]
    }
   ],
   "source": [
    "#ada_pipe.print_cv_summary() #23s"
   ]
  },
  {
   "cell_type": "markdown",
   "metadata": {},
   "source": [
    "##### Adaboost Tuning"
   ]
  },
  {
   "cell_type": "code",
   "execution_count": 213,
   "metadata": {
    "ExecuteTime": {
     "end_time": "2022-04-20T17:44:17.599578Z",
     "start_time": "2022-04-20T17:44:17.585719Z"
    }
   },
   "outputs": [],
   "source": [
    "# params = {}\n",
    "\n",
    "# params['ada__learning_rate'] = [1, 1.25, 1.5]\n",
    "# params['ada__n_estimators'] = [150, 200, 225]"
   ]
  },
  {
   "cell_type": "code",
   "execution_count": 214,
   "metadata": {
    "ExecuteTime": {
     "end_time": "2022-04-20T17:44:17.715646Z",
     "start_time": "2022-04-20T17:44:17.711616Z"
    }
   },
   "outputs": [],
   "source": [
    "#gs_ada = GridSearchCV(estimator=ada_model_pipe, param_grid=params, cv=10)"
   ]
  },
  {
   "cell_type": "code",
   "execution_count": 215,
   "metadata": {
    "ExecuteTime": {
     "end_time": "2022-04-20T17:48:11.286601Z",
     "start_time": "2022-04-20T17:44:17.903530Z"
    }
   },
   "outputs": [],
   "source": [
    "#gs_ada.fit(X_train1, y_train1); #5m"
   ]
  },
  {
   "cell_type": "code",
   "execution_count": 101,
   "metadata": {
    "ExecuteTime": {
     "end_time": "2022-04-19T17:49:17.486998Z",
     "start_time": "2022-04-19T17:49:17.477419Z"
    }
   },
   "outputs": [
    {
     "data": {
      "text/plain": [
       "array([0.77846224, 0.77857394, 0.77807092, 0.77790308, 0.77818241,\n",
       "       0.77885311, 0.77896487, 0.77879727, 0.77885314])"
      ]
     },
     "execution_count": 101,
     "metadata": {},
     "output_type": "execute_result"
    }
   ],
   "source": [
    "#gs_ada.cv_results_['mean_test_score']"
   ]
  },
  {
   "cell_type": "code",
   "execution_count": 216,
   "metadata": {
    "ExecuteTime": {
     "end_time": "2022-04-20T17:48:11.293485Z",
     "start_time": "2022-04-20T17:48:11.289068Z"
    },
    "scrolled": true
   },
   "outputs": [
    {
     "data": {
      "text/plain": [
       "{'ada__learning_rate': 1.25, 'ada__n_estimators': 200}"
      ]
     },
     "execution_count": 216,
     "metadata": {},
     "output_type": "execute_result"
    }
   ],
   "source": [
    "#gs_ada.best_params_"
   ]
  },
  {
   "cell_type": "markdown",
   "metadata": {},
   "source": [
    "Adaboost best parameters: 'ada__learning_rate': 1.25, 'ada__n_estimators': 200"
   ]
  },
  {
   "cell_type": "code",
   "execution_count": 198,
   "metadata": {
    "ExecuteTime": {
     "end_time": "2022-04-20T17:19:51.375770Z",
     "start_time": "2022-04-20T17:19:51.346997Z"
    },
    "collapsed": true
   },
   "outputs": [
    {
     "data": {
      "text/plain": [
       "Pipeline(steps=[('ct',\n",
       "                 ColumnTransformer(transformers=[('subpipe_cat',\n",
       "                                                  Pipeline(steps=[('cat_impute',\n",
       "                                                                   SimpleImputer(strategy='most_frequent')),\n",
       "                                                                  ('ohe',\n",
       "                                                                   OneHotEncoder(drop='first',\n",
       "                                                                                 handle_unknown='ignore',\n",
       "                                                                                 sparse=False))]),\n",
       "                                                  Index(['behavioral_antiviral_meds', 'behavioral_avoidance',\n",
       "       'behavioral_face_mask', 'behavioral_wash_hands',\n",
       "       'behavioral_large_gatherings',...\n",
       "                                                  Pipeline(steps=[('num_impute',\n",
       "                                                                   SimpleImputer(strategy='median')),\n",
       "                                                                  ('ss',\n",
       "                                                                   StandardScaler())]),\n",
       "                                                  ['h1n1_concern',\n",
       "                                                   'h1n1_knowledge',\n",
       "                                                   'opinion_h1n1_vacc_effective',\n",
       "                                                   'opinion_h1n1_risk',\n",
       "                                                   'opinion_h1n1_sick_from_vacc',\n",
       "                                                   'opinion_seas_vacc_effective',\n",
       "                                                   'opinion_seas_risk',\n",
       "                                                   'opinion_seas_sick_from_vacc'])])),\n",
       "                ('ada',\n",
       "                 AdaBoostClassifier(learning_rate=1.25, n_estimators=200))])"
      ]
     },
     "execution_count": 198,
     "metadata": {},
     "output_type": "execute_result"
    }
   ],
   "source": [
    "#gs_ada.best_estimator_"
   ]
  },
  {
   "cell_type": "code",
   "execution_count": 217,
   "metadata": {
    "ExecuteTime": {
     "end_time": "2022-04-20T17:51:43.389889Z",
     "start_time": "2022-04-20T17:51:43.378399Z"
    }
   },
   "outputs": [],
   "source": [
    "#tuned_ada_pipe = Pipeline([('ct', ct), ('ada', AdaBoostClassifier(learning_rate=1.25, n_estimators=200))])"
   ]
  },
  {
   "cell_type": "code",
   "execution_count": 218,
   "metadata": {
    "ExecuteTime": {
     "end_time": "2022-04-20T17:52:12.026758Z",
     "start_time": "2022-04-20T17:51:45.616519Z"
    }
   },
   "outputs": [],
   "source": [
    "# tada_pipe = ModelWithCV(model=tuned_ada_pipe,\n",
    "#                          model_name='tada_pipe',\n",
    "#                          X=X_train1,\n",
    "#                          y=y_train1) #42s"
   ]
  },
  {
   "cell_type": "code",
   "execution_count": 219,
   "metadata": {
    "ExecuteTime": {
     "end_time": "2022-04-20T17:53:31.521982Z",
     "start_time": "2022-04-20T17:52:12.029329Z"
    }
   },
   "outputs": [
    {
     "name": "stdout",
     "output_type": "stream",
     "text": [
      "CV Results for `tada_pipe` model:\n",
      "            0.77958 ± 0.01133 accuracy\n",
      "            recall_score: 0.7396024178443725\n",
      "            precision_score: 0.8310824545310005\n",
      "            f1_score: 0.7588925692310653    \n",
      "        \n"
     ]
    }
   ],
   "source": [
    "#tada_pipe.print_cv_summary() #2m 5s"
   ]
  },
  {
   "cell_type": "markdown",
   "metadata": {},
   "source": [
    "Pickle and save."
   ]
  },
  {
   "cell_type": "code",
   "execution_count": 220,
   "metadata": {
    "ExecuteTime": {
     "end_time": "2022-04-20T17:53:31.544127Z",
     "start_time": "2022-04-20T17:53:31.524046Z"
    }
   },
   "outputs": [],
   "source": [
    "# tada_pickle = 'tuned_ada.sav'\n",
    "# pickle.dump(tada_pipe, open(tada_pickle, 'wb'))"
   ]
  },
  {
   "cell_type": "markdown",
   "metadata": {},
   "source": [
    "#### XGBoost "
   ]
  },
  {
   "cell_type": "code",
   "execution_count": 121,
   "metadata": {
    "ExecuteTime": {
     "end_time": "2022-04-19T18:03:43.158902Z",
     "start_time": "2022-04-19T18:03:43.151618Z"
    }
   },
   "outputs": [],
   "source": [
    "# xgb = xgboost.XGBClassifier(random_state=42, n_jobs=-1)\n",
    "# xgb_model_pipe = Pipeline([('ct', ct), ('xgb', xgb)])"
   ]
  },
  {
   "cell_type": "code",
   "execution_count": 122,
   "metadata": {
    "ExecuteTime": {
     "end_time": "2022-04-19T18:04:51.406345Z",
     "start_time": "2022-04-19T18:03:43.872344Z"
    }
   },
   "outputs": [],
   "source": [
    "# xgb_pipe = ModelWithCV(model=xgb_model_pipe,\n",
    "#                          model_name='xgb_pipe',\n",
    "#                          X=X_train1,\n",
    "#                          y=y_train1)"
   ]
  },
  {
   "cell_type": "code",
   "execution_count": 124,
   "metadata": {
    "ExecuteTime": {
     "end_time": "2022-04-19T18:15:09.709100Z",
     "start_time": "2022-04-19T18:04:51.493669Z"
    }
   },
   "outputs": [
    {
     "name": "stdout",
     "output_type": "stream",
     "text": [
      "CV Results for `xgb_pipe` model:\n",
      "            0.77058 ± 0.01081 accuracy\n",
      "            recall_score: 0.7469921675463989\n",
      "            precision_score: 0.8215447795616466\n",
      "            f1_score: 0.7533516795955586    \n",
      "        \n"
     ]
    }
   ],
   "source": [
    "# xgb_pipe.print_cv_summary()"
   ]
  },
  {
   "cell_type": "markdown",
   "metadata": {},
   "source": [
    "##### XGBoost Tuning"
   ]
  },
  {
   "cell_type": "code",
   "execution_count": 125,
   "metadata": {
    "ExecuteTime": {
     "end_time": "2022-04-19T18:16:24.685844Z",
     "start_time": "2022-04-19T18:16:24.677583Z"
    }
   },
   "outputs": [],
   "source": [
    "# params = {}\n",
    "\n",
    "# params['xgb__learning_rate'] = [.01, .05, .1]\n",
    "# params['xgb__n_estimators'] = [100, 150, 200]"
   ]
  },
  {
   "cell_type": "code",
   "execution_count": 128,
   "metadata": {
    "ExecuteTime": {
     "end_time": "2022-04-19T18:57:47.075548Z",
     "start_time": "2022-04-19T18:57:47.058950Z"
    }
   },
   "outputs": [],
   "source": [
    "#gs_xgb = GridSearchCV(estimator=xgb_model_pipe, param_grid=params, cv=10)"
   ]
  },
  {
   "cell_type": "code",
   "execution_count": 129,
   "metadata": {
    "ExecuteTime": {
     "end_time": "2022-04-19T19:12:50.811369Z",
     "start_time": "2022-04-19T18:57:47.078567Z"
    },
    "scrolled": false
   },
   "outputs": [],
   "source": [
    "#gs_xgb.fit(X_train1, y_train1);"
   ]
  },
  {
   "cell_type": "code",
   "execution_count": 130,
   "metadata": {
    "ExecuteTime": {
     "end_time": "2022-04-19T19:12:50.822551Z",
     "start_time": "2022-04-19T19:12:50.813287Z"
    }
   },
   "outputs": [
    {
     "data": {
      "text/plain": [
       "array([0.76834626, 0.77046994, 0.7716435 , 0.77924467, 0.78058601,\n",
       "       0.77941224, 0.78041839, 0.77952416, 0.77600289])"
      ]
     },
     "execution_count": 130,
     "metadata": {},
     "output_type": "execute_result"
    }
   ],
   "source": [
    "#gs_xgb.cv_results_['mean_test_score']"
   ]
  },
  {
   "cell_type": "code",
   "execution_count": 131,
   "metadata": {
    "ExecuteTime": {
     "end_time": "2022-04-19T19:12:50.825842Z",
     "start_time": "2022-04-19T19:12:50.823792Z"
    }
   },
   "outputs": [
    {
     "data": {
      "text/plain": [
       "{'xgb__learning_rate': 0.05, 'xgb__n_estimators': 150}"
      ]
     },
     "execution_count": 131,
     "metadata": {},
     "output_type": "execute_result"
    }
   ],
   "source": [
    "#gs_xgb.best_params_"
   ]
  },
  {
   "cell_type": "markdown",
   "metadata": {},
   "source": [
    "Best parameters XGBoost: learning rate: .05, n_estimators: 150"
   ]
  },
  {
   "cell_type": "code",
   "execution_count": 132,
   "metadata": {
    "ExecuteTime": {
     "end_time": "2022-04-19T19:12:50.861018Z",
     "start_time": "2022-04-19T19:12:50.827863Z"
    },
    "collapsed": true
   },
   "outputs": [
    {
     "data": {
      "text/plain": [
       "Pipeline(steps=[('ct',\n",
       "                 ColumnTransformer(transformers=[('subpipe_cat',\n",
       "                                                  Pipeline(steps=[('cat_impute',\n",
       "                                                                   SimpleImputer(strategy='most_frequent')),\n",
       "                                                                  ('ohe',\n",
       "                                                                   OneHotEncoder(drop='first',\n",
       "                                                                                 handle_unknown='ignore',\n",
       "                                                                                 sparse=False))]),\n",
       "                                                  Index(['behavioral_antiviral_meds', 'behavioral_avoidance',\n",
       "       'behavioral_face_mask', 'behavioral_wash_hands',\n",
       "       'behavioral_large_gatherings',...\n",
       "                               colsample_bytree=1, gamma=0, gpu_id=-1,\n",
       "                               importance_type='gain',\n",
       "                               interaction_constraints='', learning_rate=0.05,\n",
       "                               max_delta_step=0, max_depth=6,\n",
       "                               min_child_weight=1, missing=nan,\n",
       "                               monotone_constraints='()', n_estimators=150,\n",
       "                               n_jobs=-1, num_parallel_tree=1, random_state=42,\n",
       "                               reg_alpha=0, reg_lambda=1, scale_pos_weight=1,\n",
       "                               subsample=1, tree_method='exact',\n",
       "                               validate_parameters=1, verbosity=None))])"
      ]
     },
     "execution_count": 132,
     "metadata": {},
     "output_type": "execute_result"
    }
   ],
   "source": [
    "#gs_xgb.best_estimator_"
   ]
  },
  {
   "cell_type": "code",
   "execution_count": 133,
   "metadata": {
    "ExecuteTime": {
     "end_time": "2022-04-19T19:12:50.866092Z",
     "start_time": "2022-04-19T19:12:50.862548Z"
    }
   },
   "outputs": [],
   "source": [
    "#tuned_xgb_pipe = Pipeline([('ct', ct), ('xgb', xgboost.XGBClassifier(random_state=42, learning_rate=.05, n_estimators=150))])"
   ]
  },
  {
   "cell_type": "code",
   "execution_count": 134,
   "metadata": {
    "ExecuteTime": {
     "end_time": "2022-04-19T19:14:30.948323Z",
     "start_time": "2022-04-19T19:12:50.867902Z"
    }
   },
   "outputs": [],
   "source": [
    "# txgb_pipe = ModelWithCV(model=tuned_xgb_pipe,\n",
    "#                          model_name='txgb_pipe',\n",
    "#                          X=X_train1,\n",
    "#                          y=y_train1)"
   ]
  },
  {
   "cell_type": "code",
   "execution_count": 136,
   "metadata": {
    "ExecuteTime": {
     "end_time": "2022-04-19T19:19:28.619760Z",
     "start_time": "2022-04-19T19:14:31.064291Z"
    }
   },
   "outputs": [
    {
     "name": "stdout",
     "output_type": "stream",
     "text": [
      "CV Results for `txgb_pipe` model:\n",
      "            0.78059 ± 0.01259 accuracy\n",
      "            recall_score: 0.7530699812702195\n",
      "            precision_score: 0.8342093756891588\n",
      "            f1_score: 0.763022810754403    \n",
      "        \n"
     ]
    }
   ],
   "source": [
    "#txgb_pipe.print_cv_summary()"
   ]
  },
  {
   "cell_type": "markdown",
   "metadata": {},
   "source": [
    "Pickle and save."
   ]
  },
  {
   "cell_type": "code",
   "execution_count": 137,
   "metadata": {
    "ExecuteTime": {
     "end_time": "2022-04-19T19:19:28.640852Z",
     "start_time": "2022-04-19T19:19:28.620956Z"
    }
   },
   "outputs": [],
   "source": [
    "# txgb_pickle = 'tuned_xgb.sav'\n",
    "# pickle.dump(txgb_pipe, open(txgb_pickle, 'wb'))"
   ]
  },
  {
   "cell_type": "markdown",
   "metadata": {},
   "source": [
    "#### Extra Trees Classifier"
   ]
  },
  {
   "cell_type": "code",
   "execution_count": 63,
   "metadata": {
    "ExecuteTime": {
     "end_time": "2022-04-21T21:05:17.958857Z",
     "start_time": "2022-04-21T21:05:17.951241Z"
    }
   },
   "outputs": [],
   "source": [
    "etc = ExtraTreesClassifier(max_features='sqrt', max_samples=.5, bootstrap=True, random_state=42)\n",
    "etc_model_pipe = Pipeline([('ct', ct), ('etc', etc)])"
   ]
  },
  {
   "cell_type": "code",
   "execution_count": 64,
   "metadata": {
    "ExecuteTime": {
     "end_time": "2022-04-21T21:05:55.412550Z",
     "start_time": "2022-04-21T21:05:18.948748Z"
    }
   },
   "outputs": [],
   "source": [
    "etc_pipe = ModelWithCV(model=etc_model_pipe,\n",
    "                         model_name='etc_pipe',\n",
    "                         X=X_train1,\n",
    "                         y=y_train1) #10s"
   ]
  },
  {
   "cell_type": "code",
   "execution_count": 65,
   "metadata": {
    "ExecuteTime": {
     "end_time": "2022-04-21T21:06:08.444788Z",
     "start_time": "2022-04-21T21:06:08.439304Z"
    },
    "scrolled": true
   },
   "outputs": [
    {
     "name": "stdout",
     "output_type": "stream",
     "text": [
      "CV Results for `etc_pipe` model:\n",
      "            0.77058 ± 0.01184 accuracy\n",
      "            recall_score: 0.733285941313355\n",
      "            precision_score: 0.8226913437164194\n",
      "            f1_score: 0.7498575863366292    \n",
      "        \n"
     ]
    }
   ],
   "source": [
    "etc_pipe.print_cv_summary() #28s"
   ]
  },
  {
   "cell_type": "code",
   "execution_count": 67,
   "metadata": {
    "ExecuteTime": {
     "end_time": "2022-04-21T21:06:19.670612Z",
     "start_time": "2022-04-21T21:06:19.645476Z"
    }
   },
   "outputs": [],
   "source": [
    "etc_pickle = '../etc.sav'\n",
    "pickle.dump(etc_pipe, open(etc_pickle, 'wb'))"
   ]
  },
  {
   "cell_type": "markdown",
   "metadata": {},
   "source": [
    "##### Extra Trees Tuning"
   ]
  },
  {
   "cell_type": "code",
   "execution_count": 204,
   "metadata": {
    "ExecuteTime": {
     "end_time": "2022-04-20T17:25:10.327016Z",
     "start_time": "2022-04-20T17:25:10.324659Z"
    }
   },
   "outputs": [],
   "source": [
    "params = {}\n",
    "\n",
    "params['etc__max_depth'] = [25, 50, 100]\n",
    "params['etc__n_estimators'] = [250, 500, 750]"
   ]
  },
  {
   "cell_type": "code",
   "execution_count": 205,
   "metadata": {
    "ExecuteTime": {
     "end_time": "2022-04-20T17:25:10.332412Z",
     "start_time": "2022-04-20T17:25:10.330736Z"
    }
   },
   "outputs": [],
   "source": [
    "gs_etc = GridSearchCV(estimator=etc_model_pipe, param_grid=params, cv=10)"
   ]
  },
  {
   "cell_type": "code",
   "execution_count": 206,
   "metadata": {
    "ExecuteTime": {
     "end_time": "2022-04-20T17:31:12.217972Z",
     "start_time": "2022-04-20T17:25:10.333461Z"
    }
   },
   "outputs": [],
   "source": [
    "gs_etc.fit(X_train1, y_train1); #6m"
   ]
  },
  {
   "cell_type": "code",
   "execution_count": 145,
   "metadata": {
    "ExecuteTime": {
     "end_time": "2022-04-19T19:25:45.668821Z",
     "start_time": "2022-04-19T19:25:45.665594Z"
    }
   },
   "outputs": [
    {
     "data": {
      "text/plain": [
       "array([0.77376734, 0.77421443, 0.77432647, 0.77427085, 0.77488525,\n",
       "       0.77359965, 0.77371191, 0.7746617 , 0.77399087])"
      ]
     },
     "execution_count": 145,
     "metadata": {},
     "output_type": "execute_result"
    }
   ],
   "source": [
    "gs_etc.cv_results_['mean_test_score']"
   ]
  },
  {
   "cell_type": "code",
   "execution_count": 207,
   "metadata": {
    "ExecuteTime": {
     "end_time": "2022-04-20T17:31:12.230356Z",
     "start_time": "2022-04-20T17:31:12.220145Z"
    }
   },
   "outputs": [
    {
     "data": {
      "text/plain": [
       "{'etc__max_depth': 50, 'etc__n_estimators': 500}"
      ]
     },
     "execution_count": 207,
     "metadata": {},
     "output_type": "execute_result"
    }
   ],
   "source": [
    "gs_etc.best_params_"
   ]
  },
  {
   "cell_type": "markdown",
   "metadata": {},
   "source": [
    "Best parameters Extra Trees: max_depth: 50, n_estimators: 500"
   ]
  },
  {
   "cell_type": "code",
   "execution_count": 68,
   "metadata": {
    "ExecuteTime": {
     "end_time": "2022-04-21T21:06:39.061297Z",
     "start_time": "2022-04-21T21:06:39.054135Z"
    }
   },
   "outputs": [],
   "source": [
    "tuned_etc_pipe = Pipeline([('ct', ct), ('etc', ExtraTreesClassifier(max_features='sqrt', max_samples=.5, bootstrap=True, random_state=42, max_depth=50, n_estimators=500))])"
   ]
  },
  {
   "cell_type": "code",
   "execution_count": 69,
   "metadata": {
    "ExecuteTime": {
     "end_time": "2022-04-21T21:09:08.124270Z",
     "start_time": "2022-04-21T21:06:40.996594Z"
    }
   },
   "outputs": [],
   "source": [
    "tetc_pipe = ModelWithCV(model=tuned_etc_pipe,\n",
    "                         model_name='tetc_pipe',\n",
    "                         X=X_train1,\n",
    "                         y=y_train1) #2m 32s"
   ]
  },
  {
   "cell_type": "code",
   "execution_count": 70,
   "metadata": {
    "ExecuteTime": {
     "end_time": "2022-04-21T21:09:08.127729Z",
     "start_time": "2022-04-21T21:09:08.125676Z"
    }
   },
   "outputs": [
    {
     "name": "stdout",
     "output_type": "stream",
     "text": [
      "CV Results for `tetc_pipe` model:\n",
      "            0.77399 ± 0.01175 accuracy\n",
      "            recall_score: 0.740079743458766\n",
      "            precision_score: 0.8302410092727717\n",
      "            f1_score: 0.7543782442015724    \n",
      "        \n"
     ]
    }
   ],
   "source": [
    "tetc_pipe.print_cv_summary()"
   ]
  },
  {
   "cell_type": "markdown",
   "metadata": {},
   "source": [
    "Pickle and save"
   ]
  },
  {
   "cell_type": "code",
   "execution_count": 71,
   "metadata": {
    "ExecuteTime": {
     "end_time": "2022-04-21T21:09:13.666004Z",
     "start_time": "2022-04-21T21:09:13.632437Z"
    }
   },
   "outputs": [],
   "source": [
    "tetc_pickle = '../tuned_etc.sav'\n",
    "pickle.dump(tetc_pipe, open(tetc_pickle, 'wb'))"
   ]
  },
  {
   "cell_type": "markdown",
   "metadata": {},
   "source": [
    "#### Bagging"
   ]
  },
  {
   "cell_type": "code",
   "execution_count": 146,
   "metadata": {
    "ExecuteTime": {
     "end_time": "2022-04-20T15:14:08.202318Z",
     "start_time": "2022-04-20T15:14:08.194577Z"
    }
   },
   "outputs": [],
   "source": [
    "bag = BaggingClassifier(n_estimators=100, random_state=42)\n",
    "bag_model_pipe = Pipeline([('ct', ct), ('bag', bag)])"
   ]
  },
  {
   "cell_type": "code",
   "execution_count": 153,
   "metadata": {
    "ExecuteTime": {
     "end_time": "2022-04-19T19:29:34.376716Z",
     "start_time": "2022-04-19T19:28:17.200697Z"
    }
   },
   "outputs": [],
   "source": [
    "bag_pipe = ModelWithCV(model=bag_model_pipe,\n",
    "                         model_name='bag_pipe',\n",
    "                         X=X_train1,\n",
    "                         y=y_train1)"
   ]
  },
  {
   "cell_type": "code",
   "execution_count": 154,
   "metadata": {
    "ExecuteTime": {
     "end_time": "2022-04-19T19:29:34.462136Z",
     "start_time": "2022-04-19T19:29:34.378266Z"
    }
   },
   "outputs": [
    {
     "data": {
      "image/png": "[encoded data removed]",
      "text/plain": [
       "<Figure size 432x288 with 1 Axes>"
      ]
     },
     "metadata": {
      "needs_background": "light"
     },
     "output_type": "display_data"
    }
   ],
   "source": [
    "fig, ax = plt.subplots()\n",
    "\n",
    "bag_pipe.plot_cv(ax=ax);"
   ]
  },
  {
   "cell_type": "code",
   "execution_count": 155,
   "metadata": {
    "ExecuteTime": {
     "end_time": "2022-04-19T19:33:24.320649Z",
     "start_time": "2022-04-19T19:29:34.463373Z"
    },
    "scrolled": true
   },
   "outputs": [
    {
     "name": "stdout",
     "output_type": "stream",
     "text": [
      "CV Results for `bag_pipe` model:\n",
      "            0.76538 ± 0.01343 accuracy\n",
      "            recall_score: 0.7396039786594018\n",
      "            precision_score: 0.8045860551152391\n",
      "            f1_score: 0.7473036893495382    \n",
      "        \n"
     ]
    }
   ],
   "source": [
    "bag_pipe.print_cv_summary()"
   ]
  },
  {
   "cell_type": "markdown",
   "metadata": {},
   "source": [
    "##### Bagging"
   ]
  },
  {
   "cell_type": "code",
   "execution_count": 150,
   "metadata": {
    "ExecuteTime": {
     "end_time": "2022-04-20T15:14:32.541988Z",
     "start_time": "2022-04-20T15:14:32.537474Z"
    }
   },
   "outputs": [],
   "source": [
    "params = {}\n",
    "\n",
    "params['bag__max_features'] = [25, 50, 100]\n",
    "params['bag__n_estimators'] = [100, 500, 750]"
   ]
  },
  {
   "cell_type": "code",
   "execution_count": 151,
   "metadata": {
    "ExecuteTime": {
     "end_time": "2022-04-20T15:14:32.964540Z",
     "start_time": "2022-04-20T15:14:32.958824Z"
    }
   },
   "outputs": [],
   "source": [
    "gs_bag = GridSearchCV(estimator=bag_model_pipe, param_grid=params, cv=10)"
   ]
  },
  {
   "cell_type": "code",
   "execution_count": 152,
   "metadata": {
    "ExecuteTime": {
     "end_time": "2022-04-20T15:28:49.139344Z",
     "start_time": "2022-04-20T15:14:33.404832Z"
    },
    "collapsed": true
   },
   "outputs": [
    {
     "name": "stderr",
     "output_type": "stream",
     "text": [
      "/Users/zachrauch/opt/anaconda3/envs/learn-env/lib/python3.8/site-packages/sklearn/model_selection/_validation.py:372: FitFailedWarning: \n",
      "30 fits failed out of a total of 90.\n",
      "The score on these train-test partitions for these parameters will be set to nan.\n",
      "If these failures are not expected, you can try to debug them by setting error_score='raise'.\n",
      "\n",
      "Below are more details about the failures:\n",
      "--------------------------------------------------------------------------------\n",
      "30 fits failed with the following error:\n",
      "Traceback (most recent call last):\n",
      "  File \"/Users/zachrauch/opt/anaconda3/envs/learn-env/lib/python3.8/site-packages/sklearn/model_selection/_validation.py\", line 680, in _fit_and_score\n",
      "    estimator.fit(X_train, y_train, **fit_params)\n",
      "  File \"/Users/zachrauch/opt/anaconda3/envs/learn-env/lib/python3.8/site-packages/sklearn/pipeline.py\", line 394, in fit\n",
      "    self._final_estimator.fit(Xt, y, **fit_params_last_step)\n",
      "  File \"/Users/zachrauch/opt/anaconda3/envs/learn-env/lib/python3.8/site-packages/sklearn/ensemble/_bagging.py\", line 269, in fit\n",
      "    return self._fit(X, y, self.max_samples, sample_weight=sample_weight)\n",
      "  File \"/Users/zachrauch/opt/anaconda3/envs/learn-env/lib/python3.8/site-packages/sklearn/ensemble/_bagging.py\", line 342, in _fit\n",
      "    raise ValueError(\"max_features must be in (0, n_features]\")\n",
      "ValueError: max_features must be in (0, n_features]\n",
      "\n",
      "  warnings.warn(some_fits_failed_message, FitFailedWarning)\n",
      "/Users/zachrauch/opt/anaconda3/envs/learn-env/lib/python3.8/site-packages/sklearn/model_selection/_search.py:969: UserWarning: One or more of the test scores are non-finite: [0.7581192  0.76538514 0.76622332 0.7665578  0.77343258 0.7720355\n",
      "        nan        nan        nan]\n",
      "  warnings.warn(\n"
     ]
    }
   ],
   "source": [
    "gs_bag.fit(X_train1, y_train1);"
   ]
  },
  {
   "cell_type": "code",
   "execution_count": 153,
   "metadata": {
    "ExecuteTime": {
     "end_time": "2022-04-20T15:28:49.148524Z",
     "start_time": "2022-04-20T15:28:49.141419Z"
    }
   },
   "outputs": [
    {
     "data": {
      "text/plain": [
       "{'bag__max_features': 50, 'bag__n_estimators': 500}"
      ]
     },
     "execution_count": 153,
     "metadata": {},
     "output_type": "execute_result"
    }
   ],
   "source": [
    "gs_bag.best_params_"
   ]
  },
  {
   "cell_type": "markdown",
   "metadata": {},
   "source": [
    "##### Bagging Tuned"
   ]
  },
  {
   "cell_type": "code",
   "execution_count": 156,
   "metadata": {
    "ExecuteTime": {
     "end_time": "2022-04-20T15:31:06.393720Z",
     "start_time": "2022-04-20T15:31:06.374995Z"
    }
   },
   "outputs": [],
   "source": [
    "bag = BaggingClassifier(max_features= 50,n_estimators=500, random_state=42)\n",
    "tbag_model_pipe = Pipeline([('ct', ct), ('bag', bag)])"
   ]
  },
  {
   "cell_type": "code",
   "execution_count": 157,
   "metadata": {
    "ExecuteTime": {
     "end_time": "2022-04-20T15:34:34.918587Z",
     "start_time": "2022-04-20T15:31:06.787949Z"
    }
   },
   "outputs": [],
   "source": [
    "tbag_pipe = ModelWithCV(model=tbag_model_pipe,\n",
    "                         model_name='bag_pipe',\n",
    "                         X=X_train1,\n",
    "                         y=y_train1)"
   ]
  },
  {
   "cell_type": "code",
   "execution_count": 158,
   "metadata": {
    "ExecuteTime": {
     "end_time": "2022-04-20T15:44:54.782841Z",
     "start_time": "2022-04-20T15:34:34.920750Z"
    }
   },
   "outputs": [
    {
     "name": "stdout",
     "output_type": "stream",
     "text": [
      "CV Results for `bag_pipe` model:\n",
      "            0.77343 ± 0.01100 accuracy\n",
      "            recall_score: 0.7349547363641522\n",
      "            precision_score: 0.8248506246930465\n",
      "            f1_score: 0.7526427600886357    \n",
      "        \n"
     ]
    }
   ],
   "source": [
    "tbag_pipe.print_cv_summary()"
   ]
  },
  {
   "cell_type": "markdown",
   "metadata": {},
   "source": [
    "### Ensembles"
   ]
  },
  {
   "cell_type": "markdown",
   "metadata": {},
   "source": [
    "#### Voting Classifier"
   ]
  },
  {
   "cell_type": "markdown",
   "metadata": {},
   "source": [
    "##### Voting Classifier 1"
   ]
  },
  {
   "cell_type": "code",
   "execution_count": 230,
   "metadata": {
    "ExecuteTime": {
     "end_time": "2022-04-20T18:29:02.557623Z",
     "start_time": "2022-04-20T18:29:02.529795Z"
    }
   },
   "outputs": [],
   "source": [
    "estimators=[\n",
    "    ('logreg', LogisticRegression(random_state=42, max_iter=5, solver='liblinear', C=.3)),\n",
    "    ('knn', KNeighborsClassifier(metric='manhattan', n_neighbors=200)),\n",
    "    ('rfc', RandomForestClassifier(random_state=42, max_features='sqrt', n_estimators=1250)) \n",
    "]"
   ]
  },
  {
   "cell_type": "code",
   "execution_count": 231,
   "metadata": {
    "ExecuteTime": {
     "end_time": "2022-04-20T18:29:02.749938Z",
     "start_time": "2022-04-20T18:29:02.743333Z"
    }
   },
   "outputs": [],
   "source": [
    "avg1 = VotingClassifier(estimators=estimators, voting='soft')\n",
    "avg1_model_pipe = Pipeline([('ct', ct), ('avg1', avg1)])"
   ]
  },
  {
   "cell_type": "code",
   "execution_count": 232,
   "metadata": {
    "ExecuteTime": {
     "end_time": "2022-04-20T18:32:14.874990Z",
     "start_time": "2022-04-20T18:29:03.582534Z"
    }
   },
   "outputs": [],
   "source": [
    "avg1_pipe = ModelWithCV(model=avg1_model_pipe,\n",
    "                         model_name='avg1_pipe',\n",
    "                         X=X_train1,\n",
    "                         y=y_train1) #3m 9s"
   ]
  },
  {
   "cell_type": "code",
   "execution_count": 233,
   "metadata": {
    "ExecuteTime": {
     "end_time": "2022-04-20T18:32:14.892893Z",
     "start_time": "2022-04-20T18:32:14.877711Z"
    }
   },
   "outputs": [],
   "source": [
    "avg1_model = 'avg1_model.sav'\n",
    "pickle.dump(avg1_pipe, open(avg1_model, 'wb'))"
   ]
  },
  {
   "cell_type": "code",
   "execution_count": 234,
   "metadata": {
    "ExecuteTime": {
     "end_time": "2022-04-20T18:41:47.669856Z",
     "start_time": "2022-04-20T18:32:14.894218Z"
    },
    "scrolled": true
   },
   "outputs": [
    {
     "name": "stdout",
     "output_type": "stream",
     "text": [
      "CV Results for `avg1_pipe` model:\n",
      "            0.78042 ± 0.01113 accuracy\n",
      "            recall_score: 0.7571217151938248\n",
      "            precision_score: 0.8315395769883077\n",
      "            f1_score: 0.7638374022426514    \n",
      "        \n",
      "None\n"
     ]
    }
   ],
   "source": [
    "avg1_pipe.print_cv_summary() #9m 6s"
   ]
  },
  {
   "cell_type": "code",
   "execution_count": 236,
   "metadata": {
    "ExecuteTime": {
     "end_time": "2022-04-20T18:47:20.754323Z",
     "start_time": "2022-04-20T18:47:20.737395Z"
    }
   },
   "outputs": [],
   "source": [
    "avg1_summary"
   ]
  },
  {
   "cell_type": "code",
   "execution_count": 237,
   "metadata": {
    "ExecuteTime": {
     "end_time": "2022-04-20T18:57:31.206849Z",
     "start_time": "2022-04-20T18:47:53.518202Z"
    }
   },
   "outputs": [
    {
     "name": "stdout",
     "output_type": "stream",
     "text": [
      "CV Results for `avg1_pipe` model:\n",
      "            0.78042 ± 0.01113 accuracy\n",
      "            recall_score: 0.7571217151938248\n",
      "            precision_score: 0.8315395769883077\n",
      "            f1_score: 0.7638374022426514    \n",
      "        \n"
     ]
    }
   ],
   "source": [
    "avg1_model_summary = 'avg1_model_summary.sav'\n",
    "pickle.dump(avg1_pipe.print_cv_summary(), open(avg1_model_summary, 'wb'))"
   ]
  },
  {
   "cell_type": "markdown",
   "metadata": {},
   "source": [
    "##### Voting Classifier 2"
   ]
  },
  {
   "cell_type": "code",
   "execution_count": 72,
   "metadata": {
    "ExecuteTime": {
     "end_time": "2022-04-21T21:09:41.412106Z",
     "start_time": "2022-04-21T21:09:41.404262Z"
    }
   },
   "outputs": [],
   "source": [
    "estimators=[\n",
    "    ('rfc', RandomForestClassifier(random_state=42, max_features='sqrt', n_estimators=1250)),\n",
    "    ('etc', ExtraTreesClassifier(max_features='sqrt', max_samples=.5, bootstrap=True, random_state=42, max_depth=50, n_estimators=500))\n",
    "]"
   ]
  },
  {
   "cell_type": "code",
   "execution_count": 73,
   "metadata": {
    "ExecuteTime": {
     "end_time": "2022-04-21T21:09:43.412847Z",
     "start_time": "2022-04-21T21:09:43.406541Z"
    }
   },
   "outputs": [],
   "source": [
    "avg2 = VotingClassifier(estimators=estimators, voting='soft')\n",
    "avg2_model_pipe = Pipeline([('ct', ct), ('avg2', avg2)])"
   ]
  },
  {
   "cell_type": "code",
   "execution_count": 74,
   "metadata": {
    "ExecuteTime": {
     "end_time": "2022-04-21T21:22:34.928155Z",
     "start_time": "2022-04-21T21:09:47.088837Z"
    }
   },
   "outputs": [],
   "source": [
    "avg2_pipe = ModelWithCV(model=avg2_model_pipe,\n",
    "                         model_name='avg2_pipe',\n",
    "                         X=X_train1,\n",
    "                         y=y_train1) #12m 48s"
   ]
  },
  {
   "cell_type": "code",
   "execution_count": 75,
   "metadata": {
    "ExecuteTime": {
     "end_time": "2022-04-21T21:22:34.946105Z",
     "start_time": "2022-04-21T21:22:34.929410Z"
    }
   },
   "outputs": [],
   "source": [
    "avg2_model = '../avg2_model.sav'\n",
    "pickle.dump(avg2_pipe, open(avg2_model, 'wb'))"
   ]
  },
  {
   "cell_type": "code",
   "execution_count": 73,
   "metadata": {
    "ExecuteTime": {
     "end_time": "2022-04-20T22:38:18.020727Z",
     "start_time": "2022-04-20T22:37:56.998085Z"
    }
   },
   "outputs": [],
   "source": [
    "avg2_model_pipe.fit(X_train1, y_train1);"
   ]
  },
  {
   "cell_type": "markdown",
   "metadata": {},
   "source": [
    "### Feature Importance"
   ]
  },
  {
   "cell_type": "code",
   "execution_count": 76,
   "metadata": {
    "ExecuteTime": {
     "end_time": "2022-04-21T21:22:56.126732Z",
     "start_time": "2022-04-21T21:22:34.947436Z"
    }
   },
   "outputs": [],
   "source": [
    "avg2_model_pipe.fit(X_train1, y_train1);"
   ]
  },
  {
   "cell_type": "code",
   "execution_count": 77,
   "metadata": {
    "ExecuteTime": {
     "end_time": "2022-04-21T21:22:56.130507Z",
     "start_time": "2022-04-21T21:22:56.128252Z"
    }
   },
   "outputs": [],
   "source": [
    "# Accessing one-hot encoded feature names\n",
    "ohe_col_names = avg2_model_pipe.named_steps['ct'].named_transformers_['subpipe_cat']['ohe'].get_feature_names_out()\n",
    "\n",
    "# Converting to list\n",
    "ohe_cat_cols = ohe_col_names.tolist()"
   ]
  },
  {
   "cell_type": "code",
   "execution_count": 78,
   "metadata": {
    "ExecuteTime": {
     "end_time": "2022-04-21T21:22:56.134416Z",
     "start_time": "2022-04-21T21:22:56.131457Z"
    },
    "collapsed": true
   },
   "outputs": [
    {
     "data": {
      "text/plain": [
       "['x0_1.0',\n",
       " 'x1_1.0',\n",
       " 'x2_1.0',\n",
       " 'x3_1.0',\n",
       " 'x4_1.0',\n",
       " 'x5_1.0',\n",
       " 'x6_1.0',\n",
       " 'x7_1.0',\n",
       " 'x8_1.0',\n",
       " 'x9_1.0',\n",
       " 'x10_1.0',\n",
       " 'x11_1.0',\n",
       " 'x12_1',\n",
       " 'x12_Unknown',\n",
       " 'x13_35 - 44 Years',\n",
       " 'x13_45 - 54 Years',\n",
       " 'x13_55 - 64 Years',\n",
       " 'x13_65+ Years',\n",
       " 'x14_< 12 Years',\n",
       " 'x14_College Graduate',\n",
       " 'x14_Some College',\n",
       " 'x15_Hispanic',\n",
       " 'x15_Other or Multiple',\n",
       " 'x15_White',\n",
       " 'x16_Male',\n",
       " 'x17_> $75,000',\n",
       " 'x17_Below Poverty',\n",
       " 'x18_Not Married',\n",
       " 'x19_Rent',\n",
       " 'x20_Not in Labor Force',\n",
       " 'x21_bhuqouqj',\n",
       " 'x21_dqpwygqj',\n",
       " 'x21_fpwskwrf',\n",
       " 'x21_kbazzjca',\n",
       " 'x21_lrircsnp',\n",
       " 'x21_lzgpxyit',\n",
       " 'x21_mlyzmhmf',\n",
       " 'x21_oxchjgsf',\n",
       " 'x21_qufhixun',\n",
       " 'x22_MSA, Principle City',\n",
       " 'x22_Non-MSA',\n",
       " 'x23_1.0',\n",
       " 'x23_2.0',\n",
       " 'x23_3.0',\n",
       " 'x24_1.0',\n",
       " 'x24_2.0',\n",
       " 'x24_3.0',\n",
       " 'x25_arjwrbjb',\n",
       " 'x25_atmlpfrs',\n",
       " 'x25_cfqqtusy',\n",
       " 'x25_dotnnunm',\n",
       " 'x25_fcxhlnwr',\n",
       " 'x25_haxffmxo',\n",
       " 'x25_ldnlellj',\n",
       " 'x25_mcubkhph',\n",
       " 'x25_mfikgejo',\n",
       " 'x25_msuufmds',\n",
       " 'x25_nduyfdeo',\n",
       " 'x25_phxvnwax',\n",
       " 'x25_pxcmvdjn',\n",
       " 'x25_qnlwzans',\n",
       " 'x25_rucpziij',\n",
       " 'x25_saaquncn',\n",
       " 'x25_vjjrobsf',\n",
       " 'x25_wlfvacwt',\n",
       " 'x25_wxleyezf',\n",
       " 'x25_xicduogh',\n",
       " 'x25_xqicxuve',\n",
       " 'x26_bxpfxfdn',\n",
       " 'x26_ccgxvspp',\n",
       " 'x26_cmhcxjea',\n",
       " 'x26_dcjcmpih',\n",
       " 'x26_dlvbwzss',\n",
       " 'x26_emcorrxb',\n",
       " 'x26_haliazsg',\n",
       " 'x26_hfxkjkmi',\n",
       " 'x26_hodpvpew',\n",
       " 'x26_kldqjyjy',\n",
       " 'x26_mxkfnird',\n",
       " 'x26_oijqvulv',\n",
       " 'x26_pvmttkik',\n",
       " 'x26_qxajmpny',\n",
       " 'x26_rcertsgn',\n",
       " 'x26_tfqavkke',\n",
       " 'x26_ukymxvdu',\n",
       " 'x26_uqqtjvyb',\n",
       " 'x26_vlluhbov',\n",
       " 'x26_xgwztkwe',\n",
       " 'x26_xqwwgdyp',\n",
       " 'x26_xtkaffoo',\n",
       " 'x26_xzmlyyjv',\n",
       " 'h1n1_concern',\n",
       " 'h1n1_knowledge',\n",
       " 'opinion_h1n1_vacc_effective',\n",
       " 'opinion_h1n1_risk',\n",
       " 'opinion_h1n1_sick_from_vacc',\n",
       " 'opinion_seas_vacc_effective',\n",
       " 'opinion_seas_risk',\n",
       " 'opinion_seas_sick_from_vacc']"
      ]
     },
     "execution_count": 78,
     "metadata": {},
     "output_type": "execute_result"
    }
   ],
   "source": [
    "post_ct_cols = ohe_cat_cols + num_cols"
   ]
  },
  {
   "cell_type": "code",
   "execution_count": 79,
   "metadata": {
    "ExecuteTime": {
     "end_time": "2022-04-21T21:22:56.381428Z",
     "start_time": "2022-04-21T21:22:56.135620Z"
    }
   },
   "outputs": [],
   "source": [
    "X_post = pd.DataFrame(avg2_model_pipe.named_steps['ct'].fit_transform(X_train1,y_train1), columns=post_ct_cols)"
   ]
  },
  {
   "cell_type": "code",
   "execution_count": 80,
   "metadata": {
    "ExecuteTime": {
     "end_time": "2022-04-21T21:23:17.642114Z",
     "start_time": "2022-04-21T21:22:56.382348Z"
    },
    "collapsed": true
   },
   "outputs": [
    {
     "data": {
      "text/plain": [
       "array([0.00545263, 0.01332739, 0.00672429, 0.01118781, 0.01442258,\n",
       "       0.01423219, 0.01462696, 0.01793817, 0.07119031, 0.01780665,\n",
       "       0.00731026, 0.01097684, 0.01619444, 0.01152804, 0.0088794 ,\n",
       "       0.00999042, 0.01227932, 0.0384391 , 0.00755622, 0.01448668,\n",
       "       0.01287125, 0.00535168, 0.00554289, 0.01278438, 0.01591985,\n",
       "       0.01276278, 0.00829364, 0.0147148 , 0.01292065, 0.01297172,\n",
       "       0.00961672, 0.00502454, 0.01029969, 0.00944095, 0.00812523,\n",
       "       0.01149702, 0.00761837, 0.00974575, 0.0099004 , 0.01488956,\n",
       "       0.01463813, 0.01500052, 0.00862333, 0.00457103, 0.00941438,\n",
       "       0.0080967 , 0.00648108, 0.00421641, 0.00376179, 0.00179779,\n",
       "       0.00118682, 0.00800881, 0.00256799, 0.00434235, 0.00136596,\n",
       "       0.00330858, 0.00098435, 0.00138368, 0.00071639, 0.00356754,\n",
       "       0.00010499, 0.00230343, 0.00159397, 0.00270777, 0.0011915 ,\n",
       "       0.00563462, 0.00319244, 0.00255724, 0.00203676, 0.00187727,\n",
       "       0.00472114, 0.00265722, 0.00131717, 0.00439799, 0.00145399,\n",
       "       0.00359725, 0.00103964, 0.00229845, 0.0056973 , 0.00162714,\n",
       "       0.00056722, 0.00255064, 0.00146566, 0.0018629 , 0.00180523,\n",
       "       0.00220543, 0.00155268, 0.00390146, 0.00217833, 0.00582838,\n",
       "       0.00143673, 0.02339347, 0.02089745, 0.02654802, 0.02966781,\n",
       "       0.02136968, 0.06458746, 0.07340748, 0.02389156])"
      ]
     },
     "execution_count": 80,
     "metadata": {},
     "output_type": "execute_result"
    }
   ],
   "source": [
    "for alg in avg2_model_pipe.named_steps['avg2'].named_estimators:\n",
    "    clf = avg2_model_pipe.named_steps['avg2'].named_estimators[alg]\n",
    "    feat_imp = clf.fit(X_post, y_train1).feature_importances_\n",
    "feat_imp"
   ]
  },
  {
   "cell_type": "code",
   "execution_count": 81,
   "metadata": {
    "ExecuteTime": {
     "end_time": "2022-04-21T21:23:17.646176Z",
     "start_time": "2022-04-21T21:23:17.644135Z"
    }
   },
   "outputs": [],
   "source": [
    "A = pd.DataFrame()"
   ]
  },
  {
   "cell_type": "code",
   "execution_count": 82,
   "metadata": {
    "ExecuteTime": {
     "end_time": "2022-04-21T21:23:17.651212Z",
     "start_time": "2022-04-21T21:23:17.647151Z"
    }
   },
   "outputs": [],
   "source": [
    "A['Features'] = post_ct_cols"
   ]
  },
  {
   "cell_type": "code",
   "execution_count": 83,
   "metadata": {
    "ExecuteTime": {
     "end_time": "2022-04-21T21:23:17.653803Z",
     "start_time": "2022-04-21T21:23:17.652106Z"
    }
   },
   "outputs": [],
   "source": [
    "A['Feature_importance'] = feat_imp"
   ]
  },
  {
   "cell_type": "code",
   "execution_count": 84,
   "metadata": {
    "ExecuteTime": {
     "end_time": "2022-04-21T21:23:17.663835Z",
     "start_time": "2022-04-21T21:23:17.654621Z"
    },
    "collapsed": true
   },
   "outputs": [
    {
     "data": {
      "text/html": [
       "<div>\n",
       "<style scoped>\n",
       "    .dataframe tbody tr th:only-of-type {\n",
       "        vertical-align: middle;\n",
       "    }\n",
       "\n",
       "    .dataframe tbody tr th {\n",
       "        vertical-align: top;\n",
       "    }\n",
       "\n",
       "    .dataframe thead th {\n",
       "        text-align: right;\n",
       "    }\n",
       "</style>\n",
       "<table border=\"1\" class=\"dataframe\">\n",
       "  <thead>\n",
       "    <tr style=\"text-align: right;\">\n",
       "      <th></th>\n",
       "      <th>Features</th>\n",
       "      <th>Feature_importance</th>\n",
       "    </tr>\n",
       "  </thead>\n",
       "  <tbody>\n",
       "    <tr>\n",
       "      <th>97</th>\n",
       "      <td>opinion_seas_risk</td>\n",
       "      <td>0.073407</td>\n",
       "    </tr>\n",
       "    <tr>\n",
       "      <th>8</th>\n",
       "      <td>x8_1.0</td>\n",
       "      <td>0.071190</td>\n",
       "    </tr>\n",
       "    <tr>\n",
       "      <th>96</th>\n",
       "      <td>opinion_seas_vacc_effective</td>\n",
       "      <td>0.064587</td>\n",
       "    </tr>\n",
       "    <tr>\n",
       "      <th>17</th>\n",
       "      <td>x13_65+ Years</td>\n",
       "      <td>0.038439</td>\n",
       "    </tr>\n",
       "    <tr>\n",
       "      <th>94</th>\n",
       "      <td>opinion_h1n1_risk</td>\n",
       "      <td>0.029668</td>\n",
       "    </tr>\n",
       "    <tr>\n",
       "      <th>93</th>\n",
       "      <td>opinion_h1n1_vacc_effective</td>\n",
       "      <td>0.026548</td>\n",
       "    </tr>\n",
       "    <tr>\n",
       "      <th>98</th>\n",
       "      <td>opinion_seas_sick_from_vacc</td>\n",
       "      <td>0.023892</td>\n",
       "    </tr>\n",
       "    <tr>\n",
       "      <th>91</th>\n",
       "      <td>h1n1_concern</td>\n",
       "      <td>0.023393</td>\n",
       "    </tr>\n",
       "    <tr>\n",
       "      <th>95</th>\n",
       "      <td>opinion_h1n1_sick_from_vacc</td>\n",
       "      <td>0.021370</td>\n",
       "    </tr>\n",
       "    <tr>\n",
       "      <th>92</th>\n",
       "      <td>h1n1_knowledge</td>\n",
       "      <td>0.020897</td>\n",
       "    </tr>\n",
       "  </tbody>\n",
       "</table>\n",
       "</div>"
      ],
      "text/plain": [
       "                       Features  Feature_importance\n",
       "97            opinion_seas_risk            0.073407\n",
       "8                        x8_1.0            0.071190\n",
       "96  opinion_seas_vacc_effective            0.064587\n",
       "17                x13_65+ Years            0.038439\n",
       "94            opinion_h1n1_risk            0.029668\n",
       "93  opinion_h1n1_vacc_effective            0.026548\n",
       "98  opinion_seas_sick_from_vacc            0.023892\n",
       "91                 h1n1_concern            0.023393\n",
       "95  opinion_h1n1_sick_from_vacc            0.021370\n",
       "92               h1n1_knowledge            0.020897"
      ]
     },
     "execution_count": 84,
     "metadata": {},
     "output_type": "execute_result"
    }
   ],
   "source": [
    "A.sort_values('Feature_importance', ascending=False).head(10)"
   ]
  },
  {
   "cell_type": "markdown",
   "metadata": {},
   "source": [
    "x8_1.0 = Doctor Recommended"
   ]
  },
  {
   "cell_type": "markdown",
   "metadata": {},
   "source": [
    "##### Voting Classifier 3"
   ]
  },
  {
   "cell_type": "code",
   "execution_count": 153,
   "metadata": {
    "ExecuteTime": {
     "end_time": "2022-04-21T01:11:15.908254Z",
     "start_time": "2022-04-21T01:11:15.872309Z"
    }
   },
   "outputs": [],
   "source": [
    "estimators=[\n",
    "    ('rfc', RandomForestClassifier(random_state=42, max_features='sqrt', n_estimators=1250)),\n",
    "    ('gbc', GradientBoostingClassifier(random_state=42, learning_rate=.05, n_estimators=350)),\n",
    "    ('ada', AdaBoostClassifier(learning_rate=1.25, n_estimators=200)),\n",
    "    ('xgb', xgboost.XGBClassifier(random_state=42, learning_rate=.05, n_estimators=150)),\n",
    "    ('etc', ExtraTreesClassifier(max_features='sqrt', max_samples=.5, bootstrap=True, random_state=42, max_depth=50, n_estimators=500))\n",
    "]"
   ]
  },
  {
   "cell_type": "code",
   "execution_count": 154,
   "metadata": {
    "ExecuteTime": {
     "end_time": "2022-04-21T01:11:19.386168Z",
     "start_time": "2022-04-21T01:11:19.361421Z"
    }
   },
   "outputs": [],
   "source": [
    "avg3 = VotingClassifier(estimators=estimators, voting='soft')\n",
    "avg3_model_pipe = Pipeline([('ct', ct), ('avg3', avg3)])"
   ]
  },
  {
   "cell_type": "code",
   "execution_count": 155,
   "metadata": {
    "ExecuteTime": {
     "end_time": "2022-04-21T01:16:38.398950Z",
     "start_time": "2022-04-21T01:11:21.857015Z"
    }
   },
   "outputs": [],
   "source": [
    "avg3_pipe = ModelWithCV(model=avg3_model_pipe,\n",
    "                         model_name='avg3_pipe',\n",
    "                         X=X_train1,\n",
    "                         y=y_train1) #6m 17s"
   ]
  },
  {
   "cell_type": "code",
   "execution_count": 156,
   "metadata": {
    "ExecuteTime": {
     "end_time": "2022-04-21T01:16:38.412280Z",
     "start_time": "2022-04-21T01:16:38.400710Z"
    }
   },
   "outputs": [],
   "source": [
    "avg3_model = 'avg3_model.sav'\n",
    "pickle.dump(avg3_pipe, open(avg3_model, 'wb'))"
   ]
  },
  {
   "cell_type": "code",
   "execution_count": 122,
   "metadata": {
    "ExecuteTime": {
     "end_time": "2022-04-20T13:13:16.003625Z",
     "start_time": "2022-04-20T13:13:15.929247Z"
    }
   },
   "outputs": [
    {
     "data": {
      "image/png": "[encoded data removed]",
      "text/plain": [
       "<Figure size 432x288 with 1 Axes>"
      ]
     },
     "metadata": {
      "needs_background": "light"
     },
     "output_type": "display_data"
    }
   ],
   "source": [
    "fig, ax = plt.subplots()\n",
    "\n",
    "avg3_pipe.plot_cv(ax=ax);"
   ]
  },
  {
   "cell_type": "code",
   "execution_count": 157,
   "metadata": {
    "ExecuteTime": {
     "end_time": "2022-04-21T01:32:30.898656Z",
     "start_time": "2022-04-21T01:16:38.413911Z"
    }
   },
   "outputs": [
    {
     "name": "stdout",
     "output_type": "stream",
     "text": [
      "CV Results for `avg3_pipe` model:\n",
      "            0.78019 ± 0.01083 accuracy\n",
      "            recall_score: 0.7527122708439753\n",
      "            precision_score: 0.8351519934133187\n",
      "            f1_score: 0.7625728854560864    \n",
      "        \n"
     ]
    }
   ],
   "source": [
    "avg3_summary = avg3_pipe.print_cv_summary()\n",
    "\n",
    "#pickle.dump(avg3_summary, open(avg3_model, 'wb')) #15m 52s"
   ]
  },
  {
   "cell_type": "code",
   "execution_count": 161,
   "metadata": {
    "ExecuteTime": {
     "end_time": "2022-04-21T01:40:06.165610Z",
     "start_time": "2022-04-21T01:39:24.956705Z"
    }
   },
   "outputs": [
    {
     "data": {
      "image/png": "[encoded data removed]",
      "text/plain": [
       "<Figure size 432x288 with 1 Axes>"
      ]
     },
     "metadata": {
      "needs_background": "light"
     },
     "output_type": "display_data"
    }
   ],
   "source": [
    "plot_roc_curve(avg3_model_pipe.fit(X_train1, y_train1), X_train1, y_train1); #42s"
   ]
  },
  {
   "cell_type": "markdown",
   "metadata": {},
   "source": [
    "#### Weighted Voting Classifier"
   ]
  },
  {
   "cell_type": "code",
   "execution_count": null,
   "metadata": {},
   "outputs": [],
   "source": []
  },
  {
   "cell_type": "markdown",
   "metadata": {},
   "source": [
    "#### Stacking"
   ]
  },
  {
   "cell_type": "markdown",
   "metadata": {},
   "source": [
    "##### Stack 1"
   ]
  },
  {
   "cell_type": "code",
   "execution_count": 41,
   "metadata": {
    "ExecuteTime": {
     "end_time": "2022-04-21T15:23:30.720261Z",
     "start_time": "2022-04-21T15:23:30.697342Z"
    }
   },
   "outputs": [],
   "source": [
    "estimators=[\n",
    "    ('rfc', RandomForestClassifier(random_state=42, max_features='sqrt', n_estimators=1250)),\n",
    "    ('etc', ExtraTreesClassifier(max_features='sqrt', max_samples=.5, bootstrap=True, random_state=42, max_depth=50, n_estimators=500))\n",
    "]"
   ]
  },
  {
   "cell_type": "code",
   "execution_count": 42,
   "metadata": {
    "ExecuteTime": {
     "end_time": "2022-04-21T15:23:32.950155Z",
     "start_time": "2022-04-21T15:23:32.938421Z"
    }
   },
   "outputs": [],
   "source": [
    "sr1 = StackingClassifier(estimators)\n",
    "sr1_model_pipe = Pipeline([('ct', ct), ('sr1', sr1)])"
   ]
  },
  {
   "cell_type": "code",
   "execution_count": 44,
   "metadata": {
    "ExecuteTime": {
     "end_time": "2022-04-21T16:36:50.086113Z",
     "start_time": "2022-04-21T16:09:05.145006Z"
    },
    "collapsed": true
   },
   "outputs": [
    {
     "ename": "KeyboardInterrupt",
     "evalue": "",
     "output_type": "error",
     "traceback": [
      "\u001b[0;31m---------------------------------------------------------------------------\u001b[0m",
      "\u001b[0;31mKeyboardInterrupt\u001b[0m                         Traceback (most recent call last)",
      "\u001b[0;32m<ipython-input-44-109ccee9e4b1>\u001b[0m in \u001b[0;36m<module>\u001b[0;34m\u001b[0m\n\u001b[0;32m----> 1\u001b[0;31m sr1_pipe = ModelWithCV(model=sr1_model_pipe,\n\u001b[0m\u001b[1;32m      2\u001b[0m                          \u001b[0mmodel_name\u001b[0m\u001b[0;34m=\u001b[0m\u001b[0;34m'sr1_pipe'\u001b[0m\u001b[0;34m,\u001b[0m\u001b[0;34m\u001b[0m\u001b[0;34m\u001b[0m\u001b[0m\n\u001b[1;32m      3\u001b[0m                          \u001b[0mX\u001b[0m\u001b[0;34m=\u001b[0m\u001b[0mX_train1\u001b[0m\u001b[0;34m,\u001b[0m\u001b[0;34m\u001b[0m\u001b[0;34m\u001b[0m\u001b[0m\n\u001b[1;32m      4\u001b[0m                          y=y_train1)\n",
      "\u001b[0;32m<ipython-input-1-68b553de9ca4>\u001b[0m in \u001b[0;36m__init__\u001b[0;34m(self, model, model_name, X, y, cv_now)\u001b[0m\n\u001b[1;32m     22\u001b[0m         \u001b[0;31m#\u001b[0m\u001b[0;34m\u001b[0m\u001b[0;34m\u001b[0m\u001b[0;34m\u001b[0m\u001b[0m\n\u001b[1;32m     23\u001b[0m         \u001b[0;32mif\u001b[0m \u001b[0mcv_now\u001b[0m\u001b[0;34m:\u001b[0m\u001b[0;34m\u001b[0m\u001b[0;34m\u001b[0m\u001b[0m\n\u001b[0;32m---> 24\u001b[0;31m             \u001b[0mself\u001b[0m\u001b[0;34m.\u001b[0m\u001b[0mcross_validate\u001b[0m\u001b[0;34m(\u001b[0m\u001b[0;34m)\u001b[0m\u001b[0;34m\u001b[0m\u001b[0;34m\u001b[0m\u001b[0m\n\u001b[0m\u001b[1;32m     25\u001b[0m \u001b[0;34m\u001b[0m\u001b[0m\n\u001b[1;32m     26\u001b[0m     \u001b[0;32mdef\u001b[0m \u001b[0mcross_validate\u001b[0m\u001b[0;34m(\u001b[0m\u001b[0mself\u001b[0m\u001b[0;34m,\u001b[0m \u001b[0mX\u001b[0m\u001b[0;34m=\u001b[0m\u001b[0;32mNone\u001b[0m\u001b[0;34m,\u001b[0m \u001b[0my\u001b[0m\u001b[0;34m=\u001b[0m\u001b[0;32mNone\u001b[0m\u001b[0;34m,\u001b[0m \u001b[0mkfolds\u001b[0m\u001b[0;34m=\u001b[0m\u001b[0;36m10\u001b[0m\u001b[0;34m)\u001b[0m\u001b[0;34m:\u001b[0m\u001b[0;34m\u001b[0m\u001b[0;34m\u001b[0m\u001b[0m\n",
      "\u001b[0;32m<ipython-input-1-68b553de9ca4>\u001b[0m in \u001b[0;36mcross_validate\u001b[0;34m(self, X, y, kfolds)\u001b[0m\n\u001b[1;32m     44\u001b[0m         \u001b[0mself\u001b[0m\u001b[0;34m.\u001b[0m\u001b[0mcv_median\u001b[0m \u001b[0;34m=\u001b[0m \u001b[0mnp\u001b[0m\u001b[0;34m.\u001b[0m\u001b[0mmedian\u001b[0m\u001b[0;34m(\u001b[0m\u001b[0mself\u001b[0m\u001b[0;34m.\u001b[0m\u001b[0mcv_results\u001b[0m\u001b[0;34m)\u001b[0m\u001b[0;34m\u001b[0m\u001b[0;34m\u001b[0m\u001b[0m\n\u001b[1;32m     45\u001b[0m         \u001b[0mself\u001b[0m\u001b[0;34m.\u001b[0m\u001b[0mcv_std\u001b[0m \u001b[0;34m=\u001b[0m \u001b[0mnp\u001b[0m\u001b[0;34m.\u001b[0m\u001b[0mstd\u001b[0m\u001b[0;34m(\u001b[0m\u001b[0mself\u001b[0m\u001b[0;34m.\u001b[0m\u001b[0mcv_results\u001b[0m\u001b[0;34m)\u001b[0m\u001b[0;34m\u001b[0m\u001b[0;34m\u001b[0m\u001b[0m\n\u001b[0;32m---> 46\u001b[0;31m         \u001b[0mself\u001b[0m\u001b[0;34m.\u001b[0m\u001b[0mrecall_score\u001b[0m \u001b[0;34m=\u001b[0m \u001b[0mcross_val_score\u001b[0m\u001b[0;34m(\u001b[0m\u001b[0mself\u001b[0m\u001b[0;34m.\u001b[0m\u001b[0mmodel\u001b[0m\u001b[0;34m,\u001b[0m \u001b[0mself\u001b[0m\u001b[0;34m.\u001b[0m\u001b[0mX\u001b[0m\u001b[0;34m,\u001b[0m \u001b[0mself\u001b[0m\u001b[0;34m.\u001b[0m\u001b[0my\u001b[0m\u001b[0;34m,\u001b[0m \u001b[0mcv\u001b[0m\u001b[0;34m=\u001b[0m\u001b[0;36m10\u001b[0m\u001b[0;34m,\u001b[0m \u001b[0mscoring\u001b[0m\u001b[0;34m=\u001b[0m\u001b[0;34m'recall'\u001b[0m\u001b[0;34m)\u001b[0m\u001b[0;34m.\u001b[0m\u001b[0mmean\u001b[0m\u001b[0;34m(\u001b[0m\u001b[0;34m)\u001b[0m\u001b[0;34m\u001b[0m\u001b[0;34m\u001b[0m\u001b[0m\n\u001b[0m\u001b[1;32m     47\u001b[0m         \u001b[0mself\u001b[0m\u001b[0;34m.\u001b[0m\u001b[0mprecision_score\u001b[0m \u001b[0;34m=\u001b[0m \u001b[0mcross_val_score\u001b[0m\u001b[0;34m(\u001b[0m\u001b[0mself\u001b[0m\u001b[0;34m.\u001b[0m\u001b[0mmodel\u001b[0m\u001b[0;34m,\u001b[0m \u001b[0mself\u001b[0m\u001b[0;34m.\u001b[0m\u001b[0mX\u001b[0m\u001b[0;34m,\u001b[0m \u001b[0mself\u001b[0m\u001b[0;34m.\u001b[0m\u001b[0my\u001b[0m\u001b[0;34m,\u001b[0m \u001b[0mcv\u001b[0m\u001b[0;34m=\u001b[0m\u001b[0;36m10\u001b[0m\u001b[0;34m,\u001b[0m \u001b[0mscoring\u001b[0m\u001b[0;34m=\u001b[0m\u001b[0;34m'average_precision'\u001b[0m\u001b[0;34m)\u001b[0m\u001b[0;34m.\u001b[0m\u001b[0mmean\u001b[0m\u001b[0;34m(\u001b[0m\u001b[0;34m)\u001b[0m\u001b[0;34m\u001b[0m\u001b[0;34m\u001b[0m\u001b[0m\n\u001b[1;32m     48\u001b[0m         \u001b[0mself\u001b[0m\u001b[0;34m.\u001b[0m\u001b[0mf1_score\u001b[0m \u001b[0;34m=\u001b[0m \u001b[0mcross_val_score\u001b[0m\u001b[0;34m(\u001b[0m\u001b[0mself\u001b[0m\u001b[0;34m.\u001b[0m\u001b[0mmodel\u001b[0m\u001b[0;34m,\u001b[0m \u001b[0mself\u001b[0m\u001b[0;34m.\u001b[0m\u001b[0mX\u001b[0m\u001b[0;34m,\u001b[0m \u001b[0mself\u001b[0m\u001b[0;34m.\u001b[0m\u001b[0my\u001b[0m\u001b[0;34m,\u001b[0m \u001b[0mcv\u001b[0m\u001b[0;34m=\u001b[0m\u001b[0;36m10\u001b[0m\u001b[0;34m,\u001b[0m \u001b[0mscoring\u001b[0m\u001b[0;34m=\u001b[0m\u001b[0;34m'f1'\u001b[0m\u001b[0;34m)\u001b[0m\u001b[0;34m.\u001b[0m\u001b[0mmean\u001b[0m\u001b[0;34m(\u001b[0m\u001b[0;34m)\u001b[0m\u001b[0;34m\u001b[0m\u001b[0;34m\u001b[0m\u001b[0m\n",
      "\u001b[0;32m~/opt/anaconda3/envs/learn-env/lib/python3.8/site-packages/sklearn/model_selection/_validation.py\u001b[0m in \u001b[0;36mcross_val_score\u001b[0;34m(estimator, X, y, groups, scoring, cv, n_jobs, verbose, fit_params, pre_dispatch, error_score)\u001b[0m\n\u001b[1;32m    507\u001b[0m     \u001b[0mscorer\u001b[0m \u001b[0;34m=\u001b[0m \u001b[0mcheck_scoring\u001b[0m\u001b[0;34m(\u001b[0m\u001b[0mestimator\u001b[0m\u001b[0;34m,\u001b[0m \u001b[0mscoring\u001b[0m\u001b[0;34m=\u001b[0m\u001b[0mscoring\u001b[0m\u001b[0;34m)\u001b[0m\u001b[0;34m\u001b[0m\u001b[0;34m\u001b[0m\u001b[0m\n\u001b[1;32m    508\u001b[0m \u001b[0;34m\u001b[0m\u001b[0m\n\u001b[0;32m--> 509\u001b[0;31m     cv_results = cross_validate(\n\u001b[0m\u001b[1;32m    510\u001b[0m         \u001b[0mestimator\u001b[0m\u001b[0;34m=\u001b[0m\u001b[0mestimator\u001b[0m\u001b[0;34m,\u001b[0m\u001b[0;34m\u001b[0m\u001b[0;34m\u001b[0m\u001b[0m\n\u001b[1;32m    511\u001b[0m         \u001b[0mX\u001b[0m\u001b[0;34m=\u001b[0m\u001b[0mX\u001b[0m\u001b[0;34m,\u001b[0m\u001b[0;34m\u001b[0m\u001b[0;34m\u001b[0m\u001b[0m\n",
      "\u001b[0;32m~/opt/anaconda3/envs/learn-env/lib/python3.8/site-packages/sklearn/model_selection/_validation.py\u001b[0m in \u001b[0;36mcross_validate\u001b[0;34m(estimator, X, y, groups, scoring, cv, n_jobs, verbose, fit_params, pre_dispatch, return_train_score, return_estimator, error_score)\u001b[0m\n\u001b[1;32m    265\u001b[0m     \u001b[0;31m# independent, and that it is pickle-able.\u001b[0m\u001b[0;34m\u001b[0m\u001b[0;34m\u001b[0m\u001b[0;34m\u001b[0m\u001b[0m\n\u001b[1;32m    266\u001b[0m     \u001b[0mparallel\u001b[0m \u001b[0;34m=\u001b[0m \u001b[0mParallel\u001b[0m\u001b[0;34m(\u001b[0m\u001b[0mn_jobs\u001b[0m\u001b[0;34m=\u001b[0m\u001b[0mn_jobs\u001b[0m\u001b[0;34m,\u001b[0m \u001b[0mverbose\u001b[0m\u001b[0;34m=\u001b[0m\u001b[0mverbose\u001b[0m\u001b[0;34m,\u001b[0m \u001b[0mpre_dispatch\u001b[0m\u001b[0;34m=\u001b[0m\u001b[0mpre_dispatch\u001b[0m\u001b[0;34m)\u001b[0m\u001b[0;34m\u001b[0m\u001b[0;34m\u001b[0m\u001b[0m\n\u001b[0;32m--> 267\u001b[0;31m     results = parallel(\n\u001b[0m\u001b[1;32m    268\u001b[0m         delayed(_fit_and_score)(\n\u001b[1;32m    269\u001b[0m             \u001b[0mclone\u001b[0m\u001b[0;34m(\u001b[0m\u001b[0mestimator\u001b[0m\u001b[0;34m)\u001b[0m\u001b[0;34m,\u001b[0m\u001b[0;34m\u001b[0m\u001b[0;34m\u001b[0m\u001b[0m\n",
      "\u001b[0;32m~/opt/anaconda3/envs/learn-env/lib/python3.8/site-packages/joblib/parallel.py\u001b[0m in \u001b[0;36m__call__\u001b[0;34m(self, iterable)\u001b[0m\n\u001b[1;32m   1049\u001b[0m                 \u001b[0mself\u001b[0m\u001b[0;34m.\u001b[0m\u001b[0m_iterating\u001b[0m \u001b[0;34m=\u001b[0m \u001b[0mself\u001b[0m\u001b[0;34m.\u001b[0m\u001b[0m_original_iterator\u001b[0m \u001b[0;32mis\u001b[0m \u001b[0;32mnot\u001b[0m \u001b[0;32mNone\u001b[0m\u001b[0;34m\u001b[0m\u001b[0;34m\u001b[0m\u001b[0m\n\u001b[1;32m   1050\u001b[0m \u001b[0;34m\u001b[0m\u001b[0m\n\u001b[0;32m-> 1051\u001b[0;31m             \u001b[0;32mwhile\u001b[0m \u001b[0mself\u001b[0m\u001b[0;34m.\u001b[0m\u001b[0mdispatch_one_batch\u001b[0m\u001b[0;34m(\u001b[0m\u001b[0miterator\u001b[0m\u001b[0;34m)\u001b[0m\u001b[0;34m:\u001b[0m\u001b[0;34m\u001b[0m\u001b[0;34m\u001b[0m\u001b[0m\n\u001b[0m\u001b[1;32m   1052\u001b[0m                 \u001b[0;32mpass\u001b[0m\u001b[0;34m\u001b[0m\u001b[0;34m\u001b[0m\u001b[0m\n\u001b[1;32m   1053\u001b[0m \u001b[0;34m\u001b[0m\u001b[0m\n",
      "\u001b[0;32m~/opt/anaconda3/envs/learn-env/lib/python3.8/site-packages/joblib/parallel.py\u001b[0m in \u001b[0;36mdispatch_one_batch\u001b[0;34m(self, iterator)\u001b[0m\n\u001b[1;32m    864\u001b[0m                 \u001b[0;32mreturn\u001b[0m \u001b[0;32mFalse\u001b[0m\u001b[0;34m\u001b[0m\u001b[0;34m\u001b[0m\u001b[0m\n\u001b[1;32m    865\u001b[0m             \u001b[0;32melse\u001b[0m\u001b[0;34m:\u001b[0m\u001b[0;34m\u001b[0m\u001b[0;34m\u001b[0m\u001b[0m\n\u001b[0;32m--> 866\u001b[0;31m                 \u001b[0mself\u001b[0m\u001b[0;34m.\u001b[0m\u001b[0m_dispatch\u001b[0m\u001b[0;34m(\u001b[0m\u001b[0mtasks\u001b[0m\u001b[0;34m)\u001b[0m\u001b[0;34m\u001b[0m\u001b[0;34m\u001b[0m\u001b[0m\n\u001b[0m\u001b[1;32m    867\u001b[0m                 \u001b[0;32mreturn\u001b[0m \u001b[0;32mTrue\u001b[0m\u001b[0;34m\u001b[0m\u001b[0;34m\u001b[0m\u001b[0m\n\u001b[1;32m    868\u001b[0m \u001b[0;34m\u001b[0m\u001b[0m\n",
      "\u001b[0;32m~/opt/anaconda3/envs/learn-env/lib/python3.8/site-packages/joblib/parallel.py\u001b[0m in \u001b[0;36m_dispatch\u001b[0;34m(self, batch)\u001b[0m\n\u001b[1;32m    782\u001b[0m         \u001b[0;32mwith\u001b[0m \u001b[0mself\u001b[0m\u001b[0;34m.\u001b[0m\u001b[0m_lock\u001b[0m\u001b[0;34m:\u001b[0m\u001b[0;34m\u001b[0m\u001b[0;34m\u001b[0m\u001b[0m\n\u001b[1;32m    783\u001b[0m             \u001b[0mjob_idx\u001b[0m \u001b[0;34m=\u001b[0m \u001b[0mlen\u001b[0m\u001b[0;34m(\u001b[0m\u001b[0mself\u001b[0m\u001b[0;34m.\u001b[0m\u001b[0m_jobs\u001b[0m\u001b[0;34m)\u001b[0m\u001b[0;34m\u001b[0m\u001b[0;34m\u001b[0m\u001b[0m\n\u001b[0;32m--> 784\u001b[0;31m             \u001b[0mjob\u001b[0m \u001b[0;34m=\u001b[0m \u001b[0mself\u001b[0m\u001b[0;34m.\u001b[0m\u001b[0m_backend\u001b[0m\u001b[0;34m.\u001b[0m\u001b[0mapply_async\u001b[0m\u001b[0;34m(\u001b[0m\u001b[0mbatch\u001b[0m\u001b[0;34m,\u001b[0m \u001b[0mcallback\u001b[0m\u001b[0;34m=\u001b[0m\u001b[0mcb\u001b[0m\u001b[0;34m)\u001b[0m\u001b[0;34m\u001b[0m\u001b[0;34m\u001b[0m\u001b[0m\n\u001b[0m\u001b[1;32m    785\u001b[0m             \u001b[0;31m# A job can complete so quickly than its callback is\u001b[0m\u001b[0;34m\u001b[0m\u001b[0;34m\u001b[0m\u001b[0;34m\u001b[0m\u001b[0m\n\u001b[1;32m    786\u001b[0m             \u001b[0;31m# called before we get here, causing self._jobs to\u001b[0m\u001b[0;34m\u001b[0m\u001b[0;34m\u001b[0m\u001b[0;34m\u001b[0m\u001b[0m\n",
      "\u001b[0;32m~/opt/anaconda3/envs/learn-env/lib/python3.8/site-packages/joblib/_parallel_backends.py\u001b[0m in \u001b[0;36mapply_async\u001b[0;34m(self, func, callback)\u001b[0m\n\u001b[1;32m    206\u001b[0m     \u001b[0;32mdef\u001b[0m \u001b[0mapply_async\u001b[0m\u001b[0;34m(\u001b[0m\u001b[0mself\u001b[0m\u001b[0;34m,\u001b[0m \u001b[0mfunc\u001b[0m\u001b[0;34m,\u001b[0m \u001b[0mcallback\u001b[0m\u001b[0;34m=\u001b[0m\u001b[0;32mNone\u001b[0m\u001b[0;34m)\u001b[0m\u001b[0;34m:\u001b[0m\u001b[0;34m\u001b[0m\u001b[0;34m\u001b[0m\u001b[0m\n\u001b[1;32m    207\u001b[0m         \u001b[0;34m\"\"\"Schedule a func to be run\"\"\"\u001b[0m\u001b[0;34m\u001b[0m\u001b[0;34m\u001b[0m\u001b[0m\n\u001b[0;32m--> 208\u001b[0;31m         \u001b[0mresult\u001b[0m \u001b[0;34m=\u001b[0m \u001b[0mImmediateResult\u001b[0m\u001b[0;34m(\u001b[0m\u001b[0mfunc\u001b[0m\u001b[0;34m)\u001b[0m\u001b[0;34m\u001b[0m\u001b[0;34m\u001b[0m\u001b[0m\n\u001b[0m\u001b[1;32m    209\u001b[0m         \u001b[0;32mif\u001b[0m \u001b[0mcallback\u001b[0m\u001b[0;34m:\u001b[0m\u001b[0;34m\u001b[0m\u001b[0;34m\u001b[0m\u001b[0m\n\u001b[1;32m    210\u001b[0m             \u001b[0mcallback\u001b[0m\u001b[0;34m(\u001b[0m\u001b[0mresult\u001b[0m\u001b[0;34m)\u001b[0m\u001b[0;34m\u001b[0m\u001b[0;34m\u001b[0m\u001b[0m\n",
      "\u001b[0;32m~/opt/anaconda3/envs/learn-env/lib/python3.8/site-packages/joblib/_parallel_backends.py\u001b[0m in \u001b[0;36m__init__\u001b[0;34m(self, batch)\u001b[0m\n\u001b[1;32m    570\u001b[0m         \u001b[0;31m# Don't delay the application, to avoid keeping the input\u001b[0m\u001b[0;34m\u001b[0m\u001b[0;34m\u001b[0m\u001b[0;34m\u001b[0m\u001b[0m\n\u001b[1;32m    571\u001b[0m         \u001b[0;31m# arguments in memory\u001b[0m\u001b[0;34m\u001b[0m\u001b[0;34m\u001b[0m\u001b[0;34m\u001b[0m\u001b[0m\n\u001b[0;32m--> 572\u001b[0;31m         \u001b[0mself\u001b[0m\u001b[0;34m.\u001b[0m\u001b[0mresults\u001b[0m \u001b[0;34m=\u001b[0m \u001b[0mbatch\u001b[0m\u001b[0;34m(\u001b[0m\u001b[0;34m)\u001b[0m\u001b[0;34m\u001b[0m\u001b[0;34m\u001b[0m\u001b[0m\n\u001b[0m\u001b[1;32m    573\u001b[0m \u001b[0;34m\u001b[0m\u001b[0m\n\u001b[1;32m    574\u001b[0m     \u001b[0;32mdef\u001b[0m \u001b[0mget\u001b[0m\u001b[0;34m(\u001b[0m\u001b[0mself\u001b[0m\u001b[0;34m)\u001b[0m\u001b[0;34m:\u001b[0m\u001b[0;34m\u001b[0m\u001b[0;34m\u001b[0m\u001b[0m\n",
      "\u001b[0;32m~/opt/anaconda3/envs/learn-env/lib/python3.8/site-packages/joblib/parallel.py\u001b[0m in \u001b[0;36m__call__\u001b[0;34m(self)\u001b[0m\n\u001b[1;32m    260\u001b[0m         \u001b[0;31m# change the default number of processes to -1\u001b[0m\u001b[0;34m\u001b[0m\u001b[0;34m\u001b[0m\u001b[0;34m\u001b[0m\u001b[0m\n\u001b[1;32m    261\u001b[0m         \u001b[0;32mwith\u001b[0m \u001b[0mparallel_backend\u001b[0m\u001b[0;34m(\u001b[0m\u001b[0mself\u001b[0m\u001b[0;34m.\u001b[0m\u001b[0m_backend\u001b[0m\u001b[0;34m,\u001b[0m \u001b[0mn_jobs\u001b[0m\u001b[0;34m=\u001b[0m\u001b[0mself\u001b[0m\u001b[0;34m.\u001b[0m\u001b[0m_n_jobs\u001b[0m\u001b[0;34m)\u001b[0m\u001b[0;34m:\u001b[0m\u001b[0;34m\u001b[0m\u001b[0;34m\u001b[0m\u001b[0m\n\u001b[0;32m--> 262\u001b[0;31m             return [func(*args, **kwargs)\n\u001b[0m\u001b[1;32m    263\u001b[0m                     for func, args, kwargs in self.items]\n\u001b[1;32m    264\u001b[0m \u001b[0;34m\u001b[0m\u001b[0m\n",
      "\u001b[0;32m~/opt/anaconda3/envs/learn-env/lib/python3.8/site-packages/joblib/parallel.py\u001b[0m in \u001b[0;36m<listcomp>\u001b[0;34m(.0)\u001b[0m\n\u001b[1;32m    260\u001b[0m         \u001b[0;31m# change the default number of processes to -1\u001b[0m\u001b[0;34m\u001b[0m\u001b[0;34m\u001b[0m\u001b[0;34m\u001b[0m\u001b[0m\n\u001b[1;32m    261\u001b[0m         \u001b[0;32mwith\u001b[0m \u001b[0mparallel_backend\u001b[0m\u001b[0;34m(\u001b[0m\u001b[0mself\u001b[0m\u001b[0;34m.\u001b[0m\u001b[0m_backend\u001b[0m\u001b[0;34m,\u001b[0m \u001b[0mn_jobs\u001b[0m\u001b[0;34m=\u001b[0m\u001b[0mself\u001b[0m\u001b[0;34m.\u001b[0m\u001b[0m_n_jobs\u001b[0m\u001b[0;34m)\u001b[0m\u001b[0;34m:\u001b[0m\u001b[0;34m\u001b[0m\u001b[0;34m\u001b[0m\u001b[0m\n\u001b[0;32m--> 262\u001b[0;31m             return [func(*args, **kwargs)\n\u001b[0m\u001b[1;32m    263\u001b[0m                     for func, args, kwargs in self.items]\n\u001b[1;32m    264\u001b[0m \u001b[0;34m\u001b[0m\u001b[0m\n",
      "\u001b[0;32m~/opt/anaconda3/envs/learn-env/lib/python3.8/site-packages/sklearn/utils/fixes.py\u001b[0m in \u001b[0;36m__call__\u001b[0;34m(self, *args, **kwargs)\u001b[0m\n\u001b[1;32m    214\u001b[0m     \u001b[0;32mdef\u001b[0m \u001b[0m__call__\u001b[0m\u001b[0;34m(\u001b[0m\u001b[0mself\u001b[0m\u001b[0;34m,\u001b[0m \u001b[0;34m*\u001b[0m\u001b[0margs\u001b[0m\u001b[0;34m,\u001b[0m \u001b[0;34m**\u001b[0m\u001b[0mkwargs\u001b[0m\u001b[0;34m)\u001b[0m\u001b[0;34m:\u001b[0m\u001b[0;34m\u001b[0m\u001b[0;34m\u001b[0m\u001b[0m\n\u001b[1;32m    215\u001b[0m         \u001b[0;32mwith\u001b[0m \u001b[0mconfig_context\u001b[0m\u001b[0;34m(\u001b[0m\u001b[0;34m**\u001b[0m\u001b[0mself\u001b[0m\u001b[0;34m.\u001b[0m\u001b[0mconfig\u001b[0m\u001b[0;34m)\u001b[0m\u001b[0;34m:\u001b[0m\u001b[0;34m\u001b[0m\u001b[0;34m\u001b[0m\u001b[0m\n\u001b[0;32m--> 216\u001b[0;31m             \u001b[0;32mreturn\u001b[0m \u001b[0mself\u001b[0m\u001b[0;34m.\u001b[0m\u001b[0mfunction\u001b[0m\u001b[0;34m(\u001b[0m\u001b[0;34m*\u001b[0m\u001b[0margs\u001b[0m\u001b[0;34m,\u001b[0m \u001b[0;34m**\u001b[0m\u001b[0mkwargs\u001b[0m\u001b[0;34m)\u001b[0m\u001b[0;34m\u001b[0m\u001b[0;34m\u001b[0m\u001b[0m\n\u001b[0m\u001b[1;32m    217\u001b[0m \u001b[0;34m\u001b[0m\u001b[0m\n\u001b[1;32m    218\u001b[0m \u001b[0;34m\u001b[0m\u001b[0m\n",
      "\u001b[0;32m~/opt/anaconda3/envs/learn-env/lib/python3.8/site-packages/sklearn/model_selection/_validation.py\u001b[0m in \u001b[0;36m_fit_and_score\u001b[0;34m(estimator, X, y, scorer, train, test, verbose, parameters, fit_params, return_train_score, return_parameters, return_n_test_samples, return_times, return_estimator, split_progress, candidate_progress, error_score)\u001b[0m\n\u001b[1;32m    678\u001b[0m             \u001b[0mestimator\u001b[0m\u001b[0;34m.\u001b[0m\u001b[0mfit\u001b[0m\u001b[0;34m(\u001b[0m\u001b[0mX_train\u001b[0m\u001b[0;34m,\u001b[0m \u001b[0;34m**\u001b[0m\u001b[0mfit_params\u001b[0m\u001b[0;34m)\u001b[0m\u001b[0;34m\u001b[0m\u001b[0;34m\u001b[0m\u001b[0m\n\u001b[1;32m    679\u001b[0m         \u001b[0;32melse\u001b[0m\u001b[0;34m:\u001b[0m\u001b[0;34m\u001b[0m\u001b[0;34m\u001b[0m\u001b[0m\n\u001b[0;32m--> 680\u001b[0;31m             \u001b[0mestimator\u001b[0m\u001b[0;34m.\u001b[0m\u001b[0mfit\u001b[0m\u001b[0;34m(\u001b[0m\u001b[0mX_train\u001b[0m\u001b[0;34m,\u001b[0m \u001b[0my_train\u001b[0m\u001b[0;34m,\u001b[0m \u001b[0;34m**\u001b[0m\u001b[0mfit_params\u001b[0m\u001b[0;34m)\u001b[0m\u001b[0;34m\u001b[0m\u001b[0;34m\u001b[0m\u001b[0m\n\u001b[0m\u001b[1;32m    681\u001b[0m \u001b[0;34m\u001b[0m\u001b[0m\n\u001b[1;32m    682\u001b[0m     \u001b[0;32mexcept\u001b[0m \u001b[0mException\u001b[0m\u001b[0;34m:\u001b[0m\u001b[0;34m\u001b[0m\u001b[0;34m\u001b[0m\u001b[0m\n",
      "\u001b[0;32m~/opt/anaconda3/envs/learn-env/lib/python3.8/site-packages/sklearn/pipeline.py\u001b[0m in \u001b[0;36mfit\u001b[0;34m(self, X, y, **fit_params)\u001b[0m\n\u001b[1;32m    392\u001b[0m             \u001b[0;32mif\u001b[0m \u001b[0mself\u001b[0m\u001b[0;34m.\u001b[0m\u001b[0m_final_estimator\u001b[0m \u001b[0;34m!=\u001b[0m \u001b[0;34m\"passthrough\"\u001b[0m\u001b[0;34m:\u001b[0m\u001b[0;34m\u001b[0m\u001b[0;34m\u001b[0m\u001b[0m\n\u001b[1;32m    393\u001b[0m                 \u001b[0mfit_params_last_step\u001b[0m \u001b[0;34m=\u001b[0m \u001b[0mfit_params_steps\u001b[0m\u001b[0;34m[\u001b[0m\u001b[0mself\u001b[0m\u001b[0;34m.\u001b[0m\u001b[0msteps\u001b[0m\u001b[0;34m[\u001b[0m\u001b[0;34m-\u001b[0m\u001b[0;36m1\u001b[0m\u001b[0;34m]\u001b[0m\u001b[0;34m[\u001b[0m\u001b[0;36m0\u001b[0m\u001b[0;34m]\u001b[0m\u001b[0;34m]\u001b[0m\u001b[0;34m\u001b[0m\u001b[0;34m\u001b[0m\u001b[0m\n\u001b[0;32m--> 394\u001b[0;31m                 \u001b[0mself\u001b[0m\u001b[0;34m.\u001b[0m\u001b[0m_final_estimator\u001b[0m\u001b[0;34m.\u001b[0m\u001b[0mfit\u001b[0m\u001b[0;34m(\u001b[0m\u001b[0mXt\u001b[0m\u001b[0;34m,\u001b[0m \u001b[0my\u001b[0m\u001b[0;34m,\u001b[0m \u001b[0;34m**\u001b[0m\u001b[0mfit_params_last_step\u001b[0m\u001b[0;34m)\u001b[0m\u001b[0;34m\u001b[0m\u001b[0;34m\u001b[0m\u001b[0m\n\u001b[0m\u001b[1;32m    395\u001b[0m \u001b[0;34m\u001b[0m\u001b[0m\n\u001b[1;32m    396\u001b[0m         \u001b[0;32mreturn\u001b[0m \u001b[0mself\u001b[0m\u001b[0;34m\u001b[0m\u001b[0;34m\u001b[0m\u001b[0m\n",
      "\u001b[0;32m~/opt/anaconda3/envs/learn-env/lib/python3.8/site-packages/sklearn/ensemble/_stacking.py\u001b[0m in \u001b[0;36mfit\u001b[0;34m(self, X, y, sample_weight)\u001b[0m\n\u001b[1;32m    486\u001b[0m         \u001b[0mself\u001b[0m\u001b[0;34m.\u001b[0m\u001b[0m_le\u001b[0m \u001b[0;34m=\u001b[0m \u001b[0mLabelEncoder\u001b[0m\u001b[0;34m(\u001b[0m\u001b[0;34m)\u001b[0m\u001b[0;34m.\u001b[0m\u001b[0mfit\u001b[0m\u001b[0;34m(\u001b[0m\u001b[0my\u001b[0m\u001b[0;34m)\u001b[0m\u001b[0;34m\u001b[0m\u001b[0;34m\u001b[0m\u001b[0m\n\u001b[1;32m    487\u001b[0m         \u001b[0mself\u001b[0m\u001b[0;34m.\u001b[0m\u001b[0mclasses_\u001b[0m \u001b[0;34m=\u001b[0m \u001b[0mself\u001b[0m\u001b[0;34m.\u001b[0m\u001b[0m_le\u001b[0m\u001b[0;34m.\u001b[0m\u001b[0mclasses_\u001b[0m\u001b[0;34m\u001b[0m\u001b[0;34m\u001b[0m\u001b[0m\n\u001b[0;32m--> 488\u001b[0;31m         \u001b[0;32mreturn\u001b[0m \u001b[0msuper\u001b[0m\u001b[0;34m(\u001b[0m\u001b[0;34m)\u001b[0m\u001b[0;34m.\u001b[0m\u001b[0mfit\u001b[0m\u001b[0;34m(\u001b[0m\u001b[0mX\u001b[0m\u001b[0;34m,\u001b[0m \u001b[0mself\u001b[0m\u001b[0;34m.\u001b[0m\u001b[0m_le\u001b[0m\u001b[0;34m.\u001b[0m\u001b[0mtransform\u001b[0m\u001b[0;34m(\u001b[0m\u001b[0my\u001b[0m\u001b[0;34m)\u001b[0m\u001b[0;34m,\u001b[0m \u001b[0msample_weight\u001b[0m\u001b[0;34m)\u001b[0m\u001b[0;34m\u001b[0m\u001b[0;34m\u001b[0m\u001b[0m\n\u001b[0m\u001b[1;32m    489\u001b[0m \u001b[0;34m\u001b[0m\u001b[0m\n\u001b[1;32m    490\u001b[0m     \u001b[0;34m@\u001b[0m\u001b[0mif_delegate_has_method\u001b[0m\u001b[0;34m(\u001b[0m\u001b[0mdelegate\u001b[0m\u001b[0;34m=\u001b[0m\u001b[0;34m\"final_estimator_\"\u001b[0m\u001b[0;34m)\u001b[0m\u001b[0;34m\u001b[0m\u001b[0;34m\u001b[0m\u001b[0m\n",
      "\u001b[0;32m~/opt/anaconda3/envs/learn-env/lib/python3.8/site-packages/sklearn/ensemble/_stacking.py\u001b[0m in \u001b[0;36mfit\u001b[0;34m(self, X, y, sample_weight)\u001b[0m\n\u001b[1;32m    156\u001b[0m         \u001b[0;31m# base estimators will be used in transform, predict, and\u001b[0m\u001b[0;34m\u001b[0m\u001b[0;34m\u001b[0m\u001b[0;34m\u001b[0m\u001b[0m\n\u001b[1;32m    157\u001b[0m         \u001b[0;31m# predict_proba. They are exposed publicly.\u001b[0m\u001b[0;34m\u001b[0m\u001b[0;34m\u001b[0m\u001b[0;34m\u001b[0m\u001b[0m\n\u001b[0;32m--> 158\u001b[0;31m         self.estimators_ = Parallel(n_jobs=self.n_jobs)(\n\u001b[0m\u001b[1;32m    159\u001b[0m             \u001b[0mdelayed\u001b[0m\u001b[0;34m(\u001b[0m\u001b[0m_fit_single_estimator\u001b[0m\u001b[0;34m)\u001b[0m\u001b[0;34m(\u001b[0m\u001b[0mclone\u001b[0m\u001b[0;34m(\u001b[0m\u001b[0mest\u001b[0m\u001b[0;34m)\u001b[0m\u001b[0;34m,\u001b[0m \u001b[0mX\u001b[0m\u001b[0;34m,\u001b[0m \u001b[0my\u001b[0m\u001b[0;34m,\u001b[0m \u001b[0msample_weight\u001b[0m\u001b[0;34m)\u001b[0m\u001b[0;34m\u001b[0m\u001b[0;34m\u001b[0m\u001b[0m\n\u001b[1;32m    160\u001b[0m             \u001b[0;32mfor\u001b[0m \u001b[0mest\u001b[0m \u001b[0;32min\u001b[0m \u001b[0mall_estimators\u001b[0m\u001b[0;34m\u001b[0m\u001b[0;34m\u001b[0m\u001b[0m\n",
      "\u001b[0;32m~/opt/anaconda3/envs/learn-env/lib/python3.8/site-packages/joblib/parallel.py\u001b[0m in \u001b[0;36m__call__\u001b[0;34m(self, iterable)\u001b[0m\n\u001b[1;32m   1046\u001b[0m             \u001b[0;31m# remaining jobs.\u001b[0m\u001b[0;34m\u001b[0m\u001b[0;34m\u001b[0m\u001b[0;34m\u001b[0m\u001b[0m\n\u001b[1;32m   1047\u001b[0m             \u001b[0mself\u001b[0m\u001b[0;34m.\u001b[0m\u001b[0m_iterating\u001b[0m \u001b[0;34m=\u001b[0m \u001b[0;32mFalse\u001b[0m\u001b[0;34m\u001b[0m\u001b[0;34m\u001b[0m\u001b[0m\n\u001b[0;32m-> 1048\u001b[0;31m             \u001b[0;32mif\u001b[0m \u001b[0mself\u001b[0m\u001b[0;34m.\u001b[0m\u001b[0mdispatch_one_batch\u001b[0m\u001b[0;34m(\u001b[0m\u001b[0miterator\u001b[0m\u001b[0;34m)\u001b[0m\u001b[0;34m:\u001b[0m\u001b[0;34m\u001b[0m\u001b[0;34m\u001b[0m\u001b[0m\n\u001b[0m\u001b[1;32m   1049\u001b[0m                 \u001b[0mself\u001b[0m\u001b[0;34m.\u001b[0m\u001b[0m_iterating\u001b[0m \u001b[0;34m=\u001b[0m \u001b[0mself\u001b[0m\u001b[0;34m.\u001b[0m\u001b[0m_original_iterator\u001b[0m \u001b[0;32mis\u001b[0m \u001b[0;32mnot\u001b[0m \u001b[0;32mNone\u001b[0m\u001b[0;34m\u001b[0m\u001b[0;34m\u001b[0m\u001b[0m\n\u001b[1;32m   1050\u001b[0m \u001b[0;34m\u001b[0m\u001b[0m\n",
      "\u001b[0;32m~/opt/anaconda3/envs/learn-env/lib/python3.8/site-packages/joblib/parallel.py\u001b[0m in \u001b[0;36mdispatch_one_batch\u001b[0;34m(self, iterator)\u001b[0m\n\u001b[1;32m    864\u001b[0m                 \u001b[0;32mreturn\u001b[0m \u001b[0;32mFalse\u001b[0m\u001b[0;34m\u001b[0m\u001b[0;34m\u001b[0m\u001b[0m\n\u001b[1;32m    865\u001b[0m             \u001b[0;32melse\u001b[0m\u001b[0;34m:\u001b[0m\u001b[0;34m\u001b[0m\u001b[0;34m\u001b[0m\u001b[0m\n\u001b[0;32m--> 866\u001b[0;31m                 \u001b[0mself\u001b[0m\u001b[0;34m.\u001b[0m\u001b[0m_dispatch\u001b[0m\u001b[0;34m(\u001b[0m\u001b[0mtasks\u001b[0m\u001b[0;34m)\u001b[0m\u001b[0;34m\u001b[0m\u001b[0;34m\u001b[0m\u001b[0m\n\u001b[0m\u001b[1;32m    867\u001b[0m                 \u001b[0;32mreturn\u001b[0m \u001b[0;32mTrue\u001b[0m\u001b[0;34m\u001b[0m\u001b[0;34m\u001b[0m\u001b[0m\n\u001b[1;32m    868\u001b[0m \u001b[0;34m\u001b[0m\u001b[0m\n",
      "\u001b[0;32m~/opt/anaconda3/envs/learn-env/lib/python3.8/site-packages/joblib/parallel.py\u001b[0m in \u001b[0;36m_dispatch\u001b[0;34m(self, batch)\u001b[0m\n\u001b[1;32m    782\u001b[0m         \u001b[0;32mwith\u001b[0m \u001b[0mself\u001b[0m\u001b[0;34m.\u001b[0m\u001b[0m_lock\u001b[0m\u001b[0;34m:\u001b[0m\u001b[0;34m\u001b[0m\u001b[0;34m\u001b[0m\u001b[0m\n\u001b[1;32m    783\u001b[0m             \u001b[0mjob_idx\u001b[0m \u001b[0;34m=\u001b[0m \u001b[0mlen\u001b[0m\u001b[0;34m(\u001b[0m\u001b[0mself\u001b[0m\u001b[0;34m.\u001b[0m\u001b[0m_jobs\u001b[0m\u001b[0;34m)\u001b[0m\u001b[0;34m\u001b[0m\u001b[0;34m\u001b[0m\u001b[0m\n\u001b[0;32m--> 784\u001b[0;31m             \u001b[0mjob\u001b[0m \u001b[0;34m=\u001b[0m \u001b[0mself\u001b[0m\u001b[0;34m.\u001b[0m\u001b[0m_backend\u001b[0m\u001b[0;34m.\u001b[0m\u001b[0mapply_async\u001b[0m\u001b[0;34m(\u001b[0m\u001b[0mbatch\u001b[0m\u001b[0;34m,\u001b[0m \u001b[0mcallback\u001b[0m\u001b[0;34m=\u001b[0m\u001b[0mcb\u001b[0m\u001b[0;34m)\u001b[0m\u001b[0;34m\u001b[0m\u001b[0;34m\u001b[0m\u001b[0m\n\u001b[0m\u001b[1;32m    785\u001b[0m             \u001b[0;31m# A job can complete so quickly than its callback is\u001b[0m\u001b[0;34m\u001b[0m\u001b[0;34m\u001b[0m\u001b[0;34m\u001b[0m\u001b[0m\n\u001b[1;32m    786\u001b[0m             \u001b[0;31m# called before we get here, causing self._jobs to\u001b[0m\u001b[0;34m\u001b[0m\u001b[0;34m\u001b[0m\u001b[0;34m\u001b[0m\u001b[0m\n",
      "\u001b[0;32m~/opt/anaconda3/envs/learn-env/lib/python3.8/site-packages/joblib/_parallel_backends.py\u001b[0m in \u001b[0;36mapply_async\u001b[0;34m(self, func, callback)\u001b[0m\n\u001b[1;32m    206\u001b[0m     \u001b[0;32mdef\u001b[0m \u001b[0mapply_async\u001b[0m\u001b[0;34m(\u001b[0m\u001b[0mself\u001b[0m\u001b[0;34m,\u001b[0m \u001b[0mfunc\u001b[0m\u001b[0;34m,\u001b[0m \u001b[0mcallback\u001b[0m\u001b[0;34m=\u001b[0m\u001b[0;32mNone\u001b[0m\u001b[0;34m)\u001b[0m\u001b[0;34m:\u001b[0m\u001b[0;34m\u001b[0m\u001b[0;34m\u001b[0m\u001b[0m\n\u001b[1;32m    207\u001b[0m         \u001b[0;34m\"\"\"Schedule a func to be run\"\"\"\u001b[0m\u001b[0;34m\u001b[0m\u001b[0;34m\u001b[0m\u001b[0m\n\u001b[0;32m--> 208\u001b[0;31m         \u001b[0mresult\u001b[0m \u001b[0;34m=\u001b[0m \u001b[0mImmediateResult\u001b[0m\u001b[0;34m(\u001b[0m\u001b[0mfunc\u001b[0m\u001b[0;34m)\u001b[0m\u001b[0;34m\u001b[0m\u001b[0;34m\u001b[0m\u001b[0m\n\u001b[0m\u001b[1;32m    209\u001b[0m         \u001b[0;32mif\u001b[0m \u001b[0mcallback\u001b[0m\u001b[0;34m:\u001b[0m\u001b[0;34m\u001b[0m\u001b[0;34m\u001b[0m\u001b[0m\n\u001b[1;32m    210\u001b[0m             \u001b[0mcallback\u001b[0m\u001b[0;34m(\u001b[0m\u001b[0mresult\u001b[0m\u001b[0;34m)\u001b[0m\u001b[0;34m\u001b[0m\u001b[0;34m\u001b[0m\u001b[0m\n",
      "\u001b[0;32m~/opt/anaconda3/envs/learn-env/lib/python3.8/site-packages/joblib/_parallel_backends.py\u001b[0m in \u001b[0;36m__init__\u001b[0;34m(self, batch)\u001b[0m\n\u001b[1;32m    570\u001b[0m         \u001b[0;31m# Don't delay the application, to avoid keeping the input\u001b[0m\u001b[0;34m\u001b[0m\u001b[0;34m\u001b[0m\u001b[0;34m\u001b[0m\u001b[0m\n\u001b[1;32m    571\u001b[0m         \u001b[0;31m# arguments in memory\u001b[0m\u001b[0;34m\u001b[0m\u001b[0;34m\u001b[0m\u001b[0;34m\u001b[0m\u001b[0m\n\u001b[0;32m--> 572\u001b[0;31m         \u001b[0mself\u001b[0m\u001b[0;34m.\u001b[0m\u001b[0mresults\u001b[0m \u001b[0;34m=\u001b[0m \u001b[0mbatch\u001b[0m\u001b[0;34m(\u001b[0m\u001b[0;34m)\u001b[0m\u001b[0;34m\u001b[0m\u001b[0;34m\u001b[0m\u001b[0m\n\u001b[0m\u001b[1;32m    573\u001b[0m \u001b[0;34m\u001b[0m\u001b[0m\n\u001b[1;32m    574\u001b[0m     \u001b[0;32mdef\u001b[0m \u001b[0mget\u001b[0m\u001b[0;34m(\u001b[0m\u001b[0mself\u001b[0m\u001b[0;34m)\u001b[0m\u001b[0;34m:\u001b[0m\u001b[0;34m\u001b[0m\u001b[0;34m\u001b[0m\u001b[0m\n",
      "\u001b[0;32m~/opt/anaconda3/envs/learn-env/lib/python3.8/site-packages/joblib/parallel.py\u001b[0m in \u001b[0;36m__call__\u001b[0;34m(self)\u001b[0m\n\u001b[1;32m    260\u001b[0m         \u001b[0;31m# change the default number of processes to -1\u001b[0m\u001b[0;34m\u001b[0m\u001b[0;34m\u001b[0m\u001b[0;34m\u001b[0m\u001b[0m\n\u001b[1;32m    261\u001b[0m         \u001b[0;32mwith\u001b[0m \u001b[0mparallel_backend\u001b[0m\u001b[0;34m(\u001b[0m\u001b[0mself\u001b[0m\u001b[0;34m.\u001b[0m\u001b[0m_backend\u001b[0m\u001b[0;34m,\u001b[0m \u001b[0mn_jobs\u001b[0m\u001b[0;34m=\u001b[0m\u001b[0mself\u001b[0m\u001b[0;34m.\u001b[0m\u001b[0m_n_jobs\u001b[0m\u001b[0;34m)\u001b[0m\u001b[0;34m:\u001b[0m\u001b[0;34m\u001b[0m\u001b[0;34m\u001b[0m\u001b[0m\n\u001b[0;32m--> 262\u001b[0;31m             return [func(*args, **kwargs)\n\u001b[0m\u001b[1;32m    263\u001b[0m                     for func, args, kwargs in self.items]\n\u001b[1;32m    264\u001b[0m \u001b[0;34m\u001b[0m\u001b[0m\n",
      "\u001b[0;32m~/opt/anaconda3/envs/learn-env/lib/python3.8/site-packages/joblib/parallel.py\u001b[0m in \u001b[0;36m<listcomp>\u001b[0;34m(.0)\u001b[0m\n\u001b[1;32m    260\u001b[0m         \u001b[0;31m# change the default number of processes to -1\u001b[0m\u001b[0;34m\u001b[0m\u001b[0;34m\u001b[0m\u001b[0;34m\u001b[0m\u001b[0m\n\u001b[1;32m    261\u001b[0m         \u001b[0;32mwith\u001b[0m \u001b[0mparallel_backend\u001b[0m\u001b[0;34m(\u001b[0m\u001b[0mself\u001b[0m\u001b[0;34m.\u001b[0m\u001b[0m_backend\u001b[0m\u001b[0;34m,\u001b[0m \u001b[0mn_jobs\u001b[0m\u001b[0;34m=\u001b[0m\u001b[0mself\u001b[0m\u001b[0;34m.\u001b[0m\u001b[0m_n_jobs\u001b[0m\u001b[0;34m)\u001b[0m\u001b[0;34m:\u001b[0m\u001b[0;34m\u001b[0m\u001b[0;34m\u001b[0m\u001b[0m\n\u001b[0;32m--> 262\u001b[0;31m             return [func(*args, **kwargs)\n\u001b[0m\u001b[1;32m    263\u001b[0m                     for func, args, kwargs in self.items]\n\u001b[1;32m    264\u001b[0m \u001b[0;34m\u001b[0m\u001b[0m\n",
      "\u001b[0;32m~/opt/anaconda3/envs/learn-env/lib/python3.8/site-packages/sklearn/utils/fixes.py\u001b[0m in \u001b[0;36m__call__\u001b[0;34m(self, *args, **kwargs)\u001b[0m\n\u001b[1;32m    214\u001b[0m     \u001b[0;32mdef\u001b[0m \u001b[0m__call__\u001b[0m\u001b[0;34m(\u001b[0m\u001b[0mself\u001b[0m\u001b[0;34m,\u001b[0m \u001b[0;34m*\u001b[0m\u001b[0margs\u001b[0m\u001b[0;34m,\u001b[0m \u001b[0;34m**\u001b[0m\u001b[0mkwargs\u001b[0m\u001b[0;34m)\u001b[0m\u001b[0;34m:\u001b[0m\u001b[0;34m\u001b[0m\u001b[0;34m\u001b[0m\u001b[0m\n\u001b[1;32m    215\u001b[0m         \u001b[0;32mwith\u001b[0m \u001b[0mconfig_context\u001b[0m\u001b[0;34m(\u001b[0m\u001b[0;34m**\u001b[0m\u001b[0mself\u001b[0m\u001b[0;34m.\u001b[0m\u001b[0mconfig\u001b[0m\u001b[0;34m)\u001b[0m\u001b[0;34m:\u001b[0m\u001b[0;34m\u001b[0m\u001b[0;34m\u001b[0m\u001b[0m\n\u001b[0;32m--> 216\u001b[0;31m             \u001b[0;32mreturn\u001b[0m \u001b[0mself\u001b[0m\u001b[0;34m.\u001b[0m\u001b[0mfunction\u001b[0m\u001b[0;34m(\u001b[0m\u001b[0;34m*\u001b[0m\u001b[0margs\u001b[0m\u001b[0;34m,\u001b[0m \u001b[0;34m**\u001b[0m\u001b[0mkwargs\u001b[0m\u001b[0;34m)\u001b[0m\u001b[0;34m\u001b[0m\u001b[0;34m\u001b[0m\u001b[0m\n\u001b[0m\u001b[1;32m    217\u001b[0m \u001b[0;34m\u001b[0m\u001b[0m\n\u001b[1;32m    218\u001b[0m \u001b[0;34m\u001b[0m\u001b[0m\n",
      "\u001b[0;32m~/opt/anaconda3/envs/learn-env/lib/python3.8/site-packages/sklearn/ensemble/_base.py\u001b[0m in \u001b[0;36m_fit_single_estimator\u001b[0;34m(estimator, X, y, sample_weight, message_clsname, message)\u001b[0m\n\u001b[1;32m     40\u001b[0m     \u001b[0;32melse\u001b[0m\u001b[0;34m:\u001b[0m\u001b[0;34m\u001b[0m\u001b[0;34m\u001b[0m\u001b[0m\n\u001b[1;32m     41\u001b[0m         \u001b[0;32mwith\u001b[0m \u001b[0m_print_elapsed_time\u001b[0m\u001b[0;34m(\u001b[0m\u001b[0mmessage_clsname\u001b[0m\u001b[0;34m,\u001b[0m \u001b[0mmessage\u001b[0m\u001b[0;34m)\u001b[0m\u001b[0;34m:\u001b[0m\u001b[0;34m\u001b[0m\u001b[0;34m\u001b[0m\u001b[0m\n\u001b[0;32m---> 42\u001b[0;31m             \u001b[0mestimator\u001b[0m\u001b[0;34m.\u001b[0m\u001b[0mfit\u001b[0m\u001b[0;34m(\u001b[0m\u001b[0mX\u001b[0m\u001b[0;34m,\u001b[0m \u001b[0my\u001b[0m\u001b[0;34m)\u001b[0m\u001b[0;34m\u001b[0m\u001b[0;34m\u001b[0m\u001b[0m\n\u001b[0m\u001b[1;32m     43\u001b[0m     \u001b[0;32mreturn\u001b[0m \u001b[0mestimator\u001b[0m\u001b[0;34m\u001b[0m\u001b[0;34m\u001b[0m\u001b[0m\n\u001b[1;32m     44\u001b[0m \u001b[0;34m\u001b[0m\u001b[0m\n",
      "\u001b[0;32m~/opt/anaconda3/envs/learn-env/lib/python3.8/site-packages/sklearn/ensemble/_forest.py\u001b[0m in \u001b[0;36mfit\u001b[0;34m(self, X, y, sample_weight)\u001b[0m\n\u001b[1;32m    448\u001b[0m             \u001b[0;31m# parallel_backend contexts set at a higher level,\u001b[0m\u001b[0;34m\u001b[0m\u001b[0;34m\u001b[0m\u001b[0;34m\u001b[0m\u001b[0m\n\u001b[1;32m    449\u001b[0m             \u001b[0;31m# since correctness does not rely on using threads.\u001b[0m\u001b[0;34m\u001b[0m\u001b[0;34m\u001b[0m\u001b[0;34m\u001b[0m\u001b[0m\n\u001b[0;32m--> 450\u001b[0;31m             trees = Parallel(\n\u001b[0m\u001b[1;32m    451\u001b[0m                 \u001b[0mn_jobs\u001b[0m\u001b[0;34m=\u001b[0m\u001b[0mself\u001b[0m\u001b[0;34m.\u001b[0m\u001b[0mn_jobs\u001b[0m\u001b[0;34m,\u001b[0m\u001b[0;34m\u001b[0m\u001b[0;34m\u001b[0m\u001b[0m\n\u001b[1;32m    452\u001b[0m                 \u001b[0mverbose\u001b[0m\u001b[0;34m=\u001b[0m\u001b[0mself\u001b[0m\u001b[0;34m.\u001b[0m\u001b[0mverbose\u001b[0m\u001b[0;34m,\u001b[0m\u001b[0;34m\u001b[0m\u001b[0;34m\u001b[0m\u001b[0m\n",
      "\u001b[0;32m~/opt/anaconda3/envs/learn-env/lib/python3.8/site-packages/joblib/parallel.py\u001b[0m in \u001b[0;36m__call__\u001b[0;34m(self, iterable)\u001b[0m\n\u001b[1;32m   1049\u001b[0m                 \u001b[0mself\u001b[0m\u001b[0;34m.\u001b[0m\u001b[0m_iterating\u001b[0m \u001b[0;34m=\u001b[0m \u001b[0mself\u001b[0m\u001b[0;34m.\u001b[0m\u001b[0m_original_iterator\u001b[0m \u001b[0;32mis\u001b[0m \u001b[0;32mnot\u001b[0m \u001b[0;32mNone\u001b[0m\u001b[0;34m\u001b[0m\u001b[0;34m\u001b[0m\u001b[0m\n\u001b[1;32m   1050\u001b[0m \u001b[0;34m\u001b[0m\u001b[0m\n\u001b[0;32m-> 1051\u001b[0;31m             \u001b[0;32mwhile\u001b[0m \u001b[0mself\u001b[0m\u001b[0;34m.\u001b[0m\u001b[0mdispatch_one_batch\u001b[0m\u001b[0;34m(\u001b[0m\u001b[0miterator\u001b[0m\u001b[0;34m)\u001b[0m\u001b[0;34m:\u001b[0m\u001b[0;34m\u001b[0m\u001b[0;34m\u001b[0m\u001b[0m\n\u001b[0m\u001b[1;32m   1052\u001b[0m                 \u001b[0;32mpass\u001b[0m\u001b[0;34m\u001b[0m\u001b[0;34m\u001b[0m\u001b[0m\n\u001b[1;32m   1053\u001b[0m \u001b[0;34m\u001b[0m\u001b[0m\n",
      "\u001b[0;32m~/opt/anaconda3/envs/learn-env/lib/python3.8/site-packages/joblib/parallel.py\u001b[0m in \u001b[0;36mdispatch_one_batch\u001b[0;34m(self, iterator)\u001b[0m\n\u001b[1;32m    864\u001b[0m                 \u001b[0;32mreturn\u001b[0m \u001b[0;32mFalse\u001b[0m\u001b[0;34m\u001b[0m\u001b[0;34m\u001b[0m\u001b[0m\n\u001b[1;32m    865\u001b[0m             \u001b[0;32melse\u001b[0m\u001b[0;34m:\u001b[0m\u001b[0;34m\u001b[0m\u001b[0;34m\u001b[0m\u001b[0m\n\u001b[0;32m--> 866\u001b[0;31m                 \u001b[0mself\u001b[0m\u001b[0;34m.\u001b[0m\u001b[0m_dispatch\u001b[0m\u001b[0;34m(\u001b[0m\u001b[0mtasks\u001b[0m\u001b[0;34m)\u001b[0m\u001b[0;34m\u001b[0m\u001b[0;34m\u001b[0m\u001b[0m\n\u001b[0m\u001b[1;32m    867\u001b[0m                 \u001b[0;32mreturn\u001b[0m \u001b[0;32mTrue\u001b[0m\u001b[0;34m\u001b[0m\u001b[0;34m\u001b[0m\u001b[0m\n\u001b[1;32m    868\u001b[0m \u001b[0;34m\u001b[0m\u001b[0m\n",
      "\u001b[0;32m~/opt/anaconda3/envs/learn-env/lib/python3.8/site-packages/joblib/parallel.py\u001b[0m in \u001b[0;36m_dispatch\u001b[0;34m(self, batch)\u001b[0m\n\u001b[1;32m    782\u001b[0m         \u001b[0;32mwith\u001b[0m \u001b[0mself\u001b[0m\u001b[0;34m.\u001b[0m\u001b[0m_lock\u001b[0m\u001b[0;34m:\u001b[0m\u001b[0;34m\u001b[0m\u001b[0;34m\u001b[0m\u001b[0m\n\u001b[1;32m    783\u001b[0m             \u001b[0mjob_idx\u001b[0m \u001b[0;34m=\u001b[0m \u001b[0mlen\u001b[0m\u001b[0;34m(\u001b[0m\u001b[0mself\u001b[0m\u001b[0;34m.\u001b[0m\u001b[0m_jobs\u001b[0m\u001b[0;34m)\u001b[0m\u001b[0;34m\u001b[0m\u001b[0;34m\u001b[0m\u001b[0m\n\u001b[0;32m--> 784\u001b[0;31m             \u001b[0mjob\u001b[0m \u001b[0;34m=\u001b[0m \u001b[0mself\u001b[0m\u001b[0;34m.\u001b[0m\u001b[0m_backend\u001b[0m\u001b[0;34m.\u001b[0m\u001b[0mapply_async\u001b[0m\u001b[0;34m(\u001b[0m\u001b[0mbatch\u001b[0m\u001b[0;34m,\u001b[0m \u001b[0mcallback\u001b[0m\u001b[0;34m=\u001b[0m\u001b[0mcb\u001b[0m\u001b[0;34m)\u001b[0m\u001b[0;34m\u001b[0m\u001b[0;34m\u001b[0m\u001b[0m\n\u001b[0m\u001b[1;32m    785\u001b[0m             \u001b[0;31m# A job can complete so quickly than its callback is\u001b[0m\u001b[0;34m\u001b[0m\u001b[0;34m\u001b[0m\u001b[0;34m\u001b[0m\u001b[0m\n\u001b[1;32m    786\u001b[0m             \u001b[0;31m# called before we get here, causing self._jobs to\u001b[0m\u001b[0;34m\u001b[0m\u001b[0;34m\u001b[0m\u001b[0;34m\u001b[0m\u001b[0m\n",
      "\u001b[0;32m~/opt/anaconda3/envs/learn-env/lib/python3.8/site-packages/joblib/_parallel_backends.py\u001b[0m in \u001b[0;36mapply_async\u001b[0;34m(self, func, callback)\u001b[0m\n\u001b[1;32m    206\u001b[0m     \u001b[0;32mdef\u001b[0m \u001b[0mapply_async\u001b[0m\u001b[0;34m(\u001b[0m\u001b[0mself\u001b[0m\u001b[0;34m,\u001b[0m \u001b[0mfunc\u001b[0m\u001b[0;34m,\u001b[0m \u001b[0mcallback\u001b[0m\u001b[0;34m=\u001b[0m\u001b[0;32mNone\u001b[0m\u001b[0;34m)\u001b[0m\u001b[0;34m:\u001b[0m\u001b[0;34m\u001b[0m\u001b[0;34m\u001b[0m\u001b[0m\n\u001b[1;32m    207\u001b[0m         \u001b[0;34m\"\"\"Schedule a func to be run\"\"\"\u001b[0m\u001b[0;34m\u001b[0m\u001b[0;34m\u001b[0m\u001b[0m\n\u001b[0;32m--> 208\u001b[0;31m         \u001b[0mresult\u001b[0m \u001b[0;34m=\u001b[0m \u001b[0mImmediateResult\u001b[0m\u001b[0;34m(\u001b[0m\u001b[0mfunc\u001b[0m\u001b[0;34m)\u001b[0m\u001b[0;34m\u001b[0m\u001b[0;34m\u001b[0m\u001b[0m\n\u001b[0m\u001b[1;32m    209\u001b[0m         \u001b[0;32mif\u001b[0m \u001b[0mcallback\u001b[0m\u001b[0;34m:\u001b[0m\u001b[0;34m\u001b[0m\u001b[0;34m\u001b[0m\u001b[0m\n\u001b[1;32m    210\u001b[0m             \u001b[0mcallback\u001b[0m\u001b[0;34m(\u001b[0m\u001b[0mresult\u001b[0m\u001b[0;34m)\u001b[0m\u001b[0;34m\u001b[0m\u001b[0;34m\u001b[0m\u001b[0m\n",
      "\u001b[0;32m~/opt/anaconda3/envs/learn-env/lib/python3.8/site-packages/joblib/_parallel_backends.py\u001b[0m in \u001b[0;36m__init__\u001b[0;34m(self, batch)\u001b[0m\n\u001b[1;32m    570\u001b[0m         \u001b[0;31m# Don't delay the application, to avoid keeping the input\u001b[0m\u001b[0;34m\u001b[0m\u001b[0;34m\u001b[0m\u001b[0;34m\u001b[0m\u001b[0m\n\u001b[1;32m    571\u001b[0m         \u001b[0;31m# arguments in memory\u001b[0m\u001b[0;34m\u001b[0m\u001b[0;34m\u001b[0m\u001b[0;34m\u001b[0m\u001b[0m\n\u001b[0;32m--> 572\u001b[0;31m         \u001b[0mself\u001b[0m\u001b[0;34m.\u001b[0m\u001b[0mresults\u001b[0m \u001b[0;34m=\u001b[0m \u001b[0mbatch\u001b[0m\u001b[0;34m(\u001b[0m\u001b[0;34m)\u001b[0m\u001b[0;34m\u001b[0m\u001b[0;34m\u001b[0m\u001b[0m\n\u001b[0m\u001b[1;32m    573\u001b[0m \u001b[0;34m\u001b[0m\u001b[0m\n\u001b[1;32m    574\u001b[0m     \u001b[0;32mdef\u001b[0m \u001b[0mget\u001b[0m\u001b[0;34m(\u001b[0m\u001b[0mself\u001b[0m\u001b[0;34m)\u001b[0m\u001b[0;34m:\u001b[0m\u001b[0;34m\u001b[0m\u001b[0;34m\u001b[0m\u001b[0m\n",
      "\u001b[0;32m~/opt/anaconda3/envs/learn-env/lib/python3.8/site-packages/joblib/parallel.py\u001b[0m in \u001b[0;36m__call__\u001b[0;34m(self)\u001b[0m\n\u001b[1;32m    260\u001b[0m         \u001b[0;31m# change the default number of processes to -1\u001b[0m\u001b[0;34m\u001b[0m\u001b[0;34m\u001b[0m\u001b[0;34m\u001b[0m\u001b[0m\n\u001b[1;32m    261\u001b[0m         \u001b[0;32mwith\u001b[0m \u001b[0mparallel_backend\u001b[0m\u001b[0;34m(\u001b[0m\u001b[0mself\u001b[0m\u001b[0;34m.\u001b[0m\u001b[0m_backend\u001b[0m\u001b[0;34m,\u001b[0m \u001b[0mn_jobs\u001b[0m\u001b[0;34m=\u001b[0m\u001b[0mself\u001b[0m\u001b[0;34m.\u001b[0m\u001b[0m_n_jobs\u001b[0m\u001b[0;34m)\u001b[0m\u001b[0;34m:\u001b[0m\u001b[0;34m\u001b[0m\u001b[0;34m\u001b[0m\u001b[0m\n\u001b[0;32m--> 262\u001b[0;31m             return [func(*args, **kwargs)\n\u001b[0m\u001b[1;32m    263\u001b[0m                     for func, args, kwargs in self.items]\n\u001b[1;32m    264\u001b[0m \u001b[0;34m\u001b[0m\u001b[0m\n",
      "\u001b[0;32m~/opt/anaconda3/envs/learn-env/lib/python3.8/site-packages/joblib/parallel.py\u001b[0m in \u001b[0;36m<listcomp>\u001b[0;34m(.0)\u001b[0m\n\u001b[1;32m    260\u001b[0m         \u001b[0;31m# change the default number of processes to -1\u001b[0m\u001b[0;34m\u001b[0m\u001b[0;34m\u001b[0m\u001b[0;34m\u001b[0m\u001b[0m\n\u001b[1;32m    261\u001b[0m         \u001b[0;32mwith\u001b[0m \u001b[0mparallel_backend\u001b[0m\u001b[0;34m(\u001b[0m\u001b[0mself\u001b[0m\u001b[0;34m.\u001b[0m\u001b[0m_backend\u001b[0m\u001b[0;34m,\u001b[0m \u001b[0mn_jobs\u001b[0m\u001b[0;34m=\u001b[0m\u001b[0mself\u001b[0m\u001b[0;34m.\u001b[0m\u001b[0m_n_jobs\u001b[0m\u001b[0;34m)\u001b[0m\u001b[0;34m:\u001b[0m\u001b[0;34m\u001b[0m\u001b[0;34m\u001b[0m\u001b[0m\n\u001b[0;32m--> 262\u001b[0;31m             return [func(*args, **kwargs)\n\u001b[0m\u001b[1;32m    263\u001b[0m                     for func, args, kwargs in self.items]\n\u001b[1;32m    264\u001b[0m \u001b[0;34m\u001b[0m\u001b[0m\n",
      "\u001b[0;32m~/opt/anaconda3/envs/learn-env/lib/python3.8/site-packages/sklearn/utils/fixes.py\u001b[0m in \u001b[0;36m__call__\u001b[0;34m(self, *args, **kwargs)\u001b[0m\n\u001b[1;32m    214\u001b[0m     \u001b[0;32mdef\u001b[0m \u001b[0m__call__\u001b[0m\u001b[0;34m(\u001b[0m\u001b[0mself\u001b[0m\u001b[0;34m,\u001b[0m \u001b[0;34m*\u001b[0m\u001b[0margs\u001b[0m\u001b[0;34m,\u001b[0m \u001b[0;34m**\u001b[0m\u001b[0mkwargs\u001b[0m\u001b[0;34m)\u001b[0m\u001b[0;34m:\u001b[0m\u001b[0;34m\u001b[0m\u001b[0;34m\u001b[0m\u001b[0m\n\u001b[1;32m    215\u001b[0m         \u001b[0;32mwith\u001b[0m \u001b[0mconfig_context\u001b[0m\u001b[0;34m(\u001b[0m\u001b[0;34m**\u001b[0m\u001b[0mself\u001b[0m\u001b[0;34m.\u001b[0m\u001b[0mconfig\u001b[0m\u001b[0;34m)\u001b[0m\u001b[0;34m:\u001b[0m\u001b[0;34m\u001b[0m\u001b[0;34m\u001b[0m\u001b[0m\n\u001b[0;32m--> 216\u001b[0;31m             \u001b[0;32mreturn\u001b[0m \u001b[0mself\u001b[0m\u001b[0;34m.\u001b[0m\u001b[0mfunction\u001b[0m\u001b[0;34m(\u001b[0m\u001b[0;34m*\u001b[0m\u001b[0margs\u001b[0m\u001b[0;34m,\u001b[0m \u001b[0;34m**\u001b[0m\u001b[0mkwargs\u001b[0m\u001b[0;34m)\u001b[0m\u001b[0;34m\u001b[0m\u001b[0;34m\u001b[0m\u001b[0m\n\u001b[0m\u001b[1;32m    217\u001b[0m \u001b[0;34m\u001b[0m\u001b[0m\n\u001b[1;32m    218\u001b[0m \u001b[0;34m\u001b[0m\u001b[0m\n",
      "\u001b[0;32m~/opt/anaconda3/envs/learn-env/lib/python3.8/site-packages/sklearn/ensemble/_forest.py\u001b[0m in \u001b[0;36m_parallel_build_trees\u001b[0;34m(tree, forest, X, y, sample_weight, tree_idx, n_trees, verbose, class_weight, n_samples_bootstrap)\u001b[0m\n\u001b[1;32m    183\u001b[0m             \u001b[0mcurr_sample_weight\u001b[0m \u001b[0;34m*=\u001b[0m \u001b[0mcompute_sample_weight\u001b[0m\u001b[0;34m(\u001b[0m\u001b[0;34m\"balanced\"\u001b[0m\u001b[0;34m,\u001b[0m \u001b[0my\u001b[0m\u001b[0;34m,\u001b[0m \u001b[0mindices\u001b[0m\u001b[0;34m=\u001b[0m\u001b[0mindices\u001b[0m\u001b[0;34m)\u001b[0m\u001b[0;34m\u001b[0m\u001b[0;34m\u001b[0m\u001b[0m\n\u001b[1;32m    184\u001b[0m \u001b[0;34m\u001b[0m\u001b[0m\n\u001b[0;32m--> 185\u001b[0;31m         \u001b[0mtree\u001b[0m\u001b[0;34m.\u001b[0m\u001b[0mfit\u001b[0m\u001b[0;34m(\u001b[0m\u001b[0mX\u001b[0m\u001b[0;34m,\u001b[0m \u001b[0my\u001b[0m\u001b[0;34m,\u001b[0m \u001b[0msample_weight\u001b[0m\u001b[0;34m=\u001b[0m\u001b[0mcurr_sample_weight\u001b[0m\u001b[0;34m,\u001b[0m \u001b[0mcheck_input\u001b[0m\u001b[0;34m=\u001b[0m\u001b[0;32mFalse\u001b[0m\u001b[0;34m)\u001b[0m\u001b[0;34m\u001b[0m\u001b[0;34m\u001b[0m\u001b[0m\n\u001b[0m\u001b[1;32m    186\u001b[0m     \u001b[0;32melse\u001b[0m\u001b[0;34m:\u001b[0m\u001b[0;34m\u001b[0m\u001b[0;34m\u001b[0m\u001b[0m\n\u001b[1;32m    187\u001b[0m         \u001b[0mtree\u001b[0m\u001b[0;34m.\u001b[0m\u001b[0mfit\u001b[0m\u001b[0;34m(\u001b[0m\u001b[0mX\u001b[0m\u001b[0;34m,\u001b[0m \u001b[0my\u001b[0m\u001b[0;34m,\u001b[0m \u001b[0msample_weight\u001b[0m\u001b[0;34m=\u001b[0m\u001b[0msample_weight\u001b[0m\u001b[0;34m,\u001b[0m \u001b[0mcheck_input\u001b[0m\u001b[0;34m=\u001b[0m\u001b[0;32mFalse\u001b[0m\u001b[0;34m)\u001b[0m\u001b[0;34m\u001b[0m\u001b[0;34m\u001b[0m\u001b[0m\n",
      "\u001b[0;32m~/opt/anaconda3/envs/learn-env/lib/python3.8/site-packages/sklearn/tree/_classes.py\u001b[0m in \u001b[0;36mfit\u001b[0;34m(self, X, y, sample_weight, check_input, X_idx_sorted)\u001b[0m\n\u001b[1;32m    935\u001b[0m         \"\"\"\n\u001b[1;32m    936\u001b[0m \u001b[0;34m\u001b[0m\u001b[0m\n\u001b[0;32m--> 937\u001b[0;31m         super().fit(\n\u001b[0m\u001b[1;32m    938\u001b[0m             \u001b[0mX\u001b[0m\u001b[0;34m,\u001b[0m\u001b[0;34m\u001b[0m\u001b[0;34m\u001b[0m\u001b[0m\n\u001b[1;32m    939\u001b[0m             \u001b[0my\u001b[0m\u001b[0;34m,\u001b[0m\u001b[0;34m\u001b[0m\u001b[0;34m\u001b[0m\u001b[0m\n",
      "\u001b[0;32m~/opt/anaconda3/envs/learn-env/lib/python3.8/site-packages/sklearn/tree/_classes.py\u001b[0m in \u001b[0;36mfit\u001b[0;34m(self, X, y, sample_weight, check_input, X_idx_sorted)\u001b[0m\n\u001b[1;32m    418\u001b[0m             )\n\u001b[1;32m    419\u001b[0m \u001b[0;34m\u001b[0m\u001b[0m\n\u001b[0;32m--> 420\u001b[0;31m         \u001b[0mbuilder\u001b[0m\u001b[0;34m.\u001b[0m\u001b[0mbuild\u001b[0m\u001b[0;34m(\u001b[0m\u001b[0mself\u001b[0m\u001b[0;34m.\u001b[0m\u001b[0mtree_\u001b[0m\u001b[0;34m,\u001b[0m \u001b[0mX\u001b[0m\u001b[0;34m,\u001b[0m \u001b[0my\u001b[0m\u001b[0;34m,\u001b[0m \u001b[0msample_weight\u001b[0m\u001b[0;34m)\u001b[0m\u001b[0;34m\u001b[0m\u001b[0;34m\u001b[0m\u001b[0m\n\u001b[0m\u001b[1;32m    421\u001b[0m \u001b[0;34m\u001b[0m\u001b[0m\n\u001b[1;32m    422\u001b[0m         \u001b[0;32mif\u001b[0m \u001b[0mself\u001b[0m\u001b[0;34m.\u001b[0m\u001b[0mn_outputs_\u001b[0m \u001b[0;34m==\u001b[0m \u001b[0;36m1\u001b[0m \u001b[0;32mand\u001b[0m \u001b[0mis_classifier\u001b[0m\u001b[0;34m(\u001b[0m\u001b[0mself\u001b[0m\u001b[0;34m)\u001b[0m\u001b[0;34m:\u001b[0m\u001b[0;34m\u001b[0m\u001b[0;34m\u001b[0m\u001b[0m\n",
      "\u001b[0;31mKeyboardInterrupt\u001b[0m: "
     ]
    }
   ],
   "source": [
    "sr1_pipe = ModelWithCV(model=sr1_model_pipe,\n",
    "                         model_name='sr1_pipe',\n",
    "                         X=X_train1,\n",
    "                         y=y_train1)"
   ]
  },
  {
   "cell_type": "code",
   "execution_count": null,
   "metadata": {
    "ExecuteTime": {
     "end_time": "2022-04-21T16:36:50.088327Z",
     "start_time": "2022-04-21T16:09:05.306Z"
    },
    "scrolled": true
   },
   "outputs": [],
   "source": [
    "sr1_cv_summary = sr1_pipe.print_cv_summary()"
   ]
  },
  {
   "cell_type": "markdown",
   "metadata": {},
   "source": [
    "Pickle and save."
   ]
  },
  {
   "cell_type": "code",
   "execution_count": 30,
   "metadata": {
    "ExecuteTime": {
     "end_time": "2022-04-19T22:04:46.894675Z",
     "start_time": "2022-04-19T22:04:46.884535Z"
    }
   },
   "outputs": [],
   "source": [
    "sr1_pickle = 'stack_1.sav'\n",
    "pickle.dump(sr1_model_pipe, open(sr1_pickle, 'wb'))"
   ]
  },
  {
   "cell_type": "markdown",
   "metadata": {},
   "source": [
    "##### Stack 2"
   ]
  },
  {
   "cell_type": "code",
   "execution_count": 31,
   "metadata": {
    "ExecuteTime": {
     "end_time": "2022-04-19T22:04:51.169038Z",
     "start_time": "2022-04-19T22:04:51.164711Z"
    }
   },
   "outputs": [],
   "source": [
    "estimators=[\n",
    "    ('rfc', RandomForestClassifier(random_state=42, max_features='sqrt', n_estimators=1000)),\n",
    "    ('etc', ExtraTreesClassifier(max_features='sqrt', max_samples=.5, bootstrap=True, random_state=42, max_depth=50, n_estimators=500))\n",
    "]"
   ]
  },
  {
   "cell_type": "code",
   "execution_count": 32,
   "metadata": {
    "ExecuteTime": {
     "end_time": "2022-04-19T22:04:51.745442Z",
     "start_time": "2022-04-19T22:04:51.741124Z"
    }
   },
   "outputs": [],
   "source": [
    "sr2 = StackingClassifier(estimators)\n",
    "sr2_model_pipe = Pipeline([('ct', ct), ('sr2', sr2)])"
   ]
  },
  {
   "cell_type": "code",
   "execution_count": 34,
   "metadata": {
    "ExecuteTime": {
     "end_time": "2022-04-19T22:29:42.057996Z",
     "start_time": "2022-04-19T22:12:56.569617Z"
    }
   },
   "outputs": [],
   "source": [
    "sr2_pipe = ModelWithCV(model=sr2_model_pipe,\n",
    "                         model_name='sr2_pipe',\n",
    "                         X=X_train1,\n",
    "                         y=y_train1)"
   ]
  },
  {
   "cell_type": "code",
   "execution_count": 35,
   "metadata": {
    "ExecuteTime": {
     "end_time": "2022-04-19T22:29:42.163031Z",
     "start_time": "2022-04-19T22:29:42.059388Z"
    }
   },
   "outputs": [
    {
     "data": {
      "image/png": "[encoded data removed]",
      "text/plain": [
       "<Figure size 432x288 with 1 Axes>"
      ]
     },
     "metadata": {
      "needs_background": "light"
     },
     "output_type": "display_data"
    }
   ],
   "source": [
    "fig, ax = plt.subplots()\n",
    "\n",
    "sr2_pipe.plot_cv(ax=ax);"
   ]
  },
  {
   "cell_type": "code",
   "execution_count": 68,
   "metadata": {
    "ExecuteTime": {
     "end_time": "2022-04-20T04:48:07.905400Z",
     "start_time": "2022-04-20T03:57:09.035587Z"
    },
    "scrolled": false
   },
   "outputs": [
    {
     "name": "stdout",
     "output_type": "stream",
     "text": [
      "CV Results for `sr2_pipe` model:\n",
      "            0.78075 ± 0.01094 accuracy\n",
      "            recall_score: 0.7521168908564617\n",
      "            precision_score: 0.8332175464642955\n",
      "            f1_score: 0.7629245422589148    \n",
      "        \n"
     ]
    }
   ],
   "source": [
    "sr2_cv_summary = sr2_pipe.print_cv_summary()"
   ]
  },
  {
   "cell_type": "code",
   "execution_count": 69,
   "metadata": {
    "ExecuteTime": {
     "end_time": "2022-04-20T04:48:07.912253Z",
     "start_time": "2022-04-20T04:48:07.906717Z"
    }
   },
   "outputs": [],
   "source": [
    "sr2_cv_summary = 'sr2_cv_summary.sav'\n",
    "pickle.dump(sr2_cv_summary, open(sr2_cv_summary, 'wb'))"
   ]
  },
  {
   "cell_type": "markdown",
   "metadata": {},
   "source": [
    "Pickle and save."
   ]
  },
  {
   "cell_type": "code",
   "execution_count": 36,
   "metadata": {
    "ExecuteTime": {
     "end_time": "2022-04-19T22:29:42.168317Z",
     "start_time": "2022-04-19T22:29:42.165051Z"
    }
   },
   "outputs": [],
   "source": [
    "sr2_pickle = 'stack_2.sav'\n",
    "pickle.dump(sr2_model_pipe, open(sr2_pickle, 'wb'))"
   ]
  },
  {
   "cell_type": "markdown",
   "metadata": {},
   "source": [
    "##### Stack 3"
   ]
  },
  {
   "cell_type": "code",
   "execution_count": 37,
   "metadata": {
    "ExecuteTime": {
     "end_time": "2022-04-19T22:29:42.188948Z",
     "start_time": "2022-04-19T22:29:42.173005Z"
    }
   },
   "outputs": [],
   "source": [
    "estimators=[\n",
    "    ('logreg', LogisticRegression(random_state=42, max_iter=5, solver='liblinear', C=.3)),\n",
    "    ('knn', KNeighborsClassifier(metric='manhattan', n_neighbors=200)),\n",
    "    ('rfc', RandomForestClassifier(random_state=42, max_features='sqrt', n_estimators=1000)),\n",
    "    ('gbc', GradientBoostingClassifier(random_state=42, learning_rate=.05, n_estimators=350)),\n",
    "    ('ada', AdaBoostClassifier(learning_rate=.75, n_estimators=350)),\n",
    "    ('xgb', xgboost.XGBClassifier(random_state=42, learning_rate=.05, n_estimators=150)),\n",
    "    ('etc', ExtraTreesClassifier(max_features='sqrt', max_samples=.5, bootstrap=True, random_state=42, max_depth=50, n_estimators=500))\n",
    "]"
   ]
  },
  {
   "cell_type": "code",
   "execution_count": 38,
   "metadata": {
    "ExecuteTime": {
     "end_time": "2022-04-19T22:29:42.208694Z",
     "start_time": "2022-04-19T22:29:42.200981Z"
    }
   },
   "outputs": [],
   "source": [
    "sr3 = StackingClassifier(estimators)\n",
    "sr3_model_pipe = Pipeline([('ct', ct), ('sr3', sr3)])"
   ]
  },
  {
   "cell_type": "code",
   "execution_count": 39,
   "metadata": {
    "ExecuteTime": {
     "end_time": "2022-04-19T22:58:19.171294Z",
     "start_time": "2022-04-19T22:29:42.210976Z"
    }
   },
   "outputs": [],
   "source": [
    "sr3_pipe = ModelWithCV(model=sr3_model_pipe,\n",
    "                         model_name='sr3_pipe',\n",
    "                         X=X_train1,\n",
    "                         y=y_train1)"
   ]
  },
  {
   "cell_type": "code",
   "execution_count": 40,
   "metadata": {
    "ExecuteTime": {
     "end_time": "2022-04-19T22:58:19.265654Z",
     "start_time": "2022-04-19T22:58:19.173312Z"
    }
   },
   "outputs": [
    {
     "data": {
      "image/png": "[encoded data removed]",
      "text/plain": [
       "<Figure size 432x288 with 1 Axes>"
      ]
     },
     "metadata": {
      "needs_background": "light"
     },
     "output_type": "display_data"
    }
   ],
   "source": [
    "fig, ax = plt.subplots()\n",
    "\n",
    "sr3_pipe.plot_cv(ax=ax);"
   ]
  },
  {
   "cell_type": "code",
   "execution_count": 44,
   "metadata": {
    "ExecuteTime": {
     "end_time": "2022-04-20T01:57:24.872340Z",
     "start_time": "2022-04-20T00:30:22.970775Z"
    }
   },
   "outputs": [
    {
     "name": "stdout",
     "output_type": "stream",
     "text": [
      "CV Results for `sr3_pipe` model:\n",
      "            0.78282 ± 0.01154 accuracy\n",
      "            recall_score: 0.7535474487768885\n",
      "            precision_score: 0.8363984875876419\n",
      "            f1_score: 0.7649424610464328    \n",
      "        \n"
     ]
    }
   ],
   "source": [
    "sr3_pipe.print_cv_summary()"
   ]
  },
  {
   "cell_type": "code",
   "execution_count": 70,
   "metadata": {
    "ExecuteTime": {
     "end_time": "2022-04-20T06:14:49.546720Z",
     "start_time": "2022-04-20T04:48:07.913185Z"
    }
   },
   "outputs": [
    {
     "name": "stdout",
     "output_type": "stream",
     "text": [
      "CV Results for `sr3_pipe` model:\n",
      "            0.78282 ± 0.01154 accuracy\n",
      "            recall_score: 0.7535474487768885\n",
      "            precision_score: 0.8363984875876419\n",
      "            f1_score: 0.7649424610464328    \n",
      "        \n"
     ]
    }
   ],
   "source": [
    "sr3_cv_summary = sr3_pipe.print_cv_summary()"
   ]
  },
  {
   "cell_type": "code",
   "execution_count": 71,
   "metadata": {
    "ExecuteTime": {
     "end_time": "2022-04-20T06:14:49.559761Z",
     "start_time": "2022-04-20T06:14:49.555370Z"
    }
   },
   "outputs": [],
   "source": [
    "sr3_cv_summary = 'sr3_cv_summary.sav'\n",
    "pickle.dump(sr3_cv_summary, open(sr3_cv_summary, 'wb'))"
   ]
  },
  {
   "cell_type": "markdown",
   "metadata": {},
   "source": [
    "Pickle and save."
   ]
  },
  {
   "cell_type": "code",
   "execution_count": 41,
   "metadata": {
    "ExecuteTime": {
     "end_time": "2022-04-19T22:58:19.271504Z",
     "start_time": "2022-04-19T22:58:19.268115Z"
    }
   },
   "outputs": [],
   "source": [
    "sr3_pickle = 'stack_3.sav'\n",
    "pickle.dump(sr3_model_pipe, open(sr3_pickle, 'wb'))"
   ]
  },
  {
   "cell_type": "markdown",
   "metadata": {},
   "source": [
    "### Tune again?"
   ]
  },
  {
   "cell_type": "markdown",
   "metadata": {},
   "source": [
    "### Evaluation on Test Set"
   ]
  },
  {
   "cell_type": "code",
   "execution_count": 270,
   "metadata": {
    "ExecuteTime": {
     "end_time": "2022-04-20T20:31:30.586122Z",
     "start_time": "2022-04-20T20:31:30.534333Z"
    }
   },
   "outputs": [],
   "source": [
    "final_model1 = avg2_model_pipe"
   ]
  },
  {
   "cell_type": "code",
   "execution_count": 272,
   "metadata": {
    "ExecuteTime": {
     "end_time": "2022-04-20T20:32:21.821289Z",
     "start_time": "2022-04-20T20:31:54.831212Z"
    }
   },
   "outputs": [],
   "source": [
    "final_model1.fit(X_train1, y_train1); #19s"
   ]
  },
  {
   "cell_type": "code",
   "execution_count": 126,
   "metadata": {
    "ExecuteTime": {
     "end_time": "2022-04-20T13:23:28.777953Z",
     "start_time": "2022-04-20T13:23:14.241364Z"
    }
   },
   "outputs": [
    {
     "data": {
      "image/png": "[encoded data removed]",
      "text/plain": [
       "<Figure size 432x288 with 2 Axes>"
      ]
     },
     "metadata": {
      "needs_background": "light"
     },
     "output_type": "display_data"
    }
   ],
   "source": [
    "fm1_cm = plot_confusion_matrix(final_model1, X_test1, y_test1);\n",
    "\n",
    "final1 = 'final1.sav'\n",
    "pickle.dump(fm1_cm, open(final1, 'wb')) #14.5s"
   ]
  },
  {
   "cell_type": "code",
   "execution_count": 127,
   "metadata": {
    "ExecuteTime": {
     "end_time": "2022-04-20T13:23:43.099015Z",
     "start_time": "2022-04-20T13:23:28.779126Z"
    }
   },
   "outputs": [],
   "source": [
    "y_hat = final_model1.predict(X_test1) #15s"
   ]
  },
  {
   "cell_type": "code",
   "execution_count": 128,
   "metadata": {
    "ExecuteTime": {
     "end_time": "2022-04-20T13:23:43.115092Z",
     "start_time": "2022-04-20T13:23:43.100904Z"
    },
    "scrolled": true
   },
   "outputs": [
    {
     "name": "stdout",
     "output_type": "stream",
     "text": [
      "\n",
      "Our final model's accuracy on the test set is 0.79. \n",
      "\n",
      "Our final model's recall on the test set is 0.76 \n",
      "\n",
      "Our final model's precision on the test set is 0.78 \n",
      "\n",
      "Our final model's f1-score on the test is 0.77.\n",
      "\n"
     ]
    }
   ],
   "source": [
    "fm1_test_results = print(f\"\"\"\n",
    "Our final model's accuracy on the test set is {round(accuracy_score(y_test1, y_hat), 2)}. \\n\n",
    "Our final model's recall on the test set is {round(recall_score(y_test1, y_hat), 2)} \\n\n",
    "Our final model's precision on the test set is {round(precision_score(y_test1, y_hat), 2)} \\n\n",
    "Our final model's f1-score on the test is {round(f1_score(y_test1, y_hat), 2)}.\n",
    "\"\"\")\n",
    "\n",
    "pickle.dump(fm1_test_results, open(final1, 'wb'))"
   ]
  },
  {
   "cell_type": "code",
   "execution_count": 142,
   "metadata": {
    "ExecuteTime": {
     "end_time": "2022-04-20T13:25:58.019949Z",
     "start_time": "2022-04-20T13:25:43.535140Z"
    }
   },
   "outputs": [
    {
     "data": {
      "image/png": "[encoded data removed]",
      "text/plain": [
       "<Figure size 432x288 with 1 Axes>"
      ]
     },
     "metadata": {
      "needs_background": "light"
     },
     "output_type": "display_data"
    }
   ],
   "source": [
    "from sklearn.metrics import plot_roc_curve\n",
    "fm1_roc_curve = plot_roc_curve(final_model1, X_test1, y_test1)\n",
    "\n",
    "pickle.dump(fm1_roc_curve, open(final1, 'wb')) #15s"
   ]
  },
  {
   "cell_type": "code",
   "execution_count": 130,
   "metadata": {
    "ExecuteTime": {
     "end_time": "2022-04-20T13:23:57.684296Z",
     "start_time": "2022-04-20T13:23:43.119482Z"
    }
   },
   "outputs": [
    {
     "name": "stdout",
     "output_type": "stream",
     "text": [
      "Best Threshold=0.490578, G-Mean=0.790\n"
     ]
    }
   ],
   "source": [
    "y_hat = final_model1.predict_proba(X_test1)[:, 1]\n",
    "# calculate roc curves\n",
    "fpr, tpr, thresholds = roc_curve(y_test1, y_hat)\n",
    "# calculate the g-mean for each threshold\n",
    "gmeans = sqrt(tpr * (1-fpr))\n",
    "# locate the index of the largest g-mean\n",
    "ix = argmax(gmeans)\n",
    "print('Best Threshold=%f, G-Mean=%.3f' % (thresholds[ix], gmeans[ix])) #15s"
   ]
  },
  {
   "cell_type": "code",
   "execution_count": 131,
   "metadata": {
    "ExecuteTime": {
     "end_time": "2022-04-20T13:24:12.109053Z",
     "start_time": "2022-04-20T13:23:57.685815Z"
    }
   },
   "outputs": [],
   "source": [
    "y_hat = (final_model1.predict_proba(X_test1)[:,1] >= thresholds[ix]).astype(bool) #15s"
   ]
  },
  {
   "cell_type": "code",
   "execution_count": 132,
   "metadata": {
    "ExecuteTime": {
     "end_time": "2022-04-20T13:24:12.125141Z",
     "start_time": "2022-04-20T13:24:12.110717Z"
    }
   },
   "outputs": [
    {
     "name": "stdout",
     "output_type": "stream",
     "text": [
      "\n",
      "Our final model's accuracy on the test set is 0.79. \n",
      "\n",
      "Our final model's recall on the test set is 0.77 \n",
      "\n",
      "Our final model's precision on the test set is 0.78 \n",
      "\n",
      "Our final model's f1-score on the test is 0.77.\n",
      "\n"
     ]
    }
   ],
   "source": [
    "fm1_test_results_with_thresh =print(f\"\"\"\n",
    "Our final model's accuracy on the test set is {round(accuracy_score(y_test1, y_hat), 2)}. \\n\n",
    "Our final model's recall on the test set is {round(recall_score(y_test1, y_hat), 2)} \\n\n",
    "Our final model's precision on the test set is {round(precision_score(y_test1, y_hat), 2)} \\n\n",
    "Our final model's f1-score on the test is {round(f1_score(y_test1, y_hat), 2)}.\n",
    "\"\"\")\n",
    "\n",
    "pickle.dump(fm1_test_results_with_thresh, open(final1, 'wb'))"
   ]
  },
  {
   "cell_type": "markdown",
   "metadata": {},
   "source": [
    "Final part 2"
   ]
  },
  {
   "cell_type": "code",
   "execution_count": 162,
   "metadata": {
    "ExecuteTime": {
     "end_time": "2022-04-21T01:40:06.168649Z",
     "start_time": "2022-04-21T01:40:06.166930Z"
    }
   },
   "outputs": [],
   "source": [
    "final_model2 = avg3_model_pipe"
   ]
  },
  {
   "cell_type": "code",
   "execution_count": 163,
   "metadata": {
    "ExecuteTime": {
     "end_time": "2022-04-21T01:40:41.124152Z",
     "start_time": "2022-04-21T01:40:06.169957Z"
    }
   },
   "outputs": [
    {
     "data": {
      "text/plain": [
       "Pipeline(steps=[('ct',\n",
       "                 ColumnTransformer(transformers=[('subpipe_cat',\n",
       "                                                  Pipeline(steps=[('cat_impute',\n",
       "                                                                   SimpleImputer(strategy='most_frequent')),\n",
       "                                                                  ('ohe',\n",
       "                                                                   OneHotEncoder(drop='first',\n",
       "                                                                                 handle_unknown='ignore',\n",
       "                                                                                 sparse=False))]),\n",
       "                                                  Index(['behavioral_antiviral_meds', 'behavioral_avoidance',\n",
       "       'behavioral_face_mask', 'behavioral_wash_hands',\n",
       "       'behavioral_large_gatherings',...\n",
       "                                                             monotone_constraints=None,\n",
       "                                                             n_estimators=150,\n",
       "                                                             n_jobs=None,\n",
       "                                                             num_parallel_tree=None,\n",
       "                                                             random_state=42,\n",
       "                                                             reg_alpha=None,\n",
       "                                                             reg_lambda=None,\n",
       "                                                             scale_pos_weight=None,\n",
       "                                                             subsample=None,\n",
       "                                                             tree_method=None,\n",
       "                                                             validate_parameters=None,\n",
       "                                                             verbosity=None)),\n",
       "                                              ('etc',\n",
       "                                               ExtraTreesClassifier(bootstrap=True,\n",
       "                                                                    max_depth=50,\n",
       "                                                                    max_features='sqrt',\n",
       "                                                                    max_samples=0.5,\n",
       "                                                                    n_estimators=500,\n",
       "                                                                    random_state=42))],\n",
       "                                  voting='soft'))])"
      ]
     },
     "execution_count": 163,
     "metadata": {},
     "output_type": "execute_result"
    }
   ],
   "source": [
    "final_model2.fit(X_train1, y_train1); #35s"
   ]
  },
  {
   "cell_type": "code",
   "execution_count": 164,
   "metadata": {
    "ExecuteTime": {
     "end_time": "2022-04-21T01:40:44.312291Z",
     "start_time": "2022-04-21T01:40:41.125365Z"
    }
   },
   "outputs": [
    {
     "data": {
      "image/png": "[encoded data removed]",
      "text/plain": [
       "<Figure size 432x288 with 2 Axes>"
      ]
     },
     "metadata": {
      "needs_background": "light"
     },
     "output_type": "display_data"
    }
   ],
   "source": [
    "fm2_cm = plot_confusion_matrix(final_model2, X_test1, y_test1);\n",
    "\n",
    "final2 = 'final2.sav'\n",
    "pickle.dump(fm2_cm, open(final2, 'wb')) #3s"
   ]
  },
  {
   "cell_type": "code",
   "execution_count": 165,
   "metadata": {
    "ExecuteTime": {
     "end_time": "2022-04-21T01:40:46.981831Z",
     "start_time": "2022-04-21T01:40:44.313499Z"
    },
    "scrolled": false
   },
   "outputs": [],
   "source": [
    "y_hat = final_model2.predict(X_test1) #3s"
   ]
  },
  {
   "cell_type": "code",
   "execution_count": 166,
   "metadata": {
    "ExecuteTime": {
     "end_time": "2022-04-21T01:40:46.992912Z",
     "start_time": "2022-04-21T01:40:46.982769Z"
    },
    "scrolled": false
   },
   "outputs": [
    {
     "name": "stdout",
     "output_type": "stream",
     "text": [
      "\n",
      "Our final model's accuracy on the test set is 0.79. \n",
      "\n",
      "Our final model's recall on the test set is 0.76 \n",
      "\n",
      "Our final model's precision on the test set is 0.78 \n",
      "\n",
      "Our final model's f1-score on the test is 0.77.\n",
      "\n"
     ]
    }
   ],
   "source": [
    "fm2_test_results = print(f\"\"\"\n",
    "Our final model's accuracy on the test set is {round(accuracy_score(y_test1, y_hat), 2)}. \\n\n",
    "Our final model's recall on the test set is {round(recall_score(y_test1, y_hat), 2)} \\n\n",
    "Our final model's precision on the test set is {round(precision_score(y_test1, y_hat), 2)} \\n\n",
    "Our final model's f1-score on the test is {round(f1_score(y_test1, y_hat), 2)}.\n",
    "\"\"\")\n",
    "\n",
    "pickle.dump(fm2_test_results, open(final2, 'wb'))"
   ]
  },
  {
   "cell_type": "code",
   "execution_count": 167,
   "metadata": {
    "ExecuteTime": {
     "end_time": "2022-04-21T01:40:49.853597Z",
     "start_time": "2022-04-21T01:40:46.994169Z"
    }
   },
   "outputs": [
    {
     "data": {
      "image/png": "[encoded data removed]",
      "text/plain": [
       "<Figure size 432x288 with 1 Axes>"
      ]
     },
     "metadata": {
      "needs_background": "light"
     },
     "output_type": "display_data"
    }
   ],
   "source": [
    "fm2_roc_curve = plot_roc_curve(final_model2, X_test1, y_test1)\n",
    "\n",
    "pickle.dump(fm2_roc_curve, open(final2, 'wb')) #15s"
   ]
  },
  {
   "cell_type": "code",
   "execution_count": 168,
   "metadata": {
    "ExecuteTime": {
     "end_time": "2022-04-21T01:40:52.610140Z",
     "start_time": "2022-04-21T01:40:49.855475Z"
    }
   },
   "outputs": [
    {
     "name": "stdout",
     "output_type": "stream",
     "text": [
      "Best Threshold=0.486700, G-Mean=0.790\n"
     ]
    }
   ],
   "source": [
    "y_hat = final_model2.predict_proba(X_test1)[:, 1]\n",
    "# calculate roc curves\n",
    "fpr, tpr, thresholds = roc_curve(y_test1, y_hat)\n",
    "# calculate the g-mean for each threshold\n",
    "gmeans = sqrt(tpr * (1-fpr))\n",
    "# locate the index of the largest g-mean\n",
    "ix = argmax(gmeans)\n",
    "print('Best Threshold=%f, G-Mean=%.3f' % (thresholds[ix], gmeans[ix])) #15s"
   ]
  },
  {
   "cell_type": "code",
   "execution_count": 169,
   "metadata": {
    "ExecuteTime": {
     "end_time": "2022-04-21T01:40:55.291242Z",
     "start_time": "2022-04-21T01:40:52.611519Z"
    }
   },
   "outputs": [],
   "source": [
    "y_hat = (final_model2.predict_proba(X_test1)[:,1] >= thresholds[ix]).astype(bool) #15s"
   ]
  },
  {
   "cell_type": "code",
   "execution_count": 170,
   "metadata": {
    "ExecuteTime": {
     "end_time": "2022-04-21T01:40:55.305268Z",
     "start_time": "2022-04-21T01:40:55.294063Z"
    }
   },
   "outputs": [
    {
     "name": "stdout",
     "output_type": "stream",
     "text": [
      "\n",
      "Our final model's accuracy on the test set is 0.79. \n",
      "\n",
      "Our final model's recall on the test set is 0.78 \n",
      "\n",
      "Our final model's precision on the test set is 0.77 \n",
      "\n",
      "Our final model's f1-score on the test is 0.77.\n",
      "\n"
     ]
    }
   ],
   "source": [
    "fm2_test_results_with_thresh = print(f\"\"\"\n",
    "Our final model's accuracy on the test set is {round(accuracy_score(y_test1, y_hat), 2)}. \\n\n",
    "Our final model's recall on the test set is {round(recall_score(y_test1, y_hat), 2)} \\n\n",
    "Our final model's precision on the test set is {round(precision_score(y_test1, y_hat), 2)} \\n\n",
    "Our final model's f1-score on the test is {round(f1_score(y_test1, y_hat), 2)}.\n",
    "\"\"\")\n",
    "\n",
    "pickle.dump(fm2_test_results_with_thresh, open(final2, 'wb'))"
   ]
  },
  {
   "cell_type": "code",
   "execution_count": null,
   "metadata": {},
   "outputs": [],
   "source": []
  },
  {
   "cell_type": "code",
   "execution_count": null,
   "metadata": {},
   "outputs": [],
   "source": []
  }
 ],
 "metadata": {
  "kernelspec": {
   "display_name": "Python (learn-env)",
   "language": "python",
   "name": "learn-env"
  },
  "language_info": {
   "codemirror_mode": {
    "name": "ipython",
    "version": 3
   },
   "file_extension": ".py",
   "mimetype": "text/x-python",
   "name": "python",
   "nbconvert_exporter": "python",
   "pygments_lexer": "ipython3",
   "version": "3.8.5"
  },
  "toc": {
   "base_numbering": 1,
   "nav_menu": {},
   "number_sections": true,
   "sideBar": true,
   "skip_h1_title": false,
   "title_cell": "Table of Contents",
   "title_sidebar": "Contents",
   "toc_cell": false,
   "toc_position": {
    "height": "calc(100% - 180px)",
    "left": "10px",
    "top": "150px",
    "width": "282.875px"
   },
   "toc_section_display": true,
   "toc_window_display": true
  }
 },
 "nbformat": 4,
 "nbformat_minor": 4
}
