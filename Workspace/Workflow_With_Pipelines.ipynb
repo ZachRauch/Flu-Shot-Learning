{
 "cells": [
  {
   "cell_type": "markdown",
   "metadata": {},
   "source": [
    "### Imports"
   ]
  },
  {
   "cell_type": "code",
   "execution_count": 139,
   "metadata": {
    "ExecuteTime": {
     "end_time": "2022-04-17T01:04:52.919000Z",
     "start_time": "2022-04-17T01:04:52.903881Z"
    }
   },
   "outputs": [],
   "source": [
    "import pandas as pd\n",
    "import numpy as np\n",
    "from matplotlib import pyplot as plt\n",
    "import seaborn as sns\n",
    "\n",
    "from sklearn.model_selection import train_test_split,\\\n",
    "    GridSearchCV, cross_val_score\n",
    "from sklearn.pipeline import Pipeline\n",
    "from sklearn.preprocessing import StandardScaler, OneHotEncoder,\\\n",
    "    FunctionTransformer, OrdinalEncoder\n",
    "from sklearn.impute import SimpleImputer\n",
    "from sklearn.compose import ColumnTransformer\n",
    "from sklearn.linear_model import LogisticRegression\n",
    "from sklearn.neighbors import KNeighborsClassifier\n",
    "from sklearn.ensemble import RandomForestClassifier,\\\n",
    "    GradientBoostingClassifier, AdaBoostClassifier,\\\n",
    "    BaggingClassifier, ExtraTreesClassifier,\\\n",
    "    VotingClassifier, StackingClassifier\n",
    "from sklearn.metrics import plot_confusion_matrix, recall_score,\\\n",
    "    accuracy_score, precision_score, f1_score\n",
    "\n",
    "import xgboost\n",
    "\n",
    "from imblearn.over_sampling import SMOTE\n",
    "from imblearn.pipeline import Pipeline as ImPipeline"
   ]
  },
  {
   "cell_type": "code",
   "execution_count": 2,
   "metadata": {
    "ExecuteTime": {
     "end_time": "2022-04-16T23:41:19.445519Z",
     "start_time": "2022-04-16T23:41:19.443724Z"
    }
   },
   "outputs": [],
   "source": [
    "import warnings\n",
    "warnings.simplefilter(action='ignore', category=FutureWarning)"
   ]
  },
  {
   "cell_type": "markdown",
   "metadata": {},
   "source": [
    "### Problem Description"
   ]
  },
  {
   "cell_type": "markdown",
   "metadata": {},
   "source": [
    "My goal is to predict how likely individuals are to receive their H1N1 and seasonal flu vaccines. Specifically, I'll be predicting two probabilities: one for h1n1_vaccine and one for seasonal_vaccine."
   ]
  },
  {
   "cell_type": "markdown",
   "metadata": {},
   "source": [
    "### Data"
   ]
  },
  {
   "cell_type": "code",
   "execution_count": 3,
   "metadata": {
    "ExecuteTime": {
     "end_time": "2022-04-16T23:41:19.467514Z",
     "start_time": "2022-04-16T23:41:19.447215Z"
    }
   },
   "outputs": [
    {
     "name": "stdout",
     "output_type": "stream",
     "text": [
      "<class 'pandas.core.frame.DataFrame'>\n",
      "RangeIndex: 26708 entries, 0 to 26707\n",
      "Data columns (total 3 columns):\n",
      " #   Column            Non-Null Count  Dtype  \n",
      "---  ------            --------------  -----  \n",
      " 0   respondent_id     26708 non-null  int64  \n",
      " 1   h1n1_vaccine      26708 non-null  float64\n",
      " 2   seasonal_vaccine  26708 non-null  float64\n",
      "dtypes: float64(2), int64(1)\n",
      "memory usage: 626.1 KB\n"
     ]
    }
   ],
   "source": [
    "submission_format = pd.read_csv('../Data/submission_format.csv')\n",
    "submission_format.info()"
   ]
  },
  {
   "cell_type": "markdown",
   "metadata": {},
   "source": [
    "The submission_format.csv is an example of how my submission should be submitted."
   ]
  },
  {
   "cell_type": "code",
   "execution_count": 4,
   "metadata": {
    "ExecuteTime": {
     "end_time": "2022-04-16T23:41:19.559853Z",
     "start_time": "2022-04-16T23:41:19.468923Z"
    }
   },
   "outputs": [
    {
     "name": "stdout",
     "output_type": "stream",
     "text": [
      "<class 'pandas.core.frame.DataFrame'>\n",
      "RangeIndex: 26708 entries, 0 to 26707\n",
      "Data columns (total 36 columns):\n",
      " #   Column                       Non-Null Count  Dtype  \n",
      "---  ------                       --------------  -----  \n",
      " 0   respondent_id                26708 non-null  int64  \n",
      " 1   h1n1_concern                 26623 non-null  float64\n",
      " 2   h1n1_knowledge               26586 non-null  float64\n",
      " 3   behavioral_antiviral_meds    26629 non-null  float64\n",
      " 4   behavioral_avoidance         26495 non-null  float64\n",
      " 5   behavioral_face_mask         26689 non-null  float64\n",
      " 6   behavioral_wash_hands        26668 non-null  float64\n",
      " 7   behavioral_large_gatherings  26636 non-null  float64\n",
      " 8   behavioral_outside_home      26626 non-null  float64\n",
      " 9   behavioral_touch_face        26580 non-null  float64\n",
      " 10  doctor_recc_h1n1             24548 non-null  float64\n",
      " 11  doctor_recc_seasonal         24548 non-null  float64\n",
      " 12  chronic_med_condition        25776 non-null  float64\n",
      " 13  child_under_6_months         25895 non-null  float64\n",
      " 14  health_worker                25919 non-null  float64\n",
      " 15  health_insurance             14480 non-null  float64\n",
      " 16  opinion_h1n1_vacc_effective  26310 non-null  float64\n",
      " 17  opinion_h1n1_risk            26328 non-null  float64\n",
      " 18  opinion_h1n1_sick_from_vacc  26333 non-null  float64\n",
      " 19  opinion_seas_vacc_effective  26256 non-null  float64\n",
      " 20  opinion_seas_risk            26209 non-null  float64\n",
      " 21  opinion_seas_sick_from_vacc  26187 non-null  float64\n",
      " 22  age_group                    26708 non-null  object \n",
      " 23  education                    25301 non-null  object \n",
      " 24  race                         26708 non-null  object \n",
      " 25  sex                          26708 non-null  object \n",
      " 26  income_poverty               22211 non-null  object \n",
      " 27  marital_status               25266 non-null  object \n",
      " 28  rent_or_own                  24672 non-null  object \n",
      " 29  employment_status            25237 non-null  object \n",
      " 30  hhs_geo_region               26708 non-null  object \n",
      " 31  census_msa                   26708 non-null  object \n",
      " 32  household_adults             26483 non-null  float64\n",
      " 33  household_children           26483 non-null  float64\n",
      " 34  employment_industry          13433 non-null  object \n",
      " 35  employment_occupation        13282 non-null  object \n",
      "dtypes: float64(23), int64(1), object(12)\n",
      "memory usage: 7.3+ MB\n"
     ]
    }
   ],
   "source": [
    "test_set_features = pd.read_csv('../Data/test_set_features.csv')\n",
    "test_set_features.info()"
   ]
  },
  {
   "cell_type": "markdown",
   "metadata": {},
   "source": [
    "The test_set_features.csv will be used to run my model and produce a predictive csv in the format of submission_format. "
   ]
  },
  {
   "cell_type": "code",
   "execution_count": 5,
   "metadata": {
    "ExecuteTime": {
     "end_time": "2022-04-16T23:41:19.645818Z",
     "start_time": "2022-04-16T23:41:19.560867Z"
    }
   },
   "outputs": [
    {
     "name": "stdout",
     "output_type": "stream",
     "text": [
      "<class 'pandas.core.frame.DataFrame'>\n",
      "RangeIndex: 26707 entries, 0 to 26706\n",
      "Data columns (total 36 columns):\n",
      " #   Column                       Non-Null Count  Dtype  \n",
      "---  ------                       --------------  -----  \n",
      " 0   respondent_id                26707 non-null  int64  \n",
      " 1   h1n1_concern                 26615 non-null  float64\n",
      " 2   h1n1_knowledge               26591 non-null  float64\n",
      " 3   behavioral_antiviral_meds    26636 non-null  float64\n",
      " 4   behavioral_avoidance         26499 non-null  float64\n",
      " 5   behavioral_face_mask         26688 non-null  float64\n",
      " 6   behavioral_wash_hands        26665 non-null  float64\n",
      " 7   behavioral_large_gatherings  26620 non-null  float64\n",
      " 8   behavioral_outside_home      26625 non-null  float64\n",
      " 9   behavioral_touch_face        26579 non-null  float64\n",
      " 10  doctor_recc_h1n1             24547 non-null  float64\n",
      " 11  doctor_recc_seasonal         24547 non-null  float64\n",
      " 12  chronic_med_condition        25736 non-null  float64\n",
      " 13  child_under_6_months         25887 non-null  float64\n",
      " 14  health_worker                25903 non-null  float64\n",
      " 15  health_insurance             14433 non-null  float64\n",
      " 16  opinion_h1n1_vacc_effective  26316 non-null  float64\n",
      " 17  opinion_h1n1_risk            26319 non-null  float64\n",
      " 18  opinion_h1n1_sick_from_vacc  26312 non-null  float64\n",
      " 19  opinion_seas_vacc_effective  26245 non-null  float64\n",
      " 20  opinion_seas_risk            26193 non-null  float64\n",
      " 21  opinion_seas_sick_from_vacc  26170 non-null  float64\n",
      " 22  age_group                    26707 non-null  object \n",
      " 23  education                    25300 non-null  object \n",
      " 24  race                         26707 non-null  object \n",
      " 25  sex                          26707 non-null  object \n",
      " 26  income_poverty               22284 non-null  object \n",
      " 27  marital_status               25299 non-null  object \n",
      " 28  rent_or_own                  24665 non-null  object \n",
      " 29  employment_status            25244 non-null  object \n",
      " 30  hhs_geo_region               26707 non-null  object \n",
      " 31  census_msa                   26707 non-null  object \n",
      " 32  household_adults             26458 non-null  float64\n",
      " 33  household_children           26458 non-null  float64\n",
      " 34  employment_industry          13377 non-null  object \n",
      " 35  employment_occupation        13237 non-null  object \n",
      "dtypes: float64(23), int64(1), object(12)\n",
      "memory usage: 7.3+ MB\n"
     ]
    }
   ],
   "source": [
    "training_set_features = pd.read_csv('../Data/training_set_features.csv')\n",
    "training_set_features.info()"
   ]
  },
  {
   "cell_type": "code",
   "execution_count": 6,
   "metadata": {
    "ExecuteTime": {
     "end_time": "2022-04-16T23:41:19.655068Z",
     "start_time": "2022-04-16T23:41:19.646784Z"
    }
   },
   "outputs": [
    {
     "name": "stdout",
     "output_type": "stream",
     "text": [
      "<class 'pandas.core.frame.DataFrame'>\n",
      "RangeIndex: 26707 entries, 0 to 26706\n",
      "Data columns (total 3 columns):\n",
      " #   Column            Non-Null Count  Dtype\n",
      "---  ------            --------------  -----\n",
      " 0   respondent_id     26707 non-null  int64\n",
      " 1   h1n1_vaccine      26707 non-null  int64\n",
      " 2   seasonal_vaccine  26707 non-null  int64\n",
      "dtypes: int64(3)\n",
      "memory usage: 626.1 KB\n"
     ]
    }
   ],
   "source": [
    "training_set_labels = pd.read_csv('../Data/training_set_labels.csv')\n",
    "training_set_labels.info()"
   ]
  },
  {
   "cell_type": "markdown",
   "metadata": {},
   "source": [
    "The training_set_features and is the dataset used to predict the actual training_set_labels. They are already split, however I will be rejoining for any cleaning I find necessary and splitting again in a format that is more convenient since there is two target variables. "
   ]
  },
  {
   "cell_type": "code",
   "execution_count": 7,
   "metadata": {
    "ExecuteTime": {
     "end_time": "2022-04-16T23:41:19.679286Z",
     "start_time": "2022-04-16T23:41:19.656261Z"
    }
   },
   "outputs": [],
   "source": [
    "complete_data = pd.merge(training_set_features, training_set_labels, on='respondent_id')"
   ]
  },
  {
   "cell_type": "code",
   "execution_count": 8,
   "metadata": {
    "ExecuteTime": {
     "end_time": "2022-04-16T23:41:19.702706Z",
     "start_time": "2022-04-16T23:41:19.680315Z"
    }
   },
   "outputs": [
    {
     "name": "stdout",
     "output_type": "stream",
     "text": [
      "<class 'pandas.core.frame.DataFrame'>\n",
      "Int64Index: 26707 entries, 0 to 26706\n",
      "Data columns (total 38 columns):\n",
      " #   Column                       Non-Null Count  Dtype  \n",
      "---  ------                       --------------  -----  \n",
      " 0   respondent_id                26707 non-null  int64  \n",
      " 1   h1n1_concern                 26615 non-null  float64\n",
      " 2   h1n1_knowledge               26591 non-null  float64\n",
      " 3   behavioral_antiviral_meds    26636 non-null  float64\n",
      " 4   behavioral_avoidance         26499 non-null  float64\n",
      " 5   behavioral_face_mask         26688 non-null  float64\n",
      " 6   behavioral_wash_hands        26665 non-null  float64\n",
      " 7   behavioral_large_gatherings  26620 non-null  float64\n",
      " 8   behavioral_outside_home      26625 non-null  float64\n",
      " 9   behavioral_touch_face        26579 non-null  float64\n",
      " 10  doctor_recc_h1n1             24547 non-null  float64\n",
      " 11  doctor_recc_seasonal         24547 non-null  float64\n",
      " 12  chronic_med_condition        25736 non-null  float64\n",
      " 13  child_under_6_months         25887 non-null  float64\n",
      " 14  health_worker                25903 non-null  float64\n",
      " 15  health_insurance             14433 non-null  float64\n",
      " 16  opinion_h1n1_vacc_effective  26316 non-null  float64\n",
      " 17  opinion_h1n1_risk            26319 non-null  float64\n",
      " 18  opinion_h1n1_sick_from_vacc  26312 non-null  float64\n",
      " 19  opinion_seas_vacc_effective  26245 non-null  float64\n",
      " 20  opinion_seas_risk            26193 non-null  float64\n",
      " 21  opinion_seas_sick_from_vacc  26170 non-null  float64\n",
      " 22  age_group                    26707 non-null  object \n",
      " 23  education                    25300 non-null  object \n",
      " 24  race                         26707 non-null  object \n",
      " 25  sex                          26707 non-null  object \n",
      " 26  income_poverty               22284 non-null  object \n",
      " 27  marital_status               25299 non-null  object \n",
      " 28  rent_or_own                  24665 non-null  object \n",
      " 29  employment_status            25244 non-null  object \n",
      " 30  hhs_geo_region               26707 non-null  object \n",
      " 31  census_msa                   26707 non-null  object \n",
      " 32  household_adults             26458 non-null  float64\n",
      " 33  household_children           26458 non-null  float64\n",
      " 34  employment_industry          13377 non-null  object \n",
      " 35  employment_occupation        13237 non-null  object \n",
      " 36  h1n1_vaccine                 26707 non-null  int64  \n",
      " 37  seasonal_vaccine             26707 non-null  int64  \n",
      "dtypes: float64(23), int64(3), object(12)\n",
      "memory usage: 7.9+ MB\n"
     ]
    }
   ],
   "source": [
    "complete_data.info()"
   ]
  },
  {
   "cell_type": "code",
   "execution_count": 9,
   "metadata": {
    "ExecuteTime": {
     "end_time": "2022-04-16T23:41:19.721582Z",
     "start_time": "2022-04-16T23:41:19.705246Z"
    }
   },
   "outputs": [
    {
     "data": {
      "text/plain": [
       "employment_occupation          13470\n",
       "employment_industry            13330\n",
       "health_insurance               12274\n",
       "income_poverty                  4423\n",
       "doctor_recc_h1n1                2160\n",
       "doctor_recc_seasonal            2160\n",
       "rent_or_own                     2042\n",
       "employment_status               1463\n",
       "marital_status                  1408\n",
       "education                       1407\n",
       "chronic_med_condition            971\n",
       "child_under_6_months             820\n",
       "health_worker                    804\n",
       "opinion_seas_sick_from_vacc      537\n",
       "opinion_seas_risk                514\n",
       "opinion_seas_vacc_effective      462\n",
       "opinion_h1n1_sick_from_vacc      395\n",
       "opinion_h1n1_vacc_effective      391\n",
       "opinion_h1n1_risk                388\n",
       "household_adults                 249\n",
       "household_children               249\n",
       "behavioral_avoidance             208\n",
       "behavioral_touch_face            128\n",
       "h1n1_knowledge                   116\n",
       "h1n1_concern                      92\n",
       "behavioral_large_gatherings       87\n",
       "behavioral_outside_home           82\n",
       "behavioral_antiviral_meds         71\n",
       "behavioral_wash_hands             42\n",
       "behavioral_face_mask              19\n",
       "seasonal_vaccine                   0\n",
       "h1n1_vaccine                       0\n",
       "age_group                          0\n",
       "race                               0\n",
       "sex                                0\n",
       "hhs_geo_region                     0\n",
       "census_msa                         0\n",
       "respondent_id                      0\n",
       "dtype: int64"
      ]
     },
     "execution_count": 9,
     "metadata": {},
     "output_type": "execute_result"
    }
   ],
   "source": [
    "complete_data.isna().sum().sort_values(ascending=False)"
   ]
  },
  {
   "cell_type": "markdown",
   "metadata": {},
   "source": [
    "### Split"
   ]
  },
  {
   "cell_type": "code",
   "execution_count": 10,
   "metadata": {
    "ExecuteTime": {
     "end_time": "2022-04-16T23:41:19.741098Z",
     "start_time": "2022-04-16T23:41:19.723316Z"
    }
   },
   "outputs": [],
   "source": [
    "X = complete_data.drop(['h1n1_vaccine', 'seasonal_vaccine', 'respondent_id'], axis=1)\n",
    "y1 = complete_data.filter(['h1n1_vaccine'])\n",
    "y2 = complete_data.filter(['seasonal_vaccine'])\n",
    "X_train1, X_test1, y_train1, y_test1 = train_test_split(X, y1, test_size=0.33, random_state=42)\n",
    "X_train2, X_test2, y_train2, y_test2 = train_test_split(X, y2, test_size=0.33, random_state=42)"
   ]
  },
  {
   "cell_type": "code",
   "execution_count": 11,
   "metadata": {
    "ExecuteTime": {
     "end_time": "2022-04-16T23:41:19.747255Z",
     "start_time": "2022-04-16T23:41:19.742164Z"
    }
   },
   "outputs": [
    {
     "data": {
      "text/plain": [
       "h1n1_vaccine\n",
       "0               14087\n",
       "1                3806\n",
       "dtype: int64"
      ]
     },
     "execution_count": 11,
     "metadata": {},
     "output_type": "execute_result"
    }
   ],
   "source": [
    "y_train1.value_counts()"
   ]
  },
  {
   "cell_type": "code",
   "execution_count": 12,
   "metadata": {
    "ExecuteTime": {
     "end_time": "2022-04-16T23:41:19.752422Z",
     "start_time": "2022-04-16T23:41:19.748193Z"
    }
   },
   "outputs": [
    {
     "data": {
      "text/plain": [
       "seasonal_vaccine\n",
       "0                   9502\n",
       "1                   8391\n",
       "dtype: int64"
      ]
     },
     "execution_count": 12,
     "metadata": {},
     "output_type": "execute_result"
    }
   ],
   "source": [
    "y_train2.value_counts()"
   ]
  },
  {
   "cell_type": "markdown",
   "metadata": {},
   "source": [
    "#### Using `Pipeline` and `FunctionTransformer`"
   ]
  },
  {
   "cell_type": "code",
   "execution_count": 13,
   "metadata": {
    "ExecuteTime": {
     "end_time": "2022-04-16T23:41:19.754534Z",
     "start_time": "2022-04-16T23:41:19.753313Z"
    }
   },
   "outputs": [],
   "source": [
    "# def grab_numeric(df):\n",
    "#     return df.select_dtypes(include=['float', 'int'])"
   ]
  },
  {
   "cell_type": "code",
   "execution_count": 14,
   "metadata": {
    "ExecuteTime": {
     "end_time": "2022-04-16T23:41:19.756756Z",
     "start_time": "2022-04-16T23:41:19.755448Z"
    }
   },
   "outputs": [],
   "source": [
    "# The FunctionTransformer will turn my function\n",
    "# into a transformer.\n",
    "# GrabNumeric = FunctionTransformer(grab_numeric)"
   ]
  },
  {
   "cell_type": "code",
   "execution_count": 15,
   "metadata": {
    "ExecuteTime": {
     "end_time": "2022-04-16T23:41:19.759565Z",
     "start_time": "2022-04-16T23:41:19.758211Z"
    }
   },
   "outputs": [],
   "source": [
    "# # Pipe!\n",
    "\n",
    "# pipe = Pipeline(steps=[\n",
    "#     ('num', GrabNumeric),\n",
    "#     ('ss', StandardScaler())\n",
    "# ])"
   ]
  },
  {
   "cell_type": "markdown",
   "metadata": {},
   "source": [
    "#### Using `Pipeline` and `ColumnTransformer`"
   ]
  },
  {
   "cell_type": "code",
   "execution_count": 16,
   "metadata": {
    "ExecuteTime": {
     "end_time": "2022-04-16T23:41:19.775778Z",
     "start_time": "2022-04-16T23:41:19.760642Z"
    }
   },
   "outputs": [
    {
     "data": {
      "text/html": [
       "<div>\n",
       "<style scoped>\n",
       "    .dataframe tbody tr th:only-of-type {\n",
       "        vertical-align: middle;\n",
       "    }\n",
       "\n",
       "    .dataframe tbody tr th {\n",
       "        vertical-align: top;\n",
       "    }\n",
       "\n",
       "    .dataframe thead th {\n",
       "        text-align: right;\n",
       "    }\n",
       "</style>\n",
       "<table border=\"1\" class=\"dataframe\">\n",
       "  <thead>\n",
       "    <tr style=\"text-align: right;\">\n",
       "      <th></th>\n",
       "      <th>h1n1_concern</th>\n",
       "      <th>h1n1_knowledge</th>\n",
       "      <th>behavioral_antiviral_meds</th>\n",
       "      <th>behavioral_avoidance</th>\n",
       "      <th>behavioral_face_mask</th>\n",
       "      <th>behavioral_wash_hands</th>\n",
       "      <th>behavioral_large_gatherings</th>\n",
       "      <th>behavioral_outside_home</th>\n",
       "      <th>behavioral_touch_face</th>\n",
       "      <th>doctor_recc_h1n1</th>\n",
       "      <th>...</th>\n",
       "      <th>income_poverty</th>\n",
       "      <th>marital_status</th>\n",
       "      <th>rent_or_own</th>\n",
       "      <th>employment_status</th>\n",
       "      <th>hhs_geo_region</th>\n",
       "      <th>census_msa</th>\n",
       "      <th>household_adults</th>\n",
       "      <th>household_children</th>\n",
       "      <th>employment_industry</th>\n",
       "      <th>employment_occupation</th>\n",
       "    </tr>\n",
       "  </thead>\n",
       "  <tbody>\n",
       "    <tr>\n",
       "      <th>0</th>\n",
       "      <td>1.0</td>\n",
       "      <td>0.0</td>\n",
       "      <td>0.0</td>\n",
       "      <td>0.0</td>\n",
       "      <td>0.0</td>\n",
       "      <td>0.0</td>\n",
       "      <td>0.0</td>\n",
       "      <td>1.0</td>\n",
       "      <td>1.0</td>\n",
       "      <td>0.0</td>\n",
       "      <td>...</td>\n",
       "      <td>Below Poverty</td>\n",
       "      <td>Not Married</td>\n",
       "      <td>Own</td>\n",
       "      <td>Not in Labor Force</td>\n",
       "      <td>oxchjgsf</td>\n",
       "      <td>Non-MSA</td>\n",
       "      <td>0.0</td>\n",
       "      <td>0.0</td>\n",
       "      <td>NaN</td>\n",
       "      <td>NaN</td>\n",
       "    </tr>\n",
       "    <tr>\n",
       "      <th>1</th>\n",
       "      <td>3.0</td>\n",
       "      <td>2.0</td>\n",
       "      <td>0.0</td>\n",
       "      <td>1.0</td>\n",
       "      <td>0.0</td>\n",
       "      <td>1.0</td>\n",
       "      <td>0.0</td>\n",
       "      <td>1.0</td>\n",
       "      <td>1.0</td>\n",
       "      <td>0.0</td>\n",
       "      <td>...</td>\n",
       "      <td>Below Poverty</td>\n",
       "      <td>Not Married</td>\n",
       "      <td>Rent</td>\n",
       "      <td>Employed</td>\n",
       "      <td>bhuqouqj</td>\n",
       "      <td>MSA, Not Principle  City</td>\n",
       "      <td>0.0</td>\n",
       "      <td>0.0</td>\n",
       "      <td>pxcmvdjn</td>\n",
       "      <td>xgwztkwe</td>\n",
       "    </tr>\n",
       "    <tr>\n",
       "      <th>2</th>\n",
       "      <td>1.0</td>\n",
       "      <td>1.0</td>\n",
       "      <td>0.0</td>\n",
       "      <td>1.0</td>\n",
       "      <td>0.0</td>\n",
       "      <td>0.0</td>\n",
       "      <td>0.0</td>\n",
       "      <td>0.0</td>\n",
       "      <td>0.0</td>\n",
       "      <td>NaN</td>\n",
       "      <td>...</td>\n",
       "      <td>&lt;= $75,000, Above Poverty</td>\n",
       "      <td>Not Married</td>\n",
       "      <td>Own</td>\n",
       "      <td>Employed</td>\n",
       "      <td>qufhixun</td>\n",
       "      <td>MSA, Not Principle  City</td>\n",
       "      <td>2.0</td>\n",
       "      <td>0.0</td>\n",
       "      <td>rucpziij</td>\n",
       "      <td>xtkaffoo</td>\n",
       "    </tr>\n",
       "    <tr>\n",
       "      <th>3</th>\n",
       "      <td>1.0</td>\n",
       "      <td>1.0</td>\n",
       "      <td>0.0</td>\n",
       "      <td>1.0</td>\n",
       "      <td>0.0</td>\n",
       "      <td>1.0</td>\n",
       "      <td>1.0</td>\n",
       "      <td>0.0</td>\n",
       "      <td>0.0</td>\n",
       "      <td>0.0</td>\n",
       "      <td>...</td>\n",
       "      <td>Below Poverty</td>\n",
       "      <td>Not Married</td>\n",
       "      <td>Rent</td>\n",
       "      <td>Not in Labor Force</td>\n",
       "      <td>lrircsnp</td>\n",
       "      <td>MSA, Principle City</td>\n",
       "      <td>0.0</td>\n",
       "      <td>0.0</td>\n",
       "      <td>NaN</td>\n",
       "      <td>NaN</td>\n",
       "    </tr>\n",
       "    <tr>\n",
       "      <th>4</th>\n",
       "      <td>2.0</td>\n",
       "      <td>1.0</td>\n",
       "      <td>0.0</td>\n",
       "      <td>1.0</td>\n",
       "      <td>0.0</td>\n",
       "      <td>1.0</td>\n",
       "      <td>1.0</td>\n",
       "      <td>0.0</td>\n",
       "      <td>1.0</td>\n",
       "      <td>0.0</td>\n",
       "      <td>...</td>\n",
       "      <td>&lt;= $75,000, Above Poverty</td>\n",
       "      <td>Married</td>\n",
       "      <td>Own</td>\n",
       "      <td>Employed</td>\n",
       "      <td>qufhixun</td>\n",
       "      <td>MSA, Not Principle  City</td>\n",
       "      <td>1.0</td>\n",
       "      <td>0.0</td>\n",
       "      <td>wxleyezf</td>\n",
       "      <td>emcorrxb</td>\n",
       "    </tr>\n",
       "  </tbody>\n",
       "</table>\n",
       "<p>5 rows × 35 columns</p>\n",
       "</div>"
      ],
      "text/plain": [
       "   h1n1_concern  h1n1_knowledge  behavioral_antiviral_meds  \\\n",
       "0           1.0             0.0                        0.0   \n",
       "1           3.0             2.0                        0.0   \n",
       "2           1.0             1.0                        0.0   \n",
       "3           1.0             1.0                        0.0   \n",
       "4           2.0             1.0                        0.0   \n",
       "\n",
       "   behavioral_avoidance  behavioral_face_mask  behavioral_wash_hands  \\\n",
       "0                   0.0                   0.0                    0.0   \n",
       "1                   1.0                   0.0                    1.0   \n",
       "2                   1.0                   0.0                    0.0   \n",
       "3                   1.0                   0.0                    1.0   \n",
       "4                   1.0                   0.0                    1.0   \n",
       "\n",
       "   behavioral_large_gatherings  behavioral_outside_home  \\\n",
       "0                          0.0                      1.0   \n",
       "1                          0.0                      1.0   \n",
       "2                          0.0                      0.0   \n",
       "3                          1.0                      0.0   \n",
       "4                          1.0                      0.0   \n",
       "\n",
       "   behavioral_touch_face  doctor_recc_h1n1  ...             income_poverty  \\\n",
       "0                    1.0               0.0  ...              Below Poverty   \n",
       "1                    1.0               0.0  ...              Below Poverty   \n",
       "2                    0.0               NaN  ...  <= $75,000, Above Poverty   \n",
       "3                    0.0               0.0  ...              Below Poverty   \n",
       "4                    1.0               0.0  ...  <= $75,000, Above Poverty   \n",
       "\n",
       "   marital_status  rent_or_own   employment_status  hhs_geo_region  \\\n",
       "0     Not Married          Own  Not in Labor Force        oxchjgsf   \n",
       "1     Not Married         Rent            Employed        bhuqouqj   \n",
       "2     Not Married          Own            Employed        qufhixun   \n",
       "3     Not Married         Rent  Not in Labor Force        lrircsnp   \n",
       "4         Married          Own            Employed        qufhixun   \n",
       "\n",
       "                 census_msa  household_adults  household_children  \\\n",
       "0                   Non-MSA               0.0                 0.0   \n",
       "1  MSA, Not Principle  City               0.0                 0.0   \n",
       "2  MSA, Not Principle  City               2.0                 0.0   \n",
       "3       MSA, Principle City               0.0                 0.0   \n",
       "4  MSA, Not Principle  City               1.0                 0.0   \n",
       "\n",
       "   employment_industry  employment_occupation  \n",
       "0                  NaN                    NaN  \n",
       "1             pxcmvdjn               xgwztkwe  \n",
       "2             rucpziij               xtkaffoo  \n",
       "3                  NaN                    NaN  \n",
       "4             wxleyezf               emcorrxb  \n",
       "\n",
       "[5 rows x 35 columns]"
      ]
     },
     "execution_count": 16,
     "metadata": {},
     "output_type": "execute_result"
    }
   ],
   "source": [
    "X.head()"
   ]
  },
  {
   "cell_type": "code",
   "execution_count": 17,
   "metadata": {
    "ExecuteTime": {
     "end_time": "2022-04-16T23:41:19.779276Z",
     "start_time": "2022-04-16T23:41:19.776704Z"
    }
   },
   "outputs": [],
   "source": [
    "subpipe_cat = Pipeline(steps=[('cat_impute', SimpleImputer(strategy='most_frequent')),\n",
    "                              ('ohe', OneHotEncoder(drop='first', sparse=False, handle_unknown='ignore'))])\n",
    "\n",
    "\n",
    "subpipe_ord = Pipeline(steps=[('ord_impute', SimpleImputer(strategy='most_frequent')),\n",
    "                              ('ord', OrdinalEncoder())])"
   ]
  },
  {
   "cell_type": "code",
   "execution_count": 18,
   "metadata": {
    "ExecuteTime": {
     "end_time": "2022-04-16T23:41:19.783011Z",
     "start_time": "2022-04-16T23:41:19.780348Z"
    }
   },
   "outputs": [],
   "source": [
    "cat_cols = []\n",
    "ord_cols = []"
   ]
  },
  {
   "cell_type": "code",
   "execution_count": 19,
   "metadata": {
    "ExecuteTime": {
     "end_time": "2022-04-16T23:41:19.826758Z",
     "start_time": "2022-04-16T23:41:19.784157Z"
    },
    "scrolled": true
   },
   "outputs": [],
   "source": [
    "for col in X.columns:\n",
    "    if len(X[col].value_counts().index) > 2:\n",
    "        cat_cols.append(col)\n",
    "    else:\n",
    "        ord_cols.append(col)"
   ]
  },
  {
   "cell_type": "code",
   "execution_count": 20,
   "metadata": {
    "ExecuteTime": {
     "end_time": "2022-04-16T23:41:19.830253Z",
     "start_time": "2022-04-16T23:41:19.827887Z"
    },
    "scrolled": true
   },
   "outputs": [
    {
     "data": {
      "text/plain": [
       "['behavioral_antiviral_meds',\n",
       " 'behavioral_avoidance',\n",
       " 'behavioral_face_mask',\n",
       " 'behavioral_wash_hands',\n",
       " 'behavioral_large_gatherings',\n",
       " 'behavioral_outside_home',\n",
       " 'behavioral_touch_face',\n",
       " 'doctor_recc_h1n1',\n",
       " 'doctor_recc_seasonal',\n",
       " 'chronic_med_condition',\n",
       " 'child_under_6_months',\n",
       " 'health_worker',\n",
       " 'health_insurance',\n",
       " 'sex',\n",
       " 'marital_status',\n",
       " 'rent_or_own']"
      ]
     },
     "execution_count": 20,
     "metadata": {},
     "output_type": "execute_result"
    }
   ],
   "source": [
    "ord_cols"
   ]
  },
  {
   "cell_type": "code",
   "execution_count": 21,
   "metadata": {
    "ExecuteTime": {
     "end_time": "2022-04-16T23:41:19.833499Z",
     "start_time": "2022-04-16T23:41:19.831145Z"
    }
   },
   "outputs": [
    {
     "data": {
      "text/plain": [
       "['h1n1_concern',\n",
       " 'h1n1_knowledge',\n",
       " 'opinion_h1n1_vacc_effective',\n",
       " 'opinion_h1n1_risk',\n",
       " 'opinion_h1n1_sick_from_vacc',\n",
       " 'opinion_seas_vacc_effective',\n",
       " 'opinion_seas_risk',\n",
       " 'opinion_seas_sick_from_vacc',\n",
       " 'age_group',\n",
       " 'education',\n",
       " 'race',\n",
       " 'income_poverty',\n",
       " 'employment_status',\n",
       " 'hhs_geo_region',\n",
       " 'census_msa',\n",
       " 'household_adults',\n",
       " 'household_children',\n",
       " 'employment_industry',\n",
       " 'employment_occupation']"
      ]
     },
     "execution_count": 21,
     "metadata": {},
     "output_type": "execute_result"
    }
   ],
   "source": [
    "cat_cols"
   ]
  },
  {
   "cell_type": "code",
   "execution_count": 22,
   "metadata": {
    "ExecuteTime": {
     "end_time": "2022-04-16T23:41:19.836160Z",
     "start_time": "2022-04-16T23:41:19.834430Z"
    }
   },
   "outputs": [],
   "source": [
    "# The \"remainder='passthrough'\" bit tells the compiler to leave\n",
    "# the other df columns unchanged.\n",
    "ct = ColumnTransformer(transformers = [\n",
    "    ('subpipe_cat', subpipe_cat, cat_cols),\n",
    "    ('subpipe_ord', subpipe_ord, ord_cols)\n",
    "])"
   ]
  },
  {
   "cell_type": "code",
   "execution_count": 95,
   "metadata": {
    "ExecuteTime": {
     "end_time": "2022-04-17T00:24:36.879094Z",
     "start_time": "2022-04-17T00:24:36.395370Z"
    },
    "collapsed": true
   },
   "outputs": [
    {
     "data": {
      "text/html": [
       "<div>\n",
       "<style scoped>\n",
       "    .dataframe tbody tr th:only-of-type {\n",
       "        vertical-align: middle;\n",
       "    }\n",
       "\n",
       "    .dataframe tbody tr th {\n",
       "        vertical-align: top;\n",
       "    }\n",
       "\n",
       "    .dataframe thead th {\n",
       "        text-align: right;\n",
       "    }\n",
       "</style>\n",
       "<table border=\"1\" class=\"dataframe\">\n",
       "  <thead>\n",
       "    <tr style=\"text-align: right;\">\n",
       "      <th></th>\n",
       "      <th>0</th>\n",
       "      <th>1</th>\n",
       "      <th>2</th>\n",
       "      <th>3</th>\n",
       "      <th>4</th>\n",
       "      <th>5</th>\n",
       "      <th>6</th>\n",
       "      <th>7</th>\n",
       "      <th>8</th>\n",
       "      <th>9</th>\n",
       "      <th>...</th>\n",
       "      <th>108</th>\n",
       "      <th>109</th>\n",
       "      <th>110</th>\n",
       "      <th>111</th>\n",
       "      <th>112</th>\n",
       "      <th>113</th>\n",
       "      <th>114</th>\n",
       "      <th>115</th>\n",
       "      <th>116</th>\n",
       "      <th>117</th>\n",
       "    </tr>\n",
       "  </thead>\n",
       "  <tbody>\n",
       "    <tr>\n",
       "      <th>count</th>\n",
       "      <td>17893.000000</td>\n",
       "      <td>17893.000000</td>\n",
       "      <td>17893.000000</td>\n",
       "      <td>17893.000000</td>\n",
       "      <td>17893.000000</td>\n",
       "      <td>17893.000000</td>\n",
       "      <td>17893.000000</td>\n",
       "      <td>17893.000000</td>\n",
       "      <td>17893.000000</td>\n",
       "      <td>17893.000000</td>\n",
       "      <td>...</td>\n",
       "      <td>17893.000000</td>\n",
       "      <td>17893.000000</td>\n",
       "      <td>17893.000000</td>\n",
       "      <td>17893.000000</td>\n",
       "      <td>17893.000000</td>\n",
       "      <td>17893.000000</td>\n",
       "      <td>17893.000000</td>\n",
       "      <td>17893.000000</td>\n",
       "      <td>17893.000000</td>\n",
       "      <td>17893.000000</td>\n",
       "    </tr>\n",
       "    <tr>\n",
       "      <th>mean</th>\n",
       "      <td>0.307327</td>\n",
       "      <td>0.398145</td>\n",
       "      <td>0.173196</td>\n",
       "      <td>0.551724</td>\n",
       "      <td>0.355334</td>\n",
       "      <td>0.069077</td>\n",
       "      <td>0.175208</td>\n",
       "      <td>0.455038</td>\n",
       "      <td>0.267032</td>\n",
       "      <td>0.385626</td>\n",
       "      <td>...</td>\n",
       "      <td>0.675124</td>\n",
       "      <td>0.203487</td>\n",
       "      <td>0.306041</td>\n",
       "      <td>0.275136</td>\n",
       "      <td>0.079528</td>\n",
       "      <td>0.109484</td>\n",
       "      <td>0.936064</td>\n",
       "      <td>0.404348</td>\n",
       "      <td>0.437210</td>\n",
       "      <td>0.220198</td>\n",
       "    </tr>\n",
       "    <tr>\n",
       "      <th>std</th>\n",
       "      <td>0.461399</td>\n",
       "      <td>0.489529</td>\n",
       "      <td>0.378427</td>\n",
       "      <td>0.497331</td>\n",
       "      <td>0.478628</td>\n",
       "      <td>0.253593</td>\n",
       "      <td>0.380156</td>\n",
       "      <td>0.497988</td>\n",
       "      <td>0.442421</td>\n",
       "      <td>0.486756</td>\n",
       "      <td>...</td>\n",
       "      <td>0.468341</td>\n",
       "      <td>0.402603</td>\n",
       "      <td>0.460860</td>\n",
       "      <td>0.446595</td>\n",
       "      <td>0.270569</td>\n",
       "      <td>0.312254</td>\n",
       "      <td>0.244645</td>\n",
       "      <td>0.490779</td>\n",
       "      <td>0.496056</td>\n",
       "      <td>0.414392</td>\n",
       "    </tr>\n",
       "    <tr>\n",
       "      <th>min</th>\n",
       "      <td>0.000000</td>\n",
       "      <td>0.000000</td>\n",
       "      <td>0.000000</td>\n",
       "      <td>0.000000</td>\n",
       "      <td>0.000000</td>\n",
       "      <td>0.000000</td>\n",
       "      <td>0.000000</td>\n",
       "      <td>0.000000</td>\n",
       "      <td>0.000000</td>\n",
       "      <td>0.000000</td>\n",
       "      <td>...</td>\n",
       "      <td>0.000000</td>\n",
       "      <td>0.000000</td>\n",
       "      <td>0.000000</td>\n",
       "      <td>0.000000</td>\n",
       "      <td>0.000000</td>\n",
       "      <td>0.000000</td>\n",
       "      <td>0.000000</td>\n",
       "      <td>0.000000</td>\n",
       "      <td>0.000000</td>\n",
       "      <td>0.000000</td>\n",
       "    </tr>\n",
       "    <tr>\n",
       "      <th>25%</th>\n",
       "      <td>0.000000</td>\n",
       "      <td>0.000000</td>\n",
       "      <td>0.000000</td>\n",
       "      <td>0.000000</td>\n",
       "      <td>0.000000</td>\n",
       "      <td>0.000000</td>\n",
       "      <td>0.000000</td>\n",
       "      <td>0.000000</td>\n",
       "      <td>0.000000</td>\n",
       "      <td>0.000000</td>\n",
       "      <td>...</td>\n",
       "      <td>0.000000</td>\n",
       "      <td>0.000000</td>\n",
       "      <td>0.000000</td>\n",
       "      <td>0.000000</td>\n",
       "      <td>0.000000</td>\n",
       "      <td>0.000000</td>\n",
       "      <td>1.000000</td>\n",
       "      <td>0.000000</td>\n",
       "      <td>0.000000</td>\n",
       "      <td>0.000000</td>\n",
       "    </tr>\n",
       "    <tr>\n",
       "      <th>50%</th>\n",
       "      <td>0.000000</td>\n",
       "      <td>0.000000</td>\n",
       "      <td>0.000000</td>\n",
       "      <td>1.000000</td>\n",
       "      <td>0.000000</td>\n",
       "      <td>0.000000</td>\n",
       "      <td>0.000000</td>\n",
       "      <td>0.000000</td>\n",
       "      <td>0.000000</td>\n",
       "      <td>0.000000</td>\n",
       "      <td>...</td>\n",
       "      <td>1.000000</td>\n",
       "      <td>0.000000</td>\n",
       "      <td>0.000000</td>\n",
       "      <td>0.000000</td>\n",
       "      <td>0.000000</td>\n",
       "      <td>0.000000</td>\n",
       "      <td>1.000000</td>\n",
       "      <td>0.000000</td>\n",
       "      <td>0.000000</td>\n",
       "      <td>0.000000</td>\n",
       "    </tr>\n",
       "    <tr>\n",
       "      <th>75%</th>\n",
       "      <td>1.000000</td>\n",
       "      <td>1.000000</td>\n",
       "      <td>0.000000</td>\n",
       "      <td>1.000000</td>\n",
       "      <td>1.000000</td>\n",
       "      <td>0.000000</td>\n",
       "      <td>0.000000</td>\n",
       "      <td>1.000000</td>\n",
       "      <td>1.000000</td>\n",
       "      <td>1.000000</td>\n",
       "      <td>...</td>\n",
       "      <td>1.000000</td>\n",
       "      <td>0.000000</td>\n",
       "      <td>1.000000</td>\n",
       "      <td>1.000000</td>\n",
       "      <td>0.000000</td>\n",
       "      <td>0.000000</td>\n",
       "      <td>1.000000</td>\n",
       "      <td>1.000000</td>\n",
       "      <td>1.000000</td>\n",
       "      <td>0.000000</td>\n",
       "    </tr>\n",
       "    <tr>\n",
       "      <th>max</th>\n",
       "      <td>1.000000</td>\n",
       "      <td>1.000000</td>\n",
       "      <td>1.000000</td>\n",
       "      <td>1.000000</td>\n",
       "      <td>1.000000</td>\n",
       "      <td>1.000000</td>\n",
       "      <td>1.000000</td>\n",
       "      <td>1.000000</td>\n",
       "      <td>1.000000</td>\n",
       "      <td>1.000000</td>\n",
       "      <td>...</td>\n",
       "      <td>1.000000</td>\n",
       "      <td>1.000000</td>\n",
       "      <td>1.000000</td>\n",
       "      <td>1.000000</td>\n",
       "      <td>1.000000</td>\n",
       "      <td>1.000000</td>\n",
       "      <td>1.000000</td>\n",
       "      <td>1.000000</td>\n",
       "      <td>1.000000</td>\n",
       "      <td>1.000000</td>\n",
       "    </tr>\n",
       "  </tbody>\n",
       "</table>\n",
       "<p>8 rows × 118 columns</p>\n",
       "</div>"
      ],
      "text/plain": [
       "                0             1             2             3             4    \\\n",
       "count  17893.000000  17893.000000  17893.000000  17893.000000  17893.000000   \n",
       "mean       0.307327      0.398145      0.173196      0.551724      0.355334   \n",
       "std        0.461399      0.489529      0.378427      0.497331      0.478628   \n",
       "min        0.000000      0.000000      0.000000      0.000000      0.000000   \n",
       "25%        0.000000      0.000000      0.000000      0.000000      0.000000   \n",
       "50%        0.000000      0.000000      0.000000      1.000000      0.000000   \n",
       "75%        1.000000      1.000000      0.000000      1.000000      1.000000   \n",
       "max        1.000000      1.000000      1.000000      1.000000      1.000000   \n",
       "\n",
       "                5             6             7             8             9    \\\n",
       "count  17893.000000  17893.000000  17893.000000  17893.000000  17893.000000   \n",
       "mean       0.069077      0.175208      0.455038      0.267032      0.385626   \n",
       "std        0.253593      0.380156      0.497988      0.442421      0.486756   \n",
       "min        0.000000      0.000000      0.000000      0.000000      0.000000   \n",
       "25%        0.000000      0.000000      0.000000      0.000000      0.000000   \n",
       "50%        0.000000      0.000000      0.000000      0.000000      0.000000   \n",
       "75%        0.000000      0.000000      1.000000      1.000000      1.000000   \n",
       "max        1.000000      1.000000      1.000000      1.000000      1.000000   \n",
       "\n",
       "       ...           108           109           110           111  \\\n",
       "count  ...  17893.000000  17893.000000  17893.000000  17893.000000   \n",
       "mean   ...      0.675124      0.203487      0.306041      0.275136   \n",
       "std    ...      0.468341      0.402603      0.460860      0.446595   \n",
       "min    ...      0.000000      0.000000      0.000000      0.000000   \n",
       "25%    ...      0.000000      0.000000      0.000000      0.000000   \n",
       "50%    ...      1.000000      0.000000      0.000000      0.000000   \n",
       "75%    ...      1.000000      0.000000      1.000000      1.000000   \n",
       "max    ...      1.000000      1.000000      1.000000      1.000000   \n",
       "\n",
       "                112           113           114           115           116  \\\n",
       "count  17893.000000  17893.000000  17893.000000  17893.000000  17893.000000   \n",
       "mean       0.079528      0.109484      0.936064      0.404348      0.437210   \n",
       "std        0.270569      0.312254      0.244645      0.490779      0.496056   \n",
       "min        0.000000      0.000000      0.000000      0.000000      0.000000   \n",
       "25%        0.000000      0.000000      1.000000      0.000000      0.000000   \n",
       "50%        0.000000      0.000000      1.000000      0.000000      0.000000   \n",
       "75%        0.000000      0.000000      1.000000      1.000000      1.000000   \n",
       "max        1.000000      1.000000      1.000000      1.000000      1.000000   \n",
       "\n",
       "                117  \n",
       "count  17893.000000  \n",
       "mean       0.220198  \n",
       "std        0.414392  \n",
       "min        0.000000  \n",
       "25%        0.000000  \n",
       "50%        0.000000  \n",
       "75%        0.000000  \n",
       "max        1.000000  \n",
       "\n",
       "[8 rows x 118 columns]"
      ]
     },
     "execution_count": 95,
     "metadata": {},
     "output_type": "execute_result"
    }
   ],
   "source": [
    "pd.DataFrame(ct.fit_transform(X_train1))"
   ]
  },
  {
   "cell_type": "markdown",
   "metadata": {},
   "source": [
    "#### Logistic Regression Pipeline"
   ]
  },
  {
   "cell_type": "code",
   "execution_count": 24,
   "metadata": {
    "ExecuteTime": {
     "end_time": "2022-04-16T23:41:19.841675Z",
     "start_time": "2022-04-16T23:41:19.839904Z"
    }
   },
   "outputs": [],
   "source": [
    "# The `ColumnTransformer` will take care of our preprocessing,\n",
    "# so now we can add our model at the end of the pipeline.\n",
    "\n",
    "\n",
    "logreg_model_pipe = Pipeline(steps=[\n",
    "    ('ct', ct),\n",
    "    ('logreg', LogisticRegression(random_state=42, max_iter=1000))\n",
    "])"
   ]
  },
  {
   "cell_type": "code",
   "execution_count": 25,
   "metadata": {
    "ExecuteTime": {
     "end_time": "2022-04-16T23:41:19.844214Z",
     "start_time": "2022-04-16T23:41:19.842619Z"
    }
   },
   "outputs": [],
   "source": [
    "y_train1 = y_train1.values.ravel()"
   ]
  },
  {
   "cell_type": "code",
   "execution_count": 26,
   "metadata": {
    "ExecuteTime": {
     "end_time": "2022-04-16T23:41:20.551076Z",
     "start_time": "2022-04-16T23:41:19.846153Z"
    },
    "scrolled": true
   },
   "outputs": [],
   "source": [
    "logreg_model_pipe.fit(X_train1, y_train1);"
   ]
  },
  {
   "cell_type": "code",
   "execution_count": 27,
   "metadata": {
    "ExecuteTime": {
     "end_time": "2022-04-16T23:41:20.730490Z",
     "start_time": "2022-04-16T23:41:20.555293Z"
    }
   },
   "outputs": [
    {
     "data": {
      "text/plain": [
       "0.8396579668026602"
      ]
     },
     "execution_count": 27,
     "metadata": {},
     "output_type": "execute_result"
    }
   ],
   "source": [
    "logreg_model_pipe.score(X_train1, y_train1)"
   ]
  },
  {
   "cell_type": "code",
   "execution_count": 28,
   "metadata": {
    "ExecuteTime": {
     "end_time": "2022-04-16T23:41:23.660042Z",
     "start_time": "2022-04-16T23:41:20.732465Z"
    }
   },
   "outputs": [
    {
     "data": {
      "text/plain": [
       "array([0.83459067, 0.8393406 , 0.83654652, 0.8373393 , 0.83510341])"
      ]
     },
     "execution_count": 28,
     "metadata": {},
     "output_type": "execute_result"
    }
   ],
   "source": [
    "cross_val_score(logreg_model_pipe, X_train1, y_train1)"
   ]
  },
  {
   "cell_type": "code",
   "execution_count": 29,
   "metadata": {
    "ExecuteTime": {
     "end_time": "2022-04-16T23:41:23.662748Z",
     "start_time": "2022-04-16T23:41:23.660989Z"
    }
   },
   "outputs": [],
   "source": [
    "y_train2 = y_train2.values.ravel()"
   ]
  },
  {
   "cell_type": "code",
   "execution_count": 30,
   "metadata": {
    "ExecuteTime": {
     "end_time": "2022-04-16T23:41:24.402502Z",
     "start_time": "2022-04-16T23:41:23.663617Z"
    }
   },
   "outputs": [],
   "source": [
    "logreg_model_pipe.fit(X_train2, y_train2);"
   ]
  },
  {
   "cell_type": "code",
   "execution_count": 31,
   "metadata": {
    "ExecuteTime": {
     "end_time": "2022-04-16T23:41:24.572117Z",
     "start_time": "2022-04-16T23:41:24.403514Z"
    }
   },
   "outputs": [
    {
     "data": {
      "text/plain": [
       "0.7836025261275359"
      ]
     },
     "execution_count": 31,
     "metadata": {},
     "output_type": "execute_result"
    }
   ],
   "source": [
    "logreg_model_pipe.score(X_train2, y_train2)"
   ]
  },
  {
   "cell_type": "code",
   "execution_count": 32,
   "metadata": {
    "ExecuteTime": {
     "end_time": "2022-04-16T23:41:27.522480Z",
     "start_time": "2022-04-16T23:41:24.573118Z"
    }
   },
   "outputs": [
    {
     "data": {
      "text/plain": [
       "array([0.77312098, 0.78234144, 0.76725342, 0.78256009, 0.78731135])"
      ]
     },
     "execution_count": 32,
     "metadata": {},
     "output_type": "execute_result"
    }
   ],
   "source": [
    "cross_val_score(logreg_model_pipe, X_train2, y_train2)"
   ]
  },
  {
   "cell_type": "markdown",
   "metadata": {},
   "source": [
    "#### Bringing in Our Modeling Class from before"
   ]
  },
  {
   "cell_type": "code",
   "execution_count": 33,
   "metadata": {
    "ExecuteTime": {
     "end_time": "2022-04-16T23:41:27.530216Z",
     "start_time": "2022-04-16T23:41:27.523685Z"
    }
   },
   "outputs": [],
   "source": [
    "class ModelWithCV():\n",
    "    '''Structure to save the model and more easily see its crossvalidation'''\n",
    "    \n",
    "    def __init__(self, model, model_name, X, y, cv_now=True):\n",
    "        self.model = model\n",
    "        self.name = model_name\n",
    "        self.X = X\n",
    "        self.y = y\n",
    "        # For CV results\n",
    "        self.cv_results = None\n",
    "        self.cv_mean = None\n",
    "        self.cv_median = None\n",
    "        self.cv_std = None\n",
    "        #\n",
    "        if cv_now:\n",
    "            self.cross_validate()\n",
    "        \n",
    "    def cross_validate(self, X=None, y=None, kfolds=10):\n",
    "        '''\n",
    "        Perform cross-validation and return results.\n",
    "        \n",
    "        Args: \n",
    "          X:\n",
    "            Optional; Training data to perform CV on. Otherwise use X from object\n",
    "          y:\n",
    "            Optional; Training data to perform CV on. Otherwise use y from object\n",
    "          kfolds:\n",
    "            Optional; Number of folds for CV (default is 10)  \n",
    "        '''\n",
    "        \n",
    "        cv_X = X if X else self.X\n",
    "        cv_y = y if y else self.y\n",
    "\n",
    "        self.cv_results = cross_val_score(self.model, cv_X, cv_y, cv=kfolds)\n",
    "        self.cv_mean = np.mean(self.cv_results)\n",
    "        self.cv_median = np.median(self.cv_results)\n",
    "        self.cv_std = np.std(self.cv_results)\n",
    "\n",
    "        \n",
    "    def print_cv_summary(self):\n",
    "        cv_summary = (\n",
    "        f'''CV Results for `{self.name}` model:\n",
    "            {self.cv_mean:.5f} ± {self.cv_std:.5f} accuracy\n",
    "        ''')\n",
    "        print(cv_summary)\n",
    "\n",
    "        \n",
    "    def plot_cv(self, ax):\n",
    "        '''\n",
    "        Plot the cross-validation values using the array of results and given \n",
    "        Axis for plotting.\n",
    "        '''\n",
    "        ax.set_title(f'CV Results for `{self.name}` Model')\n",
    "        # Thinner violinplot with higher bw\n",
    "        sns.violinplot(y=self.cv_results, ax=ax, bw=.4)\n",
    "        sns.swarmplot(\n",
    "                y=self.cv_results,\n",
    "                color='orange',\n",
    "                size=10,\n",
    "                alpha= 0.8,\n",
    "                ax=ax\n",
    "        )\n",
    "\n",
    "        return ax"
   ]
  },
  {
   "cell_type": "code",
   "execution_count": 34,
   "metadata": {
    "ExecuteTime": {
     "end_time": "2022-04-16T23:41:33.896775Z",
     "start_time": "2022-04-16T23:41:27.532508Z"
    }
   },
   "outputs": [],
   "source": [
    "log_pipe = ModelWithCV(logreg_model_pipe, model_name='log_pipe', X=X_train1, y=y_train1)"
   ]
  },
  {
   "cell_type": "code",
   "execution_count": 35,
   "metadata": {
    "ExecuteTime": {
     "end_time": "2022-04-16T23:41:33.990633Z",
     "start_time": "2022-04-16T23:41:33.897891Z"
    },
    "scrolled": true
   },
   "outputs": [
    {
     "data": {
      "image/png": "[encoded data removed]",
      "text/plain": [
       "<Figure size 432x288 with 1 Axes>"
      ]
     },
     "metadata": {
      "needs_background": "light"
     },
     "output_type": "display_data"
    }
   ],
   "source": [
    "fig, ax = plt.subplots()\n",
    "\n",
    "log_pipe.plot_cv(ax=ax);"
   ]
  },
  {
   "cell_type": "code",
   "execution_count": 36,
   "metadata": {
    "ExecuteTime": {
     "end_time": "2022-04-16T23:41:33.993973Z",
     "start_time": "2022-04-16T23:41:33.991670Z"
    },
    "scrolled": true
   },
   "outputs": [
    {
     "name": "stdout",
     "output_type": "stream",
     "text": [
      "CV Results for `log_pipe` model:\n",
      "            0.83664 ± 0.00495 accuracy\n",
      "        \n"
     ]
    }
   ],
   "source": [
    "log_pipe.print_cv_summary()"
   ]
  },
  {
   "cell_type": "code",
   "execution_count": 80,
   "metadata": {
    "ExecuteTime": {
     "end_time": "2022-04-17T00:01:13.661080Z",
     "start_time": "2022-04-17T00:01:12.852616Z"
    }
   },
   "outputs": [
    {
     "name": "stdout",
     "output_type": "stream",
     "text": [
      "\n",
      "Our final model's accuracy on the test set is 0.84. \n",
      "\n",
      "Our final model's recall on the test set is 0.43 \n",
      "\n",
      "Our final model's precision on the test set is 0.69 \n",
      "\n",
      "Our final model's f1-score on the test is 0.53.\n",
      "\n"
     ]
    }
   ],
   "source": [
    "logreg_model_pipe.fit(X_train1, y_train1)\n",
    "y_hat = logreg_model_pipe.predict(X_test1)\n",
    "print(f\"\"\"\n",
    "Our final model's accuracy on the test set is {round(accuracy_score(y_test1, y_hat), 2)}. \\n\n",
    "Our final model's recall on the test set is {round(recall_score(y_test1, y_hat), 2)} \\n\n",
    "Our final model's precision on the test set is {round(precision_score(y_test1, y_hat), 2)} \\n\n",
    "Our final model's f1-score on the test is {round(f1_score(y_test1, y_hat), 2)}.\n",
    "\"\"\")"
   ]
  },
  {
   "cell_type": "markdown",
   "metadata": {},
   "source": [
    "#### Nearest Neighbors Pipeline"
   ]
  },
  {
   "cell_type": "code",
   "execution_count": 96,
   "metadata": {
    "ExecuteTime": {
     "end_time": "2022-04-17T00:25:07.871050Z",
     "start_time": "2022-04-17T00:25:07.405571Z"
    }
   },
   "outputs": [
    {
     "data": {
      "text/html": [
       "<div>\n",
       "<style scoped>\n",
       "    .dataframe tbody tr th:only-of-type {\n",
       "        vertical-align: middle;\n",
       "    }\n",
       "\n",
       "    .dataframe tbody tr th {\n",
       "        vertical-align: top;\n",
       "    }\n",
       "\n",
       "    .dataframe thead th {\n",
       "        text-align: right;\n",
       "    }\n",
       "</style>\n",
       "<table border=\"1\" class=\"dataframe\">\n",
       "  <thead>\n",
       "    <tr style=\"text-align: right;\">\n",
       "      <th></th>\n",
       "      <th>0</th>\n",
       "      <th>1</th>\n",
       "      <th>2</th>\n",
       "      <th>3</th>\n",
       "      <th>4</th>\n",
       "      <th>5</th>\n",
       "      <th>6</th>\n",
       "      <th>7</th>\n",
       "      <th>8</th>\n",
       "      <th>9</th>\n",
       "      <th>...</th>\n",
       "      <th>108</th>\n",
       "      <th>109</th>\n",
       "      <th>110</th>\n",
       "      <th>111</th>\n",
       "      <th>112</th>\n",
       "      <th>113</th>\n",
       "      <th>114</th>\n",
       "      <th>115</th>\n",
       "      <th>116</th>\n",
       "      <th>117</th>\n",
       "    </tr>\n",
       "  </thead>\n",
       "  <tbody>\n",
       "    <tr>\n",
       "      <th>count</th>\n",
       "      <td>17893.000000</td>\n",
       "      <td>17893.000000</td>\n",
       "      <td>17893.000000</td>\n",
       "      <td>17893.000000</td>\n",
       "      <td>17893.000000</td>\n",
       "      <td>17893.000000</td>\n",
       "      <td>17893.000000</td>\n",
       "      <td>17893.000000</td>\n",
       "      <td>17893.000000</td>\n",
       "      <td>17893.000000</td>\n",
       "      <td>...</td>\n",
       "      <td>17893.000000</td>\n",
       "      <td>17893.000000</td>\n",
       "      <td>17893.000000</td>\n",
       "      <td>17893.000000</td>\n",
       "      <td>17893.000000</td>\n",
       "      <td>17893.000000</td>\n",
       "      <td>17893.000000</td>\n",
       "      <td>17893.000000</td>\n",
       "      <td>17893.000000</td>\n",
       "      <td>17893.000000</td>\n",
       "    </tr>\n",
       "    <tr>\n",
       "      <th>mean</th>\n",
       "      <td>0.307327</td>\n",
       "      <td>0.398145</td>\n",
       "      <td>0.173196</td>\n",
       "      <td>0.551724</td>\n",
       "      <td>0.355334</td>\n",
       "      <td>0.069077</td>\n",
       "      <td>0.175208</td>\n",
       "      <td>0.455038</td>\n",
       "      <td>0.267032</td>\n",
       "      <td>0.385626</td>\n",
       "      <td>...</td>\n",
       "      <td>0.675124</td>\n",
       "      <td>0.203487</td>\n",
       "      <td>0.306041</td>\n",
       "      <td>0.275136</td>\n",
       "      <td>0.079528</td>\n",
       "      <td>0.109484</td>\n",
       "      <td>0.936064</td>\n",
       "      <td>0.404348</td>\n",
       "      <td>0.437210</td>\n",
       "      <td>0.220198</td>\n",
       "    </tr>\n",
       "    <tr>\n",
       "      <th>std</th>\n",
       "      <td>0.461399</td>\n",
       "      <td>0.489529</td>\n",
       "      <td>0.378427</td>\n",
       "      <td>0.497331</td>\n",
       "      <td>0.478628</td>\n",
       "      <td>0.253593</td>\n",
       "      <td>0.380156</td>\n",
       "      <td>0.497988</td>\n",
       "      <td>0.442421</td>\n",
       "      <td>0.486756</td>\n",
       "      <td>...</td>\n",
       "      <td>0.468341</td>\n",
       "      <td>0.402603</td>\n",
       "      <td>0.460860</td>\n",
       "      <td>0.446595</td>\n",
       "      <td>0.270569</td>\n",
       "      <td>0.312254</td>\n",
       "      <td>0.244645</td>\n",
       "      <td>0.490779</td>\n",
       "      <td>0.496056</td>\n",
       "      <td>0.414392</td>\n",
       "    </tr>\n",
       "    <tr>\n",
       "      <th>min</th>\n",
       "      <td>0.000000</td>\n",
       "      <td>0.000000</td>\n",
       "      <td>0.000000</td>\n",
       "      <td>0.000000</td>\n",
       "      <td>0.000000</td>\n",
       "      <td>0.000000</td>\n",
       "      <td>0.000000</td>\n",
       "      <td>0.000000</td>\n",
       "      <td>0.000000</td>\n",
       "      <td>0.000000</td>\n",
       "      <td>...</td>\n",
       "      <td>0.000000</td>\n",
       "      <td>0.000000</td>\n",
       "      <td>0.000000</td>\n",
       "      <td>0.000000</td>\n",
       "      <td>0.000000</td>\n",
       "      <td>0.000000</td>\n",
       "      <td>0.000000</td>\n",
       "      <td>0.000000</td>\n",
       "      <td>0.000000</td>\n",
       "      <td>0.000000</td>\n",
       "    </tr>\n",
       "    <tr>\n",
       "      <th>25%</th>\n",
       "      <td>0.000000</td>\n",
       "      <td>0.000000</td>\n",
       "      <td>0.000000</td>\n",
       "      <td>0.000000</td>\n",
       "      <td>0.000000</td>\n",
       "      <td>0.000000</td>\n",
       "      <td>0.000000</td>\n",
       "      <td>0.000000</td>\n",
       "      <td>0.000000</td>\n",
       "      <td>0.000000</td>\n",
       "      <td>...</td>\n",
       "      <td>0.000000</td>\n",
       "      <td>0.000000</td>\n",
       "      <td>0.000000</td>\n",
       "      <td>0.000000</td>\n",
       "      <td>0.000000</td>\n",
       "      <td>0.000000</td>\n",
       "      <td>1.000000</td>\n",
       "      <td>0.000000</td>\n",
       "      <td>0.000000</td>\n",
       "      <td>0.000000</td>\n",
       "    </tr>\n",
       "    <tr>\n",
       "      <th>50%</th>\n",
       "      <td>0.000000</td>\n",
       "      <td>0.000000</td>\n",
       "      <td>0.000000</td>\n",
       "      <td>1.000000</td>\n",
       "      <td>0.000000</td>\n",
       "      <td>0.000000</td>\n",
       "      <td>0.000000</td>\n",
       "      <td>0.000000</td>\n",
       "      <td>0.000000</td>\n",
       "      <td>0.000000</td>\n",
       "      <td>...</td>\n",
       "      <td>1.000000</td>\n",
       "      <td>0.000000</td>\n",
       "      <td>0.000000</td>\n",
       "      <td>0.000000</td>\n",
       "      <td>0.000000</td>\n",
       "      <td>0.000000</td>\n",
       "      <td>1.000000</td>\n",
       "      <td>0.000000</td>\n",
       "      <td>0.000000</td>\n",
       "      <td>0.000000</td>\n",
       "    </tr>\n",
       "    <tr>\n",
       "      <th>75%</th>\n",
       "      <td>1.000000</td>\n",
       "      <td>1.000000</td>\n",
       "      <td>0.000000</td>\n",
       "      <td>1.000000</td>\n",
       "      <td>1.000000</td>\n",
       "      <td>0.000000</td>\n",
       "      <td>0.000000</td>\n",
       "      <td>1.000000</td>\n",
       "      <td>1.000000</td>\n",
       "      <td>1.000000</td>\n",
       "      <td>...</td>\n",
       "      <td>1.000000</td>\n",
       "      <td>0.000000</td>\n",
       "      <td>1.000000</td>\n",
       "      <td>1.000000</td>\n",
       "      <td>0.000000</td>\n",
       "      <td>0.000000</td>\n",
       "      <td>1.000000</td>\n",
       "      <td>1.000000</td>\n",
       "      <td>1.000000</td>\n",
       "      <td>0.000000</td>\n",
       "    </tr>\n",
       "    <tr>\n",
       "      <th>max</th>\n",
       "      <td>1.000000</td>\n",
       "      <td>1.000000</td>\n",
       "      <td>1.000000</td>\n",
       "      <td>1.000000</td>\n",
       "      <td>1.000000</td>\n",
       "      <td>1.000000</td>\n",
       "      <td>1.000000</td>\n",
       "      <td>1.000000</td>\n",
       "      <td>1.000000</td>\n",
       "      <td>1.000000</td>\n",
       "      <td>...</td>\n",
       "      <td>1.000000</td>\n",
       "      <td>1.000000</td>\n",
       "      <td>1.000000</td>\n",
       "      <td>1.000000</td>\n",
       "      <td>1.000000</td>\n",
       "      <td>1.000000</td>\n",
       "      <td>1.000000</td>\n",
       "      <td>1.000000</td>\n",
       "      <td>1.000000</td>\n",
       "      <td>1.000000</td>\n",
       "    </tr>\n",
       "  </tbody>\n",
       "</table>\n",
       "<p>8 rows × 118 columns</p>\n",
       "</div>"
      ],
      "text/plain": [
       "                0             1             2             3             4    \\\n",
       "count  17893.000000  17893.000000  17893.000000  17893.000000  17893.000000   \n",
       "mean       0.307327      0.398145      0.173196      0.551724      0.355334   \n",
       "std        0.461399      0.489529      0.378427      0.497331      0.478628   \n",
       "min        0.000000      0.000000      0.000000      0.000000      0.000000   \n",
       "25%        0.000000      0.000000      0.000000      0.000000      0.000000   \n",
       "50%        0.000000      0.000000      0.000000      1.000000      0.000000   \n",
       "75%        1.000000      1.000000      0.000000      1.000000      1.000000   \n",
       "max        1.000000      1.000000      1.000000      1.000000      1.000000   \n",
       "\n",
       "                5             6             7             8             9    \\\n",
       "count  17893.000000  17893.000000  17893.000000  17893.000000  17893.000000   \n",
       "mean       0.069077      0.175208      0.455038      0.267032      0.385626   \n",
       "std        0.253593      0.380156      0.497988      0.442421      0.486756   \n",
       "min        0.000000      0.000000      0.000000      0.000000      0.000000   \n",
       "25%        0.000000      0.000000      0.000000      0.000000      0.000000   \n",
       "50%        0.000000      0.000000      0.000000      0.000000      0.000000   \n",
       "75%        0.000000      0.000000      1.000000      1.000000      1.000000   \n",
       "max        1.000000      1.000000      1.000000      1.000000      1.000000   \n",
       "\n",
       "       ...           108           109           110           111  \\\n",
       "count  ...  17893.000000  17893.000000  17893.000000  17893.000000   \n",
       "mean   ...      0.675124      0.203487      0.306041      0.275136   \n",
       "std    ...      0.468341      0.402603      0.460860      0.446595   \n",
       "min    ...      0.000000      0.000000      0.000000      0.000000   \n",
       "25%    ...      0.000000      0.000000      0.000000      0.000000   \n",
       "50%    ...      1.000000      0.000000      0.000000      0.000000   \n",
       "75%    ...      1.000000      0.000000      1.000000      1.000000   \n",
       "max    ...      1.000000      1.000000      1.000000      1.000000   \n",
       "\n",
       "                112           113           114           115           116  \\\n",
       "count  17893.000000  17893.000000  17893.000000  17893.000000  17893.000000   \n",
       "mean       0.079528      0.109484      0.936064      0.404348      0.437210   \n",
       "std        0.270569      0.312254      0.244645      0.490779      0.496056   \n",
       "min        0.000000      0.000000      0.000000      0.000000      0.000000   \n",
       "25%        0.000000      0.000000      1.000000      0.000000      0.000000   \n",
       "50%        0.000000      0.000000      1.000000      0.000000      0.000000   \n",
       "75%        0.000000      0.000000      1.000000      1.000000      1.000000   \n",
       "max        1.000000      1.000000      1.000000      1.000000      1.000000   \n",
       "\n",
       "                117  \n",
       "count  17893.000000  \n",
       "mean       0.220198  \n",
       "std        0.414392  \n",
       "min        0.000000  \n",
       "25%        0.000000  \n",
       "50%        0.000000  \n",
       "75%        0.000000  \n",
       "max        1.000000  \n",
       "\n",
       "[8 rows x 118 columns]"
      ]
     },
     "execution_count": 96,
     "metadata": {},
     "output_type": "execute_result"
    }
   ],
   "source": [
    "pd.DataFrame(ct.fit_transform(X_train1)).describe()"
   ]
  },
  {
   "cell_type": "code",
   "execution_count": 97,
   "metadata": {
    "ExecuteTime": {
     "end_time": "2022-04-17T00:30:49.786278Z",
     "start_time": "2022-04-17T00:30:49.773088Z"
    }
   },
   "outputs": [],
   "source": [
    "knn = KNeighborsClassifier()\n",
    "knn_model_pipe = Pipeline([('ct', ct), ('knn', knn)]) \n",
    "#Need StandardScaler? No features are numeric"
   ]
  },
  {
   "cell_type": "code",
   "execution_count": 98,
   "metadata": {
    "ExecuteTime": {
     "end_time": "2022-04-17T00:30:53.698147Z",
     "start_time": "2022-04-17T00:30:53.375739Z"
    }
   },
   "outputs": [],
   "source": [
    "knn_model_pipe.fit(X_train1, y_train1);"
   ]
  },
  {
   "cell_type": "code",
   "execution_count": 99,
   "metadata": {
    "ExecuteTime": {
     "end_time": "2022-04-17T00:31:02.259622Z",
     "start_time": "2022-04-17T00:30:54.329216Z"
    }
   },
   "outputs": [],
   "source": [
    "knn_pipe = ModelWithCV(knn_model_pipe, 'knn_pipe', X_train1, y_train1)"
   ]
  },
  {
   "cell_type": "code",
   "execution_count": 100,
   "metadata": {
    "ExecuteTime": {
     "end_time": "2022-04-17T00:31:02.333077Z",
     "start_time": "2022-04-17T00:31:02.260715Z"
    }
   },
   "outputs": [
    {
     "data": {
      "image/png": "[encoded data removed]",
      "text/plain": [
       "<Figure size 432x288 with 1 Axes>"
      ]
     },
     "metadata": {
      "needs_background": "light"
     },
     "output_type": "display_data"
    }
   ],
   "source": [
    "fig, ax = plt.subplots()\n",
    "\n",
    "knn_pipe.plot_cv(ax=ax);"
   ]
  },
  {
   "cell_type": "code",
   "execution_count": 101,
   "metadata": {
    "ExecuteTime": {
     "end_time": "2022-04-17T00:31:02.609363Z",
     "start_time": "2022-04-17T00:31:02.607173Z"
    }
   },
   "outputs": [
    {
     "name": "stdout",
     "output_type": "stream",
     "text": [
      "CV Results for `knn_pipe` model:\n",
      "            0.80976 ± 0.00799 accuracy\n",
      "        \n"
     ]
    }
   ],
   "source": [
    "knn_pipe.print_cv_summary()"
   ]
  },
  {
   "cell_type": "code",
   "execution_count": 102,
   "metadata": {
    "ExecuteTime": {
     "end_time": "2022-04-17T00:31:07.623751Z",
     "start_time": "2022-04-17T00:31:04.103546Z"
    }
   },
   "outputs": [
    {
     "name": "stdout",
     "output_type": "stream",
     "text": [
      "\n",
      "Our final model's accuracy on the test set is 0.81. \n",
      "\n",
      "Our final model's recall on the test set is 0.33 \n",
      "\n",
      "Our final model's precision on the test set is 0.57 \n",
      "\n",
      "Our final model's f1-score on the test is 0.42.\n",
      "\n"
     ]
    }
   ],
   "source": [
    "knn_model_pipe.fit(X_train1, y_train1)\n",
    "y_hat = knn_model_pipe.predict(X_test1)\n",
    "print(f\"\"\"\n",
    "Our final model's accuracy on the test set is {round(accuracy_score(y_test1, y_hat), 2)}. \\n\n",
    "Our final model's recall on the test set is {round(recall_score(y_test1, y_hat), 2)} \\n\n",
    "Our final model's precision on the test set is {round(precision_score(y_test1, y_hat), 2)} \\n\n",
    "Our final model's f1-score on the test is {round(f1_score(y_test1, y_hat), 2)}.\n",
    "\"\"\")"
   ]
  },
  {
   "cell_type": "markdown",
   "metadata": {},
   "source": [
    "#### Random Forest Pipeline"
   ]
  },
  {
   "cell_type": "code",
   "execution_count": 37,
   "metadata": {
    "ExecuteTime": {
     "end_time": "2022-04-16T23:41:33.997991Z",
     "start_time": "2022-04-16T23:41:33.995091Z"
    }
   },
   "outputs": [],
   "source": [
    "# rfc!\n",
    "rfc = RandomForestClassifier(random_state=42)\n",
    "rfc_model_pipe = Pipeline([('ct', ct), ('rfc', rfc)])"
   ]
  },
  {
   "cell_type": "code",
   "execution_count": 38,
   "metadata": {
    "ExecuteTime": {
     "end_time": "2022-04-16T23:41:35.613172Z",
     "start_time": "2022-04-16T23:41:33.999652Z"
    }
   },
   "outputs": [],
   "source": [
    "rfc_model_pipe.fit(X_train1, y_train1);"
   ]
  },
  {
   "cell_type": "code",
   "execution_count": 39,
   "metadata": {
    "ExecuteTime": {
     "end_time": "2022-04-16T23:41:50.033424Z",
     "start_time": "2022-04-16T23:41:35.614148Z"
    }
   },
   "outputs": [],
   "source": [
    "forest_pipe = ModelWithCV(rfc_model_pipe, 'forest_pipe', X_train1, y_train1)"
   ]
  },
  {
   "cell_type": "code",
   "execution_count": 40,
   "metadata": {
    "ExecuteTime": {
     "end_time": "2022-04-16T23:41:50.100828Z",
     "start_time": "2022-04-16T23:41:50.034497Z"
    },
    "scrolled": true
   },
   "outputs": [
    {
     "data": {
      "image/png": "[encoded data removed]",
      "text/plain": [
       "<Figure size 432x288 with 1 Axes>"
      ]
     },
     "metadata": {
      "needs_background": "light"
     },
     "output_type": "display_data"
    }
   ],
   "source": [
    "fig, ax = plt.subplots()\n",
    "\n",
    "forest_pipe.plot_cv(ax=ax);"
   ]
  },
  {
   "cell_type": "code",
   "execution_count": 41,
   "metadata": {
    "ExecuteTime": {
     "end_time": "2022-04-16T23:41:50.104822Z",
     "start_time": "2022-04-16T23:41:50.102227Z"
    },
    "scrolled": true
   },
   "outputs": [
    {
     "name": "stdout",
     "output_type": "stream",
     "text": [
      "CV Results for `forest_pipe` model:\n",
      "            0.83150 ± 0.00718 accuracy\n",
      "        \n"
     ]
    }
   ],
   "source": [
    "forest_pipe.print_cv_summary()"
   ]
  },
  {
   "cell_type": "code",
   "execution_count": 79,
   "metadata": {
    "ExecuteTime": {
     "end_time": "2022-04-17T00:00:43.278828Z",
     "start_time": "2022-04-17T00:00:41.462168Z"
    }
   },
   "outputs": [
    {
     "name": "stdout",
     "output_type": "stream",
     "text": [
      "\n",
      "Our final model's accuracy on the test set is 0.83. \n",
      "\n",
      "Our final model's recall on the test set is 0.35 \n",
      "\n",
      "Our final model's precision on the test set is 0.7 \n",
      "\n",
      "Our final model's f1-score on the test is 0.47.\n",
      "\n"
     ]
    }
   ],
   "source": [
    "rfc_model_pipe.fit(X_train1, y_train1)\n",
    "y_hat = rfc_model_pipe.predict(X_test1)\n",
    "print(f\"\"\"\n",
    "Our final model's accuracy on the test set is {round(accuracy_score(y_test1, y_hat), 2)}. \\n\n",
    "Our final model's recall on the test set is {round(recall_score(y_test1, y_hat), 2)} \\n\n",
    "Our final model's precision on the test set is {round(precision_score(y_test1, y_hat), 2)} \\n\n",
    "Our final model's f1-score on the test is {round(f1_score(y_test1, y_hat), 2)}.\n",
    "\"\"\")"
   ]
  },
  {
   "cell_type": "markdown",
   "metadata": {},
   "source": [
    "#### Gradient Booster"
   ]
  },
  {
   "cell_type": "code",
   "execution_count": 42,
   "metadata": {
    "ExecuteTime": {
     "end_time": "2022-04-16T23:41:50.108157Z",
     "start_time": "2022-04-16T23:41:50.106142Z"
    }
   },
   "outputs": [],
   "source": [
    "# gbc!\n",
    "gbc_model_pipe = Pipeline([('ct', ct), ('gbc', GradientBoostingClassifier(random_state=42))])"
   ]
  },
  {
   "cell_type": "code",
   "execution_count": 43,
   "metadata": {
    "ExecuteTime": {
     "end_time": "2022-04-16T23:42:17.125600Z",
     "start_time": "2022-04-16T23:41:50.109188Z"
    }
   },
   "outputs": [],
   "source": [
    "boost_pipe = ModelWithCV(model=gbc_model_pipe,\n",
    "                         model_name='boost_pipe',\n",
    "                         X=X_train1,\n",
    "                         y=y_train1)"
   ]
  },
  {
   "cell_type": "code",
   "execution_count": 44,
   "metadata": {
    "ExecuteTime": {
     "end_time": "2022-04-16T23:42:17.204026Z",
     "start_time": "2022-04-16T23:42:17.126471Z"
    }
   },
   "outputs": [
    {
     "data": {
      "image/png": "[encoded data removed]",
      "text/plain": [
       "<Figure size 432x288 with 1 Axes>"
      ]
     },
     "metadata": {
      "needs_background": "light"
     },
     "output_type": "display_data"
    }
   ],
   "source": [
    "fig, ax = plt.subplots()\n",
    "\n",
    "boost_pipe.plot_cv(ax=ax);"
   ]
  },
  {
   "cell_type": "code",
   "execution_count": 45,
   "metadata": {
    "ExecuteTime": {
     "end_time": "2022-04-16T23:42:17.207259Z",
     "start_time": "2022-04-16T23:42:17.205219Z"
    }
   },
   "outputs": [
    {
     "name": "stdout",
     "output_type": "stream",
     "text": [
      "CV Results for `boost_pipe` model:\n",
      "            0.83714 ± 0.00564 accuracy\n",
      "        \n"
     ]
    }
   ],
   "source": [
    "boost_pipe.print_cv_summary()"
   ]
  },
  {
   "cell_type": "code",
   "execution_count": 78,
   "metadata": {
    "ExecuteTime": {
     "end_time": "2022-04-17T00:00:19.274751Z",
     "start_time": "2022-04-17T00:00:16.167393Z"
    }
   },
   "outputs": [
    {
     "name": "stdout",
     "output_type": "stream",
     "text": [
      "\n",
      "Our final model's accuracy on the test set is 0.84. \n",
      "\n",
      "Our final model's recall on the test set is 0.41 \n",
      "\n",
      "Our final model's precision on the test set is 0.69 \n",
      "\n",
      "Our final model's f1-score on the test is 0.52.\n",
      "\n"
     ]
    }
   ],
   "source": [
    "gbc_model_pipe.fit(X_train1, y_train1)\n",
    "y_hat = gbc_model_pipe.predict(X_test1)\n",
    "print(f\"\"\"\n",
    "Our final model's accuracy on the test set is {round(accuracy_score(y_test1, y_hat), 2)}. \\n\n",
    "Our final model's recall on the test set is {round(recall_score(y_test1, y_hat), 2)} \\n\n",
    "Our final model's precision on the test set is {round(precision_score(y_test1, y_hat), 2)} \\n\n",
    "Our final model's f1-score on the test is {round(f1_score(y_test1, y_hat), 2)}.\n",
    "\"\"\")"
   ]
  },
  {
   "cell_type": "markdown",
   "metadata": {},
   "source": [
    "#### AdaBoost "
   ]
  },
  {
   "cell_type": "code",
   "execution_count": 56,
   "metadata": {
    "ExecuteTime": {
     "end_time": "2022-04-16T23:47:48.713077Z",
     "start_time": "2022-04-16T23:47:48.703268Z"
    }
   },
   "outputs": [],
   "source": [
    "ada = AdaBoostClassifier()\n",
    "ada_model_pipe = Pipeline([('ct', ct), ('ada', ada)])"
   ]
  },
  {
   "cell_type": "code",
   "execution_count": 57,
   "metadata": {
    "ExecuteTime": {
     "end_time": "2022-04-16T23:48:38.287070Z",
     "start_time": "2022-04-16T23:48:29.114467Z"
    }
   },
   "outputs": [],
   "source": [
    "ada_pipe = ModelWithCV(model=ada_model_pipe,\n",
    "                         model_name='ada_pipe',\n",
    "                         X=X_train1,\n",
    "                         y=y_train1)"
   ]
  },
  {
   "cell_type": "code",
   "execution_count": 60,
   "metadata": {
    "ExecuteTime": {
     "end_time": "2022-04-16T23:49:07.349682Z",
     "start_time": "2022-04-16T23:49:07.255330Z"
    },
    "scrolled": true
   },
   "outputs": [
    {
     "data": {
      "image/png": "[encoded data removed]",
      "text/plain": [
       "<Figure size 432x288 with 1 Axes>"
      ]
     },
     "metadata": {
      "needs_background": "light"
     },
     "output_type": "display_data"
    }
   ],
   "source": [
    "fig, ax = plt.subplots()\n",
    "\n",
    "ada_pipe.plot_cv(ax=ax);"
   ]
  },
  {
   "cell_type": "code",
   "execution_count": 61,
   "metadata": {
    "ExecuteTime": {
     "end_time": "2022-04-16T23:49:11.422453Z",
     "start_time": "2022-04-16T23:49:11.419245Z"
    },
    "scrolled": true
   },
   "outputs": [
    {
     "name": "stdout",
     "output_type": "stream",
     "text": [
      "CV Results for `ada_pipe` model:\n",
      "            0.83351 ± 0.00417 accuracy\n",
      "        \n"
     ]
    }
   ],
   "source": [
    "ada_pipe.print_cv_summary()"
   ]
  },
  {
   "cell_type": "code",
   "execution_count": 77,
   "metadata": {
    "ExecuteTime": {
     "end_time": "2022-04-16T23:59:40.397185Z",
     "start_time": "2022-04-16T23:59:39.252293Z"
    }
   },
   "outputs": [
    {
     "name": "stdout",
     "output_type": "stream",
     "text": [
      "\n",
      "Our final model's accuracy on the test set is 0.84. \n",
      "\n",
      "Our final model's recall on the test set is 0.42 \n",
      "\n",
      "Our final model's precision on the test set is 0.69 \n",
      "\n",
      "Our final model's f1-score on the test is 0.52.\n",
      "\n"
     ]
    }
   ],
   "source": [
    "ada_model_pipe.fit(X_train1, y_train1)\n",
    "y_hat = ada_model_pipe.predict(X_test1)\n",
    "print(f\"\"\"\n",
    "Our final model's accuracy on the test set is {round(accuracy_score(y_test1, y_hat), 2)}. \\n\n",
    "Our final model's recall on the test set is {round(recall_score(y_test1, y_hat), 2)} \\n\n",
    "Our final model's precision on the test set is {round(precision_score(y_test1, y_hat), 2)} \\n\n",
    "Our final model's f1-score on the test is {round(f1_score(y_test1, y_hat), 2)}.\n",
    "\"\"\")"
   ]
  },
  {
   "cell_type": "markdown",
   "metadata": {},
   "source": [
    "#### XGBoost "
   ]
  },
  {
   "cell_type": "code",
   "execution_count": 103,
   "metadata": {
    "ExecuteTime": {
     "end_time": "2022-04-17T00:33:07.724440Z",
     "start_time": "2022-04-17T00:33:07.718185Z"
    }
   },
   "outputs": [],
   "source": [
    "xgb = xgboost.XGBClassifier(random_state=42)\n",
    "xgb_model_pipe = Pipeline([('ct', ct), ('xgb', xgb)])"
   ]
  },
  {
   "cell_type": "code",
   "execution_count": 70,
   "metadata": {
    "ExecuteTime": {
     "end_time": "2022-04-16T23:58:08.035195Z",
     "start_time": "2022-04-16T23:57:46.219052Z"
    }
   },
   "outputs": [],
   "source": [
    "xgb_pipe = ModelWithCV(model=xgb_model_pipe,\n",
    "                         model_name='xgb_pipe',\n",
    "                         X=X_train1,\n",
    "                         y=y_train1)"
   ]
  },
  {
   "cell_type": "code",
   "execution_count": 71,
   "metadata": {
    "ExecuteTime": {
     "end_time": "2022-04-16T23:58:08.102425Z",
     "start_time": "2022-04-16T23:58:08.037331Z"
    }
   },
   "outputs": [
    {
     "data": {
      "image/png": "[encoded data removed]",
      "text/plain": [
       "<Figure size 432x288 with 1 Axes>"
      ]
     },
     "metadata": {
      "needs_background": "light"
     },
     "output_type": "display_data"
    }
   ],
   "source": [
    "fig, ax = plt.subplots()\n",
    "\n",
    "xgb_pipe.plot_cv(ax=ax);"
   ]
  },
  {
   "cell_type": "code",
   "execution_count": 72,
   "metadata": {
    "ExecuteTime": {
     "end_time": "2022-04-16T23:58:08.110163Z",
     "start_time": "2022-04-16T23:58:08.104389Z"
    }
   },
   "outputs": [
    {
     "name": "stdout",
     "output_type": "stream",
     "text": [
      "CV Results for `xgb_pipe` model:\n",
      "            0.83267 ± 0.00876 accuracy\n",
      "        \n"
     ]
    }
   ],
   "source": [
    "xgb_pipe.print_cv_summary()"
   ]
  },
  {
   "cell_type": "code",
   "execution_count": 76,
   "metadata": {
    "ExecuteTime": {
     "end_time": "2022-04-16T23:59:08.329256Z",
     "start_time": "2022-04-16T23:59:05.856783Z"
    }
   },
   "outputs": [
    {
     "name": "stdout",
     "output_type": "stream",
     "text": [
      "\n",
      "Our final model's accuracy on the test set is 0.83. \n",
      "\n",
      "Our final model's recall on the test set is 0.46 \n",
      "\n",
      "Our final model's precision on the test set is 0.66 \n",
      "\n",
      "Our final model's f1-score on the test is 0.54.\n",
      "\n"
     ]
    }
   ],
   "source": [
    "xgb_model_pipe.fit(X_train1, y_train1)\n",
    "y_hat = xgb_model_pipe.predict(X_test1)\n",
    "print(f\"\"\"\n",
    "Our final model's accuracy on the test set is {round(accuracy_score(y_test1, y_hat), 2)}. \\n\n",
    "Our final model's recall on the test set is {round(recall_score(y_test1, y_hat), 2)} \\n\n",
    "Our final model's precision on the test set is {round(precision_score(y_test1, y_hat), 2)} \\n\n",
    "Our final model's f1-score on the test is {round(f1_score(y_test1, y_hat), 2)}.\n",
    "\"\"\")"
   ]
  },
  {
   "cell_type": "markdown",
   "metadata": {},
   "source": [
    "#### Extra Trees Classifier"
   ]
  },
  {
   "cell_type": "code",
   "execution_count": 128,
   "metadata": {
    "ExecuteTime": {
     "end_time": "2022-04-17T00:57:32.924181Z",
     "start_time": "2022-04-17T00:57:32.913908Z"
    }
   },
   "outputs": [],
   "source": [
    "etc = ExtraTreesClassifier(max_features='sqrt', max_samples=.5, bootstrap=True, random_state=42)\n",
    "etc_model_pipe = Pipeline([('ct', ct), ('etc', etc)])"
   ]
  },
  {
   "cell_type": "code",
   "execution_count": 129,
   "metadata": {
    "ExecuteTime": {
     "end_time": "2022-04-17T00:57:46.017837Z",
     "start_time": "2022-04-17T00:57:36.439296Z"
    }
   },
   "outputs": [],
   "source": [
    "etc_pipe = ModelWithCV(model=etc_model_pipe,\n",
    "                         model_name='etc_pipe',\n",
    "                         X=X_train1,\n",
    "                         y=y_train1)"
   ]
  },
  {
   "cell_type": "code",
   "execution_count": 130,
   "metadata": {
    "ExecuteTime": {
     "end_time": "2022-04-17T00:57:46.087178Z",
     "start_time": "2022-04-17T00:57:46.018886Z"
    }
   },
   "outputs": [
    {
     "data": {
      "image/png": "[encoded data removed]",
      "text/plain": [
       "<Figure size 432x288 with 1 Axes>"
      ]
     },
     "metadata": {
      "needs_background": "light"
     },
     "output_type": "display_data"
    }
   ],
   "source": [
    "fig, ax = plt.subplots()\n",
    "\n",
    "etc_pipe.plot_cv(ax=ax);"
   ]
  },
  {
   "cell_type": "code",
   "execution_count": 131,
   "metadata": {
    "ExecuteTime": {
     "end_time": "2022-04-17T00:57:46.091046Z",
     "start_time": "2022-04-17T00:57:46.088895Z"
    }
   },
   "outputs": [
    {
     "name": "stdout",
     "output_type": "stream",
     "text": [
      "CV Results for `etc_pipe` model:\n",
      "            0.83250 ± 0.00691 accuracy\n",
      "        \n"
     ]
    }
   ],
   "source": [
    "etc_pipe.print_cv_summary()"
   ]
  },
  {
   "cell_type": "code",
   "execution_count": 132,
   "metadata": {
    "ExecuteTime": {
     "end_time": "2022-04-17T00:57:47.342036Z",
     "start_time": "2022-04-17T00:57:46.092337Z"
    }
   },
   "outputs": [
    {
     "name": "stdout",
     "output_type": "stream",
     "text": [
      "\n",
      "Our final model's accuracy on the test set is 0.83. \n",
      "\n",
      "Our final model's recall on the test set is 0.33 \n",
      "\n",
      "Our final model's precision on the test set is 0.71 \n",
      "\n",
      "Our final model's f1-score on the test is 0.45.\n",
      "\n"
     ]
    }
   ],
   "source": [
    "etc_model_pipe.fit(X_train1, y_train1)\n",
    "y_hat = etc_model_pipe.predict(X_test1)\n",
    "print(f\"\"\"\n",
    "Our final model's accuracy on the test set is {round(accuracy_score(y_test1, y_hat), 2)}. \\n\n",
    "Our final model's recall on the test set is {round(recall_score(y_test1, y_hat), 2)} \\n\n",
    "Our final model's precision on the test set is {round(precision_score(y_test1, y_hat), 2)} \\n\n",
    "Our final model's f1-score on the test is {round(f1_score(y_test1, y_hat), 2)}.\n",
    "\"\"\")"
   ]
  },
  {
   "cell_type": "code",
   "execution_count": null,
   "metadata": {},
   "outputs": [],
   "source": []
  },
  {
   "cell_type": "markdown",
   "metadata": {},
   "source": [
    "#### Bagging"
   ]
  },
  {
   "cell_type": "code",
   "execution_count": null,
   "metadata": {},
   "outputs": [],
   "source": [
    "bag = BaggingClassifier(n_estimators=100, random_state=42)\n",
    "bag_model_pipe = Pipeline([('ct', ct), ('bag', bag)])"
   ]
  },
  {
   "cell_type": "code",
   "execution_count": null,
   "metadata": {},
   "outputs": [],
   "source": [
    "bag_pipe = ModelWithCV(model=bag_model_pipe,\n",
    "                         model_name='bag_pipe',\n",
    "                         X=X_train1,\n",
    "                         y=y_train1)"
   ]
  },
  {
   "cell_type": "code",
   "execution_count": null,
   "metadata": {},
   "outputs": [],
   "source": [
    "fig, ax = plt.subplots()\n",
    "\n",
    "bag_pipe.plot_cv(ax=ax);"
   ]
  },
  {
   "cell_type": "code",
   "execution_count": null,
   "metadata": {},
   "outputs": [],
   "source": [
    "bag_pipe.print_cv_summary()"
   ]
  },
  {
   "cell_type": "code",
   "execution_count": null,
   "metadata": {},
   "outputs": [],
   "source": [
    "bag_model_pipe.fit(X_train1, y_train1)\n",
    "y_hat = bag_model_pipe.predict(X_test1)\n",
    "print(f\"\"\"\n",
    "Our final model's accuracy on the test set is {round(accuracy_score(y_test1, y_hat), 2)}. \\n\n",
    "Our final model's recall on the test set is {round(recall_score(y_test1, y_hat), 2)} \\n\n",
    "Our final model's precision on the test set is {round(precision_score(y_test1, y_hat), 2)} \\n\n",
    "Our final model's f1-score on the test is {round(f1_score(y_test1, y_hat), 2)}.\n",
    "\"\"\")"
   ]
  },
  {
   "cell_type": "markdown",
   "metadata": {},
   "source": [
    "### Ensembles"
   ]
  },
  {
   "cell_type": "markdown",
   "metadata": {},
   "source": [
    "#### Voting Classifier"
   ]
  },
  {
   "cell_type": "code",
   "execution_count": 106,
   "metadata": {
    "ExecuteTime": {
     "end_time": "2022-04-17T00:37:26.017874Z",
     "start_time": "2022-04-17T00:37:26.012559Z"
    }
   },
   "outputs": [],
   "source": [
    "avg1 = VotingClassifier(estimators=[\n",
    "    ('logreg', LogisticRegression(random_state=42, max_iter=1000)),\n",
    "    ('knn', knn),\n",
    "    ('rfc', rfc)    \n",
    "])\n",
    "avg1_model_pipe = Pipeline([('ct', ct), ('avg1', avg1)])"
   ]
  },
  {
   "cell_type": "code",
   "execution_count": 107,
   "metadata": {
    "ExecuteTime": {
     "end_time": "2022-04-17T00:37:50.372363Z",
     "start_time": "2022-04-17T00:37:26.604463Z"
    }
   },
   "outputs": [],
   "source": [
    "avg1_pipe = ModelWithCV(model=avg1_model_pipe,\n",
    "                         model_name='avg1_pipe',\n",
    "                         X=X_train1,\n",
    "                         y=y_train1)"
   ]
  },
  {
   "cell_type": "code",
   "execution_count": 108,
   "metadata": {
    "ExecuteTime": {
     "end_time": "2022-04-17T00:37:50.441586Z",
     "start_time": "2022-04-17T00:37:50.373718Z"
    }
   },
   "outputs": [
    {
     "data": {
      "image/png": "[encoded data removed]",
      "text/plain": [
       "<Figure size 432x288 with 1 Axes>"
      ]
     },
     "metadata": {
      "needs_background": "light"
     },
     "output_type": "display_data"
    }
   ],
   "source": [
    "fig, ax = plt.subplots()\n",
    "\n",
    "avg1_pipe.plot_cv(ax=ax);"
   ]
  },
  {
   "cell_type": "code",
   "execution_count": 109,
   "metadata": {
    "ExecuteTime": {
     "end_time": "2022-04-17T00:37:50.444839Z",
     "start_time": "2022-04-17T00:37:50.442993Z"
    }
   },
   "outputs": [
    {
     "name": "stdout",
     "output_type": "stream",
     "text": [
      "CV Results for `avg1_pipe` model:\n",
      "            0.83485 ± 0.00693 accuracy\n",
      "        \n"
     ]
    }
   ],
   "source": [
    "avg1_pipe.print_cv_summary()"
   ]
  },
  {
   "cell_type": "code",
   "execution_count": 110,
   "metadata": {
    "ExecuteTime": {
     "end_time": "2022-04-17T00:37:56.587179Z",
     "start_time": "2022-04-17T00:37:50.446329Z"
    }
   },
   "outputs": [
    {
     "name": "stdout",
     "output_type": "stream",
     "text": [
      "\n",
      "Our final model's accuracy on the test set is 0.83. \n",
      "\n",
      "Our final model's recall on the test set is 0.36 \n",
      "\n",
      "Our final model's precision on the test set is 0.7 \n",
      "\n",
      "Our final model's f1-score on the test is 0.48.\n",
      "\n"
     ]
    }
   ],
   "source": [
    "avg1_model_pipe.fit(X_train1, y_train1)\n",
    "y_hat = avg1_model_pipe.predict(X_test1)\n",
    "print(f\"\"\"\n",
    "Our final model's accuracy on the test set is {round(accuracy_score(y_test1, y_hat), 2)}. \\n\n",
    "Our final model's recall on the test set is {round(recall_score(y_test1, y_hat), 2)} \\n\n",
    "Our final model's precision on the test set is {round(precision_score(y_test1, y_hat), 2)} \\n\n",
    "Our final model's f1-score on the test is {round(f1_score(y_test1, y_hat), 2)}.\n",
    "\"\"\")"
   ]
  },
  {
   "cell_type": "code",
   "execution_count": null,
   "metadata": {},
   "outputs": [],
   "source": []
  },
  {
   "cell_type": "code",
   "execution_count": 111,
   "metadata": {
    "ExecuteTime": {
     "end_time": "2022-04-17T00:39:35.921103Z",
     "start_time": "2022-04-17T00:39:35.909960Z"
    }
   },
   "outputs": [],
   "source": [
    "avg2 = VotingClassifier(estimators=[\n",
    "    ('gbc', GradientBoostingClassifier(random_state=42)),\n",
    "    ('ada', ada),\n",
    "    ('xgb', xgb)    \n",
    "])\n",
    "avg2_model_pipe = Pipeline([('ct', ct), ('avg2', avg2)])"
   ]
  },
  {
   "cell_type": "code",
   "execution_count": 112,
   "metadata": {
    "ExecuteTime": {
     "end_time": "2022-04-17T00:40:29.545330Z",
     "start_time": "2022-04-17T00:39:36.888382Z"
    }
   },
   "outputs": [],
   "source": [
    "avg2_pipe = ModelWithCV(model=avg2_model_pipe,\n",
    "                         model_name='avg2_pipe',\n",
    "                         X=X_train1,\n",
    "                         y=y_train1)"
   ]
  },
  {
   "cell_type": "code",
   "execution_count": 113,
   "metadata": {
    "ExecuteTime": {
     "end_time": "2022-04-17T00:40:29.618576Z",
     "start_time": "2022-04-17T00:40:29.546548Z"
    }
   },
   "outputs": [
    {
     "data": {
      "image/png": "[encoded data removed]",
      "text/plain": [
       "<Figure size 432x288 with 1 Axes>"
      ]
     },
     "metadata": {
      "needs_background": "light"
     },
     "output_type": "display_data"
    }
   ],
   "source": [
    "fig, ax = plt.subplots()\n",
    "\n",
    "avg2_pipe.plot_cv(ax=ax);"
   ]
  },
  {
   "cell_type": "code",
   "execution_count": 114,
   "metadata": {
    "ExecuteTime": {
     "end_time": "2022-04-17T00:40:29.623325Z",
     "start_time": "2022-04-17T00:40:29.620692Z"
    }
   },
   "outputs": [
    {
     "name": "stdout",
     "output_type": "stream",
     "text": [
      "CV Results for `avg2_pipe` model:\n",
      "            0.83809 ± 0.00616 accuracy\n",
      "        \n"
     ]
    }
   ],
   "source": [
    "avg2_pipe.print_cv_summary()"
   ]
  },
  {
   "cell_type": "code",
   "execution_count": 115,
   "metadata": {
    "ExecuteTime": {
     "end_time": "2022-04-17T00:40:35.697735Z",
     "start_time": "2022-04-17T00:40:29.624711Z"
    }
   },
   "outputs": [
    {
     "name": "stdout",
     "output_type": "stream",
     "text": [
      "\n",
      "Our final model's accuracy on the test set is 0.84. \n",
      "\n",
      "Our final model's recall on the test set is 0.42 \n",
      "\n",
      "Our final model's precision on the test set is 0.69 \n",
      "\n",
      "Our final model's f1-score on the test is 0.53.\n",
      "\n"
     ]
    }
   ],
   "source": [
    "avg2_model_pipe.fit(X_train1, y_train1)\n",
    "y_hat = avg2_model_pipe.predict(X_test1)\n",
    "print(f\"\"\"\n",
    "Our final model's accuracy on the test set is {round(accuracy_score(y_test1, y_hat), 2)}. \\n\n",
    "Our final model's recall on the test set is {round(recall_score(y_test1, y_hat), 2)} \\n\n",
    "Our final model's precision on the test set is {round(precision_score(y_test1, y_hat), 2)} \\n\n",
    "Our final model's f1-score on the test is {round(f1_score(y_test1, y_hat), 2)}.\n",
    "\"\"\")"
   ]
  },
  {
   "cell_type": "code",
   "execution_count": null,
   "metadata": {},
   "outputs": [],
   "source": []
  },
  {
   "cell_type": "code",
   "execution_count": 118,
   "metadata": {
    "ExecuteTime": {
     "end_time": "2022-04-17T00:43:10.716379Z",
     "start_time": "2022-04-17T00:43:10.709322Z"
    }
   },
   "outputs": [],
   "source": [
    "avg3 = VotingClassifier(estimators=[\n",
    "    ('logreg', LogisticRegression(random_state=42, max_iter=1000)),\n",
    "    ('knn', knn),\n",
    "    ('rfc', rfc),\n",
    "    ('gbc', GradientBoostingClassifier(random_state=42)),\n",
    "    ('ada', ada),\n",
    "    ('xgb', xgb)\n",
    "])\n",
    "avg3_model_pipe = Pipeline([('ct', ct), ('avg3', avg3)])"
   ]
  },
  {
   "cell_type": "code",
   "execution_count": 119,
   "metadata": {
    "ExecuteTime": {
     "end_time": "2022-04-17T00:44:25.298299Z",
     "start_time": "2022-04-17T00:43:11.447279Z"
    }
   },
   "outputs": [],
   "source": [
    "avg3_pipe = ModelWithCV(model=avg3_model_pipe,\n",
    "                         model_name='avg3_pipe',\n",
    "                         X=X_train1,\n",
    "                         y=y_train1)"
   ]
  },
  {
   "cell_type": "code",
   "execution_count": 120,
   "metadata": {
    "ExecuteTime": {
     "end_time": "2022-04-17T00:44:25.367817Z",
     "start_time": "2022-04-17T00:44:25.300051Z"
    }
   },
   "outputs": [
    {
     "data": {
      "image/png": "[encoded data removed]",
      "text/plain": [
       "<Figure size 432x288 with 1 Axes>"
      ]
     },
     "metadata": {
      "needs_background": "light"
     },
     "output_type": "display_data"
    }
   ],
   "source": [
    "fig, ax = plt.subplots()\n",
    "\n",
    "avg3_pipe.plot_cv(ax=ax);"
   ]
  },
  {
   "cell_type": "code",
   "execution_count": 121,
   "metadata": {
    "ExecuteTime": {
     "end_time": "2022-04-17T00:44:25.371230Z",
     "start_time": "2022-04-17T00:44:25.369211Z"
    }
   },
   "outputs": [
    {
     "name": "stdout",
     "output_type": "stream",
     "text": [
      "CV Results for `avg3_pipe` model:\n",
      "            0.83664 ± 0.00624 accuracy\n",
      "        \n"
     ]
    }
   ],
   "source": [
    "avg3_pipe.print_cv_summary()"
   ]
  },
  {
   "cell_type": "code",
   "execution_count": 122,
   "metadata": {
    "ExecuteTime": {
     "end_time": "2022-04-17T00:44:36.433688Z",
     "start_time": "2022-04-17T00:44:25.372514Z"
    }
   },
   "outputs": [
    {
     "name": "stdout",
     "output_type": "stream",
     "text": [
      "\n",
      "Our final model's accuracy on the test set is 0.84. \n",
      "\n",
      "Our final model's recall on the test set is 0.38 \n",
      "\n",
      "Our final model's precision on the test set is 0.73 \n",
      "\n",
      "Our final model's f1-score on the test is 0.5.\n",
      "\n"
     ]
    }
   ],
   "source": [
    "avg3_model_pipe.fit(X_train1, y_train1)\n",
    "y_hat = avg3_model_pipe.predict(X_test1)\n",
    "print(f\"\"\"\n",
    "Our final model's accuracy on the test set is {round(accuracy_score(y_test1, y_hat), 2)}. \\n\n",
    "Our final model's recall on the test set is {round(recall_score(y_test1, y_hat), 2)} \\n\n",
    "Our final model's precision on the test set is {round(precision_score(y_test1, y_hat), 2)} \\n\n",
    "Our final model's f1-score on the test is {round(f1_score(y_test1, y_hat), 2)}.\n",
    "\"\"\")"
   ]
  },
  {
   "cell_type": "markdown",
   "metadata": {},
   "source": [
    "#### Weighted Voting Classifier"
   ]
  },
  {
   "cell_type": "code",
   "execution_count": null,
   "metadata": {},
   "outputs": [],
   "source": []
  },
  {
   "cell_type": "markdown",
   "metadata": {},
   "source": [
    "#### Stacking"
   ]
  },
  {
   "cell_type": "code",
   "execution_count": 133,
   "metadata": {
    "ExecuteTime": {
     "end_time": "2022-04-17T01:03:51.941933Z",
     "start_time": "2022-04-17T01:03:51.927869Z"
    }
   },
   "outputs": [],
   "source": [
    "estimators=[\n",
    "    ('logreg', LogisticRegression(random_state=42, max_iter=1000)),\n",
    "    ('knn', knn),\n",
    "    ('rfc', rfc)    \n",
    "]"
   ]
  },
  {
   "cell_type": "code",
   "execution_count": 140,
   "metadata": {
    "ExecuteTime": {
     "end_time": "2022-04-17T01:05:12.525989Z",
     "start_time": "2022-04-17T01:05:12.518308Z"
    }
   },
   "outputs": [],
   "source": [
    "sr = StackingClassifier(estimators)\n",
    "sr_model_pipe = Pipeline([('ct', ct), ('sr', sr)])"
   ]
  },
  {
   "cell_type": "code",
   "execution_count": 141,
   "metadata": {
    "ExecuteTime": {
     "end_time": "2022-04-17T01:07:16.405269Z",
     "start_time": "2022-04-17T01:05:13.419851Z"
    }
   },
   "outputs": [],
   "source": [
    "sr_pipe = ModelWithCV(model=sr_model_pipe,\n",
    "                         model_name='sr_pipe',\n",
    "                         X=X_train1,\n",
    "                         y=y_train1)"
   ]
  },
  {
   "cell_type": "code",
   "execution_count": 142,
   "metadata": {
    "ExecuteTime": {
     "end_time": "2022-04-17T01:07:16.475188Z",
     "start_time": "2022-04-17T01:07:16.407090Z"
    }
   },
   "outputs": [
    {
     "data": {
      "image/png": "[encoded data removed]",
      "text/plain": [
       "<Figure size 432x288 with 1 Axes>"
      ]
     },
     "metadata": {
      "needs_background": "light"
     },
     "output_type": "display_data"
    }
   ],
   "source": [
    "fig, ax = plt.subplots()\n",
    "\n",
    "sr_pipe.plot_cv(ax=ax);"
   ]
  },
  {
   "cell_type": "code",
   "execution_count": 143,
   "metadata": {
    "ExecuteTime": {
     "end_time": "2022-04-17T01:07:16.479345Z",
     "start_time": "2022-04-17T01:07:16.476963Z"
    }
   },
   "outputs": [
    {
     "name": "stdout",
     "output_type": "stream",
     "text": [
      "CV Results for `sr_pipe` model:\n",
      "            0.83916 ± 0.00553 accuracy\n",
      "        \n"
     ]
    }
   ],
   "source": [
    "sr_pipe.print_cv_summary()"
   ]
  },
  {
   "cell_type": "code",
   "execution_count": 144,
   "metadata": {
    "ExecuteTime": {
     "end_time": "2022-04-17T01:07:33.865129Z",
     "start_time": "2022-04-17T01:07:16.480640Z"
    }
   },
   "outputs": [
    {
     "name": "stdout",
     "output_type": "stream",
     "text": [
      "\n",
      "Our final model's accuracy on the test set is 0.84. \n",
      "\n",
      "Our final model's recall on the test set is 0.42 \n",
      "\n",
      "Our final model's precision on the test set is 0.69 \n",
      "\n",
      "Our final model's f1-score on the test is 0.52.\n",
      "\n"
     ]
    }
   ],
   "source": [
    "sr_model_pipe.fit(X_train1, y_train1)\n",
    "y_hat = sr_model_pipe.predict(X_test1)\n",
    "print(f\"\"\"\n",
    "Our final model's accuracy on the test set is {round(accuracy_score(y_test1, y_hat), 2)}. \\n\n",
    "Our final model's recall on the test set is {round(recall_score(y_test1, y_hat), 2)} \\n\n",
    "Our final model's precision on the test set is {round(precision_score(y_test1, y_hat), 2)} \\n\n",
    "Our final model's f1-score on the test is {round(f1_score(y_test1, y_hat), 2)}.\n",
    "\"\"\")"
   ]
  },
  {
   "cell_type": "markdown",
   "metadata": {},
   "source": [
    "### Tuning and Cross-Validating"
   ]
  },
  {
   "cell_type": "code",
   "execution_count": 46,
   "metadata": {
    "ExecuteTime": {
     "end_time": "2022-04-16T23:42:17.210655Z",
     "start_time": "2022-04-16T23:42:17.208559Z"
    }
   },
   "outputs": [],
   "source": [
    "#Gridsearch\n",
    "params = {}\n",
    "\n",
    "params['rfc__criterion'] = ['gini', 'entropy']\n",
    "params['rfc__min_samples_leaf'] = [1,5,10]"
   ]
  },
  {
   "cell_type": "code",
   "execution_count": 47,
   "metadata": {
    "ExecuteTime": {
     "end_time": "2022-04-16T23:42:17.213444Z",
     "start_time": "2022-04-16T23:42:17.211763Z"
    }
   },
   "outputs": [],
   "source": [
    "gs = GridSearchCV(estimator=rfc_model_pipe, param_grid=params, cv=10)"
   ]
  },
  {
   "cell_type": "code",
   "execution_count": 48,
   "metadata": {
    "ExecuteTime": {
     "end_time": "2022-04-16T23:43:34.215570Z",
     "start_time": "2022-04-16T23:42:17.214518Z"
    }
   },
   "outputs": [],
   "source": [
    "gs.fit(X_train1, y_train1);"
   ]
  },
  {
   "cell_type": "code",
   "execution_count": 49,
   "metadata": {
    "ExecuteTime": {
     "end_time": "2022-04-16T23:43:34.219832Z",
     "start_time": "2022-04-16T23:43:34.216800Z"
    }
   },
   "outputs": [
    {
     "data": {
      "text/plain": [
       "array([0.8314987 , 0.83043743, 0.82943075, 0.83144327, 0.83194613,\n",
       "       0.82937517])"
      ]
     },
     "execution_count": 49,
     "metadata": {},
     "output_type": "execute_result"
    }
   ],
   "source": [
    "gs.cv_results_['mean_test_score']"
   ]
  },
  {
   "cell_type": "code",
   "execution_count": 50,
   "metadata": {
    "ExecuteTime": {
     "end_time": "2022-04-16T23:43:34.222756Z",
     "start_time": "2022-04-16T23:43:34.220775Z"
    }
   },
   "outputs": [
    {
     "data": {
      "text/plain": [
       "{'rfc__criterion': 'entropy', 'rfc__min_samples_leaf': 5}"
      ]
     },
     "execution_count": 50,
     "metadata": {},
     "output_type": "execute_result"
    }
   ],
   "source": [
    "gs.best_params_"
   ]
  },
  {
   "cell_type": "markdown",
   "metadata": {},
   "source": [
    "### Evaluation on Test Set"
   ]
  },
  {
   "cell_type": "code",
   "execution_count": 51,
   "metadata": {
    "ExecuteTime": {
     "end_time": "2022-04-16T23:43:34.224937Z",
     "start_time": "2022-04-16T23:43:34.223598Z"
    }
   },
   "outputs": [],
   "source": [
    "final_model = rfc_model_pipe"
   ]
  },
  {
   "cell_type": "code",
   "execution_count": 52,
   "metadata": {
    "ExecuteTime": {
     "end_time": "2022-04-16T23:43:34.556743Z",
     "start_time": "2022-04-16T23:43:34.225767Z"
    }
   },
   "outputs": [
    {
     "data": {
      "image/png": "[encoded data removed]",
      "text/plain": [
       "<Figure size 432x288 with 2 Axes>"
      ]
     },
     "metadata": {
      "needs_background": "light"
     },
     "output_type": "display_data"
    }
   ],
   "source": [
    "plot_confusion_matrix(final_model, X_test1, y_test1);"
   ]
  },
  {
   "cell_type": "code",
   "execution_count": 53,
   "metadata": {
    "ExecuteTime": {
     "end_time": "2022-04-16T23:43:34.824259Z",
     "start_time": "2022-04-16T23:43:34.557770Z"
    }
   },
   "outputs": [],
   "source": [
    "y_hat = final_model.predict(X_test1)"
   ]
  },
  {
   "cell_type": "code",
   "execution_count": 54,
   "metadata": {
    "ExecuteTime": {
     "end_time": "2022-04-16T23:43:34.834071Z",
     "start_time": "2022-04-16T23:43:34.825398Z"
    }
   },
   "outputs": [
    {
     "name": "stdout",
     "output_type": "stream",
     "text": [
      "\n",
      "Our final model's accuracy on the test set is 0.83. \n",
      "\n",
      "Our final model's recall on the test set is 0.35 \n",
      "\n",
      "Our final model's precision on the test set is 0.7 \n",
      "\n",
      "Our final model's f1-score on the test is 0.47.\n",
      "\n"
     ]
    }
   ],
   "source": [
    "print(f\"\"\"\n",
    "Our final model's accuracy on the test set is {round(accuracy_score(y_test1, y_hat), 2)}. \\n\n",
    "Our final model's recall on the test set is {round(recall_score(y_test1, y_hat), 2)} \\n\n",
    "Our final model's precision on the test set is {round(precision_score(y_test1, y_hat), 2)} \\n\n",
    "Our final model's f1-score on the test is {round(f1_score(y_test1, y_hat), 2)}.\n",
    "\"\"\")"
   ]
  },
  {
   "cell_type": "code",
   "execution_count": null,
   "metadata": {},
   "outputs": [],
   "source": []
  }
 ],
 "metadata": {
  "kernelspec": {
   "display_name": "Python (learn-env)",
   "language": "python",
   "name": "learn-env"
  },
  "language_info": {
   "codemirror_mode": {
    "name": "ipython",
    "version": 3
   },
   "file_extension": ".py",
   "mimetype": "text/x-python",
   "name": "python",
   "nbconvert_exporter": "python",
   "pygments_lexer": "ipython3",
   "version": "3.8.5"
  },
  "toc": {
   "base_numbering": 1,
   "nav_menu": {},
   "number_sections": true,
   "sideBar": true,
   "skip_h1_title": false,
   "title_cell": "Table of Contents",
   "title_sidebar": "Contents",
   "toc_cell": false,
   "toc_position": {},
   "toc_section_display": true,
   "toc_window_display": false
  }
 },
 "nbformat": 4,
 "nbformat_minor": 4
}
