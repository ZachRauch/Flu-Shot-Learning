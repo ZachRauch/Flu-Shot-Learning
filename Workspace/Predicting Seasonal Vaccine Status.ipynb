{
 "cells": [
  {
   "cell_type": "code",
   "execution_count": null,
   "metadata": {},
   "outputs": [],
   "source": []
  },
  {
   "cell_type": "markdown",
   "metadata": {},
   "source": [
    "### Imports"
   ]
  },
  {
   "cell_type": "code",
   "execution_count": 9,
   "metadata": {
    "ExecuteTime": {
     "end_time": "2022-04-20T13:07:11.294828Z",
     "start_time": "2022-04-20T13:07:11.287000Z"
    },
    "scrolled": true
   },
   "outputs": [],
   "source": [
    "import pandas as pd\n",
    "import numpy as np\n",
    "from matplotlib import pyplot as plt\n",
    "import seaborn as sns\n",
    "\n",
    "from sklearn.model_selection import train_test_split,\\\n",
    "    GridSearchCV, cross_val_score\n",
    "from sklearn.dummy import DummyClassifier \n",
    "from sklearn.pipeline import Pipeline\n",
    "from sklearn.preprocessing import StandardScaler, OneHotEncoder,\\\n",
    "    FunctionTransformer, OrdinalEncoder\n",
    "from sklearn.impute import SimpleImputer\n",
    "from sklearn.compose import ColumnTransformer\n",
    "from sklearn.linear_model import LogisticRegression\n",
    "from sklearn.neighbors import KNeighborsClassifier\n",
    "from sklearn.ensemble import RandomForestClassifier,\\\n",
    "    GradientBoostingClassifier, AdaBoostClassifier,\\\n",
    "    BaggingClassifier, ExtraTreesClassifier,\\\n",
    "    VotingClassifier, StackingClassifier\n",
    "from sklearn.metrics import plot_confusion_matrix, recall_score,\\\n",
    "    accuracy_score, precision_score, f1_score, plot_roc_curve\n",
    "\n",
    "import xgboost\n",
    "\n",
    "import pickle\n",
    "\n",
    "from imblearn.pipeline import Pipeline as ImPipeline\n",
    "\n",
    "#https://machinelearningmastery.com/threshold-moving-for-imbalanced-classification/\n",
    "from sklearn.metrics import roc_curve\n",
    "from numpy import sqrt, argmax\n",
    "\n",
    "import model"
   ]
  },
  {
   "cell_type": "code",
   "execution_count": 10,
   "metadata": {
    "ExecuteTime": {
     "end_time": "2022-04-20T13:07:11.779385Z",
     "start_time": "2022-04-20T13:07:11.777206Z"
    }
   },
   "outputs": [],
   "source": [
    "# import warnings\n",
    "# warnings.simplefilter(action='ignore', category=FutureWarning)\n",
    "\n",
    "from warnings import simplefilter\n",
    "from sklearn.exceptions import ConvergenceWarning\n",
    "simplefilter(\"ignore\", category=ConvergenceWarning)"
   ]
  },
  {
   "cell_type": "markdown",
   "metadata": {},
   "source": [
    "The 'import model' line is for a class ModelWithCV. "
   ]
  },
  {
   "cell_type": "code",
   "execution_count": 45,
   "metadata": {
    "ExecuteTime": {
     "end_time": "2022-04-19T16:31:56.280653Z",
     "start_time": "2022-04-19T16:31:56.264616Z"
    },
    "code_folding": [
     0
    ]
   },
   "outputs": [],
   "source": [
    "# class ModelWithCV():\n",
    "#     '''Structure to save the model and more easily see its crossvalidation'''\n",
    "    \n",
    "#     def __init__(self, model, model_name, X, y, cv_now=True):\n",
    "#         self.model = model\n",
    "#         self.name = model_name\n",
    "#         self.X = X\n",
    "#         self.y = y\n",
    "#         # For CV results\n",
    "#         self.cv_results = None\n",
    "#         self.cv_mean = None\n",
    "#         self.cv_median = None\n",
    "#         self.cv_std = None\n",
    "#         #\n",
    "#         if cv_now:\n",
    "#             self.cross_validate()\n",
    "        \n",
    "#     def cross_validate(self, X=None, y=None, kfolds=10):\n",
    "#         '''\n",
    "#         Perform cross-validation and return results.\n",
    "        \n",
    "#         Args: \n",
    "#           X:\n",
    "#             Optional; Training data to perform CV on. Otherwise use X from object\n",
    "#           y:\n",
    "#             Optional; Training data to perform CV on. Otherwise use y from object\n",
    "#           kfolds:\n",
    "#             Optional; Number of folds for CV (default is 10)  \n",
    "#         '''\n",
    "        \n",
    "#         cv_X = X if X else self.X\n",
    "#         cv_y = y if y else self.y\n",
    "\n",
    "#         self.cv_results = cross_val_score(self.model, cv_X, cv_y, cv=kfolds)\n",
    "#         self.cv_mean = np.mean(self.cv_results)\n",
    "#         self.cv_median = np.median(self.cv_results)\n",
    "#         self.cv_std = np.std(self.cv_results)\n",
    "\n",
    "        \n",
    "# #     def print_cv_summary(self):\n",
    "# #         cv_summary = (\n",
    "# #         f'''CV Results for `{self.name}` model:\n",
    "# #             {self.cv_mean:.5f} ± {self.cv_std:.5f} accuracy\n",
    "# #             recall_score: {recall_score(self.y, self.model.predict(self.X))}\n",
    "# #             precision_score: {precision_score(self.y, self.model.predict(self.X))}\n",
    "# #             f1_score: {f1_score(self.y, self.model.predict(self.X))}    \n",
    "# #         ''')\n",
    "# #         print(cv_summary)\n",
    "#     def print_cv_summary(self):\n",
    "#         cv_summary = (\n",
    "#         f'''CV Results for `{self.name}` model:\n",
    "#             {self.cv_mean:.5f} ± {self.cv_std:.5f} accuracy\n",
    "#             recall_score: {cross_val_score(self.model, self.X, self.y, cv=10, scoring='recall').mean()}\n",
    "#             precision_score: {cross_val_score(self.model, self.X, self.y, cv=10, scoring='average_precision').mean()}\n",
    "#             f1_score: {cross_val_score(self.model, self.X, self.y, cv=10, scoring='f1').mean()}    \n",
    "#         ''')\n",
    "#         print(cv_summary)\n",
    "        \n",
    "#     def plot_cv(self, ax):\n",
    "#         '''\n",
    "#         Plot the cross-validation values using the array of results and given \n",
    "#         Axis for plotting.\n",
    "#         '''\n",
    "#         ax.set_title(f'CV Results for `{self.name}` Model')\n",
    "#         # Thinner violinplot with higher bw\n",
    "#         sns.violinplot(y=self.cv_results, ax=ax, bw=.4)\n",
    "#         sns.swarmplot(\n",
    "#                 y=self.cv_results,\n",
    "#                 color='orange',\n",
    "#                 size=10,\n",
    "#                 alpha= 0.8,\n",
    "#                 ax=ax\n",
    "#         )\n",
    "\n",
    "#         return ax"
   ]
  },
  {
   "cell_type": "markdown",
   "metadata": {},
   "source": [
    "### Problem Description"
   ]
  },
  {
   "cell_type": "markdown",
   "metadata": {},
   "source": [
    "The Mayo Clinic has tasked us with predicting how likely individuals are to receive the seasonal flu vaccine. \n",
    "We will concentrate on:\n",
    "- Predicting who will get the seasonal vaccine?\n",
    "- The most significant features in determining whether or not an individual will get vaccinated? \n",
    "- How can we get more people to get vaccinated?"
   ]
  },
  {
   "cell_type": "markdown",
   "metadata": {
    "ExecuteTime": {
     "end_time": "2022-04-19T16:02:53.075735Z",
     "start_time": "2022-04-19T16:02:53.069621Z"
    }
   },
   "source": [
    "### Data"
   ]
  },
  {
   "cell_type": "markdown",
   "metadata": {},
   "source": [
    "The data was provided by DrivenData as a part of their competition. Details about the competition and getting the data can be found https://www.drivendata.org/competitions/66/flu-shot-learning/\n",
    "\n",
    "The data was provided in two separate files, which were combined for cleaning splitting again later. "
   ]
  },
  {
   "cell_type": "code",
   "execution_count": 16,
   "metadata": {
    "ExecuteTime": {
     "end_time": "2022-04-20T13:22:41.787055Z",
     "start_time": "2022-04-20T13:22:41.619901Z"
    }
   },
   "outputs": [],
   "source": [
    "training_set_features = pd.read_csv('../Data/training_set_features.csv')\n",
    "training_set_labels = pd.read_csv('../Data/training_set_labels.csv')\n",
    "complete_data = pd.merge(training_set_features, training_set_labels, on='respondent_id')"
   ]
  },
  {
   "cell_type": "code",
   "execution_count": 17,
   "metadata": {
    "ExecuteTime": {
     "end_time": "2022-04-20T13:23:15.819572Z",
     "start_time": "2022-04-20T13:23:15.779477Z"
    }
   },
   "outputs": [
    {
     "data": {
      "text/plain": [
       "employment_occupation    13470\n",
       "employment_industry      13330\n",
       "health_insurance         12274\n",
       "income_poverty            4423\n",
       "doctor_recc_h1n1          2160\n",
       "doctor_recc_seasonal      2160\n",
       "rent_or_own               2042\n",
       "employment_status         1463\n",
       "marital_status            1408\n",
       "education                 1407\n",
       "dtype: int64"
      ]
     },
     "execution_count": 17,
     "metadata": {},
     "output_type": "execute_result"
    }
   ],
   "source": [
    "complete_data.isna().sum().sort_values(ascending=False).head(10)"
   ]
  },
  {
   "cell_type": "markdown",
   "metadata": {},
   "source": [
    "There are a considerable number of NA values in the dataset.\n",
    "\n",
    "If the employment_status column has a value of Not in Labor Force, then columns employment_industry and employment_occupation will have NA's. \n",
    "\n",
    "Values in columns employment_industry and employment_occupation are represented as short random character strings. \n",
    "\n",
    "We will be filling NA's in employment_occupation and employment_industry associated with \"Not in Labor Force\" with because they would otherwise be imputed as the most frequent occupation or industry.\n",
    "\n",
    "Filling Unemployed with \"Not in Labor Force\"."
   ]
  },
  {
   "cell_type": "code",
   "execution_count": 18,
   "metadata": {
    "ExecuteTime": {
     "end_time": "2022-04-20T13:31:51.084633Z",
     "start_time": "2022-04-20T13:31:51.014703Z"
    }
   },
   "outputs": [],
   "source": [
    "complete_data['employment_status'].replace(\"Unemployed\", \"Not in Labor Force\", inplace=True)\n",
    "complete_data.loc[complete_data['employment_status'] == \"Not in Labor Force\", 'employment_industry'] = \"Not in Labor Force\"\n",
    "complete_data.loc[complete_data['employment_status'] == \"Not in Labor Force\", 'employment_occupation'] = \"Not in Labor Force\""
   ]
  },
  {
   "cell_type": "code",
   "execution_count": 19,
   "metadata": {
    "ExecuteTime": {
     "end_time": "2022-04-20T13:31:57.362809Z",
     "start_time": "2022-04-20T13:31:57.317914Z"
    }
   },
   "outputs": [
    {
     "data": {
      "text/plain": [
       "health_insurance         12274\n",
       "income_poverty            4423\n",
       "doctor_recc_h1n1          2160\n",
       "doctor_recc_seasonal      2160\n",
       "rent_or_own               2042\n",
       "employment_occupation     1786\n",
       "employment_industry       1646\n",
       "employment_status         1463\n",
       "marital_status            1408\n",
       "education                 1407\n",
       "dtype: int64"
      ]
     },
     "execution_count": 19,
     "metadata": {},
     "output_type": "execute_result"
    }
   ],
   "source": [
    "complete_data.isna().sum().sort_values(ascending=False).head(10)"
   ]
  },
  {
   "cell_type": "code",
   "execution_count": 20,
   "metadata": {
    "ExecuteTime": {
     "end_time": "2022-04-20T13:32:56.560366Z",
     "start_time": "2022-04-20T13:32:56.533262Z"
    },
    "scrolled": true
   },
   "outputs": [
    {
     "data": {
      "text/plain": [
       "1.0    12697\n",
       "0.0     1736\n",
       "Name: health_insurance, dtype: int64"
      ]
     },
     "execution_count": 20,
     "metadata": {},
     "output_type": "execute_result"
    }
   ],
   "source": [
    "complete_data['health_insurance'].value_counts()"
   ]
  },
  {
   "cell_type": "markdown",
   "metadata": {},
   "source": [
    "With the substantial number of NA's in Health Insurance we have decided to allow the simple imputer to fill in these NA's with the most frequent value."
   ]
  },
  {
   "cell_type": "markdown",
   "metadata": {},
   "source": [
    "#### Target Distribution"
   ]
  },
  {
   "cell_type": "code",
   "execution_count": 92,
   "metadata": {
    "ExecuteTime": {
     "end_time": "2022-04-20T16:43:38.093134Z",
     "start_time": "2022-04-20T16:43:38.000655Z"
    }
   },
   "outputs": [
    {
     "data": {
      "text/plain": [
       "0    0.534392\n",
       "1    0.465608\n",
       "Name: seasonal_vaccine, dtype: float64"
      ]
     },
     "execution_count": 92,
     "metadata": {},
     "output_type": "execute_result"
    }
   ],
   "source": [
    "complete_data['seasonal_vaccine'].value_counts(normalize=True)"
   ]
  },
  {
   "cell_type": "markdown",
   "metadata": {},
   "source": [
    "<span class=\"mark\">Visualization</span>"
   ]
  },
  {
   "cell_type": "markdown",
   "metadata": {},
   "source": [
    "### Split"
   ]
  },
  {
   "cell_type": "markdown",
   "metadata": {},
   "source": [
    "Here we separated out our target variable 'seasonal_vaccine' and dropped 'respondent_id' and 'h1n1_vaccine'.\n",
    "\n",
    "The 'values.ravel()' method reshapes y_train into a 1-D array."
   ]
  },
  {
   "cell_type": "code",
   "execution_count": 42,
   "metadata": {
    "ExecuteTime": {
     "end_time": "2022-04-20T14:03:52.989151Z",
     "start_time": "2022-04-20T14:03:52.951464Z"
    }
   },
   "outputs": [],
   "source": [
    "X = complete_data.drop(['h1n1_vaccine', 'seasonal_vaccine', 'respondent_id'], axis=1)\n",
    "y = complete_data.filter(['seasonal_vaccine'])\n",
    "X_train, X_test, y_train, y_test = train_test_split(X, y, test_size=0.33, random_state=42)\n",
    "y_train = y_train.values.ravel()"
   ]
  },
  {
   "cell_type": "markdown",
   "metadata": {},
   "source": [
    "### Pipelines for Column Transformer"
   ]
  },
  {
   "cell_type": "markdown",
   "metadata": {},
   "source": [
    "All columns are in a categorical format, however, some are scales and may better be represented as numeric columns.\n",
    "\n",
    "Numeric columns include h1n1_concern, h1n1_knowledge, opinion_h1n1_vacc_effective, opinion_h1n1_risk, opinion_h1n1_sick_from_vacc, opinion_seas_vacc_effective, opinion_seas_risk, and opinion_seas_sick_from_vacc."
   ]
  },
  {
   "cell_type": "code",
   "execution_count": 26,
   "metadata": {
    "ExecuteTime": {
     "end_time": "2022-04-20T13:47:00.835140Z",
     "start_time": "2022-04-20T13:47:00.820929Z"
    }
   },
   "outputs": [],
   "source": [
    "num_cols = ['h1n1_concern', 'h1n1_knowledge', 'opinion_h1n1_vacc_effective',\\\n",
    "            'opinion_h1n1_risk', 'opinion_h1n1_sick_from_vacc',\\\n",
    "            'opinion_seas_vacc_effective', 'opinion_seas_risk', 'opinion_seas_sick_from_vacc']\n",
    "cat_cols = X.columns.drop(num_cols)"
   ]
  },
  {
   "cell_type": "code",
   "execution_count": 27,
   "metadata": {
    "ExecuteTime": {
     "end_time": "2022-04-20T13:47:01.356597Z",
     "start_time": "2022-04-20T13:47:01.286570Z"
    },
    "scrolled": true
   },
   "outputs": [
    {
     "data": {
      "text/html": [
       "<div>\n",
       "<style scoped>\n",
       "    .dataframe tbody tr th:only-of-type {\n",
       "        vertical-align: middle;\n",
       "    }\n",
       "\n",
       "    .dataframe tbody tr th {\n",
       "        vertical-align: top;\n",
       "    }\n",
       "\n",
       "    .dataframe thead th {\n",
       "        text-align: right;\n",
       "    }\n",
       "</style>\n",
       "<table border=\"1\" class=\"dataframe\">\n",
       "  <thead>\n",
       "    <tr style=\"text-align: right;\">\n",
       "      <th></th>\n",
       "      <th>h1n1_concern</th>\n",
       "      <th>h1n1_knowledge</th>\n",
       "      <th>opinion_h1n1_vacc_effective</th>\n",
       "      <th>opinion_h1n1_risk</th>\n",
       "      <th>opinion_h1n1_sick_from_vacc</th>\n",
       "      <th>opinion_seas_vacc_effective</th>\n",
       "      <th>opinion_seas_risk</th>\n",
       "      <th>opinion_seas_sick_from_vacc</th>\n",
       "    </tr>\n",
       "  </thead>\n",
       "  <tbody>\n",
       "    <tr>\n",
       "      <th>count</th>\n",
       "      <td>26615.000000</td>\n",
       "      <td>26591.000000</td>\n",
       "      <td>26316.000000</td>\n",
       "      <td>26319.000000</td>\n",
       "      <td>26312.000000</td>\n",
       "      <td>26245.000000</td>\n",
       "      <td>26193.000000</td>\n",
       "      <td>26170.000000</td>\n",
       "    </tr>\n",
       "    <tr>\n",
       "      <th>mean</th>\n",
       "      <td>1.618486</td>\n",
       "      <td>1.262532</td>\n",
       "      <td>3.850623</td>\n",
       "      <td>2.342566</td>\n",
       "      <td>2.357670</td>\n",
       "      <td>4.025986</td>\n",
       "      <td>2.719162</td>\n",
       "      <td>2.118112</td>\n",
       "    </tr>\n",
       "    <tr>\n",
       "      <th>std</th>\n",
       "      <td>0.910311</td>\n",
       "      <td>0.618149</td>\n",
       "      <td>1.007436</td>\n",
       "      <td>1.285539</td>\n",
       "      <td>1.362766</td>\n",
       "      <td>1.086565</td>\n",
       "      <td>1.385055</td>\n",
       "      <td>1.332950</td>\n",
       "    </tr>\n",
       "    <tr>\n",
       "      <th>min</th>\n",
       "      <td>0.000000</td>\n",
       "      <td>0.000000</td>\n",
       "      <td>1.000000</td>\n",
       "      <td>1.000000</td>\n",
       "      <td>1.000000</td>\n",
       "      <td>1.000000</td>\n",
       "      <td>1.000000</td>\n",
       "      <td>1.000000</td>\n",
       "    </tr>\n",
       "    <tr>\n",
       "      <th>25%</th>\n",
       "      <td>1.000000</td>\n",
       "      <td>1.000000</td>\n",
       "      <td>3.000000</td>\n",
       "      <td>1.000000</td>\n",
       "      <td>1.000000</td>\n",
       "      <td>4.000000</td>\n",
       "      <td>2.000000</td>\n",
       "      <td>1.000000</td>\n",
       "    </tr>\n",
       "    <tr>\n",
       "      <th>50%</th>\n",
       "      <td>2.000000</td>\n",
       "      <td>1.000000</td>\n",
       "      <td>4.000000</td>\n",
       "      <td>2.000000</td>\n",
       "      <td>2.000000</td>\n",
       "      <td>4.000000</td>\n",
       "      <td>2.000000</td>\n",
       "      <td>2.000000</td>\n",
       "    </tr>\n",
       "    <tr>\n",
       "      <th>75%</th>\n",
       "      <td>2.000000</td>\n",
       "      <td>2.000000</td>\n",
       "      <td>5.000000</td>\n",
       "      <td>4.000000</td>\n",
       "      <td>4.000000</td>\n",
       "      <td>5.000000</td>\n",
       "      <td>4.000000</td>\n",
       "      <td>4.000000</td>\n",
       "    </tr>\n",
       "    <tr>\n",
       "      <th>max</th>\n",
       "      <td>3.000000</td>\n",
       "      <td>2.000000</td>\n",
       "      <td>5.000000</td>\n",
       "      <td>5.000000</td>\n",
       "      <td>5.000000</td>\n",
       "      <td>5.000000</td>\n",
       "      <td>5.000000</td>\n",
       "      <td>5.000000</td>\n",
       "    </tr>\n",
       "  </tbody>\n",
       "</table>\n",
       "</div>"
      ],
      "text/plain": [
       "       h1n1_concern  h1n1_knowledge  opinion_h1n1_vacc_effective  \\\n",
       "count  26615.000000    26591.000000                 26316.000000   \n",
       "mean       1.618486        1.262532                     3.850623   \n",
       "std        0.910311        0.618149                     1.007436   \n",
       "min        0.000000        0.000000                     1.000000   \n",
       "25%        1.000000        1.000000                     3.000000   \n",
       "50%        2.000000        1.000000                     4.000000   \n",
       "75%        2.000000        2.000000                     5.000000   \n",
       "max        3.000000        2.000000                     5.000000   \n",
       "\n",
       "       opinion_h1n1_risk  opinion_h1n1_sick_from_vacc  \\\n",
       "count       26319.000000                 26312.000000   \n",
       "mean            2.342566                     2.357670   \n",
       "std             1.285539                     1.362766   \n",
       "min             1.000000                     1.000000   \n",
       "25%             1.000000                     1.000000   \n",
       "50%             2.000000                     2.000000   \n",
       "75%             4.000000                     4.000000   \n",
       "max             5.000000                     5.000000   \n",
       "\n",
       "       opinion_seas_vacc_effective  opinion_seas_risk  \\\n",
       "count                 26245.000000       26193.000000   \n",
       "mean                      4.025986           2.719162   \n",
       "std                       1.086565           1.385055   \n",
       "min                       1.000000           1.000000   \n",
       "25%                       4.000000           2.000000   \n",
       "50%                       4.000000           2.000000   \n",
       "75%                       5.000000           4.000000   \n",
       "max                       5.000000           5.000000   \n",
       "\n",
       "       opinion_seas_sick_from_vacc  \n",
       "count                 26170.000000  \n",
       "mean                      2.118112  \n",
       "std                       1.332950  \n",
       "min                       1.000000  \n",
       "25%                       1.000000  \n",
       "50%                       2.000000  \n",
       "75%                       4.000000  \n",
       "max                       5.000000  "
      ]
     },
     "execution_count": 27,
     "metadata": {},
     "output_type": "execute_result"
    }
   ],
   "source": [
    "X[num_cols].describe()"
   ]
  },
  {
   "cell_type": "code",
   "execution_count": 28,
   "metadata": {
    "ExecuteTime": {
     "end_time": "2022-04-20T13:47:01.880786Z",
     "start_time": "2022-04-20T13:47:01.859289Z"
    }
   },
   "outputs": [
    {
     "data": {
      "text/plain": [
       "h1n1_concern                   2.0\n",
       "h1n1_knowledge                 1.0\n",
       "opinion_h1n1_vacc_effective    4.0\n",
       "opinion_h1n1_risk              2.0\n",
       "opinion_h1n1_sick_from_vacc    2.0\n",
       "opinion_seas_vacc_effective    4.0\n",
       "opinion_seas_risk              2.0\n",
       "opinion_seas_sick_from_vacc    2.0\n",
       "dtype: float64"
      ]
     },
     "execution_count": 28,
     "metadata": {},
     "output_type": "execute_result"
    }
   ],
   "source": [
    "X[num_cols].median()"
   ]
  },
  {
   "cell_type": "markdown",
   "metadata": {},
   "source": [
    "Because there are some missing values in the numeric columns, it is important determine the best measure of central tendency to replace these values. Because the values are scaler in nature we have decided to use the 'median' of each column to fill in these values.  \n",
    "\n",
    "For categorical variables, the most frequent value for each column will be used to fill in the missing values."
   ]
  },
  {
   "cell_type": "code",
   "execution_count": 29,
   "metadata": {
    "ExecuteTime": {
     "end_time": "2022-04-20T13:47:16.326850Z",
     "start_time": "2022-04-20T13:47:16.310734Z"
    }
   },
   "outputs": [],
   "source": [
    "subpipe_cat = Pipeline(steps=[('cat_impute', SimpleImputer(strategy='most_frequent')),\n",
    "                              ('ohe', OneHotEncoder(drop='first', sparse=False, handle_unknown='ignore')) ])\n",
    "\n",
    "subpipe_num = Pipeline(steps=[('num_impute', SimpleImputer(strategy='median')),\n",
    "                              ('ss', StandardScaler()) ])"
   ]
  },
  {
   "cell_type": "code",
   "execution_count": 30,
   "metadata": {
    "ExecuteTime": {
     "end_time": "2022-04-20T13:48:00.570584Z",
     "start_time": "2022-04-20T13:48:00.562467Z"
    }
   },
   "outputs": [],
   "source": [
    "ct = ColumnTransformer(transformers = [\n",
    "    ('subpipe_cat', subpipe_cat, cat_cols),\n",
    "    ('subpipe_num', subpipe_num, num_cols)\n",
    "])"
   ]
  },
  {
   "cell_type": "markdown",
   "metadata": {},
   "source": [
    "### Models"
   ]
  },
  {
   "cell_type": "markdown",
   "metadata": {
    "ExecuteTime": {
     "end_time": "2022-04-20T13:55:25.299557Z",
     "start_time": "2022-04-20T13:55:25.278401Z"
    }
   },
   "source": [
    "Now that our Column Transformer pipeline has been created we can start running models."
   ]
  },
  {
   "cell_type": "markdown",
   "metadata": {},
   "source": [
    "#### Dummy Classifier"
   ]
  },
  {
   "cell_type": "code",
   "execution_count": 32,
   "metadata": {
    "ExecuteTime": {
     "end_time": "2022-04-20T13:55:38.066310Z",
     "start_time": "2022-04-20T13:55:38.058913Z"
    }
   },
   "outputs": [],
   "source": [
    "dummy_model_pipe = Pipeline(steps=[\n",
    "    ('ct', ct),\n",
    "    ('dummy', DummyClassifier(random_state=42))\n",
    "])"
   ]
  },
  {
   "cell_type": "code",
   "execution_count": 34,
   "metadata": {
    "ExecuteTime": {
     "end_time": "2022-04-20T13:56:03.213419Z",
     "start_time": "2022-04-20T13:56:02.913989Z"
    }
   },
   "outputs": [],
   "source": [
    "dummy_model_pipe.fit(X_train, y_train);"
   ]
  },
  {
   "cell_type": "code",
   "execution_count": 36,
   "metadata": {
    "ExecuteTime": {
     "end_time": "2022-04-20T13:56:23.629126Z",
     "start_time": "2022-04-20T13:56:23.439206Z"
    }
   },
   "outputs": [
    {
     "data": {
      "text/plain": [
       "0.5310456603140893"
      ]
     },
     "execution_count": 36,
     "metadata": {},
     "output_type": "execute_result"
    }
   ],
   "source": [
    "dummy_model_pipe.score(X_train, y_train)"
   ]
  },
  {
   "cell_type": "code",
   "execution_count": 37,
   "metadata": {
    "ExecuteTime": {
     "end_time": "2022-04-20T13:59:07.347402Z",
     "start_time": "2022-04-20T13:59:05.151914Z"
    }
   },
   "outputs": [],
   "source": [
    "dummy_pipe = ModelWithCV(dummy_model_pipe, model_name='dummy_pipe', X=X_train, y=y_train) #2s"
   ]
  },
  {
   "cell_type": "code",
   "execution_count": 38,
   "metadata": {
    "ExecuteTime": {
     "end_time": "2022-04-20T13:59:23.466293Z",
     "start_time": "2022-04-20T13:59:17.211199Z"
    }
   },
   "outputs": [
    {
     "name": "stdout",
     "output_type": "stream",
     "text": [
      "CV Results for `dummy_pipe` model:\n",
      "            0.53105 ± 0.00015 accuracy\n",
      "            recall_score: 0.0\n",
      "            precision_score: 0.46895434857961904\n",
      "            f1_score: 0.0    \n",
      "        \n"
     ]
    }
   ],
   "source": [
    "dummy_pipe.print_cv_summary() #6s"
   ]
  },
  {
   "cell_type": "markdown",
   "metadata": {},
   "source": [
    "The 'print_cv_summary' function comes from the ModelWithCV class where the model runs a 10 fold cross validation to return accuracy, recall, precision, and f1 score.\n",
    "\n",
    "Our dummy classifier predicts the most common value for the target value. It's accuracy is at about 53%."
   ]
  },
  {
   "cell_type": "markdown",
   "metadata": {},
   "source": [
    "#### Logistic Regression"
   ]
  },
  {
   "cell_type": "markdown",
   "metadata": {},
   "source": [
    "##### Logistic Regression Simple"
   ]
  },
  {
   "cell_type": "code",
   "execution_count": 39,
   "metadata": {
    "ExecuteTime": {
     "end_time": "2022-04-20T14:02:34.989885Z",
     "start_time": "2022-04-20T14:02:34.977274Z"
    }
   },
   "outputs": [],
   "source": [
    "logreg_model_pipe = Pipeline(steps=[\n",
    "    ('ct', ct),\n",
    "    ('logreg', LogisticRegression(random_state=42))\n",
    "])"
   ]
  },
  {
   "cell_type": "code",
   "execution_count": 43,
   "metadata": {
    "ExecuteTime": {
     "end_time": "2022-04-20T14:05:19.126265Z",
     "start_time": "2022-04-20T14:05:18.590402Z"
    }
   },
   "outputs": [],
   "source": [
    "logreg_model_pipe.fit(X_train, y_train);"
   ]
  },
  {
   "cell_type": "code",
   "execution_count": 44,
   "metadata": {
    "ExecuteTime": {
     "end_time": "2022-04-20T14:08:06.964298Z",
     "start_time": "2022-04-20T14:08:02.466498Z"
    }
   },
   "outputs": [],
   "source": [
    "log_pipe = ModelWithCV(logreg_model_pipe, model_name='log_pipe', X=X_train, y=y_train) #5s"
   ]
  },
  {
   "cell_type": "code",
   "execution_count": 45,
   "metadata": {
    "ExecuteTime": {
     "end_time": "2022-04-20T14:08:27.042069Z",
     "start_time": "2022-04-20T14:08:13.906073Z"
    }
   },
   "outputs": [
    {
     "name": "stdout",
     "output_type": "stream",
     "text": [
      "CV Results for `log_pipe` model:\n",
      "            0.77712 ± 0.01194 accuracy\n",
      "            recall_score: 0.7466334638742267\n",
      "            precision_score: 0.8286277195010922\n",
      "            f1_score: 0.7585979704181883    \n",
      "        \n"
     ]
    }
   ],
   "source": [
    "log_pipe.print_cv_summary() #13s"
   ]
  },
  {
   "cell_type": "markdown",
   "metadata": {},
   "source": [
    "Our simple logistic regression model outperforms our dummy by a considerable amount. "
   ]
  },
  {
   "cell_type": "markdown",
   "metadata": {},
   "source": [
    "##### Logistic Regression Tuned"
   ]
  },
  {
   "cell_type": "markdown",
   "metadata": {},
   "source": [
    "Below are the results of our Logistic Regression with the  best performing parameters max_iter=5, solver='liblinear', and C=.3. These parameters were determined using a Grid Search which was done in a separate notebook because it is computationally expensive."
   ]
  },
  {
   "cell_type": "code",
   "execution_count": 15,
   "metadata": {
    "ExecuteTime": {
     "end_time": "2022-04-20T13:20:43.045181Z",
     "start_time": "2022-04-20T13:20:43.011005Z"
    },
    "scrolled": true
   },
   "outputs": [
    {
     "name": "stdout",
     "output_type": "stream",
     "text": [
      "<__main__.ModelWithCV object at 0x7fc3d150c2e0>\n"
     ]
    }
   ],
   "source": [
    "import pickle\n",
    "with open('tuned_logreg.sav', 'rb') as f:\n",
    "    tlog = pickle.load(f)\n",
    "tlog"
   ]
  },
  {
   "cell_type": "code",
   "execution_count": 53,
   "metadata": {
    "ExecuteTime": {
     "end_time": "2022-04-20T14:11:40.684696Z",
     "start_time": "2022-04-20T14:11:32.051286Z"
    }
   },
   "outputs": [
    {
     "name": "stdout",
     "output_type": "stream",
     "text": [
      "CV Results for `tlog_pipe` model:\n",
      "            0.77751 ± 0.01195 accuracy\n",
      "            recall_score: 0.7461571315057609\n",
      "            precision_score: 0.8288517338281706\n",
      "            f1_score: 0.7587960505203576    \n",
      "        \n"
     ]
    }
   ],
   "source": [
    "tlog.print_cv_summary() #9s"
   ]
  },
  {
   "cell_type": "markdown",
   "metadata": {},
   "source": [
    "Because the tuning of Logistic regression didn't seem to improve our model we have repeated the process with other basic classifiers to be used in our model.  "
   ]
  },
  {
   "cell_type": "markdown",
   "metadata": {},
   "source": [
    "#### KNeighborsClassifier"
   ]
  },
  {
   "cell_type": "markdown",
   "metadata": {},
   "source": [
    "##### KNeighborsClassifier  Simple"
   ]
  },
  {
   "cell_type": "code",
   "execution_count": 63,
   "metadata": {
    "ExecuteTime": {
     "end_time": "2022-04-20T14:27:05.100497Z",
     "start_time": "2022-04-20T14:27:05.056199Z"
    }
   },
   "outputs": [
    {
     "ename": "TypeError",
     "evalue": "__init__() got an unexpected keyword argument 'random_state'",
     "output_type": "error",
     "traceback": [
      "\u001b[0;31m---------------------------------------------------------------------------\u001b[0m",
      "\u001b[0;31mTypeError\u001b[0m                                 Traceback (most recent call last)",
      "\u001b[0;32m<ipython-input-63-2e20aac8414d>\u001b[0m in \u001b[0;36m<module>\u001b[0;34m\u001b[0m\n\u001b[0;32m----> 1\u001b[0;31m \u001b[0mknn_model_pipe\u001b[0m \u001b[0;34m=\u001b[0m \u001b[0mPipeline\u001b[0m\u001b[0;34m(\u001b[0m\u001b[0;34m[\u001b[0m\u001b[0;34m(\u001b[0m\u001b[0;34m'ct'\u001b[0m\u001b[0;34m,\u001b[0m \u001b[0mct\u001b[0m\u001b[0;34m)\u001b[0m\u001b[0;34m,\u001b[0m \u001b[0;34m(\u001b[0m\u001b[0;34m'knn'\u001b[0m\u001b[0;34m,\u001b[0m \u001b[0mKNeighborsClassifier\u001b[0m\u001b[0;34m(\u001b[0m\u001b[0mrandom_state\u001b[0m\u001b[0;34m=\u001b[0m\u001b[0;36m42\u001b[0m\u001b[0;34m)\u001b[0m\u001b[0;34m)\u001b[0m\u001b[0;34m]\u001b[0m\u001b[0;34m)\u001b[0m\u001b[0;34m\u001b[0m\u001b[0;34m\u001b[0m\u001b[0m\n\u001b[0m",
      "\u001b[0;31mTypeError\u001b[0m: __init__() got an unexpected keyword argument 'random_state'"
     ]
    }
   ],
   "source": [
    "knn_model_pipe = Pipeline([('ct', ct), ('knn', KNeighborsClassifier())]) "
   ]
  },
  {
   "cell_type": "code",
   "execution_count": 58,
   "metadata": {
    "ExecuteTime": {
     "end_time": "2022-04-20T14:19:41.715177Z",
     "start_time": "2022-04-20T14:19:34.280249Z"
    }
   },
   "outputs": [],
   "source": [
    "knn_pipe = ModelWithCV(knn_model_pipe, 'knn_pipe', X_train, y_train) #8s"
   ]
  },
  {
   "cell_type": "code",
   "execution_count": 59,
   "metadata": {
    "ExecuteTime": {
     "end_time": "2022-04-20T14:20:06.002694Z",
     "start_time": "2022-04-20T14:19:44.542585Z"
    }
   },
   "outputs": [
    {
     "name": "stdout",
     "output_type": "stream",
     "text": [
      "CV Results for `knn_pipe` model:\n",
      "            0.72230 ± 0.01073 accuracy\n",
      "            recall_score: 0.7126701288381861\n",
      "            precision_score: 0.7137761625386754\n",
      "            f1_score: 0.7065149188240983    \n",
      "        \n"
     ]
    }
   ],
   "source": [
    "knn_pipe.print_cv_summary() #22s"
   ]
  },
  {
   "cell_type": "markdown",
   "metadata": {},
   "source": [
    "##### KNeighborsClassifier  Tuned"
   ]
  },
  {
   "cell_type": "markdown",
   "metadata": {},
   "source": [
    "Our Grid Search determined the optimal parameters for KNeighborsClassifier was metric= 'manhattan' and n_neighbors= 200."
   ]
  },
  {
   "cell_type": "code",
   "execution_count": 60,
   "metadata": {
    "ExecuteTime": {
     "end_time": "2022-04-20T14:21:19.656524Z",
     "start_time": "2022-04-20T14:21:19.624775Z"
    }
   },
   "outputs": [
    {
     "data": {
      "text/plain": [
       "<__main__.ModelWithCV at 0x7fc3d4095520>"
      ]
     },
     "execution_count": 60,
     "metadata": {},
     "output_type": "execute_result"
    }
   ],
   "source": [
    "import pickle\n",
    "with open('tuned_knn.sav', 'rb') as f:\n",
    "    tknn = pickle.load(f)\n",
    "tknn"
   ]
  },
  {
   "cell_type": "code",
   "execution_count": 62,
   "metadata": {
    "ExecuteTime": {
     "end_time": "2022-04-20T14:24:42.753046Z",
     "start_time": "2022-04-20T14:23:33.620778Z"
    }
   },
   "outputs": [
    {
     "name": "stdout",
     "output_type": "stream",
     "text": [
      "CV Results for `tknn_pipe` model:\n",
      "            0.76086 ± 0.01106 accuracy\n",
      "            recall_score: 0.7558094954310688\n",
      "            precision_score: 0.8099638161731366\n",
      "            f1_score: 0.7478056299135101    \n",
      "        \n"
     ]
    }
   ],
   "source": [
    "tknn.print_cv_summary() #1m 9s"
   ]
  },
  {
   "cell_type": "markdown",
   "metadata": {},
   "source": [
    "Our KNeighborsClassifier was improved through tuning, however, it isn't out performing our Logistic Regression model."
   ]
  },
  {
   "cell_type": "markdown",
   "metadata": {},
   "source": [
    "#### Random Forest"
   ]
  },
  {
   "cell_type": "code",
   "execution_count": 64,
   "metadata": {
    "ExecuteTime": {
     "end_time": "2022-04-20T14:27:28.951500Z",
     "start_time": "2022-04-20T14:27:28.945658Z"
    }
   },
   "outputs": [],
   "source": [
    "rfc_model_pipe = Pipeline([('ct', ct), ('rfc', RandomForestClassifier(random_state=42))])"
   ]
  },
  {
   "cell_type": "code",
   "execution_count": 65,
   "metadata": {
    "ExecuteTime": {
     "end_time": "2022-04-20T14:27:44.013559Z",
     "start_time": "2022-04-20T14:27:29.225827Z"
    }
   },
   "outputs": [],
   "source": [
    "forest_pipe = ModelWithCV(rfc_model_pipe, 'forest_pipe', X_train, y_train) #14s"
   ]
  },
  {
   "cell_type": "code",
   "execution_count": 66,
   "metadata": {
    "ExecuteTime": {
     "end_time": "2022-04-20T14:28:27.734478Z",
     "start_time": "2022-04-20T14:27:44.015207Z"
    },
    "scrolled": true
   },
   "outputs": [
    {
     "name": "stdout",
     "output_type": "stream",
     "text": [
      "CV Results for `forest_pipe` model:\n",
      "            0.76974 ± 0.00926 accuracy\n",
      "            recall_score: 0.7372197627561156\n",
      "            precision_score: 0.8197726242046623\n",
      "            f1_score: 0.7501871236786735    \n",
      "        \n"
     ]
    }
   ],
   "source": [
    "forest_pipe.print_cv_summary() #44s"
   ]
  },
  {
   "cell_type": "markdown",
   "metadata": {},
   "source": [
    "##### Random Forest  Tuned"
   ]
  },
  {
   "cell_type": "markdown",
   "metadata": {},
   "source": [
    "Our Grid Search determined the optimal parameters for Random Forest was max_features= 'sqrt' and n_estimators= 1000."
   ]
  },
  {
   "cell_type": "code",
   "execution_count": 67,
   "metadata": {
    "ExecuteTime": {
     "end_time": "2022-04-20T14:28:27.748744Z",
     "start_time": "2022-04-20T14:28:27.736140Z"
    },
    "scrolled": true
   },
   "outputs": [
    {
     "data": {
      "text/plain": [
       "<__main__.ModelWithCV at 0x7fc3a2129b50>"
      ]
     },
     "execution_count": 67,
     "metadata": {},
     "output_type": "execute_result"
    }
   ],
   "source": [
    "import pickle\n",
    "with open('tuned_forest.sav', 'rb') as f:\n",
    "    tforest = pickle.load(f)\n",
    "tforest"
   ]
  },
  {
   "cell_type": "code",
   "execution_count": 69,
   "metadata": {
    "ExecuteTime": {
     "end_time": "2022-04-20T14:35:07.228430Z",
     "start_time": "2022-04-20T14:28:33.614335Z"
    }
   },
   "outputs": [
    {
     "name": "stdout",
     "output_type": "stream",
     "text": [
      "CV Results for `tforest_pipe` model:\n",
      "            0.77690 ± 0.01071 accuracy\n",
      "            recall_score: 0.746873829388728\n",
      "            precision_score: 0.826845960879244\n",
      "            f1_score: 0.7584544515878079    \n",
      "        \n"
     ]
    }
   ],
   "source": [
    "tforest.print_cv_summary() #6m 34s"
   ]
  },
  {
   "cell_type": "markdown",
   "metadata": {},
   "source": [
    "#### Gradient Booster"
   ]
  },
  {
   "cell_type": "code",
   "execution_count": 70,
   "metadata": {
    "ExecuteTime": {
     "end_time": "2022-04-20T14:35:41.041862Z",
     "start_time": "2022-04-20T14:35:41.031755Z"
    }
   },
   "outputs": [],
   "source": [
    "gbc_model_pipe = Pipeline([('ct', ct), ('gbc', GradientBoostingClassifier(random_state=42))])"
   ]
  },
  {
   "cell_type": "code",
   "execution_count": 71,
   "metadata": {
    "ExecuteTime": {
     "end_time": "2022-04-20T14:36:05.383869Z",
     "start_time": "2022-04-20T14:35:41.236447Z"
    }
   },
   "outputs": [],
   "source": [
    "boost_pipe = ModelWithCV(model=gbc_model_pipe,\n",
    "                         model_name='boost_pipe',\n",
    "                         X=X_train,\n",
    "                         y=y_train) #24s"
   ]
  },
  {
   "cell_type": "code",
   "execution_count": 72,
   "metadata": {
    "ExecuteTime": {
     "end_time": "2022-04-20T14:37:18.238697Z",
     "start_time": "2022-04-20T14:36:05.385233Z"
    }
   },
   "outputs": [
    {
     "name": "stdout",
     "output_type": "stream",
     "text": [
      "CV Results for `boost_pipe` model:\n",
      "            0.78008 ± 0.01134 accuracy\n",
      "            recall_score: 0.750687468074238\n",
      "            precision_score: 0.8334631002183975\n",
      "            f1_score: 0.7620078356718321    \n",
      "        \n"
     ]
    }
   ],
   "source": [
    "boost_pipe.print_cv_summary() #1m 13s"
   ]
  },
  {
   "cell_type": "markdown",
   "metadata": {},
   "source": [
    "#####  Gradient Booster Tuned"
   ]
  },
  {
   "cell_type": "markdown",
   "metadata": {},
   "source": [
    "Our Grid Search determined the optimal parameters for Gradient Booster was learning_rate = 0.05 and n_estimators = 350."
   ]
  },
  {
   "cell_type": "code",
   "execution_count": 73,
   "metadata": {
    "ExecuteTime": {
     "end_time": "2022-04-20T14:37:18.252704Z",
     "start_time": "2022-04-20T14:37:18.240344Z"
    }
   },
   "outputs": [
    {
     "data": {
      "text/plain": [
       "<__main__.ModelWithCV at 0x7fc3a1804b80>"
      ]
     },
     "execution_count": 73,
     "metadata": {},
     "output_type": "execute_result"
    }
   ],
   "source": [
    "import pickle\n",
    "with open('tuned_gboost.sav', 'rb') as f:\n",
    "    tgboost = pickle.load(f)\n",
    "tgboost"
   ]
  },
  {
   "cell_type": "code",
   "execution_count": 74,
   "metadata": {
    "ExecuteTime": {
     "end_time": "2022-04-20T14:41:16.445230Z",
     "start_time": "2022-04-20T14:37:18.253857Z"
    }
   },
   "outputs": [
    {
     "name": "stdout",
     "output_type": "stream",
     "text": [
      "CV Results for `tgbc_pipe` model:\n",
      "            0.78148 ± 0.01160 accuracy\n",
      "            recall_score: 0.7530704069470457\n",
      "            precision_score: 0.8352472411012861\n",
      "            f1_score: 0.7637401536031916    \n",
      "        \n"
     ]
    }
   ],
   "source": [
    "tgboost.print_cv_summary() #4m"
   ]
  },
  {
   "cell_type": "markdown",
   "metadata": {},
   "source": [
    "#### AdaBoost"
   ]
  },
  {
   "cell_type": "code",
   "execution_count": 75,
   "metadata": {
    "ExecuteTime": {
     "end_time": "2022-04-20T14:41:16.449309Z",
     "start_time": "2022-04-20T14:41:16.446928Z"
    }
   },
   "outputs": [],
   "source": [
    "ada_model_pipe = Pipeline([('ct', ct), ('ada', AdaBoostClassifier(random_state=42))])"
   ]
  },
  {
   "cell_type": "code",
   "execution_count": 76,
   "metadata": {
    "ExecuteTime": {
     "end_time": "2022-04-20T14:41:24.512451Z",
     "start_time": "2022-04-20T14:41:16.450835Z"
    }
   },
   "outputs": [],
   "source": [
    "ada_pipe = ModelWithCV(model=ada_model_pipe,\n",
    "                         model_name='ada_pipe',\n",
    "                         X=X_train,\n",
    "                         y=y_train) #8s"
   ]
  },
  {
   "cell_type": "code",
   "execution_count": 77,
   "metadata": {
    "ExecuteTime": {
     "end_time": "2022-04-20T14:41:48.816366Z",
     "start_time": "2022-04-20T14:41:24.513362Z"
    }
   },
   "outputs": [
    {
     "name": "stdout",
     "output_type": "stream",
     "text": [
      "CV Results for `ada_pipe` model:\n",
      "            0.77723 ± 0.01395 accuracy\n",
      "            recall_score: 0.7368603496225666\n",
      "            precision_score: 0.8289267340215444\n",
      "            f1_score: 0.7562475848416511    \n",
      "        \n"
     ]
    }
   ],
   "source": [
    "ada_pipe.print_cv_summary() #24s"
   ]
  },
  {
   "cell_type": "markdown",
   "metadata": {},
   "source": [
    "<span class=\"burk\">#####  AdaBoost Tuned</span>"
   ]
  },
  {
   "cell_type": "markdown",
   "metadata": {},
   "source": [
    "Our Grid Search determined the optimal parameters for Gradient Booster was learning_rate = 0.75 and n_estimators = 350."
   ]
  },
  {
   "cell_type": "code",
   "execution_count": 78,
   "metadata": {
    "ExecuteTime": {
     "end_time": "2022-04-20T14:41:48.830892Z",
     "start_time": "2022-04-20T14:41:48.818723Z"
    }
   },
   "outputs": [
    {
     "data": {
      "text/plain": [
       "<__main__.ModelWithCV at 0x7fc3a2131d30>"
      ]
     },
     "execution_count": 78,
     "metadata": {},
     "output_type": "execute_result"
    }
   ],
   "source": [
    "import pickle\n",
    "with open('tuned_ada.sav', 'rb') as f:\n",
    "    tada = pickle.load(f)\n",
    "tada"
   ]
  },
  {
   "cell_type": "code",
   "execution_count": 79,
   "metadata": {
    "ExecuteTime": {
     "end_time": "2022-04-20T14:43:57.902412Z",
     "start_time": "2022-04-20T14:41:48.833142Z"
    }
   },
   "outputs": [
    {
     "name": "stdout",
     "output_type": "stream",
     "text": [
      "CV Results for `tada_pipe` model:\n",
      "            0.77885 ± 0.01053 accuracy\n",
      "            recall_score: 0.7388874226687099\n",
      "            precision_score: 0.8309265092892696\n",
      "            f1_score: 0.7580985739455735    \n",
      "        \n"
     ]
    }
   ],
   "source": [
    "tada.print_cv_summary() #2m 10s"
   ]
  },
  {
   "cell_type": "markdown",
   "metadata": {},
   "source": [
    "#### XGBoost"
   ]
  },
  {
   "cell_type": "code",
   "execution_count": 80,
   "metadata": {
    "ExecuteTime": {
     "end_time": "2022-04-20T15:06:25.986699Z",
     "start_time": "2022-04-20T15:06:25.964097Z"
    }
   },
   "outputs": [],
   "source": [
    "xgb_model_pipe = Pipeline([('ct', ct), ('xgb', xgboost.XGBClassifier(random_state=42, n_jobs=-1))])"
   ]
  },
  {
   "cell_type": "code",
   "execution_count": 81,
   "metadata": {
    "ExecuteTime": {
     "end_time": "2022-04-20T15:07:34.873617Z",
     "start_time": "2022-04-20T15:06:26.136022Z"
    }
   },
   "outputs": [],
   "source": [
    "xgb_pipe = ModelWithCV(model=xgb_model_pipe,\n",
    "                         model_name='xgb_pipe',\n",
    "                         X=X_train,\n",
    "                         y=y_train) #1m 9s"
   ]
  },
  {
   "cell_type": "code",
   "execution_count": 82,
   "metadata": {
    "ExecuteTime": {
     "end_time": "2022-04-20T15:11:01.282333Z",
     "start_time": "2022-04-20T15:07:34.875205Z"
    }
   },
   "outputs": [
    {
     "name": "stdout",
     "output_type": "stream",
     "text": [
      "CV Results for `xgb_pipe` model:\n",
      "            0.77058 ± 0.01081 accuracy\n",
      "            recall_score: 0.7469921675463989\n",
      "            precision_score: 0.8215447795616466\n",
      "            f1_score: 0.7533516795955586    \n",
      "        \n"
     ]
    }
   ],
   "source": [
    "xgb_pipe.print_cv_summary() #3m 30s"
   ]
  },
  {
   "cell_type": "markdown",
   "metadata": {},
   "source": [
    "#####  XGBoost Tuned"
   ]
  },
  {
   "cell_type": "markdown",
   "metadata": {
    "ExecuteTime": {
     "end_time": "2022-04-20T15:15:58.237509Z",
     "start_time": "2022-04-20T15:15:58.222971Z"
    }
   },
   "source": [
    "Our Grid Search determined the optimal parameters for Gradient Booster was learning_rate = 0.05 and n_estimators = 150."
   ]
  },
  {
   "cell_type": "code",
   "execution_count": 84,
   "metadata": {
    "ExecuteTime": {
     "end_time": "2022-04-20T15:52:37.712344Z",
     "start_time": "2022-04-20T15:52:37.655426Z"
    }
   },
   "outputs": [
    {
     "data": {
      "text/plain": [
       "<__main__.ModelWithCV at 0x7fc3807ba640>"
      ]
     },
     "execution_count": 84,
     "metadata": {},
     "output_type": "execute_result"
    }
   ],
   "source": [
    "import pickle\n",
    "with open('tuned_xgb.sav', 'rb') as f:\n",
    "    txboost = pickle.load(f)\n",
    "txboost"
   ]
  },
  {
   "cell_type": "code",
   "execution_count": 85,
   "metadata": {
    "ExecuteTime": {
     "end_time": "2022-04-20T16:08:21.742356Z",
     "start_time": "2022-04-20T15:52:38.506924Z"
    }
   },
   "outputs": [
    {
     "name": "stdout",
     "output_type": "stream",
     "text": [
      "CV Results for `txgb_pipe` model:\n",
      "            0.78059 ± 0.01259 accuracy\n",
      "            recall_score: 0.7530699812702195\n",
      "            precision_score: 0.8342093756891588\n",
      "            f1_score: 0.763022810754403    \n",
      "        \n"
     ]
    }
   ],
   "source": [
    "txboost.print_cv_summary() #16m"
   ]
  },
  {
   "cell_type": "markdown",
   "metadata": {},
   "source": [
    "#### Extra Trees Classifier"
   ]
  },
  {
   "cell_type": "code",
   "execution_count": 86,
   "metadata": {
    "ExecuteTime": {
     "end_time": "2022-04-20T16:08:21.751463Z",
     "start_time": "2022-04-20T16:08:21.743967Z"
    }
   },
   "outputs": [],
   "source": [
    "etc = ExtraTreesClassifier(max_features='sqrt', max_samples=.5, bootstrap=True, random_state=42)\n",
    "etc_model_pipe = Pipeline([('ct', ct), ('etc', etc)])"
   ]
  },
  {
   "cell_type": "code",
   "execution_count": 87,
   "metadata": {
    "ExecuteTime": {
     "end_time": "2022-04-20T16:08:31.502857Z",
     "start_time": "2022-04-20T16:08:21.753383Z"
    }
   },
   "outputs": [],
   "source": [
    "etc_pipe = ModelWithCV(model=etc_model_pipe,\n",
    "                         model_name='etc_pipe',\n",
    "                         X=X_train,\n",
    "                         y=y_train) #10s"
   ]
  },
  {
   "cell_type": "code",
   "execution_count": 88,
   "metadata": {
    "ExecuteTime": {
     "end_time": "2022-04-20T16:09:00.269834Z",
     "start_time": "2022-04-20T16:08:31.504046Z"
    }
   },
   "outputs": [
    {
     "name": "stdout",
     "output_type": "stream",
     "text": [
      "CV Results for `etc_pipe` model:\n",
      "            0.77047 ± 0.01051 accuracy\n",
      "            recall_score: 0.7311413814631933\n",
      "            precision_score: 0.81660908330488\n",
      "            f1_score: 0.7492093931985719    \n",
      "        \n"
     ]
    }
   ],
   "source": [
    "etc_pipe.print_cv_summary() #29s"
   ]
  },
  {
   "cell_type": "markdown",
   "metadata": {},
   "source": [
    "#####  Extra Trees Tuned"
   ]
  },
  {
   "cell_type": "markdown",
   "metadata": {},
   "source": [
    "Our Grid Search determined the optimal parameters for Gradient Booster was max_depth = 50 and n_estimators = 500."
   ]
  },
  {
   "cell_type": "code",
   "execution_count": 89,
   "metadata": {
    "ExecuteTime": {
     "end_time": "2022-04-20T16:09:00.354860Z",
     "start_time": "2022-04-20T16:09:00.271202Z"
    }
   },
   "outputs": [
    {
     "data": {
      "text/plain": [
       "<__main__.ModelWithCV at 0x7fc3d4097400>"
      ]
     },
     "execution_count": 89,
     "metadata": {},
     "output_type": "execute_result"
    }
   ],
   "source": [
    "import pickle\n",
    "with open('tuned_etc.sav', 'rb') as f:\n",
    "    tetc = pickle.load(f)\n",
    "tetc"
   ]
  },
  {
   "cell_type": "code",
   "execution_count": 90,
   "metadata": {
    "ExecuteTime": {
     "end_time": "2022-04-20T16:11:01.410342Z",
     "start_time": "2022-04-20T16:09:00.357123Z"
    }
   },
   "outputs": [
    {
     "name": "stdout",
     "output_type": "stream",
     "text": [
      "CV Results for `tetc_pipe` model:\n",
      "            0.77489 ± 0.00958 accuracy\n",
      "            recall_score: 0.7441316192746468\n",
      "            precision_score: 0.823900961528032\n",
      "            f1_score: 0.7561029997599423    \n",
      "        \n"
     ]
    }
   ],
   "source": [
    "tetc.print_cv_summary()"
   ]
  },
  {
   "cell_type": "markdown",
   "metadata": {},
   "source": [
    "### Best Estimators"
   ]
  },
  {
   "cell_type": "code",
   "execution_count": null,
   "metadata": {},
   "outputs": [],
   "source": [
    ".best_estimator_"
   ]
  },
  {
   "cell_type": "code",
   "execution_count": null,
   "metadata": {},
   "outputs": [],
   "source": [
    ".best_estimator_"
   ]
  },
  {
   "cell_type": "code",
   "execution_count": 101,
   "metadata": {
    "ExecuteTime": {
     "end_time": "2022-04-20T17:26:00.142276Z",
     "start_time": "2022-04-20T17:26:00.076610Z"
    }
   },
   "outputs": [
    {
     "ename": "AttributeError",
     "evalue": "'ModelWithCV' object has no attribute 'best_estimator_'",
     "output_type": "error",
     "traceback": [
      "\u001b[0;31m---------------------------------------------------------------------------\u001b[0m",
      "\u001b[0;31mAttributeError\u001b[0m                            Traceback (most recent call last)",
      "\u001b[0;32m<ipython-input-101-5753c629924c>\u001b[0m in \u001b[0;36m<module>\u001b[0;34m\u001b[0m\n\u001b[0;32m----> 1\u001b[0;31m \u001b[0mtetc\u001b[0m\u001b[0;34m.\u001b[0m\u001b[0mbest_estimator_\u001b[0m\u001b[0;34m\u001b[0m\u001b[0;34m\u001b[0m\u001b[0m\n\u001b[0m",
      "\u001b[0;31mAttributeError\u001b[0m: 'ModelWithCV' object has no attribute 'best_estimator_'"
     ]
    }
   ],
   "source": [
    ".best_estimator_"
   ]
  },
  {
   "cell_type": "code",
   "execution_count": 93,
   "metadata": {
    "ExecuteTime": {
     "end_time": "2022-04-20T17:20:29.638622Z",
     "start_time": "2022-04-20T17:20:29.621292Z"
    }
   },
   "outputs": [],
   "source": [
    "best_est = ['opinion_seas_vacc_effective', 'opinion_seas_risk', 'opinion_seas_sick_from_vacc']"
   ]
  },
  {
   "cell_type": "code",
   "execution_count": 131,
   "metadata": {
    "ExecuteTime": {
     "end_time": "2022-04-20T19:03:30.794972Z",
     "start_time": "2022-04-20T19:03:30.791317Z"
    }
   },
   "outputs": [],
   "source": [
    "best_est2 = ['opinion_seas_vacc_effective', 'opinion_seas_risk', 'opinion_seas_sick_from_vacc',\\\n",
    "            'h1n1_concern', 'h1n1_knowledge', 'opinion_h1n1_vacc_effective', 'opinion_h1n1_risk',\\\n",
    "            'opinion_h1n1_sick_from_vacc']"
   ]
  },
  {
   "cell_type": "code",
   "execution_count": 133,
   "metadata": {
    "ExecuteTime": {
     "end_time": "2022-04-20T19:03:37.036556Z",
     "start_time": "2022-04-20T19:03:36.999466Z"
    }
   },
   "outputs": [
    {
     "data": {
      "text/plain": [
       "seasonal_vaccine               1.000000\n",
       "opinion_seas_vacc_effective    0.361875\n",
       "opinion_seas_risk              0.390106\n",
       "opinion_seas_sick_from_vacc   -0.061510\n",
       "h1n1_concern                   0.154828\n",
       "h1n1_knowledge                 0.120152\n",
       "opinion_h1n1_vacc_effective    0.205072\n",
       "opinion_h1n1_risk              0.216625\n",
       "opinion_h1n1_sick_from_vacc    0.027404\n",
       "Name: seasonal_vaccine, dtype: float64"
      ]
     },
     "execution_count": 133,
     "metadata": {},
     "output_type": "execute_result"
    }
   ],
   "source": [
    "complete_data[['seasonal_vaccine'] + best_est2].corr()['seasonal_vaccine']"
   ]
  },
  {
   "cell_type": "markdown",
   "metadata": {},
   "source": [
    "<span class=\"mark\">Visualization.</span>"
   ]
  },
  {
   "cell_type": "markdown",
   "metadata": {},
   "source": [
    "### Ensembles"
   ]
  },
  {
   "cell_type": "code",
   "execution_count": 108,
   "metadata": {
    "ExecuteTime": {
     "end_time": "2022-04-20T18:42:39.521009Z",
     "start_time": "2022-04-20T18:42:39.406716Z"
    }
   },
   "outputs": [
    {
     "data": {
      "text/plain": [
       "<__main__.ModelWithCV at 0x7fc3d14c3fa0>"
      ]
     },
     "execution_count": 108,
     "metadata": {},
     "output_type": "execute_result"
    }
   ],
   "source": [
    "with open('avg1_model.sav', 'rb') as f:\n",
    "    avg1_model = pickle.load(f)\n",
    "avg1_model"
   ]
  },
  {
   "cell_type": "code",
   "execution_count": 121,
   "metadata": {
    "ExecuteTime": {
     "end_time": "2022-04-20T18:59:00.655655Z",
     "start_time": "2022-04-20T18:58:09.926011Z"
    },
    "scrolled": true
   },
   "outputs": [
    {
     "data": {
      "text/plain": [
       "<sklearn.metrics._plot.roc_curve.RocCurveDisplay at 0x7fc3800e21c0>"
      ]
     },
     "execution_count": 121,
     "metadata": {},
     "output_type": "execute_result"
    },
    {
     "data": {
      "image/png": "[encoded data removed]",
      "text/plain": [
       "<Figure size 432x288 with 1 Axes>"
      ]
     },
     "metadata": {
      "needs_background": "light"
     },
     "output_type": "display_data"
    }
   ],
   "source": [
    "plot_roc_curve(avg1_model.model.fit(X_train, y_train), X_train, y_train);"
   ]
  },
  {
   "cell_type": "code",
   "execution_count": null,
   "metadata": {},
   "outputs": [],
   "source": []
  },
  {
   "cell_type": "code",
   "execution_count": 138,
   "metadata": {
    "ExecuteTime": {
     "end_time": "2022-04-20T20:48:23.046685Z",
     "start_time": "2022-04-20T20:48:23.025513Z"
    }
   },
   "outputs": [],
   "source": [
    "with open('avg2_model.sav', 'rb') as f:\n",
    "    avg2_model = pickle.load(f)\n",
    "avg2_model"
   ]
  },
  {
   "cell_type": "code",
   "execution_count": 139,
   "metadata": {
    "ExecuteTime": {
     "end_time": "2022-04-20T20:48:25.759980Z",
     "start_time": "2022-04-20T20:48:25.689502Z"
    }
   },
   "outputs": [
    {
     "ename": "ValueError",
     "evalue": "Expected 'estimator' to be a binary classifier, but got NoneType",
     "output_type": "error",
     "traceback": [
      "\u001b[0;31m---------------------------------------------------------------------------\u001b[0m",
      "\u001b[0;31mValueError\u001b[0m                                Traceback (most recent call last)",
      "\u001b[0;32m<ipython-input-139-0ed8fc29ed08>\u001b[0m in \u001b[0;36m<module>\u001b[0;34m\u001b[0m\n\u001b[0;32m----> 1\u001b[0;31m \u001b[0mplot_roc_curve\u001b[0m\u001b[0;34m(\u001b[0m\u001b[0mavg2_model\u001b[0m\u001b[0;34m,\u001b[0m \u001b[0mX_train\u001b[0m\u001b[0;34m,\u001b[0m \u001b[0my_train\u001b[0m\u001b[0;34m)\u001b[0m\u001b[0;34m;\u001b[0m\u001b[0;34m\u001b[0m\u001b[0;34m\u001b[0m\u001b[0m\n\u001b[0m",
      "\u001b[0;32m~/opt/anaconda3/envs/learn-env/lib/python3.8/site-packages/sklearn/utils/deprecation.py\u001b[0m in \u001b[0;36mwrapped\u001b[0;34m(*args, **kwargs)\u001b[0m\n\u001b[1;32m     86\u001b[0m         \u001b[0;32mdef\u001b[0m \u001b[0mwrapped\u001b[0m\u001b[0;34m(\u001b[0m\u001b[0;34m*\u001b[0m\u001b[0margs\u001b[0m\u001b[0;34m,\u001b[0m \u001b[0;34m**\u001b[0m\u001b[0mkwargs\u001b[0m\u001b[0;34m)\u001b[0m\u001b[0;34m:\u001b[0m\u001b[0;34m\u001b[0m\u001b[0;34m\u001b[0m\u001b[0m\n\u001b[1;32m     87\u001b[0m             \u001b[0mwarnings\u001b[0m\u001b[0;34m.\u001b[0m\u001b[0mwarn\u001b[0m\u001b[0;34m(\u001b[0m\u001b[0mmsg\u001b[0m\u001b[0;34m,\u001b[0m \u001b[0mcategory\u001b[0m\u001b[0;34m=\u001b[0m\u001b[0mFutureWarning\u001b[0m\u001b[0;34m)\u001b[0m\u001b[0;34m\u001b[0m\u001b[0;34m\u001b[0m\u001b[0m\n\u001b[0;32m---> 88\u001b[0;31m             \u001b[0;32mreturn\u001b[0m \u001b[0mfun\u001b[0m\u001b[0;34m(\u001b[0m\u001b[0;34m*\u001b[0m\u001b[0margs\u001b[0m\u001b[0;34m,\u001b[0m \u001b[0;34m**\u001b[0m\u001b[0mkwargs\u001b[0m\u001b[0;34m)\u001b[0m\u001b[0;34m\u001b[0m\u001b[0;34m\u001b[0m\u001b[0m\n\u001b[0m\u001b[1;32m     89\u001b[0m \u001b[0;34m\u001b[0m\u001b[0m\n\u001b[1;32m     90\u001b[0m         \u001b[0mwrapped\u001b[0m\u001b[0;34m.\u001b[0m\u001b[0m__doc__\u001b[0m \u001b[0;34m=\u001b[0m \u001b[0mself\u001b[0m\u001b[0;34m.\u001b[0m\u001b[0m_update_doc\u001b[0m\u001b[0;34m(\u001b[0m\u001b[0mwrapped\u001b[0m\u001b[0;34m.\u001b[0m\u001b[0m__doc__\u001b[0m\u001b[0;34m)\u001b[0m\u001b[0;34m\u001b[0m\u001b[0;34m\u001b[0m\u001b[0m\n",
      "\u001b[0;32m~/opt/anaconda3/envs/learn-env/lib/python3.8/site-packages/sklearn/metrics/_plot/roc_curve.py\u001b[0m in \u001b[0;36mplot_roc_curve\u001b[0;34m(estimator, X, y, sample_weight, drop_intermediate, response_method, name, ax, pos_label, **kwargs)\u001b[0m\n\u001b[1;32m    449\u001b[0m     \u001b[0mcheck_matplotlib_support\u001b[0m\u001b[0;34m(\u001b[0m\u001b[0;34m\"plot_roc_curve\"\u001b[0m\u001b[0;34m)\u001b[0m\u001b[0;34m\u001b[0m\u001b[0;34m\u001b[0m\u001b[0m\n\u001b[1;32m    450\u001b[0m \u001b[0;34m\u001b[0m\u001b[0m\n\u001b[0;32m--> 451\u001b[0;31m     y_pred, pos_label = _get_response(\n\u001b[0m\u001b[1;32m    452\u001b[0m         \u001b[0mX\u001b[0m\u001b[0;34m,\u001b[0m \u001b[0mestimator\u001b[0m\u001b[0;34m,\u001b[0m \u001b[0mresponse_method\u001b[0m\u001b[0;34m,\u001b[0m \u001b[0mpos_label\u001b[0m\u001b[0;34m=\u001b[0m\u001b[0mpos_label\u001b[0m\u001b[0;34m\u001b[0m\u001b[0;34m\u001b[0m\u001b[0m\n\u001b[1;32m    453\u001b[0m     )\n",
      "\u001b[0;32m~/opt/anaconda3/envs/learn-env/lib/python3.8/site-packages/sklearn/metrics/_plot/base.py\u001b[0m in \u001b[0;36m_get_response\u001b[0;34m(X, estimator, response_method, pos_label)\u001b[0m\n\u001b[1;32m     87\u001b[0m \u001b[0;34m\u001b[0m\u001b[0m\n\u001b[1;32m     88\u001b[0m     \u001b[0;32mif\u001b[0m \u001b[0;32mnot\u001b[0m \u001b[0mis_classifier\u001b[0m\u001b[0;34m(\u001b[0m\u001b[0mestimator\u001b[0m\u001b[0;34m)\u001b[0m\u001b[0;34m:\u001b[0m\u001b[0;34m\u001b[0m\u001b[0;34m\u001b[0m\u001b[0m\n\u001b[0;32m---> 89\u001b[0;31m         \u001b[0;32mraise\u001b[0m \u001b[0mValueError\u001b[0m\u001b[0;34m(\u001b[0m\u001b[0mclassification_error\u001b[0m\u001b[0;34m)\u001b[0m\u001b[0;34m\u001b[0m\u001b[0;34m\u001b[0m\u001b[0m\n\u001b[0m\u001b[1;32m     90\u001b[0m \u001b[0;34m\u001b[0m\u001b[0m\n\u001b[1;32m     91\u001b[0m     \u001b[0mprediction_method\u001b[0m \u001b[0;34m=\u001b[0m \u001b[0m_check_classifier_response_method\u001b[0m\u001b[0;34m(\u001b[0m\u001b[0mestimator\u001b[0m\u001b[0;34m,\u001b[0m \u001b[0mresponse_method\u001b[0m\u001b[0;34m)\u001b[0m\u001b[0;34m\u001b[0m\u001b[0;34m\u001b[0m\u001b[0m\n",
      "\u001b[0;31mValueError\u001b[0m: Expected 'estimator' to be a binary classifier, but got NoneType"
     ]
    }
   ],
   "source": [
    "plot_roc_curve(avg2_model.model.fit(X_train, y_train), X_train, y_train);"
   ]
  },
  {
   "cell_type": "markdown",
   "metadata": {},
   "source": [
    "### Final Model"
   ]
  },
  {
   "cell_type": "code",
   "execution_count": null,
   "metadata": {},
   "outputs": [],
   "source": []
  },
  {
   "cell_type": "markdown",
   "metadata": {
    "ExecuteTime": {
     "end_time": "2022-04-20T17:23:08.172239Z",
     "start_time": "2022-04-20T17:23:08.158364Z"
    }
   },
   "source": [
    "<span class=\"mark\">Visualization.</span>"
   ]
  },
  {
   "cell_type": "markdown",
   "metadata": {},
   "source": [
    "### Next Steps"
   ]
  },
  {
   "cell_type": "markdown",
   "metadata": {},
   "source": [
    "With more time we could run and tune more models. More and better models could improve our models performance."
   ]
  },
  {
   "cell_type": "code",
   "execution_count": null,
   "metadata": {},
   "outputs": [],
   "source": []
  }
 ],
 "metadata": {
  "kernelspec": {
   "display_name": "Python (learn-env)",
   "language": "python",
   "name": "learn-env"
  },
  "language_info": {
   "codemirror_mode": {
    "name": "ipython",
    "version": 3
   },
   "file_extension": ".py",
   "mimetype": "text/x-python",
   "name": "python",
   "nbconvert_exporter": "python",
   "pygments_lexer": "ipython3",
   "version": "3.8.5"
  },
  "toc": {
   "base_numbering": 1,
   "nav_menu": {},
   "number_sections": true,
   "sideBar": true,
   "skip_h1_title": false,
   "title_cell": "Table of Contents",
   "title_sidebar": "Contents",
   "toc_cell": false,
   "toc_position": {},
   "toc_section_display": true,
   "toc_window_display": false
  }
 },
 "nbformat": 4,
 "nbformat_minor": 4
}
