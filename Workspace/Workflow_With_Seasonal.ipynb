{
 "cells": [
  {
   "cell_type": "markdown",
   "metadata": {},
   "source": [
    "### Imports"
   ]
  },
  {
   "cell_type": "code",
   "execution_count": 1,
   "metadata": {
    "ExecuteTime": {
     "end_time": "2022-04-19T21:41:38.133170Z",
     "start_time": "2022-04-19T21:41:36.974615Z"
    }
   },
   "outputs": [],
   "source": [
    "import pandas as pd\n",
    "import numpy as np\n",
    "from matplotlib import pyplot as plt\n",
    "import seaborn as sns\n",
    "\n",
    "from sklearn.model_selection import train_test_split,\\\n",
    "    GridSearchCV, cross_val_score\n",
    "from sklearn.dummy import DummyClassifier \n",
    "from sklearn.pipeline import Pipeline\n",
    "from sklearn.preprocessing import StandardScaler, OneHotEncoder,\\\n",
    "    FunctionTransformer, OrdinalEncoder\n",
    "from sklearn.impute import SimpleImputer\n",
    "from sklearn.compose import ColumnTransformer\n",
    "from sklearn.linear_model import LogisticRegression\n",
    "from sklearn.neighbors import KNeighborsClassifier\n",
    "from sklearn.ensemble import RandomForestClassifier,\\\n",
    "    GradientBoostingClassifier, AdaBoostClassifier,\\\n",
    "    BaggingClassifier, ExtraTreesClassifier,\\\n",
    "    VotingClassifier, StackingClassifier\n",
    "from sklearn.metrics import plot_confusion_matrix, recall_score,\\\n",
    "    accuracy_score, precision_score, f1_score\n",
    "\n",
    "import xgboost\n",
    "\n",
    "import pickle\n",
    "\n",
    "from imblearn.over_sampling import SMOTE\n",
    "from imblearn.pipeline import Pipeline as ImPipeline\n",
    "\n",
    "#https://machinelearningmastery.com/threshold-moving-for-imbalanced-classification/\n",
    "from sklearn.metrics import roc_curve\n",
    "from numpy import sqrt, argmax"
   ]
  },
  {
   "cell_type": "code",
   "execution_count": 2,
   "metadata": {
    "ExecuteTime": {
     "end_time": "2022-04-19T21:41:38.136484Z",
     "start_time": "2022-04-19T21:41:38.134230Z"
    }
   },
   "outputs": [],
   "source": [
    "import warnings\n",
    "warnings.simplefilter(action='ignore', category=FutureWarning)\n",
    "\n",
    "from warnings import simplefilter\n",
    "from sklearn.exceptions import ConvergenceWarning\n",
    "simplefilter(\"ignore\", category=ConvergenceWarning)"
   ]
  },
  {
   "cell_type": "markdown",
   "metadata": {},
   "source": [
    "### Problem Description"
   ]
  },
  {
   "cell_type": "markdown",
   "metadata": {},
   "source": [
    "My goal is to predict how likely individuals are to receive their H1N1 and seasonal flu vaccines. Specifically, I'll be predicting two probabilities: one for h1n1_vaccine and one for seasonal_vaccine."
   ]
  },
  {
   "cell_type": "markdown",
   "metadata": {},
   "source": [
    "#### Business Problem "
   ]
  },
  {
   "cell_type": "markdown",
   "metadata": {},
   "source": [
    "Mayo Clinic: \n",
    "\n",
    "Can we predict who will get the seasonal vaccine?\n",
    "\n",
    "What are the most significant features in determining whether or not an individual will get vaccinated? \n",
    "\n",
    "How can we get more people to get vaccinated?"
   ]
  },
  {
   "cell_type": "markdown",
   "metadata": {},
   "source": [
    "### Data"
   ]
  },
  {
   "cell_type": "code",
   "execution_count": 3,
   "metadata": {
    "ExecuteTime": {
     "end_time": "2022-04-19T21:41:40.178716Z",
     "start_time": "2022-04-19T21:41:40.137480Z"
    }
   },
   "outputs": [
    {
     "name": "stdout",
     "output_type": "stream",
     "text": [
      "<class 'pandas.core.frame.DataFrame'>\n",
      "RangeIndex: 26708 entries, 0 to 26707\n",
      "Data columns (total 3 columns):\n",
      " #   Column            Non-Null Count  Dtype  \n",
      "---  ------            --------------  -----  \n",
      " 0   respondent_id     26708 non-null  int64  \n",
      " 1   h1n1_vaccine      26708 non-null  float64\n",
      " 2   seasonal_vaccine  26708 non-null  float64\n",
      "dtypes: float64(2), int64(1)\n",
      "memory usage: 626.1 KB\n"
     ]
    }
   ],
   "source": [
    "submission_format = pd.read_csv('../Data/submission_format.csv')\n",
    "submission_format.info()"
   ]
  },
  {
   "cell_type": "markdown",
   "metadata": {},
   "source": [
    "The submission_format.csv is an example of how my submission should be submitted."
   ]
  },
  {
   "cell_type": "code",
   "execution_count": 4,
   "metadata": {
    "ExecuteTime": {
     "end_time": "2022-04-19T21:41:41.156057Z",
     "start_time": "2022-04-19T21:41:41.034540Z"
    }
   },
   "outputs": [
    {
     "name": "stdout",
     "output_type": "stream",
     "text": [
      "<class 'pandas.core.frame.DataFrame'>\n",
      "RangeIndex: 26708 entries, 0 to 26707\n",
      "Data columns (total 36 columns):\n",
      " #   Column                       Non-Null Count  Dtype  \n",
      "---  ------                       --------------  -----  \n",
      " 0   respondent_id                26708 non-null  int64  \n",
      " 1   h1n1_concern                 26623 non-null  float64\n",
      " 2   h1n1_knowledge               26586 non-null  float64\n",
      " 3   behavioral_antiviral_meds    26629 non-null  float64\n",
      " 4   behavioral_avoidance         26495 non-null  float64\n",
      " 5   behavioral_face_mask         26689 non-null  float64\n",
      " 6   behavioral_wash_hands        26668 non-null  float64\n",
      " 7   behavioral_large_gatherings  26636 non-null  float64\n",
      " 8   behavioral_outside_home      26626 non-null  float64\n",
      " 9   behavioral_touch_face        26580 non-null  float64\n",
      " 10  doctor_recc_h1n1             24548 non-null  float64\n",
      " 11  doctor_recc_seasonal         24548 non-null  float64\n",
      " 12  chronic_med_condition        25776 non-null  float64\n",
      " 13  child_under_6_months         25895 non-null  float64\n",
      " 14  health_worker                25919 non-null  float64\n",
      " 15  health_insurance             14480 non-null  float64\n",
      " 16  opinion_h1n1_vacc_effective  26310 non-null  float64\n",
      " 17  opinion_h1n1_risk            26328 non-null  float64\n",
      " 18  opinion_h1n1_sick_from_vacc  26333 non-null  float64\n",
      " 19  opinion_seas_vacc_effective  26256 non-null  float64\n",
      " 20  opinion_seas_risk            26209 non-null  float64\n",
      " 21  opinion_seas_sick_from_vacc  26187 non-null  float64\n",
      " 22  age_group                    26708 non-null  object \n",
      " 23  education                    25301 non-null  object \n",
      " 24  race                         26708 non-null  object \n",
      " 25  sex                          26708 non-null  object \n",
      " 26  income_poverty               22211 non-null  object \n",
      " 27  marital_status               25266 non-null  object \n",
      " 28  rent_or_own                  24672 non-null  object \n",
      " 29  employment_status            25237 non-null  object \n",
      " 30  hhs_geo_region               26708 non-null  object \n",
      " 31  census_msa                   26708 non-null  object \n",
      " 32  household_adults             26483 non-null  float64\n",
      " 33  household_children           26483 non-null  float64\n",
      " 34  employment_industry          13433 non-null  object \n",
      " 35  employment_occupation        13282 non-null  object \n",
      "dtypes: float64(23), int64(1), object(12)\n",
      "memory usage: 7.3+ MB\n"
     ]
    }
   ],
   "source": [
    "test_set_features = pd.read_csv('../Data/test_set_features.csv')\n",
    "test_set_features.info()"
   ]
  },
  {
   "cell_type": "markdown",
   "metadata": {},
   "source": [
    "The test_set_features.csv will be used to run my model and produce a predictive csv in the format of submission_format. "
   ]
  },
  {
   "cell_type": "code",
   "execution_count": 5,
   "metadata": {
    "ExecuteTime": {
     "end_time": "2022-04-19T21:41:41.831847Z",
     "start_time": "2022-04-19T21:41:41.709673Z"
    }
   },
   "outputs": [
    {
     "name": "stdout",
     "output_type": "stream",
     "text": [
      "<class 'pandas.core.frame.DataFrame'>\n",
      "RangeIndex: 26707 entries, 0 to 26706\n",
      "Data columns (total 36 columns):\n",
      " #   Column                       Non-Null Count  Dtype  \n",
      "---  ------                       --------------  -----  \n",
      " 0   respondent_id                26707 non-null  int64  \n",
      " 1   h1n1_concern                 26615 non-null  float64\n",
      " 2   h1n1_knowledge               26591 non-null  float64\n",
      " 3   behavioral_antiviral_meds    26636 non-null  float64\n",
      " 4   behavioral_avoidance         26499 non-null  float64\n",
      " 5   behavioral_face_mask         26688 non-null  float64\n",
      " 6   behavioral_wash_hands        26665 non-null  float64\n",
      " 7   behavioral_large_gatherings  26620 non-null  float64\n",
      " 8   behavioral_outside_home      26625 non-null  float64\n",
      " 9   behavioral_touch_face        26579 non-null  float64\n",
      " 10  doctor_recc_h1n1             24547 non-null  float64\n",
      " 11  doctor_recc_seasonal         24547 non-null  float64\n",
      " 12  chronic_med_condition        25736 non-null  float64\n",
      " 13  child_under_6_months         25887 non-null  float64\n",
      " 14  health_worker                25903 non-null  float64\n",
      " 15  health_insurance             14433 non-null  float64\n",
      " 16  opinion_h1n1_vacc_effective  26316 non-null  float64\n",
      " 17  opinion_h1n1_risk            26319 non-null  float64\n",
      " 18  opinion_h1n1_sick_from_vacc  26312 non-null  float64\n",
      " 19  opinion_seas_vacc_effective  26245 non-null  float64\n",
      " 20  opinion_seas_risk            26193 non-null  float64\n",
      " 21  opinion_seas_sick_from_vacc  26170 non-null  float64\n",
      " 22  age_group                    26707 non-null  object \n",
      " 23  education                    25300 non-null  object \n",
      " 24  race                         26707 non-null  object \n",
      " 25  sex                          26707 non-null  object \n",
      " 26  income_poverty               22284 non-null  object \n",
      " 27  marital_status               25299 non-null  object \n",
      " 28  rent_or_own                  24665 non-null  object \n",
      " 29  employment_status            25244 non-null  object \n",
      " 30  hhs_geo_region               26707 non-null  object \n",
      " 31  census_msa                   26707 non-null  object \n",
      " 32  household_adults             26458 non-null  float64\n",
      " 33  household_children           26458 non-null  float64\n",
      " 34  employment_industry          13377 non-null  object \n",
      " 35  employment_occupation        13237 non-null  object \n",
      "dtypes: float64(23), int64(1), object(12)\n",
      "memory usage: 7.3+ MB\n"
     ]
    }
   ],
   "source": [
    "training_set_features = pd.read_csv('../Data/training_set_features.csv')\n",
    "training_set_features.info()"
   ]
  },
  {
   "cell_type": "code",
   "execution_count": 6,
   "metadata": {
    "ExecuteTime": {
     "end_time": "2022-04-19T21:41:42.120326Z",
     "start_time": "2022-04-19T21:41:42.099010Z"
    }
   },
   "outputs": [
    {
     "name": "stdout",
     "output_type": "stream",
     "text": [
      "<class 'pandas.core.frame.DataFrame'>\n",
      "RangeIndex: 26707 entries, 0 to 26706\n",
      "Data columns (total 3 columns):\n",
      " #   Column            Non-Null Count  Dtype\n",
      "---  ------            --------------  -----\n",
      " 0   respondent_id     26707 non-null  int64\n",
      " 1   h1n1_vaccine      26707 non-null  int64\n",
      " 2   seasonal_vaccine  26707 non-null  int64\n",
      "dtypes: int64(3)\n",
      "memory usage: 626.1 KB\n"
     ]
    }
   ],
   "source": [
    "training_set_labels = pd.read_csv('../Data/training_set_labels.csv')\n",
    "training_set_labels.info()"
   ]
  },
  {
   "cell_type": "markdown",
   "metadata": {},
   "source": [
    "The training_set_features and is the dataset used to predict the actual training_set_labels. They are already split, however I will be rejoining for any cleaning I find necessary and splitting again in a format that is more convenient since there is two target variables. "
   ]
  },
  {
   "cell_type": "code",
   "execution_count": 7,
   "metadata": {
    "ExecuteTime": {
     "end_time": "2022-04-19T21:41:43.213559Z",
     "start_time": "2022-04-19T21:41:43.168795Z"
    }
   },
   "outputs": [],
   "source": [
    "complete_data = pd.merge(training_set_features, training_set_labels, on='respondent_id')"
   ]
  },
  {
   "cell_type": "code",
   "execution_count": 8,
   "metadata": {
    "ExecuteTime": {
     "end_time": "2022-04-19T21:41:43.956469Z",
     "start_time": "2022-04-19T21:41:43.910170Z"
    }
   },
   "outputs": [
    {
     "name": "stdout",
     "output_type": "stream",
     "text": [
      "<class 'pandas.core.frame.DataFrame'>\n",
      "Int64Index: 26707 entries, 0 to 26706\n",
      "Data columns (total 38 columns):\n",
      " #   Column                       Non-Null Count  Dtype  \n",
      "---  ------                       --------------  -----  \n",
      " 0   respondent_id                26707 non-null  int64  \n",
      " 1   h1n1_concern                 26615 non-null  float64\n",
      " 2   h1n1_knowledge               26591 non-null  float64\n",
      " 3   behavioral_antiviral_meds    26636 non-null  float64\n",
      " 4   behavioral_avoidance         26499 non-null  float64\n",
      " 5   behavioral_face_mask         26688 non-null  float64\n",
      " 6   behavioral_wash_hands        26665 non-null  float64\n",
      " 7   behavioral_large_gatherings  26620 non-null  float64\n",
      " 8   behavioral_outside_home      26625 non-null  float64\n",
      " 9   behavioral_touch_face        26579 non-null  float64\n",
      " 10  doctor_recc_h1n1             24547 non-null  float64\n",
      " 11  doctor_recc_seasonal         24547 non-null  float64\n",
      " 12  chronic_med_condition        25736 non-null  float64\n",
      " 13  child_under_6_months         25887 non-null  float64\n",
      " 14  health_worker                25903 non-null  float64\n",
      " 15  health_insurance             14433 non-null  float64\n",
      " 16  opinion_h1n1_vacc_effective  26316 non-null  float64\n",
      " 17  opinion_h1n1_risk            26319 non-null  float64\n",
      " 18  opinion_h1n1_sick_from_vacc  26312 non-null  float64\n",
      " 19  opinion_seas_vacc_effective  26245 non-null  float64\n",
      " 20  opinion_seas_risk            26193 non-null  float64\n",
      " 21  opinion_seas_sick_from_vacc  26170 non-null  float64\n",
      " 22  age_group                    26707 non-null  object \n",
      " 23  education                    25300 non-null  object \n",
      " 24  race                         26707 non-null  object \n",
      " 25  sex                          26707 non-null  object \n",
      " 26  income_poverty               22284 non-null  object \n",
      " 27  marital_status               25299 non-null  object \n",
      " 28  rent_or_own                  24665 non-null  object \n",
      " 29  employment_status            25244 non-null  object \n",
      " 30  hhs_geo_region               26707 non-null  object \n",
      " 31  census_msa                   26707 non-null  object \n",
      " 32  household_adults             26458 non-null  float64\n",
      " 33  household_children           26458 non-null  float64\n",
      " 34  employment_industry          13377 non-null  object \n",
      " 35  employment_occupation        13237 non-null  object \n",
      " 36  h1n1_vaccine                 26707 non-null  int64  \n",
      " 37  seasonal_vaccine             26707 non-null  int64  \n",
      "dtypes: float64(23), int64(3), object(12)\n",
      "memory usage: 7.9+ MB\n"
     ]
    }
   ],
   "source": [
    "complete_data.info()"
   ]
  },
  {
   "cell_type": "code",
   "execution_count": 9,
   "metadata": {
    "ExecuteTime": {
     "end_time": "2022-04-19T21:41:44.967086Z",
     "start_time": "2022-04-19T21:41:44.929240Z"
    },
    "scrolled": true
   },
   "outputs": [
    {
     "data": {
      "text/plain": [
       "employment_occupation          13470\n",
       "employment_industry            13330\n",
       "health_insurance               12274\n",
       "income_poverty                  4423\n",
       "doctor_recc_h1n1                2160\n",
       "doctor_recc_seasonal            2160\n",
       "rent_or_own                     2042\n",
       "employment_status               1463\n",
       "marital_status                  1408\n",
       "education                       1407\n",
       "chronic_med_condition            971\n",
       "child_under_6_months             820\n",
       "health_worker                    804\n",
       "opinion_seas_sick_from_vacc      537\n",
       "opinion_seas_risk                514\n",
       "opinion_seas_vacc_effective      462\n",
       "opinion_h1n1_sick_from_vacc      395\n",
       "opinion_h1n1_vacc_effective      391\n",
       "opinion_h1n1_risk                388\n",
       "household_adults                 249\n",
       "household_children               249\n",
       "behavioral_avoidance             208\n",
       "behavioral_touch_face            128\n",
       "h1n1_knowledge                   116\n",
       "h1n1_concern                      92\n",
       "behavioral_large_gatherings       87\n",
       "behavioral_outside_home           82\n",
       "behavioral_antiviral_meds         71\n",
       "behavioral_wash_hands             42\n",
       "behavioral_face_mask              19\n",
       "seasonal_vaccine                   0\n",
       "h1n1_vaccine                       0\n",
       "age_group                          0\n",
       "race                               0\n",
       "sex                                0\n",
       "hhs_geo_region                     0\n",
       "census_msa                         0\n",
       "respondent_id                      0\n",
       "dtype: int64"
      ]
     },
     "execution_count": 9,
     "metadata": {},
     "output_type": "execute_result"
    }
   ],
   "source": [
    "complete_data.isna().sum().sort_values(ascending=False)"
   ]
  },
  {
   "cell_type": "markdown",
   "metadata": {},
   "source": [
    "If the employment_status column has a value of Not in Labor Force, then columns employment_industry and employment_occupation will have NA's. \n",
    "\n",
    "Values in columns employment_industry and employment_occupation are represented as short random character strings. \n",
    "\n",
    "Filling NA's in employment_occupation and employment_industry associated with \"not in labor force\" with because they would otherwise be imputed as the most frequent occupation or industry.\n",
    "\n",
    "Filling Unemployed with \"not in labor force\"."
   ]
  },
  {
   "cell_type": "code",
   "execution_count": 10,
   "metadata": {
    "ExecuteTime": {
     "end_time": "2022-04-19T21:41:47.031389Z",
     "start_time": "2022-04-19T21:41:47.009518Z"
    }
   },
   "outputs": [],
   "source": [
    "complete_data['employment_status'].replace(\"Unemployed\", \"Not in Labor Force\", inplace=True)\n",
    "complete_data.loc[complete_data['employment_status'] == \"Not in Labor Force\", 'employment_industry'] = \"Not in Labor Force\"\n",
    "complete_data.loc[complete_data['employment_status'] == \"Not in Labor Force\", 'employment_occupation'] = \"Not in Labor Force\""
   ]
  },
  {
   "cell_type": "code",
   "execution_count": 11,
   "metadata": {
    "ExecuteTime": {
     "end_time": "2022-04-19T21:41:47.984501Z",
     "start_time": "2022-04-19T21:41:47.961376Z"
    },
    "scrolled": true
   },
   "outputs": [
    {
     "data": {
      "text/html": [
       "<div>\n",
       "<style scoped>\n",
       "    .dataframe tbody tr th:only-of-type {\n",
       "        vertical-align: middle;\n",
       "    }\n",
       "\n",
       "    .dataframe tbody tr th {\n",
       "        vertical-align: top;\n",
       "    }\n",
       "\n",
       "    .dataframe thead th {\n",
       "        text-align: right;\n",
       "    }\n",
       "</style>\n",
       "<table border=\"1\" class=\"dataframe\">\n",
       "  <thead>\n",
       "    <tr style=\"text-align: right;\">\n",
       "      <th></th>\n",
       "      <th>employment_status</th>\n",
       "      <th>employment_occupation</th>\n",
       "      <th>employment_industry</th>\n",
       "    </tr>\n",
       "  </thead>\n",
       "  <tbody>\n",
       "    <tr>\n",
       "      <th>0</th>\n",
       "      <td>Not in Labor Force</td>\n",
       "      <td>Not in Labor Force</td>\n",
       "      <td>Not in Labor Force</td>\n",
       "    </tr>\n",
       "    <tr>\n",
       "      <th>1</th>\n",
       "      <td>Employed</td>\n",
       "      <td>xgwztkwe</td>\n",
       "      <td>pxcmvdjn</td>\n",
       "    </tr>\n",
       "    <tr>\n",
       "      <th>2</th>\n",
       "      <td>Employed</td>\n",
       "      <td>xtkaffoo</td>\n",
       "      <td>rucpziij</td>\n",
       "    </tr>\n",
       "    <tr>\n",
       "      <th>3</th>\n",
       "      <td>Not in Labor Force</td>\n",
       "      <td>Not in Labor Force</td>\n",
       "      <td>Not in Labor Force</td>\n",
       "    </tr>\n",
       "    <tr>\n",
       "      <th>4</th>\n",
       "      <td>Employed</td>\n",
       "      <td>emcorrxb</td>\n",
       "      <td>wxleyezf</td>\n",
       "    </tr>\n",
       "    <tr>\n",
       "      <th>...</th>\n",
       "      <td>...</td>\n",
       "      <td>...</td>\n",
       "      <td>...</td>\n",
       "    </tr>\n",
       "    <tr>\n",
       "      <th>26702</th>\n",
       "      <td>Not in Labor Force</td>\n",
       "      <td>Not in Labor Force</td>\n",
       "      <td>Not in Labor Force</td>\n",
       "    </tr>\n",
       "    <tr>\n",
       "      <th>26703</th>\n",
       "      <td>Employed</td>\n",
       "      <td>cmhcxjea</td>\n",
       "      <td>fcxhlnwr</td>\n",
       "    </tr>\n",
       "    <tr>\n",
       "      <th>26704</th>\n",
       "      <td>NaN</td>\n",
       "      <td>NaN</td>\n",
       "      <td>NaN</td>\n",
       "    </tr>\n",
       "    <tr>\n",
       "      <th>26705</th>\n",
       "      <td>Employed</td>\n",
       "      <td>haliazsg</td>\n",
       "      <td>fcxhlnwr</td>\n",
       "    </tr>\n",
       "    <tr>\n",
       "      <th>26706</th>\n",
       "      <td>Not in Labor Force</td>\n",
       "      <td>Not in Labor Force</td>\n",
       "      <td>Not in Labor Force</td>\n",
       "    </tr>\n",
       "  </tbody>\n",
       "</table>\n",
       "<p>26707 rows × 3 columns</p>\n",
       "</div>"
      ],
      "text/plain": [
       "        employment_status employment_occupation employment_industry\n",
       "0      Not in Labor Force    Not in Labor Force  Not in Labor Force\n",
       "1                Employed              xgwztkwe            pxcmvdjn\n",
       "2                Employed              xtkaffoo            rucpziij\n",
       "3      Not in Labor Force    Not in Labor Force  Not in Labor Force\n",
       "4                Employed              emcorrxb            wxleyezf\n",
       "...                   ...                   ...                 ...\n",
       "26702  Not in Labor Force    Not in Labor Force  Not in Labor Force\n",
       "26703            Employed              cmhcxjea            fcxhlnwr\n",
       "26704                 NaN                   NaN                 NaN\n",
       "26705            Employed              haliazsg            fcxhlnwr\n",
       "26706  Not in Labor Force    Not in Labor Force  Not in Labor Force\n",
       "\n",
       "[26707 rows x 3 columns]"
      ]
     },
     "execution_count": 11,
     "metadata": {},
     "output_type": "execute_result"
    }
   ],
   "source": [
    "complete_data.filter(['employment_status', 'employment_occupation', 'employment_industry'])"
   ]
  },
  {
   "cell_type": "markdown",
   "metadata": {},
   "source": [
    "### Split"
   ]
  },
  {
   "cell_type": "markdown",
   "metadata": {},
   "source": [
    "Creating two splits for each target variable."
   ]
  },
  {
   "cell_type": "code",
   "execution_count": 12,
   "metadata": {
    "ExecuteTime": {
     "end_time": "2022-04-19T21:41:54.058228Z",
     "start_time": "2022-04-19T21:41:54.032352Z"
    }
   },
   "outputs": [],
   "source": [
    "X = complete_data.drop(['h1n1_vaccine', 'seasonal_vaccine', 'respondent_id'], axis=1)\n",
    "y1 = complete_data.filter(['seasonal_vaccine'])\n",
    "X_train1, X_test1, y_train1, y_test1 = train_test_split(X, y1, test_size=0.33, random_state=42)"
   ]
  },
  {
   "cell_type": "code",
   "execution_count": 13,
   "metadata": {
    "ExecuteTime": {
     "end_time": "2022-04-19T21:41:54.725342Z",
     "start_time": "2022-04-19T21:41:54.710725Z"
    }
   },
   "outputs": [
    {
     "data": {
      "text/plain": [
       "seasonal_vaccine\n",
       "0                   0.531046\n",
       "1                   0.468954\n",
       "dtype: float64"
      ]
     },
     "execution_count": 13,
     "metadata": {},
     "output_type": "execute_result"
    }
   ],
   "source": [
    "y_train1.value_counts(normalize=True)"
   ]
  },
  {
   "cell_type": "markdown",
   "metadata": {},
   "source": [
    "#### Numeric Pipeline for Column Transformer"
   ]
  },
  {
   "cell_type": "markdown",
   "metadata": {},
   "source": [
    "All columns are in a categorical format, however, some are scales and may better be represented as numeric columns.\n",
    "\n",
    "Possible numeric columns: h1n1_concern, h1n1_knowledge, opinion_h1n1_vacc_effective, opinion_h1n1_risk, opinion_h1n1_sick_from_vacc, opinion_seas_vacc_effective, opinion_seas_risk, and opinion_seas_sick_from_vacc."
   ]
  },
  {
   "cell_type": "code",
   "execution_count": 14,
   "metadata": {
    "ExecuteTime": {
     "end_time": "2022-04-19T21:42:02.297428Z",
     "start_time": "2022-04-19T21:42:02.293676Z"
    }
   },
   "outputs": [],
   "source": [
    "num_cols = ['h1n1_concern', 'h1n1_knowledge', 'opinion_h1n1_vacc_effective', 'opinion_h1n1_risk', 'opinion_h1n1_sick_from_vacc', 'opinion_seas_vacc_effective', 'opinion_seas_risk', 'opinion_seas_sick_from_vacc']"
   ]
  },
  {
   "cell_type": "code",
   "execution_count": 15,
   "metadata": {
    "ExecuteTime": {
     "end_time": "2022-04-19T21:42:03.171662Z",
     "start_time": "2022-04-19T21:42:03.121499Z"
    },
    "scrolled": true
   },
   "outputs": [
    {
     "data": {
      "text/html": [
       "<div>\n",
       "<style scoped>\n",
       "    .dataframe tbody tr th:only-of-type {\n",
       "        vertical-align: middle;\n",
       "    }\n",
       "\n",
       "    .dataframe tbody tr th {\n",
       "        vertical-align: top;\n",
       "    }\n",
       "\n",
       "    .dataframe thead th {\n",
       "        text-align: right;\n",
       "    }\n",
       "</style>\n",
       "<table border=\"1\" class=\"dataframe\">\n",
       "  <thead>\n",
       "    <tr style=\"text-align: right;\">\n",
       "      <th></th>\n",
       "      <th>h1n1_concern</th>\n",
       "      <th>h1n1_knowledge</th>\n",
       "      <th>opinion_h1n1_vacc_effective</th>\n",
       "      <th>opinion_h1n1_risk</th>\n",
       "      <th>opinion_h1n1_sick_from_vacc</th>\n",
       "      <th>opinion_seas_vacc_effective</th>\n",
       "      <th>opinion_seas_risk</th>\n",
       "      <th>opinion_seas_sick_from_vacc</th>\n",
       "    </tr>\n",
       "  </thead>\n",
       "  <tbody>\n",
       "    <tr>\n",
       "      <th>count</th>\n",
       "      <td>26615.000000</td>\n",
       "      <td>26591.000000</td>\n",
       "      <td>26316.000000</td>\n",
       "      <td>26319.000000</td>\n",
       "      <td>26312.000000</td>\n",
       "      <td>26245.000000</td>\n",
       "      <td>26193.000000</td>\n",
       "      <td>26170.000000</td>\n",
       "    </tr>\n",
       "    <tr>\n",
       "      <th>mean</th>\n",
       "      <td>1.618486</td>\n",
       "      <td>1.262532</td>\n",
       "      <td>3.850623</td>\n",
       "      <td>2.342566</td>\n",
       "      <td>2.357670</td>\n",
       "      <td>4.025986</td>\n",
       "      <td>2.719162</td>\n",
       "      <td>2.118112</td>\n",
       "    </tr>\n",
       "    <tr>\n",
       "      <th>std</th>\n",
       "      <td>0.910311</td>\n",
       "      <td>0.618149</td>\n",
       "      <td>1.007436</td>\n",
       "      <td>1.285539</td>\n",
       "      <td>1.362766</td>\n",
       "      <td>1.086565</td>\n",
       "      <td>1.385055</td>\n",
       "      <td>1.332950</td>\n",
       "    </tr>\n",
       "    <tr>\n",
       "      <th>min</th>\n",
       "      <td>0.000000</td>\n",
       "      <td>0.000000</td>\n",
       "      <td>1.000000</td>\n",
       "      <td>1.000000</td>\n",
       "      <td>1.000000</td>\n",
       "      <td>1.000000</td>\n",
       "      <td>1.000000</td>\n",
       "      <td>1.000000</td>\n",
       "    </tr>\n",
       "    <tr>\n",
       "      <th>25%</th>\n",
       "      <td>1.000000</td>\n",
       "      <td>1.000000</td>\n",
       "      <td>3.000000</td>\n",
       "      <td>1.000000</td>\n",
       "      <td>1.000000</td>\n",
       "      <td>4.000000</td>\n",
       "      <td>2.000000</td>\n",
       "      <td>1.000000</td>\n",
       "    </tr>\n",
       "    <tr>\n",
       "      <th>50%</th>\n",
       "      <td>2.000000</td>\n",
       "      <td>1.000000</td>\n",
       "      <td>4.000000</td>\n",
       "      <td>2.000000</td>\n",
       "      <td>2.000000</td>\n",
       "      <td>4.000000</td>\n",
       "      <td>2.000000</td>\n",
       "      <td>2.000000</td>\n",
       "    </tr>\n",
       "    <tr>\n",
       "      <th>75%</th>\n",
       "      <td>2.000000</td>\n",
       "      <td>2.000000</td>\n",
       "      <td>5.000000</td>\n",
       "      <td>4.000000</td>\n",
       "      <td>4.000000</td>\n",
       "      <td>5.000000</td>\n",
       "      <td>4.000000</td>\n",
       "      <td>4.000000</td>\n",
       "    </tr>\n",
       "    <tr>\n",
       "      <th>max</th>\n",
       "      <td>3.000000</td>\n",
       "      <td>2.000000</td>\n",
       "      <td>5.000000</td>\n",
       "      <td>5.000000</td>\n",
       "      <td>5.000000</td>\n",
       "      <td>5.000000</td>\n",
       "      <td>5.000000</td>\n",
       "      <td>5.000000</td>\n",
       "    </tr>\n",
       "  </tbody>\n",
       "</table>\n",
       "</div>"
      ],
      "text/plain": [
       "       h1n1_concern  h1n1_knowledge  opinion_h1n1_vacc_effective  \\\n",
       "count  26615.000000    26591.000000                 26316.000000   \n",
       "mean       1.618486        1.262532                     3.850623   \n",
       "std        0.910311        0.618149                     1.007436   \n",
       "min        0.000000        0.000000                     1.000000   \n",
       "25%        1.000000        1.000000                     3.000000   \n",
       "50%        2.000000        1.000000                     4.000000   \n",
       "75%        2.000000        2.000000                     5.000000   \n",
       "max        3.000000        2.000000                     5.000000   \n",
       "\n",
       "       opinion_h1n1_risk  opinion_h1n1_sick_from_vacc  \\\n",
       "count       26319.000000                 26312.000000   \n",
       "mean            2.342566                     2.357670   \n",
       "std             1.285539                     1.362766   \n",
       "min             1.000000                     1.000000   \n",
       "25%             1.000000                     1.000000   \n",
       "50%             2.000000                     2.000000   \n",
       "75%             4.000000                     4.000000   \n",
       "max             5.000000                     5.000000   \n",
       "\n",
       "       opinion_seas_vacc_effective  opinion_seas_risk  \\\n",
       "count                 26245.000000       26193.000000   \n",
       "mean                      4.025986           2.719162   \n",
       "std                       1.086565           1.385055   \n",
       "min                       1.000000           1.000000   \n",
       "25%                       4.000000           2.000000   \n",
       "50%                       4.000000           2.000000   \n",
       "75%                       5.000000           4.000000   \n",
       "max                       5.000000           5.000000   \n",
       "\n",
       "       opinion_seas_sick_from_vacc  \n",
       "count                 26170.000000  \n",
       "mean                      2.118112  \n",
       "std                       1.332950  \n",
       "min                       1.000000  \n",
       "25%                       1.000000  \n",
       "50%                       2.000000  \n",
       "75%                       4.000000  \n",
       "max                       5.000000  "
      ]
     },
     "execution_count": 15,
     "metadata": {},
     "output_type": "execute_result"
    }
   ],
   "source": [
    "X[num_cols].describe()"
   ]
  },
  {
   "cell_type": "code",
   "execution_count": 16,
   "metadata": {
    "ExecuteTime": {
     "end_time": "2022-04-19T21:42:03.823510Z",
     "start_time": "2022-04-19T21:42:03.805316Z"
    }
   },
   "outputs": [
    {
     "data": {
      "text/plain": [
       "h1n1_concern                   2.0\n",
       "h1n1_knowledge                 1.0\n",
       "opinion_h1n1_vacc_effective    4.0\n",
       "opinion_h1n1_risk              2.0\n",
       "opinion_h1n1_sick_from_vacc    2.0\n",
       "opinion_seas_vacc_effective    4.0\n",
       "opinion_seas_risk              2.0\n",
       "opinion_seas_sick_from_vacc    2.0\n",
       "dtype: float64"
      ]
     },
     "execution_count": 16,
     "metadata": {},
     "output_type": "execute_result"
    }
   ],
   "source": [
    "X[num_cols].median()"
   ]
  },
  {
   "cell_type": "markdown",
   "metadata": {},
   "source": [
    "#### Using `Pipeline` and `ColumnTransformer`"
   ]
  },
  {
   "cell_type": "code",
   "execution_count": 17,
   "metadata": {
    "ExecuteTime": {
     "end_time": "2022-04-19T21:42:07.128406Z",
     "start_time": "2022-04-19T21:42:07.094896Z"
    }
   },
   "outputs": [
    {
     "data": {
      "text/html": [
       "<div>\n",
       "<style scoped>\n",
       "    .dataframe tbody tr th:only-of-type {\n",
       "        vertical-align: middle;\n",
       "    }\n",
       "\n",
       "    .dataframe tbody tr th {\n",
       "        vertical-align: top;\n",
       "    }\n",
       "\n",
       "    .dataframe thead th {\n",
       "        text-align: right;\n",
       "    }\n",
       "</style>\n",
       "<table border=\"1\" class=\"dataframe\">\n",
       "  <thead>\n",
       "    <tr style=\"text-align: right;\">\n",
       "      <th></th>\n",
       "      <th>h1n1_concern</th>\n",
       "      <th>h1n1_knowledge</th>\n",
       "      <th>behavioral_antiviral_meds</th>\n",
       "      <th>behavioral_avoidance</th>\n",
       "      <th>behavioral_face_mask</th>\n",
       "      <th>behavioral_wash_hands</th>\n",
       "      <th>behavioral_large_gatherings</th>\n",
       "      <th>behavioral_outside_home</th>\n",
       "      <th>behavioral_touch_face</th>\n",
       "      <th>doctor_recc_h1n1</th>\n",
       "      <th>...</th>\n",
       "      <th>income_poverty</th>\n",
       "      <th>marital_status</th>\n",
       "      <th>rent_or_own</th>\n",
       "      <th>employment_status</th>\n",
       "      <th>hhs_geo_region</th>\n",
       "      <th>census_msa</th>\n",
       "      <th>household_adults</th>\n",
       "      <th>household_children</th>\n",
       "      <th>employment_industry</th>\n",
       "      <th>employment_occupation</th>\n",
       "    </tr>\n",
       "  </thead>\n",
       "  <tbody>\n",
       "    <tr>\n",
       "      <th>0</th>\n",
       "      <td>1.0</td>\n",
       "      <td>0.0</td>\n",
       "      <td>0.0</td>\n",
       "      <td>0.0</td>\n",
       "      <td>0.0</td>\n",
       "      <td>0.0</td>\n",
       "      <td>0.0</td>\n",
       "      <td>1.0</td>\n",
       "      <td>1.0</td>\n",
       "      <td>0.0</td>\n",
       "      <td>...</td>\n",
       "      <td>Below Poverty</td>\n",
       "      <td>Not Married</td>\n",
       "      <td>Own</td>\n",
       "      <td>Not in Labor Force</td>\n",
       "      <td>oxchjgsf</td>\n",
       "      <td>Non-MSA</td>\n",
       "      <td>0.0</td>\n",
       "      <td>0.0</td>\n",
       "      <td>Not in Labor Force</td>\n",
       "      <td>Not in Labor Force</td>\n",
       "    </tr>\n",
       "    <tr>\n",
       "      <th>1</th>\n",
       "      <td>3.0</td>\n",
       "      <td>2.0</td>\n",
       "      <td>0.0</td>\n",
       "      <td>1.0</td>\n",
       "      <td>0.0</td>\n",
       "      <td>1.0</td>\n",
       "      <td>0.0</td>\n",
       "      <td>1.0</td>\n",
       "      <td>1.0</td>\n",
       "      <td>0.0</td>\n",
       "      <td>...</td>\n",
       "      <td>Below Poverty</td>\n",
       "      <td>Not Married</td>\n",
       "      <td>Rent</td>\n",
       "      <td>Employed</td>\n",
       "      <td>bhuqouqj</td>\n",
       "      <td>MSA, Not Principle  City</td>\n",
       "      <td>0.0</td>\n",
       "      <td>0.0</td>\n",
       "      <td>pxcmvdjn</td>\n",
       "      <td>xgwztkwe</td>\n",
       "    </tr>\n",
       "    <tr>\n",
       "      <th>2</th>\n",
       "      <td>1.0</td>\n",
       "      <td>1.0</td>\n",
       "      <td>0.0</td>\n",
       "      <td>1.0</td>\n",
       "      <td>0.0</td>\n",
       "      <td>0.0</td>\n",
       "      <td>0.0</td>\n",
       "      <td>0.0</td>\n",
       "      <td>0.0</td>\n",
       "      <td>NaN</td>\n",
       "      <td>...</td>\n",
       "      <td>&lt;= $75,000, Above Poverty</td>\n",
       "      <td>Not Married</td>\n",
       "      <td>Own</td>\n",
       "      <td>Employed</td>\n",
       "      <td>qufhixun</td>\n",
       "      <td>MSA, Not Principle  City</td>\n",
       "      <td>2.0</td>\n",
       "      <td>0.0</td>\n",
       "      <td>rucpziij</td>\n",
       "      <td>xtkaffoo</td>\n",
       "    </tr>\n",
       "    <tr>\n",
       "      <th>3</th>\n",
       "      <td>1.0</td>\n",
       "      <td>1.0</td>\n",
       "      <td>0.0</td>\n",
       "      <td>1.0</td>\n",
       "      <td>0.0</td>\n",
       "      <td>1.0</td>\n",
       "      <td>1.0</td>\n",
       "      <td>0.0</td>\n",
       "      <td>0.0</td>\n",
       "      <td>0.0</td>\n",
       "      <td>...</td>\n",
       "      <td>Below Poverty</td>\n",
       "      <td>Not Married</td>\n",
       "      <td>Rent</td>\n",
       "      <td>Not in Labor Force</td>\n",
       "      <td>lrircsnp</td>\n",
       "      <td>MSA, Principle City</td>\n",
       "      <td>0.0</td>\n",
       "      <td>0.0</td>\n",
       "      <td>Not in Labor Force</td>\n",
       "      <td>Not in Labor Force</td>\n",
       "    </tr>\n",
       "    <tr>\n",
       "      <th>4</th>\n",
       "      <td>2.0</td>\n",
       "      <td>1.0</td>\n",
       "      <td>0.0</td>\n",
       "      <td>1.0</td>\n",
       "      <td>0.0</td>\n",
       "      <td>1.0</td>\n",
       "      <td>1.0</td>\n",
       "      <td>0.0</td>\n",
       "      <td>1.0</td>\n",
       "      <td>0.0</td>\n",
       "      <td>...</td>\n",
       "      <td>&lt;= $75,000, Above Poverty</td>\n",
       "      <td>Married</td>\n",
       "      <td>Own</td>\n",
       "      <td>Employed</td>\n",
       "      <td>qufhixun</td>\n",
       "      <td>MSA, Not Principle  City</td>\n",
       "      <td>1.0</td>\n",
       "      <td>0.0</td>\n",
       "      <td>wxleyezf</td>\n",
       "      <td>emcorrxb</td>\n",
       "    </tr>\n",
       "  </tbody>\n",
       "</table>\n",
       "<p>5 rows × 35 columns</p>\n",
       "</div>"
      ],
      "text/plain": [
       "   h1n1_concern  h1n1_knowledge  behavioral_antiviral_meds  \\\n",
       "0           1.0             0.0                        0.0   \n",
       "1           3.0             2.0                        0.0   \n",
       "2           1.0             1.0                        0.0   \n",
       "3           1.0             1.0                        0.0   \n",
       "4           2.0             1.0                        0.0   \n",
       "\n",
       "   behavioral_avoidance  behavioral_face_mask  behavioral_wash_hands  \\\n",
       "0                   0.0                   0.0                    0.0   \n",
       "1                   1.0                   0.0                    1.0   \n",
       "2                   1.0                   0.0                    0.0   \n",
       "3                   1.0                   0.0                    1.0   \n",
       "4                   1.0                   0.0                    1.0   \n",
       "\n",
       "   behavioral_large_gatherings  behavioral_outside_home  \\\n",
       "0                          0.0                      1.0   \n",
       "1                          0.0                      1.0   \n",
       "2                          0.0                      0.0   \n",
       "3                          1.0                      0.0   \n",
       "4                          1.0                      0.0   \n",
       "\n",
       "   behavioral_touch_face  doctor_recc_h1n1  ...             income_poverty  \\\n",
       "0                    1.0               0.0  ...              Below Poverty   \n",
       "1                    1.0               0.0  ...              Below Poverty   \n",
       "2                    0.0               NaN  ...  <= $75,000, Above Poverty   \n",
       "3                    0.0               0.0  ...              Below Poverty   \n",
       "4                    1.0               0.0  ...  <= $75,000, Above Poverty   \n",
       "\n",
       "   marital_status  rent_or_own   employment_status  hhs_geo_region  \\\n",
       "0     Not Married          Own  Not in Labor Force        oxchjgsf   \n",
       "1     Not Married         Rent            Employed        bhuqouqj   \n",
       "2     Not Married          Own            Employed        qufhixun   \n",
       "3     Not Married         Rent  Not in Labor Force        lrircsnp   \n",
       "4         Married          Own            Employed        qufhixun   \n",
       "\n",
       "                 census_msa  household_adults  household_children  \\\n",
       "0                   Non-MSA               0.0                 0.0   \n",
       "1  MSA, Not Principle  City               0.0                 0.0   \n",
       "2  MSA, Not Principle  City               2.0                 0.0   \n",
       "3       MSA, Principle City               0.0                 0.0   \n",
       "4  MSA, Not Principle  City               1.0                 0.0   \n",
       "\n",
       "   employment_industry  employment_occupation  \n",
       "0   Not in Labor Force     Not in Labor Force  \n",
       "1             pxcmvdjn               xgwztkwe  \n",
       "2             rucpziij               xtkaffoo  \n",
       "3   Not in Labor Force     Not in Labor Force  \n",
       "4             wxleyezf               emcorrxb  \n",
       "\n",
       "[5 rows x 35 columns]"
      ]
     },
     "execution_count": 17,
     "metadata": {},
     "output_type": "execute_result"
    }
   ],
   "source": [
    "X.head()"
   ]
  },
  {
   "cell_type": "code",
   "execution_count": 18,
   "metadata": {
    "ExecuteTime": {
     "end_time": "2022-04-19T21:42:07.978425Z",
     "start_time": "2022-04-19T21:42:07.972433Z"
    }
   },
   "outputs": [],
   "source": [
    "subpipe_cat = Pipeline(steps=[('cat_impute', SimpleImputer(strategy='most_frequent')),\n",
    "                              ('ohe', OneHotEncoder(drop='first', sparse=False, handle_unknown='ignore')) ])\n",
    "\n",
    "subpipe_num = Pipeline(steps=[('num_impute', SimpleImputer(strategy='median')),\n",
    "                              ('ss', StandardScaler()) ])"
   ]
  },
  {
   "cell_type": "code",
   "execution_count": 19,
   "metadata": {
    "ExecuteTime": {
     "end_time": "2022-04-19T21:42:08.938047Z",
     "start_time": "2022-04-19T21:42:08.931544Z"
    }
   },
   "outputs": [
    {
     "data": {
      "text/plain": [
       "['h1n1_concern',\n",
       " 'h1n1_knowledge',\n",
       " 'opinion_h1n1_vacc_effective',\n",
       " 'opinion_h1n1_risk',\n",
       " 'opinion_h1n1_sick_from_vacc',\n",
       " 'opinion_seas_vacc_effective',\n",
       " 'opinion_seas_risk',\n",
       " 'opinion_seas_sick_from_vacc']"
      ]
     },
     "execution_count": 19,
     "metadata": {},
     "output_type": "execute_result"
    }
   ],
   "source": [
    "num_cols"
   ]
  },
  {
   "cell_type": "code",
   "execution_count": 20,
   "metadata": {
    "ExecuteTime": {
     "end_time": "2022-04-19T21:42:09.236103Z",
     "start_time": "2022-04-19T21:42:09.229939Z"
    }
   },
   "outputs": [
    {
     "data": {
      "text/plain": [
       "Index(['behavioral_antiviral_meds', 'behavioral_avoidance',\n",
       "       'behavioral_face_mask', 'behavioral_wash_hands',\n",
       "       'behavioral_large_gatherings', 'behavioral_outside_home',\n",
       "       'behavioral_touch_face', 'doctor_recc_h1n1', 'doctor_recc_seasonal',\n",
       "       'chronic_med_condition', 'child_under_6_months', 'health_worker',\n",
       "       'health_insurance', 'age_group', 'education', 'race', 'sex',\n",
       "       'income_poverty', 'marital_status', 'rent_or_own', 'employment_status',\n",
       "       'hhs_geo_region', 'census_msa', 'household_adults',\n",
       "       'household_children', 'employment_industry', 'employment_occupation'],\n",
       "      dtype='object')"
      ]
     },
     "execution_count": 20,
     "metadata": {},
     "output_type": "execute_result"
    }
   ],
   "source": [
    "cat_cols = X.columns.drop(num_cols)\n",
    "cat_cols"
   ]
  },
  {
   "cell_type": "code",
   "execution_count": 21,
   "metadata": {
    "ExecuteTime": {
     "end_time": "2022-04-19T21:42:09.985691Z",
     "start_time": "2022-04-19T21:42:09.982111Z"
    }
   },
   "outputs": [],
   "source": [
    "# The \"remainder='passthrough'\" bit tells the compiler to leave\n",
    "# the other df columns unchanged.\n",
    "ct = ColumnTransformer(transformers = [\n",
    "    ('subpipe_cat', subpipe_cat, cat_cols),\n",
    "    ('subpipe_num', subpipe_num, num_cols)\n",
    "])"
   ]
  },
  {
   "cell_type": "markdown",
   "metadata": {},
   "source": [
    "#### Logistic Regression Pipeline"
   ]
  },
  {
   "cell_type": "code",
   "execution_count": 22,
   "metadata": {
    "ExecuteTime": {
     "end_time": "2022-04-19T21:42:13.021605Z",
     "start_time": "2022-04-19T21:42:13.018361Z"
    }
   },
   "outputs": [],
   "source": [
    "dummy_model_pipe = Pipeline(steps=[\n",
    "    ('ct', ct),\n",
    "    ('dummy', DummyClassifier(random_state=42))\n",
    "])"
   ]
  },
  {
   "cell_type": "markdown",
   "metadata": {},
   "source": [
    "The .values.ravel() removes warnings."
   ]
  },
  {
   "cell_type": "code",
   "execution_count": 23,
   "metadata": {
    "ExecuteTime": {
     "end_time": "2022-04-19T21:42:13.857685Z",
     "start_time": "2022-04-19T21:42:13.854404Z"
    }
   },
   "outputs": [],
   "source": [
    "y_train1 = y_train1.values.ravel()"
   ]
  },
  {
   "cell_type": "code",
   "execution_count": 24,
   "metadata": {
    "ExecuteTime": {
     "end_time": "2022-04-19T16:51:56.350093Z",
     "start_time": "2022-04-19T16:51:56.112519Z"
    }
   },
   "outputs": [],
   "source": [
    "dummy_model_pipe.fit(X_train1, y_train1);"
   ]
  },
  {
   "cell_type": "code",
   "execution_count": 25,
   "metadata": {
    "ExecuteTime": {
     "end_time": "2022-04-19T16:51:56.495372Z",
     "start_time": "2022-04-19T16:51:56.351081Z"
    }
   },
   "outputs": [
    {
     "data": {
      "text/plain": [
       "0.5310456603140893"
      ]
     },
     "execution_count": 25,
     "metadata": {},
     "output_type": "execute_result"
    }
   ],
   "source": [
    "dummy_model_pipe.score(X_train1, y_train1)"
   ]
  },
  {
   "cell_type": "code",
   "execution_count": 26,
   "metadata": {
    "ExecuteTime": {
     "end_time": "2022-04-19T16:51:57.536153Z",
     "start_time": "2022-04-19T16:51:56.496378Z"
    }
   },
   "outputs": [
    {
     "data": {
      "text/plain": [
       "array([0.53087455, 0.53115395, 0.53115395, 0.53102292, 0.53102292])"
      ]
     },
     "execution_count": 26,
     "metadata": {},
     "output_type": "execute_result"
    }
   ],
   "source": [
    "cross_val_score(dummy_model_pipe, X_train1, y_train1)"
   ]
  },
  {
   "cell_type": "code",
   "execution_count": 24,
   "metadata": {
    "ExecuteTime": {
     "end_time": "2022-04-19T21:42:18.609753Z",
     "start_time": "2022-04-19T21:42:18.590824Z"
    }
   },
   "outputs": [],
   "source": [
    "class ModelWithCV():\n",
    "    '''Structure to save the model and more easily see its crossvalidation'''\n",
    "    \n",
    "    def __init__(self, model, model_name, X, y, cv_now=True):\n",
    "        self.model = model\n",
    "        self.name = model_name\n",
    "        self.X = X\n",
    "        self.y = y\n",
    "        # For CV results\n",
    "        self.cv_results = None\n",
    "        self.cv_mean = None\n",
    "        self.cv_median = None\n",
    "        self.cv_std = None\n",
    "        #\n",
    "        if cv_now:\n",
    "            self.cross_validate()\n",
    "        \n",
    "    def cross_validate(self, X=None, y=None, kfolds=10):\n",
    "        '''\n",
    "        Perform cross-validation and return results.\n",
    "        \n",
    "        Args: \n",
    "          X:\n",
    "            Optional; Training data to perform CV on. Otherwise use X from object\n",
    "          y:\n",
    "            Optional; Training data to perform CV on. Otherwise use y from object\n",
    "          kfolds:\n",
    "            Optional; Number of folds for CV (default is 10)  \n",
    "        '''\n",
    "        \n",
    "        cv_X = X if X else self.X\n",
    "        cv_y = y if y else self.y\n",
    "\n",
    "        self.cv_results = cross_val_score(self.model, cv_X, cv_y, cv=kfolds)\n",
    "        self.cv_mean = np.mean(self.cv_results)\n",
    "        self.cv_median = np.median(self.cv_results)\n",
    "        self.cv_std = np.std(self.cv_results)\n",
    "\n",
    "        \n",
    "#     def print_cv_summary(self):\n",
    "#         cv_summary = (\n",
    "#         f'''CV Results for `{self.name}` model:\n",
    "#             {self.cv_mean:.5f} ± {self.cv_std:.5f} accuracy\n",
    "#             recall_score: {recall_score(self.y, self.model.predict(self.X))}\n",
    "#             precision_score: {precision_score(self.y, self.model.predict(self.X))}\n",
    "#             f1_score: {f1_score(self.y, self.model.predict(self.X))}    \n",
    "#         ''')\n",
    "#         print(cv_summary)\n",
    "    def print_cv_summary(self):\n",
    "        cv_summary = (\n",
    "        f'''CV Results for `{self.name}` model:\n",
    "            {self.cv_mean:.5f} ± {self.cv_std:.5f} accuracy\n",
    "            recall_score: {cross_val_score(self.model, self.X, self.y, cv=10, scoring='recall').mean()}\n",
    "            precision_score: {cross_val_score(self.model, self.X, self.y, cv=10, scoring='average_precision').mean()}\n",
    "            f1_score: {cross_val_score(self.model, self.X, self.y, cv=10, scoring='f1').mean()}    \n",
    "        ''')\n",
    "        print(cv_summary)\n",
    "        \n",
    "    def plot_cv(self, ax):\n",
    "        '''\n",
    "        Plot the cross-validation values using the array of results and given \n",
    "        Axis for plotting.\n",
    "        '''\n",
    "        ax.set_title(f'CV Results for `{self.name}` Model')\n",
    "        # Thinner violinplot with higher bw\n",
    "        sns.violinplot(y=self.cv_results, ax=ax, bw=.4)\n",
    "        sns.swarmplot(\n",
    "                y=self.cv_results,\n",
    "                color='orange',\n",
    "                size=10,\n",
    "                alpha= 0.8,\n",
    "                ax=ax\n",
    "        )\n",
    "\n",
    "        return ax"
   ]
  },
  {
   "cell_type": "code",
   "execution_count": 28,
   "metadata": {
    "ExecuteTime": {
     "end_time": "2022-04-19T16:51:59.584811Z",
     "start_time": "2022-04-19T16:51:57.543115Z"
    }
   },
   "outputs": [],
   "source": [
    "dummy_pipe = ModelWithCV(dummy_model_pipe, model_name='dummy_pipe', X=X_train1, y=y_train1)"
   ]
  },
  {
   "cell_type": "code",
   "execution_count": 29,
   "metadata": {
    "ExecuteTime": {
     "end_time": "2022-04-19T16:51:59.681351Z",
     "start_time": "2022-04-19T16:51:59.585646Z"
    }
   },
   "outputs": [
    {
     "data": {
      "image/png": "[encoded data removed]",
      "text/plain": [
       "<Figure size 432x288 with 1 Axes>"
      ]
     },
     "metadata": {
      "needs_background": "light"
     },
     "output_type": "display_data"
    }
   ],
   "source": [
    "fig, ax = plt.subplots()\n",
    "\n",
    "dummy_pipe.plot_cv(ax=ax);"
   ]
  },
  {
   "cell_type": "code",
   "execution_count": 30,
   "metadata": {
    "ExecuteTime": {
     "end_time": "2022-04-19T16:52:05.946486Z",
     "start_time": "2022-04-19T16:51:59.682457Z"
    },
    "scrolled": true
   },
   "outputs": [
    {
     "name": "stdout",
     "output_type": "stream",
     "text": [
      "CV Results for `dummy_pipe` model:\n",
      "            0.53105 ± 0.00015 accuracy\n",
      "            recall_score: 0.0\n",
      "            precision_score: 0.46895434857961904\n",
      "            f1_score: 0.0    \n",
      "        \n"
     ]
    }
   ],
   "source": [
    "dummy_pipe.print_cv_summary()"
   ]
  },
  {
   "cell_type": "markdown",
   "metadata": {},
   "source": [
    "#### Logistic Regression Pipeline"
   ]
  },
  {
   "cell_type": "code",
   "execution_count": 245,
   "metadata": {
    "ExecuteTime": {
     "end_time": "2022-04-20T19:09:49.882049Z",
     "start_time": "2022-04-20T19:09:49.860385Z"
    }
   },
   "outputs": [],
   "source": [
    "logreg_model_pipe = Pipeline(steps=[\n",
    "    ('ct', ct),\n",
    "    ('logreg', LogisticRegression(random_state=42, max_iter=1000))\n",
    "])"
   ]
  },
  {
   "cell_type": "code",
   "execution_count": 246,
   "metadata": {
    "ExecuteTime": {
     "end_time": "2022-04-20T19:09:51.288652Z",
     "start_time": "2022-04-20T19:09:50.416017Z"
    },
    "scrolled": true
   },
   "outputs": [],
   "source": [
    "logreg_model_pipe.fit(X_train1, y_train1);"
   ]
  },
  {
   "cell_type": "code",
   "execution_count": 33,
   "metadata": {
    "ExecuteTime": {
     "end_time": "2022-04-19T16:52:06.774760Z",
     "start_time": "2022-04-19T16:52:06.628252Z"
    }
   },
   "outputs": [
    {
     "data": {
      "text/plain": [
       "0.7805845861510088"
      ]
     },
     "execution_count": 33,
     "metadata": {},
     "output_type": "execute_result"
    }
   ],
   "source": [
    "logreg_model_pipe.score(X_train1, y_train1)"
   ]
  },
  {
   "cell_type": "code",
   "execution_count": 34,
   "metadata": {
    "ExecuteTime": {
     "end_time": "2022-04-19T16:52:09.226606Z",
     "start_time": "2022-04-19T16:52:06.775846Z"
    }
   },
   "outputs": [
    {
     "data": {
      "text/plain": [
       "array([0.77395921, 0.78234144, 0.76613579, 0.77697037, 0.78283958])"
      ]
     },
     "execution_count": 34,
     "metadata": {},
     "output_type": "execute_result"
    }
   ],
   "source": [
    "cross_val_score(logreg_model_pipe, X_train1, y_train1)"
   ]
  },
  {
   "cell_type": "markdown",
   "metadata": {},
   "source": [
    "#### Bringing in Our Modeling Class from before"
   ]
  },
  {
   "cell_type": "code",
   "execution_count": 35,
   "metadata": {
    "ExecuteTime": {
     "end_time": "2022-04-19T16:52:14.909596Z",
     "start_time": "2022-04-19T16:52:09.227630Z"
    }
   },
   "outputs": [],
   "source": [
    "log_pipe = ModelWithCV(logreg_model_pipe, model_name='log_pipe', X=X_train1, y=y_train1)"
   ]
  },
  {
   "cell_type": "code",
   "execution_count": 36,
   "metadata": {
    "ExecuteTime": {
     "end_time": "2022-04-19T16:52:14.971307Z",
     "start_time": "2022-04-19T16:52:14.910480Z"
    },
    "scrolled": true
   },
   "outputs": [
    {
     "data": {
      "image/png": "[encoded data removed]",
      "text/plain": [
       "<Figure size 432x288 with 1 Axes>"
      ]
     },
     "metadata": {
      "needs_background": "light"
     },
     "output_type": "display_data"
    }
   ],
   "source": [
    "fig, ax = plt.subplots()\n",
    "\n",
    "log_pipe.plot_cv(ax=ax);"
   ]
  },
  {
   "cell_type": "code",
   "execution_count": 37,
   "metadata": {
    "ExecuteTime": {
     "end_time": "2022-04-19T16:52:32.426285Z",
     "start_time": "2022-04-19T16:52:14.972477Z"
    },
    "scrolled": true
   },
   "outputs": [
    {
     "name": "stdout",
     "output_type": "stream",
     "text": [
      "CV Results for `log_pipe` model:\n",
      "            0.77718 ± 0.01162 accuracy\n",
      "            recall_score: 0.7466334638742267\n",
      "            precision_score: 0.8286463637855354\n",
      "            f1_score: 0.7586460472504087    \n",
      "        \n"
     ]
    }
   ],
   "source": [
    "log_pipe.print_cv_summary()"
   ]
  },
  {
   "cell_type": "markdown",
   "metadata": {},
   "source": [
    "##### Logistic Regression Tuning"
   ]
  },
  {
   "cell_type": "code",
   "execution_count": 38,
   "metadata": {
    "ExecuteTime": {
     "end_time": "2022-04-19T16:52:32.430178Z",
     "start_time": "2022-04-19T16:52:32.427678Z"
    }
   },
   "outputs": [],
   "source": [
    "params = {}\n",
    "\n",
    "params['logreg__solver'] = ['liblinear', 'sag']\n",
    "params['logreg__C'] = [.1,.3,.5]\n",
    "params['logreg__max_iter'] = [1, 5, 10]"
   ]
  },
  {
   "cell_type": "code",
   "execution_count": 39,
   "metadata": {
    "ExecuteTime": {
     "end_time": "2022-04-19T16:52:32.434794Z",
     "start_time": "2022-04-19T16:52:32.431218Z"
    }
   },
   "outputs": [],
   "source": [
    "gs_log = GridSearchCV(estimator=logreg_model_pipe, param_grid=params, cv=10)"
   ]
  },
  {
   "cell_type": "code",
   "execution_count": 40,
   "metadata": {
    "ExecuteTime": {
     "end_time": "2022-04-19T16:53:21.720219Z",
     "start_time": "2022-04-19T16:52:32.435977Z"
    }
   },
   "outputs": [],
   "source": [
    "gs_log.fit(X_train1, y_train1);"
   ]
  },
  {
   "cell_type": "code",
   "execution_count": 41,
   "metadata": {
    "ExecuteTime": {
     "end_time": "2022-04-19T16:53:21.723759Z",
     "start_time": "2022-04-19T16:53:21.721173Z"
    },
    "code_folding": []
   },
   "outputs": [
    {
     "data": {
      "text/plain": [
       "array([0.76538458, 0.7421907 , 0.77706509, 0.77387948, 0.77706509,\n",
       "       0.77728852, 0.76549628, 0.73811096, 0.77751208, 0.77114127,\n",
       "       0.77751208, 0.7772324 , 0.76549625, 0.73816654, 0.77734426,\n",
       "       0.77142119, 0.77734426, 0.77684122])"
      ]
     },
     "execution_count": 41,
     "metadata": {},
     "output_type": "execute_result"
    }
   ],
   "source": [
    "gs_log.cv_results_['mean_test_score']"
   ]
  },
  {
   "cell_type": "code",
   "execution_count": 42,
   "metadata": {
    "ExecuteTime": {
     "end_time": "2022-04-19T16:53:21.726594Z",
     "start_time": "2022-04-19T16:53:21.724579Z"
    }
   },
   "outputs": [
    {
     "data": {
      "text/plain": [
       "{'logreg__C': 0.3, 'logreg__max_iter': 5, 'logreg__solver': 'liblinear'}"
      ]
     },
     "execution_count": 42,
     "metadata": {},
     "output_type": "execute_result"
    }
   ],
   "source": [
    "gs_log.best_params_"
   ]
  },
  {
   "cell_type": "markdown",
   "metadata": {},
   "source": [
    "Best parameters  for logreg: 'logreg__C': 0.3, 'logreg__max_iter': 50, 'logreg__solver': 'liblinear'"
   ]
  },
  {
   "cell_type": "code",
   "execution_count": 43,
   "metadata": {
    "ExecuteTime": {
     "end_time": "2022-04-19T16:53:21.746784Z",
     "start_time": "2022-04-19T16:53:21.727328Z"
    }
   },
   "outputs": [
    {
     "data": {
      "text/plain": [
       "Pipeline(steps=[('ct',\n",
       "                 ColumnTransformer(transformers=[('subpipe_cat',\n",
       "                                                  Pipeline(steps=[('cat_impute',\n",
       "                                                                   SimpleImputer(strategy='most_frequent')),\n",
       "                                                                  ('ohe',\n",
       "                                                                   OneHotEncoder(drop='first',\n",
       "                                                                                 handle_unknown='ignore',\n",
       "                                                                                 sparse=False))]),\n",
       "                                                  Index(['behavioral_antiviral_meds', 'behavioral_avoidance',\n",
       "       'behavioral_face_mask', 'behavioral_wash_hands',\n",
       "       'behavioral_large_gatherings',...\n",
       "                                                  Pipeline(steps=[('num_impute',\n",
       "                                                                   SimpleImputer(strategy='median')),\n",
       "                                                                  ('ss',\n",
       "                                                                   StandardScaler())]),\n",
       "                                                  ['h1n1_concern',\n",
       "                                                   'h1n1_knowledge',\n",
       "                                                   'opinion_h1n1_vacc_effective',\n",
       "                                                   'opinion_h1n1_risk',\n",
       "                                                   'opinion_h1n1_sick_from_vacc',\n",
       "                                                   'opinion_seas_vacc_effective',\n",
       "                                                   'opinion_seas_risk',\n",
       "                                                   'opinion_seas_sick_from_vacc'])])),\n",
       "                ('logreg',\n",
       "                 LogisticRegression(C=0.3, max_iter=5, random_state=42,\n",
       "                                    solver='liblinear'))])"
      ]
     },
     "execution_count": 43,
     "metadata": {},
     "output_type": "execute_result"
    }
   ],
   "source": [
    "gs_log.best_estimator_"
   ]
  },
  {
   "cell_type": "code",
   "execution_count": 44,
   "metadata": {
    "ExecuteTime": {
     "end_time": "2022-04-19T16:53:21.750066Z",
     "start_time": "2022-04-19T16:53:21.747846Z"
    }
   },
   "outputs": [],
   "source": [
    "tuned_logreg_pipe = Pipeline(steps=[\n",
    "    ('ct', ct),\n",
    "    ('logreg', LogisticRegression(random_state=42, max_iter=5, solver='liblinear', C=.3))\n",
    "])"
   ]
  },
  {
   "cell_type": "code",
   "execution_count": 45,
   "metadata": {
    "ExecuteTime": {
     "end_time": "2022-04-19T16:53:24.568263Z",
     "start_time": "2022-04-19T16:53:21.751069Z"
    }
   },
   "outputs": [],
   "source": [
    "tlog_pipe = ModelWithCV(tuned_logreg_pipe, model_name='tlog_pipe', X=X_train1, y=y_train1)"
   ]
  },
  {
   "cell_type": "code",
   "execution_count": 46,
   "metadata": {
    "ExecuteTime": {
     "end_time": "2022-04-19T16:53:24.635381Z",
     "start_time": "2022-04-19T16:53:24.569315Z"
    },
    "scrolled": true
   },
   "outputs": [
    {
     "data": {
      "image/png": "[encoded data removed]",
      "text/plain": [
       "<Figure size 432x288 with 1 Axes>"
      ]
     },
     "metadata": {
      "needs_background": "light"
     },
     "output_type": "display_data"
    }
   ],
   "source": [
    "fig, ax = plt.subplots()\n",
    "\n",
    "tlog_pipe.plot_cv(ax=ax);"
   ]
  },
  {
   "cell_type": "code",
   "execution_count": 47,
   "metadata": {
    "ExecuteTime": {
     "end_time": "2022-04-19T16:53:33.252552Z",
     "start_time": "2022-04-19T16:53:24.636651Z"
    },
    "scrolled": true
   },
   "outputs": [
    {
     "name": "stdout",
     "output_type": "stream",
     "text": [
      "CV Results for `tlog_pipe` model:\n",
      "            0.77751 ± 0.01195 accuracy\n",
      "            recall_score: 0.7461571315057609\n",
      "            precision_score: 0.8288517338281706\n",
      "            f1_score: 0.7587960505203576    \n",
      "        \n"
     ]
    }
   ],
   "source": [
    "tlog_pipe.print_cv_summary()"
   ]
  },
  {
   "cell_type": "markdown",
   "metadata": {},
   "source": [
    "Pickle and save model."
   ]
  },
  {
   "cell_type": "code",
   "execution_count": 48,
   "metadata": {
    "ExecuteTime": {
     "end_time": "2022-04-19T16:53:33.302440Z",
     "start_time": "2022-04-19T16:53:33.253774Z"
    }
   },
   "outputs": [],
   "source": [
    "tlog_pickle = 'tuned_logreg.sav'\n",
    "pickle.dump(tlog_pipe, open(tlog_pickle, 'wb'))"
   ]
  },
  {
   "cell_type": "code",
   "execution_count": 250,
   "metadata": {
    "ExecuteTime": {
     "end_time": "2022-04-20T19:13:02.777279Z",
     "start_time": "2022-04-20T19:13:02.756988Z"
    }
   },
   "outputs": [],
   "source": [
    "# Accessing one-hot encoded feature names\n",
    "ohe_col_names = logreg_model_pipe.named_steps['ct'].named_transformers_['subpipe_cat']['ohe'].get_feature_names_out()\n",
    "\n",
    "# Converting to list\n",
    "ohe_cat_cols = ohe_col_names.tolist()"
   ]
  },
  {
   "cell_type": "code",
   "execution_count": 249,
   "metadata": {
    "ExecuteTime": {
     "end_time": "2022-04-20T19:12:35.238367Z",
     "start_time": "2022-04-20T19:12:35.213244Z"
    },
    "scrolled": true
   },
   "outputs": [
    {
     "data": {
      "text/plain": [
       "['h1n1_concern',\n",
       " 'h1n1_knowledge',\n",
       " 'opinion_h1n1_vacc_effective',\n",
       " 'opinion_h1n1_risk',\n",
       " 'opinion_h1n1_sick_from_vacc',\n",
       " 'opinion_seas_vacc_effective',\n",
       " 'opinion_seas_risk',\n",
       " 'opinion_seas_sick_from_vacc']"
      ]
     },
     "execution_count": 249,
     "metadata": {},
     "output_type": "execute_result"
    }
   ],
   "source": [
    "num_cols"
   ]
  },
  {
   "cell_type": "code",
   "execution_count": 252,
   "metadata": {
    "ExecuteTime": {
     "end_time": "2022-04-20T19:13:59.454415Z",
     "start_time": "2022-04-20T19:13:59.439292Z"
    },
    "scrolled": true
   },
   "outputs": [],
   "source": [
    "post_ct_cols = ohe_cat_cols + num_cols"
   ]
  },
  {
   "cell_type": "markdown",
   "metadata": {},
   "source": [
    "#### Nearest Neighbors Pipeline"
   ]
  },
  {
   "cell_type": "code",
   "execution_count": 49,
   "metadata": {
    "ExecuteTime": {
     "end_time": "2022-04-19T16:53:33.690262Z",
     "start_time": "2022-04-19T16:53:33.303414Z"
    },
    "scrolled": false
   },
   "outputs": [
    {
     "data": {
      "text/html": [
       "<div>\n",
       "<style scoped>\n",
       "    .dataframe tbody tr th:only-of-type {\n",
       "        vertical-align: middle;\n",
       "    }\n",
       "\n",
       "    .dataframe tbody tr th {\n",
       "        vertical-align: top;\n",
       "    }\n",
       "\n",
       "    .dataframe thead th {\n",
       "        text-align: right;\n",
       "    }\n",
       "</style>\n",
       "<table border=\"1\" class=\"dataframe\">\n",
       "  <thead>\n",
       "    <tr style=\"text-align: right;\">\n",
       "      <th></th>\n",
       "      <th>0</th>\n",
       "      <th>1</th>\n",
       "      <th>2</th>\n",
       "      <th>3</th>\n",
       "      <th>4</th>\n",
       "      <th>5</th>\n",
       "      <th>6</th>\n",
       "      <th>7</th>\n",
       "      <th>8</th>\n",
       "      <th>9</th>\n",
       "      <th>...</th>\n",
       "      <th>88</th>\n",
       "      <th>89</th>\n",
       "      <th>90</th>\n",
       "      <th>91</th>\n",
       "      <th>92</th>\n",
       "      <th>93</th>\n",
       "      <th>94</th>\n",
       "      <th>95</th>\n",
       "      <th>96</th>\n",
       "      <th>97</th>\n",
       "    </tr>\n",
       "  </thead>\n",
       "  <tbody>\n",
       "    <tr>\n",
       "      <th>count</th>\n",
       "      <td>17893.000000</td>\n",
       "      <td>17893.000000</td>\n",
       "      <td>17893.000000</td>\n",
       "      <td>17893.000000</td>\n",
       "      <td>17893.000000</td>\n",
       "      <td>17893.000000</td>\n",
       "      <td>17893.000000</td>\n",
       "      <td>17893.000000</td>\n",
       "      <td>17893.000000</td>\n",
       "      <td>17893.000000</td>\n",
       "      <td>...</td>\n",
       "      <td>17893.000000</td>\n",
       "      <td>17893.000000</td>\n",
       "      <td>1.789300e+04</td>\n",
       "      <td>1.789300e+04</td>\n",
       "      <td>1.789300e+04</td>\n",
       "      <td>1.789300e+04</td>\n",
       "      <td>1.789300e+04</td>\n",
       "      <td>1.789300e+04</td>\n",
       "      <td>1.789300e+04</td>\n",
       "      <td>1.789300e+04</td>\n",
       "    </tr>\n",
       "    <tr>\n",
       "      <th>mean</th>\n",
       "      <td>0.048902</td>\n",
       "      <td>0.725591</td>\n",
       "      <td>0.069692</td>\n",
       "      <td>0.821942</td>\n",
       "      <td>0.356564</td>\n",
       "      <td>0.337898</td>\n",
       "      <td>0.675124</td>\n",
       "      <td>0.203487</td>\n",
       "      <td>0.306041</td>\n",
       "      <td>0.275136</td>\n",
       "      <td>...</td>\n",
       "      <td>0.065445</td>\n",
       "      <td>0.009277</td>\n",
       "      <td>2.422350e-17</td>\n",
       "      <td>-1.052332e-16</td>\n",
       "      <td>3.027937e-17</td>\n",
       "      <td>7.981841e-17</td>\n",
       "      <td>-5.956598e-18</td>\n",
       "      <td>5.797756e-17</td>\n",
       "      <td>1.111898e-17</td>\n",
       "      <td>-4.487304e-17</td>\n",
       "    </tr>\n",
       "    <tr>\n",
       "      <th>std</th>\n",
       "      <td>0.215669</td>\n",
       "      <td>0.446228</td>\n",
       "      <td>0.254634</td>\n",
       "      <td>0.382573</td>\n",
       "      <td>0.478998</td>\n",
       "      <td>0.473007</td>\n",
       "      <td>0.468341</td>\n",
       "      <td>0.402603</td>\n",
       "      <td>0.460860</td>\n",
       "      <td>0.446595</td>\n",
       "      <td>...</td>\n",
       "      <td>0.247316</td>\n",
       "      <td>0.095874</td>\n",
       "      <td>1.000028e+00</td>\n",
       "      <td>1.000028e+00</td>\n",
       "      <td>1.000028e+00</td>\n",
       "      <td>1.000028e+00</td>\n",
       "      <td>1.000028e+00</td>\n",
       "      <td>1.000028e+00</td>\n",
       "      <td>1.000028e+00</td>\n",
       "      <td>1.000028e+00</td>\n",
       "    </tr>\n",
       "    <tr>\n",
       "      <th>min</th>\n",
       "      <td>0.000000</td>\n",
       "      <td>0.000000</td>\n",
       "      <td>0.000000</td>\n",
       "      <td>0.000000</td>\n",
       "      <td>0.000000</td>\n",
       "      <td>0.000000</td>\n",
       "      <td>0.000000</td>\n",
       "      <td>0.000000</td>\n",
       "      <td>0.000000</td>\n",
       "      <td>0.000000</td>\n",
       "      <td>...</td>\n",
       "      <td>0.000000</td>\n",
       "      <td>0.000000</td>\n",
       "      <td>-1.788306e+00</td>\n",
       "      <td>-2.049421e+00</td>\n",
       "      <td>-2.853217e+00</td>\n",
       "      <td>-1.051483e+00</td>\n",
       "      <td>-1.002707e+00</td>\n",
       "      <td>-2.833489e+00</td>\n",
       "      <td>-1.245505e+00</td>\n",
       "      <td>-8.452392e-01</td>\n",
       "    </tr>\n",
       "    <tr>\n",
       "      <th>25%</th>\n",
       "      <td>0.000000</td>\n",
       "      <td>0.000000</td>\n",
       "      <td>0.000000</td>\n",
       "      <td>1.000000</td>\n",
       "      <td>0.000000</td>\n",
       "      <td>0.000000</td>\n",
       "      <td>0.000000</td>\n",
       "      <td>0.000000</td>\n",
       "      <td>0.000000</td>\n",
       "      <td>0.000000</td>\n",
       "      <td>...</td>\n",
       "      <td>0.000000</td>\n",
       "      <td>0.000000</td>\n",
       "      <td>-6.865928e-01</td>\n",
       "      <td>-4.259798e-01</td>\n",
       "      <td>-8.528797e-01</td>\n",
       "      <td>-1.051483e+00</td>\n",
       "      <td>-1.002707e+00</td>\n",
       "      <td>-3.039182e-02</td>\n",
       "      <td>-5.188961e-01</td>\n",
       "      <td>-8.452392e-01</td>\n",
       "    </tr>\n",
       "    <tr>\n",
       "      <th>50%</th>\n",
       "      <td>0.000000</td>\n",
       "      <td>1.000000</td>\n",
       "      <td>0.000000</td>\n",
       "      <td>1.000000</td>\n",
       "      <td>0.000000</td>\n",
       "      <td>0.000000</td>\n",
       "      <td>1.000000</td>\n",
       "      <td>0.000000</td>\n",
       "      <td>0.000000</td>\n",
       "      <td>0.000000</td>\n",
       "      <td>...</td>\n",
       "      <td>0.000000</td>\n",
       "      <td>0.000000</td>\n",
       "      <td>4.151205e-01</td>\n",
       "      <td>-4.259798e-01</td>\n",
       "      <td>1.472892e-01</td>\n",
       "      <td>-2.704224e-01</td>\n",
       "      <td>-2.659226e-01</td>\n",
       "      <td>-3.039182e-02</td>\n",
       "      <td>-5.188961e-01</td>\n",
       "      <td>-8.946163e-02</td>\n",
       "    </tr>\n",
       "    <tr>\n",
       "      <th>75%</th>\n",
       "      <td>0.000000</td>\n",
       "      <td>1.000000</td>\n",
       "      <td>0.000000</td>\n",
       "      <td>1.000000</td>\n",
       "      <td>1.000000</td>\n",
       "      <td>1.000000</td>\n",
       "      <td>1.000000</td>\n",
       "      <td>0.000000</td>\n",
       "      <td>1.000000</td>\n",
       "      <td>1.000000</td>\n",
       "      <td>...</td>\n",
       "      <td>0.000000</td>\n",
       "      <td>0.000000</td>\n",
       "      <td>4.151205e-01</td>\n",
       "      <td>1.197462e+00</td>\n",
       "      <td>1.147458e+00</td>\n",
       "      <td>1.291698e+00</td>\n",
       "      <td>1.207646e+00</td>\n",
       "      <td>9.039739e-01</td>\n",
       "      <td>9.343216e-01</td>\n",
       "      <td>-8.946163e-02</td>\n",
       "    </tr>\n",
       "    <tr>\n",
       "      <th>max</th>\n",
       "      <td>1.000000</td>\n",
       "      <td>1.000000</td>\n",
       "      <td>1.000000</td>\n",
       "      <td>1.000000</td>\n",
       "      <td>1.000000</td>\n",
       "      <td>1.000000</td>\n",
       "      <td>1.000000</td>\n",
       "      <td>1.000000</td>\n",
       "      <td>1.000000</td>\n",
       "      <td>1.000000</td>\n",
       "      <td>...</td>\n",
       "      <td>1.000000</td>\n",
       "      <td>1.000000</td>\n",
       "      <td>1.516834e+00</td>\n",
       "      <td>1.197462e+00</td>\n",
       "      <td>1.147458e+00</td>\n",
       "      <td>2.072758e+00</td>\n",
       "      <td>1.944430e+00</td>\n",
       "      <td>9.039739e-01</td>\n",
       "      <td>1.660931e+00</td>\n",
       "      <td>2.177871e+00</td>\n",
       "    </tr>\n",
       "  </tbody>\n",
       "</table>\n",
       "<p>8 rows × 98 columns</p>\n",
       "</div>"
      ],
      "text/plain": [
       "                 0             1             2             3             4   \\\n",
       "count  17893.000000  17893.000000  17893.000000  17893.000000  17893.000000   \n",
       "mean       0.048902      0.725591      0.069692      0.821942      0.356564   \n",
       "std        0.215669      0.446228      0.254634      0.382573      0.478998   \n",
       "min        0.000000      0.000000      0.000000      0.000000      0.000000   \n",
       "25%        0.000000      0.000000      0.000000      1.000000      0.000000   \n",
       "50%        0.000000      1.000000      0.000000      1.000000      0.000000   \n",
       "75%        0.000000      1.000000      0.000000      1.000000      1.000000   \n",
       "max        1.000000      1.000000      1.000000      1.000000      1.000000   \n",
       "\n",
       "                 5             6             7             8             9   \\\n",
       "count  17893.000000  17893.000000  17893.000000  17893.000000  17893.000000   \n",
       "mean       0.337898      0.675124      0.203487      0.306041      0.275136   \n",
       "std        0.473007      0.468341      0.402603      0.460860      0.446595   \n",
       "min        0.000000      0.000000      0.000000      0.000000      0.000000   \n",
       "25%        0.000000      0.000000      0.000000      0.000000      0.000000   \n",
       "50%        0.000000      1.000000      0.000000      0.000000      0.000000   \n",
       "75%        1.000000      1.000000      0.000000      1.000000      1.000000   \n",
       "max        1.000000      1.000000      1.000000      1.000000      1.000000   \n",
       "\n",
       "       ...            88            89            90            91  \\\n",
       "count  ...  17893.000000  17893.000000  1.789300e+04  1.789300e+04   \n",
       "mean   ...      0.065445      0.009277  2.422350e-17 -1.052332e-16   \n",
       "std    ...      0.247316      0.095874  1.000028e+00  1.000028e+00   \n",
       "min    ...      0.000000      0.000000 -1.788306e+00 -2.049421e+00   \n",
       "25%    ...      0.000000      0.000000 -6.865928e-01 -4.259798e-01   \n",
       "50%    ...      0.000000      0.000000  4.151205e-01 -4.259798e-01   \n",
       "75%    ...      0.000000      0.000000  4.151205e-01  1.197462e+00   \n",
       "max    ...      1.000000      1.000000  1.516834e+00  1.197462e+00   \n",
       "\n",
       "                 92            93            94            95            96  \\\n",
       "count  1.789300e+04  1.789300e+04  1.789300e+04  1.789300e+04  1.789300e+04   \n",
       "mean   3.027937e-17  7.981841e-17 -5.956598e-18  5.797756e-17  1.111898e-17   \n",
       "std    1.000028e+00  1.000028e+00  1.000028e+00  1.000028e+00  1.000028e+00   \n",
       "min   -2.853217e+00 -1.051483e+00 -1.002707e+00 -2.833489e+00 -1.245505e+00   \n",
       "25%   -8.528797e-01 -1.051483e+00 -1.002707e+00 -3.039182e-02 -5.188961e-01   \n",
       "50%    1.472892e-01 -2.704224e-01 -2.659226e-01 -3.039182e-02 -5.188961e-01   \n",
       "75%    1.147458e+00  1.291698e+00  1.207646e+00  9.039739e-01  9.343216e-01   \n",
       "max    1.147458e+00  2.072758e+00  1.944430e+00  9.039739e-01  1.660931e+00   \n",
       "\n",
       "                 97  \n",
       "count  1.789300e+04  \n",
       "mean  -4.487304e-17  \n",
       "std    1.000028e+00  \n",
       "min   -8.452392e-01  \n",
       "25%   -8.452392e-01  \n",
       "50%   -8.946163e-02  \n",
       "75%   -8.946163e-02  \n",
       "max    2.177871e+00  \n",
       "\n",
       "[8 rows x 98 columns]"
      ]
     },
     "execution_count": 49,
     "metadata": {},
     "output_type": "execute_result"
    }
   ],
   "source": [
    "pd.DataFrame(ct.fit_transform(X_train1)).describe()"
   ]
  },
  {
   "cell_type": "code",
   "execution_count": 176,
   "metadata": {
    "ExecuteTime": {
     "end_time": "2022-04-20T16:54:21.762985Z",
     "start_time": "2022-04-20T16:54:21.744539Z"
    }
   },
   "outputs": [],
   "source": [
    "knn = KNeighborsClassifier()\n",
    "knn_model_pipe = Pipeline([('ct', ct), ('knn', knn)]) "
   ]
  },
  {
   "cell_type": "code",
   "execution_count": 177,
   "metadata": {
    "ExecuteTime": {
     "end_time": "2022-04-20T16:54:30.767549Z",
     "start_time": "2022-04-20T16:54:22.162255Z"
    }
   },
   "outputs": [],
   "source": [
    "knn_pipe = ModelWithCV(knn_model_pipe, 'knn_pipe', X_train1, y_train1)"
   ]
  },
  {
   "cell_type": "code",
   "execution_count": 52,
   "metadata": {
    "ExecuteTime": {
     "end_time": "2022-04-19T16:53:41.154684Z",
     "start_time": "2022-04-19T16:53:41.039959Z"
    }
   },
   "outputs": [
    {
     "data": {
      "image/png": "[encoded data removed]",
      "text/plain": [
       "<Figure size 432x288 with 1 Axes>"
      ]
     },
     "metadata": {
      "needs_background": "light"
     },
     "output_type": "display_data"
    }
   ],
   "source": [
    "fig, ax = plt.subplots()\n",
    "\n",
    "knn_pipe.plot_cv(ax=ax);"
   ]
  },
  {
   "cell_type": "code",
   "execution_count": 178,
   "metadata": {
    "ExecuteTime": {
     "end_time": "2022-04-20T16:54:53.213044Z",
     "start_time": "2022-04-20T16:54:30.769253Z"
    }
   },
   "outputs": [
    {
     "name": "stdout",
     "output_type": "stream",
     "text": [
      "CV Results for `knn_pipe` model:\n",
      "            0.72230 ± 0.01073 accuracy\n",
      "            recall_score: 0.7126701288381861\n",
      "            precision_score: 0.7137761625386754\n",
      "            f1_score: 0.7065149188240983    \n",
      "        \n"
     ]
    }
   ],
   "source": [
    "knn_pipe.print_cv_summary()"
   ]
  },
  {
   "cell_type": "markdown",
   "metadata": {},
   "source": [
    "##### Nearest Neighbors Tuning"
   ]
  },
  {
   "cell_type": "code",
   "execution_count": 179,
   "metadata": {
    "ExecuteTime": {
     "end_time": "2022-04-20T16:54:53.218196Z",
     "start_time": "2022-04-20T16:54:53.214614Z"
    }
   },
   "outputs": [],
   "source": [
    "params = {}\n",
    "\n",
    "params['knn__metric'] = ['euclidean', 'manhattan']\n",
    "params['knn__n_neighbors'] = [175, 200, 225]"
   ]
  },
  {
   "cell_type": "code",
   "execution_count": 180,
   "metadata": {
    "ExecuteTime": {
     "end_time": "2022-04-20T16:54:53.221284Z",
     "start_time": "2022-04-20T16:54:53.219467Z"
    }
   },
   "outputs": [],
   "source": [
    "gs_knn = GridSearchCV(estimator=knn_model_pipe, param_grid=params, cv=10)"
   ]
  },
  {
   "cell_type": "code",
   "execution_count": 181,
   "metadata": {
    "ExecuteTime": {
     "end_time": "2022-04-20T16:56:30.393772Z",
     "start_time": "2022-04-20T16:54:53.222126Z"
    }
   },
   "outputs": [],
   "source": [
    "gs_knn.fit(X_train1, y_train1);"
   ]
  },
  {
   "cell_type": "code",
   "execution_count": 57,
   "metadata": {
    "ExecuteTime": {
     "end_time": "2022-04-19T16:55:34.215302Z",
     "start_time": "2022-04-19T16:55:34.212125Z"
    }
   },
   "outputs": [
    {
     "data": {
      "text/plain": [
       "array([0.75510101, 0.75470969, 0.75487701, 0.75962733, 0.76085719,\n",
       "       0.75733627])"
      ]
     },
     "execution_count": 57,
     "metadata": {},
     "output_type": "execute_result"
    }
   ],
   "source": [
    "gs_knn.cv_results_['mean_test_score']"
   ]
  },
  {
   "cell_type": "code",
   "execution_count": 182,
   "metadata": {
    "ExecuteTime": {
     "end_time": "2022-04-20T16:56:30.399366Z",
     "start_time": "2022-04-20T16:56:30.395430Z"
    }
   },
   "outputs": [
    {
     "data": {
      "text/plain": [
       "{'knn__metric': 'manhattan', 'knn__n_neighbors': 200}"
      ]
     },
     "execution_count": 182,
     "metadata": {},
     "output_type": "execute_result"
    }
   ],
   "source": [
    "gs_knn.best_params_"
   ]
  },
  {
   "cell_type": "markdown",
   "metadata": {
    "ExecuteTime": {
     "end_time": "2022-04-18T16:04:12.083217Z",
     "start_time": "2022-04-18T16:04:12.081059Z"
    }
   },
   "source": [
    "knn best perameters: 'knn__metric': 'manhattan', 'knn__n_neighbors':200"
   ]
  },
  {
   "cell_type": "code",
   "execution_count": 183,
   "metadata": {
    "ExecuteTime": {
     "end_time": "2022-04-20T16:56:30.422805Z",
     "start_time": "2022-04-20T16:56:30.402808Z"
    }
   },
   "outputs": [
    {
     "data": {
      "text/plain": [
       "Pipeline(steps=[('ct',\n",
       "                 ColumnTransformer(transformers=[('subpipe_cat',\n",
       "                                                  Pipeline(steps=[('cat_impute',\n",
       "                                                                   SimpleImputer(strategy='most_frequent')),\n",
       "                                                                  ('ohe',\n",
       "                                                                   OneHotEncoder(drop='first',\n",
       "                                                                                 handle_unknown='ignore',\n",
       "                                                                                 sparse=False))]),\n",
       "                                                  Index(['behavioral_antiviral_meds', 'behavioral_avoidance',\n",
       "       'behavioral_face_mask', 'behavioral_wash_hands',\n",
       "       'behavioral_large_gatherings',...\n",
       "                                                  Pipeline(steps=[('num_impute',\n",
       "                                                                   SimpleImputer(strategy='median')),\n",
       "                                                                  ('ss',\n",
       "                                                                   StandardScaler())]),\n",
       "                                                  ['h1n1_concern',\n",
       "                                                   'h1n1_knowledge',\n",
       "                                                   'opinion_h1n1_vacc_effective',\n",
       "                                                   'opinion_h1n1_risk',\n",
       "                                                   'opinion_h1n1_sick_from_vacc',\n",
       "                                                   'opinion_seas_vacc_effective',\n",
       "                                                   'opinion_seas_risk',\n",
       "                                                   'opinion_seas_sick_from_vacc'])])),\n",
       "                ('knn',\n",
       "                 KNeighborsClassifier(metric='manhattan', n_neighbors=200))])"
      ]
     },
     "execution_count": 183,
     "metadata": {},
     "output_type": "execute_result"
    }
   ],
   "source": [
    "gs_knn.best_estimator_"
   ]
  },
  {
   "cell_type": "code",
   "execution_count": 59,
   "metadata": {
    "ExecuteTime": {
     "end_time": "2022-04-19T16:55:34.221341Z",
     "start_time": "2022-04-19T16:55:34.219368Z"
    }
   },
   "outputs": [],
   "source": [
    "tuned_knn_pipe = Pipeline([('ct', ct), ('knn', KNeighborsClassifier(metric='manhattan', n_neighbors=200))]) "
   ]
  },
  {
   "cell_type": "code",
   "execution_count": 60,
   "metadata": {
    "ExecuteTime": {
     "end_time": "2022-04-19T16:55:57.093879Z",
     "start_time": "2022-04-19T16:55:34.222545Z"
    }
   },
   "outputs": [],
   "source": [
    "tknn_pipe = ModelWithCV(tuned_knn_pipe, 'tknn_pipe', X_train1, y_train1)"
   ]
  },
  {
   "cell_type": "code",
   "execution_count": 61,
   "metadata": {
    "ExecuteTime": {
     "end_time": "2022-04-19T16:55:57.158070Z",
     "start_time": "2022-04-19T16:55:57.094926Z"
    }
   },
   "outputs": [
    {
     "data": {
      "image/png": "[encoded data removed]",
      "text/plain": [
       "<Figure size 432x288 with 1 Axes>"
      ]
     },
     "metadata": {
      "needs_background": "light"
     },
     "output_type": "display_data"
    }
   ],
   "source": [
    "fig, ax = plt.subplots()\n",
    "\n",
    "tknn_pipe.plot_cv(ax=ax);"
   ]
  },
  {
   "cell_type": "code",
   "execution_count": 62,
   "metadata": {
    "ExecuteTime": {
     "end_time": "2022-04-19T16:57:04.877225Z",
     "start_time": "2022-04-19T16:55:57.159248Z"
    }
   },
   "outputs": [
    {
     "name": "stdout",
     "output_type": "stream",
     "text": [
      "CV Results for `tknn_pipe` model:\n",
      "            0.76086 ± 0.01106 accuracy\n",
      "            recall_score: 0.7558094954310688\n",
      "            precision_score: 0.8099638161731366\n",
      "            f1_score: 0.7478056299135101    \n",
      "        \n"
     ]
    }
   ],
   "source": [
    "tknn_pipe.print_cv_summary()"
   ]
  },
  {
   "cell_type": "markdown",
   "metadata": {},
   "source": [
    "Pickle and save."
   ]
  },
  {
   "cell_type": "code",
   "execution_count": 63,
   "metadata": {
    "ExecuteTime": {
     "end_time": "2022-04-19T16:57:04.886876Z",
     "start_time": "2022-04-19T16:57:04.878391Z"
    }
   },
   "outputs": [],
   "source": [
    "tknn_pickle = 'tuned_knn.sav'\n",
    "pickle.dump(tknn_pipe, open(tknn_pickle, 'wb'))"
   ]
  },
  {
   "cell_type": "markdown",
   "metadata": {},
   "source": [
    "#### Random Forest Pipeline"
   ]
  },
  {
   "cell_type": "code",
   "execution_count": 161,
   "metadata": {
    "ExecuteTime": {
     "end_time": "2022-04-20T16:16:51.050975Z",
     "start_time": "2022-04-20T16:16:51.044390Z"
    }
   },
   "outputs": [],
   "source": [
    "# rfc!\n",
    "rfc = RandomForestClassifier(random_state=42)\n",
    "rfc_model_pipe = Pipeline([('ct', ct), ('rfc', rfc)])"
   ]
  },
  {
   "cell_type": "code",
   "execution_count": 65,
   "metadata": {
    "ExecuteTime": {
     "end_time": "2022-04-19T16:57:19.271809Z",
     "start_time": "2022-04-19T16:57:04.890842Z"
    }
   },
   "outputs": [],
   "source": [
    "forest_pipe = ModelWithCV(rfc_model_pipe, 'forest_pipe', X_train1, y_train1)"
   ]
  },
  {
   "cell_type": "code",
   "execution_count": 66,
   "metadata": {
    "ExecuteTime": {
     "end_time": "2022-04-19T16:57:19.330061Z",
     "start_time": "2022-04-19T16:57:19.272788Z"
    },
    "scrolled": true
   },
   "outputs": [
    {
     "data": {
      "image/png": "[encoded data removed]",
      "text/plain": [
       "<Figure size 432x288 with 1 Axes>"
      ]
     },
     "metadata": {
      "needs_background": "light"
     },
     "output_type": "display_data"
    }
   ],
   "source": [
    "fig, ax = plt.subplots()\n",
    "\n",
    "forest_pipe.plot_cv(ax=ax);"
   ]
  },
  {
   "cell_type": "code",
   "execution_count": 67,
   "metadata": {
    "ExecuteTime": {
     "end_time": "2022-04-19T16:58:02.812944Z",
     "start_time": "2022-04-19T16:57:19.331207Z"
    },
    "scrolled": true
   },
   "outputs": [
    {
     "name": "stdout",
     "output_type": "stream",
     "text": [
      "CV Results for `forest_pipe` model:\n",
      "            0.76974 ± 0.00926 accuracy\n",
      "            recall_score: 0.7372197627561156\n",
      "            precision_score: 0.8197726242046623\n",
      "            f1_score: 0.7501871236786735    \n",
      "        \n"
     ]
    }
   ],
   "source": [
    "forest_pipe.print_cv_summary()"
   ]
  },
  {
   "cell_type": "markdown",
   "metadata": {},
   "source": [
    "##### Random Forest Tuning"
   ]
  },
  {
   "cell_type": "code",
   "execution_count": 166,
   "metadata": {
    "ExecuteTime": {
     "end_time": "2022-04-20T16:29:11.517098Z",
     "start_time": "2022-04-20T16:29:11.501818Z"
    }
   },
   "outputs": [],
   "source": [
    "params = {}\n",
    "\n",
    "params['rfc__max_features'] = ['sqrt']\n",
    "params['rfc__n_estimators'] = [1000, 1250, 1500]"
   ]
  },
  {
   "cell_type": "code",
   "execution_count": 167,
   "metadata": {
    "ExecuteTime": {
     "end_time": "2022-04-20T16:29:11.739336Z",
     "start_time": "2022-04-20T16:29:11.723315Z"
    }
   },
   "outputs": [],
   "source": [
    "gs_rfc = GridSearchCV(estimator=rfc_model_pipe, param_grid=params, cv=10)"
   ]
  },
  {
   "cell_type": "code",
   "execution_count": 168,
   "metadata": {
    "ExecuteTime": {
     "end_time": "2022-04-20T16:38:31.805789Z",
     "start_time": "2022-04-20T16:29:12.022798Z"
    }
   },
   "outputs": [],
   "source": [
    "gs_rfc.fit(X_train1, y_train1); #11m"
   ]
  },
  {
   "cell_type": "code",
   "execution_count": 169,
   "metadata": {
    "ExecuteTime": {
     "end_time": "2022-04-20T16:38:31.822561Z",
     "start_time": "2022-04-20T16:38:31.809250Z"
    }
   },
   "outputs": [
    {
     "data": {
      "text/plain": [
       "array([0.77689743, 0.77728839, 0.77656192])"
      ]
     },
     "execution_count": 169,
     "metadata": {},
     "output_type": "execute_result"
    }
   ],
   "source": [
    "gs_rfc.cv_results_['mean_test_score']"
   ]
  },
  {
   "cell_type": "code",
   "execution_count": 170,
   "metadata": {
    "ExecuteTime": {
     "end_time": "2022-04-20T16:38:31.831044Z",
     "start_time": "2022-04-20T16:38:31.825680Z"
    }
   },
   "outputs": [
    {
     "data": {
      "text/plain": [
       "{'rfc__max_features': 'sqrt', 'rfc__n_estimators': 1250}"
      ]
     },
     "execution_count": 170,
     "metadata": {},
     "output_type": "execute_result"
    }
   ],
   "source": [
    "gs_rfc.best_params_"
   ]
  },
  {
   "cell_type": "markdown",
   "metadata": {},
   "source": [
    "Random Forest best params: 'rfc__max_features': 'sqrt', 'rfc__n_estimators': 1250"
   ]
  },
  {
   "cell_type": "code",
   "execution_count": 174,
   "metadata": {
    "ExecuteTime": {
     "end_time": "2022-04-20T16:39:36.653631Z",
     "start_time": "2022-04-20T16:39:36.605198Z"
    }
   },
   "outputs": [
    {
     "data": {
      "text/plain": [
       "Pipeline(steps=[('ct',\n",
       "                 ColumnTransformer(transformers=[('subpipe_cat',\n",
       "                                                  Pipeline(steps=[('cat_impute',\n",
       "                                                                   SimpleImputer(strategy='most_frequent')),\n",
       "                                                                  ('ohe',\n",
       "                                                                   OneHotEncoder(drop='first',\n",
       "                                                                                 handle_unknown='ignore',\n",
       "                                                                                 sparse=False))]),\n",
       "                                                  Index(['behavioral_antiviral_meds', 'behavioral_avoidance',\n",
       "       'behavioral_face_mask', 'behavioral_wash_hands',\n",
       "       'behavioral_large_gatherings',...\n",
       "                                                  Pipeline(steps=[('num_impute',\n",
       "                                                                   SimpleImputer(strategy='median')),\n",
       "                                                                  ('ss',\n",
       "                                                                   StandardScaler())]),\n",
       "                                                  ['h1n1_concern',\n",
       "                                                   'h1n1_knowledge',\n",
       "                                                   'opinion_h1n1_vacc_effective',\n",
       "                                                   'opinion_h1n1_risk',\n",
       "                                                   'opinion_h1n1_sick_from_vacc',\n",
       "                                                   'opinion_seas_vacc_effective',\n",
       "                                                   'opinion_seas_risk',\n",
       "                                                   'opinion_seas_sick_from_vacc'])])),\n",
       "                ('rfc',\n",
       "                 RandomForestClassifier(max_features='sqrt', n_estimators=1250,\n",
       "                                        random_state=42))])"
      ]
     },
     "execution_count": 174,
     "metadata": {},
     "output_type": "execute_result"
    }
   ],
   "source": [
    "gs_rfc.best_estimator_"
   ]
  },
  {
   "cell_type": "code",
   "execution_count": 184,
   "metadata": {
    "ExecuteTime": {
     "end_time": "2022-04-20T16:59:51.118466Z",
     "start_time": "2022-04-20T16:59:51.099242Z"
    }
   },
   "outputs": [],
   "source": [
    "rfc = RandomForestClassifier(random_state=42)\n",
    "tuned_rfc_pipe = Pipeline([('ct', ct), ('rfc', RandomForestClassifier(random_state=42, max_features='sqrt', n_estimators=1250))])"
   ]
  },
  {
   "cell_type": "code",
   "execution_count": 185,
   "metadata": {
    "ExecuteTime": {
     "end_time": "2022-04-20T17:02:44.643050Z",
     "start_time": "2022-04-20T16:59:51.461754Z"
    }
   },
   "outputs": [],
   "source": [
    "tforest_pipe = ModelWithCV(tuned_rfc_pipe, 'tforest_pipe', X_train1, y_train1) #2m"
   ]
  },
  {
   "cell_type": "code",
   "execution_count": 75,
   "metadata": {
    "ExecuteTime": {
     "end_time": "2022-04-19T17:13:09.249547Z",
     "start_time": "2022-04-19T17:13:09.175870Z"
    }
   },
   "outputs": [
    {
     "data": {
      "image/png": "[encoded data removed]",
      "text/plain": [
       "<Figure size 432x288 with 1 Axes>"
      ]
     },
     "metadata": {
      "needs_background": "light"
     },
     "output_type": "display_data"
    }
   ],
   "source": [
    "fig, ax = plt.subplots()\n",
    "\n",
    "tforest_pipe.plot_cv(ax=ax);"
   ]
  },
  {
   "cell_type": "code",
   "execution_count": 186,
   "metadata": {
    "ExecuteTime": {
     "end_time": "2022-04-20T17:11:46.181283Z",
     "start_time": "2022-04-20T17:02:44.645270Z"
    }
   },
   "outputs": [
    {
     "name": "stdout",
     "output_type": "stream",
     "text": [
      "CV Results for `tforest_pipe` model:\n",
      "            0.77729 ± 0.01016 accuracy\n",
      "            recall_score: 0.748303677847778\n",
      "            precision_score: 0.827178576571227\n",
      "            f1_score: 0.7591233315229753    \n",
      "        \n"
     ]
    }
   ],
   "source": [
    "tforest_pipe.print_cv_summary() #6.5m"
   ]
  },
  {
   "cell_type": "markdown",
   "metadata": {},
   "source": [
    "Pickle and save."
   ]
  },
  {
   "cell_type": "code",
   "execution_count": 187,
   "metadata": {
    "ExecuteTime": {
     "end_time": "2022-04-20T17:11:46.203919Z",
     "start_time": "2022-04-20T17:11:46.184148Z"
    }
   },
   "outputs": [],
   "source": [
    "tforest_pickle = 'tuned_forest.sav'\n",
    "pickle.dump(tforest_pipe, open(tforest_pickle, 'wb'))"
   ]
  },
  {
   "cell_type": "markdown",
   "metadata": {},
   "source": [
    "#### Gradient Booster"
   ]
  },
  {
   "cell_type": "code",
   "execution_count": 78,
   "metadata": {
    "ExecuteTime": {
     "end_time": "2022-04-19T17:19:36.400418Z",
     "start_time": "2022-04-19T17:19:36.397378Z"
    }
   },
   "outputs": [],
   "source": [
    "gbc = GradientBoostingClassifier(random_state=42)\n",
    "gbc_model_pipe = Pipeline([('ct', ct), ('gbc', gbc)])"
   ]
  },
  {
   "cell_type": "code",
   "execution_count": 79,
   "metadata": {
    "ExecuteTime": {
     "end_time": "2022-04-19T17:20:00.896803Z",
     "start_time": "2022-04-19T17:19:36.401395Z"
    }
   },
   "outputs": [],
   "source": [
    "boost_pipe = ModelWithCV(model=gbc_model_pipe,\n",
    "                         model_name='boost_pipe',\n",
    "                         X=X_train1,\n",
    "                         y=y_train1)"
   ]
  },
  {
   "cell_type": "code",
   "execution_count": 80,
   "metadata": {
    "ExecuteTime": {
     "end_time": "2022-04-19T17:20:00.978303Z",
     "start_time": "2022-04-19T17:20:00.898282Z"
    }
   },
   "outputs": [
    {
     "data": {
      "image/png": "[encoded data removed]",
      "text/plain": [
       "<Figure size 432x288 with 1 Axes>"
      ]
     },
     "metadata": {
      "needs_background": "light"
     },
     "output_type": "display_data"
    }
   ],
   "source": [
    "fig, ax = plt.subplots()\n",
    "\n",
    "boost_pipe.plot_cv(ax=ax);"
   ]
  },
  {
   "cell_type": "code",
   "execution_count": 81,
   "metadata": {
    "ExecuteTime": {
     "end_time": "2022-04-19T17:21:12.642782Z",
     "start_time": "2022-04-19T17:20:00.979337Z"
    }
   },
   "outputs": [
    {
     "name": "stdout",
     "output_type": "stream",
     "text": [
      "CV Results for `boost_pipe` model:\n",
      "            0.78008 ± 0.01134 accuracy\n",
      "            recall_score: 0.750687468074238\n",
      "            precision_score: 0.8334631002183975\n",
      "            f1_score: 0.7620078356718321    \n",
      "        \n"
     ]
    }
   ],
   "source": [
    "boost_pipe.print_cv_summary()"
   ]
  },
  {
   "cell_type": "markdown",
   "metadata": {},
   "source": [
    "##### Gradient Booster Tuning"
   ]
  },
  {
   "cell_type": "code",
   "execution_count": 82,
   "metadata": {
    "ExecuteTime": {
     "end_time": "2022-04-19T17:21:12.645802Z",
     "start_time": "2022-04-19T17:21:12.643841Z"
    }
   },
   "outputs": [],
   "source": [
    "params = {}\n",
    "\n",
    "params['gbc__learning_rate'] = [.025, .05, .1]\n",
    "params['gbc__n_estimators'] = [300, 350, 400]"
   ]
  },
  {
   "cell_type": "code",
   "execution_count": 83,
   "metadata": {
    "ExecuteTime": {
     "end_time": "2022-04-19T17:21:12.648294Z",
     "start_time": "2022-04-19T17:21:12.646697Z"
    }
   },
   "outputs": [],
   "source": [
    "gs_gbc = GridSearchCV(estimator=gbc_model_pipe, param_grid=params, cv=10)"
   ]
  },
  {
   "cell_type": "code",
   "execution_count": 84,
   "metadata": {
    "ExecuteTime": {
     "end_time": "2022-04-19T17:33:00.602616Z",
     "start_time": "2022-04-19T17:21:12.649116Z"
    }
   },
   "outputs": [],
   "source": [
    "gs_gbc.fit(X_train1, y_train1);"
   ]
  },
  {
   "cell_type": "code",
   "execution_count": 85,
   "metadata": {
    "ExecuteTime": {
     "end_time": "2022-04-19T17:33:00.607031Z",
     "start_time": "2022-04-19T17:33:00.603971Z"
    }
   },
   "outputs": [
    {
     "data": {
      "text/plain": [
       "array([0.77807099, 0.77874153, 0.78047428, 0.78075399, 0.78148031,\n",
       "       0.78058583, 0.78047403, 0.78075339, 0.77974759])"
      ]
     },
     "execution_count": 85,
     "metadata": {},
     "output_type": "execute_result"
    }
   ],
   "source": [
    "gs_gbc.cv_results_['mean_test_score']"
   ]
  },
  {
   "cell_type": "code",
   "execution_count": 86,
   "metadata": {
    "ExecuteTime": {
     "end_time": "2022-04-19T17:33:00.611188Z",
     "start_time": "2022-04-19T17:33:00.607919Z"
    }
   },
   "outputs": [
    {
     "data": {
      "text/plain": [
       "{'gbc__learning_rate': 0.05, 'gbc__n_estimators': 350}"
      ]
     },
     "execution_count": 86,
     "metadata": {},
     "output_type": "execute_result"
    }
   ],
   "source": [
    "gs_gbc.best_params_"
   ]
  },
  {
   "cell_type": "markdown",
   "metadata": {},
   "source": [
    "Gradient Booster best parmeters: 'gbc__learning_rate': 0.05, 'gbc__n_estimators': 350"
   ]
  },
  {
   "cell_type": "code",
   "execution_count": 89,
   "metadata": {
    "ExecuteTime": {
     "end_time": "2022-04-19T17:38:37.724117Z",
     "start_time": "2022-04-19T17:38:37.711198Z"
    }
   },
   "outputs": [],
   "source": [
    "gbc = GradientBoostingClassifier(random_state=42, learning_rate=.05, n_estimators=350)\n",
    "tuned_gbc_pipe = Pipeline([('ct', ct), ('gbc', gbc)])"
   ]
  },
  {
   "cell_type": "code",
   "execution_count": 90,
   "metadata": {
    "ExecuteTime": {
     "end_time": "2022-04-19T17:39:55.483636Z",
     "start_time": "2022-04-19T17:38:37.727685Z"
    }
   },
   "outputs": [],
   "source": [
    "tgbc_pipe = ModelWithCV(model=tuned_gbc_pipe,\n",
    "                         model_name='tgbc_pipe',\n",
    "                         X=X_train1,\n",
    "                         y=y_train1)"
   ]
  },
  {
   "cell_type": "code",
   "execution_count": 91,
   "metadata": {
    "ExecuteTime": {
     "end_time": "2022-04-19T17:39:55.553566Z",
     "start_time": "2022-04-19T17:39:55.485293Z"
    }
   },
   "outputs": [
    {
     "data": {
      "image/png": "[encoded data removed]",
      "text/plain": [
       "<Figure size 432x288 with 1 Axes>"
      ]
     },
     "metadata": {
      "needs_background": "light"
     },
     "output_type": "display_data"
    }
   ],
   "source": [
    "fig, ax = plt.subplots()\n",
    "\n",
    "tgbc_pipe.plot_cv(ax=ax);"
   ]
  },
  {
   "cell_type": "code",
   "execution_count": 92,
   "metadata": {
    "ExecuteTime": {
     "end_time": "2022-04-19T17:43:46.976209Z",
     "start_time": "2022-04-19T17:39:55.555210Z"
    }
   },
   "outputs": [
    {
     "name": "stdout",
     "output_type": "stream",
     "text": [
      "CV Results for `tgbc_pipe` model:\n",
      "            0.78148 ± 0.01160 accuracy\n",
      "            recall_score: 0.7530704069470457\n",
      "            precision_score: 0.8352472411012861\n",
      "            f1_score: 0.7637401536031916    \n",
      "        \n"
     ]
    }
   ],
   "source": [
    "tgbc_pipe.print_cv_summary()"
   ]
  },
  {
   "cell_type": "code",
   "execution_count": null,
   "metadata": {},
   "outputs": [],
   "source": []
  },
  {
   "cell_type": "markdown",
   "metadata": {},
   "source": [
    "Pickle and save"
   ]
  },
  {
   "cell_type": "code",
   "execution_count": 93,
   "metadata": {
    "ExecuteTime": {
     "end_time": "2022-04-19T17:43:46.988855Z",
     "start_time": "2022-04-19T17:43:46.977386Z"
    }
   },
   "outputs": [],
   "source": [
    "tgbc_pickle = 'tuned_gboost.sav'\n",
    "pickle.dump(tgbc_pipe, open(tgbc_pickle, 'wb'))"
   ]
  },
  {
   "cell_type": "markdown",
   "metadata": {},
   "source": [
    "#### AdaBoost "
   ]
  },
  {
   "cell_type": "code",
   "execution_count": 191,
   "metadata": {
    "ExecuteTime": {
     "end_time": "2022-04-20T17:15:25.548075Z",
     "start_time": "2022-04-20T17:15:25.531506Z"
    }
   },
   "outputs": [],
   "source": [
    "ada = AdaBoostClassifier()\n",
    "ada_model_pipe = Pipeline([('ct', ct), ('ada', ada)])"
   ]
  },
  {
   "cell_type": "code",
   "execution_count": 192,
   "metadata": {
    "ExecuteTime": {
     "end_time": "2022-04-20T17:15:34.981176Z",
     "start_time": "2022-04-20T17:15:25.794154Z"
    }
   },
   "outputs": [],
   "source": [
    "ada_pipe = ModelWithCV(model=ada_model_pipe,\n",
    "                         model_name='ada_pipe',\n",
    "                         X=X_train1,\n",
    "                         y=y_train1) #8s"
   ]
  },
  {
   "cell_type": "code",
   "execution_count": 96,
   "metadata": {
    "ExecuteTime": {
     "end_time": "2022-04-19T17:43:54.814557Z",
     "start_time": "2022-04-19T17:43:54.747216Z"
    },
    "scrolled": true
   },
   "outputs": [
    {
     "data": {
      "image/png": "[encoded data removed]",
      "text/plain": [
       "<Figure size 432x288 with 1 Axes>"
      ]
     },
     "metadata": {
      "needs_background": "light"
     },
     "output_type": "display_data"
    }
   ],
   "source": [
    "fig, ax = plt.subplots()\n",
    "\n",
    "ada_pipe.plot_cv(ax=ax);"
   ]
  },
  {
   "cell_type": "code",
   "execution_count": 193,
   "metadata": {
    "ExecuteTime": {
     "end_time": "2022-04-20T17:15:59.771688Z",
     "start_time": "2022-04-20T17:15:34.987251Z"
    },
    "scrolled": true
   },
   "outputs": [
    {
     "name": "stdout",
     "output_type": "stream",
     "text": [
      "CV Results for `ada_pipe` model:\n",
      "            0.77723 ± 0.01395 accuracy\n",
      "            recall_score: 0.7368603496225666\n",
      "            precision_score: 0.8289267340215444\n",
      "            f1_score: 0.7562475848416511    \n",
      "        \n"
     ]
    }
   ],
   "source": [
    "ada_pipe.print_cv_summary() #23s"
   ]
  },
  {
   "cell_type": "markdown",
   "metadata": {},
   "source": [
    "##### Adaboost Tuning"
   ]
  },
  {
   "cell_type": "code",
   "execution_count": 213,
   "metadata": {
    "ExecuteTime": {
     "end_time": "2022-04-20T17:44:17.599578Z",
     "start_time": "2022-04-20T17:44:17.585719Z"
    }
   },
   "outputs": [],
   "source": [
    "params = {}\n",
    "\n",
    "params['ada__learning_rate'] = [1, 1.25, 1.5]\n",
    "params['ada__n_estimators'] = [150, 200, 225]"
   ]
  },
  {
   "cell_type": "code",
   "execution_count": 214,
   "metadata": {
    "ExecuteTime": {
     "end_time": "2022-04-20T17:44:17.715646Z",
     "start_time": "2022-04-20T17:44:17.711616Z"
    }
   },
   "outputs": [],
   "source": [
    "gs_ada = GridSearchCV(estimator=ada_model_pipe, param_grid=params, cv=10)"
   ]
  },
  {
   "cell_type": "code",
   "execution_count": 215,
   "metadata": {
    "ExecuteTime": {
     "end_time": "2022-04-20T17:48:11.286601Z",
     "start_time": "2022-04-20T17:44:17.903530Z"
    }
   },
   "outputs": [],
   "source": [
    "gs_ada.fit(X_train1, y_train1); #5m"
   ]
  },
  {
   "cell_type": "code",
   "execution_count": 101,
   "metadata": {
    "ExecuteTime": {
     "end_time": "2022-04-19T17:49:17.486998Z",
     "start_time": "2022-04-19T17:49:17.477419Z"
    }
   },
   "outputs": [
    {
     "data": {
      "text/plain": [
       "array([0.77846224, 0.77857394, 0.77807092, 0.77790308, 0.77818241,\n",
       "       0.77885311, 0.77896487, 0.77879727, 0.77885314])"
      ]
     },
     "execution_count": 101,
     "metadata": {},
     "output_type": "execute_result"
    }
   ],
   "source": [
    "gs_ada.cv_results_['mean_test_score']"
   ]
  },
  {
   "cell_type": "code",
   "execution_count": 216,
   "metadata": {
    "ExecuteTime": {
     "end_time": "2022-04-20T17:48:11.293485Z",
     "start_time": "2022-04-20T17:48:11.289068Z"
    },
    "scrolled": true
   },
   "outputs": [
    {
     "data": {
      "text/plain": [
       "{'ada__learning_rate': 1.25, 'ada__n_estimators': 200}"
      ]
     },
     "execution_count": 216,
     "metadata": {},
     "output_type": "execute_result"
    }
   ],
   "source": [
    "gs_ada.best_params_"
   ]
  },
  {
   "cell_type": "markdown",
   "metadata": {},
   "source": [
    "Adaboost best parameters: 'ada__learning_rate': 1.25, 'ada__n_estimators': 200"
   ]
  },
  {
   "cell_type": "code",
   "execution_count": 198,
   "metadata": {
    "ExecuteTime": {
     "end_time": "2022-04-20T17:19:51.375770Z",
     "start_time": "2022-04-20T17:19:51.346997Z"
    },
    "collapsed": true
   },
   "outputs": [
    {
     "data": {
      "text/plain": [
       "Pipeline(steps=[('ct',\n",
       "                 ColumnTransformer(transformers=[('subpipe_cat',\n",
       "                                                  Pipeline(steps=[('cat_impute',\n",
       "                                                                   SimpleImputer(strategy='most_frequent')),\n",
       "                                                                  ('ohe',\n",
       "                                                                   OneHotEncoder(drop='first',\n",
       "                                                                                 handle_unknown='ignore',\n",
       "                                                                                 sparse=False))]),\n",
       "                                                  Index(['behavioral_antiviral_meds', 'behavioral_avoidance',\n",
       "       'behavioral_face_mask', 'behavioral_wash_hands',\n",
       "       'behavioral_large_gatherings',...\n",
       "                                                  Pipeline(steps=[('num_impute',\n",
       "                                                                   SimpleImputer(strategy='median')),\n",
       "                                                                  ('ss',\n",
       "                                                                   StandardScaler())]),\n",
       "                                                  ['h1n1_concern',\n",
       "                                                   'h1n1_knowledge',\n",
       "                                                   'opinion_h1n1_vacc_effective',\n",
       "                                                   'opinion_h1n1_risk',\n",
       "                                                   'opinion_h1n1_sick_from_vacc',\n",
       "                                                   'opinion_seas_vacc_effective',\n",
       "                                                   'opinion_seas_risk',\n",
       "                                                   'opinion_seas_sick_from_vacc'])])),\n",
       "                ('ada',\n",
       "                 AdaBoostClassifier(learning_rate=1.25, n_estimators=200))])"
      ]
     },
     "execution_count": 198,
     "metadata": {},
     "output_type": "execute_result"
    }
   ],
   "source": [
    "gs_ada.best_estimator_"
   ]
  },
  {
   "cell_type": "code",
   "execution_count": 217,
   "metadata": {
    "ExecuteTime": {
     "end_time": "2022-04-20T17:51:43.389889Z",
     "start_time": "2022-04-20T17:51:43.378399Z"
    }
   },
   "outputs": [],
   "source": [
    "tuned_ada_pipe = Pipeline([('ct', ct), ('ada', AdaBoostClassifier(learning_rate=1.25, n_estimators=200))])"
   ]
  },
  {
   "cell_type": "code",
   "execution_count": 218,
   "metadata": {
    "ExecuteTime": {
     "end_time": "2022-04-20T17:52:12.026758Z",
     "start_time": "2022-04-20T17:51:45.616519Z"
    }
   },
   "outputs": [],
   "source": [
    "tada_pipe = ModelWithCV(model=tuned_ada_pipe,\n",
    "                         model_name='tada_pipe',\n",
    "                         X=X_train1,\n",
    "                         y=y_train1) #42s"
   ]
  },
  {
   "cell_type": "code",
   "execution_count": 105,
   "metadata": {
    "ExecuteTime": {
     "end_time": "2022-04-19T17:49:59.254570Z",
     "start_time": "2022-04-19T17:49:59.192267Z"
    }
   },
   "outputs": [
    {
     "data": {
      "image/png": "[encoded data removed]",
      "text/plain": [
       "<Figure size 432x288 with 1 Axes>"
      ]
     },
     "metadata": {
      "needs_background": "light"
     },
     "output_type": "display_data"
    }
   ],
   "source": [
    "fig, ax = plt.subplots()\n",
    "\n",
    "tada_pipe.plot_cv(ax=ax);"
   ]
  },
  {
   "cell_type": "code",
   "execution_count": 219,
   "metadata": {
    "ExecuteTime": {
     "end_time": "2022-04-20T17:53:31.521982Z",
     "start_time": "2022-04-20T17:52:12.029329Z"
    }
   },
   "outputs": [
    {
     "name": "stdout",
     "output_type": "stream",
     "text": [
      "CV Results for `tada_pipe` model:\n",
      "            0.77958 ± 0.01133 accuracy\n",
      "            recall_score: 0.7396024178443725\n",
      "            precision_score: 0.8310824545310005\n",
      "            f1_score: 0.7588925692310653    \n",
      "        \n"
     ]
    }
   ],
   "source": [
    "tada_pipe.print_cv_summary() #2m 5s"
   ]
  },
  {
   "cell_type": "markdown",
   "metadata": {},
   "source": [
    "Pickle and save."
   ]
  },
  {
   "cell_type": "code",
   "execution_count": 220,
   "metadata": {
    "ExecuteTime": {
     "end_time": "2022-04-20T17:53:31.544127Z",
     "start_time": "2022-04-20T17:53:31.524046Z"
    }
   },
   "outputs": [],
   "source": [
    "tada_pickle = 'tuned_ada.sav'\n",
    "pickle.dump(tada_pipe, open(tada_pickle, 'wb'))"
   ]
  },
  {
   "cell_type": "markdown",
   "metadata": {},
   "source": [
    "#### XGBoost "
   ]
  },
  {
   "cell_type": "code",
   "execution_count": 121,
   "metadata": {
    "ExecuteTime": {
     "end_time": "2022-04-19T18:03:43.158902Z",
     "start_time": "2022-04-19T18:03:43.151618Z"
    }
   },
   "outputs": [],
   "source": [
    "xgb = xgboost.XGBClassifier(random_state=42, n_jobs=-1)\n",
    "xgb_model_pipe = Pipeline([('ct', ct), ('xgb', xgb)])"
   ]
  },
  {
   "cell_type": "code",
   "execution_count": 122,
   "metadata": {
    "ExecuteTime": {
     "end_time": "2022-04-19T18:04:51.406345Z",
     "start_time": "2022-04-19T18:03:43.872344Z"
    }
   },
   "outputs": [],
   "source": [
    "xgb_pipe = ModelWithCV(model=xgb_model_pipe,\n",
    "                         model_name='xgb_pipe',\n",
    "                         X=X_train1,\n",
    "                         y=y_train1)"
   ]
  },
  {
   "cell_type": "code",
   "execution_count": 123,
   "metadata": {
    "ExecuteTime": {
     "end_time": "2022-04-19T18:04:51.492002Z",
     "start_time": "2022-04-19T18:04:51.407488Z"
    }
   },
   "outputs": [
    {
     "data": {
      "image/png": "[encoded data removed]",
      "text/plain": [
       "<Figure size 432x288 with 1 Axes>"
      ]
     },
     "metadata": {
      "needs_background": "light"
     },
     "output_type": "display_data"
    }
   ],
   "source": [
    "fig, ax = plt.subplots()\n",
    "\n",
    "xgb_pipe.plot_cv(ax=ax);"
   ]
  },
  {
   "cell_type": "code",
   "execution_count": 124,
   "metadata": {
    "ExecuteTime": {
     "end_time": "2022-04-19T18:15:09.709100Z",
     "start_time": "2022-04-19T18:04:51.493669Z"
    }
   },
   "outputs": [
    {
     "name": "stdout",
     "output_type": "stream",
     "text": [
      "CV Results for `xgb_pipe` model:\n",
      "            0.77058 ± 0.01081 accuracy\n",
      "            recall_score: 0.7469921675463989\n",
      "            precision_score: 0.8215447795616466\n",
      "            f1_score: 0.7533516795955586    \n",
      "        \n"
     ]
    }
   ],
   "source": [
    "xgb_pipe.print_cv_summary()"
   ]
  },
  {
   "cell_type": "markdown",
   "metadata": {},
   "source": [
    "##### XGBoost Tuning"
   ]
  },
  {
   "cell_type": "code",
   "execution_count": 125,
   "metadata": {
    "ExecuteTime": {
     "end_time": "2022-04-19T18:16:24.685844Z",
     "start_time": "2022-04-19T18:16:24.677583Z"
    }
   },
   "outputs": [],
   "source": [
    "params = {}\n",
    "\n",
    "params['xgb__learning_rate'] = [.01, .05, .1]\n",
    "params['xgb__n_estimators'] = [100, 150, 200]"
   ]
  },
  {
   "cell_type": "code",
   "execution_count": 128,
   "metadata": {
    "ExecuteTime": {
     "end_time": "2022-04-19T18:57:47.075548Z",
     "start_time": "2022-04-19T18:57:47.058950Z"
    }
   },
   "outputs": [],
   "source": [
    "gs_xgb = GridSearchCV(estimator=xgb_model_pipe, param_grid=params, cv=10)"
   ]
  },
  {
   "cell_type": "code",
   "execution_count": 129,
   "metadata": {
    "ExecuteTime": {
     "end_time": "2022-04-19T19:12:50.811369Z",
     "start_time": "2022-04-19T18:57:47.078567Z"
    },
    "scrolled": false
   },
   "outputs": [],
   "source": [
    "gs_xgb.fit(X_train1, y_train1);"
   ]
  },
  {
   "cell_type": "code",
   "execution_count": 130,
   "metadata": {
    "ExecuteTime": {
     "end_time": "2022-04-19T19:12:50.822551Z",
     "start_time": "2022-04-19T19:12:50.813287Z"
    }
   },
   "outputs": [
    {
     "data": {
      "text/plain": [
       "array([0.76834626, 0.77046994, 0.7716435 , 0.77924467, 0.78058601,\n",
       "       0.77941224, 0.78041839, 0.77952416, 0.77600289])"
      ]
     },
     "execution_count": 130,
     "metadata": {},
     "output_type": "execute_result"
    }
   ],
   "source": [
    "gs_xgb.cv_results_['mean_test_score']"
   ]
  },
  {
   "cell_type": "code",
   "execution_count": 131,
   "metadata": {
    "ExecuteTime": {
     "end_time": "2022-04-19T19:12:50.825842Z",
     "start_time": "2022-04-19T19:12:50.823792Z"
    }
   },
   "outputs": [
    {
     "data": {
      "text/plain": [
       "{'xgb__learning_rate': 0.05, 'xgb__n_estimators': 150}"
      ]
     },
     "execution_count": 131,
     "metadata": {},
     "output_type": "execute_result"
    }
   ],
   "source": [
    "gs_xgb.best_params_"
   ]
  },
  {
   "cell_type": "markdown",
   "metadata": {},
   "source": [
    "Best parameters XGBoost: learning rate: .05, n_estimators: 150"
   ]
  },
  {
   "cell_type": "code",
   "execution_count": 132,
   "metadata": {
    "ExecuteTime": {
     "end_time": "2022-04-19T19:12:50.861018Z",
     "start_time": "2022-04-19T19:12:50.827863Z"
    },
    "scrolled": true
   },
   "outputs": [
    {
     "data": {
      "text/plain": [
       "Pipeline(steps=[('ct',\n",
       "                 ColumnTransformer(transformers=[('subpipe_cat',\n",
       "                                                  Pipeline(steps=[('cat_impute',\n",
       "                                                                   SimpleImputer(strategy='most_frequent')),\n",
       "                                                                  ('ohe',\n",
       "                                                                   OneHotEncoder(drop='first',\n",
       "                                                                                 handle_unknown='ignore',\n",
       "                                                                                 sparse=False))]),\n",
       "                                                  Index(['behavioral_antiviral_meds', 'behavioral_avoidance',\n",
       "       'behavioral_face_mask', 'behavioral_wash_hands',\n",
       "       'behavioral_large_gatherings',...\n",
       "                               colsample_bytree=1, gamma=0, gpu_id=-1,\n",
       "                               importance_type='gain',\n",
       "                               interaction_constraints='', learning_rate=0.05,\n",
       "                               max_delta_step=0, max_depth=6,\n",
       "                               min_child_weight=1, missing=nan,\n",
       "                               monotone_constraints='()', n_estimators=150,\n",
       "                               n_jobs=-1, num_parallel_tree=1, random_state=42,\n",
       "                               reg_alpha=0, reg_lambda=1, scale_pos_weight=1,\n",
       "                               subsample=1, tree_method='exact',\n",
       "                               validate_parameters=1, verbosity=None))])"
      ]
     },
     "execution_count": 132,
     "metadata": {},
     "output_type": "execute_result"
    }
   ],
   "source": [
    "gs_xgb.best_estimator_"
   ]
  },
  {
   "cell_type": "code",
   "execution_count": 133,
   "metadata": {
    "ExecuteTime": {
     "end_time": "2022-04-19T19:12:50.866092Z",
     "start_time": "2022-04-19T19:12:50.862548Z"
    }
   },
   "outputs": [],
   "source": [
    "tuned_xgb_pipe = Pipeline([('ct', ct), ('xgb', xgboost.XGBClassifier(random_state=42, learning_rate=.05, n_estimators=150))])"
   ]
  },
  {
   "cell_type": "code",
   "execution_count": 134,
   "metadata": {
    "ExecuteTime": {
     "end_time": "2022-04-19T19:14:30.948323Z",
     "start_time": "2022-04-19T19:12:50.867902Z"
    }
   },
   "outputs": [],
   "source": [
    "txgb_pipe = ModelWithCV(model=tuned_xgb_pipe,\n",
    "                         model_name='txgb_pipe',\n",
    "                         X=X_train1,\n",
    "                         y=y_train1)"
   ]
  },
  {
   "cell_type": "code",
   "execution_count": 135,
   "metadata": {
    "ExecuteTime": {
     "end_time": "2022-04-19T19:14:31.062061Z",
     "start_time": "2022-04-19T19:14:30.953423Z"
    }
   },
   "outputs": [
    {
     "data": {
      "image/png": "[encoded data removed]",
      "text/plain": [
       "<Figure size 432x288 with 1 Axes>"
      ]
     },
     "metadata": {
      "needs_background": "light"
     },
     "output_type": "display_data"
    }
   ],
   "source": [
    "fig, ax = plt.subplots()\n",
    "\n",
    "txgb_pipe.plot_cv(ax=ax);"
   ]
  },
  {
   "cell_type": "code",
   "execution_count": 136,
   "metadata": {
    "ExecuteTime": {
     "end_time": "2022-04-19T19:19:28.619760Z",
     "start_time": "2022-04-19T19:14:31.064291Z"
    }
   },
   "outputs": [
    {
     "name": "stdout",
     "output_type": "stream",
     "text": [
      "CV Results for `txgb_pipe` model:\n",
      "            0.78059 ± 0.01259 accuracy\n",
      "            recall_score: 0.7530699812702195\n",
      "            precision_score: 0.8342093756891588\n",
      "            f1_score: 0.763022810754403    \n",
      "        \n"
     ]
    }
   ],
   "source": [
    "txgb_pipe.print_cv_summary()"
   ]
  },
  {
   "cell_type": "markdown",
   "metadata": {},
   "source": [
    "Pickle and save."
   ]
  },
  {
   "cell_type": "code",
   "execution_count": 137,
   "metadata": {
    "ExecuteTime": {
     "end_time": "2022-04-19T19:19:28.640852Z",
     "start_time": "2022-04-19T19:19:28.620956Z"
    }
   },
   "outputs": [],
   "source": [
    "txgb_pickle = 'tuned_xgb.sav'\n",
    "pickle.dump(txgb_pipe, open(txgb_pickle, 'wb'))"
   ]
  },
  {
   "cell_type": "markdown",
   "metadata": {},
   "source": [
    "#### Extra Trees Classifier"
   ]
  },
  {
   "cell_type": "code",
   "execution_count": 200,
   "metadata": {
    "ExecuteTime": {
     "end_time": "2022-04-20T17:24:31.176575Z",
     "start_time": "2022-04-20T17:24:31.162585Z"
    }
   },
   "outputs": [],
   "source": [
    "etc = ExtraTreesClassifier(max_features='sqrt', max_samples=.5, bootstrap=True, random_state=42)\n",
    "etc_model_pipe = Pipeline([('ct', ct), ('etc', etc)])"
   ]
  },
  {
   "cell_type": "code",
   "execution_count": 201,
   "metadata": {
    "ExecuteTime": {
     "end_time": "2022-04-20T17:24:41.461020Z",
     "start_time": "2022-04-20T17:24:31.671849Z"
    }
   },
   "outputs": [],
   "source": [
    "etc_pipe = ModelWithCV(model=etc_model_pipe,\n",
    "                         model_name='etc_pipe',\n",
    "                         X=X_train1,\n",
    "                         y=y_train1) #10s"
   ]
  },
  {
   "cell_type": "code",
   "execution_count": 202,
   "metadata": {
    "ExecuteTime": {
     "end_time": "2022-04-20T17:24:41.590055Z",
     "start_time": "2022-04-20T17:24:41.462063Z"
    }
   },
   "outputs": [
    {
     "data": {
      "image/png": "[encoded data removed]",
      "text/plain": [
       "<Figure size 432x288 with 1 Axes>"
      ]
     },
     "metadata": {
      "needs_background": "light"
     },
     "output_type": "display_data"
    }
   ],
   "source": [
    "fig, ax = plt.subplots()\n",
    "\n",
    "etc_pipe.plot_cv(ax=ax);"
   ]
  },
  {
   "cell_type": "code",
   "execution_count": 203,
   "metadata": {
    "ExecuteTime": {
     "end_time": "2022-04-20T17:25:10.323032Z",
     "start_time": "2022-04-20T17:24:41.592723Z"
    }
   },
   "outputs": [
    {
     "name": "stdout",
     "output_type": "stream",
     "text": [
      "CV Results for `etc_pipe` model:\n",
      "            0.77047 ± 0.01051 accuracy\n",
      "            recall_score: 0.7311413814631933\n",
      "            precision_score: 0.81660908330488\n",
      "            f1_score: 0.7492093931985719    \n",
      "        \n"
     ]
    }
   ],
   "source": [
    "etc_pipe.print_cv_summary() #28s"
   ]
  },
  {
   "cell_type": "markdown",
   "metadata": {},
   "source": [
    "##### Extra Trees Tuning"
   ]
  },
  {
   "cell_type": "code",
   "execution_count": 204,
   "metadata": {
    "ExecuteTime": {
     "end_time": "2022-04-20T17:25:10.327016Z",
     "start_time": "2022-04-20T17:25:10.324659Z"
    }
   },
   "outputs": [],
   "source": [
    "params = {}\n",
    "\n",
    "params['etc__max_depth'] = [25, 50, 100]\n",
    "params['etc__n_estimators'] = [250, 500, 750]"
   ]
  },
  {
   "cell_type": "code",
   "execution_count": 205,
   "metadata": {
    "ExecuteTime": {
     "end_time": "2022-04-20T17:25:10.332412Z",
     "start_time": "2022-04-20T17:25:10.330736Z"
    }
   },
   "outputs": [],
   "source": [
    "gs_etc = GridSearchCV(estimator=etc_model_pipe, param_grid=params, cv=10)"
   ]
  },
  {
   "cell_type": "code",
   "execution_count": 206,
   "metadata": {
    "ExecuteTime": {
     "end_time": "2022-04-20T17:31:12.217972Z",
     "start_time": "2022-04-20T17:25:10.333461Z"
    }
   },
   "outputs": [],
   "source": [
    "gs_etc.fit(X_train1, y_train1); #6m"
   ]
  },
  {
   "cell_type": "code",
   "execution_count": 145,
   "metadata": {
    "ExecuteTime": {
     "end_time": "2022-04-19T19:25:45.668821Z",
     "start_time": "2022-04-19T19:25:45.665594Z"
    }
   },
   "outputs": [
    {
     "data": {
      "text/plain": [
       "array([0.77376734, 0.77421443, 0.77432647, 0.77427085, 0.77488525,\n",
       "       0.77359965, 0.77371191, 0.7746617 , 0.77399087])"
      ]
     },
     "execution_count": 145,
     "metadata": {},
     "output_type": "execute_result"
    }
   ],
   "source": [
    "gs_etc.cv_results_['mean_test_score']"
   ]
  },
  {
   "cell_type": "code",
   "execution_count": 207,
   "metadata": {
    "ExecuteTime": {
     "end_time": "2022-04-20T17:31:12.230356Z",
     "start_time": "2022-04-20T17:31:12.220145Z"
    }
   },
   "outputs": [
    {
     "data": {
      "text/plain": [
       "{'etc__max_depth': 50, 'etc__n_estimators': 500}"
      ]
     },
     "execution_count": 207,
     "metadata": {},
     "output_type": "execute_result"
    }
   ],
   "source": [
    "gs_etc.best_params_"
   ]
  },
  {
   "cell_type": "markdown",
   "metadata": {},
   "source": [
    "Best parameters Extra Trees: max_depth: 50, n_estimators: 500"
   ]
  },
  {
   "cell_type": "code",
   "execution_count": 209,
   "metadata": {
    "ExecuteTime": {
     "end_time": "2022-04-20T17:37:40.269243Z",
     "start_time": "2022-04-20T17:37:40.251671Z"
    }
   },
   "outputs": [],
   "source": [
    "tuned_etc_pipe = Pipeline([('ct', ct), ('etc', ExtraTreesClassifier(max_features='sqrt', max_samples=.5, bootstrap=True, random_state=42, max_depth=50, n_estimators=500))])"
   ]
  },
  {
   "cell_type": "code",
   "execution_count": 210,
   "metadata": {
    "ExecuteTime": {
     "end_time": "2022-04-20T17:38:19.481097Z",
     "start_time": "2022-04-20T17:37:40.595948Z"
    }
   },
   "outputs": [],
   "source": [
    "tetc_pipe = ModelWithCV(model=tuned_etc_pipe,\n",
    "                         model_name='tetc_pipe',\n",
    "                         X=X_train1,\n",
    "                         y=y_train1)"
   ]
  },
  {
   "cell_type": "code",
   "execution_count": 149,
   "metadata": {
    "ExecuteTime": {
     "end_time": "2022-04-19T19:26:23.533192Z",
     "start_time": "2022-04-19T19:26:23.468440Z"
    },
    "scrolled": true
   },
   "outputs": [
    {
     "data": {
      "image/png": "[encoded data removed]",
      "text/plain": [
       "<Figure size 432x288 with 1 Axes>"
      ]
     },
     "metadata": {
      "needs_background": "light"
     },
     "output_type": "display_data"
    }
   ],
   "source": [
    "fig, ax = plt.subplots()\n",
    "\n",
    "tetc_pipe.plot_cv(ax=ax);"
   ]
  },
  {
   "cell_type": "code",
   "execution_count": 211,
   "metadata": {
    "ExecuteTime": {
     "end_time": "2022-04-20T17:40:15.894988Z",
     "start_time": "2022-04-20T17:38:19.482405Z"
    }
   },
   "outputs": [
    {
     "name": "stdout",
     "output_type": "stream",
     "text": [
      "CV Results for `tetc_pipe` model:\n",
      "            0.77489 ± 0.00958 accuracy\n",
      "            recall_score: 0.7441316192746468\n",
      "            precision_score: 0.823900961528032\n",
      "            f1_score: 0.7561029997599423    \n",
      "        \n"
     ]
    }
   ],
   "source": [
    "tetc_pipe.print_cv_summary()"
   ]
  },
  {
   "cell_type": "markdown",
   "metadata": {},
   "source": [
    "Pickle and save"
   ]
  },
  {
   "cell_type": "code",
   "execution_count": 212,
   "metadata": {
    "ExecuteTime": {
     "end_time": "2022-04-20T17:40:15.919153Z",
     "start_time": "2022-04-20T17:40:15.897190Z"
    }
   },
   "outputs": [],
   "source": [
    "tetc_pickle = 'tuned_etc.sav'\n",
    "pickle.dump(tetc_pipe, open(tetc_pickle, 'wb'))"
   ]
  },
  {
   "cell_type": "markdown",
   "metadata": {},
   "source": [
    "#### Bagging"
   ]
  },
  {
   "cell_type": "code",
   "execution_count": 146,
   "metadata": {
    "ExecuteTime": {
     "end_time": "2022-04-20T15:14:08.202318Z",
     "start_time": "2022-04-20T15:14:08.194577Z"
    }
   },
   "outputs": [],
   "source": [
    "bag = BaggingClassifier(n_estimators=100, random_state=42)\n",
    "bag_model_pipe = Pipeline([('ct', ct), ('bag', bag)])"
   ]
  },
  {
   "cell_type": "code",
   "execution_count": 153,
   "metadata": {
    "ExecuteTime": {
     "end_time": "2022-04-19T19:29:34.376716Z",
     "start_time": "2022-04-19T19:28:17.200697Z"
    }
   },
   "outputs": [],
   "source": [
    "bag_pipe = ModelWithCV(model=bag_model_pipe,\n",
    "                         model_name='bag_pipe',\n",
    "                         X=X_train1,\n",
    "                         y=y_train1)"
   ]
  },
  {
   "cell_type": "code",
   "execution_count": 154,
   "metadata": {
    "ExecuteTime": {
     "end_time": "2022-04-19T19:29:34.462136Z",
     "start_time": "2022-04-19T19:29:34.378266Z"
    }
   },
   "outputs": [
    {
     "data": {
      "image/png": "[encoded data removed]",
      "text/plain": [
       "<Figure size 432x288 with 1 Axes>"
      ]
     },
     "metadata": {
      "needs_background": "light"
     },
     "output_type": "display_data"
    }
   ],
   "source": [
    "fig, ax = plt.subplots()\n",
    "\n",
    "bag_pipe.plot_cv(ax=ax);"
   ]
  },
  {
   "cell_type": "code",
   "execution_count": 155,
   "metadata": {
    "ExecuteTime": {
     "end_time": "2022-04-19T19:33:24.320649Z",
     "start_time": "2022-04-19T19:29:34.463373Z"
    },
    "scrolled": true
   },
   "outputs": [
    {
     "name": "stdout",
     "output_type": "stream",
     "text": [
      "CV Results for `bag_pipe` model:\n",
      "            0.76538 ± 0.01343 accuracy\n",
      "            recall_score: 0.7396039786594018\n",
      "            precision_score: 0.8045860551152391\n",
      "            f1_score: 0.7473036893495382    \n",
      "        \n"
     ]
    }
   ],
   "source": [
    "bag_pipe.print_cv_summary()"
   ]
  },
  {
   "cell_type": "markdown",
   "metadata": {},
   "source": [
    "##### Bagging"
   ]
  },
  {
   "cell_type": "code",
   "execution_count": 150,
   "metadata": {
    "ExecuteTime": {
     "end_time": "2022-04-20T15:14:32.541988Z",
     "start_time": "2022-04-20T15:14:32.537474Z"
    }
   },
   "outputs": [],
   "source": [
    "params = {}\n",
    "\n",
    "params['bag__max_features'] = [25, 50, 100]\n",
    "params['bag__n_estimators'] = [100, 500, 750]"
   ]
  },
  {
   "cell_type": "code",
   "execution_count": 151,
   "metadata": {
    "ExecuteTime": {
     "end_time": "2022-04-20T15:14:32.964540Z",
     "start_time": "2022-04-20T15:14:32.958824Z"
    }
   },
   "outputs": [],
   "source": [
    "gs_bag = GridSearchCV(estimator=bag_model_pipe, param_grid=params, cv=10)"
   ]
  },
  {
   "cell_type": "code",
   "execution_count": 152,
   "metadata": {
    "ExecuteTime": {
     "end_time": "2022-04-20T15:28:49.139344Z",
     "start_time": "2022-04-20T15:14:33.404832Z"
    }
   },
   "outputs": [
    {
     "name": "stderr",
     "output_type": "stream",
     "text": [
      "/Users/zachrauch/opt/anaconda3/envs/learn-env/lib/python3.8/site-packages/sklearn/model_selection/_validation.py:372: FitFailedWarning: \n",
      "30 fits failed out of a total of 90.\n",
      "The score on these train-test partitions for these parameters will be set to nan.\n",
      "If these failures are not expected, you can try to debug them by setting error_score='raise'.\n",
      "\n",
      "Below are more details about the failures:\n",
      "--------------------------------------------------------------------------------\n",
      "30 fits failed with the following error:\n",
      "Traceback (most recent call last):\n",
      "  File \"/Users/zachrauch/opt/anaconda3/envs/learn-env/lib/python3.8/site-packages/sklearn/model_selection/_validation.py\", line 680, in _fit_and_score\n",
      "    estimator.fit(X_train, y_train, **fit_params)\n",
      "  File \"/Users/zachrauch/opt/anaconda3/envs/learn-env/lib/python3.8/site-packages/sklearn/pipeline.py\", line 394, in fit\n",
      "    self._final_estimator.fit(Xt, y, **fit_params_last_step)\n",
      "  File \"/Users/zachrauch/opt/anaconda3/envs/learn-env/lib/python3.8/site-packages/sklearn/ensemble/_bagging.py\", line 269, in fit\n",
      "    return self._fit(X, y, self.max_samples, sample_weight=sample_weight)\n",
      "  File \"/Users/zachrauch/opt/anaconda3/envs/learn-env/lib/python3.8/site-packages/sklearn/ensemble/_bagging.py\", line 342, in _fit\n",
      "    raise ValueError(\"max_features must be in (0, n_features]\")\n",
      "ValueError: max_features must be in (0, n_features]\n",
      "\n",
      "  warnings.warn(some_fits_failed_message, FitFailedWarning)\n",
      "/Users/zachrauch/opt/anaconda3/envs/learn-env/lib/python3.8/site-packages/sklearn/model_selection/_search.py:969: UserWarning: One or more of the test scores are non-finite: [0.7581192  0.76538514 0.76622332 0.7665578  0.77343258 0.7720355\n",
      "        nan        nan        nan]\n",
      "  warnings.warn(\n"
     ]
    }
   ],
   "source": [
    "gs_bag.fit(X_train1, y_train1);"
   ]
  },
  {
   "cell_type": "code",
   "execution_count": 153,
   "metadata": {
    "ExecuteTime": {
     "end_time": "2022-04-20T15:28:49.148524Z",
     "start_time": "2022-04-20T15:28:49.141419Z"
    }
   },
   "outputs": [
    {
     "data": {
      "text/plain": [
       "{'bag__max_features': 50, 'bag__n_estimators': 500}"
      ]
     },
     "execution_count": 153,
     "metadata": {},
     "output_type": "execute_result"
    }
   ],
   "source": [
    "gs_bag.best_params_"
   ]
  },
  {
   "cell_type": "markdown",
   "metadata": {},
   "source": [
    "##### Bagging Tuned"
   ]
  },
  {
   "cell_type": "code",
   "execution_count": 156,
   "metadata": {
    "ExecuteTime": {
     "end_time": "2022-04-20T15:31:06.393720Z",
     "start_time": "2022-04-20T15:31:06.374995Z"
    }
   },
   "outputs": [],
   "source": [
    "bag = BaggingClassifier(max_features= 50,n_estimators=500, random_state=42)\n",
    "tbag_model_pipe = Pipeline([('ct', ct), ('bag', bag)])"
   ]
  },
  {
   "cell_type": "code",
   "execution_count": 157,
   "metadata": {
    "ExecuteTime": {
     "end_time": "2022-04-20T15:34:34.918587Z",
     "start_time": "2022-04-20T15:31:06.787949Z"
    }
   },
   "outputs": [],
   "source": [
    "tbag_pipe = ModelWithCV(model=tbag_model_pipe,\n",
    "                         model_name='bag_pipe',\n",
    "                         X=X_train1,\n",
    "                         y=y_train1)"
   ]
  },
  {
   "cell_type": "code",
   "execution_count": 158,
   "metadata": {
    "ExecuteTime": {
     "end_time": "2022-04-20T15:44:54.782841Z",
     "start_time": "2022-04-20T15:34:34.920750Z"
    }
   },
   "outputs": [
    {
     "name": "stdout",
     "output_type": "stream",
     "text": [
      "CV Results for `bag_pipe` model:\n",
      "            0.77343 ± 0.01100 accuracy\n",
      "            recall_score: 0.7349547363641522\n",
      "            precision_score: 0.8248506246930465\n",
      "            f1_score: 0.7526427600886357    \n",
      "        \n"
     ]
    }
   ],
   "source": [
    "tbag_pipe.print_cv_summary()"
   ]
  },
  {
   "cell_type": "markdown",
   "metadata": {},
   "source": [
    "### Ensembles"
   ]
  },
  {
   "cell_type": "markdown",
   "metadata": {},
   "source": [
    "#### Voting Classifier"
   ]
  },
  {
   "cell_type": "markdown",
   "metadata": {},
   "source": [
    "##### Voting Classifier 1"
   ]
  },
  {
   "cell_type": "code",
   "execution_count": 230,
   "metadata": {
    "ExecuteTime": {
     "end_time": "2022-04-20T18:29:02.557623Z",
     "start_time": "2022-04-20T18:29:02.529795Z"
    }
   },
   "outputs": [],
   "source": [
    "estimators=[\n",
    "    ('logreg', LogisticRegression(random_state=42, max_iter=5, solver='liblinear', C=.3)),\n",
    "    ('knn', KNeighborsClassifier(metric='manhattan', n_neighbors=200)),\n",
    "    ('rfc', RandomForestClassifier(random_state=42, max_features='sqrt', n_estimators=1250)) \n",
    "]"
   ]
  },
  {
   "cell_type": "code",
   "execution_count": 231,
   "metadata": {
    "ExecuteTime": {
     "end_time": "2022-04-20T18:29:02.749938Z",
     "start_time": "2022-04-20T18:29:02.743333Z"
    }
   },
   "outputs": [],
   "source": [
    "avg1 = VotingClassifier(estimators=estimators, voting='soft')\n",
    "avg1_model_pipe = Pipeline([('ct', ct), ('avg1', avg1)])"
   ]
  },
  {
   "cell_type": "code",
   "execution_count": 232,
   "metadata": {
    "ExecuteTime": {
     "end_time": "2022-04-20T18:32:14.874990Z",
     "start_time": "2022-04-20T18:29:03.582534Z"
    }
   },
   "outputs": [],
   "source": [
    "avg1_pipe = ModelWithCV(model=avg1_model_pipe,\n",
    "                         model_name='avg1_pipe',\n",
    "                         X=X_train1,\n",
    "                         y=y_train1) #3m 9s"
   ]
  },
  {
   "cell_type": "code",
   "execution_count": 233,
   "metadata": {
    "ExecuteTime": {
     "end_time": "2022-04-20T18:32:14.892893Z",
     "start_time": "2022-04-20T18:32:14.877711Z"
    }
   },
   "outputs": [],
   "source": [
    "avg1_model = 'avg1_model.sav'\n",
    "pickle.dump(avg1_pipe, open(avg1_model, 'wb'))"
   ]
  },
  {
   "cell_type": "code",
   "execution_count": 51,
   "metadata": {
    "ExecuteTime": {
     "end_time": "2022-04-20T02:34:37.163314Z",
     "start_time": "2022-04-20T02:34:37.071288Z"
    }
   },
   "outputs": [
    {
     "data": {
      "image/png": "[encoded data removed]",
      "text/plain": [
       "<Figure size 432x288 with 1 Axes>"
      ]
     },
     "metadata": {
      "needs_background": "light"
     },
     "output_type": "display_data"
    }
   ],
   "source": [
    "fig, ax = plt.subplots()\n",
    "\n",
    "avg1_pipe.plot_cv(ax=ax);"
   ]
  },
  {
   "cell_type": "code",
   "execution_count": 234,
   "metadata": {
    "ExecuteTime": {
     "end_time": "2022-04-20T18:41:47.669856Z",
     "start_time": "2022-04-20T18:32:14.894218Z"
    },
    "scrolled": true
   },
   "outputs": [
    {
     "name": "stdout",
     "output_type": "stream",
     "text": [
      "CV Results for `avg1_pipe` model:\n",
      "            0.78042 ± 0.01113 accuracy\n",
      "            recall_score: 0.7571217151938248\n",
      "            precision_score: 0.8315395769883077\n",
      "            f1_score: 0.7638374022426514    \n",
      "        \n",
      "None\n"
     ]
    }
   ],
   "source": [
    "avg1_pipe.print_cv_summary() #9m 6s"
   ]
  },
  {
   "cell_type": "code",
   "execution_count": 236,
   "metadata": {
    "ExecuteTime": {
     "end_time": "2022-04-20T18:47:20.754323Z",
     "start_time": "2022-04-20T18:47:20.737395Z"
    }
   },
   "outputs": [],
   "source": [
    "avg1_summary"
   ]
  },
  {
   "cell_type": "code",
   "execution_count": 237,
   "metadata": {
    "ExecuteTime": {
     "end_time": "2022-04-20T18:57:31.206849Z",
     "start_time": "2022-04-20T18:47:53.518202Z"
    }
   },
   "outputs": [
    {
     "name": "stdout",
     "output_type": "stream",
     "text": [
      "CV Results for `avg1_pipe` model:\n",
      "            0.78042 ± 0.01113 accuracy\n",
      "            recall_score: 0.7571217151938248\n",
      "            precision_score: 0.8315395769883077\n",
      "            f1_score: 0.7638374022426514    \n",
      "        \n"
     ]
    }
   ],
   "source": [
    "avg1_model_summary = 'avg1_model_summary.sav'\n",
    "pickle.dump(avg1_pipe.print_cv_summary(), open(avg1_model_summary, 'wb'))"
   ]
  },
  {
   "cell_type": "markdown",
   "metadata": {},
   "source": [
    "##### Voting Classifier 2"
   ]
  },
  {
   "cell_type": "code",
   "execution_count": 255,
   "metadata": {
    "ExecuteTime": {
     "end_time": "2022-04-20T19:17:47.562082Z",
     "start_time": "2022-04-20T19:17:47.498022Z"
    }
   },
   "outputs": [],
   "source": [
    "estimators=[\n",
    "    ('logreg', LogisticRegression(random_state=42, max_iter=5, solver='liblinear', C=.3)),\n",
    "    ('knn', KNeighborsClassifier(metric='manhattan', n_neighbors=200)),\n",
    "    ('rfc', RandomForestClassifier(random_state=42, max_features='sqrt', n_estimators=1250)),\n",
    "    ('etc', ExtraTreesClassifier(max_features='sqrt', max_samples=.5, bootstrap=True, random_state=42, max_depth=50, n_estimators=500))\n",
    "]"
   ]
  },
  {
   "cell_type": "code",
   "execution_count": 256,
   "metadata": {
    "ExecuteTime": {
     "end_time": "2022-04-20T19:17:47.663450Z",
     "start_time": "2022-04-20T19:17:47.656607Z"
    }
   },
   "outputs": [],
   "source": [
    "avg2 = VotingClassifier(estimators=estimators, voting='soft')\n",
    "avg2_model_pipe = Pipeline([('ct', ct), ('avg2', avg2)])"
   ]
  },
  {
   "cell_type": "code",
   "execution_count": 257,
   "metadata": {
    "ExecuteTime": {
     "end_time": "2022-04-20T19:21:52.876057Z",
     "start_time": "2022-04-20T19:17:47.840587Z"
    }
   },
   "outputs": [],
   "source": [
    "avg2_pipe = ModelWithCV(model=avg2_model_pipe,\n",
    "                         model_name='avg2_pipe',\n",
    "                         X=X_train1,\n",
    "                         y=y_train1) #4m 5s"
   ]
  },
  {
   "cell_type": "code",
   "execution_count": 258,
   "metadata": {
    "ExecuteTime": {
     "end_time": "2022-04-20T19:21:52.931494Z",
     "start_time": "2022-04-20T19:21:52.882774Z"
    }
   },
   "outputs": [],
   "source": [
    "avg2_model = 'avg2_model.sav'\n",
    "pickle.dump(avg2_pipe, open(avg2_model, 'wb'))"
   ]
  },
  {
   "cell_type": "code",
   "execution_count": 117,
   "metadata": {
    "ExecuteTime": {
     "end_time": "2022-04-20T13:00:26.693949Z",
     "start_time": "2022-04-20T13:00:26.605454Z"
    }
   },
   "outputs": [
    {
     "data": {
      "image/png": "[encoded data removed]",
      "text/plain": [
       "<Figure size 432x288 with 1 Axes>"
      ]
     },
     "metadata": {
      "needs_background": "light"
     },
     "output_type": "display_data"
    }
   ],
   "source": [
    "fig, ax = plt.subplots()\n",
    "\n",
    "avg2_pipe.plot_cv(ax=ax);"
   ]
  },
  {
   "cell_type": "code",
   "execution_count": 259,
   "metadata": {
    "ExecuteTime": {
     "end_time": "2022-04-20T19:33:36.851442Z",
     "start_time": "2022-04-20T19:21:52.933985Z"
    }
   },
   "outputs": [
    {
     "name": "stdout",
     "output_type": "stream",
     "text": [
      "CV Results for `avg2_pipe` model:\n",
      "            0.77964 ± 0.01126 accuracy\n",
      "            recall_score: 0.7540230716839775\n",
      "            precision_score: 0.8313674890142637\n",
      "            f1_score: 0.7624503599836526    \n",
      "        \n"
     ]
    }
   ],
   "source": [
    "avg2_pipe.print_cv_summary()\n",
    "\n",
    "#pickle.dump(avg2_summary, open(avg2_model, 'wb')) #9m 38s"
   ]
  },
  {
   "cell_type": "code",
   "execution_count": 263,
   "metadata": {
    "ExecuteTime": {
     "end_time": "2022-04-20T19:35:12.343795Z",
     "start_time": "2022-04-20T19:34:18.876693Z"
    }
   },
   "outputs": [
    {
     "data": {
      "text/plain": [
       "<sklearn.metrics._plot.roc_curve.RocCurveDisplay at 0x7fa0db9a1c70>"
      ]
     },
     "execution_count": 263,
     "metadata": {},
     "output_type": "execute_result"
    },
    {
     "data": {
      "image/png": "[encoded data removed]",
      "text/plain": [
       "<Figure size 432x288 with 1 Axes>"
      ]
     },
     "metadata": {
      "needs_background": "light"
     },
     "output_type": "display_data"
    }
   ],
   "source": [
    "plot_roc_curve(avg2_model_pipe.fit(X_train1, y_train1), X_train1, y_train1);"
   ]
  },
  {
   "cell_type": "markdown",
   "metadata": {},
   "source": [
    "##### Voting Classifier 3"
   ]
  },
  {
   "cell_type": "code",
   "execution_count": 264,
   "metadata": {
    "ExecuteTime": {
     "end_time": "2022-04-20T19:46:16.903371Z",
     "start_time": "2022-04-20T19:46:16.860183Z"
    }
   },
   "outputs": [],
   "source": [
    "estimators=[\n",
    "    ('logreg', LogisticRegression(random_state=42, max_iter=5, solver='liblinear', C=.3)),\n",
    "    ('knn', KNeighborsClassifier(metric='manhattan', n_neighbors=200)),\n",
    "    ('rfc', RandomForestClassifier(random_state=42, max_features='sqrt', n_estimators=1250)),\n",
    "    ('gbc', GradientBoostingClassifier(random_state=42, learning_rate=.05, n_estimators=350)),\n",
    "    ('ada', AdaBoostClassifier(learning_rate=1.25, n_estimators=200)),\n",
    "    ('xgb', xgboost.XGBClassifier(random_state=42, learning_rate=.05, n_estimators=150)),\n",
    "    ('etc', ExtraTreesClassifier(max_features='sqrt', max_samples=.5, bootstrap=True, random_state=42, max_depth=50, n_estimators=500))\n",
    "]"
   ]
  },
  {
   "cell_type": "code",
   "execution_count": 265,
   "metadata": {
    "ExecuteTime": {
     "end_time": "2022-04-20T19:46:17.367375Z",
     "start_time": "2022-04-20T19:46:17.358721Z"
    }
   },
   "outputs": [],
   "source": [
    "avg3 = VotingClassifier(estimators=estimators, voting='soft')\n",
    "avg3_model_pipe = Pipeline([('ct', ct), ('avg3', avg3)])"
   ]
  },
  {
   "cell_type": "code",
   "execution_count": 266,
   "metadata": {
    "ExecuteTime": {
     "end_time": "2022-04-20T19:52:35.314496Z",
     "start_time": "2022-04-20T19:46:17.988958Z"
    }
   },
   "outputs": [],
   "source": [
    "avg3_pipe = ModelWithCV(model=avg3_model_pipe,\n",
    "                         model_name='avg3_pipe',\n",
    "                         X=X_train1,\n",
    "                         y=y_train1) #6m 17s"
   ]
  },
  {
   "cell_type": "code",
   "execution_count": 267,
   "metadata": {
    "ExecuteTime": {
     "end_time": "2022-04-20T19:52:35.345286Z",
     "start_time": "2022-04-20T19:52:35.318721Z"
    }
   },
   "outputs": [],
   "source": [
    "avg3_model = 'avg3_model.sav'\n",
    "pickle.dump(avg3_pipe, open(avg3_model, 'wb'))"
   ]
  },
  {
   "cell_type": "code",
   "execution_count": 122,
   "metadata": {
    "ExecuteTime": {
     "end_time": "2022-04-20T13:13:16.003625Z",
     "start_time": "2022-04-20T13:13:15.929247Z"
    }
   },
   "outputs": [
    {
     "data": {
      "image/png": "[encoded data removed]",
      "text/plain": [
       "<Figure size 432x288 with 1 Axes>"
      ]
     },
     "metadata": {
      "needs_background": "light"
     },
     "output_type": "display_data"
    }
   ],
   "source": [
    "fig, ax = plt.subplots()\n",
    "\n",
    "avg3_pipe.plot_cv(ax=ax);"
   ]
  },
  {
   "cell_type": "code",
   "execution_count": 268,
   "metadata": {
    "ExecuteTime": {
     "end_time": "2022-04-20T20:10:59.293162Z",
     "start_time": "2022-04-20T19:52:35.347656Z"
    }
   },
   "outputs": [
    {
     "name": "stdout",
     "output_type": "stream",
     "text": [
      "CV Results for `avg3_pipe` model:\n",
      "            0.78265 ± 0.01076 accuracy\n",
      "            recall_score: 0.7555732447925535\n",
      "            precision_score: 0.8351484238388001\n",
      "            f1_score: 0.7652831358605655    \n",
      "        \n"
     ]
    }
   ],
   "source": [
    "avg3_summary = avg3_pipe.print_cv_summary()\n",
    "\n",
    "#pickle.dump(avg3_summary, open(avg3_model, 'wb')) #9m 39s"
   ]
  },
  {
   "cell_type": "code",
   "execution_count": 269,
   "metadata": {
    "ExecuteTime": {
     "end_time": "2022-04-20T20:12:07.348095Z",
     "start_time": "2022-04-20T20:10:59.296592Z"
    }
   },
   "outputs": [
    {
     "data": {
      "image/png": "[encoded data removed]",
      "text/plain": [
       "<Figure size 432x288 with 1 Axes>"
      ]
     },
     "metadata": {
      "needs_background": "light"
     },
     "output_type": "display_data"
    }
   ],
   "source": [
    "plot_roc_curve(avg3_model_pipe.fit(X_train1, y_train1), X_train1, y_train1);"
   ]
  },
  {
   "cell_type": "markdown",
   "metadata": {},
   "source": [
    "#### Weighted Voting Classifier"
   ]
  },
  {
   "cell_type": "code",
   "execution_count": null,
   "metadata": {},
   "outputs": [],
   "source": []
  },
  {
   "cell_type": "markdown",
   "metadata": {},
   "source": [
    "#### Stacking"
   ]
  },
  {
   "cell_type": "markdown",
   "metadata": {},
   "source": [
    "##### Stack 1"
   ]
  },
  {
   "cell_type": "code",
   "execution_count": 25,
   "metadata": {
    "ExecuteTime": {
     "end_time": "2022-04-19T21:43:32.546299Z",
     "start_time": "2022-04-19T21:43:32.541295Z"
    }
   },
   "outputs": [],
   "source": [
    "estimators=[\n",
    "    ('logreg', LogisticRegression(random_state=42, max_iter=5, solver='liblinear', C=.3)),\n",
    "    ('knn', KNeighborsClassifier(metric='manhattan', n_neighbors=200)),\n",
    "    ('rfc', RandomForestClassifier(random_state=42, max_features='sqrt', n_estimators=1000)) \n",
    "]"
   ]
  },
  {
   "cell_type": "code",
   "execution_count": 26,
   "metadata": {
    "ExecuteTime": {
     "end_time": "2022-04-19T21:43:33.841290Z",
     "start_time": "2022-04-19T21:43:33.837044Z"
    }
   },
   "outputs": [],
   "source": [
    "sr1 = StackingClassifier(estimators)\n",
    "sr1_model_pipe = Pipeline([('ct', ct), ('sr1', sr1)])"
   ]
  },
  {
   "cell_type": "code",
   "execution_count": 27,
   "metadata": {
    "ExecuteTime": {
     "end_time": "2022-04-19T21:57:51.021774Z",
     "start_time": "2022-04-19T21:43:34.486355Z"
    }
   },
   "outputs": [],
   "source": [
    "sr1_pipe = ModelWithCV(model=sr1_model_pipe,\n",
    "                         model_name='sr1_pipe',\n",
    "                         X=X_train1,\n",
    "                         y=y_train1)"
   ]
  },
  {
   "cell_type": "code",
   "execution_count": 28,
   "metadata": {
    "ExecuteTime": {
     "end_time": "2022-04-19T21:57:51.279164Z",
     "start_time": "2022-04-19T21:57:51.026556Z"
    }
   },
   "outputs": [
    {
     "data": {
      "image/png": "[encoded data removed]",
      "text/plain": [
       "<Figure size 432x288 with 1 Axes>"
      ]
     },
     "metadata": {
      "needs_background": "light"
     },
     "output_type": "display_data"
    }
   ],
   "source": [
    "fig, ax = plt.subplots()\n",
    "\n",
    "sr1_pipe.plot_cv(ax=ax);"
   ]
  },
  {
   "cell_type": "code",
   "execution_count": 66,
   "metadata": {
    "ExecuteTime": {
     "end_time": "2022-04-20T03:57:09.028955Z",
     "start_time": "2022-04-20T03:15:35.210400Z"
    },
    "scrolled": true
   },
   "outputs": [
    {
     "name": "stdout",
     "output_type": "stream",
     "text": [
      "CV Results for `sr1_pipe` model:\n",
      "            0.78086 ± 0.01173 accuracy\n",
      "            recall_score: 0.7523551279868324\n",
      "            precision_score: 0.8333770184646981\n",
      "            f1_score: 0.7630745978014863    \n",
      "        \n"
     ]
    }
   ],
   "source": [
    "sr1_cv_summary = sr1_pipe.print_cv_summary()"
   ]
  },
  {
   "cell_type": "code",
   "execution_count": 67,
   "metadata": {
    "ExecuteTime": {
     "end_time": "2022-04-20T03:57:09.034616Z",
     "start_time": "2022-04-20T03:57:09.030256Z"
    }
   },
   "outputs": [],
   "source": [
    "sr1_cv_summary = 'sr1_cv_summary.sav'\n",
    "pickle.dump(sr1_cv_summary, open(sr1_cv_summary, 'wb'))"
   ]
  },
  {
   "cell_type": "markdown",
   "metadata": {},
   "source": [
    "Pickle and save."
   ]
  },
  {
   "cell_type": "code",
   "execution_count": 30,
   "metadata": {
    "ExecuteTime": {
     "end_time": "2022-04-19T22:04:46.894675Z",
     "start_time": "2022-04-19T22:04:46.884535Z"
    }
   },
   "outputs": [],
   "source": [
    "sr1_pickle = 'stack_1.sav'\n",
    "pickle.dump(sr1_model_pipe, open(sr1_pickle, 'wb'))"
   ]
  },
  {
   "cell_type": "markdown",
   "metadata": {},
   "source": [
    "##### Stack 2"
   ]
  },
  {
   "cell_type": "code",
   "execution_count": 31,
   "metadata": {
    "ExecuteTime": {
     "end_time": "2022-04-19T22:04:51.169038Z",
     "start_time": "2022-04-19T22:04:51.164711Z"
    }
   },
   "outputs": [],
   "source": [
    "estimators=[\n",
    "    ('logreg', LogisticRegression(random_state=42, max_iter=5, solver='liblinear', C=.3)),\n",
    "    ('knn', KNeighborsClassifier(metric='manhattan', n_neighbors=200)),\n",
    "    ('rfc', RandomForestClassifier(random_state=42, max_features='sqrt', n_estimators=1000)),\n",
    "    ('etc', ExtraTreesClassifier(max_features='sqrt', max_samples=.5, bootstrap=True, random_state=42, max_depth=50, n_estimators=500))\n",
    "]"
   ]
  },
  {
   "cell_type": "code",
   "execution_count": 32,
   "metadata": {
    "ExecuteTime": {
     "end_time": "2022-04-19T22:04:51.745442Z",
     "start_time": "2022-04-19T22:04:51.741124Z"
    }
   },
   "outputs": [],
   "source": [
    "sr2 = StackingClassifier(estimators)\n",
    "sr2_model_pipe = Pipeline([('ct', ct), ('sr2', sr2)])"
   ]
  },
  {
   "cell_type": "code",
   "execution_count": 34,
   "metadata": {
    "ExecuteTime": {
     "end_time": "2022-04-19T22:29:42.057996Z",
     "start_time": "2022-04-19T22:12:56.569617Z"
    }
   },
   "outputs": [],
   "source": [
    "sr2_pipe = ModelWithCV(model=sr2_model_pipe,\n",
    "                         model_name='sr2_pipe',\n",
    "                         X=X_train1,\n",
    "                         y=y_train1)"
   ]
  },
  {
   "cell_type": "code",
   "execution_count": 35,
   "metadata": {
    "ExecuteTime": {
     "end_time": "2022-04-19T22:29:42.163031Z",
     "start_time": "2022-04-19T22:29:42.059388Z"
    }
   },
   "outputs": [
    {
     "data": {
      "image/png": "[encoded data removed]",
      "text/plain": [
       "<Figure size 432x288 with 1 Axes>"
      ]
     },
     "metadata": {
      "needs_background": "light"
     },
     "output_type": "display_data"
    }
   ],
   "source": [
    "fig, ax = plt.subplots()\n",
    "\n",
    "sr2_pipe.plot_cv(ax=ax);"
   ]
  },
  {
   "cell_type": "code",
   "execution_count": 68,
   "metadata": {
    "ExecuteTime": {
     "end_time": "2022-04-20T04:48:07.905400Z",
     "start_time": "2022-04-20T03:57:09.035587Z"
    },
    "scrolled": false
   },
   "outputs": [
    {
     "name": "stdout",
     "output_type": "stream",
     "text": [
      "CV Results for `sr2_pipe` model:\n",
      "            0.78075 ± 0.01094 accuracy\n",
      "            recall_score: 0.7521168908564617\n",
      "            precision_score: 0.8332175464642955\n",
      "            f1_score: 0.7629245422589148    \n",
      "        \n"
     ]
    }
   ],
   "source": [
    "sr2_cv_summary = sr2_pipe.print_cv_summary()"
   ]
  },
  {
   "cell_type": "code",
   "execution_count": 69,
   "metadata": {
    "ExecuteTime": {
     "end_time": "2022-04-20T04:48:07.912253Z",
     "start_time": "2022-04-20T04:48:07.906717Z"
    }
   },
   "outputs": [],
   "source": [
    "sr2_cv_summary = 'sr2_cv_summary.sav'\n",
    "pickle.dump(sr2_cv_summary, open(sr2_cv_summary, 'wb'))"
   ]
  },
  {
   "cell_type": "markdown",
   "metadata": {},
   "source": [
    "Pickle and save."
   ]
  },
  {
   "cell_type": "code",
   "execution_count": 36,
   "metadata": {
    "ExecuteTime": {
     "end_time": "2022-04-19T22:29:42.168317Z",
     "start_time": "2022-04-19T22:29:42.165051Z"
    }
   },
   "outputs": [],
   "source": [
    "sr2_pickle = 'stack_2.sav'\n",
    "pickle.dump(sr2_model_pipe, open(sr2_pickle, 'wb'))"
   ]
  },
  {
   "cell_type": "markdown",
   "metadata": {},
   "source": [
    "##### Stack 3"
   ]
  },
  {
   "cell_type": "code",
   "execution_count": 37,
   "metadata": {
    "ExecuteTime": {
     "end_time": "2022-04-19T22:29:42.188948Z",
     "start_time": "2022-04-19T22:29:42.173005Z"
    }
   },
   "outputs": [],
   "source": [
    "estimators=[\n",
    "    ('logreg', LogisticRegression(random_state=42, max_iter=5, solver='liblinear', C=.3)),\n",
    "    ('knn', KNeighborsClassifier(metric='manhattan', n_neighbors=200)),\n",
    "    ('rfc', RandomForestClassifier(random_state=42, max_features='sqrt', n_estimators=1000)),\n",
    "    ('gbc', GradientBoostingClassifier(random_state=42, learning_rate=.05, n_estimators=350)),\n",
    "    ('ada', AdaBoostClassifier(learning_rate=.75, n_estimators=350)),\n",
    "    ('xgb', xgboost.XGBClassifier(random_state=42, learning_rate=.05, n_estimators=150)),\n",
    "    ('etc', ExtraTreesClassifier(max_features='sqrt', max_samples=.5, bootstrap=True, random_state=42, max_depth=50, n_estimators=500))\n",
    "]"
   ]
  },
  {
   "cell_type": "code",
   "execution_count": 38,
   "metadata": {
    "ExecuteTime": {
     "end_time": "2022-04-19T22:29:42.208694Z",
     "start_time": "2022-04-19T22:29:42.200981Z"
    }
   },
   "outputs": [],
   "source": [
    "sr3 = StackingClassifier(estimators)\n",
    "sr3_model_pipe = Pipeline([('ct', ct), ('sr3', sr3)])"
   ]
  },
  {
   "cell_type": "code",
   "execution_count": 39,
   "metadata": {
    "ExecuteTime": {
     "end_time": "2022-04-19T22:58:19.171294Z",
     "start_time": "2022-04-19T22:29:42.210976Z"
    }
   },
   "outputs": [],
   "source": [
    "sr3_pipe = ModelWithCV(model=sr3_model_pipe,\n",
    "                         model_name='sr3_pipe',\n",
    "                         X=X_train1,\n",
    "                         y=y_train1)"
   ]
  },
  {
   "cell_type": "code",
   "execution_count": 40,
   "metadata": {
    "ExecuteTime": {
     "end_time": "2022-04-19T22:58:19.265654Z",
     "start_time": "2022-04-19T22:58:19.173312Z"
    }
   },
   "outputs": [
    {
     "data": {
      "image/png": "[encoded data removed]",
      "text/plain": [
       "<Figure size 432x288 with 1 Axes>"
      ]
     },
     "metadata": {
      "needs_background": "light"
     },
     "output_type": "display_data"
    }
   ],
   "source": [
    "fig, ax = plt.subplots()\n",
    "\n",
    "sr3_pipe.plot_cv(ax=ax);"
   ]
  },
  {
   "cell_type": "code",
   "execution_count": 44,
   "metadata": {
    "ExecuteTime": {
     "end_time": "2022-04-20T01:57:24.872340Z",
     "start_time": "2022-04-20T00:30:22.970775Z"
    }
   },
   "outputs": [
    {
     "name": "stdout",
     "output_type": "stream",
     "text": [
      "CV Results for `sr3_pipe` model:\n",
      "            0.78282 ± 0.01154 accuracy\n",
      "            recall_score: 0.7535474487768885\n",
      "            precision_score: 0.8363984875876419\n",
      "            f1_score: 0.7649424610464328    \n",
      "        \n"
     ]
    }
   ],
   "source": [
    "sr3_pipe.print_cv_summary()"
   ]
  },
  {
   "cell_type": "code",
   "execution_count": 70,
   "metadata": {
    "ExecuteTime": {
     "end_time": "2022-04-20T06:14:49.546720Z",
     "start_time": "2022-04-20T04:48:07.913185Z"
    }
   },
   "outputs": [
    {
     "name": "stdout",
     "output_type": "stream",
     "text": [
      "CV Results for `sr3_pipe` model:\n",
      "            0.78282 ± 0.01154 accuracy\n",
      "            recall_score: 0.7535474487768885\n",
      "            precision_score: 0.8363984875876419\n",
      "            f1_score: 0.7649424610464328    \n",
      "        \n"
     ]
    }
   ],
   "source": [
    "sr3_cv_summary = sr3_pipe.print_cv_summary()"
   ]
  },
  {
   "cell_type": "code",
   "execution_count": 71,
   "metadata": {
    "ExecuteTime": {
     "end_time": "2022-04-20T06:14:49.559761Z",
     "start_time": "2022-04-20T06:14:49.555370Z"
    }
   },
   "outputs": [],
   "source": [
    "sr3_cv_summary = 'sr3_cv_summary.sav'\n",
    "pickle.dump(sr3_cv_summary, open(sr3_cv_summary, 'wb'))"
   ]
  },
  {
   "cell_type": "markdown",
   "metadata": {},
   "source": [
    "Pickle and save."
   ]
  },
  {
   "cell_type": "code",
   "execution_count": 41,
   "metadata": {
    "ExecuteTime": {
     "end_time": "2022-04-19T22:58:19.271504Z",
     "start_time": "2022-04-19T22:58:19.268115Z"
    }
   },
   "outputs": [],
   "source": [
    "sr3_pickle = 'stack_3.sav'\n",
    "pickle.dump(sr3_model_pipe, open(sr3_pickle, 'wb'))"
   ]
  },
  {
   "cell_type": "markdown",
   "metadata": {},
   "source": [
    "### Tune again?"
   ]
  },
  {
   "cell_type": "markdown",
   "metadata": {},
   "source": [
    "### Evaluation on Test Set"
   ]
  },
  {
   "cell_type": "code",
   "execution_count": 270,
   "metadata": {
    "ExecuteTime": {
     "end_time": "2022-04-20T20:31:30.586122Z",
     "start_time": "2022-04-20T20:31:30.534333Z"
    }
   },
   "outputs": [],
   "source": [
    "final_model1 = avg2_model_pipe"
   ]
  },
  {
   "cell_type": "code",
   "execution_count": 272,
   "metadata": {
    "ExecuteTime": {
     "end_time": "2022-04-20T20:32:21.821289Z",
     "start_time": "2022-04-20T20:31:54.831212Z"
    }
   },
   "outputs": [],
   "source": [
    "final_model1.fit(X_train1, y_train1); #19s"
   ]
  },
  {
   "cell_type": "code",
   "execution_count": 126,
   "metadata": {
    "ExecuteTime": {
     "end_time": "2022-04-20T13:23:28.777953Z",
     "start_time": "2022-04-20T13:23:14.241364Z"
    }
   },
   "outputs": [
    {
     "data": {
      "image/png": "[encoded data removed]",
      "text/plain": [
       "<Figure size 432x288 with 2 Axes>"
      ]
     },
     "metadata": {
      "needs_background": "light"
     },
     "output_type": "display_data"
    }
   ],
   "source": [
    "fm1_cm = plot_confusion_matrix(final_model1, X_test1, y_test1);\n",
    "\n",
    "final1 = 'final1.sav'\n",
    "pickle.dump(fm1_cm, open(final1, 'wb')) #14.5s"
   ]
  },
  {
   "cell_type": "code",
   "execution_count": 127,
   "metadata": {
    "ExecuteTime": {
     "end_time": "2022-04-20T13:23:43.099015Z",
     "start_time": "2022-04-20T13:23:28.779126Z"
    }
   },
   "outputs": [],
   "source": [
    "y_hat = final_model1.predict(X_test1) #15s"
   ]
  },
  {
   "cell_type": "code",
   "execution_count": 128,
   "metadata": {
    "ExecuteTime": {
     "end_time": "2022-04-20T13:23:43.115092Z",
     "start_time": "2022-04-20T13:23:43.100904Z"
    },
    "scrolled": true
   },
   "outputs": [
    {
     "name": "stdout",
     "output_type": "stream",
     "text": [
      "\n",
      "Our final model's accuracy on the test set is 0.79. \n",
      "\n",
      "Our final model's recall on the test set is 0.76 \n",
      "\n",
      "Our final model's precision on the test set is 0.78 \n",
      "\n",
      "Our final model's f1-score on the test is 0.77.\n",
      "\n"
     ]
    }
   ],
   "source": [
    "fm1_test_results = print(f\"\"\"\n",
    "Our final model's accuracy on the test set is {round(accuracy_score(y_test1, y_hat), 2)}. \\n\n",
    "Our final model's recall on the test set is {round(recall_score(y_test1, y_hat), 2)} \\n\n",
    "Our final model's precision on the test set is {round(precision_score(y_test1, y_hat), 2)} \\n\n",
    "Our final model's f1-score on the test is {round(f1_score(y_test1, y_hat), 2)}.\n",
    "\"\"\")\n",
    "\n",
    "pickle.dump(fm1_test_results, open(final1, 'wb'))"
   ]
  },
  {
   "cell_type": "code",
   "execution_count": 142,
   "metadata": {
    "ExecuteTime": {
     "end_time": "2022-04-20T13:25:58.019949Z",
     "start_time": "2022-04-20T13:25:43.535140Z"
    }
   },
   "outputs": [
    {
     "data": {
      "image/png": "[encoded data removed]",
      "text/plain": [
       "<Figure size 432x288 with 1 Axes>"
      ]
     },
     "metadata": {
      "needs_background": "light"
     },
     "output_type": "display_data"
    }
   ],
   "source": [
    "from sklearn.metrics import plot_roc_curve\n",
    "fm1_roc_curve = plot_roc_curve(final_model1, X_test1, y_test1)\n",
    "\n",
    "pickle.dump(fm1_roc_curve, open(final1, 'wb')) #15s"
   ]
  },
  {
   "cell_type": "code",
   "execution_count": 130,
   "metadata": {
    "ExecuteTime": {
     "end_time": "2022-04-20T13:23:57.684296Z",
     "start_time": "2022-04-20T13:23:43.119482Z"
    }
   },
   "outputs": [
    {
     "name": "stdout",
     "output_type": "stream",
     "text": [
      "Best Threshold=0.490578, G-Mean=0.790\n"
     ]
    }
   ],
   "source": [
    "y_hat = final_model1.predict_proba(X_test1)[:, 1]\n",
    "# calculate roc curves\n",
    "fpr, tpr, thresholds = roc_curve(y_test1, y_hat)\n",
    "# calculate the g-mean for each threshold\n",
    "gmeans = sqrt(tpr * (1-fpr))\n",
    "# locate the index of the largest g-mean\n",
    "ix = argmax(gmeans)\n",
    "print('Best Threshold=%f, G-Mean=%.3f' % (thresholds[ix], gmeans[ix])) #15s"
   ]
  },
  {
   "cell_type": "code",
   "execution_count": 131,
   "metadata": {
    "ExecuteTime": {
     "end_time": "2022-04-20T13:24:12.109053Z",
     "start_time": "2022-04-20T13:23:57.685815Z"
    }
   },
   "outputs": [],
   "source": [
    "y_hat = (final_model1.predict_proba(X_test1)[:,1] >= thresholds[ix]).astype(bool) #15s"
   ]
  },
  {
   "cell_type": "code",
   "execution_count": 132,
   "metadata": {
    "ExecuteTime": {
     "end_time": "2022-04-20T13:24:12.125141Z",
     "start_time": "2022-04-20T13:24:12.110717Z"
    }
   },
   "outputs": [
    {
     "name": "stdout",
     "output_type": "stream",
     "text": [
      "\n",
      "Our final model's accuracy on the test set is 0.79. \n",
      "\n",
      "Our final model's recall on the test set is 0.77 \n",
      "\n",
      "Our final model's precision on the test set is 0.78 \n",
      "\n",
      "Our final model's f1-score on the test is 0.77.\n",
      "\n"
     ]
    }
   ],
   "source": [
    "fm1_test_results_with_thresh =print(f\"\"\"\n",
    "Our final model's accuracy on the test set is {round(accuracy_score(y_test1, y_hat), 2)}. \\n\n",
    "Our final model's recall on the test set is {round(recall_score(y_test1, y_hat), 2)} \\n\n",
    "Our final model's precision on the test set is {round(precision_score(y_test1, y_hat), 2)} \\n\n",
    "Our final model's f1-score on the test is {round(f1_score(y_test1, y_hat), 2)}.\n",
    "\"\"\")\n",
    "\n",
    "pickle.dump(fm1_test_results_with_thresh, open(final1, 'wb'))"
   ]
  },
  {
   "cell_type": "markdown",
   "metadata": {},
   "source": [
    "Final part 2"
   ]
  },
  {
   "cell_type": "code",
   "execution_count": 133,
   "metadata": {
    "ExecuteTime": {
     "end_time": "2022-04-20T13:24:12.128425Z",
     "start_time": "2022-04-20T13:24:12.126389Z"
    }
   },
   "outputs": [],
   "source": [
    "final_model2 = avg3_model_pipe"
   ]
  },
  {
   "cell_type": "code",
   "execution_count": 134,
   "metadata": {
    "ExecuteTime": {
     "end_time": "2022-04-20T13:24:31.306945Z",
     "start_time": "2022-04-20T13:24:12.129470Z"
    }
   },
   "outputs": [
    {
     "data": {
      "text/plain": [
       "Pipeline(steps=[('ct',\n",
       "                 ColumnTransformer(transformers=[('subpipe_cat',\n",
       "                                                  Pipeline(steps=[('cat_impute',\n",
       "                                                                   SimpleImputer(strategy='most_frequent')),\n",
       "                                                                  ('ohe',\n",
       "                                                                   OneHotEncoder(drop='first',\n",
       "                                                                                 handle_unknown='ignore',\n",
       "                                                                                 sparse=False))]),\n",
       "                                                  Index(['behavioral_antiviral_meds', 'behavioral_avoidance',\n",
       "       'behavioral_face_mask', 'behavioral_wash_hands',\n",
       "       'behavioral_large_gatherings',...\n",
       "                                               LogisticRegression(C=0.3,\n",
       "                                                                  max_iter=5,\n",
       "                                                                  random_state=42,\n",
       "                                                                  solver='liblinear')),\n",
       "                                              ('knn',\n",
       "                                               KNeighborsClassifier(metric='manhattan',\n",
       "                                                                    n_neighbors=200)),\n",
       "                                              ('rfc',\n",
       "                                               RandomForestClassifier(max_features='sqrt',\n",
       "                                                                      n_estimators=1000,\n",
       "                                                                      random_state=42)),\n",
       "                                              ('etc',\n",
       "                                               ExtraTreesClassifier(bootstrap=True,\n",
       "                                                                    max_depth=50,\n",
       "                                                                    max_features='sqrt',\n",
       "                                                                    max_samples=0.5,\n",
       "                                                                    n_estimators=500,\n",
       "                                                                    random_state=42))],\n",
       "                                  voting='soft'))])"
      ]
     },
     "execution_count": 134,
     "metadata": {},
     "output_type": "execute_result"
    }
   ],
   "source": [
    "final_model2.fit(X_train1, y_train1) #20s"
   ]
  },
  {
   "cell_type": "code",
   "execution_count": 135,
   "metadata": {
    "ExecuteTime": {
     "end_time": "2022-04-20T13:24:45.824670Z",
     "start_time": "2022-04-20T13:24:31.307923Z"
    }
   },
   "outputs": [
    {
     "data": {
      "image/png": "[encoded data removed]",
      "text/plain": [
       "<Figure size 432x288 with 2 Axes>"
      ]
     },
     "metadata": {
      "needs_background": "light"
     },
     "output_type": "display_data"
    }
   ],
   "source": [
    "fm2_cm = plot_confusion_matrix(final_model2, X_test1, y_test1);\n",
    "\n",
    "final2 = 'final2.sav'\n",
    "pickle.dump(fm2_cm, open(final2, 'wb')) #15s"
   ]
  },
  {
   "cell_type": "code",
   "execution_count": 136,
   "metadata": {
    "ExecuteTime": {
     "end_time": "2022-04-20T13:25:00.254839Z",
     "start_time": "2022-04-20T13:24:45.825851Z"
    },
    "scrolled": false
   },
   "outputs": [],
   "source": [
    "y_hat = final_model2.predict(X_test1) #15s"
   ]
  },
  {
   "cell_type": "code",
   "execution_count": 137,
   "metadata": {
    "ExecuteTime": {
     "end_time": "2022-04-20T13:25:00.273950Z",
     "start_time": "2022-04-20T13:25:00.261320Z"
    },
    "scrolled": false
   },
   "outputs": [
    {
     "name": "stdout",
     "output_type": "stream",
     "text": [
      "\n",
      "Our final model's accuracy on the test set is 0.79. \n",
      "\n",
      "Our final model's recall on the test set is 0.76 \n",
      "\n",
      "Our final model's precision on the test set is 0.78 \n",
      "\n",
      "Our final model's f1-score on the test is 0.77.\n",
      "\n"
     ]
    }
   ],
   "source": [
    "fm2_test_results = print(f\"\"\"\n",
    "Our final model's accuracy on the test set is {round(accuracy_score(y_test1, y_hat), 2)}. \\n\n",
    "Our final model's recall on the test set is {round(recall_score(y_test1, y_hat), 2)} \\n\n",
    "Our final model's precision on the test set is {round(precision_score(y_test1, y_hat), 2)} \\n\n",
    "Our final model's f1-score on the test is {round(f1_score(y_test1, y_hat), 2)}.\n",
    "\"\"\")\n",
    "\n",
    "pickle.dump(fm2_test_results, open(final2, 'wb'))"
   ]
  },
  {
   "cell_type": "code",
   "execution_count": 138,
   "metadata": {
    "ExecuteTime": {
     "end_time": "2022-04-20T13:25:14.813986Z",
     "start_time": "2022-04-20T13:25:00.275255Z"
    }
   },
   "outputs": [
    {
     "data": {
      "image/png": "[encoded data removed]",
      "text/plain": [
       "<Figure size 432x288 with 1 Axes>"
      ]
     },
     "metadata": {
      "needs_background": "light"
     },
     "output_type": "display_data"
    }
   ],
   "source": [
    "fm2_roc_curve = plot_roc_curve(final_model2, X_test1, y_test1)\n",
    "\n",
    "pickle.dump(fm2_roc_curve, open(final2, 'wb')) #15s"
   ]
  },
  {
   "cell_type": "code",
   "execution_count": 139,
   "metadata": {
    "ExecuteTime": {
     "end_time": "2022-04-20T13:25:29.276331Z",
     "start_time": "2022-04-20T13:25:14.815270Z"
    }
   },
   "outputs": [
    {
     "name": "stdout",
     "output_type": "stream",
     "text": [
      "Best Threshold=0.490578, G-Mean=0.790\n"
     ]
    }
   ],
   "source": [
    "y_hat = final_model2.predict_proba(X_test1)[:, 1]\n",
    "# calculate roc curves\n",
    "fpr, tpr, thresholds = roc_curve(y_test1, y_hat)\n",
    "# calculate the g-mean for each threshold\n",
    "gmeans = sqrt(tpr * (1-fpr))\n",
    "# locate the index of the largest g-mean\n",
    "ix = argmax(gmeans)\n",
    "print('Best Threshold=%f, G-Mean=%.3f' % (thresholds[ix], gmeans[ix])) #15s"
   ]
  },
  {
   "cell_type": "code",
   "execution_count": 140,
   "metadata": {
    "ExecuteTime": {
     "end_time": "2022-04-20T13:25:43.519563Z",
     "start_time": "2022-04-20T13:25:29.277789Z"
    }
   },
   "outputs": [],
   "source": [
    "y_hat = (final_model2.predict_proba(X_test1)[:,1] >= thresholds[ix]).astype(bool) #15s"
   ]
  },
  {
   "cell_type": "code",
   "execution_count": 141,
   "metadata": {
    "ExecuteTime": {
     "end_time": "2022-04-20T13:25:43.533610Z",
     "start_time": "2022-04-20T13:25:43.521376Z"
    }
   },
   "outputs": [
    {
     "name": "stdout",
     "output_type": "stream",
     "text": [
      "\n",
      "Our final model's accuracy on the test set is 0.79. \n",
      "\n",
      "Our final model's recall on the test set is 0.77 \n",
      "\n",
      "Our final model's precision on the test set is 0.78 \n",
      "\n",
      "Our final model's f1-score on the test is 0.77.\n",
      "\n"
     ]
    }
   ],
   "source": [
    "fm2_test_results_with_thresh = print(f\"\"\"\n",
    "Our final model's accuracy on the test set is {round(accuracy_score(y_test1, y_hat), 2)}. \\n\n",
    "Our final model's recall on the test set is {round(recall_score(y_test1, y_hat), 2)} \\n\n",
    "Our final model's precision on the test set is {round(precision_score(y_test1, y_hat), 2)} \\n\n",
    "Our final model's f1-score on the test is {round(f1_score(y_test1, y_hat), 2)}.\n",
    "\"\"\")\n",
    "\n",
    "pickle.dump(fm2_test_results_with_thresh, open(final2, 'wb'))"
   ]
  },
  {
   "cell_type": "code",
   "execution_count": null,
   "metadata": {},
   "outputs": [],
   "source": []
  },
  {
   "cell_type": "code",
   "execution_count": null,
   "metadata": {},
   "outputs": [],
   "source": []
  }
 ],
 "metadata": {
  "kernelspec": {
   "display_name": "Python (learn-env)",
   "language": "python",
   "name": "learn-env"
  },
  "language_info": {
   "codemirror_mode": {
    "name": "ipython",
    "version": 3
   },
   "file_extension": ".py",
   "mimetype": "text/x-python",
   "name": "python",
   "nbconvert_exporter": "python",
   "pygments_lexer": "ipython3",
   "version": "3.8.5"
  },
  "toc": {
   "base_numbering": 1,
   "nav_menu": {},
   "number_sections": true,
   "sideBar": true,
   "skip_h1_title": false,
   "title_cell": "Table of Contents",
   "title_sidebar": "Contents",
   "toc_cell": false,
   "toc_position": {
    "height": "calc(100% - 180px)",
    "left": "10px",
    "top": "150px",
    "width": "282.875px"
   },
   "toc_section_display": true,
   "toc_window_display": true
  }
 },
 "nbformat": 4,
 "nbformat_minor": 4
}
