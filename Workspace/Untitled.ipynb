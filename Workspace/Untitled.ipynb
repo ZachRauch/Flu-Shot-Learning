{
 "cells": [
  {
   "cell_type": "markdown",
   "metadata": {},
   "source": [
    "### Imports"
   ]
  },
  {
   "cell_type": "code",
   "execution_count": 9,
   "metadata": {
    "ExecuteTime": {
     "end_time": "2022-04-15T17:21:20.104158Z",
     "start_time": "2022-04-15T17:21:20.100708Z"
    }
   },
   "outputs": [],
   "source": [
    "import pandas as pd\n",
    "import seaborn as sns\n",
    "import matplotlib.pyplot as plt\n",
    "import numpy as np"
   ]
  },
  {
   "cell_type": "markdown",
   "metadata": {},
   "source": [
    "### Problem Description"
   ]
  },
  {
   "cell_type": "markdown",
   "metadata": {},
   "source": [
    "YMyour goal is to predict how likely individuals are to receive their H1N1 and seasonal flu vaccines. Specifically, I'll be predicting two probabilities: one for h1n1_vaccine and one for seasonal_vaccine."
   ]
  },
  {
   "cell_type": "markdown",
   "metadata": {},
   "source": [
    "### Data Exploration"
   ]
  },
  {
   "cell_type": "code",
   "execution_count": 10,
   "metadata": {
    "ExecuteTime": {
     "end_time": "2022-04-15T17:21:20.130389Z",
     "start_time": "2022-04-15T17:21:20.107058Z"
    },
    "scrolled": false
   },
   "outputs": [
    {
     "name": "stdout",
     "output_type": "stream",
     "text": [
      "<class 'pandas.core.frame.DataFrame'>\n",
      "RangeIndex: 26708 entries, 0 to 26707\n",
      "Data columns (total 3 columns):\n",
      " #   Column            Non-Null Count  Dtype  \n",
      "---  ------            --------------  -----  \n",
      " 0   respondent_id     26708 non-null  int64  \n",
      " 1   h1n1_vaccine      26708 non-null  float64\n",
      " 2   seasonal_vaccine  26708 non-null  float64\n",
      "dtypes: float64(2), int64(1)\n",
      "memory usage: 626.1 KB\n"
     ]
    }
   ],
   "source": [
    "submission_format = pd.read_csv('../Data/submission_format.csv')\n",
    "submission_format.info()"
   ]
  },
  {
   "cell_type": "markdown",
   "metadata": {},
   "source": [
    "The submission_format.csv is an example of how my submission should be submitted."
   ]
  },
  {
   "cell_type": "code",
   "execution_count": 11,
   "metadata": {
    "ExecuteTime": {
     "end_time": "2022-04-15T17:21:20.236349Z",
     "start_time": "2022-04-15T17:21:20.133026Z"
    },
    "scrolled": true
   },
   "outputs": [
    {
     "name": "stdout",
     "output_type": "stream",
     "text": [
      "<class 'pandas.core.frame.DataFrame'>\n",
      "RangeIndex: 26708 entries, 0 to 26707\n",
      "Data columns (total 36 columns):\n",
      " #   Column                       Non-Null Count  Dtype  \n",
      "---  ------                       --------------  -----  \n",
      " 0   respondent_id                26708 non-null  int64  \n",
      " 1   h1n1_concern                 26623 non-null  float64\n",
      " 2   h1n1_knowledge               26586 non-null  float64\n",
      " 3   behavioral_antiviral_meds    26629 non-null  float64\n",
      " 4   behavioral_avoidance         26495 non-null  float64\n",
      " 5   behavioral_face_mask         26689 non-null  float64\n",
      " 6   behavioral_wash_hands        26668 non-null  float64\n",
      " 7   behavioral_large_gatherings  26636 non-null  float64\n",
      " 8   behavioral_outside_home      26626 non-null  float64\n",
      " 9   behavioral_touch_face        26580 non-null  float64\n",
      " 10  doctor_recc_h1n1             24548 non-null  float64\n",
      " 11  doctor_recc_seasonal         24548 non-null  float64\n",
      " 12  chronic_med_condition        25776 non-null  float64\n",
      " 13  child_under_6_months         25895 non-null  float64\n",
      " 14  health_worker                25919 non-null  float64\n",
      " 15  health_insurance             14480 non-null  float64\n",
      " 16  opinion_h1n1_vacc_effective  26310 non-null  float64\n",
      " 17  opinion_h1n1_risk            26328 non-null  float64\n",
      " 18  opinion_h1n1_sick_from_vacc  26333 non-null  float64\n",
      " 19  opinion_seas_vacc_effective  26256 non-null  float64\n",
      " 20  opinion_seas_risk            26209 non-null  float64\n",
      " 21  opinion_seas_sick_from_vacc  26187 non-null  float64\n",
      " 22  age_group                    26708 non-null  object \n",
      " 23  education                    25301 non-null  object \n",
      " 24  race                         26708 non-null  object \n",
      " 25  sex                          26708 non-null  object \n",
      " 26  income_poverty               22211 non-null  object \n",
      " 27  marital_status               25266 non-null  object \n",
      " 28  rent_or_own                  24672 non-null  object \n",
      " 29  employment_status            25237 non-null  object \n",
      " 30  hhs_geo_region               26708 non-null  object \n",
      " 31  census_msa                   26708 non-null  object \n",
      " 32  household_adults             26483 non-null  float64\n",
      " 33  household_children           26483 non-null  float64\n",
      " 34  employment_industry          13433 non-null  object \n",
      " 35  employment_occupation        13282 non-null  object \n",
      "dtypes: float64(23), int64(1), object(12)\n",
      "memory usage: 7.3+ MB\n"
     ]
    }
   ],
   "source": [
    "test_set_features = pd.read_csv('../Data/test_set_features.csv')\n",
    "test_set_features.info()"
   ]
  },
  {
   "cell_type": "markdown",
   "metadata": {},
   "source": [
    "The test_set_features.csv will be used to run my model and produce a predictive csv in the format of submission_format. "
   ]
  },
  {
   "cell_type": "code",
   "execution_count": 12,
   "metadata": {
    "ExecuteTime": {
     "end_time": "2022-04-15T17:21:20.328237Z",
     "start_time": "2022-04-15T17:21:20.237785Z"
    },
    "scrolled": true
   },
   "outputs": [
    {
     "name": "stdout",
     "output_type": "stream",
     "text": [
      "<class 'pandas.core.frame.DataFrame'>\n",
      "RangeIndex: 26707 entries, 0 to 26706\n",
      "Data columns (total 36 columns):\n",
      " #   Column                       Non-Null Count  Dtype  \n",
      "---  ------                       --------------  -----  \n",
      " 0   respondent_id                26707 non-null  int64  \n",
      " 1   h1n1_concern                 26615 non-null  float64\n",
      " 2   h1n1_knowledge               26591 non-null  float64\n",
      " 3   behavioral_antiviral_meds    26636 non-null  float64\n",
      " 4   behavioral_avoidance         26499 non-null  float64\n",
      " 5   behavioral_face_mask         26688 non-null  float64\n",
      " 6   behavioral_wash_hands        26665 non-null  float64\n",
      " 7   behavioral_large_gatherings  26620 non-null  float64\n",
      " 8   behavioral_outside_home      26625 non-null  float64\n",
      " 9   behavioral_touch_face        26579 non-null  float64\n",
      " 10  doctor_recc_h1n1             24547 non-null  float64\n",
      " 11  doctor_recc_seasonal         24547 non-null  float64\n",
      " 12  chronic_med_condition        25736 non-null  float64\n",
      " 13  child_under_6_months         25887 non-null  float64\n",
      " 14  health_worker                25903 non-null  float64\n",
      " 15  health_insurance             14433 non-null  float64\n",
      " 16  opinion_h1n1_vacc_effective  26316 non-null  float64\n",
      " 17  opinion_h1n1_risk            26319 non-null  float64\n",
      " 18  opinion_h1n1_sick_from_vacc  26312 non-null  float64\n",
      " 19  opinion_seas_vacc_effective  26245 non-null  float64\n",
      " 20  opinion_seas_risk            26193 non-null  float64\n",
      " 21  opinion_seas_sick_from_vacc  26170 non-null  float64\n",
      " 22  age_group                    26707 non-null  object \n",
      " 23  education                    25300 non-null  object \n",
      " 24  race                         26707 non-null  object \n",
      " 25  sex                          26707 non-null  object \n",
      " 26  income_poverty               22284 non-null  object \n",
      " 27  marital_status               25299 non-null  object \n",
      " 28  rent_or_own                  24665 non-null  object \n",
      " 29  employment_status            25244 non-null  object \n",
      " 30  hhs_geo_region               26707 non-null  object \n",
      " 31  census_msa                   26707 non-null  object \n",
      " 32  household_adults             26458 non-null  float64\n",
      " 33  household_children           26458 non-null  float64\n",
      " 34  employment_industry          13377 non-null  object \n",
      " 35  employment_occupation        13237 non-null  object \n",
      "dtypes: float64(23), int64(1), object(12)\n",
      "memory usage: 7.3+ MB\n"
     ]
    }
   ],
   "source": [
    "training_set_features = pd.read_csv('../Data/training_set_features.csv')\n",
    "training_set_features.info()"
   ]
  },
  {
   "cell_type": "code",
   "execution_count": 13,
   "metadata": {
    "ExecuteTime": {
     "end_time": "2022-04-15T17:21:20.337702Z",
     "start_time": "2022-04-15T17:21:20.329493Z"
    }
   },
   "outputs": [
    {
     "name": "stdout",
     "output_type": "stream",
     "text": [
      "<class 'pandas.core.frame.DataFrame'>\n",
      "RangeIndex: 26707 entries, 0 to 26706\n",
      "Data columns (total 3 columns):\n",
      " #   Column            Non-Null Count  Dtype\n",
      "---  ------            --------------  -----\n",
      " 0   respondent_id     26707 non-null  int64\n",
      " 1   h1n1_vaccine      26707 non-null  int64\n",
      " 2   seasonal_vaccine  26707 non-null  int64\n",
      "dtypes: int64(3)\n",
      "memory usage: 626.1 KB\n"
     ]
    }
   ],
   "source": [
    "training_set_labels = pd.read_csv('../Data/training_set_labels.csv')\n",
    "training_set_labels.info()"
   ]
  },
  {
   "cell_type": "markdown",
   "metadata": {},
   "source": [
    "The training_set_features and is the dataset used to predict the actual training_set_labels. They are already split, however I will be rejoining for any cleaning I find necessary and splitting again in a format that is more convenient since there is two target variables. "
   ]
  },
  {
   "cell_type": "code",
   "execution_count": 14,
   "metadata": {
    "ExecuteTime": {
     "end_time": "2022-04-15T17:21:20.359148Z",
     "start_time": "2022-04-15T17:21:20.338635Z"
    }
   },
   "outputs": [],
   "source": [
    "complete_data = pd.merge(training_set_features, training_set_labels, on='respondent_id')"
   ]
  },
  {
   "cell_type": "markdown",
   "metadata": {},
   "source": [
    "### Cleaning"
   ]
  },
  {
   "cell_type": "code",
   "execution_count": 15,
   "metadata": {
    "ExecuteTime": {
     "end_time": "2022-04-15T17:21:20.383911Z",
     "start_time": "2022-04-15T17:21:20.360356Z"
    }
   },
   "outputs": [
    {
     "name": "stdout",
     "output_type": "stream",
     "text": [
      "<class 'pandas.core.frame.DataFrame'>\n",
      "Int64Index: 26707 entries, 0 to 26706\n",
      "Data columns (total 38 columns):\n",
      " #   Column                       Non-Null Count  Dtype  \n",
      "---  ------                       --------------  -----  \n",
      " 0   respondent_id                26707 non-null  int64  \n",
      " 1   h1n1_concern                 26615 non-null  float64\n",
      " 2   h1n1_knowledge               26591 non-null  float64\n",
      " 3   behavioral_antiviral_meds    26636 non-null  float64\n",
      " 4   behavioral_avoidance         26499 non-null  float64\n",
      " 5   behavioral_face_mask         26688 non-null  float64\n",
      " 6   behavioral_wash_hands        26665 non-null  float64\n",
      " 7   behavioral_large_gatherings  26620 non-null  float64\n",
      " 8   behavioral_outside_home      26625 non-null  float64\n",
      " 9   behavioral_touch_face        26579 non-null  float64\n",
      " 10  doctor_recc_h1n1             24547 non-null  float64\n",
      " 11  doctor_recc_seasonal         24547 non-null  float64\n",
      " 12  chronic_med_condition        25736 non-null  float64\n",
      " 13  child_under_6_months         25887 non-null  float64\n",
      " 14  health_worker                25903 non-null  float64\n",
      " 15  health_insurance             14433 non-null  float64\n",
      " 16  opinion_h1n1_vacc_effective  26316 non-null  float64\n",
      " 17  opinion_h1n1_risk            26319 non-null  float64\n",
      " 18  opinion_h1n1_sick_from_vacc  26312 non-null  float64\n",
      " 19  opinion_seas_vacc_effective  26245 non-null  float64\n",
      " 20  opinion_seas_risk            26193 non-null  float64\n",
      " 21  opinion_seas_sick_from_vacc  26170 non-null  float64\n",
      " 22  age_group                    26707 non-null  object \n",
      " 23  education                    25300 non-null  object \n",
      " 24  race                         26707 non-null  object \n",
      " 25  sex                          26707 non-null  object \n",
      " 26  income_poverty               22284 non-null  object \n",
      " 27  marital_status               25299 non-null  object \n",
      " 28  rent_or_own                  24665 non-null  object \n",
      " 29  employment_status            25244 non-null  object \n",
      " 30  hhs_geo_region               26707 non-null  object \n",
      " 31  census_msa                   26707 non-null  object \n",
      " 32  household_adults             26458 non-null  float64\n",
      " 33  household_children           26458 non-null  float64\n",
      " 34  employment_industry          13377 non-null  object \n",
      " 35  employment_occupation        13237 non-null  object \n",
      " 36  h1n1_vaccine                 26707 non-null  int64  \n",
      " 37  seasonal_vaccine             26707 non-null  int64  \n",
      "dtypes: float64(23), int64(3), object(12)\n",
      "memory usage: 7.9+ MB\n"
     ]
    }
   ],
   "source": [
    "complete_data.info()"
   ]
  },
  {
   "cell_type": "code",
   "execution_count": 60,
   "metadata": {
    "ExecuteTime": {
     "end_time": "2022-04-15T17:56:45.891914Z",
     "start_time": "2022-04-15T17:56:45.854515Z"
    },
    "scrolled": false
   },
   "outputs": [
    {
     "data": {
      "text/plain": [
       "income_poverty                 4423\n",
       "rent_or_own                    2042\n",
       "employment_occupation          1786\n",
       "employment_industry            1646\n",
       "employment_status              1463\n",
       "marital_status                 1408\n",
       "chronic_med_condition           971\n",
       "child_under_6_months            820\n",
       "health_worker                   804\n",
       "opinion_seas_sick_from_vacc     537\n",
       "opinion_seas_risk               514\n",
       "opinion_seas_vacc_effective     462\n",
       "opinion_h1n1_sick_from_vacc     395\n",
       "opinion_h1n1_vacc_effective     391\n",
       "opinion_h1n1_risk               388\n",
       "household_adults                249\n",
       "household_children              249\n",
       "behavioral_avoidance            208\n",
       "behavioral_touch_face           128\n",
       "h1n1_knowledge                  116\n",
       "h1n1_concern                     92\n",
       "behavioral_large_gatherings      87\n",
       "behavioral_outside_home          82\n",
       "behavioral_antiviral_meds        71\n",
       "behavioral_wash_hands            42\n",
       "behavioral_face_mask             19\n",
       "doctor_recc_h1n1                  0\n",
       "seasonal_vaccine                  0\n",
       "doctor_recc_seasonal              0\n",
       "health_insurance                  0\n",
       "h1n1_vaccine                      0\n",
       "age_group                         0\n",
       "education                         0\n",
       "race                              0\n",
       "sex                               0\n",
       "hhs_geo_region                    0\n",
       "census_msa                        0\n",
       "respondent_id                     0\n",
       "dtype: int64"
      ]
     },
     "execution_count": 60,
     "metadata": {},
     "output_type": "execute_result"
    }
   ],
   "source": [
    "complete_data.isna().sum().sort_values(ascending=False)"
   ]
  },
  {
   "cell_type": "markdown",
   "metadata": {},
   "source": [
    "#### rent_or_own"
   ]
  },
  {
   "cell_type": "code",
   "execution_count": 40,
   "metadata": {
    "ExecuteTime": {
     "end_time": "2022-04-15T17:44:19.321255Z",
     "start_time": "2022-04-15T17:44:19.307302Z"
    }
   },
   "outputs": [
    {
     "data": {
      "text/plain": [
       "Own     18736\n",
       "Rent     5929\n",
       "Name: rent_or_own, dtype: int64"
      ]
     },
     "execution_count": 40,
     "metadata": {},
     "output_type": "execute_result"
    }
   ],
   "source": [
    "complete_data['rent_or_own'].value_counts()"
   ]
  },
  {
   "cell_type": "code",
   "execution_count": null,
   "metadata": {},
   "outputs": [],
   "source": []
  },
  {
   "cell_type": "markdown",
   "metadata": {},
   "source": [
    "#### Education"
   ]
  },
  {
   "cell_type": "code",
   "execution_count": 41,
   "metadata": {
    "ExecuteTime": {
     "end_time": "2022-04-15T17:44:26.144560Z",
     "start_time": "2022-04-15T17:44:26.130979Z"
    },
    "scrolled": true
   },
   "outputs": [
    {
     "data": {
      "text/plain": [
       "College Graduate    10097\n",
       "Some College         7043\n",
       "12 Years             5797\n",
       "< 12 Years           2363\n",
       "Name: education, dtype: int64"
      ]
     },
     "execution_count": 41,
     "metadata": {},
     "output_type": "execute_result"
    }
   ],
   "source": [
    "complete_data['education'].value_counts()"
   ]
  },
  {
   "cell_type": "code",
   "execution_count": 43,
   "metadata": {
    "ExecuteTime": {
     "end_time": "2022-04-15T17:45:02.935364Z",
     "start_time": "2022-04-15T17:45:02.926260Z"
    }
   },
   "outputs": [],
   "source": [
    "complete_data['education'].fillna(\"Unknown\", inplace=True)"
   ]
  },
  {
   "cell_type": "markdown",
   "metadata": {},
   "source": [
    "#### Doctor Recommended"
   ]
  },
  {
   "cell_type": "code",
   "execution_count": 38,
   "metadata": {
    "ExecuteTime": {
     "end_time": "2022-04-15T17:40:13.068394Z",
     "start_time": "2022-04-15T17:40:13.058072Z"
    },
    "scrolled": false
   },
   "outputs": [
    {
     "data": {
      "text/plain": [
       "0.0    16453\n",
       "1.0     8094\n",
       "Name: doctor_recc_seasonal, dtype: int64"
      ]
     },
     "execution_count": 38,
     "metadata": {},
     "output_type": "execute_result"
    }
   ],
   "source": [
    "complete_data['doctor_recc_seasonal'].value_counts()"
   ]
  },
  {
   "cell_type": "code",
   "execution_count": 57,
   "metadata": {
    "ExecuteTime": {
     "end_time": "2022-04-15T17:56:17.569501Z",
     "start_time": "2022-04-15T17:56:17.562534Z"
    }
   },
   "outputs": [],
   "source": [
    "complete_data['doctor_recc_seasonal'].fillna(complete_data['doctor_recc_seasonal'].value_counts().index[0], inplace=True)"
   ]
  },
  {
   "cell_type": "code",
   "execution_count": 58,
   "metadata": {
    "ExecuteTime": {
     "end_time": "2022-04-15T17:56:30.850331Z",
     "start_time": "2022-04-15T17:56:30.837905Z"
    }
   },
   "outputs": [
    {
     "data": {
      "text/plain": [
       "0.0    18613\n",
       "1.0     8094\n",
       "Name: doctor_recc_seasonal, dtype: int64"
      ]
     },
     "execution_count": 58,
     "metadata": {},
     "output_type": "execute_result"
    }
   ],
   "source": [
    "complete_data['doctor_recc_seasonal'].value_counts()"
   ]
  },
  {
   "cell_type": "code",
   "execution_count": 37,
   "metadata": {
    "ExecuteTime": {
     "end_time": "2022-04-15T17:37:41.518406Z",
     "start_time": "2022-04-15T17:37:41.505619Z"
    },
    "scrolled": false
   },
   "outputs": [
    {
     "data": {
      "text/plain": [
       "0.0    19139\n",
       "1.0     5408\n",
       "Name: doctor_recc_h1n1, dtype: int64"
      ]
     },
     "execution_count": 37,
     "metadata": {},
     "output_type": "execute_result"
    }
   ],
   "source": [
    "complete_data['doctor_recc_h1n1'].value_counts()"
   ]
  },
  {
   "cell_type": "code",
   "execution_count": 56,
   "metadata": {
    "ExecuteTime": {
     "end_time": "2022-04-15T17:56:11.164484Z",
     "start_time": "2022-04-15T17:56:11.156793Z"
    }
   },
   "outputs": [],
   "source": [
    "complete_data['doctor_recc_h1n1'].fillna(complete_data['doctor_recc_h1n1'].value_counts().index[0], inplace=True)"
   ]
  },
  {
   "cell_type": "code",
   "execution_count": 59,
   "metadata": {
    "ExecuteTime": {
     "end_time": "2022-04-15T17:56:42.298956Z",
     "start_time": "2022-04-15T17:56:42.286818Z"
    }
   },
   "outputs": [
    {
     "data": {
      "text/plain": [
       "0.0    21299\n",
       "1.0     5408\n",
       "Name: doctor_recc_h1n1, dtype: int64"
      ]
     },
     "execution_count": 59,
     "metadata": {},
     "output_type": "execute_result"
    }
   ],
   "source": [
    "complete_data['doctor_recc_h1n1'].value_counts()"
   ]
  },
  {
   "cell_type": "markdown",
   "metadata": {},
   "source": [
    "#### Health Insurance"
   ]
  },
  {
   "cell_type": "code",
   "execution_count": 17,
   "metadata": {
    "ExecuteTime": {
     "end_time": "2022-04-15T17:21:20.405963Z",
     "start_time": "2022-04-15T17:21:20.402893Z"
    }
   },
   "outputs": [
    {
     "data": {
      "text/plain": [
       "12274"
      ]
     },
     "execution_count": 17,
     "metadata": {},
     "output_type": "execute_result"
    }
   ],
   "source": [
    "complete_data['health_insurance'].isna().sum()"
   ]
  },
  {
   "cell_type": "markdown",
   "metadata": {},
   "source": [
    "The column health_insurance has 12,274 NA's. This is almost half of the data entries. Will need to replaced with a value or categorized as other."
   ]
  },
  {
   "cell_type": "code",
   "execution_count": 33,
   "metadata": {
    "ExecuteTime": {
     "end_time": "2022-04-15T17:33:17.426794Z",
     "start_time": "2022-04-15T17:33:17.414594Z"
    }
   },
   "outputs": [],
   "source": [
    "complete_data['health_insurance'].fillna(\"Unknown\", inplace=True)"
   ]
  },
  {
   "cell_type": "markdown",
   "metadata": {
    "ExecuteTime": {
     "end_time": "2022-04-08T17:37:08.376730Z",
     "start_time": "2022-04-08T17:37:08.362706Z"
    }
   },
   "source": [
    "#### Employment"
   ]
  },
  {
   "cell_type": "code",
   "execution_count": 45,
   "metadata": {
    "ExecuteTime": {
     "end_time": "2022-04-15T17:47:47.225614Z",
     "start_time": "2022-04-15T17:47:47.199783Z"
    }
   },
   "outputs": [
    {
     "data": {
      "text/html": [
       "<div>\n",
       "<style scoped>\n",
       "    .dataframe tbody tr th:only-of-type {\n",
       "        vertical-align: middle;\n",
       "    }\n",
       "\n",
       "    .dataframe tbody tr th {\n",
       "        vertical-align: top;\n",
       "    }\n",
       "\n",
       "    .dataframe thead th {\n",
       "        text-align: right;\n",
       "    }\n",
       "</style>\n",
       "<table border=\"1\" class=\"dataframe\">\n",
       "  <thead>\n",
       "    <tr style=\"text-align: right;\">\n",
       "      <th></th>\n",
       "      <th>health_worker</th>\n",
       "      <th>employment_status</th>\n",
       "      <th>employment_industry</th>\n",
       "      <th>employment_occupation</th>\n",
       "      <th>income_poverty</th>\n",
       "    </tr>\n",
       "  </thead>\n",
       "  <tbody>\n",
       "    <tr>\n",
       "      <th>0</th>\n",
       "      <td>0.0</td>\n",
       "      <td>Not in Labor Force</td>\n",
       "      <td>Not in Labor Force</td>\n",
       "      <td>Not in Labor Force</td>\n",
       "      <td>Below Poverty</td>\n",
       "    </tr>\n",
       "    <tr>\n",
       "      <th>1</th>\n",
       "      <td>0.0</td>\n",
       "      <td>Employed</td>\n",
       "      <td>pxcmvdjn</td>\n",
       "      <td>xgwztkwe</td>\n",
       "      <td>Below Poverty</td>\n",
       "    </tr>\n",
       "    <tr>\n",
       "      <th>2</th>\n",
       "      <td>0.0</td>\n",
       "      <td>Employed</td>\n",
       "      <td>rucpziij</td>\n",
       "      <td>xtkaffoo</td>\n",
       "      <td>&lt;= $75,000, Above Poverty</td>\n",
       "    </tr>\n",
       "    <tr>\n",
       "      <th>3</th>\n",
       "      <td>0.0</td>\n",
       "      <td>Not in Labor Force</td>\n",
       "      <td>Not in Labor Force</td>\n",
       "      <td>Not in Labor Force</td>\n",
       "      <td>Below Poverty</td>\n",
       "    </tr>\n",
       "    <tr>\n",
       "      <th>4</th>\n",
       "      <td>0.0</td>\n",
       "      <td>Employed</td>\n",
       "      <td>wxleyezf</td>\n",
       "      <td>emcorrxb</td>\n",
       "      <td>&lt;= $75,000, Above Poverty</td>\n",
       "    </tr>\n",
       "  </tbody>\n",
       "</table>\n",
       "</div>"
      ],
      "text/plain": [
       "   health_worker   employment_status employment_industry  \\\n",
       "0            0.0  Not in Labor Force  Not in Labor Force   \n",
       "1            0.0            Employed            pxcmvdjn   \n",
       "2            0.0            Employed            rucpziij   \n",
       "3            0.0  Not in Labor Force  Not in Labor Force   \n",
       "4            0.0            Employed            wxleyezf   \n",
       "\n",
       "  employment_occupation             income_poverty  \n",
       "0    Not in Labor Force              Below Poverty  \n",
       "1              xgwztkwe              Below Poverty  \n",
       "2              xtkaffoo  <= $75,000, Above Poverty  \n",
       "3    Not in Labor Force              Below Poverty  \n",
       "4              emcorrxb  <= $75,000, Above Poverty  "
      ]
     },
     "execution_count": 45,
     "metadata": {},
     "output_type": "execute_result"
    }
   ],
   "source": [
    "employment_df = complete_data.filter(['health_worker', 'employment_status', 'employment_industry', 'employment_occupation', 'income_poverty'], axis=1)\n",
    "employment_df.head()"
   ]
  },
  {
   "cell_type": "code",
   "execution_count": 19,
   "metadata": {
    "ExecuteTime": {
     "end_time": "2022-04-15T17:21:20.421606Z",
     "start_time": "2022-04-15T17:21:20.416079Z"
    },
    "scrolled": true
   },
   "outputs": [
    {
     "data": {
      "text/plain": [
       "Employed              13560\n",
       "Not in Labor Force    10231\n",
       "Unemployed             1453\n",
       "Name: employment_status, dtype: int64"
      ]
     },
     "execution_count": 19,
     "metadata": {},
     "output_type": "execute_result"
    }
   ],
   "source": [
    "employment_df['employment_status'].value_counts()"
   ]
  },
  {
   "cell_type": "code",
   "execution_count": 20,
   "metadata": {
    "ExecuteTime": {
     "end_time": "2022-04-15T17:21:20.428349Z",
     "start_time": "2022-04-15T17:21:20.422596Z"
    },
    "scrolled": false
   },
   "outputs": [
    {
     "data": {
      "text/plain": [
       "fcxhlnwr    2468\n",
       "wxleyezf    1804\n",
       "ldnlellj    1231\n",
       "pxcmvdjn    1037\n",
       "atmlpfrs     926\n",
       "arjwrbjb     871\n",
       "xicduogh     851\n",
       "mfikgejo     614\n",
       "vjjrobsf     527\n",
       "rucpziij     523\n",
       "xqicxuve     511\n",
       "saaquncn     338\n",
       "cfqqtusy     325\n",
       "nduyfdeo     286\n",
       "mcubkhph     275\n",
       "wlfvacwt     215\n",
       "dotnnunm     201\n",
       "haxffmxo     148\n",
       "msuufmds     124\n",
       "phxvnwax      89\n",
       "qnlwzans      13\n",
       "Name: employment_industry, dtype: int64"
      ]
     },
     "execution_count": 20,
     "metadata": {},
     "output_type": "execute_result"
    }
   ],
   "source": [
    "employment_df['employment_industry'].value_counts()"
   ]
  },
  {
   "cell_type": "code",
   "execution_count": 46,
   "metadata": {
    "ExecuteTime": {
     "end_time": "2022-04-15T17:48:16.497433Z",
     "start_time": "2022-04-15T17:48:16.477657Z"
    },
    "scrolled": true
   },
   "outputs": [
    {
     "data": {
      "text/plain": [
       "<= $75,000, Above Poverty    12777\n",
       "> $75,000                     6810\n",
       "Below Poverty                 2697\n",
       "Name: income_poverty, dtype: int64"
      ]
     },
     "execution_count": 46,
     "metadata": {},
     "output_type": "execute_result"
    }
   ],
   "source": [
    "employment_df['income_poverty'].value_counts()"
   ]
  },
  {
   "cell_type": "code",
   "execution_count": 61,
   "metadata": {
    "ExecuteTime": {
     "end_time": "2022-04-15T17:58:44.909186Z",
     "start_time": "2022-04-15T17:58:44.898650Z"
    }
   },
   "outputs": [
    {
     "data": {
      "text/plain": [
       "4423"
      ]
     },
     "execution_count": 61,
     "metadata": {},
     "output_type": "execute_result"
    }
   ],
   "source": [
    "employment_df['income_poverty'].isna().sum()"
   ]
  },
  {
   "cell_type": "markdown",
   "metadata": {},
   "source": [
    "If the employment_status column has a value of Not in Labor Force, then columns employment_industry and employment_occupation will have NA's. \n",
    "\n",
    "Values in columns employment_industry and employment_occupation are represented as short random character strings.\n",
    "\n",
    "Not in Labor Force = Unemployed?"
   ]
  },
  {
   "cell_type": "code",
   "execution_count": 21,
   "metadata": {
    "ExecuteTime": {
     "end_time": "2022-04-15T17:21:20.433643Z",
     "start_time": "2022-04-15T17:21:20.429409Z"
    }
   },
   "outputs": [],
   "source": [
    "employment_df['employment_status'].replace(\"Unemployed\", \"Not in Labor Force\", inplace=True)"
   ]
  },
  {
   "cell_type": "code",
   "execution_count": 25,
   "metadata": {
    "ExecuteTime": {
     "end_time": "2022-04-15T17:21:52.437895Z",
     "start_time": "2022-04-15T17:21:52.422925Z"
    },
    "scrolled": true
   },
   "outputs": [
    {
     "data": {
      "text/plain": [
       "Employed              13560\n",
       "Not in Labor Force    11684\n",
       "Name: employment_status, dtype: int64"
      ]
     },
     "execution_count": 25,
     "metadata": {},
     "output_type": "execute_result"
    }
   ],
   "source": [
    "employment_df['employment_status'].value_counts()"
   ]
  },
  {
   "cell_type": "code",
   "execution_count": 26,
   "metadata": {
    "ExecuteTime": {
     "end_time": "2022-04-15T17:22:40.120585Z",
     "start_time": "2022-04-15T17:22:40.115924Z"
    }
   },
   "outputs": [],
   "source": [
    "complete_data['employment_status'] = employment_df['employment_status']"
   ]
  },
  {
   "cell_type": "code",
   "execution_count": 27,
   "metadata": {
    "ExecuteTime": {
     "end_time": "2022-04-15T17:22:49.961514Z",
     "start_time": "2022-04-15T17:22:49.943075Z"
    }
   },
   "outputs": [
    {
     "data": {
      "text/plain": [
       "Employed              13560\n",
       "Not in Labor Force    11684\n",
       "Name: employment_status, dtype: int64"
      ]
     },
     "execution_count": 27,
     "metadata": {},
     "output_type": "execute_result"
    }
   ],
   "source": [
    "complete_data['employment_status'].value_counts()"
   ]
  },
  {
   "cell_type": "code",
   "execution_count": 28,
   "metadata": {
    "ExecuteTime": {
     "end_time": "2022-04-15T17:26:58.162617Z",
     "start_time": "2022-04-15T17:26:58.139061Z"
    }
   },
   "outputs": [],
   "source": [
    "employment_df.loc[employment_df['employment_status'] == \"Not in Labor Force\", 'employment_industry'] = \"Not in Labor Force\"\n",
    "employment_df.loc[employment_df['employment_status'] == \"Not in Labor Force\", 'employment_occupation'] = \"Not in Labor Force\""
   ]
  },
  {
   "cell_type": "code",
   "execution_count": 29,
   "metadata": {
    "ExecuteTime": {
     "end_time": "2022-04-15T17:27:28.386589Z",
     "start_time": "2022-04-15T17:27:28.365842Z"
    },
    "scrolled": true
   },
   "outputs": [
    {
     "data": {
      "text/plain": [
       "employment_occupation    1786\n",
       "employment_industry      1646\n",
       "employment_status        1463\n",
       "health_worker             804\n",
       "dtype: int64"
      ]
     },
     "execution_count": 29,
     "metadata": {},
     "output_type": "execute_result"
    }
   ],
   "source": [
    "employment_df.isna().sum().sort_values(ascending=False)"
   ]
  },
  {
   "cell_type": "code",
   "execution_count": 30,
   "metadata": {
    "ExecuteTime": {
     "end_time": "2022-04-15T17:28:46.638543Z",
     "start_time": "2022-04-15T17:28:46.633694Z"
    }
   },
   "outputs": [],
   "source": [
    "complete_data['employment_occupation'] = employment_df['employment_occupation']\n",
    "complete_data['employment_industry'] = employment_df['employment_industry']"
   ]
  },
  {
   "cell_type": "markdown",
   "metadata": {},
   "source": [
    "### Correlations"
   ]
  },
  {
   "cell_type": "code",
   "execution_count": 22,
   "metadata": {
    "ExecuteTime": {
     "end_time": "2022-04-15T17:21:20.464458Z",
     "start_time": "2022-04-15T17:21:20.434619Z"
    },
    "scrolled": true
   },
   "outputs": [
    {
     "data": {
      "text/plain": [
       "h1n1_vaccine                   1.000000\n",
       "doctor_recc_h1n1               0.393890\n",
       "seasonal_vaccine               0.377143\n",
       "opinion_h1n1_risk              0.323265\n",
       "opinion_h1n1_vacc_effective    0.269347\n",
       "opinion_seas_risk              0.258571\n",
       "doctor_recc_seasonal           0.209864\n",
       "opinion_seas_vacc_effective    0.179272\n",
       "health_worker                  0.169768\n",
       "h1n1_concern                   0.121929\n",
       "health_insurance               0.121170\n",
       "h1n1_knowledge                 0.117951\n",
       "chronic_med_condition          0.095207\n",
       "opinion_h1n1_sick_from_vacc    0.075091\n",
       "behavioral_wash_hands          0.074712\n",
       "behavioral_touch_face          0.071648\n",
       "behavioral_face_mask           0.070498\n",
       "child_under_6_months           0.066962\n",
       "behavioral_avoidance           0.047690\n",
       "behavioral_antiviral_meds      0.040608\n",
       "behavioral_outside_home        0.021768\n",
       "behavioral_large_gatherings    0.017822\n",
       "opinion_seas_sick_from_vacc    0.008360\n",
       "household_adults               0.007545\n",
       "respondent_id                 -0.003280\n",
       "household_children            -0.003320\n",
       "Name: h1n1_vaccine, dtype: float64"
      ]
     },
     "execution_count": 22,
     "metadata": {},
     "output_type": "execute_result"
    }
   ],
   "source": [
    "complete_data.corr()['h1n1_vaccine'].sort_values(ascending=False)"
   ]
  },
  {
   "cell_type": "code",
   "execution_count": 23,
   "metadata": {
    "ExecuteTime": {
     "end_time": "2022-04-15T17:21:20.492474Z",
     "start_time": "2022-04-15T17:21:20.465396Z"
    }
   },
   "outputs": [
    {
     "data": {
      "text/plain": [
       "seasonal_vaccine               1.000000\n",
       "opinion_seas_risk              0.390106\n",
       "h1n1_vaccine                   0.377143\n",
       "doctor_recc_seasonal           0.369190\n",
       "opinion_seas_vacc_effective    0.361875\n",
       "opinion_h1n1_risk              0.216625\n",
       "opinion_h1n1_vacc_effective    0.205072\n",
       "health_insurance               0.200858\n",
       "doctor_recc_h1n1               0.198607\n",
       "chronic_med_condition          0.170174\n",
       "h1n1_concern                   0.154828\n",
       "health_worker                  0.127311\n",
       "behavioral_touch_face          0.120228\n",
       "h1n1_knowledge                 0.120152\n",
       "behavioral_wash_hands          0.112414\n",
       "behavioral_avoidance           0.076395\n",
       "behavioral_large_gatherings    0.064025\n",
       "behavioral_outside_home        0.053509\n",
       "behavioral_face_mask           0.050083\n",
       "opinion_h1n1_sick_from_vacc    0.027404\n",
       "child_under_6_months           0.012097\n",
       "behavioral_antiviral_meds      0.006277\n",
       "respondent_id                 -0.004652\n",
       "opinion_seas_sick_from_vacc   -0.061510\n",
       "household_adults              -0.064840\n",
       "household_children            -0.114614\n",
       "Name: seasonal_vaccine, dtype: float64"
      ]
     },
     "execution_count": 23,
     "metadata": {},
     "output_type": "execute_result"
    }
   ],
   "source": [
    "complete_data.corr()['seasonal_vaccine'].sort_values(ascending=False)"
   ]
  },
  {
   "cell_type": "code",
   "execution_count": 24,
   "metadata": {
    "ExecuteTime": {
     "end_time": "2022-04-15T17:21:20.496807Z",
     "start_time": "2022-04-15T17:21:20.495268Z"
    }
   },
   "outputs": [],
   "source": [
    "# with sns.axes_style(\"darkgrid\"):\n",
    "#     f, ax = plt.subplots(figsize=(10, 8))\n",
    "    \n",
    "#     mask = np.triu(np.ones_like(complete_data.corr(), dtype=bool))\n",
    "#     ax = sns.heatmap(abs(complete_data.corr()),mask=mask,annot=True)\n"
   ]
  },
  {
   "cell_type": "markdown",
   "metadata": {},
   "source": [
    "### Split"
   ]
  },
  {
   "cell_type": "markdown",
   "metadata": {},
   "source": [
    "### Encoding"
   ]
  },
  {
   "cell_type": "markdown",
   "metadata": {},
   "source": [
    "### Model"
   ]
  },
  {
   "cell_type": "markdown",
   "metadata": {},
   "source": [
    "### Fit On Full"
   ]
  }
 ],
 "metadata": {
  "kernelspec": {
   "display_name": "Python (learn-env)",
   "language": "python",
   "name": "learn-env"
  },
  "language_info": {
   "codemirror_mode": {
    "name": "ipython",
    "version": 3
   },
   "file_extension": ".py",
   "mimetype": "text/x-python",
   "name": "python",
   "nbconvert_exporter": "python",
   "pygments_lexer": "ipython3",
   "version": "3.8.5"
  },
  "toc": {
   "base_numbering": 1,
   "nav_menu": {},
   "number_sections": true,
   "sideBar": true,
   "skip_h1_title": false,
   "title_cell": "Table of Contents",
   "title_sidebar": "Contents",
   "toc_cell": false,
   "toc_position": {},
   "toc_section_display": true,
   "toc_window_display": false
  }
 },
 "nbformat": 4,
 "nbformat_minor": 4
}
