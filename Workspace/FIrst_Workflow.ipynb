{
 "cells": [
  {
   "cell_type": "markdown",
   "metadata": {},
   "source": [
    "### Imports"
   ]
  },
  {
   "cell_type": "code",
   "execution_count": 1,
   "metadata": {
    "ExecuteTime": {
     "end_time": "2022-04-18T18:05:35.572376Z",
     "start_time": "2022-04-18T18:05:34.791762Z"
    }
   },
   "outputs": [],
   "source": [
    "import pandas as pd\n",
    "import numpy as np\n",
    "from matplotlib import pyplot as plt\n",
    "import seaborn as sns\n",
    "\n",
    "from sklearn.model_selection import train_test_split,\\\n",
    "    GridSearchCV, cross_val_score\n",
    "from sklearn.pipeline import Pipeline\n",
    "from sklearn.preprocessing import StandardScaler, OneHotEncoder,\\\n",
    "    FunctionTransformer, OrdinalEncoder\n",
    "from sklearn.impute import SimpleImputer\n",
    "from sklearn.compose import ColumnTransformer\n",
    "from sklearn.linear_model import LogisticRegression\n",
    "from sklearn.neighbors import KNeighborsClassifier\n",
    "from sklearn.ensemble import RandomForestClassifier,\\\n",
    "    GradientBoostingClassifier, AdaBoostClassifier,\\\n",
    "    BaggingClassifier, ExtraTreesClassifier,\\\n",
    "    VotingClassifier, StackingClassifier\n",
    "from sklearn.metrics import plot_confusion_matrix, recall_score,\\\n",
    "    accuracy_score, precision_score, f1_score\n",
    "\n",
    "import xgboost\n",
    "\n",
    "from imblearn.over_sampling import SMOTE\n",
    "from imblearn.pipeline import Pipeline as ImPipeline"
   ]
  },
  {
   "cell_type": "code",
   "execution_count": 2,
   "metadata": {
    "ExecuteTime": {
     "end_time": "2022-04-18T18:05:35.574877Z",
     "start_time": "2022-04-18T18:05:35.573350Z"
    }
   },
   "outputs": [],
   "source": [
    "import warnings\n",
    "warnings.simplefilter(action='ignore', category=FutureWarning)"
   ]
  },
  {
   "cell_type": "markdown",
   "metadata": {},
   "source": [
    "### Problem Description"
   ]
  },
  {
   "cell_type": "markdown",
   "metadata": {},
   "source": [
    "My goal is to predict how likely individuals are to receive their H1N1 and seasonal flu vaccines. Specifically, I'll be predicting two probabilities: one for h1n1_vaccine and one for seasonal_vaccine."
   ]
  },
  {
   "cell_type": "markdown",
   "metadata": {},
   "source": [
    "#### Business Problem "
   ]
  },
  {
   "cell_type": "markdown",
   "metadata": {},
   "source": [
    "Mayo Clinic: How can we predict who will be vaccinated? What are the most significant features? "
   ]
  },
  {
   "cell_type": "markdown",
   "metadata": {},
   "source": [
    "### Data"
   ]
  },
  {
   "cell_type": "code",
   "execution_count": 3,
   "metadata": {
    "ExecuteTime": {
     "end_time": "2022-04-18T18:05:35.586261Z",
     "start_time": "2022-04-18T18:05:35.576100Z"
    }
   },
   "outputs": [
    {
     "name": "stdout",
     "output_type": "stream",
     "text": [
      "<class 'pandas.core.frame.DataFrame'>\n",
      "RangeIndex: 26708 entries, 0 to 26707\n",
      "Data columns (total 3 columns):\n",
      " #   Column            Non-Null Count  Dtype  \n",
      "---  ------            --------------  -----  \n",
      " 0   respondent_id     26708 non-null  int64  \n",
      " 1   h1n1_vaccine      26708 non-null  float64\n",
      " 2   seasonal_vaccine  26708 non-null  float64\n",
      "dtypes: float64(2), int64(1)\n",
      "memory usage: 626.1 KB\n"
     ]
    }
   ],
   "source": [
    "submission_format = pd.read_csv('../Data/submission_format.csv')\n",
    "submission_format.info()"
   ]
  },
  {
   "cell_type": "markdown",
   "metadata": {},
   "source": [
    "The submission_format.csv is an example of how my submission should be submitted."
   ]
  },
  {
   "cell_type": "code",
   "execution_count": 4,
   "metadata": {
    "ExecuteTime": {
     "end_time": "2022-04-18T18:05:35.666870Z",
     "start_time": "2022-04-18T18:05:35.587785Z"
    }
   },
   "outputs": [
    {
     "name": "stdout",
     "output_type": "stream",
     "text": [
      "<class 'pandas.core.frame.DataFrame'>\n",
      "RangeIndex: 26708 entries, 0 to 26707\n",
      "Data columns (total 36 columns):\n",
      " #   Column                       Non-Null Count  Dtype  \n",
      "---  ------                       --------------  -----  \n",
      " 0   respondent_id                26708 non-null  int64  \n",
      " 1   h1n1_concern                 26623 non-null  float64\n",
      " 2   h1n1_knowledge               26586 non-null  float64\n",
      " 3   behavioral_antiviral_meds    26629 non-null  float64\n",
      " 4   behavioral_avoidance         26495 non-null  float64\n",
      " 5   behavioral_face_mask         26689 non-null  float64\n",
      " 6   behavioral_wash_hands        26668 non-null  float64\n",
      " 7   behavioral_large_gatherings  26636 non-null  float64\n",
      " 8   behavioral_outside_home      26626 non-null  float64\n",
      " 9   behavioral_touch_face        26580 non-null  float64\n",
      " 10  doctor_recc_h1n1             24548 non-null  float64\n",
      " 11  doctor_recc_seasonal         24548 non-null  float64\n",
      " 12  chronic_med_condition        25776 non-null  float64\n",
      " 13  child_under_6_months         25895 non-null  float64\n",
      " 14  health_worker                25919 non-null  float64\n",
      " 15  health_insurance             14480 non-null  float64\n",
      " 16  opinion_h1n1_vacc_effective  26310 non-null  float64\n",
      " 17  opinion_h1n1_risk            26328 non-null  float64\n",
      " 18  opinion_h1n1_sick_from_vacc  26333 non-null  float64\n",
      " 19  opinion_seas_vacc_effective  26256 non-null  float64\n",
      " 20  opinion_seas_risk            26209 non-null  float64\n",
      " 21  opinion_seas_sick_from_vacc  26187 non-null  float64\n",
      " 22  age_group                    26708 non-null  object \n",
      " 23  education                    25301 non-null  object \n",
      " 24  race                         26708 non-null  object \n",
      " 25  sex                          26708 non-null  object \n",
      " 26  income_poverty               22211 non-null  object \n",
      " 27  marital_status               25266 non-null  object \n",
      " 28  rent_or_own                  24672 non-null  object \n",
      " 29  employment_status            25237 non-null  object \n",
      " 30  hhs_geo_region               26708 non-null  object \n",
      " 31  census_msa                   26708 non-null  object \n",
      " 32  household_adults             26483 non-null  float64\n",
      " 33  household_children           26483 non-null  float64\n",
      " 34  employment_industry          13433 non-null  object \n",
      " 35  employment_occupation        13282 non-null  object \n",
      "dtypes: float64(23), int64(1), object(12)\n",
      "memory usage: 7.3+ MB\n"
     ]
    }
   ],
   "source": [
    "test_set_features = pd.read_csv('../Data/test_set_features.csv')\n",
    "test_set_features.info()"
   ]
  },
  {
   "cell_type": "markdown",
   "metadata": {},
   "source": [
    "The test_set_features.csv will be used to run my model and produce a predictive csv in the format of submission_format. "
   ]
  },
  {
   "cell_type": "code",
   "execution_count": 5,
   "metadata": {
    "ExecuteTime": {
     "end_time": "2022-04-18T18:05:35.755914Z",
     "start_time": "2022-04-18T18:05:35.667844Z"
    }
   },
   "outputs": [
    {
     "name": "stdout",
     "output_type": "stream",
     "text": [
      "<class 'pandas.core.frame.DataFrame'>\n",
      "RangeIndex: 26707 entries, 0 to 26706\n",
      "Data columns (total 36 columns):\n",
      " #   Column                       Non-Null Count  Dtype  \n",
      "---  ------                       --------------  -----  \n",
      " 0   respondent_id                26707 non-null  int64  \n",
      " 1   h1n1_concern                 26615 non-null  float64\n",
      " 2   h1n1_knowledge               26591 non-null  float64\n",
      " 3   behavioral_antiviral_meds    26636 non-null  float64\n",
      " 4   behavioral_avoidance         26499 non-null  float64\n",
      " 5   behavioral_face_mask         26688 non-null  float64\n",
      " 6   behavioral_wash_hands        26665 non-null  float64\n",
      " 7   behavioral_large_gatherings  26620 non-null  float64\n",
      " 8   behavioral_outside_home      26625 non-null  float64\n",
      " 9   behavioral_touch_face        26579 non-null  float64\n",
      " 10  doctor_recc_h1n1             24547 non-null  float64\n",
      " 11  doctor_recc_seasonal         24547 non-null  float64\n",
      " 12  chronic_med_condition        25736 non-null  float64\n",
      " 13  child_under_6_months         25887 non-null  float64\n",
      " 14  health_worker                25903 non-null  float64\n",
      " 15  health_insurance             14433 non-null  float64\n",
      " 16  opinion_h1n1_vacc_effective  26316 non-null  float64\n",
      " 17  opinion_h1n1_risk            26319 non-null  float64\n",
      " 18  opinion_h1n1_sick_from_vacc  26312 non-null  float64\n",
      " 19  opinion_seas_vacc_effective  26245 non-null  float64\n",
      " 20  opinion_seas_risk            26193 non-null  float64\n",
      " 21  opinion_seas_sick_from_vacc  26170 non-null  float64\n",
      " 22  age_group                    26707 non-null  object \n",
      " 23  education                    25300 non-null  object \n",
      " 24  race                         26707 non-null  object \n",
      " 25  sex                          26707 non-null  object \n",
      " 26  income_poverty               22284 non-null  object \n",
      " 27  marital_status               25299 non-null  object \n",
      " 28  rent_or_own                  24665 non-null  object \n",
      " 29  employment_status            25244 non-null  object \n",
      " 30  hhs_geo_region               26707 non-null  object \n",
      " 31  census_msa                   26707 non-null  object \n",
      " 32  household_adults             26458 non-null  float64\n",
      " 33  household_children           26458 non-null  float64\n",
      " 34  employment_industry          13377 non-null  object \n",
      " 35  employment_occupation        13237 non-null  object \n",
      "dtypes: float64(23), int64(1), object(12)\n",
      "memory usage: 7.3+ MB\n"
     ]
    }
   ],
   "source": [
    "training_set_features = pd.read_csv('../Data/training_set_features.csv')\n",
    "training_set_features.info()"
   ]
  },
  {
   "cell_type": "code",
   "execution_count": 6,
   "metadata": {
    "ExecuteTime": {
     "end_time": "2022-04-18T18:05:35.765874Z",
     "start_time": "2022-04-18T18:05:35.756944Z"
    }
   },
   "outputs": [
    {
     "name": "stdout",
     "output_type": "stream",
     "text": [
      "<class 'pandas.core.frame.DataFrame'>\n",
      "RangeIndex: 26707 entries, 0 to 26706\n",
      "Data columns (total 3 columns):\n",
      " #   Column            Non-Null Count  Dtype\n",
      "---  ------            --------------  -----\n",
      " 0   respondent_id     26707 non-null  int64\n",
      " 1   h1n1_vaccine      26707 non-null  int64\n",
      " 2   seasonal_vaccine  26707 non-null  int64\n",
      "dtypes: int64(3)\n",
      "memory usage: 626.1 KB\n"
     ]
    }
   ],
   "source": [
    "training_set_labels = pd.read_csv('../Data/training_set_labels.csv')\n",
    "training_set_labels.info()"
   ]
  },
  {
   "cell_type": "markdown",
   "metadata": {},
   "source": [
    "The training_set_features and is the dataset used to predict the actual training_set_labels. They are already split, however I will be rejoining for any cleaning I find necessary and splitting again in a format that is more convenient since there is two target variables. "
   ]
  },
  {
   "cell_type": "code",
   "execution_count": 7,
   "metadata": {
    "ExecuteTime": {
     "end_time": "2022-04-18T18:05:35.791131Z",
     "start_time": "2022-04-18T18:05:35.766819Z"
    }
   },
   "outputs": [],
   "source": [
    "complete_data = pd.merge(training_set_features, training_set_labels, on='respondent_id')"
   ]
  },
  {
   "cell_type": "code",
   "execution_count": 8,
   "metadata": {
    "ExecuteTime": {
     "end_time": "2022-04-18T18:05:35.816731Z",
     "start_time": "2022-04-18T18:05:35.793266Z"
    }
   },
   "outputs": [
    {
     "name": "stdout",
     "output_type": "stream",
     "text": [
      "<class 'pandas.core.frame.DataFrame'>\n",
      "Int64Index: 26707 entries, 0 to 26706\n",
      "Data columns (total 38 columns):\n",
      " #   Column                       Non-Null Count  Dtype  \n",
      "---  ------                       --------------  -----  \n",
      " 0   respondent_id                26707 non-null  int64  \n",
      " 1   h1n1_concern                 26615 non-null  float64\n",
      " 2   h1n1_knowledge               26591 non-null  float64\n",
      " 3   behavioral_antiviral_meds    26636 non-null  float64\n",
      " 4   behavioral_avoidance         26499 non-null  float64\n",
      " 5   behavioral_face_mask         26688 non-null  float64\n",
      " 6   behavioral_wash_hands        26665 non-null  float64\n",
      " 7   behavioral_large_gatherings  26620 non-null  float64\n",
      " 8   behavioral_outside_home      26625 non-null  float64\n",
      " 9   behavioral_touch_face        26579 non-null  float64\n",
      " 10  doctor_recc_h1n1             24547 non-null  float64\n",
      " 11  doctor_recc_seasonal         24547 non-null  float64\n",
      " 12  chronic_med_condition        25736 non-null  float64\n",
      " 13  child_under_6_months         25887 non-null  float64\n",
      " 14  health_worker                25903 non-null  float64\n",
      " 15  health_insurance             14433 non-null  float64\n",
      " 16  opinion_h1n1_vacc_effective  26316 non-null  float64\n",
      " 17  opinion_h1n1_risk            26319 non-null  float64\n",
      " 18  opinion_h1n1_sick_from_vacc  26312 non-null  float64\n",
      " 19  opinion_seas_vacc_effective  26245 non-null  float64\n",
      " 20  opinion_seas_risk            26193 non-null  float64\n",
      " 21  opinion_seas_sick_from_vacc  26170 non-null  float64\n",
      " 22  age_group                    26707 non-null  object \n",
      " 23  education                    25300 non-null  object \n",
      " 24  race                         26707 non-null  object \n",
      " 25  sex                          26707 non-null  object \n",
      " 26  income_poverty               22284 non-null  object \n",
      " 27  marital_status               25299 non-null  object \n",
      " 28  rent_or_own                  24665 non-null  object \n",
      " 29  employment_status            25244 non-null  object \n",
      " 30  hhs_geo_region               26707 non-null  object \n",
      " 31  census_msa                   26707 non-null  object \n",
      " 32  household_adults             26458 non-null  float64\n",
      " 33  household_children           26458 non-null  float64\n",
      " 34  employment_industry          13377 non-null  object \n",
      " 35  employment_occupation        13237 non-null  object \n",
      " 36  h1n1_vaccine                 26707 non-null  int64  \n",
      " 37  seasonal_vaccine             26707 non-null  int64  \n",
      "dtypes: float64(23), int64(3), object(12)\n",
      "memory usage: 7.9+ MB\n"
     ]
    }
   ],
   "source": [
    "complete_data.info()"
   ]
  },
  {
   "cell_type": "code",
   "execution_count": 9,
   "metadata": {
    "ExecuteTime": {
     "end_time": "2022-04-18T18:05:35.835488Z",
     "start_time": "2022-04-18T18:05:35.819267Z"
    },
    "scrolled": true
   },
   "outputs": [
    {
     "data": {
      "text/plain": [
       "employment_occupation          13470\n",
       "employment_industry            13330\n",
       "health_insurance               12274\n",
       "income_poverty                  4423\n",
       "doctor_recc_h1n1                2160\n",
       "doctor_recc_seasonal            2160\n",
       "rent_or_own                     2042\n",
       "employment_status               1463\n",
       "marital_status                  1408\n",
       "education                       1407\n",
       "chronic_med_condition            971\n",
       "child_under_6_months             820\n",
       "health_worker                    804\n",
       "opinion_seas_sick_from_vacc      537\n",
       "opinion_seas_risk                514\n",
       "opinion_seas_vacc_effective      462\n",
       "opinion_h1n1_sick_from_vacc      395\n",
       "opinion_h1n1_vacc_effective      391\n",
       "opinion_h1n1_risk                388\n",
       "household_adults                 249\n",
       "household_children               249\n",
       "behavioral_avoidance             208\n",
       "behavioral_touch_face            128\n",
       "h1n1_knowledge                   116\n",
       "h1n1_concern                      92\n",
       "behavioral_large_gatherings       87\n",
       "behavioral_outside_home           82\n",
       "behavioral_antiviral_meds         71\n",
       "behavioral_wash_hands             42\n",
       "behavioral_face_mask              19\n",
       "seasonal_vaccine                   0\n",
       "h1n1_vaccine                       0\n",
       "age_group                          0\n",
       "race                               0\n",
       "sex                                0\n",
       "hhs_geo_region                     0\n",
       "census_msa                         0\n",
       "respondent_id                      0\n",
       "dtype: int64"
      ]
     },
     "execution_count": 9,
     "metadata": {},
     "output_type": "execute_result"
    }
   ],
   "source": [
    "complete_data.isna().sum().sort_values(ascending=False)"
   ]
  },
  {
   "cell_type": "markdown",
   "metadata": {},
   "source": [
    "If the employment_status column has a value of Not in Labor Force, then columns employment_industry and employment_occupation will have NA's. \n",
    "\n",
    "Values in columns employment_industry and employment_occupation are represented as short random character strings. \n",
    "\n",
    "Filling NA's in employment_occupation and employment_industry associated with \"not in labor force\" with because they would otherwise be imputed as the most frequent occupation or industry.\n",
    "\n",
    "Filling Unemployed with \"not in labor force\"."
   ]
  },
  {
   "cell_type": "code",
   "execution_count": 10,
   "metadata": {
    "ExecuteTime": {
     "end_time": "2022-04-18T18:05:35.845316Z",
     "start_time": "2022-04-18T18:05:35.836336Z"
    }
   },
   "outputs": [],
   "source": [
    "complete_data['employment_status'].replace(\"Unemployed\", \"Not in Labor Force\", inplace=True)\n",
    "complete_data.loc[complete_data['employment_status'] == \"Not in Labor Force\", 'employment_industry'] = \"Not in Labor Force\"\n",
    "complete_data.loc[complete_data['employment_status'] == \"Not in Labor Force\", 'employment_occupation'] = \"Not in Labor Force\""
   ]
  },
  {
   "cell_type": "code",
   "execution_count": 11,
   "metadata": {
    "ExecuteTime": {
     "end_time": "2022-04-18T18:05:35.854569Z",
     "start_time": "2022-04-18T18:05:35.846213Z"
    },
    "scrolled": true
   },
   "outputs": [
    {
     "data": {
      "text/html": [
       "<div>\n",
       "<style scoped>\n",
       "    .dataframe tbody tr th:only-of-type {\n",
       "        vertical-align: middle;\n",
       "    }\n",
       "\n",
       "    .dataframe tbody tr th {\n",
       "        vertical-align: top;\n",
       "    }\n",
       "\n",
       "    .dataframe thead th {\n",
       "        text-align: right;\n",
       "    }\n",
       "</style>\n",
       "<table border=\"1\" class=\"dataframe\">\n",
       "  <thead>\n",
       "    <tr style=\"text-align: right;\">\n",
       "      <th></th>\n",
       "      <th>employment_status</th>\n",
       "      <th>employment_occupation</th>\n",
       "      <th>employment_industry</th>\n",
       "    </tr>\n",
       "  </thead>\n",
       "  <tbody>\n",
       "    <tr>\n",
       "      <th>0</th>\n",
       "      <td>Not in Labor Force</td>\n",
       "      <td>Not in Labor Force</td>\n",
       "      <td>Not in Labor Force</td>\n",
       "    </tr>\n",
       "    <tr>\n",
       "      <th>1</th>\n",
       "      <td>Employed</td>\n",
       "      <td>xgwztkwe</td>\n",
       "      <td>pxcmvdjn</td>\n",
       "    </tr>\n",
       "    <tr>\n",
       "      <th>2</th>\n",
       "      <td>Employed</td>\n",
       "      <td>xtkaffoo</td>\n",
       "      <td>rucpziij</td>\n",
       "    </tr>\n",
       "    <tr>\n",
       "      <th>3</th>\n",
       "      <td>Not in Labor Force</td>\n",
       "      <td>Not in Labor Force</td>\n",
       "      <td>Not in Labor Force</td>\n",
       "    </tr>\n",
       "    <tr>\n",
       "      <th>4</th>\n",
       "      <td>Employed</td>\n",
       "      <td>emcorrxb</td>\n",
       "      <td>wxleyezf</td>\n",
       "    </tr>\n",
       "    <tr>\n",
       "      <th>...</th>\n",
       "      <td>...</td>\n",
       "      <td>...</td>\n",
       "      <td>...</td>\n",
       "    </tr>\n",
       "    <tr>\n",
       "      <th>26702</th>\n",
       "      <td>Not in Labor Force</td>\n",
       "      <td>Not in Labor Force</td>\n",
       "      <td>Not in Labor Force</td>\n",
       "    </tr>\n",
       "    <tr>\n",
       "      <th>26703</th>\n",
       "      <td>Employed</td>\n",
       "      <td>cmhcxjea</td>\n",
       "      <td>fcxhlnwr</td>\n",
       "    </tr>\n",
       "    <tr>\n",
       "      <th>26704</th>\n",
       "      <td>NaN</td>\n",
       "      <td>NaN</td>\n",
       "      <td>NaN</td>\n",
       "    </tr>\n",
       "    <tr>\n",
       "      <th>26705</th>\n",
       "      <td>Employed</td>\n",
       "      <td>haliazsg</td>\n",
       "      <td>fcxhlnwr</td>\n",
       "    </tr>\n",
       "    <tr>\n",
       "      <th>26706</th>\n",
       "      <td>Not in Labor Force</td>\n",
       "      <td>Not in Labor Force</td>\n",
       "      <td>Not in Labor Force</td>\n",
       "    </tr>\n",
       "  </tbody>\n",
       "</table>\n",
       "<p>26707 rows × 3 columns</p>\n",
       "</div>"
      ],
      "text/plain": [
       "        employment_status employment_occupation employment_industry\n",
       "0      Not in Labor Force    Not in Labor Force  Not in Labor Force\n",
       "1                Employed              xgwztkwe            pxcmvdjn\n",
       "2                Employed              xtkaffoo            rucpziij\n",
       "3      Not in Labor Force    Not in Labor Force  Not in Labor Force\n",
       "4                Employed              emcorrxb            wxleyezf\n",
       "...                   ...                   ...                 ...\n",
       "26702  Not in Labor Force    Not in Labor Force  Not in Labor Force\n",
       "26703            Employed              cmhcxjea            fcxhlnwr\n",
       "26704                 NaN                   NaN                 NaN\n",
       "26705            Employed              haliazsg            fcxhlnwr\n",
       "26706  Not in Labor Force    Not in Labor Force  Not in Labor Force\n",
       "\n",
       "[26707 rows x 3 columns]"
      ]
     },
     "execution_count": 11,
     "metadata": {},
     "output_type": "execute_result"
    }
   ],
   "source": [
    "complete_data.filter(['employment_status', 'employment_occupation', 'employment_industry'])"
   ]
  },
  {
   "cell_type": "markdown",
   "metadata": {},
   "source": [
    "### Split"
   ]
  },
  {
   "cell_type": "markdown",
   "metadata": {},
   "source": [
    "Creating two splits for each target variable."
   ]
  },
  {
   "cell_type": "code",
   "execution_count": 12,
   "metadata": {
    "ExecuteTime": {
     "end_time": "2022-04-18T18:05:35.874612Z",
     "start_time": "2022-04-18T18:05:35.855643Z"
    }
   },
   "outputs": [],
   "source": [
    "X = complete_data.drop(['h1n1_vaccine', 'seasonal_vaccine', 'respondent_id'], axis=1)\n",
    "y1 = complete_data.filter(['h1n1_vaccine'])\n",
    "y2 = complete_data.filter(['seasonal_vaccine'])\n",
    "X_train1, X_test1, y_train1, y_test1 = train_test_split(X, y1, test_size=0.33, random_state=42)\n",
    "X_train2, X_test2, y_train2, y_test2 = train_test_split(X, y2, test_size=0.33, random_state=42)"
   ]
  },
  {
   "cell_type": "code",
   "execution_count": 13,
   "metadata": {
    "ExecuteTime": {
     "end_time": "2022-04-18T18:05:35.880926Z",
     "start_time": "2022-04-18T18:05:35.875600Z"
    }
   },
   "outputs": [
    {
     "data": {
      "text/plain": [
       "h1n1_vaccine\n",
       "0               0.787291\n",
       "1               0.212709\n",
       "dtype: float64"
      ]
     },
     "execution_count": 13,
     "metadata": {},
     "output_type": "execute_result"
    }
   ],
   "source": [
    "y_train1.value_counts(normalize=True)"
   ]
  },
  {
   "cell_type": "code",
   "execution_count": 14,
   "metadata": {
    "ExecuteTime": {
     "end_time": "2022-04-18T18:05:35.886608Z",
     "start_time": "2022-04-18T18:05:35.881837Z"
    }
   },
   "outputs": [
    {
     "data": {
      "text/plain": [
       "seasonal_vaccine\n",
       "0                   9502\n",
       "1                   8391\n",
       "dtype: int64"
      ]
     },
     "execution_count": 14,
     "metadata": {},
     "output_type": "execute_result"
    }
   ],
   "source": [
    "y_train2.value_counts()"
   ]
  },
  {
   "cell_type": "markdown",
   "metadata": {},
   "source": [
    "#### Numeric Pipeline for Column Transformer"
   ]
  },
  {
   "cell_type": "markdown",
   "metadata": {},
   "source": [
    "All columns are in a categorical format, however, some are scales and may better be represented as numeric columns.\n",
    "\n",
    "Possible numeric columns: h1n1_concern, h1n1_knowledge, opinion_h1n1_vacc_effective, opinion_h1n1_risk, opinion_h1n1_sick_from_vacc, opinion_seas_vacc_effective, opinion_seas_risk, and opinion_seas_sick_from_vacc."
   ]
  },
  {
   "cell_type": "code",
   "execution_count": 15,
   "metadata": {
    "ExecuteTime": {
     "end_time": "2022-04-18T18:05:35.889749Z",
     "start_time": "2022-04-18T18:05:35.887782Z"
    }
   },
   "outputs": [],
   "source": [
    "num_cols = ['h1n1_concern', 'h1n1_knowledge', 'opinion_h1n1_vacc_effective', 'opinion_h1n1_risk', 'opinion_h1n1_sick_from_vacc', 'opinion_seas_vacc_effective', 'opinion_seas_risk', 'opinion_seas_sick_from_vacc']"
   ]
  },
  {
   "cell_type": "code",
   "execution_count": 16,
   "metadata": {
    "ExecuteTime": {
     "end_time": "2022-04-18T18:05:35.915138Z",
     "start_time": "2022-04-18T18:05:35.890959Z"
    },
    "scrolled": true
   },
   "outputs": [
    {
     "data": {
      "text/html": [
       "<div>\n",
       "<style scoped>\n",
       "    .dataframe tbody tr th:only-of-type {\n",
       "        vertical-align: middle;\n",
       "    }\n",
       "\n",
       "    .dataframe tbody tr th {\n",
       "        vertical-align: top;\n",
       "    }\n",
       "\n",
       "    .dataframe thead th {\n",
       "        text-align: right;\n",
       "    }\n",
       "</style>\n",
       "<table border=\"1\" class=\"dataframe\">\n",
       "  <thead>\n",
       "    <tr style=\"text-align: right;\">\n",
       "      <th></th>\n",
       "      <th>h1n1_concern</th>\n",
       "      <th>h1n1_knowledge</th>\n",
       "      <th>opinion_h1n1_vacc_effective</th>\n",
       "      <th>opinion_h1n1_risk</th>\n",
       "      <th>opinion_h1n1_sick_from_vacc</th>\n",
       "      <th>opinion_seas_vacc_effective</th>\n",
       "      <th>opinion_seas_risk</th>\n",
       "      <th>opinion_seas_sick_from_vacc</th>\n",
       "    </tr>\n",
       "  </thead>\n",
       "  <tbody>\n",
       "    <tr>\n",
       "      <th>count</th>\n",
       "      <td>26615.000000</td>\n",
       "      <td>26591.000000</td>\n",
       "      <td>26316.000000</td>\n",
       "      <td>26319.000000</td>\n",
       "      <td>26312.000000</td>\n",
       "      <td>26245.000000</td>\n",
       "      <td>26193.000000</td>\n",
       "      <td>26170.000000</td>\n",
       "    </tr>\n",
       "    <tr>\n",
       "      <th>mean</th>\n",
       "      <td>1.618486</td>\n",
       "      <td>1.262532</td>\n",
       "      <td>3.850623</td>\n",
       "      <td>2.342566</td>\n",
       "      <td>2.357670</td>\n",
       "      <td>4.025986</td>\n",
       "      <td>2.719162</td>\n",
       "      <td>2.118112</td>\n",
       "    </tr>\n",
       "    <tr>\n",
       "      <th>std</th>\n",
       "      <td>0.910311</td>\n",
       "      <td>0.618149</td>\n",
       "      <td>1.007436</td>\n",
       "      <td>1.285539</td>\n",
       "      <td>1.362766</td>\n",
       "      <td>1.086565</td>\n",
       "      <td>1.385055</td>\n",
       "      <td>1.332950</td>\n",
       "    </tr>\n",
       "    <tr>\n",
       "      <th>min</th>\n",
       "      <td>0.000000</td>\n",
       "      <td>0.000000</td>\n",
       "      <td>1.000000</td>\n",
       "      <td>1.000000</td>\n",
       "      <td>1.000000</td>\n",
       "      <td>1.000000</td>\n",
       "      <td>1.000000</td>\n",
       "      <td>1.000000</td>\n",
       "    </tr>\n",
       "    <tr>\n",
       "      <th>25%</th>\n",
       "      <td>1.000000</td>\n",
       "      <td>1.000000</td>\n",
       "      <td>3.000000</td>\n",
       "      <td>1.000000</td>\n",
       "      <td>1.000000</td>\n",
       "      <td>4.000000</td>\n",
       "      <td>2.000000</td>\n",
       "      <td>1.000000</td>\n",
       "    </tr>\n",
       "    <tr>\n",
       "      <th>50%</th>\n",
       "      <td>2.000000</td>\n",
       "      <td>1.000000</td>\n",
       "      <td>4.000000</td>\n",
       "      <td>2.000000</td>\n",
       "      <td>2.000000</td>\n",
       "      <td>4.000000</td>\n",
       "      <td>2.000000</td>\n",
       "      <td>2.000000</td>\n",
       "    </tr>\n",
       "    <tr>\n",
       "      <th>75%</th>\n",
       "      <td>2.000000</td>\n",
       "      <td>2.000000</td>\n",
       "      <td>5.000000</td>\n",
       "      <td>4.000000</td>\n",
       "      <td>4.000000</td>\n",
       "      <td>5.000000</td>\n",
       "      <td>4.000000</td>\n",
       "      <td>4.000000</td>\n",
       "    </tr>\n",
       "    <tr>\n",
       "      <th>max</th>\n",
       "      <td>3.000000</td>\n",
       "      <td>2.000000</td>\n",
       "      <td>5.000000</td>\n",
       "      <td>5.000000</td>\n",
       "      <td>5.000000</td>\n",
       "      <td>5.000000</td>\n",
       "      <td>5.000000</td>\n",
       "      <td>5.000000</td>\n",
       "    </tr>\n",
       "  </tbody>\n",
       "</table>\n",
       "</div>"
      ],
      "text/plain": [
       "       h1n1_concern  h1n1_knowledge  opinion_h1n1_vacc_effective  \\\n",
       "count  26615.000000    26591.000000                 26316.000000   \n",
       "mean       1.618486        1.262532                     3.850623   \n",
       "std        0.910311        0.618149                     1.007436   \n",
       "min        0.000000        0.000000                     1.000000   \n",
       "25%        1.000000        1.000000                     3.000000   \n",
       "50%        2.000000        1.000000                     4.000000   \n",
       "75%        2.000000        2.000000                     5.000000   \n",
       "max        3.000000        2.000000                     5.000000   \n",
       "\n",
       "       opinion_h1n1_risk  opinion_h1n1_sick_from_vacc  \\\n",
       "count       26319.000000                 26312.000000   \n",
       "mean            2.342566                     2.357670   \n",
       "std             1.285539                     1.362766   \n",
       "min             1.000000                     1.000000   \n",
       "25%             1.000000                     1.000000   \n",
       "50%             2.000000                     2.000000   \n",
       "75%             4.000000                     4.000000   \n",
       "max             5.000000                     5.000000   \n",
       "\n",
       "       opinion_seas_vacc_effective  opinion_seas_risk  \\\n",
       "count                 26245.000000       26193.000000   \n",
       "mean                      4.025986           2.719162   \n",
       "std                       1.086565           1.385055   \n",
       "min                       1.000000           1.000000   \n",
       "25%                       4.000000           2.000000   \n",
       "50%                       4.000000           2.000000   \n",
       "75%                       5.000000           4.000000   \n",
       "max                       5.000000           5.000000   \n",
       "\n",
       "       opinion_seas_sick_from_vacc  \n",
       "count                 26170.000000  \n",
       "mean                      2.118112  \n",
       "std                       1.332950  \n",
       "min                       1.000000  \n",
       "25%                       1.000000  \n",
       "50%                       2.000000  \n",
       "75%                       4.000000  \n",
       "max                       5.000000  "
      ]
     },
     "execution_count": 16,
     "metadata": {},
     "output_type": "execute_result"
    }
   ],
   "source": [
    "X[num_cols].describe()"
   ]
  },
  {
   "cell_type": "code",
   "execution_count": 17,
   "metadata": {
    "ExecuteTime": {
     "end_time": "2022-04-18T18:05:35.923608Z",
     "start_time": "2022-04-18T18:05:35.916325Z"
    }
   },
   "outputs": [
    {
     "data": {
      "text/plain": [
       "h1n1_concern                   2.0\n",
       "h1n1_knowledge                 1.0\n",
       "opinion_h1n1_vacc_effective    4.0\n",
       "opinion_h1n1_risk              2.0\n",
       "opinion_h1n1_sick_from_vacc    2.0\n",
       "opinion_seas_vacc_effective    4.0\n",
       "opinion_seas_risk              2.0\n",
       "opinion_seas_sick_from_vacc    2.0\n",
       "dtype: float64"
      ]
     },
     "execution_count": 17,
     "metadata": {},
     "output_type": "execute_result"
    }
   ],
   "source": [
    "X[num_cols].median()"
   ]
  },
  {
   "cell_type": "code",
   "execution_count": 18,
   "metadata": {
    "ExecuteTime": {
     "end_time": "2022-04-18T18:05:35.925936Z",
     "start_time": "2022-04-18T18:05:35.924518Z"
    }
   },
   "outputs": [],
   "source": [
    "# def grab_numeric(df):\n",
    "#     return df.select_dtypes(include=['float', 'int'])"
   ]
  },
  {
   "cell_type": "code",
   "execution_count": 19,
   "metadata": {
    "ExecuteTime": {
     "end_time": "2022-04-18T18:05:35.928046Z",
     "start_time": "2022-04-18T18:05:35.926799Z"
    }
   },
   "outputs": [],
   "source": [
    "# The FunctionTransformer will turn my function\n",
    "# into a transformer.\n",
    "# GrabNumeric = FunctionTransformer(grab_numeric)"
   ]
  },
  {
   "cell_type": "code",
   "execution_count": 20,
   "metadata": {
    "ExecuteTime": {
     "end_time": "2022-04-18T18:05:35.930410Z",
     "start_time": "2022-04-18T18:05:35.928991Z"
    }
   },
   "outputs": [],
   "source": [
    "# # Pipe!\n",
    "\n",
    "# pipe = Pipeline(steps=[\n",
    "#     ('num', GrabNumeric),\n",
    "#     ('ss', StandardScaler())\n",
    "# ])"
   ]
  },
  {
   "cell_type": "markdown",
   "metadata": {},
   "source": [
    "#### Using `Pipeline` and `ColumnTransformer`"
   ]
  },
  {
   "cell_type": "code",
   "execution_count": 21,
   "metadata": {
    "ExecuteTime": {
     "end_time": "2022-04-18T18:05:35.943787Z",
     "start_time": "2022-04-18T18:05:35.931214Z"
    }
   },
   "outputs": [
    {
     "data": {
      "text/html": [
       "<div>\n",
       "<style scoped>\n",
       "    .dataframe tbody tr th:only-of-type {\n",
       "        vertical-align: middle;\n",
       "    }\n",
       "\n",
       "    .dataframe tbody tr th {\n",
       "        vertical-align: top;\n",
       "    }\n",
       "\n",
       "    .dataframe thead th {\n",
       "        text-align: right;\n",
       "    }\n",
       "</style>\n",
       "<table border=\"1\" class=\"dataframe\">\n",
       "  <thead>\n",
       "    <tr style=\"text-align: right;\">\n",
       "      <th></th>\n",
       "      <th>h1n1_concern</th>\n",
       "      <th>h1n1_knowledge</th>\n",
       "      <th>behavioral_antiviral_meds</th>\n",
       "      <th>behavioral_avoidance</th>\n",
       "      <th>behavioral_face_mask</th>\n",
       "      <th>behavioral_wash_hands</th>\n",
       "      <th>behavioral_large_gatherings</th>\n",
       "      <th>behavioral_outside_home</th>\n",
       "      <th>behavioral_touch_face</th>\n",
       "      <th>doctor_recc_h1n1</th>\n",
       "      <th>...</th>\n",
       "      <th>income_poverty</th>\n",
       "      <th>marital_status</th>\n",
       "      <th>rent_or_own</th>\n",
       "      <th>employment_status</th>\n",
       "      <th>hhs_geo_region</th>\n",
       "      <th>census_msa</th>\n",
       "      <th>household_adults</th>\n",
       "      <th>household_children</th>\n",
       "      <th>employment_industry</th>\n",
       "      <th>employment_occupation</th>\n",
       "    </tr>\n",
       "  </thead>\n",
       "  <tbody>\n",
       "    <tr>\n",
       "      <th>0</th>\n",
       "      <td>1.0</td>\n",
       "      <td>0.0</td>\n",
       "      <td>0.0</td>\n",
       "      <td>0.0</td>\n",
       "      <td>0.0</td>\n",
       "      <td>0.0</td>\n",
       "      <td>0.0</td>\n",
       "      <td>1.0</td>\n",
       "      <td>1.0</td>\n",
       "      <td>0.0</td>\n",
       "      <td>...</td>\n",
       "      <td>Below Poverty</td>\n",
       "      <td>Not Married</td>\n",
       "      <td>Own</td>\n",
       "      <td>Not in Labor Force</td>\n",
       "      <td>oxchjgsf</td>\n",
       "      <td>Non-MSA</td>\n",
       "      <td>0.0</td>\n",
       "      <td>0.0</td>\n",
       "      <td>Not in Labor Force</td>\n",
       "      <td>Not in Labor Force</td>\n",
       "    </tr>\n",
       "    <tr>\n",
       "      <th>1</th>\n",
       "      <td>3.0</td>\n",
       "      <td>2.0</td>\n",
       "      <td>0.0</td>\n",
       "      <td>1.0</td>\n",
       "      <td>0.0</td>\n",
       "      <td>1.0</td>\n",
       "      <td>0.0</td>\n",
       "      <td>1.0</td>\n",
       "      <td>1.0</td>\n",
       "      <td>0.0</td>\n",
       "      <td>...</td>\n",
       "      <td>Below Poverty</td>\n",
       "      <td>Not Married</td>\n",
       "      <td>Rent</td>\n",
       "      <td>Employed</td>\n",
       "      <td>bhuqouqj</td>\n",
       "      <td>MSA, Not Principle  City</td>\n",
       "      <td>0.0</td>\n",
       "      <td>0.0</td>\n",
       "      <td>pxcmvdjn</td>\n",
       "      <td>xgwztkwe</td>\n",
       "    </tr>\n",
       "    <tr>\n",
       "      <th>2</th>\n",
       "      <td>1.0</td>\n",
       "      <td>1.0</td>\n",
       "      <td>0.0</td>\n",
       "      <td>1.0</td>\n",
       "      <td>0.0</td>\n",
       "      <td>0.0</td>\n",
       "      <td>0.0</td>\n",
       "      <td>0.0</td>\n",
       "      <td>0.0</td>\n",
       "      <td>NaN</td>\n",
       "      <td>...</td>\n",
       "      <td>&lt;= $75,000, Above Poverty</td>\n",
       "      <td>Not Married</td>\n",
       "      <td>Own</td>\n",
       "      <td>Employed</td>\n",
       "      <td>qufhixun</td>\n",
       "      <td>MSA, Not Principle  City</td>\n",
       "      <td>2.0</td>\n",
       "      <td>0.0</td>\n",
       "      <td>rucpziij</td>\n",
       "      <td>xtkaffoo</td>\n",
       "    </tr>\n",
       "    <tr>\n",
       "      <th>3</th>\n",
       "      <td>1.0</td>\n",
       "      <td>1.0</td>\n",
       "      <td>0.0</td>\n",
       "      <td>1.0</td>\n",
       "      <td>0.0</td>\n",
       "      <td>1.0</td>\n",
       "      <td>1.0</td>\n",
       "      <td>0.0</td>\n",
       "      <td>0.0</td>\n",
       "      <td>0.0</td>\n",
       "      <td>...</td>\n",
       "      <td>Below Poverty</td>\n",
       "      <td>Not Married</td>\n",
       "      <td>Rent</td>\n",
       "      <td>Not in Labor Force</td>\n",
       "      <td>lrircsnp</td>\n",
       "      <td>MSA, Principle City</td>\n",
       "      <td>0.0</td>\n",
       "      <td>0.0</td>\n",
       "      <td>Not in Labor Force</td>\n",
       "      <td>Not in Labor Force</td>\n",
       "    </tr>\n",
       "    <tr>\n",
       "      <th>4</th>\n",
       "      <td>2.0</td>\n",
       "      <td>1.0</td>\n",
       "      <td>0.0</td>\n",
       "      <td>1.0</td>\n",
       "      <td>0.0</td>\n",
       "      <td>1.0</td>\n",
       "      <td>1.0</td>\n",
       "      <td>0.0</td>\n",
       "      <td>1.0</td>\n",
       "      <td>0.0</td>\n",
       "      <td>...</td>\n",
       "      <td>&lt;= $75,000, Above Poverty</td>\n",
       "      <td>Married</td>\n",
       "      <td>Own</td>\n",
       "      <td>Employed</td>\n",
       "      <td>qufhixun</td>\n",
       "      <td>MSA, Not Principle  City</td>\n",
       "      <td>1.0</td>\n",
       "      <td>0.0</td>\n",
       "      <td>wxleyezf</td>\n",
       "      <td>emcorrxb</td>\n",
       "    </tr>\n",
       "  </tbody>\n",
       "</table>\n",
       "<p>5 rows × 35 columns</p>\n",
       "</div>"
      ],
      "text/plain": [
       "   h1n1_concern  h1n1_knowledge  behavioral_antiviral_meds  \\\n",
       "0           1.0             0.0                        0.0   \n",
       "1           3.0             2.0                        0.0   \n",
       "2           1.0             1.0                        0.0   \n",
       "3           1.0             1.0                        0.0   \n",
       "4           2.0             1.0                        0.0   \n",
       "\n",
       "   behavioral_avoidance  behavioral_face_mask  behavioral_wash_hands  \\\n",
       "0                   0.0                   0.0                    0.0   \n",
       "1                   1.0                   0.0                    1.0   \n",
       "2                   1.0                   0.0                    0.0   \n",
       "3                   1.0                   0.0                    1.0   \n",
       "4                   1.0                   0.0                    1.0   \n",
       "\n",
       "   behavioral_large_gatherings  behavioral_outside_home  \\\n",
       "0                          0.0                      1.0   \n",
       "1                          0.0                      1.0   \n",
       "2                          0.0                      0.0   \n",
       "3                          1.0                      0.0   \n",
       "4                          1.0                      0.0   \n",
       "\n",
       "   behavioral_touch_face  doctor_recc_h1n1  ...             income_poverty  \\\n",
       "0                    1.0               0.0  ...              Below Poverty   \n",
       "1                    1.0               0.0  ...              Below Poverty   \n",
       "2                    0.0               NaN  ...  <= $75,000, Above Poverty   \n",
       "3                    0.0               0.0  ...              Below Poverty   \n",
       "4                    1.0               0.0  ...  <= $75,000, Above Poverty   \n",
       "\n",
       "   marital_status  rent_or_own   employment_status  hhs_geo_region  \\\n",
       "0     Not Married          Own  Not in Labor Force        oxchjgsf   \n",
       "1     Not Married         Rent            Employed        bhuqouqj   \n",
       "2     Not Married          Own            Employed        qufhixun   \n",
       "3     Not Married         Rent  Not in Labor Force        lrircsnp   \n",
       "4         Married          Own            Employed        qufhixun   \n",
       "\n",
       "                 census_msa  household_adults  household_children  \\\n",
       "0                   Non-MSA               0.0                 0.0   \n",
       "1  MSA, Not Principle  City               0.0                 0.0   \n",
       "2  MSA, Not Principle  City               2.0                 0.0   \n",
       "3       MSA, Principle City               0.0                 0.0   \n",
       "4  MSA, Not Principle  City               1.0                 0.0   \n",
       "\n",
       "   employment_industry  employment_occupation  \n",
       "0   Not in Labor Force     Not in Labor Force  \n",
       "1             pxcmvdjn               xgwztkwe  \n",
       "2             rucpziij               xtkaffoo  \n",
       "3   Not in Labor Force     Not in Labor Force  \n",
       "4             wxleyezf               emcorrxb  \n",
       "\n",
       "[5 rows x 35 columns]"
      ]
     },
     "execution_count": 21,
     "metadata": {},
     "output_type": "execute_result"
    }
   ],
   "source": [
    "X.head()"
   ]
  },
  {
   "cell_type": "code",
   "execution_count": 22,
   "metadata": {
    "ExecuteTime": {
     "end_time": "2022-04-18T18:05:35.946878Z",
     "start_time": "2022-04-18T18:05:35.944655Z"
    }
   },
   "outputs": [],
   "source": [
    "subpipe_cat = Pipeline(steps=[('cat_impute', SimpleImputer(strategy='most_frequent')),\n",
    "                              ('ohe', OneHotEncoder(drop='first', sparse=False, handle_unknown='ignore')) ])\n",
    "\n",
    "subpipe_num = Pipeline(steps=[('num_impute', SimpleImputer(strategy='median')),\n",
    "                              ('ss', StandardScaler()) ])"
   ]
  },
  {
   "cell_type": "code",
   "execution_count": 23,
   "metadata": {
    "ExecuteTime": {
     "end_time": "2022-04-18T18:05:35.952069Z",
     "start_time": "2022-04-18T18:05:35.950781Z"
    }
   },
   "outputs": [],
   "source": [
    "# cat_cols = []\n",
    "# ord_cols = []"
   ]
  },
  {
   "cell_type": "code",
   "execution_count": 24,
   "metadata": {
    "ExecuteTime": {
     "end_time": "2022-04-18T18:05:35.955926Z",
     "start_time": "2022-04-18T18:05:35.954734Z"
    },
    "scrolled": true
   },
   "outputs": [],
   "source": [
    "# for col in X.columns:\n",
    "#     if len(X[col].value_counts().index) > 2:\n",
    "#         cat_cols.append(col)\n",
    "#     else:\n",
    "#         ord_cols.append(col)"
   ]
  },
  {
   "cell_type": "code",
   "execution_count": 25,
   "metadata": {
    "ExecuteTime": {
     "end_time": "2022-04-18T18:05:35.957993Z",
     "start_time": "2022-04-18T18:05:35.956852Z"
    }
   },
   "outputs": [],
   "source": [
    "# columns = list(X.columns)\n",
    "# columns"
   ]
  },
  {
   "cell_type": "code",
   "execution_count": 26,
   "metadata": {
    "ExecuteTime": {
     "end_time": "2022-04-18T18:05:35.960879Z",
     "start_time": "2022-04-18T18:05:35.958822Z"
    }
   },
   "outputs": [
    {
     "data": {
      "text/plain": [
       "['h1n1_concern',\n",
       " 'h1n1_knowledge',\n",
       " 'opinion_h1n1_vacc_effective',\n",
       " 'opinion_h1n1_risk',\n",
       " 'opinion_h1n1_sick_from_vacc',\n",
       " 'opinion_seas_vacc_effective',\n",
       " 'opinion_seas_risk',\n",
       " 'opinion_seas_sick_from_vacc']"
      ]
     },
     "execution_count": 26,
     "metadata": {},
     "output_type": "execute_result"
    }
   ],
   "source": [
    "num_cols"
   ]
  },
  {
   "cell_type": "code",
   "execution_count": 27,
   "metadata": {
    "ExecuteTime": {
     "end_time": "2022-04-18T18:05:35.964416Z",
     "start_time": "2022-04-18T18:05:35.961812Z"
    }
   },
   "outputs": [
    {
     "data": {
      "text/plain": [
       "Index(['behavioral_antiviral_meds', 'behavioral_avoidance',\n",
       "       'behavioral_face_mask', 'behavioral_wash_hands',\n",
       "       'behavioral_large_gatherings', 'behavioral_outside_home',\n",
       "       'behavioral_touch_face', 'doctor_recc_h1n1', 'doctor_recc_seasonal',\n",
       "       'chronic_med_condition', 'child_under_6_months', 'health_worker',\n",
       "       'health_insurance', 'age_group', 'education', 'race', 'sex',\n",
       "       'income_poverty', 'marital_status', 'rent_or_own', 'employment_status',\n",
       "       'hhs_geo_region', 'census_msa', 'household_adults',\n",
       "       'household_children', 'employment_industry', 'employment_occupation'],\n",
       "      dtype='object')"
      ]
     },
     "execution_count": 27,
     "metadata": {},
     "output_type": "execute_result"
    }
   ],
   "source": [
    "cat_cols = X.columns.drop(num_cols)\n",
    "cat_cols"
   ]
  },
  {
   "cell_type": "code",
   "execution_count": 28,
   "metadata": {
    "ExecuteTime": {
     "end_time": "2022-04-18T18:05:35.982868Z",
     "start_time": "2022-04-18T18:05:35.973916Z"
    }
   },
   "outputs": [],
   "source": [
    "# The \"remainder='passthrough'\" bit tells the compiler to leave\n",
    "# the other df columns unchanged.\n",
    "ct = ColumnTransformer(transformers = [\n",
    "    ('subpipe_cat', subpipe_cat, cat_cols),\n",
    "    ('subpipe_num', subpipe_num, num_cols)\n",
    "])"
   ]
  },
  {
   "cell_type": "markdown",
   "metadata": {},
   "source": [
    "#### Logistic Regression Pipeline"
   ]
  },
  {
   "cell_type": "code",
   "execution_count": 29,
   "metadata": {
    "ExecuteTime": {
     "end_time": "2022-04-18T18:05:35.987483Z",
     "start_time": "2022-04-18T18:05:35.985491Z"
    }
   },
   "outputs": [],
   "source": [
    "logreg_model_pipe = Pipeline(steps=[\n",
    "    ('ct', ct),\n",
    "    ('logreg', LogisticRegression(random_state=42, max_iter=1000))\n",
    "])"
   ]
  },
  {
   "cell_type": "markdown",
   "metadata": {},
   "source": [
    "The .values.ravel() removes warnings."
   ]
  },
  {
   "cell_type": "code",
   "execution_count": 30,
   "metadata": {
    "ExecuteTime": {
     "end_time": "2022-04-18T18:05:35.990246Z",
     "start_time": "2022-04-18T18:05:35.988516Z"
    }
   },
   "outputs": [],
   "source": [
    "y_train1 = y_train1.values.ravel()"
   ]
  },
  {
   "cell_type": "code",
   "execution_count": 31,
   "metadata": {
    "ExecuteTime": {
     "end_time": "2022-04-18T18:05:36.755274Z",
     "start_time": "2022-04-18T18:05:35.991115Z"
    },
    "scrolled": true
   },
   "outputs": [],
   "source": [
    "logreg_model_pipe.fit(X_train1, y_train1);"
   ]
  },
  {
   "cell_type": "code",
   "execution_count": 32,
   "metadata": {
    "ExecuteTime": {
     "end_time": "2022-04-18T18:05:36.904805Z",
     "start_time": "2022-04-18T18:05:36.756252Z"
    }
   },
   "outputs": [
    {
     "data": {
      "text/plain": [
       "0.8374783434862796"
      ]
     },
     "execution_count": 32,
     "metadata": {},
     "output_type": "execute_result"
    }
   ],
   "source": [
    "logreg_model_pipe.score(X_train1, y_train1)"
   ]
  },
  {
   "cell_type": "code",
   "execution_count": 33,
   "metadata": {
    "ExecuteTime": {
     "end_time": "2022-04-18T18:05:39.536040Z",
     "start_time": "2022-04-18T18:05:36.905803Z"
    }
   },
   "outputs": [
    {
     "data": {
      "text/plain": [
       "array([0.83403185, 0.83598771, 0.83487008, 0.83426495, 0.8373393 ])"
      ]
     },
     "execution_count": 33,
     "metadata": {},
     "output_type": "execute_result"
    }
   ],
   "source": [
    "cross_val_score(logreg_model_pipe, X_train1, y_train1)"
   ]
  },
  {
   "cell_type": "code",
   "execution_count": 34,
   "metadata": {
    "ExecuteTime": {
     "end_time": "2022-04-18T18:05:39.538679Z",
     "start_time": "2022-04-18T18:05:39.537060Z"
    }
   },
   "outputs": [],
   "source": [
    "y_train2 = y_train2.values.ravel()"
   ]
  },
  {
   "cell_type": "code",
   "execution_count": 35,
   "metadata": {
    "ExecuteTime": {
     "end_time": "2022-04-18T18:05:40.205118Z",
     "start_time": "2022-04-18T18:05:39.539539Z"
    }
   },
   "outputs": [],
   "source": [
    "logreg_model_pipe.fit(X_train2, y_train2);"
   ]
  },
  {
   "cell_type": "code",
   "execution_count": 36,
   "metadata": {
    "ExecuteTime": {
     "end_time": "2022-04-18T18:05:40.351653Z",
     "start_time": "2022-04-18T18:05:40.206025Z"
    }
   },
   "outputs": [
    {
     "data": {
      "text/plain": [
       "0.7805845861510088"
      ]
     },
     "execution_count": 36,
     "metadata": {},
     "output_type": "execute_result"
    }
   ],
   "source": [
    "logreg_model_pipe.score(X_train2, y_train2)"
   ]
  },
  {
   "cell_type": "code",
   "execution_count": 37,
   "metadata": {
    "ExecuteTime": {
     "end_time": "2022-04-18T18:05:42.797590Z",
     "start_time": "2022-04-18T18:05:40.352683Z"
    }
   },
   "outputs": [
    {
     "data": {
      "text/plain": [
       "array([0.77395921, 0.78234144, 0.76613579, 0.77697037, 0.78283958])"
      ]
     },
     "execution_count": 37,
     "metadata": {},
     "output_type": "execute_result"
    }
   ],
   "source": [
    "cross_val_score(logreg_model_pipe, X_train2, y_train2)"
   ]
  },
  {
   "cell_type": "markdown",
   "metadata": {},
   "source": [
    "#### Bringing in Our Modeling Class from before"
   ]
  },
  {
   "cell_type": "code",
   "execution_count": 38,
   "metadata": {
    "ExecuteTime": {
     "end_time": "2022-04-18T18:05:42.803780Z",
     "start_time": "2022-04-18T18:05:42.798611Z"
    }
   },
   "outputs": [],
   "source": [
    "class ModelWithCV():\n",
    "    '''Structure to save the model and more easily see its crossvalidation'''\n",
    "    \n",
    "    def __init__(self, model, model_name, X, y, cv_now=True):\n",
    "        self.model = model\n",
    "        self.name = model_name\n",
    "        self.X = X\n",
    "        self.y = y\n",
    "        # For CV results\n",
    "        self.cv_results = None\n",
    "        self.cv_mean = None\n",
    "        self.cv_median = None\n",
    "        self.cv_std = None\n",
    "        #\n",
    "        if cv_now:\n",
    "            self.cross_validate()\n",
    "        \n",
    "    def cross_validate(self, X=None, y=None, kfolds=10):\n",
    "        '''\n",
    "        Perform cross-validation and return results.\n",
    "        \n",
    "        Args: \n",
    "          X:\n",
    "            Optional; Training data to perform CV on. Otherwise use X from object\n",
    "          y:\n",
    "            Optional; Training data to perform CV on. Otherwise use y from object\n",
    "          kfolds:\n",
    "            Optional; Number of folds for CV (default is 10)  \n",
    "        '''\n",
    "        \n",
    "        cv_X = X if X else self.X\n",
    "        cv_y = y if y else self.y\n",
    "\n",
    "        self.cv_results = cross_val_score(self.model, cv_X, cv_y, cv=kfolds)\n",
    "        self.cv_mean = np.mean(self.cv_results)\n",
    "        self.cv_median = np.median(self.cv_results)\n",
    "        self.cv_std = np.std(self.cv_results)\n",
    "\n",
    "        \n",
    "    def print_cv_summary(self):\n",
    "        cv_summary = (\n",
    "        f'''CV Results for `{self.name}` model:\n",
    "            {self.cv_mean:.5f} ± {self.cv_std:.5f} accuracy\n",
    "        ''')\n",
    "        print(cv_summary)\n",
    "\n",
    "        \n",
    "    def plot_cv(self, ax):\n",
    "        '''\n",
    "        Plot the cross-validation values using the array of results and given \n",
    "        Axis for plotting.\n",
    "        '''\n",
    "        ax.set_title(f'CV Results for `{self.name}` Model')\n",
    "        # Thinner violinplot with higher bw\n",
    "        sns.violinplot(y=self.cv_results, ax=ax, bw=.4)\n",
    "        sns.swarmplot(\n",
    "                y=self.cv_results,\n",
    "                color='orange',\n",
    "                size=10,\n",
    "                alpha= 0.8,\n",
    "                ax=ax\n",
    "        )\n",
    "\n",
    "        return ax"
   ]
  },
  {
   "cell_type": "code",
   "execution_count": 39,
   "metadata": {
    "ExecuteTime": {
     "end_time": "2022-04-18T18:05:48.493570Z",
     "start_time": "2022-04-18T18:05:42.804726Z"
    }
   },
   "outputs": [],
   "source": [
    "log_pipe = ModelWithCV(logreg_model_pipe, model_name='log_pipe', X=X_train1, y=y_train1)"
   ]
  },
  {
   "cell_type": "code",
   "execution_count": 40,
   "metadata": {
    "ExecuteTime": {
     "end_time": "2022-04-18T18:05:48.586374Z",
     "start_time": "2022-04-18T18:05:48.494450Z"
    },
    "scrolled": true
   },
   "outputs": [
    {
     "data": {
      "image/png": "[encoded data removed]",
      "text/plain": [
       "<Figure size 432x288 with 1 Axes>"
      ]
     },
     "metadata": {
      "needs_background": "light"
     },
     "output_type": "display_data"
    }
   ],
   "source": [
    "fig, ax = plt.subplots()\n",
    "\n",
    "log_pipe.plot_cv(ax=ax);"
   ]
  },
  {
   "cell_type": "code",
   "execution_count": 41,
   "metadata": {
    "ExecuteTime": {
     "end_time": "2022-04-18T18:05:48.589543Z",
     "start_time": "2022-04-18T18:05:48.587529Z"
    },
    "scrolled": true
   },
   "outputs": [
    {
     "name": "stdout",
     "output_type": "stream",
     "text": [
      "CV Results for `log_pipe` model:\n",
      "            0.83608 ± 0.00651 accuracy\n",
      "        \n"
     ]
    }
   ],
   "source": [
    "log_pipe.print_cv_summary()"
   ]
  },
  {
   "cell_type": "code",
   "execution_count": 42,
   "metadata": {
    "ExecuteTime": {
     "end_time": "2022-04-18T18:05:49.379822Z",
     "start_time": "2022-04-18T18:05:48.590633Z"
    }
   },
   "outputs": [
    {
     "name": "stdout",
     "output_type": "stream",
     "text": [
      "\n",
      "Our final model's accuracy on the test set is 0.84. \n",
      "\n",
      "Our final model's recall on the test set is 0.43 \n",
      "\n",
      "Our final model's precision on the test set is 0.69 \n",
      "\n",
      "Our final model's f1-score on the test is 0.53.\n",
      "\n"
     ]
    }
   ],
   "source": [
    "logreg_model_pipe.fit(X_train1, y_train1)\n",
    "y_hat = logreg_model_pipe.predict(X_train1)\n",
    "print(f\"\"\"\n",
    "Our final model's accuracy on the test set is {round(accuracy_score(y_train1, y_hat), 2)}. \\n\n",
    "Our final model's recall on the test set is {round(recall_score(y_train1, y_hat), 2)} \\n\n",
    "Our final model's precision on the test set is {round(precision_score(y_train1, y_hat), 2)} \\n\n",
    "Our final model's f1-score on the test is {round(f1_score(y_train1, y_hat), 2)}.\n",
    "\"\"\")"
   ]
  },
  {
   "cell_type": "markdown",
   "metadata": {},
   "source": [
    "##### Logistic Regression Tuning"
   ]
  },
  {
   "cell_type": "code",
   "execution_count": null,
   "metadata": {},
   "outputs": [],
   "source": [
    "LogisticRegression()"
   ]
  },
  {
   "cell_type": "code",
   "execution_count": 147,
   "metadata": {
    "ExecuteTime": {
     "end_time": "2022-04-18T19:33:16.231462Z",
     "start_time": "2022-04-18T19:33:16.220451Z"
    }
   },
   "outputs": [],
   "source": [
    "params = {}\n",
    "\n",
    "params['logreg__solver'] = ['liblinear', 'sag']\n",
    "params['logreg__C'] = [.1,.3,.5]\n",
    "params['logreg__max_iter'] = [50, 100, 150]"
   ]
  },
  {
   "cell_type": "code",
   "execution_count": 148,
   "metadata": {
    "ExecuteTime": {
     "end_time": "2022-04-18T19:33:16.594076Z",
     "start_time": "2022-04-18T19:33:16.589506Z"
    }
   },
   "outputs": [],
   "source": [
    "gs_log = GridSearchCV(estimator=logreg_model_pipe, param_grid=params, cv=10)"
   ]
  },
  {
   "cell_type": "code",
   "execution_count": 149,
   "metadata": {
    "ExecuteTime": {
     "end_time": "2022-04-18T19:34:24.233095Z",
     "start_time": "2022-04-18T19:33:16.990042Z"
    }
   },
   "outputs": [],
   "source": [
    "gs_log.fit(X_train1, y_train1);"
   ]
  },
  {
   "cell_type": "code",
   "execution_count": 150,
   "metadata": {
    "ExecuteTime": {
     "end_time": "2022-04-18T19:34:24.237227Z",
     "start_time": "2022-04-18T19:34:24.234396Z"
    },
    "code_folding": []
   },
   "outputs": [
    {
     "data": {
      "text/plain": [
       "array([0.83608161, 0.83574632, 0.83608161, 0.83574632, 0.83608161,\n",
       "       0.83574632, 0.83591386, 0.83563453, 0.83591386, 0.83563453,\n",
       "       0.83591386, 0.83563453, 0.83585799, 0.83569042, 0.83585799,\n",
       "       0.83569042, 0.83585799, 0.83569042])"
      ]
     },
     "execution_count": 150,
     "metadata": {},
     "output_type": "execute_result"
    }
   ],
   "source": [
    "gs_log.cv_results_['mean_test_score']"
   ]
  },
  {
   "cell_type": "code",
   "execution_count": 151,
   "metadata": {
    "ExecuteTime": {
     "end_time": "2022-04-18T19:34:24.240512Z",
     "start_time": "2022-04-18T19:34:24.238521Z"
    }
   },
   "outputs": [
    {
     "data": {
      "text/plain": [
       "{'logreg__C': 0.1, 'logreg__max_iter': 50, 'logreg__solver': 'liblinear'}"
      ]
     },
     "execution_count": 151,
     "metadata": {},
     "output_type": "execute_result"
    }
   ],
   "source": [
    "gs_log.best_params_"
   ]
  },
  {
   "cell_type": "markdown",
   "metadata": {},
   "source": [
    "Best parameters  for logreg: 'logreg__C': 0.1, 'logreg__solver': 'sag'"
   ]
  },
  {
   "cell_type": "code",
   "execution_count": 48,
   "metadata": {
    "ExecuteTime": {
     "end_time": "2022-04-18T18:06:12.122162Z",
     "start_time": "2022-04-18T18:06:12.102010Z"
    }
   },
   "outputs": [
    {
     "data": {
      "text/plain": [
       "Pipeline(steps=[('ct',\n",
       "                 ColumnTransformer(transformers=[('subpipe_cat',\n",
       "                                                  Pipeline(steps=[('cat_impute',\n",
       "                                                                   SimpleImputer(strategy='most_frequent')),\n",
       "                                                                  ('ohe',\n",
       "                                                                   OneHotEncoder(drop='first',\n",
       "                                                                                 handle_unknown='ignore',\n",
       "                                                                                 sparse=False))]),\n",
       "                                                  Index(['behavioral_antiviral_meds', 'behavioral_avoidance',\n",
       "       'behavioral_face_mask', 'behavioral_wash_hands',\n",
       "       'behavioral_large_gatherings',...\n",
       "                                                  Pipeline(steps=[('num_impute',\n",
       "                                                                   SimpleImputer(strategy='median')),\n",
       "                                                                  ('ss',\n",
       "                                                                   StandardScaler())]),\n",
       "                                                  ['h1n1_concern',\n",
       "                                                   'h1n1_knowledge',\n",
       "                                                   'opinion_h1n1_vacc_effective',\n",
       "                                                   'opinion_h1n1_risk',\n",
       "                                                   'opinion_h1n1_sick_from_vacc',\n",
       "                                                   'opinion_seas_vacc_effective',\n",
       "                                                   'opinion_seas_risk',\n",
       "                                                   'opinion_seas_sick_from_vacc'])])),\n",
       "                ('logreg',\n",
       "                 LogisticRegression(C=0.1, max_iter=1000, random_state=42,\n",
       "                                    solver='liblinear'))])"
      ]
     },
     "execution_count": 48,
     "metadata": {},
     "output_type": "execute_result"
    }
   ],
   "source": [
    "gs_log.best_estimator_"
   ]
  },
  {
   "cell_type": "markdown",
   "metadata": {},
   "source": [
    "#### Nearest Neighbors Pipeline"
   ]
  },
  {
   "cell_type": "code",
   "execution_count": 49,
   "metadata": {
    "ExecuteTime": {
     "end_time": "2022-04-18T18:06:12.485190Z",
     "start_time": "2022-04-18T18:06:12.123169Z"
    },
    "scrolled": false
   },
   "outputs": [
    {
     "data": {
      "text/html": [
       "<div>\n",
       "<style scoped>\n",
       "    .dataframe tbody tr th:only-of-type {\n",
       "        vertical-align: middle;\n",
       "    }\n",
       "\n",
       "    .dataframe tbody tr th {\n",
       "        vertical-align: top;\n",
       "    }\n",
       "\n",
       "    .dataframe thead th {\n",
       "        text-align: right;\n",
       "    }\n",
       "</style>\n",
       "<table border=\"1\" class=\"dataframe\">\n",
       "  <thead>\n",
       "    <tr style=\"text-align: right;\">\n",
       "      <th></th>\n",
       "      <th>0</th>\n",
       "      <th>1</th>\n",
       "      <th>2</th>\n",
       "      <th>3</th>\n",
       "      <th>4</th>\n",
       "      <th>5</th>\n",
       "      <th>6</th>\n",
       "      <th>7</th>\n",
       "      <th>8</th>\n",
       "      <th>9</th>\n",
       "      <th>...</th>\n",
       "      <th>88</th>\n",
       "      <th>89</th>\n",
       "      <th>90</th>\n",
       "      <th>91</th>\n",
       "      <th>92</th>\n",
       "      <th>93</th>\n",
       "      <th>94</th>\n",
       "      <th>95</th>\n",
       "      <th>96</th>\n",
       "      <th>97</th>\n",
       "    </tr>\n",
       "  </thead>\n",
       "  <tbody>\n",
       "    <tr>\n",
       "      <th>count</th>\n",
       "      <td>17893.000000</td>\n",
       "      <td>17893.000000</td>\n",
       "      <td>17893.000000</td>\n",
       "      <td>17893.000000</td>\n",
       "      <td>17893.000000</td>\n",
       "      <td>17893.000000</td>\n",
       "      <td>17893.000000</td>\n",
       "      <td>17893.000000</td>\n",
       "      <td>17893.000000</td>\n",
       "      <td>17893.000000</td>\n",
       "      <td>...</td>\n",
       "      <td>17893.000000</td>\n",
       "      <td>17893.000000</td>\n",
       "      <td>1.789300e+04</td>\n",
       "      <td>1.789300e+04</td>\n",
       "      <td>1.789300e+04</td>\n",
       "      <td>1.789300e+04</td>\n",
       "      <td>1.789300e+04</td>\n",
       "      <td>1.789300e+04</td>\n",
       "      <td>1.789300e+04</td>\n",
       "      <td>1.789300e+04</td>\n",
       "    </tr>\n",
       "    <tr>\n",
       "      <th>mean</th>\n",
       "      <td>0.048902</td>\n",
       "      <td>0.725591</td>\n",
       "      <td>0.069692</td>\n",
       "      <td>0.821942</td>\n",
       "      <td>0.356564</td>\n",
       "      <td>0.337898</td>\n",
       "      <td>0.675124</td>\n",
       "      <td>0.203487</td>\n",
       "      <td>0.306041</td>\n",
       "      <td>0.275136</td>\n",
       "      <td>...</td>\n",
       "      <td>0.065445</td>\n",
       "      <td>0.009277</td>\n",
       "      <td>2.422350e-17</td>\n",
       "      <td>-1.052332e-16</td>\n",
       "      <td>3.027937e-17</td>\n",
       "      <td>7.981841e-17</td>\n",
       "      <td>-5.956598e-18</td>\n",
       "      <td>5.797756e-17</td>\n",
       "      <td>1.111898e-17</td>\n",
       "      <td>-4.487304e-17</td>\n",
       "    </tr>\n",
       "    <tr>\n",
       "      <th>std</th>\n",
       "      <td>0.215669</td>\n",
       "      <td>0.446228</td>\n",
       "      <td>0.254634</td>\n",
       "      <td>0.382573</td>\n",
       "      <td>0.478998</td>\n",
       "      <td>0.473007</td>\n",
       "      <td>0.468341</td>\n",
       "      <td>0.402603</td>\n",
       "      <td>0.460860</td>\n",
       "      <td>0.446595</td>\n",
       "      <td>...</td>\n",
       "      <td>0.247316</td>\n",
       "      <td>0.095874</td>\n",
       "      <td>1.000028e+00</td>\n",
       "      <td>1.000028e+00</td>\n",
       "      <td>1.000028e+00</td>\n",
       "      <td>1.000028e+00</td>\n",
       "      <td>1.000028e+00</td>\n",
       "      <td>1.000028e+00</td>\n",
       "      <td>1.000028e+00</td>\n",
       "      <td>1.000028e+00</td>\n",
       "    </tr>\n",
       "    <tr>\n",
       "      <th>min</th>\n",
       "      <td>0.000000</td>\n",
       "      <td>0.000000</td>\n",
       "      <td>0.000000</td>\n",
       "      <td>0.000000</td>\n",
       "      <td>0.000000</td>\n",
       "      <td>0.000000</td>\n",
       "      <td>0.000000</td>\n",
       "      <td>0.000000</td>\n",
       "      <td>0.000000</td>\n",
       "      <td>0.000000</td>\n",
       "      <td>...</td>\n",
       "      <td>0.000000</td>\n",
       "      <td>0.000000</td>\n",
       "      <td>-1.788306e+00</td>\n",
       "      <td>-2.049421e+00</td>\n",
       "      <td>-2.853217e+00</td>\n",
       "      <td>-1.051483e+00</td>\n",
       "      <td>-1.002707e+00</td>\n",
       "      <td>-2.833489e+00</td>\n",
       "      <td>-1.245505e+00</td>\n",
       "      <td>-8.452392e-01</td>\n",
       "    </tr>\n",
       "    <tr>\n",
       "      <th>25%</th>\n",
       "      <td>0.000000</td>\n",
       "      <td>0.000000</td>\n",
       "      <td>0.000000</td>\n",
       "      <td>1.000000</td>\n",
       "      <td>0.000000</td>\n",
       "      <td>0.000000</td>\n",
       "      <td>0.000000</td>\n",
       "      <td>0.000000</td>\n",
       "      <td>0.000000</td>\n",
       "      <td>0.000000</td>\n",
       "      <td>...</td>\n",
       "      <td>0.000000</td>\n",
       "      <td>0.000000</td>\n",
       "      <td>-6.865928e-01</td>\n",
       "      <td>-4.259798e-01</td>\n",
       "      <td>-8.528797e-01</td>\n",
       "      <td>-1.051483e+00</td>\n",
       "      <td>-1.002707e+00</td>\n",
       "      <td>-3.039182e-02</td>\n",
       "      <td>-5.188961e-01</td>\n",
       "      <td>-8.452392e-01</td>\n",
       "    </tr>\n",
       "    <tr>\n",
       "      <th>50%</th>\n",
       "      <td>0.000000</td>\n",
       "      <td>1.000000</td>\n",
       "      <td>0.000000</td>\n",
       "      <td>1.000000</td>\n",
       "      <td>0.000000</td>\n",
       "      <td>0.000000</td>\n",
       "      <td>1.000000</td>\n",
       "      <td>0.000000</td>\n",
       "      <td>0.000000</td>\n",
       "      <td>0.000000</td>\n",
       "      <td>...</td>\n",
       "      <td>0.000000</td>\n",
       "      <td>0.000000</td>\n",
       "      <td>4.151205e-01</td>\n",
       "      <td>-4.259798e-01</td>\n",
       "      <td>1.472892e-01</td>\n",
       "      <td>-2.704224e-01</td>\n",
       "      <td>-2.659226e-01</td>\n",
       "      <td>-3.039182e-02</td>\n",
       "      <td>-5.188961e-01</td>\n",
       "      <td>-8.946163e-02</td>\n",
       "    </tr>\n",
       "    <tr>\n",
       "      <th>75%</th>\n",
       "      <td>0.000000</td>\n",
       "      <td>1.000000</td>\n",
       "      <td>0.000000</td>\n",
       "      <td>1.000000</td>\n",
       "      <td>1.000000</td>\n",
       "      <td>1.000000</td>\n",
       "      <td>1.000000</td>\n",
       "      <td>0.000000</td>\n",
       "      <td>1.000000</td>\n",
       "      <td>1.000000</td>\n",
       "      <td>...</td>\n",
       "      <td>0.000000</td>\n",
       "      <td>0.000000</td>\n",
       "      <td>4.151205e-01</td>\n",
       "      <td>1.197462e+00</td>\n",
       "      <td>1.147458e+00</td>\n",
       "      <td>1.291698e+00</td>\n",
       "      <td>1.207646e+00</td>\n",
       "      <td>9.039739e-01</td>\n",
       "      <td>9.343216e-01</td>\n",
       "      <td>-8.946163e-02</td>\n",
       "    </tr>\n",
       "    <tr>\n",
       "      <th>max</th>\n",
       "      <td>1.000000</td>\n",
       "      <td>1.000000</td>\n",
       "      <td>1.000000</td>\n",
       "      <td>1.000000</td>\n",
       "      <td>1.000000</td>\n",
       "      <td>1.000000</td>\n",
       "      <td>1.000000</td>\n",
       "      <td>1.000000</td>\n",
       "      <td>1.000000</td>\n",
       "      <td>1.000000</td>\n",
       "      <td>...</td>\n",
       "      <td>1.000000</td>\n",
       "      <td>1.000000</td>\n",
       "      <td>1.516834e+00</td>\n",
       "      <td>1.197462e+00</td>\n",
       "      <td>1.147458e+00</td>\n",
       "      <td>2.072758e+00</td>\n",
       "      <td>1.944430e+00</td>\n",
       "      <td>9.039739e-01</td>\n",
       "      <td>1.660931e+00</td>\n",
       "      <td>2.177871e+00</td>\n",
       "    </tr>\n",
       "  </tbody>\n",
       "</table>\n",
       "<p>8 rows × 98 columns</p>\n",
       "</div>"
      ],
      "text/plain": [
       "                 0             1             2             3             4   \\\n",
       "count  17893.000000  17893.000000  17893.000000  17893.000000  17893.000000   \n",
       "mean       0.048902      0.725591      0.069692      0.821942      0.356564   \n",
       "std        0.215669      0.446228      0.254634      0.382573      0.478998   \n",
       "min        0.000000      0.000000      0.000000      0.000000      0.000000   \n",
       "25%        0.000000      0.000000      0.000000      1.000000      0.000000   \n",
       "50%        0.000000      1.000000      0.000000      1.000000      0.000000   \n",
       "75%        0.000000      1.000000      0.000000      1.000000      1.000000   \n",
       "max        1.000000      1.000000      1.000000      1.000000      1.000000   \n",
       "\n",
       "                 5             6             7             8             9   \\\n",
       "count  17893.000000  17893.000000  17893.000000  17893.000000  17893.000000   \n",
       "mean       0.337898      0.675124      0.203487      0.306041      0.275136   \n",
       "std        0.473007      0.468341      0.402603      0.460860      0.446595   \n",
       "min        0.000000      0.000000      0.000000      0.000000      0.000000   \n",
       "25%        0.000000      0.000000      0.000000      0.000000      0.000000   \n",
       "50%        0.000000      1.000000      0.000000      0.000000      0.000000   \n",
       "75%        1.000000      1.000000      0.000000      1.000000      1.000000   \n",
       "max        1.000000      1.000000      1.000000      1.000000      1.000000   \n",
       "\n",
       "       ...            88            89            90            91  \\\n",
       "count  ...  17893.000000  17893.000000  1.789300e+04  1.789300e+04   \n",
       "mean   ...      0.065445      0.009277  2.422350e-17 -1.052332e-16   \n",
       "std    ...      0.247316      0.095874  1.000028e+00  1.000028e+00   \n",
       "min    ...      0.000000      0.000000 -1.788306e+00 -2.049421e+00   \n",
       "25%    ...      0.000000      0.000000 -6.865928e-01 -4.259798e-01   \n",
       "50%    ...      0.000000      0.000000  4.151205e-01 -4.259798e-01   \n",
       "75%    ...      0.000000      0.000000  4.151205e-01  1.197462e+00   \n",
       "max    ...      1.000000      1.000000  1.516834e+00  1.197462e+00   \n",
       "\n",
       "                 92            93            94            95            96  \\\n",
       "count  1.789300e+04  1.789300e+04  1.789300e+04  1.789300e+04  1.789300e+04   \n",
       "mean   3.027937e-17  7.981841e-17 -5.956598e-18  5.797756e-17  1.111898e-17   \n",
       "std    1.000028e+00  1.000028e+00  1.000028e+00  1.000028e+00  1.000028e+00   \n",
       "min   -2.853217e+00 -1.051483e+00 -1.002707e+00 -2.833489e+00 -1.245505e+00   \n",
       "25%   -8.528797e-01 -1.051483e+00 -1.002707e+00 -3.039182e-02 -5.188961e-01   \n",
       "50%    1.472892e-01 -2.704224e-01 -2.659226e-01 -3.039182e-02 -5.188961e-01   \n",
       "75%    1.147458e+00  1.291698e+00  1.207646e+00  9.039739e-01  9.343216e-01   \n",
       "max    1.147458e+00  2.072758e+00  1.944430e+00  9.039739e-01  1.660931e+00   \n",
       "\n",
       "                 97  \n",
       "count  1.789300e+04  \n",
       "mean  -4.487304e-17  \n",
       "std    1.000028e+00  \n",
       "min   -8.452392e-01  \n",
       "25%   -8.452392e-01  \n",
       "50%   -8.946163e-02  \n",
       "75%   -8.946163e-02  \n",
       "max    2.177871e+00  \n",
       "\n",
       "[8 rows x 98 columns]"
      ]
     },
     "execution_count": 49,
     "metadata": {},
     "output_type": "execute_result"
    }
   ],
   "source": [
    "pd.DataFrame(ct.fit_transform(X_train1)).describe()"
   ]
  },
  {
   "cell_type": "code",
   "execution_count": 50,
   "metadata": {
    "ExecuteTime": {
     "end_time": "2022-04-18T18:06:12.487964Z",
     "start_time": "2022-04-18T18:06:12.486159Z"
    }
   },
   "outputs": [],
   "source": [
    "knn = KNeighborsClassifier()\n",
    "knn_model_pipe = Pipeline([('ct', ct), ('knn', knn)]) \n",
    "#Need StandardScaler? No features are numeric"
   ]
  },
  {
   "cell_type": "code",
   "execution_count": 51,
   "metadata": {
    "ExecuteTime": {
     "end_time": "2022-04-18T18:06:12.705249Z",
     "start_time": "2022-04-18T18:06:12.488892Z"
    }
   },
   "outputs": [],
   "source": [
    "knn_model_pipe.fit(X_train1, y_train1);"
   ]
  },
  {
   "cell_type": "code",
   "execution_count": 52,
   "metadata": {
    "ExecuteTime": {
     "end_time": "2022-04-18T18:06:19.961859Z",
     "start_time": "2022-04-18T18:06:12.706222Z"
    }
   },
   "outputs": [],
   "source": [
    "knn_pipe = ModelWithCV(knn_model_pipe, 'knn_pipe', X_train1, y_train1)"
   ]
  },
  {
   "cell_type": "code",
   "execution_count": 53,
   "metadata": {
    "ExecuteTime": {
     "end_time": "2022-04-18T18:06:20.028172Z",
     "start_time": "2022-04-18T18:06:19.962737Z"
    }
   },
   "outputs": [
    {
     "data": {
      "image/png": "[encoded data removed]",
      "text/plain": [
       "<Figure size 432x288 with 1 Axes>"
      ]
     },
     "metadata": {
      "needs_background": "light"
     },
     "output_type": "display_data"
    }
   ],
   "source": [
    "fig, ax = plt.subplots()\n",
    "\n",
    "knn_pipe.plot_cv(ax=ax);"
   ]
  },
  {
   "cell_type": "code",
   "execution_count": 54,
   "metadata": {
    "ExecuteTime": {
     "end_time": "2022-04-18T18:06:20.031002Z",
     "start_time": "2022-04-18T18:06:20.029138Z"
    }
   },
   "outputs": [
    {
     "name": "stdout",
     "output_type": "stream",
     "text": [
      "CV Results for `knn_pipe` model:\n",
      "            0.81099 ± 0.00815 accuracy\n",
      "        \n"
     ]
    }
   ],
   "source": [
    "knn_pipe.print_cv_summary()"
   ]
  },
  {
   "cell_type": "code",
   "execution_count": 55,
   "metadata": {
    "ExecuteTime": {
     "end_time": "2022-04-18T18:06:26.456729Z",
     "start_time": "2022-04-18T18:06:20.031853Z"
    }
   },
   "outputs": [
    {
     "name": "stdout",
     "output_type": "stream",
     "text": [
      "\n",
      "Our final model's accuracy on the test set is 0.86. \n",
      "\n",
      "Our final model's recall on the test set is 0.48 \n",
      "\n",
      "Our final model's precision on the test set is 0.77 \n",
      "\n",
      "Our final model's f1-score on the test is 0.59.\n",
      "\n"
     ]
    }
   ],
   "source": [
    "knn_model_pipe.fit(X_train1, y_train1)\n",
    "y_hat = knn_model_pipe.predict(X_train1)\n",
    "print(f\"\"\"\n",
    "Our final model's accuracy on the test set is {round(accuracy_score(y_train1, y_hat), 2)}. \\n\n",
    "Our final model's recall on the test set is {round(recall_score(y_train1, y_hat), 2)} \\n\n",
    "Our final model's precision on the test set is {round(precision_score(y_train1, y_hat), 2)} \\n\n",
    "Our final model's f1-score on the test is {round(f1_score(y_train1, y_hat), 2)}.\n",
    "\"\"\")"
   ]
  },
  {
   "cell_type": "markdown",
   "metadata": {},
   "source": [
    "##### Nearest Neighbors Tuning"
   ]
  },
  {
   "cell_type": "code",
   "execution_count": 56,
   "metadata": {
    "ExecuteTime": {
     "end_time": "2022-04-18T18:06:26.460610Z",
     "start_time": "2022-04-18T18:06:26.458292Z"
    }
   },
   "outputs": [],
   "source": [
    "params = {}\n",
    "\n",
    "params['knn__metric'] = ['euclidean', 'manhattan']\n",
    "params['knn__n_neighbors'] = [10, 15, 20]"
   ]
  },
  {
   "cell_type": "code",
   "execution_count": 57,
   "metadata": {
    "ExecuteTime": {
     "end_time": "2022-04-18T18:06:26.463190Z",
     "start_time": "2022-04-18T18:06:26.461487Z"
    }
   },
   "outputs": [],
   "source": [
    "gs_knn = GridSearchCV(estimator=knn_model_pipe, param_grid=params, cv=10)"
   ]
  },
  {
   "cell_type": "code",
   "execution_count": 58,
   "metadata": {
    "ExecuteTime": {
     "end_time": "2022-04-18T18:07:56.253712Z",
     "start_time": "2022-04-18T18:06:26.464037Z"
    }
   },
   "outputs": [],
   "source": [
    "gs_knn.fit(X_train1, y_train1);"
   ]
  },
  {
   "cell_type": "code",
   "execution_count": 59,
   "metadata": {
    "ExecuteTime": {
     "end_time": "2022-04-18T18:07:56.257352Z",
     "start_time": "2022-04-18T18:07:56.254681Z"
    }
   },
   "outputs": [
    {
     "data": {
      "text/plain": [
       "array([0.8182532 , 0.82166271, 0.82071217, 0.81897961, 0.82166218,\n",
       "       0.81925913])"
      ]
     },
     "execution_count": 59,
     "metadata": {},
     "output_type": "execute_result"
    }
   ],
   "source": [
    "gs_knn.cv_results_['mean_test_score']"
   ]
  },
  {
   "cell_type": "code",
   "execution_count": 60,
   "metadata": {
    "ExecuteTime": {
     "end_time": "2022-04-18T18:07:56.260094Z",
     "start_time": "2022-04-18T18:07:56.258258Z"
    }
   },
   "outputs": [
    {
     "data": {
      "text/plain": [
       "{'knn__metric': 'euclidean', 'knn__n_neighbors': 15}"
      ]
     },
     "execution_count": 60,
     "metadata": {},
     "output_type": "execute_result"
    }
   ],
   "source": [
    "gs_knn.best_params_"
   ]
  },
  {
   "cell_type": "markdown",
   "metadata": {
    "ExecuteTime": {
     "end_time": "2022-04-18T16:04:12.083217Z",
     "start_time": "2022-04-18T16:04:12.081059Z"
    }
   },
   "source": [
    "knn best perameters: 'knn__metric': 'euclidean', 'knn__n_neighbors': 15"
   ]
  },
  {
   "cell_type": "markdown",
   "metadata": {},
   "source": [
    "#### Random Forest Pipeline"
   ]
  },
  {
   "cell_type": "code",
   "execution_count": 61,
   "metadata": {
    "ExecuteTime": {
     "end_time": "2022-04-18T18:07:56.262491Z",
     "start_time": "2022-04-18T18:07:56.260801Z"
    }
   },
   "outputs": [],
   "source": [
    "# rfc!\n",
    "rfc = RandomForestClassifier(random_state=42)\n",
    "rfc_model_pipe = Pipeline([('ct', ct), ('rfc', rfc)])"
   ]
  },
  {
   "cell_type": "code",
   "execution_count": 62,
   "metadata": {
    "ExecuteTime": {
     "end_time": "2022-04-18T18:07:57.782252Z",
     "start_time": "2022-04-18T18:07:56.263273Z"
    }
   },
   "outputs": [],
   "source": [
    "rfc_model_pipe.fit(X_train1, y_train1);"
   ]
  },
  {
   "cell_type": "code",
   "execution_count": 63,
   "metadata": {
    "ExecuteTime": {
     "end_time": "2022-04-18T18:08:11.342096Z",
     "start_time": "2022-04-18T18:07:57.783134Z"
    }
   },
   "outputs": [],
   "source": [
    "forest_pipe = ModelWithCV(rfc_model_pipe, 'forest_pipe', X_train1, y_train1)"
   ]
  },
  {
   "cell_type": "code",
   "execution_count": 64,
   "metadata": {
    "ExecuteTime": {
     "end_time": "2022-04-18T18:08:11.403811Z",
     "start_time": "2022-04-18T18:08:11.342964Z"
    },
    "scrolled": true
   },
   "outputs": [
    {
     "data": {
      "image/png": "[encoded data removed]",
      "text/plain": [
       "<Figure size 432x288 with 1 Axes>"
      ]
     },
     "metadata": {
      "needs_background": "light"
     },
     "output_type": "display_data"
    }
   ],
   "source": [
    "fig, ax = plt.subplots()\n",
    "\n",
    "forest_pipe.plot_cv(ax=ax);"
   ]
  },
  {
   "cell_type": "code",
   "execution_count": 65,
   "metadata": {
    "ExecuteTime": {
     "end_time": "2022-04-18T18:08:11.407172Z",
     "start_time": "2022-04-18T18:08:11.405170Z"
    },
    "scrolled": true
   },
   "outputs": [
    {
     "name": "stdout",
     "output_type": "stream",
     "text": [
      "CV Results for `forest_pipe` model:\n",
      "            0.83401 ± 0.00865 accuracy\n",
      "        \n"
     ]
    }
   ],
   "source": [
    "forest_pipe.print_cv_summary()"
   ]
  },
  {
   "cell_type": "code",
   "execution_count": 66,
   "metadata": {
    "ExecuteTime": {
     "end_time": "2022-04-18T18:08:13.300500Z",
     "start_time": "2022-04-18T18:08:11.408358Z"
    }
   },
   "outputs": [
    {
     "name": "stdout",
     "output_type": "stream",
     "text": [
      "\n",
      "Our final model's accuracy on the test set is 1.0. \n",
      "\n",
      "Our final model's recall on the test set is 1.0 \n",
      "\n",
      "Our final model's precision on the test set is 1.0 \n",
      "\n",
      "Our final model's f1-score on the test is 1.0.\n",
      "\n"
     ]
    }
   ],
   "source": [
    "rfc_model_pipe.fit(X_train1, y_train1)\n",
    "y_hat = rfc_model_pipe.predict(X_train1)\n",
    "print(f\"\"\"\n",
    "Our final model's accuracy on the test set is {round(accuracy_score(y_train1, y_hat), 2)}. \\n\n",
    "Our final model's recall on the test set is {round(recall_score(y_train1, y_hat), 2)} \\n\n",
    "Our final model's precision on the test set is {round(precision_score(y_train1, y_hat), 2)} \\n\n",
    "Our final model's f1-score on the test is {round(f1_score(y_train1, y_hat), 2)}.\n",
    "\"\"\")"
   ]
  },
  {
   "cell_type": "markdown",
   "metadata": {},
   "source": [
    "Overfit for sure"
   ]
  },
  {
   "cell_type": "markdown",
   "metadata": {},
   "source": [
    "##### Random Forest Tuning"
   ]
  },
  {
   "cell_type": "code",
   "execution_count": 67,
   "metadata": {
    "ExecuteTime": {
     "end_time": "2022-04-18T18:08:13.303128Z",
     "start_time": "2022-04-18T18:08:13.301453Z"
    }
   },
   "outputs": [],
   "source": [
    "params = {}\n",
    "\n",
    "params['rfc__max_features'] = ['sqrt', 'auto']\n",
    "params['rfc__n_estimators'] = [100, 1000, 1500]"
   ]
  },
  {
   "cell_type": "code",
   "execution_count": 68,
   "metadata": {
    "ExecuteTime": {
     "end_time": "2022-04-18T18:08:13.312383Z",
     "start_time": "2022-04-18T18:08:13.310962Z"
    }
   },
   "outputs": [],
   "source": [
    "gs_rfc = GridSearchCV(estimator=rfc_model_pipe, param_grid=params, cv=10)"
   ]
  },
  {
   "cell_type": "code",
   "execution_count": 69,
   "metadata": {
    "ExecuteTime": {
     "end_time": "2022-04-18T18:18:37.452157Z",
     "start_time": "2022-04-18T18:08:13.315793Z"
    }
   },
   "outputs": [],
   "source": [
    "gs_rfc.fit(X_train1, y_train1);"
   ]
  },
  {
   "cell_type": "code",
   "execution_count": 70,
   "metadata": {
    "ExecuteTime": {
     "end_time": "2022-04-18T18:18:37.464443Z",
     "start_time": "2022-04-18T18:18:37.453683Z"
    }
   },
   "outputs": [
    {
     "data": {
      "text/plain": [
       "array([0.83401407, 0.83703205, 0.83675263, 0.83401407, 0.83703205,\n",
       "       0.83675263])"
      ]
     },
     "execution_count": 70,
     "metadata": {},
     "output_type": "execute_result"
    }
   ],
   "source": [
    "gs_rfc.cv_results_['mean_test_score']"
   ]
  },
  {
   "cell_type": "code",
   "execution_count": 71,
   "metadata": {
    "ExecuteTime": {
     "end_time": "2022-04-18T18:18:37.467313Z",
     "start_time": "2022-04-18T18:18:37.465322Z"
    }
   },
   "outputs": [
    {
     "data": {
      "text/plain": [
       "{'rfc__max_features': 'sqrt', 'rfc__n_estimators': 1000}"
      ]
     },
     "execution_count": 71,
     "metadata": {},
     "output_type": "execute_result"
    }
   ],
   "source": [
    "gs_rfc.best_params_"
   ]
  },
  {
   "cell_type": "markdown",
   "metadata": {},
   "source": [
    "Random Forest best params: 'rfc__max_features': 'sqrt', 'rfc__n_estimators': 1000"
   ]
  },
  {
   "cell_type": "markdown",
   "metadata": {},
   "source": [
    "#### Gradient Booster"
   ]
  },
  {
   "cell_type": "code",
   "execution_count": 72,
   "metadata": {
    "ExecuteTime": {
     "end_time": "2022-04-18T18:18:37.470143Z",
     "start_time": "2022-04-18T18:18:37.468114Z"
    }
   },
   "outputs": [],
   "source": [
    "gbc = GradientBoostingClassifier(random_state=42)\n",
    "gbc_model_pipe = Pipeline([('ct', ct), ('gbc', gbc)])"
   ]
  },
  {
   "cell_type": "code",
   "execution_count": 73,
   "metadata": {
    "ExecuteTime": {
     "end_time": "2022-04-18T18:19:00.888527Z",
     "start_time": "2022-04-18T18:18:37.471574Z"
    }
   },
   "outputs": [],
   "source": [
    "boost_pipe = ModelWithCV(model=gbc_model_pipe,\n",
    "                         model_name='boost_pipe',\n",
    "                         X=X_train1,\n",
    "                         y=y_train1)"
   ]
  },
  {
   "cell_type": "code",
   "execution_count": 74,
   "metadata": {
    "ExecuteTime": {
     "end_time": "2022-04-18T18:19:00.960660Z",
     "start_time": "2022-04-18T18:19:00.889439Z"
    }
   },
   "outputs": [
    {
     "data": {
      "image/png": "[encoded data removed]",
      "text/plain": [
       "<Figure size 432x288 with 1 Axes>"
      ]
     },
     "metadata": {
      "needs_background": "light"
     },
     "output_type": "display_data"
    }
   ],
   "source": [
    "fig, ax = plt.subplots()\n",
    "\n",
    "boost_pipe.plot_cv(ax=ax);"
   ]
  },
  {
   "cell_type": "code",
   "execution_count": 75,
   "metadata": {
    "ExecuteTime": {
     "end_time": "2022-04-18T18:19:00.964154Z",
     "start_time": "2022-04-18T18:19:00.961986Z"
    }
   },
   "outputs": [
    {
     "name": "stdout",
     "output_type": "stream",
     "text": [
      "CV Results for `boost_pipe` model:\n",
      "            0.83826 ± 0.00760 accuracy\n",
      "        \n"
     ]
    }
   ],
   "source": [
    "boost_pipe.print_cv_summary()"
   ]
  },
  {
   "cell_type": "code",
   "execution_count": 76,
   "metadata": {
    "ExecuteTime": {
     "end_time": "2022-04-18T18:19:03.727498Z",
     "start_time": "2022-04-18T18:19:00.965458Z"
    }
   },
   "outputs": [
    {
     "name": "stdout",
     "output_type": "stream",
     "text": [
      "\n",
      "Our final model's accuracy on the test set is 0.85. \n",
      "\n",
      "Our final model's recall on the test set is 0.46 \n",
      "\n",
      "Our final model's precision on the test set is 0.71 \n",
      "\n",
      "Our final model's f1-score on the test is 0.56.\n",
      "\n"
     ]
    }
   ],
   "source": [
    "gbc_model_pipe.fit(X_train1, y_train1)\n",
    "y_hat = gbc_model_pipe.predict(X_train1)\n",
    "print(f\"\"\"\n",
    "Our final model's accuracy on the test set is {round(accuracy_score(y_train1, y_hat), 2)}. \\n\n",
    "Our final model's recall on the test set is {round(recall_score(y_train1, y_hat), 2)} \\n\n",
    "Our final model's precision on the test set is {round(precision_score(y_train1, y_hat), 2)} \\n\n",
    "Our final model's f1-score on the test is {round(f1_score(y_train1, y_hat), 2)}.\n",
    "\"\"\")"
   ]
  },
  {
   "cell_type": "markdown",
   "metadata": {},
   "source": [
    "##### Gradient Booster Tuning"
   ]
  },
  {
   "cell_type": "code",
   "execution_count": 77,
   "metadata": {
    "ExecuteTime": {
     "end_time": "2022-04-18T18:19:03.730287Z",
     "start_time": "2022-04-18T18:19:03.728393Z"
    }
   },
   "outputs": [],
   "source": [
    "params = {}\n",
    "\n",
    "params['gbc__learning_rate'] = [.025, .05, .1]\n",
    "params['gbc__n_estimators'] = [300, 350, 400]"
   ]
  },
  {
   "cell_type": "code",
   "execution_count": 78,
   "metadata": {
    "ExecuteTime": {
     "end_time": "2022-04-18T18:19:03.732697Z",
     "start_time": "2022-04-18T18:19:03.731081Z"
    }
   },
   "outputs": [],
   "source": [
    "gs_gbc = GridSearchCV(estimator=gbc_model_pipe, param_grid=params, cv=10)"
   ]
  },
  {
   "cell_type": "code",
   "execution_count": 79,
   "metadata": {
    "ExecuteTime": {
     "end_time": "2022-04-18T18:32:11.200601Z",
     "start_time": "2022-04-18T18:19:03.733474Z"
    }
   },
   "outputs": [],
   "source": [
    "gs_gbc.fit(X_train1, y_train1);"
   ]
  },
  {
   "cell_type": "code",
   "execution_count": 80,
   "metadata": {
    "ExecuteTime": {
     "end_time": "2022-04-18T18:32:11.207167Z",
     "start_time": "2022-04-18T18:32:11.203267Z"
    }
   },
   "outputs": [
    {
     "data": {
      "text/plain": [
       "array([0.83697578, 0.83759058, 0.83859648, 0.83971439, 0.84010561,\n",
       "       0.84032923, 0.83921129, 0.83993814, 0.83859708])"
      ]
     },
     "execution_count": 80,
     "metadata": {},
     "output_type": "execute_result"
    }
   ],
   "source": [
    "gs_gbc.cv_results_['mean_test_score']"
   ]
  },
  {
   "cell_type": "code",
   "execution_count": 81,
   "metadata": {
    "ExecuteTime": {
     "end_time": "2022-04-18T18:32:11.233997Z",
     "start_time": "2022-04-18T18:32:11.207971Z"
    }
   },
   "outputs": [
    {
     "data": {
      "text/plain": [
       "{'gbc__learning_rate': 0.05, 'gbc__n_estimators': 400}"
      ]
     },
     "execution_count": 81,
     "metadata": {},
     "output_type": "execute_result"
    }
   ],
   "source": [
    "gs_gbc.best_params_"
   ]
  },
  {
   "cell_type": "markdown",
   "metadata": {},
   "source": [
    "Gradient Booster best parmeters: 'gbc__learning_rate': 0.05, 'gbc__n_estimators': 400"
   ]
  },
  {
   "cell_type": "markdown",
   "metadata": {},
   "source": [
    "#### AdaBoost "
   ]
  },
  {
   "cell_type": "code",
   "execution_count": 82,
   "metadata": {
    "ExecuteTime": {
     "end_time": "2022-04-18T18:32:11.237495Z",
     "start_time": "2022-04-18T18:32:11.235297Z"
    }
   },
   "outputs": [],
   "source": [
    "ada = AdaBoostClassifier()\n",
    "ada_model_pipe = Pipeline([('ct', ct), ('ada', ada)])"
   ]
  },
  {
   "cell_type": "code",
   "execution_count": 83,
   "metadata": {
    "ExecuteTime": {
     "end_time": "2022-04-18T18:32:19.117244Z",
     "start_time": "2022-04-18T18:32:11.238440Z"
    }
   },
   "outputs": [],
   "source": [
    "ada_pipe = ModelWithCV(model=ada_model_pipe,\n",
    "                         model_name='ada_pipe',\n",
    "                         X=X_train1,\n",
    "                         y=y_train1)"
   ]
  },
  {
   "cell_type": "code",
   "execution_count": 84,
   "metadata": {
    "ExecuteTime": {
     "end_time": "2022-04-18T18:32:19.278316Z",
     "start_time": "2022-04-18T18:32:19.118217Z"
    },
    "scrolled": true
   },
   "outputs": [
    {
     "data": {
      "image/png": "[encoded data removed]",
      "text/plain": [
       "<Figure size 432x288 with 1 Axes>"
      ]
     },
     "metadata": {
      "needs_background": "light"
     },
     "output_type": "display_data"
    }
   ],
   "source": [
    "fig, ax = plt.subplots()\n",
    "\n",
    "ada_pipe.plot_cv(ax=ax);"
   ]
  },
  {
   "cell_type": "code",
   "execution_count": 85,
   "metadata": {
    "ExecuteTime": {
     "end_time": "2022-04-18T18:32:19.281783Z",
     "start_time": "2022-04-18T18:32:19.279738Z"
    },
    "scrolled": true
   },
   "outputs": [
    {
     "name": "stdout",
     "output_type": "stream",
     "text": [
      "CV Results for `ada_pipe` model:\n",
      "            0.83373 ± 0.00545 accuracy\n",
      "        \n"
     ]
    }
   ],
   "source": [
    "ada_pipe.print_cv_summary()"
   ]
  },
  {
   "cell_type": "code",
   "execution_count": 86,
   "metadata": {
    "ExecuteTime": {
     "end_time": "2022-04-18T18:32:20.385813Z",
     "start_time": "2022-04-18T18:32:19.283753Z"
    },
    "scrolled": true
   },
   "outputs": [
    {
     "name": "stdout",
     "output_type": "stream",
     "text": [
      "\n",
      "Our final model's accuracy on the test set is 0.84. \n",
      "\n",
      "Our final model's recall on the test set is 0.44 \n",
      "\n",
      "Our final model's precision on the test set is 0.68 \n",
      "\n",
      "Our final model's f1-score on the test is 0.53.\n",
      "\n"
     ]
    }
   ],
   "source": [
    "ada_model_pipe.fit(X_train1, y_train1)\n",
    "y_hat = ada_model_pipe.predict(X_train1)\n",
    "print(f\"\"\"\n",
    "Our final model's accuracy on the test set is {round(accuracy_score(y_train1, y_hat), 2)}. \\n\n",
    "Our final model's recall on the test set is {round(recall_score(y_train1, y_hat), 2)} \\n\n",
    "Our final model's precision on the test set is {round(precision_score(y_train1, y_hat), 2)} \\n\n",
    "Our final model's f1-score on the test is {round(f1_score(y_train1, y_hat), 2)}.\n",
    "\"\"\")"
   ]
  },
  {
   "cell_type": "markdown",
   "metadata": {},
   "source": [
    "##### Adaboost Tuning"
   ]
  },
  {
   "cell_type": "code",
   "execution_count": 87,
   "metadata": {
    "ExecuteTime": {
     "end_time": "2022-04-18T18:32:20.388420Z",
     "start_time": "2022-04-18T18:32:20.386689Z"
    }
   },
   "outputs": [],
   "source": [
    "params = {}\n",
    "\n",
    "params['ada__learning_rate'] = [.25, .5, .75]\n",
    "params['ada__n_estimators'] = [250, 300, 350]"
   ]
  },
  {
   "cell_type": "code",
   "execution_count": 88,
   "metadata": {
    "ExecuteTime": {
     "end_time": "2022-04-18T18:32:20.405384Z",
     "start_time": "2022-04-18T18:32:20.389223Z"
    }
   },
   "outputs": [],
   "source": [
    "gs_ada = GridSearchCV(estimator=ada_model_pipe, param_grid=params, cv=10)"
   ]
  },
  {
   "cell_type": "code",
   "execution_count": 89,
   "metadata": {
    "ExecuteTime": {
     "end_time": "2022-04-18T18:37:53.249417Z",
     "start_time": "2022-04-18T18:32:20.406511Z"
    }
   },
   "outputs": [],
   "source": [
    "gs_ada.fit(X_train1, y_train1);"
   ]
  },
  {
   "cell_type": "code",
   "execution_count": 90,
   "metadata": {
    "ExecuteTime": {
     "end_time": "2022-04-18T18:37:53.254174Z",
     "start_time": "2022-04-18T18:37:53.250670Z"
    }
   },
   "outputs": [
    {
     "data": {
      "text/plain": [
       "array([0.83496379, 0.83490777, 0.83552258, 0.83552251, 0.83574613,\n",
       "       0.83574613, 0.83563446, 0.83591379, 0.83591386])"
      ]
     },
     "execution_count": 90,
     "metadata": {},
     "output_type": "execute_result"
    }
   ],
   "source": [
    "gs_ada.cv_results_['mean_test_score']"
   ]
  },
  {
   "cell_type": "code",
   "execution_count": 91,
   "metadata": {
    "ExecuteTime": {
     "end_time": "2022-04-18T18:37:53.263123Z",
     "start_time": "2022-04-18T18:37:53.255062Z"
    }
   },
   "outputs": [
    {
     "data": {
      "text/plain": [
       "{'ada__learning_rate': 0.75, 'ada__n_estimators': 350}"
      ]
     },
     "execution_count": 91,
     "metadata": {},
     "output_type": "execute_result"
    }
   ],
   "source": [
    "gs_ada.best_params_"
   ]
  },
  {
   "cell_type": "markdown",
   "metadata": {},
   "source": [
    "Adaboost best parameters: 'ada__learning_rate': .75, 'ada__n_estimators': 350"
   ]
  },
  {
   "cell_type": "markdown",
   "metadata": {},
   "source": [
    "#### XGBoost "
   ]
  },
  {
   "cell_type": "code",
   "execution_count": 92,
   "metadata": {
    "ExecuteTime": {
     "end_time": "2022-04-18T18:37:53.266985Z",
     "start_time": "2022-04-18T18:37:53.264527Z"
    }
   },
   "outputs": [],
   "source": [
    "xgb = xgboost.XGBClassifier(random_state=42)\n",
    "xgb_model_pipe = Pipeline([('ct', ct), ('xgb', xgb)])"
   ]
  },
  {
   "cell_type": "code",
   "execution_count": 93,
   "metadata": {
    "ExecuteTime": {
     "end_time": "2022-04-18T18:38:17.368069Z",
     "start_time": "2022-04-18T18:37:53.268072Z"
    }
   },
   "outputs": [],
   "source": [
    "xgb_pipe = ModelWithCV(model=xgb_model_pipe,\n",
    "                         model_name='xgb_pipe',\n",
    "                         X=X_train1,\n",
    "                         y=y_train1)"
   ]
  },
  {
   "cell_type": "code",
   "execution_count": 94,
   "metadata": {
    "ExecuteTime": {
     "end_time": "2022-04-18T18:38:17.442281Z",
     "start_time": "2022-04-18T18:38:17.369290Z"
    }
   },
   "outputs": [
    {
     "data": {
      "image/png": "[encoded data removed]",
      "text/plain": [
       "<Figure size 432x288 with 1 Axes>"
      ]
     },
     "metadata": {
      "needs_background": "light"
     },
     "output_type": "display_data"
    }
   ],
   "source": [
    "fig, ax = plt.subplots()\n",
    "\n",
    "xgb_pipe.plot_cv(ax=ax);"
   ]
  },
  {
   "cell_type": "code",
   "execution_count": 95,
   "metadata": {
    "ExecuteTime": {
     "end_time": "2022-04-18T18:38:17.445594Z",
     "start_time": "2022-04-18T18:38:17.443646Z"
    }
   },
   "outputs": [
    {
     "name": "stdout",
     "output_type": "stream",
     "text": [
      "CV Results for `xgb_pipe` model:\n",
      "            0.83161 ± 0.00836 accuracy\n",
      "        \n"
     ]
    }
   ],
   "source": [
    "xgb_pipe.print_cv_summary()"
   ]
  },
  {
   "cell_type": "code",
   "execution_count": 96,
   "metadata": {
    "ExecuteTime": {
     "end_time": "2022-04-18T18:38:20.671984Z",
     "start_time": "2022-04-18T18:38:17.446951Z"
    }
   },
   "outputs": [
    {
     "name": "stdout",
     "output_type": "stream",
     "text": [
      "\n",
      "Our final model's accuracy on the test set is 0.91. \n",
      "\n",
      "Our final model's recall on the test set is 0.68 \n",
      "\n",
      "Our final model's precision on the test set is 0.88 \n",
      "\n",
      "Our final model's f1-score on the test is 0.77.\n",
      "\n"
     ]
    }
   ],
   "source": [
    "xgb_model_pipe.fit(X_train1, y_train1)\n",
    "y_hat = xgb_model_pipe.predict(X_train1)\n",
    "print(f\"\"\"\n",
    "Our final model's accuracy on the test set is {round(accuracy_score(y_train1, y_hat), 2)}. \\n\n",
    "Our final model's recall on the test set is {round(recall_score(y_train1, y_hat), 2)} \\n\n",
    "Our final model's precision on the test set is {round(precision_score(y_train1, y_hat), 2)} \\n\n",
    "Our final model's f1-score on the test is {round(f1_score(y_train1, y_hat), 2)}.\n",
    "\"\"\")"
   ]
  },
  {
   "cell_type": "markdown",
   "metadata": {},
   "source": [
    "^ Nice! Watch for overfitting."
   ]
  },
  {
   "cell_type": "markdown",
   "metadata": {},
   "source": [
    "#### Extra Trees Classifier"
   ]
  },
  {
   "cell_type": "code",
   "execution_count": 97,
   "metadata": {
    "ExecuteTime": {
     "end_time": "2022-04-18T18:38:20.674962Z",
     "start_time": "2022-04-18T18:38:20.673078Z"
    }
   },
   "outputs": [],
   "source": [
    "etc = ExtraTreesClassifier(max_features='sqrt', max_samples=.5, bootstrap=True, random_state=42)\n",
    "etc_model_pipe = Pipeline([('ct', ct), ('etc', etc)])"
   ]
  },
  {
   "cell_type": "code",
   "execution_count": 98,
   "metadata": {
    "ExecuteTime": {
     "end_time": "2022-04-18T18:38:29.660353Z",
     "start_time": "2022-04-18T18:38:20.675871Z"
    }
   },
   "outputs": [],
   "source": [
    "etc_pipe = ModelWithCV(model=etc_model_pipe,\n",
    "                         model_name='etc_pipe',\n",
    "                         X=X_train1,\n",
    "                         y=y_train1)"
   ]
  },
  {
   "cell_type": "code",
   "execution_count": 99,
   "metadata": {
    "ExecuteTime": {
     "end_time": "2022-04-18T18:38:29.722880Z",
     "start_time": "2022-04-18T18:38:29.661220Z"
    }
   },
   "outputs": [
    {
     "data": {
      "image/png": "[encoded data removed]",
      "text/plain": [
       "<Figure size 432x288 with 1 Axes>"
      ]
     },
     "metadata": {
      "needs_background": "light"
     },
     "output_type": "display_data"
    }
   ],
   "source": [
    "fig, ax = plt.subplots()\n",
    "\n",
    "etc_pipe.plot_cv(ax=ax);"
   ]
  },
  {
   "cell_type": "code",
   "execution_count": 100,
   "metadata": {
    "ExecuteTime": {
     "end_time": "2022-04-18T18:38:29.726263Z",
     "start_time": "2022-04-18T18:38:29.724206Z"
    }
   },
   "outputs": [
    {
     "name": "stdout",
     "output_type": "stream",
     "text": [
      "CV Results for `etc_pipe` model:\n",
      "            0.83183 ± 0.00594 accuracy\n",
      "        \n"
     ]
    }
   ],
   "source": [
    "etc_pipe.print_cv_summary()"
   ]
  },
  {
   "cell_type": "code",
   "execution_count": 101,
   "metadata": {
    "ExecuteTime": {
     "end_time": "2022-04-18T18:38:31.082032Z",
     "start_time": "2022-04-18T18:38:29.727747Z"
    }
   },
   "outputs": [
    {
     "name": "stdout",
     "output_type": "stream",
     "text": [
      "\n",
      "Our final model's accuracy on the test set is 0.96. \n",
      "\n",
      "Our final model's recall on the test set is 0.8 \n",
      "\n",
      "Our final model's precision on the test set is 1.0 \n",
      "\n",
      "Our final model's f1-score on the test is 0.89.\n",
      "\n"
     ]
    }
   ],
   "source": [
    "etc_model_pipe.fit(X_train1, y_train1)\n",
    "y_hat = etc_model_pipe.predict(X_train1)\n",
    "print(f\"\"\"\n",
    "Our final model's accuracy on the test set is {round(accuracy_score(y_train1, y_hat), 2)}. \\n\n",
    "Our final model's recall on the test set is {round(recall_score(y_train1, y_hat), 2)} \\n\n",
    "Our final model's precision on the test set is {round(precision_score(y_train1, y_hat), 2)} \\n\n",
    "Our final model's f1-score on the test is {round(f1_score(y_train1, y_hat), 2)}.\n",
    "\"\"\")"
   ]
  },
  {
   "cell_type": "markdown",
   "metadata": {},
   "source": [
    "^ Nice! Watch for overfitting. "
   ]
  },
  {
   "cell_type": "markdown",
   "metadata": {},
   "source": [
    "#### Bagging"
   ]
  },
  {
   "cell_type": "code",
   "execution_count": 102,
   "metadata": {
    "ExecuteTime": {
     "end_time": "2022-04-18T18:38:31.084740Z",
     "start_time": "2022-04-18T18:38:31.082956Z"
    }
   },
   "outputs": [],
   "source": [
    "bag = BaggingClassifier(n_estimators=100, random_state=42)\n",
    "bag_model_pipe = Pipeline([('ct', ct), ('bag', bag)])"
   ]
  },
  {
   "cell_type": "code",
   "execution_count": 103,
   "metadata": {
    "ExecuteTime": {
     "end_time": "2022-04-18T18:39:46.866309Z",
     "start_time": "2022-04-18T18:38:31.085483Z"
    }
   },
   "outputs": [],
   "source": [
    "bag_pipe = ModelWithCV(model=bag_model_pipe,\n",
    "                         model_name='bag_pipe',\n",
    "                         X=X_train1,\n",
    "                         y=y_train1)"
   ]
  },
  {
   "cell_type": "code",
   "execution_count": 104,
   "metadata": {
    "ExecuteTime": {
     "end_time": "2022-04-18T18:39:46.935301Z",
     "start_time": "2022-04-18T18:39:46.867348Z"
    }
   },
   "outputs": [
    {
     "data": {
      "image/png": "[encoded data removed]",
      "text/plain": [
       "<Figure size 432x288 with 1 Axes>"
      ]
     },
     "metadata": {
      "needs_background": "light"
     },
     "output_type": "display_data"
    }
   ],
   "source": [
    "fig, ax = plt.subplots()\n",
    "\n",
    "bag_pipe.plot_cv(ax=ax);"
   ]
  },
  {
   "cell_type": "code",
   "execution_count": 105,
   "metadata": {
    "ExecuteTime": {
     "end_time": "2022-04-18T18:39:46.938567Z",
     "start_time": "2022-04-18T18:39:46.936518Z"
    }
   },
   "outputs": [
    {
     "name": "stdout",
     "output_type": "stream",
     "text": [
      "CV Results for `bag_pipe` model:\n",
      "            0.83295 ± 0.00859 accuracy\n",
      "        \n"
     ]
    }
   ],
   "source": [
    "bag_pipe.print_cv_summary()"
   ]
  },
  {
   "cell_type": "code",
   "execution_count": 106,
   "metadata": {
    "ExecuteTime": {
     "end_time": "2022-04-18T18:39:56.224772Z",
     "start_time": "2022-04-18T18:39:46.939834Z"
    },
    "scrolled": true
   },
   "outputs": [
    {
     "name": "stdout",
     "output_type": "stream",
     "text": [
      "\n",
      "Our final model's accuracy on the test set is 1.0. \n",
      "\n",
      "Our final model's recall on the test set is 1.0 \n",
      "\n",
      "Our final model's precision on the test set is 1.0 \n",
      "\n",
      "Our final model's f1-score on the test is 1.0.\n",
      "\n"
     ]
    }
   ],
   "source": [
    "bag_model_pipe.fit(X_train1, y_train1)\n",
    "y_hat = bag_model_pipe.predict(X_train1)\n",
    "print(f\"\"\"\n",
    "Our final model's accuracy on the test set is {round(accuracy_score(y_train1, y_hat), 2)}. \\n\n",
    "Our final model's recall on the test set is {round(recall_score(y_train1, y_hat), 2)} \\n\n",
    "Our final model's precision on the test set is {round(precision_score(y_train1, y_hat), 2)} \\n\n",
    "Our final model's f1-score on the test is {round(f1_score(y_train1, y_hat), 2)}.\n",
    "\"\"\")"
   ]
  },
  {
   "cell_type": "markdown",
   "metadata": {
    "ExecuteTime": {
     "end_time": "2022-04-18T13:55:38.762488Z",
     "start_time": "2022-04-18T13:55:38.751752Z"
    }
   },
   "source": [
    "Overfit, for sure"
   ]
  },
  {
   "cell_type": "markdown",
   "metadata": {},
   "source": [
    "### Ensembles"
   ]
  },
  {
   "cell_type": "markdown",
   "metadata": {},
   "source": [
    "#### Voting Classifier"
   ]
  },
  {
   "cell_type": "markdown",
   "metadata": {},
   "source": [
    "##### Voting Classifier 1"
   ]
  },
  {
   "cell_type": "code",
   "execution_count": 107,
   "metadata": {
    "ExecuteTime": {
     "end_time": "2022-04-18T18:39:56.228112Z",
     "start_time": "2022-04-18T18:39:56.225741Z"
    }
   },
   "outputs": [],
   "source": [
    "avg1 = VotingClassifier(estimators=[\n",
    "    ('logreg', LogisticRegression(random_state=42, max_iter=1000, C=.1, solver='sag')),\n",
    "    ('knn', KNeighborsClassifier(metric= 'euclidean', n_neighbors= 15)),\n",
    "    ('rfc', RandomForestClassifier(max_features= 'sqrt', n_estimators= 1000))    \n",
    "])\n",
    "avg1_model_pipe = Pipeline([('ct', ct), ('avg1', avg1)])"
   ]
  },
  {
   "cell_type": "code",
   "execution_count": 108,
   "metadata": {
    "ExecuteTime": {
     "end_time": "2022-04-18T18:42:04.188714Z",
     "start_time": "2022-04-18T18:39:56.228980Z"
    }
   },
   "outputs": [],
   "source": [
    "avg1_pipe = ModelWithCV(model=avg1_model_pipe,\n",
    "                         model_name='avg1_pipe',\n",
    "                         X=X_train1,\n",
    "                         y=y_train1)"
   ]
  },
  {
   "cell_type": "code",
   "execution_count": 109,
   "metadata": {
    "ExecuteTime": {
     "end_time": "2022-04-18T18:42:04.255285Z",
     "start_time": "2022-04-18T18:42:04.189693Z"
    }
   },
   "outputs": [
    {
     "data": {
      "image/png": "[encoded data removed]",
      "text/plain": [
       "<Figure size 432x288 with 1 Axes>"
      ]
     },
     "metadata": {
      "needs_background": "light"
     },
     "output_type": "display_data"
    }
   ],
   "source": [
    "fig, ax = plt.subplots()\n",
    "\n",
    "avg1_pipe.plot_cv(ax=ax);"
   ]
  },
  {
   "cell_type": "code",
   "execution_count": 110,
   "metadata": {
    "ExecuteTime": {
     "end_time": "2022-04-18T18:42:04.258787Z",
     "start_time": "2022-04-18T18:42:04.256866Z"
    }
   },
   "outputs": [
    {
     "name": "stdout",
     "output_type": "stream",
     "text": [
      "CV Results for `avg1_pipe` model:\n",
      "            0.83664 ± 0.00666 accuracy\n",
      "        \n"
     ]
    }
   ],
   "source": [
    "avg1_pipe.print_cv_summary()"
   ]
  },
  {
   "cell_type": "code",
   "execution_count": 111,
   "metadata": {
    "ExecuteTime": {
     "end_time": "2022-04-18T18:42:26.979947Z",
     "start_time": "2022-04-18T18:42:04.259994Z"
    }
   },
   "outputs": [
    {
     "name": "stdout",
     "output_type": "stream",
     "text": [
      "\n",
      "Our final model's accuracy on the test set is 0.87. \n",
      "\n",
      "Our final model's recall on the test set is 0.49 \n",
      "\n",
      "Our final model's precision on the test set is 0.86 \n",
      "\n",
      "Our final model's f1-score on the test is 0.62.\n",
      "\n"
     ]
    }
   ],
   "source": [
    "avg1_model_pipe.fit(X_train1, y_train1)\n",
    "y_hat = avg1_model_pipe.predict(X_train1)\n",
    "print(f\"\"\"\n",
    "Our final model's accuracy on the test set is {round(accuracy_score(y_train1, y_hat), 2)}. \\n\n",
    "Our final model's recall on the test set is {round(recall_score(y_train1, y_hat), 2)} \\n\n",
    "Our final model's precision on the test set is {round(precision_score(y_train1, y_hat), 2)} \\n\n",
    "Our final model's f1-score on the test is {round(f1_score(y_train1, y_hat), 2)}.\n",
    "\"\"\")"
   ]
  },
  {
   "cell_type": "markdown",
   "metadata": {},
   "source": [
    "Eh, we can probably do better."
   ]
  },
  {
   "cell_type": "markdown",
   "metadata": {},
   "source": [
    "##### Voting Classifier 2"
   ]
  },
  {
   "cell_type": "code",
   "execution_count": 112,
   "metadata": {
    "ExecuteTime": {
     "end_time": "2022-04-18T18:42:26.984427Z",
     "start_time": "2022-04-18T18:42:26.981285Z"
    }
   },
   "outputs": [],
   "source": [
    "avg2 = VotingClassifier(estimators=[\n",
    "    ('gbc', GradientBoostingClassifier(random_state=42, learning_rate= 0.1, n_estimators= 250)),\n",
    "    ('ada', AdaBoostClassifier(learning_rate= .5, n_estimators= 300)),\n",
    "    ('xgb', xgb)    \n",
    "])\n",
    "avg2_model_pipe = Pipeline([('ct', ct), ('avg2', avg2)])"
   ]
  },
  {
   "cell_type": "code",
   "execution_count": 113,
   "metadata": {
    "ExecuteTime": {
     "end_time": "2022-04-18T18:44:13.218178Z",
     "start_time": "2022-04-18T18:42:26.985752Z"
    }
   },
   "outputs": [],
   "source": [
    "avg2_pipe = ModelWithCV(model=avg2_model_pipe,\n",
    "                         model_name='avg2_pipe',\n",
    "                         X=X_train1,\n",
    "                         y=y_train1)"
   ]
  },
  {
   "cell_type": "code",
   "execution_count": 114,
   "metadata": {
    "ExecuteTime": {
     "end_time": "2022-04-18T18:44:13.288526Z",
     "start_time": "2022-04-18T18:44:13.219387Z"
    }
   },
   "outputs": [
    {
     "data": {
      "image/png": "[encoded data removed]",
      "text/plain": [
       "<Figure size 432x288 with 1 Axes>"
      ]
     },
     "metadata": {
      "needs_background": "light"
     },
     "output_type": "display_data"
    }
   ],
   "source": [
    "fig, ax = plt.subplots()\n",
    "\n",
    "avg2_pipe.plot_cv(ax=ax);"
   ]
  },
  {
   "cell_type": "code",
   "execution_count": 115,
   "metadata": {
    "ExecuteTime": {
     "end_time": "2022-04-18T18:44:13.292540Z",
     "start_time": "2022-04-18T18:44:13.289922Z"
    }
   },
   "outputs": [
    {
     "name": "stdout",
     "output_type": "stream",
     "text": [
      "CV Results for `avg2_pipe` model:\n",
      "            0.84016 ± 0.00686 accuracy\n",
      "        \n"
     ]
    }
   ],
   "source": [
    "avg2_pipe.print_cv_summary()"
   ]
  },
  {
   "cell_type": "code",
   "execution_count": 116,
   "metadata": {
    "ExecuteTime": {
     "end_time": "2022-04-18T18:44:26.119563Z",
     "start_time": "2022-04-18T18:44:13.294648Z"
    }
   },
   "outputs": [
    {
     "name": "stdout",
     "output_type": "stream",
     "text": [
      "\n",
      "Our final model's accuracy on the test set is 0.86. \n",
      "\n",
      "Our final model's recall on the test set is 0.5 \n",
      "\n",
      "Our final model's precision on the test set is 0.76 \n",
      "\n",
      "Our final model's f1-score on the test is 0.6.\n",
      "\n"
     ]
    }
   ],
   "source": [
    "avg2_model_pipe.fit(X_train1, y_train1)\n",
    "y_hat = avg2_model_pipe.predict(X_train1)\n",
    "print(f\"\"\"\n",
    "Our final model's accuracy on the test set is {round(accuracy_score(y_train1, y_hat), 2)}. \\n\n",
    "Our final model's recall on the test set is {round(recall_score(y_train1, y_hat), 2)} \\n\n",
    "Our final model's precision on the test set is {round(precision_score(y_train1, y_hat), 2)} \\n\n",
    "Our final model's f1-score on the test is {round(f1_score(y_train1, y_hat), 2)}.\n",
    "\"\"\")"
   ]
  },
  {
   "cell_type": "markdown",
   "metadata": {},
   "source": [
    "Eh, about the same."
   ]
  },
  {
   "cell_type": "markdown",
   "metadata": {},
   "source": [
    "##### Voting Classifier 3"
   ]
  },
  {
   "cell_type": "code",
   "execution_count": 117,
   "metadata": {
    "ExecuteTime": {
     "end_time": "2022-04-18T18:44:26.123784Z",
     "start_time": "2022-04-18T18:44:26.120757Z"
    }
   },
   "outputs": [],
   "source": [
    "avg3 = VotingClassifier(estimators=[\n",
    "    ('logreg', LogisticRegression(random_state=42, max_iter=1000, C=.1, solver='sag')),\n",
    "    ('knn', KNeighborsClassifier(metric= 'euclidean', n_neighbors= 15)),\n",
    "    ('rfc', RandomForestClassifier(max_features= 'sqrt', n_estimators= 1000)),\n",
    "    ('gbc', GradientBoostingClassifier(random_state=42, learning_rate= 0.1, n_estimators= 250)),\n",
    "    ('ada', AdaBoostClassifier(learning_rate= 1.5, n_estimators= 250)),\n",
    "    ('xgb', xgb)\n",
    "])\n",
    "avg3_model_pipe = Pipeline([('ct', ct), ('avg3', avg3)])"
   ]
  },
  {
   "cell_type": "code",
   "execution_count": 118,
   "metadata": {
    "ExecuteTime": {
     "end_time": "2022-04-18T18:48:13.206999Z",
     "start_time": "2022-04-18T18:44:26.124920Z"
    }
   },
   "outputs": [],
   "source": [
    "avg3_pipe = ModelWithCV(model=avg3_model_pipe,\n",
    "                         model_name='avg3_pipe',\n",
    "                         X=X_train1,\n",
    "                         y=y_train1)"
   ]
  },
  {
   "cell_type": "code",
   "execution_count": 119,
   "metadata": {
    "ExecuteTime": {
     "end_time": "2022-04-18T18:48:13.282137Z",
     "start_time": "2022-04-18T18:48:13.209183Z"
    }
   },
   "outputs": [
    {
     "data": {
      "image/png": "[encoded data removed]",
      "text/plain": [
       "<Figure size 432x288 with 1 Axes>"
      ]
     },
     "metadata": {
      "needs_background": "light"
     },
     "output_type": "display_data"
    }
   ],
   "source": [
    "fig, ax = plt.subplots()\n",
    "\n",
    "avg3_pipe.plot_cv(ax=ax);"
   ]
  },
  {
   "cell_type": "code",
   "execution_count": 120,
   "metadata": {
    "ExecuteTime": {
     "end_time": "2022-04-18T18:48:13.286156Z",
     "start_time": "2022-04-18T18:48:13.283898Z"
    }
   },
   "outputs": [
    {
     "name": "stdout",
     "output_type": "stream",
     "text": [
      "CV Results for `avg3_pipe` model:\n",
      "            0.83765 ± 0.00802 accuracy\n",
      "        \n"
     ]
    }
   ],
   "source": [
    "avg3_pipe.print_cv_summary()"
   ]
  },
  {
   "cell_type": "code",
   "execution_count": 121,
   "metadata": {
    "ExecuteTime": {
     "end_time": "2022-04-18T18:48:47.360647Z",
     "start_time": "2022-04-18T18:48:13.287292Z"
    }
   },
   "outputs": [
    {
     "name": "stdout",
     "output_type": "stream",
     "text": [
      "\n",
      "Our final model's accuracy on the test set is 0.86. \n",
      "\n",
      "Our final model's recall on the test set is 0.46 \n",
      "\n",
      "Our final model's precision on the test set is 0.82 \n",
      "\n",
      "Our final model's f1-score on the test is 0.59.\n",
      "\n"
     ]
    }
   ],
   "source": [
    "avg3_model_pipe.fit(X_train1, y_train1)\n",
    "y_hat = avg3_model_pipe.predict(X_train1)\n",
    "print(f\"\"\"\n",
    "Our final model's accuracy on the test set is {round(accuracy_score(y_train1, y_hat), 2)}. \\n\n",
    "Our final model's recall on the test set is {round(recall_score(y_train1, y_hat), 2)} \\n\n",
    "Our final model's precision on the test set is {round(precision_score(y_train1, y_hat), 2)} \\n\n",
    "Our final model's f1-score on the test is {round(f1_score(y_train1, y_hat), 2)}.\n",
    "\"\"\")"
   ]
  },
  {
   "cell_type": "markdown",
   "metadata": {},
   "source": [
    "#### Weighted Voting Classifier"
   ]
  },
  {
   "cell_type": "code",
   "execution_count": null,
   "metadata": {},
   "outputs": [],
   "source": []
  },
  {
   "cell_type": "markdown",
   "metadata": {},
   "source": [
    "#### Stacking"
   ]
  },
  {
   "cell_type": "markdown",
   "metadata": {},
   "source": [
    "##### Stack 1"
   ]
  },
  {
   "cell_type": "code",
   "execution_count": 122,
   "metadata": {
    "ExecuteTime": {
     "end_time": "2022-04-18T18:48:47.365547Z",
     "start_time": "2022-04-18T18:48:47.362587Z"
    }
   },
   "outputs": [],
   "source": [
    "estimators=[\n",
    "    ('logreg', LogisticRegression(random_state=42, max_iter=1000, C=.1, solver='sag')),\n",
    "    ('knn', KNeighborsClassifier(metric= 'euclidean', n_neighbors= 15)),\n",
    "    ('rfc', RandomForestClassifier(max_features= 'sqrt', n_estimators= 1000)) \n",
    "]"
   ]
  },
  {
   "cell_type": "code",
   "execution_count": 123,
   "metadata": {
    "ExecuteTime": {
     "end_time": "2022-04-18T18:48:47.368874Z",
     "start_time": "2022-04-18T18:48:47.366709Z"
    }
   },
   "outputs": [],
   "source": [
    "sr1 = StackingClassifier(estimators)\n",
    "sr1_model_pipe = Pipeline([('ct', ct), ('sr1', sr1)])"
   ]
  },
  {
   "cell_type": "code",
   "execution_count": 124,
   "metadata": {
    "ExecuteTime": {
     "end_time": "2022-04-18T18:59:40.352176Z",
     "start_time": "2022-04-18T18:48:47.370171Z"
    }
   },
   "outputs": [],
   "source": [
    "sr1_pipe = ModelWithCV(model=sr1_model_pipe,\n",
    "                         model_name='sr1_pipe',\n",
    "                         X=X_train1,\n",
    "                         y=y_train1)"
   ]
  },
  {
   "cell_type": "code",
   "execution_count": 125,
   "metadata": {
    "ExecuteTime": {
     "end_time": "2022-04-18T18:59:40.448781Z",
     "start_time": "2022-04-18T18:59:40.354196Z"
    }
   },
   "outputs": [
    {
     "data": {
      "image/png": "[encoded data removed]",
      "text/plain": [
       "<Figure size 432x288 with 1 Axes>"
      ]
     },
     "metadata": {
      "needs_background": "light"
     },
     "output_type": "display_data"
    }
   ],
   "source": [
    "fig, ax = plt.subplots()\n",
    "\n",
    "sr1_pipe.plot_cv(ax=ax);"
   ]
  },
  {
   "cell_type": "code",
   "execution_count": 126,
   "metadata": {
    "ExecuteTime": {
     "end_time": "2022-04-18T18:59:40.452306Z",
     "start_time": "2022-04-18T18:59:40.450104Z"
    }
   },
   "outputs": [
    {
     "name": "stdout",
     "output_type": "stream",
     "text": [
      "CV Results for `sr_pipe` model:\n",
      "            0.83854 ± 0.00779 accuracy\n",
      "        \n"
     ]
    }
   ],
   "source": [
    "sr1_pipe.print_cv_summary()"
   ]
  },
  {
   "cell_type": "code",
   "execution_count": 127,
   "metadata": {
    "ExecuteTime": {
     "end_time": "2022-04-18T19:01:00.852183Z",
     "start_time": "2022-04-18T18:59:40.453734Z"
    },
    "scrolled": true
   },
   "outputs": [
    {
     "name": "stdout",
     "output_type": "stream",
     "text": [
      "\n",
      "Our final model's accuracy on the test set is 0.96. \n",
      "\n",
      "Our final model's recall on the test set is 0.83 \n",
      "\n",
      "Our final model's precision on the test set is 0.98 \n",
      "\n",
      "Our final model's f1-score on the test is 0.89.\n",
      "\n"
     ]
    }
   ],
   "source": [
    "sr1_model_pipe.fit(X_train1, y_train1)\n",
    "y_hat = sr1_model_pipe.predict(X_train1)\n",
    "print(f\"\"\"\n",
    "Our final model's accuracy on the test set is {round(accuracy_score(y_train1, y_hat), 2)}. \\n\n",
    "Our final model's recall on the test set is {round(recall_score(y_train1, y_hat), 2)} \\n\n",
    "Our final model's precision on the test set is {round(precision_score(y_train1, y_hat), 2)} \\n\n",
    "Our final model's f1-score on the test is {round(f1_score(y_train1, y_hat), 2)}.\n",
    "\"\"\")"
   ]
  },
  {
   "cell_type": "markdown",
   "metadata": {},
   "source": [
    "^ Too good to be true?"
   ]
  },
  {
   "cell_type": "markdown",
   "metadata": {},
   "source": [
    "##### Stack 2"
   ]
  },
  {
   "cell_type": "code",
   "execution_count": 152,
   "metadata": {
    "ExecuteTime": {
     "end_time": "2022-04-18T19:35:25.103154Z",
     "start_time": "2022-04-18T19:35:25.095526Z"
    }
   },
   "outputs": [],
   "source": [
    "estimators=[\n",
    "    ('logreg', LogisticRegression(random_state=42, max_iter=50, C=.1, solver='liblinear')),\n",
    "    ('knn', KNeighborsClassifier(metric= 'euclidean', n_neighbors= 15)),\n",
    "    ('rfc', RandomForestClassifier(max_features= 'sqrt', n_estimators= 1000)),\n",
    "    ('etc', etc)\n",
    "]"
   ]
  },
  {
   "cell_type": "code",
   "execution_count": 153,
   "metadata": {
    "ExecuteTime": {
     "end_time": "2022-04-18T19:35:26.013052Z",
     "start_time": "2022-04-18T19:35:26.008471Z"
    }
   },
   "outputs": [],
   "source": [
    "sr2 = StackingClassifier(estimators)\n",
    "sr2_model_pipe = Pipeline([('ct', ct), ('sr2', sr2)])"
   ]
  },
  {
   "cell_type": "code",
   "execution_count": 154,
   "metadata": {
    "ExecuteTime": {
     "end_time": "2022-04-18T19:46:44.620148Z",
     "start_time": "2022-04-18T19:35:26.641510Z"
    }
   },
   "outputs": [],
   "source": [
    "sr2_pipe = ModelWithCV(model=sr2_model_pipe,\n",
    "                         model_name='sr2_pipe',\n",
    "                         X=X_train1,\n",
    "                         y=y_train1)"
   ]
  },
  {
   "cell_type": "code",
   "execution_count": 155,
   "metadata": {
    "ExecuteTime": {
     "end_time": "2022-04-18T19:46:44.698418Z",
     "start_time": "2022-04-18T19:46:44.622298Z"
    }
   },
   "outputs": [
    {
     "data": {
      "image/png": "[encoded data removed]",
      "text/plain": [
       "<Figure size 432x288 with 1 Axes>"
      ]
     },
     "metadata": {
      "needs_background": "light"
     },
     "output_type": "display_data"
    }
   ],
   "source": [
    "fig, ax = plt.subplots()\n",
    "\n",
    "sr2_pipe.plot_cv(ax=ax);"
   ]
  },
  {
   "cell_type": "code",
   "execution_count": 156,
   "metadata": {
    "ExecuteTime": {
     "end_time": "2022-04-18T19:46:44.702558Z",
     "start_time": "2022-04-18T19:46:44.700283Z"
    }
   },
   "outputs": [
    {
     "name": "stdout",
     "output_type": "stream",
     "text": [
      "CV Results for `sr2_pipe` model:\n",
      "            0.83921 ± 0.00734 accuracy\n",
      "        \n"
     ]
    }
   ],
   "source": [
    "sr2_pipe.print_cv_summary()"
   ]
  },
  {
   "cell_type": "code",
   "execution_count": 157,
   "metadata": {
    "ExecuteTime": {
     "end_time": "2022-04-18T19:48:07.896750Z",
     "start_time": "2022-04-18T19:46:44.704014Z"
    }
   },
   "outputs": [
    {
     "name": "stdout",
     "output_type": "stream",
     "text": [
      "\n",
      "Our final model's accuracy on the test set is 0.96. \n",
      "\n",
      "Our final model's recall on the test set is 0.81 \n",
      "\n",
      "Our final model's precision on the test set is 0.97 \n",
      "\n",
      "Our final model's f1-score on the test is 0.89.\n",
      "\n"
     ]
    }
   ],
   "source": [
    "sr2_model_pipe.fit(X_train1, y_train1)\n",
    "y_hat = sr2_model_pipe.predict(X_train1)\n",
    "print(f\"\"\"\n",
    "Our final model's accuracy on the test set is {round(accuracy_score(y_train1, y_hat), 2)}. \\n\n",
    "Our final model's recall on the test set is {round(recall_score(y_train1, y_hat), 2)} \\n\n",
    "Our final model's precision on the test set is {round(precision_score(y_train1, y_hat), 2)} \\n\n",
    "Our final model's f1-score on the test is {round(f1_score(y_train1, y_hat), 2)}.\n",
    "\"\"\")"
   ]
  },
  {
   "cell_type": "markdown",
   "metadata": {},
   "source": [
    "### Tune again?"
   ]
  },
  {
   "cell_type": "markdown",
   "metadata": {},
   "source": [
    "### Evaluation on Test Set"
   ]
  },
  {
   "cell_type": "code",
   "execution_count": 128,
   "metadata": {
    "ExecuteTime": {
     "end_time": "2022-04-18T19:01:00.856751Z",
     "start_time": "2022-04-18T19:01:00.854154Z"
    }
   },
   "outputs": [],
   "source": [
    "final_model1 = sr1_model_pipe"
   ]
  },
  {
   "cell_type": "code",
   "execution_count": 129,
   "metadata": {
    "ExecuteTime": {
     "end_time": "2022-04-18T19:01:05.276470Z",
     "start_time": "2022-04-18T19:01:00.857917Z"
    }
   },
   "outputs": [
    {
     "data": {
      "image/png": "[encoded data removed]",
      "text/plain": [
       "<Figure size 432x288 with 2 Axes>"
      ]
     },
     "metadata": {
      "needs_background": "light"
     },
     "output_type": "display_data"
    }
   ],
   "source": [
    "plot_confusion_matrix(final_model1, X_test1, y_test1);"
   ]
  },
  {
   "cell_type": "code",
   "execution_count": 130,
   "metadata": {
    "ExecuteTime": {
     "end_time": "2022-04-18T19:01:10.126585Z",
     "start_time": "2022-04-18T19:01:05.277766Z"
    }
   },
   "outputs": [],
   "source": [
    "y_hat = final_model1.predict(X_test1)"
   ]
  },
  {
   "cell_type": "code",
   "execution_count": 131,
   "metadata": {
    "ExecuteTime": {
     "end_time": "2022-04-18T19:01:10.135690Z",
     "start_time": "2022-04-18T19:01:10.127626Z"
    },
    "scrolled": true
   },
   "outputs": [
    {
     "name": "stdout",
     "output_type": "stream",
     "text": [
      "\n",
      "Our final model's accuracy on the test set is 0.84. \n",
      "\n",
      "Our final model's recall on the test set is 0.43 \n",
      "\n",
      "Our final model's precision on the test set is 0.69 \n",
      "\n",
      "Our final model's f1-score on the test is 0.53.\n",
      "\n"
     ]
    }
   ],
   "source": [
    "print(f\"\"\"\n",
    "Our final model's accuracy on the test set is {round(accuracy_score(y_test1, y_hat), 2)}. \\n\n",
    "Our final model's recall on the test set is {round(recall_score(y_test1, y_hat), 2)} \\n\n",
    "Our final model's precision on the test set is {round(precision_score(y_test1, y_hat), 2)} \\n\n",
    "Our final model's f1-score on the test is {round(f1_score(y_test1, y_hat), 2)}.\n",
    "\"\"\")"
   ]
  },
  {
   "cell_type": "code",
   "execution_count": 184,
   "metadata": {
    "ExecuteTime": {
     "end_time": "2022-04-18T20:08:44.926779Z",
     "start_time": "2022-04-18T20:08:40.242350Z"
    }
   },
   "outputs": [
    {
     "name": "stdout",
     "output_type": "stream",
     "text": [
      "Best Threshold=0.169521, G-Mean=0.759\n"
     ]
    }
   ],
   "source": [
    "y_hat = final_model1.predict_proba(X_test1)[:, 1]\n",
    "# calculate roc curves\n",
    "fpr, tpr, thresholds = roc_curve(y_test1, y_hat)\n",
    "# calculate the g-mean for each threshold\n",
    "gmeans = sqrt(tpr * (1-fpr))\n",
    "# locate the index of the largest g-mean\n",
    "ix = argmax(gmeans)\n",
    "print('Best Threshold=%f, G-Mean=%.3f' % (thresholds[ix], gmeans[ix]))"
   ]
  },
  {
   "cell_type": "code",
   "execution_count": 185,
   "metadata": {
    "ExecuteTime": {
     "end_time": "2022-04-18T20:08:49.313108Z",
     "start_time": "2022-04-18T20:08:44.928377Z"
    }
   },
   "outputs": [],
   "source": [
    "y_hat = (final_model1.predict_proba(X_test1)[:,1] >= thresholds[ix]).astype(bool)"
   ]
  },
  {
   "cell_type": "code",
   "execution_count": 186,
   "metadata": {
    "ExecuteTime": {
     "end_time": "2022-04-18T20:08:49.327676Z",
     "start_time": "2022-04-18T20:08:49.315323Z"
    }
   },
   "outputs": [
    {
     "name": "stdout",
     "output_type": "stream",
     "text": [
      "\n",
      "Our final model's accuracy on the test set is 0.78. \n",
      "\n",
      "Our final model's recall on the test set is 0.73 \n",
      "\n",
      "Our final model's precision on the test set is 0.48 \n",
      "\n",
      "Our final model's f1-score on the test is 0.58.\n",
      "\n"
     ]
    }
   ],
   "source": [
    "print(f\"\"\"\n",
    "Our final model's accuracy on the test set is {round(accuracy_score(y_test1, y_hat), 2)}. \\n\n",
    "Our final model's recall on the test set is {round(recall_score(y_test1, y_hat), 2)} \\n\n",
    "Our final model's precision on the test set is {round(precision_score(y_test1, y_hat), 2)} \\n\n",
    "Our final model's f1-score on the test is {round(f1_score(y_test1, y_hat), 2)}.\n",
    "\"\"\")"
   ]
  },
  {
   "cell_type": "markdown",
   "metadata": {},
   "source": [
    "Final part 2"
   ]
  },
  {
   "cell_type": "code",
   "execution_count": 158,
   "metadata": {
    "ExecuteTime": {
     "end_time": "2022-04-18T19:48:40.644367Z",
     "start_time": "2022-04-18T19:48:40.625743Z"
    }
   },
   "outputs": [],
   "source": [
    "final_model2 = sr2_model_pipe"
   ]
  },
  {
   "cell_type": "code",
   "execution_count": 193,
   "metadata": {
    "ExecuteTime": {
     "end_time": "2022-04-18T20:17:10.670360Z",
     "start_time": "2022-04-18T20:17:05.962741Z"
    }
   },
   "outputs": [
    {
     "data": {
      "image/png": "[encoded data removed]",
      "text/plain": [
       "<Figure size 432x288 with 2 Axes>"
      ]
     },
     "metadata": {
      "needs_background": "light"
     },
     "output_type": "display_data"
    }
   ],
   "source": [
    "plot_confusion_matrix(final_model2, X_test1, y_test1);"
   ]
  },
  {
   "cell_type": "code",
   "execution_count": 182,
   "metadata": {
    "ExecuteTime": {
     "end_time": "2022-04-18T20:06:32.876624Z",
     "start_time": "2022-04-18T20:06:28.128274Z"
    }
   },
   "outputs": [],
   "source": [
    "y_hat = final_model2.predict(X_test1)"
   ]
  },
  {
   "cell_type": "code",
   "execution_count": 183,
   "metadata": {
    "ExecuteTime": {
     "end_time": "2022-04-18T20:06:36.129650Z",
     "start_time": "2022-04-18T20:06:36.112012Z"
    }
   },
   "outputs": [
    {
     "name": "stdout",
     "output_type": "stream",
     "text": [
      "\n",
      "Our final model's accuracy on the test set is 0.84. \n",
      "\n",
      "Our final model's recall on the test set is 0.44 \n",
      "\n",
      "Our final model's precision on the test set is 0.69 \n",
      "\n",
      "Our final model's f1-score on the test is 0.54.\n",
      "\n"
     ]
    }
   ],
   "source": [
    "print(f\"\"\"\n",
    "Our final model's accuracy on the test set is {round(accuracy_score(y_test1, y_hat), 2)}. \\n\n",
    "Our final model's recall on the test set is {round(recall_score(y_test1, y_hat), 2)} \\n\n",
    "Our final model's precision on the test set is {round(precision_score(y_test1, y_hat), 2)} \\n\n",
    "Our final model's f1-score on the test is {round(f1_score(y_test1, y_hat), 2)}.\n",
    "\"\"\")"
   ]
  },
  {
   "cell_type": "code",
   "execution_count": 170,
   "metadata": {
    "ExecuteTime": {
     "end_time": "2022-04-18T19:56:35.312570Z",
     "start_time": "2022-04-18T19:56:30.795228Z"
    }
   },
   "outputs": [
    {
     "data": {
      "text/plain": [
       "array([0.11851444, 0.09301922, 0.07397352, ..., 0.05694896, 0.17189974,\n",
       "       0.06768461])"
      ]
     },
     "execution_count": 170,
     "metadata": {},
     "output_type": "execute_result"
    }
   ],
   "source": [
    "y_hat = (final_model2.predict_proba(X_test1)[:,1] >= 0.3).astype(bool)"
   ]
  },
  {
   "cell_type": "code",
   "execution_count": 168,
   "metadata": {
    "ExecuteTime": {
     "end_time": "2022-04-18T19:55:37.915396Z",
     "start_time": "2022-04-18T19:55:37.885657Z"
    }
   },
   "outputs": [
    {
     "name": "stdout",
     "output_type": "stream",
     "text": [
      "\n",
      "Our final model's accuracy on the test set is 0.83. \n",
      "\n",
      "Our final model's recall on the test set is 0.59 \n",
      "\n",
      "Our final model's precision on the test set is 0.59 \n",
      "\n",
      "Our final model's f1-score on the test is 0.59.\n",
      "\n"
     ]
    }
   ],
   "source": [
    "print(f\"\"\"\n",
    "Our final model's accuracy on the test set is {round(accuracy_score(y_test1, y_hat), 2)}. \\n\n",
    "Our final model's recall on the test set is {round(recall_score(y_test1, y_hat), 2)} \\n\n",
    "Our final model's precision on the test set is {round(precision_score(y_test1, y_hat), 2)} \\n\n",
    "Our final model's f1-score on the test is {round(f1_score(y_test1, y_hat), 2)}.\n",
    "\"\"\")"
   ]
  },
  {
   "cell_type": "code",
   "execution_count": 177,
   "metadata": {
    "ExecuteTime": {
     "end_time": "2022-04-18T20:02:41.359292Z",
     "start_time": "2022-04-18T20:02:41.353367Z"
    }
   },
   "outputs": [],
   "source": [
    "#https://machinelearningmastery.com/threshold-moving-for-imbalanced-classification/\n",
    "from sklearn.metrics import roc_curve\n",
    "from numpy import sqrt, argmax"
   ]
  },
  {
   "cell_type": "code",
   "execution_count": 178,
   "metadata": {
    "ExecuteTime": {
     "end_time": "2022-04-18T20:02:46.409226Z",
     "start_time": "2022-04-18T20:02:41.859306Z"
    }
   },
   "outputs": [
    {
     "name": "stdout",
     "output_type": "stream",
     "text": [
      "Best Threshold=0.163313, G-Mean=0.758\n"
     ]
    }
   ],
   "source": [
    "y_hat = final_model2.predict_proba(X_test1)[:, 1]\n",
    "# calculate roc curves\n",
    "fpr, tpr, thresholds = roc_curve(y_test1, y_hat)\n",
    "# calculate the g-mean for each threshold\n",
    "gmeans = sqrt(tpr * (1-fpr))\n",
    "# locate the index of the largest g-mean\n",
    "ix = argmax(gmeans)\n",
    "print('Best Threshold=%f, G-Mean=%.3f' % (thresholds[ix], gmeans[ix]))"
   ]
  },
  {
   "cell_type": "code",
   "execution_count": 180,
   "metadata": {
    "ExecuteTime": {
     "end_time": "2022-04-18T20:03:59.796734Z",
     "start_time": "2022-04-18T20:03:55.237738Z"
    }
   },
   "outputs": [
    {
     "data": {
      "text/plain": [
       "array([False, False, False, ..., False,  True, False])"
      ]
     },
     "execution_count": 180,
     "metadata": {},
     "output_type": "execute_result"
    }
   ],
   "source": [
    "y_hat = (final_model2.predict_proba(X_test1)[:,1] >= thresholds[ix]).astype(bool)"
   ]
  },
  {
   "cell_type": "code",
   "execution_count": 181,
   "metadata": {
    "ExecuteTime": {
     "end_time": "2022-04-18T20:04:08.558782Z",
     "start_time": "2022-04-18T20:04:08.535120Z"
    }
   },
   "outputs": [
    {
     "name": "stdout",
     "output_type": "stream",
     "text": [
      "\n",
      "Our final model's accuracy on the test set is 0.77. \n",
      "\n",
      "Our final model's recall on the test set is 0.74 \n",
      "\n",
      "Our final model's precision on the test set is 0.47 \n",
      "\n",
      "Our final model's f1-score on the test is 0.58.\n",
      "\n"
     ]
    }
   ],
   "source": [
    "print(f\"\"\"\n",
    "Our final model's accuracy on the test set is {round(accuracy_score(y_test1, y_hat), 2)}. \\n\n",
    "Our final model's recall on the test set is {round(recall_score(y_test1, y_hat), 2)} \\n\n",
    "Our final model's precision on the test set is {round(precision_score(y_test1, y_hat), 2)} \\n\n",
    "Our final model's f1-score on the test is {round(f1_score(y_test1, y_hat), 2)}.\n",
    "\"\"\")"
   ]
  }
 ],
 "metadata": {
  "kernelspec": {
   "display_name": "Python (learn-env)",
   "language": "python",
   "name": "learn-env"
  },
  "language_info": {
   "codemirror_mode": {
    "name": "ipython",
    "version": 3
   },
   "file_extension": ".py",
   "mimetype": "text/x-python",
   "name": "python",
   "nbconvert_exporter": "python",
   "pygments_lexer": "ipython3",
   "version": "3.8.5"
  },
  "toc": {
   "base_numbering": 1,
   "nav_menu": {},
   "number_sections": true,
   "sideBar": true,
   "skip_h1_title": false,
   "title_cell": "Table of Contents",
   "title_sidebar": "Contents",
   "toc_cell": false,
   "toc_position": {},
   "toc_section_display": true,
   "toc_window_display": true
  }
 },
 "nbformat": 4,
 "nbformat_minor": 4
}
