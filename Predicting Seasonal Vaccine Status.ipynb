{
 "cells": [
  {
   "cell_type": "markdown",
   "metadata": {
    "ExecuteTime": {
     "end_time": "2022-04-21T13:09:47.889196Z",
     "start_time": "2022-04-21T13:09:47.726471Z"
    }
   },
   "source": [
    "![img](./images/Mayo_Clinic.Header.webp)"
   ]
  },
  {
   "cell_type": "markdown",
   "metadata": {},
   "source": [
    "### Imports"
   ]
  },
  {
   "cell_type": "code",
   "execution_count": 1,
   "metadata": {
    "ExecuteTime": {
     "end_time": "2022-04-22T17:24:19.245078Z",
     "start_time": "2022-04-22T17:24:18.124965Z"
    },
    "scrolled": true
   },
   "outputs": [],
   "source": [
    "import pandas as pd\n",
    "import numpy as np\n",
    "from matplotlib import pyplot as plt\n",
    "import seaborn as sns\n",
    "\n",
    "from sklearn.model_selection import train_test_split, cross_val_score\n",
    "from sklearn.dummy import DummyClassifier \n",
    "from sklearn.pipeline import Pipeline\n",
    "from sklearn.preprocessing import StandardScaler, OneHotEncoder\n",
    "from sklearn.impute import SimpleImputer\n",
    "from sklearn.compose import ColumnTransformer\n",
    "from sklearn.ensemble import RandomForestClassifier,ExtraTreesClassifier,\\\n",
    "                                VotingClassifier\n",
    "from sklearn.metrics import plot_confusion_matrix, plot_roc_curve, confusion_matrix,\\\n",
    "                    roc_curve, roc_auc_score, accuracy_score, recall_score, precision_score, f1_score\n",
    "\n",
    "import pickle\n",
    "\n",
    "from imblearn.pipeline import Pipeline as ImPipeline\n",
    "\n",
    "from numpy import sqrt, argmax\n",
    "\n",
    "import model2\n",
    "from model2 import *"
   ]
  },
  {
   "cell_type": "markdown",
   "metadata": {},
   "source": [
    "Pickle has been imported because models were ran in another notebook to save computing time in this notebook. \n",
    "\n",
    "The 'import model2' line is for a class ModelWithCV that has built in functions to run a cross validation and print accuracy, recall, precision, and f1 scores. \n",
    "\n",
    "All models were entered into the class in the source notebook."
   ]
  },
  {
   "cell_type": "code",
   "execution_count": 2,
   "metadata": {
    "ExecuteTime": {
     "end_time": "2022-04-22T17:24:19.249197Z",
     "start_time": "2022-04-22T17:24:19.246196Z"
    }
   },
   "outputs": [],
   "source": [
    "import warnings\n",
    "warnings.simplefilter(action='ignore', category=FutureWarning)\n",
    "\n",
    "# from warnings import simplefilter\n",
    "# from sklearn.exceptions import ConvergenceWarning\n",
    "# simplefilter(\"ignore\", category=ConvergenceWarning)"
   ]
  },
  {
   "cell_type": "markdown",
   "metadata": {},
   "source": [
    "We are ignoring Future Warnings. The version of python used in these notebooks is Python 3.8.5, the version of Sklearn is 1.0.2. Running this notebook with newer versions of either will lead to problems in regards to some methods and functions used."
   ]
  },
  {
   "cell_type": "markdown",
   "metadata": {},
   "source": [
    "### Problem Description"
   ]
  },
  {
   "cell_type": "markdown",
   "metadata": {},
   "source": [
    "The Mayo Clinic has tasked us with predicting how likely individuals are to receive the seasonal flu vaccine. \n",
    "We will concentrate on:\n",
    "- Predicting who will get the seasonal vaccine.\n",
    "- The most significant features in determining whether or not an individual will get vaccinated?.\n",
    "- How can we get more people to get vaccinated?"
   ]
  },
  {
   "cell_type": "markdown",
   "metadata": {
    "ExecuteTime": {
     "end_time": "2022-04-19T16:02:53.075735Z",
     "start_time": "2022-04-19T16:02:53.069621Z"
    }
   },
   "source": [
    "### Data"
   ]
  },
  {
   "cell_type": "markdown",
   "metadata": {},
   "source": [
    "The data was provided by DrivenData as a part of their competition. Details about the competition and getting the data can be found https://www.drivendata.org/competitions/66/flu-shot-learning/\n",
    "\n",
    "The data was provided in two separate files, which were combined for cleaning, splitting again later. "
   ]
  },
  {
   "cell_type": "code",
   "execution_count": 3,
   "metadata": {
    "ExecuteTime": {
     "end_time": "2022-04-22T17:24:19.346607Z",
     "start_time": "2022-04-22T17:24:19.250871Z"
    }
   },
   "outputs": [],
   "source": [
    "training_set_features = pd.read_csv('./Data/training_set_features.csv')\n",
    "training_set_labels = pd.read_csv('./Data/training_set_labels.csv')\n",
    "complete_data = pd.merge(training_set_features, training_set_labels, on='respondent_id')"
   ]
  },
  {
   "cell_type": "code",
   "execution_count": 4,
   "metadata": {
    "ExecuteTime": {
     "end_time": "2022-04-22T17:24:19.365562Z",
     "start_time": "2022-04-22T17:24:19.347899Z"
    }
   },
   "outputs": [
    {
     "data": {
      "text/plain": [
       "employment_occupation    13470\n",
       "employment_industry      13330\n",
       "health_insurance         12274\n",
       "income_poverty            4423\n",
       "doctor_recc_h1n1          2160\n",
       "doctor_recc_seasonal      2160\n",
       "rent_or_own               2042\n",
       "employment_status         1463\n",
       "marital_status            1408\n",
       "education                 1407\n",
       "dtype: int64"
      ]
     },
     "execution_count": 4,
     "metadata": {},
     "output_type": "execute_result"
    }
   ],
   "source": [
    "complete_data.isna().sum().sort_values(ascending=False).head(10)"
   ]
  },
  {
   "cell_type": "markdown",
   "metadata": {},
   "source": [
    "There are a considerable number of NA values in the dataset.\n",
    "\n",
    "If the employment_status column has a value of Not in Labor Force, then columns employment_industry and employment_occupation will have NA's. \n",
    "\n",
    "Values in columns employment_industry and employment_occupation are represented as short random character strings. \n",
    "\n",
    "We will be filling NA's in employment_occupation and employment_industry associated with \"Not in Labor Force\" with because they would otherwise be imputed as the most frequent occupation or industry.\n",
    "\n",
    "Filling Unemployed with \"Not in Labor Force\"."
   ]
  },
  {
   "cell_type": "code",
   "execution_count": 5,
   "metadata": {
    "ExecuteTime": {
     "end_time": "2022-04-22T17:24:19.381429Z",
     "start_time": "2022-04-22T17:24:19.366509Z"
    }
   },
   "outputs": [],
   "source": [
    "complete_data['employment_status'].replace(\"Unemployed\", \"Not in Labor Force\", inplace=True)\n",
    "complete_data.loc[complete_data['employment_status'] == \"Not in Labor Force\", 'employment_industry'] = \"Not in Labor Force\"\n",
    "complete_data.loc[complete_data['employment_status'] == \"Not in Labor Force\", 'employment_occupation'] = \"Not in Labor Force\""
   ]
  },
  {
   "cell_type": "code",
   "execution_count": 6,
   "metadata": {
    "ExecuteTime": {
     "end_time": "2022-04-22T17:24:19.402171Z",
     "start_time": "2022-04-22T17:24:19.382776Z"
    }
   },
   "outputs": [
    {
     "data": {
      "text/plain": [
       "health_insurance         12274\n",
       "income_poverty            4423\n",
       "doctor_recc_h1n1          2160\n",
       "doctor_recc_seasonal      2160\n",
       "rent_or_own               2042\n",
       "employment_occupation     1786\n",
       "employment_industry       1646\n",
       "employment_status         1463\n",
       "marital_status            1408\n",
       "education                 1407\n",
       "dtype: int64"
      ]
     },
     "execution_count": 6,
     "metadata": {},
     "output_type": "execute_result"
    }
   ],
   "source": [
    "complete_data.isna().sum().sort_values(ascending=False).head(10)"
   ]
  },
  {
   "cell_type": "code",
   "execution_count": 7,
   "metadata": {
    "ExecuteTime": {
     "end_time": "2022-04-22T17:24:19.406528Z",
     "start_time": "2022-04-22T17:24:19.403238Z"
    },
    "scrolled": true
   },
   "outputs": [
    {
     "data": {
      "text/plain": [
       "12274"
      ]
     },
     "execution_count": 7,
     "metadata": {},
     "output_type": "execute_result"
    }
   ],
   "source": [
    "complete_data['health_insurance'].isna().sum()"
   ]
  },
  {
   "cell_type": "code",
   "execution_count": 8,
   "metadata": {
    "ExecuteTime": {
     "end_time": "2022-04-22T17:24:19.420919Z",
     "start_time": "2022-04-22T17:24:19.410325Z"
    }
   },
   "outputs": [],
   "source": [
    "complete_data['health_insurance'].fillna('Unknown', inplace=True)\n",
    "complete_data['health_insurance'].replace(0.0,'0', inplace=True)\n",
    "complete_data['health_insurance'].replace(1.0,'1', inplace=True)"
   ]
  },
  {
   "cell_type": "markdown",
   "metadata": {},
   "source": [
    "With the substantial number of NA's in Health Insurance we have decided to create a new category of \"Unknowns\". Replaced float values of 1.0 and 0.0 with string values. "
   ]
  },
  {
   "cell_type": "markdown",
   "metadata": {},
   "source": [
    "#### Target Distribution"
   ]
  },
  {
   "cell_type": "code",
   "execution_count": 9,
   "metadata": {
    "ExecuteTime": {
     "end_time": "2022-04-22T17:24:19.444471Z",
     "start_time": "2022-04-22T17:24:19.422676Z"
    }
   },
   "outputs": [
    {
     "data": {
      "text/plain": [
       "0    0.534392\n",
       "1    0.465608\n",
       "Name: seasonal_vaccine, dtype: float64"
      ]
     },
     "execution_count": 9,
     "metadata": {},
     "output_type": "execute_result"
    }
   ],
   "source": [
    "complete_data['seasonal_vaccine'].value_counts(normalize=True)"
   ]
  },
  {
   "cell_type": "code",
   "execution_count": 10,
   "metadata": {
    "ExecuteTime": {
     "end_time": "2022-04-22T17:24:19.451408Z",
     "start_time": "2022-04-22T17:24:19.447226Z"
    },
    "scrolled": true
   },
   "outputs": [],
   "source": [
    "Vax_dist = complete_data['seasonal_vaccine'].value_counts(normalize=True).mul(100).round(1)"
   ]
  },
  {
   "cell_type": "code",
   "execution_count": 11,
   "metadata": {
    "ExecuteTime": {
     "end_time": "2022-04-22T17:24:19.640434Z",
     "start_time": "2022-04-22T17:24:19.454119Z"
    },
    "scrolled": true
   },
   "outputs": [
    {
     "data": {
      "image/png": "[encoded data removed]",
      "text/plain": [
       "<Figure size 432x288 with 1 Axes>"
      ]
     },
     "metadata": {
      "needs_background": "light"
     },
     "output_type": "display_data"
    }
   ],
   "source": [
    "fig, ax = plt.subplots()\n",
    "bar1 = plt.bar(0, Vax_dist[1], color='lightskyblue', label='Unvaxinated')\n",
    "bar2 = plt.bar(1, Vax_dist[0], color='midnightblue', label='Unvaxinated')\n",
    "ax.set_xticks([0,1])\n",
    "ax.set_xticklabels(['Vaccinated', 'Not Vaccinated'])\n",
    "ax.set_ylabel('Percent')\n",
    "ax.set_title('Vaccination Distribution')\n",
    "plt.savefig('./images/Vaccination_Distribution.jpeg', bbox_inches = 'tight')\n",
    "plt.savefig('./images/Vaccination_Distribution.png', bbox_inches = 'tight')"
   ]
  },
  {
   "cell_type": "markdown",
   "metadata": {},
   "source": [
    "Our target variable is distributed quite evenly. 47:53."
   ]
  },
  {
   "cell_type": "markdown",
   "metadata": {},
   "source": [
    "### Split"
   ]
  },
  {
   "cell_type": "markdown",
   "metadata": {},
   "source": [
    "Here we separated out our target variable 'seasonal_vaccine' and dropped 'respondent_id' and 'h1n1_vaccine'.\n",
    "\n",
    "The 'values.ravel()' method reshapes y_train into a 1-D array."
   ]
  },
  {
   "cell_type": "code",
   "execution_count": 12,
   "metadata": {
    "ExecuteTime": {
     "end_time": "2022-04-22T17:24:19.658262Z",
     "start_time": "2022-04-22T17:24:19.642874Z"
    }
   },
   "outputs": [],
   "source": [
    "X = complete_data.drop(['h1n1_vaccine', 'seasonal_vaccine', 'respondent_id'], axis=1)\n",
    "y = complete_data.filter(['seasonal_vaccine'])\n",
    "X_train, X_test, y_train, y_test = train_test_split(X, y, test_size=0.33, random_state=42)\n",
    "y_train = y_train.values.ravel()"
   ]
  },
  {
   "cell_type": "markdown",
   "metadata": {},
   "source": [
    "### Pipelines for Column Transformer"
   ]
  },
  {
   "cell_type": "markdown",
   "metadata": {},
   "source": [
    "All columns are in a categorical format, however, some are scales and may better be represented as numeric columns.\n",
    "\n",
    "Numeric columns include h1n1_concern, h1n1_knowledge, opinion_h1n1_vacc_effective, opinion_h1n1_risk, opinion_h1n1_sick_from_vacc, opinion_seas_vacc_effective, opinion_seas_risk, and opinion_seas_sick_from_vacc."
   ]
  },
  {
   "cell_type": "code",
   "execution_count": 13,
   "metadata": {
    "ExecuteTime": {
     "end_time": "2022-04-22T17:24:19.662513Z",
     "start_time": "2022-04-22T17:24:19.660232Z"
    }
   },
   "outputs": [],
   "source": [
    "num_cols = ['h1n1_concern', 'h1n1_knowledge', 'opinion_h1n1_vacc_effective',\\\n",
    "            'opinion_h1n1_risk', 'opinion_h1n1_sick_from_vacc',\\\n",
    "            'opinion_seas_vacc_effective', 'opinion_seas_risk', 'opinion_seas_sick_from_vacc']\n",
    "cat_cols = X.columns.drop(num_cols)"
   ]
  },
  {
   "cell_type": "code",
   "execution_count": 14,
   "metadata": {
    "ExecuteTime": {
     "end_time": "2022-04-22T17:24:19.693370Z",
     "start_time": "2022-04-22T17:24:19.663449Z"
    },
    "scrolled": true
   },
   "outputs": [
    {
     "data": {
      "text/html": [
       "<div>\n",
       "<style scoped>\n",
       "    .dataframe tbody tr th:only-of-type {\n",
       "        vertical-align: middle;\n",
       "    }\n",
       "\n",
       "    .dataframe tbody tr th {\n",
       "        vertical-align: top;\n",
       "    }\n",
       "\n",
       "    .dataframe thead th {\n",
       "        text-align: right;\n",
       "    }\n",
       "</style>\n",
       "<table border=\"1\" class=\"dataframe\">\n",
       "  <thead>\n",
       "    <tr style=\"text-align: right;\">\n",
       "      <th></th>\n",
       "      <th>h1n1_concern</th>\n",
       "      <th>h1n1_knowledge</th>\n",
       "      <th>opinion_h1n1_vacc_effective</th>\n",
       "      <th>opinion_h1n1_risk</th>\n",
       "      <th>opinion_h1n1_sick_from_vacc</th>\n",
       "      <th>opinion_seas_vacc_effective</th>\n",
       "      <th>opinion_seas_risk</th>\n",
       "      <th>opinion_seas_sick_from_vacc</th>\n",
       "    </tr>\n",
       "  </thead>\n",
       "  <tbody>\n",
       "    <tr>\n",
       "      <th>count</th>\n",
       "      <td>26615.000000</td>\n",
       "      <td>26591.000000</td>\n",
       "      <td>26316.000000</td>\n",
       "      <td>26319.000000</td>\n",
       "      <td>26312.000000</td>\n",
       "      <td>26245.000000</td>\n",
       "      <td>26193.000000</td>\n",
       "      <td>26170.000000</td>\n",
       "    </tr>\n",
       "    <tr>\n",
       "      <th>mean</th>\n",
       "      <td>1.618486</td>\n",
       "      <td>1.262532</td>\n",
       "      <td>3.850623</td>\n",
       "      <td>2.342566</td>\n",
       "      <td>2.357670</td>\n",
       "      <td>4.025986</td>\n",
       "      <td>2.719162</td>\n",
       "      <td>2.118112</td>\n",
       "    </tr>\n",
       "    <tr>\n",
       "      <th>std</th>\n",
       "      <td>0.910311</td>\n",
       "      <td>0.618149</td>\n",
       "      <td>1.007436</td>\n",
       "      <td>1.285539</td>\n",
       "      <td>1.362766</td>\n",
       "      <td>1.086565</td>\n",
       "      <td>1.385055</td>\n",
       "      <td>1.332950</td>\n",
       "    </tr>\n",
       "    <tr>\n",
       "      <th>min</th>\n",
       "      <td>0.000000</td>\n",
       "      <td>0.000000</td>\n",
       "      <td>1.000000</td>\n",
       "      <td>1.000000</td>\n",
       "      <td>1.000000</td>\n",
       "      <td>1.000000</td>\n",
       "      <td>1.000000</td>\n",
       "      <td>1.000000</td>\n",
       "    </tr>\n",
       "    <tr>\n",
       "      <th>25%</th>\n",
       "      <td>1.000000</td>\n",
       "      <td>1.000000</td>\n",
       "      <td>3.000000</td>\n",
       "      <td>1.000000</td>\n",
       "      <td>1.000000</td>\n",
       "      <td>4.000000</td>\n",
       "      <td>2.000000</td>\n",
       "      <td>1.000000</td>\n",
       "    </tr>\n",
       "    <tr>\n",
       "      <th>50%</th>\n",
       "      <td>2.000000</td>\n",
       "      <td>1.000000</td>\n",
       "      <td>4.000000</td>\n",
       "      <td>2.000000</td>\n",
       "      <td>2.000000</td>\n",
       "      <td>4.000000</td>\n",
       "      <td>2.000000</td>\n",
       "      <td>2.000000</td>\n",
       "    </tr>\n",
       "    <tr>\n",
       "      <th>75%</th>\n",
       "      <td>2.000000</td>\n",
       "      <td>2.000000</td>\n",
       "      <td>5.000000</td>\n",
       "      <td>4.000000</td>\n",
       "      <td>4.000000</td>\n",
       "      <td>5.000000</td>\n",
       "      <td>4.000000</td>\n",
       "      <td>4.000000</td>\n",
       "    </tr>\n",
       "    <tr>\n",
       "      <th>max</th>\n",
       "      <td>3.000000</td>\n",
       "      <td>2.000000</td>\n",
       "      <td>5.000000</td>\n",
       "      <td>5.000000</td>\n",
       "      <td>5.000000</td>\n",
       "      <td>5.000000</td>\n",
       "      <td>5.000000</td>\n",
       "      <td>5.000000</td>\n",
       "    </tr>\n",
       "  </tbody>\n",
       "</table>\n",
       "</div>"
      ],
      "text/plain": [
       "       h1n1_concern  h1n1_knowledge  opinion_h1n1_vacc_effective  \\\n",
       "count  26615.000000    26591.000000                 26316.000000   \n",
       "mean       1.618486        1.262532                     3.850623   \n",
       "std        0.910311        0.618149                     1.007436   \n",
       "min        0.000000        0.000000                     1.000000   \n",
       "25%        1.000000        1.000000                     3.000000   \n",
       "50%        2.000000        1.000000                     4.000000   \n",
       "75%        2.000000        2.000000                     5.000000   \n",
       "max        3.000000        2.000000                     5.000000   \n",
       "\n",
       "       opinion_h1n1_risk  opinion_h1n1_sick_from_vacc  \\\n",
       "count       26319.000000                 26312.000000   \n",
       "mean            2.342566                     2.357670   \n",
       "std             1.285539                     1.362766   \n",
       "min             1.000000                     1.000000   \n",
       "25%             1.000000                     1.000000   \n",
       "50%             2.000000                     2.000000   \n",
       "75%             4.000000                     4.000000   \n",
       "max             5.000000                     5.000000   \n",
       "\n",
       "       opinion_seas_vacc_effective  opinion_seas_risk  \\\n",
       "count                 26245.000000       26193.000000   \n",
       "mean                      4.025986           2.719162   \n",
       "std                       1.086565           1.385055   \n",
       "min                       1.000000           1.000000   \n",
       "25%                       4.000000           2.000000   \n",
       "50%                       4.000000           2.000000   \n",
       "75%                       5.000000           4.000000   \n",
       "max                       5.000000           5.000000   \n",
       "\n",
       "       opinion_seas_sick_from_vacc  \n",
       "count                 26170.000000  \n",
       "mean                      2.118112  \n",
       "std                       1.332950  \n",
       "min                       1.000000  \n",
       "25%                       1.000000  \n",
       "50%                       2.000000  \n",
       "75%                       4.000000  \n",
       "max                       5.000000  "
      ]
     },
     "execution_count": 14,
     "metadata": {},
     "output_type": "execute_result"
    }
   ],
   "source": [
    "X[num_cols].describe()"
   ]
  },
  {
   "cell_type": "code",
   "execution_count": 15,
   "metadata": {
    "ExecuteTime": {
     "end_time": "2022-04-22T17:24:19.703554Z",
     "start_time": "2022-04-22T17:24:19.695017Z"
    }
   },
   "outputs": [
    {
     "data": {
      "text/plain": [
       "h1n1_concern                   2.0\n",
       "h1n1_knowledge                 1.0\n",
       "opinion_h1n1_vacc_effective    4.0\n",
       "opinion_h1n1_risk              2.0\n",
       "opinion_h1n1_sick_from_vacc    2.0\n",
       "opinion_seas_vacc_effective    4.0\n",
       "opinion_seas_risk              2.0\n",
       "opinion_seas_sick_from_vacc    2.0\n",
       "dtype: float64"
      ]
     },
     "execution_count": 15,
     "metadata": {},
     "output_type": "execute_result"
    }
   ],
   "source": [
    "X[num_cols].median()"
   ]
  },
  {
   "cell_type": "markdown",
   "metadata": {},
   "source": [
    "Because there are some missing values in the numeric columns, it is important determine the best measure of central tendency to replace these values. Because the values are scaler in nature we have decided to use the 'median' of each column to fill in these values.  \n",
    "\n",
    "For categorical variables, the most frequent value for each column will be used to fill in the missing values."
   ]
  },
  {
   "cell_type": "code",
   "execution_count": 16,
   "metadata": {
    "ExecuteTime": {
     "end_time": "2022-04-22T17:24:19.709376Z",
     "start_time": "2022-04-22T17:24:19.704893Z"
    }
   },
   "outputs": [],
   "source": [
    "subpipe_cat = Pipeline(steps=[('cat_impute', SimpleImputer(strategy='most_frequent')),\n",
    "                              ('ohe', OneHotEncoder(drop='first', sparse=False, handle_unknown='ignore')) ])\n",
    "\n",
    "subpipe_num = Pipeline(steps=[('num_impute', SimpleImputer(strategy='median')),\n",
    "                              ('ss', StandardScaler()) ])"
   ]
  },
  {
   "cell_type": "code",
   "execution_count": 17,
   "metadata": {
    "ExecuteTime": {
     "end_time": "2022-04-22T17:24:19.712663Z",
     "start_time": "2022-04-22T17:24:19.710778Z"
    }
   },
   "outputs": [],
   "source": [
    "ct = ColumnTransformer(transformers = [\n",
    "    ('subpipe_cat', subpipe_cat, cat_cols),\n",
    "    ('subpipe_num', subpipe_num, num_cols)\n",
    "])"
   ]
  },
  {
   "cell_type": "markdown",
   "metadata": {},
   "source": [
    "### Models"
   ]
  },
  {
   "cell_type": "markdown",
   "metadata": {
    "ExecuteTime": {
     "end_time": "2022-04-20T13:55:25.299557Z",
     "start_time": "2022-04-20T13:55:25.278401Z"
    }
   },
   "source": [
    "Now that our Column Transformer pipeline has been created we can start running models. \n",
    "- First Models were executed with their default parameters. \n",
    "- Then they were run through a GridSearchCV to find the best parameter combos. To save time, no more than a few parameters were chosen to be tuned for each model. Because of our business problem, only models with the feature_importances_ attribute were picked.\n",
    "- After tuning these models they were entered into ensembles as VotingClassifiers. In the end a VotingClassifier with just two estimators, Random Forest and Extra Trees, performed just as well as a VotingClassifier with five estimators. Due to the difference in computation time the simpler model was selected as the final model. \n",
    "\n",
    "Below you will see the process and results for the estimators and the final model selected. You can find the process and results for all other models in the source notebook."
   ]
  },
  {
   "cell_type": "markdown",
   "metadata": {},
   "source": [
    "#### Dummy Classifier"
   ]
  },
  {
   "cell_type": "markdown",
   "metadata": {},
   "source": [
    "All models were executed in the following format. "
   ]
  },
  {
   "cell_type": "code",
   "execution_count": 18,
   "metadata": {
    "ExecuteTime": {
     "end_time": "2022-04-22T17:24:19.715736Z",
     "start_time": "2022-04-22T17:24:19.713732Z"
    }
   },
   "outputs": [],
   "source": [
    "dummy_model_pipe = Pipeline(steps=[\n",
    "    ('ct', ct),\n",
    "    ('dummy', DummyClassifier(random_state=42))\n",
    "])"
   ]
  },
  {
   "cell_type": "code",
   "execution_count": 19,
   "metadata": {
    "ExecuteTime": {
     "end_time": "2022-04-22T17:24:19.961313Z",
     "start_time": "2022-04-22T17:24:19.717352Z"
    }
   },
   "outputs": [],
   "source": [
    "dummy_model_pipe.fit(X_train, y_train);"
   ]
  },
  {
   "cell_type": "code",
   "execution_count": 20,
   "metadata": {
    "ExecuteTime": {
     "end_time": "2022-04-22T17:24:28.532769Z",
     "start_time": "2022-04-22T17:24:19.962226Z"
    }
   },
   "outputs": [],
   "source": [
    "dummy_pipe = ModelWithCV(dummy_model_pipe, model_name='dummy_pipe', X=X_train, y=y_train) "
   ]
  },
  {
   "cell_type": "code",
   "execution_count": 21,
   "metadata": {
    "ExecuteTime": {
     "end_time": "2022-04-22T17:24:28.535482Z",
     "start_time": "2022-04-22T17:24:28.533663Z"
    }
   },
   "outputs": [
    {
     "name": "stdout",
     "output_type": "stream",
     "text": [
      "CV Results for `dummy_pipe` model:\n",
      "            0.53105 ± 0.00015 accuracy\n",
      "            recall_score: 0.0\n",
      "            precision_score: 0.46895434857961904\n",
      "            f1_score: 0.0    \n",
      "        \n"
     ]
    }
   ],
   "source": [
    "dummy_pipe.print_cv_summary() "
   ]
  },
  {
   "cell_type": "markdown",
   "metadata": {},
   "source": [
    "The 'print_cv_summary' function comes from the ModelWithCV class where the model runs a 10 fold cross validation to return accuracy, recall, precision, and f1 scores.\n",
    "\n",
    "Our dummy classifier predicts the most common value for the target value. It's accuracy is at about 53%, which is to be expected given the target distribution."
   ]
  },
  {
   "cell_type": "markdown",
   "metadata": {},
   "source": [
    "#### Random Forest"
   ]
  },
  {
   "cell_type": "markdown",
   "metadata": {},
   "source": [
    "The first Estimator to be run was SkLearn's Random Forest Classifier. "
   ]
  },
  {
   "cell_type": "code",
   "execution_count": 22,
   "metadata": {
    "ExecuteTime": {
     "end_time": "2022-04-22T17:24:28.548965Z",
     "start_time": "2022-04-22T17:24:28.537169Z"
    }
   },
   "outputs": [],
   "source": [
    "import pickle\n",
    "with open('forest.sav', 'rb') as f:\n",
    "    forest = pickle.load(f)"
   ]
  },
  {
   "cell_type": "code",
   "execution_count": 23,
   "metadata": {
    "ExecuteTime": {
     "end_time": "2022-04-22T17:24:28.555333Z",
     "start_time": "2022-04-22T17:24:28.553543Z"
    },
    "scrolled": true
   },
   "outputs": [
    {
     "name": "stdout",
     "output_type": "stream",
     "text": [
      "CV Results for `forest_pipe` model:\n",
      "            0.77153 ± 0.01219 accuracy\n",
      "            recall_score: 0.7391263692604574\n",
      "            precision_score: 0.8263930425720363\n",
      "            f1_score: 0.7521140408449998    \n",
      "        \n"
     ]
    }
   ],
   "source": [
    "forest.print_cv_summary()"
   ]
  },
  {
   "cell_type": "markdown",
   "metadata": {
    "ExecuteTime": {
     "end_time": "2022-04-22T14:10:46.772888Z",
     "start_time": "2022-04-22T14:10:46.760396Z"
    }
   },
   "source": [
    "The Random Forest Classifier performed considerably better than the Dummy Classifier Model."
   ]
  },
  {
   "cell_type": "markdown",
   "metadata": {},
   "source": [
    "##### Random Forest  Tuned"
   ]
  },
  {
   "cell_type": "markdown",
   "metadata": {},
   "source": [
    "Our Grid Search determined the optimal parameters for Random Forest was max_features= 'sqrt' and n_estimators= 1250."
   ]
  },
  {
   "cell_type": "code",
   "execution_count": 24,
   "metadata": {
    "ExecuteTime": {
     "end_time": "2022-04-22T17:24:28.570409Z",
     "start_time": "2022-04-22T17:24:28.559910Z"
    },
    "scrolled": true
   },
   "outputs": [],
   "source": [
    "import pickle\n",
    "with open('tuned_forest.sav', 'rb') as f:\n",
    "    tforest = pickle.load(f)"
   ]
  },
  {
   "cell_type": "code",
   "execution_count": 25,
   "metadata": {
    "ExecuteTime": {
     "end_time": "2022-04-22T17:24:28.574782Z",
     "start_time": "2022-04-22T17:24:28.571327Z"
    },
    "scrolled": true
   },
   "outputs": [
    {
     "name": "stdout",
     "output_type": "stream",
     "text": [
      "CV Results for `tforest_pipe` model:\n",
      "            0.77706 ± 0.01164 accuracy\n",
      "            recall_score: 0.7499721891140246\n",
      "            precision_score: 0.8336055852918713\n",
      "            f1_score: 0.759324132932402    \n",
      "        \n"
     ]
    }
   ],
   "source": [
    "tforest.print_cv_summary() "
   ]
  },
  {
   "cell_type": "markdown",
   "metadata": {},
   "source": [
    "The Tuned Random Forest Classifier does perform slightly better on each scoring metric. However, we are concentrated primarily on accuracy scores. "
   ]
  },
  {
   "cell_type": "markdown",
   "metadata": {},
   "source": [
    "#### Extra Trees Classifier"
   ]
  },
  {
   "cell_type": "markdown",
   "metadata": {},
   "source": [
    "The next Estimator is SkLearn's Extra Trees Classifier."
   ]
  },
  {
   "cell_type": "code",
   "execution_count": 26,
   "metadata": {
    "ExecuteTime": {
     "end_time": "2022-04-22T17:24:28.588252Z",
     "start_time": "2022-04-22T17:24:28.577608Z"
    }
   },
   "outputs": [],
   "source": [
    "import pickle\n",
    "with open('etc.sav', 'rb') as f:\n",
    "    etc = pickle.load(f)"
   ]
  },
  {
   "cell_type": "code",
   "execution_count": 27,
   "metadata": {
    "ExecuteTime": {
     "end_time": "2022-04-22T17:24:28.593979Z",
     "start_time": "2022-04-22T17:24:28.589201Z"
    }
   },
   "outputs": [
    {
     "name": "stdout",
     "output_type": "stream",
     "text": [
      "CV Results for `etc_pipe` model:\n",
      "            0.77058 ± 0.01184 accuracy\n",
      "            recall_score: 0.733285941313355\n",
      "            precision_score: 0.8226913437164194\n",
      "            f1_score: 0.7498575863366292    \n",
      "        \n"
     ]
    }
   ],
   "source": [
    "etc.print_cv_summary() "
   ]
  },
  {
   "cell_type": "markdown",
   "metadata": {},
   "source": [
    "Again this classifier perform substantially better than the Dummy Classifier and just about as well as the Random Forest Classifier."
   ]
  },
  {
   "cell_type": "markdown",
   "metadata": {},
   "source": [
    "#####  Extra Trees Tuned"
   ]
  },
  {
   "cell_type": "markdown",
   "metadata": {},
   "source": [
    "Our Grid Search determined the optimal parameters for Gradient Booster was max_depth = 50 and n_estimators = 500."
   ]
  },
  {
   "cell_type": "code",
   "execution_count": 28,
   "metadata": {
    "ExecuteTime": {
     "end_time": "2022-04-22T17:24:28.610166Z",
     "start_time": "2022-04-22T17:24:28.595556Z"
    }
   },
   "outputs": [],
   "source": [
    "import pickle\n",
    "with open('tuned_etc.sav', 'rb') as f:\n",
    "    tuned_etc = pickle.load(f)"
   ]
  },
  {
   "cell_type": "code",
   "execution_count": 29,
   "metadata": {
    "ExecuteTime": {
     "end_time": "2022-04-22T17:24:28.614048Z",
     "start_time": "2022-04-22T17:24:28.611274Z"
    },
    "scrolled": true
   },
   "outputs": [
    {
     "name": "stdout",
     "output_type": "stream",
     "text": [
      "CV Results for `tetc_pipe` model:\n",
      "            0.77399 ± 0.01175 accuracy\n",
      "            recall_score: 0.740079743458766\n",
      "            precision_score: 0.8302410092727717\n",
      "            f1_score: 0.7543782442015724    \n",
      "        \n"
     ]
    }
   ],
   "source": [
    "tuned_etc.print_cv_summary() "
   ]
  },
  {
   "cell_type": "markdown",
   "metadata": {},
   "source": [
    "The Tuned Extra Trees Classifier does perform slightly better on each scoring metric. But again we are concentrated primarily on accuracy scores. "
   ]
  },
  {
   "cell_type": "markdown",
   "metadata": {},
   "source": [
    "### Ensembled"
   ]
  },
  {
   "cell_type": "markdown",
   "metadata": {},
   "source": [
    "The tuned Random Forest model and tuned Extra Trees model were entered into a Voting Classifier. Below the results of that Voting Classifier."
   ]
  },
  {
   "cell_type": "code",
   "execution_count": 30,
   "metadata": {
    "ExecuteTime": {
     "end_time": "2022-04-22T17:24:28.627223Z",
     "start_time": "2022-04-22T17:24:28.615844Z"
    }
   },
   "outputs": [],
   "source": [
    "with open('avg2_model.sav', 'rb') as f:\n",
    "    avg2_model = pickle.load(f)"
   ]
  },
  {
   "cell_type": "code",
   "execution_count": 31,
   "metadata": {
    "ExecuteTime": {
     "end_time": "2022-04-22T17:24:28.630344Z",
     "start_time": "2022-04-22T17:24:28.628493Z"
    }
   },
   "outputs": [
    {
     "name": "stdout",
     "output_type": "stream",
     "text": [
      "CV Results for `avg2_pipe` model:\n",
      "            0.77718 ± 0.01159 accuracy\n",
      "            recall_score: 0.7463972132357114\n",
      "            precision_score: 0.8337415272006232\n",
      "            f1_score: 0.7585331782501775    \n",
      "        \n"
     ]
    }
   ],
   "source": [
    "avg2_model.print_cv_summary()"
   ]
  },
  {
   "cell_type": "markdown",
   "metadata": {},
   "source": [
    "The Voting Classifier does slightly better than both of it's estimators did individually. It may be beneficial to tune again."
   ]
  },
  {
   "cell_type": "markdown",
   "metadata": {},
   "source": [
    "### Feature Importance"
   ]
  },
  {
   "cell_type": "markdown",
   "metadata": {},
   "source": [
    "For our business problem it was necessary to extract the most important features. \n",
    "- First we extract the One Hot Encoded column names (ohe_cat_cols)\n",
    "- The because the numeric columns were after the One Hot Encoding we add the list of numeric column names (num_cols) to the list of One Hot Encoded columns (ohe_cat_cols) to get the column names after the Column Transformer has been executed (post_ct_cols)"
   ]
  },
  {
   "cell_type": "code",
   "execution_count": 32,
   "metadata": {
    "ExecuteTime": {
     "end_time": "2022-04-22T17:24:50.887400Z",
     "start_time": "2022-04-22T17:24:28.632367Z"
    }
   },
   "outputs": [],
   "source": [
    "avg2_fit = avg2_model.model.fit(X_train, y_train); #22s"
   ]
  },
  {
   "cell_type": "code",
   "execution_count": 33,
   "metadata": {
    "ExecuteTime": {
     "end_time": "2022-04-22T17:24:50.890204Z",
     "start_time": "2022-04-22T17:24:50.888415Z"
    },
    "scrolled": false
   },
   "outputs": [],
   "source": [
    "ohe_col_names = avg2_model.model.named_steps['ct'].named_transformers_['subpipe_cat']['ohe'].get_feature_names_out()\n",
    "\n",
    "ohe_cat_cols = ohe_col_names.tolist()"
   ]
  },
  {
   "cell_type": "code",
   "execution_count": 34,
   "metadata": {
    "ExecuteTime": {
     "end_time": "2022-04-22T17:24:50.893157Z",
     "start_time": "2022-04-22T17:24:50.891096Z"
    }
   },
   "outputs": [],
   "source": [
    "post_ct_cols = ohe_cat_cols + num_cols"
   ]
  },
  {
   "cell_type": "markdown",
   "metadata": {},
   "source": [
    "Next we make a Data Frame using the array that is created after the Column Transformer and name the columns from the list created above."
   ]
  },
  {
   "cell_type": "code",
   "execution_count": 35,
   "metadata": {
    "ExecuteTime": {
     "end_time": "2022-04-22T17:24:51.123430Z",
     "start_time": "2022-04-22T17:24:50.894559Z"
    }
   },
   "outputs": [],
   "source": [
    "X_post = pd.DataFrame(avg2_model.model.named_steps['ct'].fit_transform(X_train, y_train), columns=post_ct_cols)"
   ]
  },
  {
   "cell_type": "code",
   "execution_count": 36,
   "metadata": {
    "ExecuteTime": {
     "end_time": "2022-04-22T17:24:51.140901Z",
     "start_time": "2022-04-22T17:24:51.124553Z"
    }
   },
   "outputs": [
    {
     "data": {
      "text/html": [
       "<div>\n",
       "<style scoped>\n",
       "    .dataframe tbody tr th:only-of-type {\n",
       "        vertical-align: middle;\n",
       "    }\n",
       "\n",
       "    .dataframe tbody tr th {\n",
       "        vertical-align: top;\n",
       "    }\n",
       "\n",
       "    .dataframe thead th {\n",
       "        text-align: right;\n",
       "    }\n",
       "</style>\n",
       "<table border=\"1\" class=\"dataframe\">\n",
       "  <thead>\n",
       "    <tr style=\"text-align: right;\">\n",
       "      <th></th>\n",
       "      <th>x0_1.0</th>\n",
       "      <th>x1_1.0</th>\n",
       "      <th>x2_1.0</th>\n",
       "      <th>x3_1.0</th>\n",
       "      <th>x4_1.0</th>\n",
       "      <th>x5_1.0</th>\n",
       "      <th>x6_1.0</th>\n",
       "      <th>x7_1.0</th>\n",
       "      <th>x8_1.0</th>\n",
       "      <th>x9_1.0</th>\n",
       "      <th>...</th>\n",
       "      <th>x26_xtkaffoo</th>\n",
       "      <th>x26_xzmlyyjv</th>\n",
       "      <th>h1n1_concern</th>\n",
       "      <th>h1n1_knowledge</th>\n",
       "      <th>opinion_h1n1_vacc_effective</th>\n",
       "      <th>opinion_h1n1_risk</th>\n",
       "      <th>opinion_h1n1_sick_from_vacc</th>\n",
       "      <th>opinion_seas_vacc_effective</th>\n",
       "      <th>opinion_seas_risk</th>\n",
       "      <th>opinion_seas_sick_from_vacc</th>\n",
       "    </tr>\n",
       "  </thead>\n",
       "  <tbody>\n",
       "    <tr>\n",
       "      <th>0</th>\n",
       "      <td>0.0</td>\n",
       "      <td>1.0</td>\n",
       "      <td>0.0</td>\n",
       "      <td>1.0</td>\n",
       "      <td>0.0</td>\n",
       "      <td>0.0</td>\n",
       "      <td>1.0</td>\n",
       "      <td>1.0</td>\n",
       "      <td>1.0</td>\n",
       "      <td>1.0</td>\n",
       "      <td>...</td>\n",
       "      <td>0.0</td>\n",
       "      <td>0.0</td>\n",
       "      <td>-0.686593</td>\n",
       "      <td>1.197462</td>\n",
       "      <td>0.147289</td>\n",
       "      <td>-0.270422</td>\n",
       "      <td>-0.265923</td>\n",
       "      <td>-0.030392</td>\n",
       "      <td>0.934322</td>\n",
       "      <td>-0.089462</td>\n",
       "    </tr>\n",
       "    <tr>\n",
       "      <th>1</th>\n",
       "      <td>0.0</td>\n",
       "      <td>0.0</td>\n",
       "      <td>0.0</td>\n",
       "      <td>1.0</td>\n",
       "      <td>0.0</td>\n",
       "      <td>0.0</td>\n",
       "      <td>1.0</td>\n",
       "      <td>0.0</td>\n",
       "      <td>0.0</td>\n",
       "      <td>1.0</td>\n",
       "      <td>...</td>\n",
       "      <td>0.0</td>\n",
       "      <td>0.0</td>\n",
       "      <td>1.516834</td>\n",
       "      <td>1.197462</td>\n",
       "      <td>0.147289</td>\n",
       "      <td>1.291698</td>\n",
       "      <td>-1.002707</td>\n",
       "      <td>0.903974</td>\n",
       "      <td>1.660931</td>\n",
       "      <td>-0.845239</td>\n",
       "    </tr>\n",
       "    <tr>\n",
       "      <th>2</th>\n",
       "      <td>0.0</td>\n",
       "      <td>1.0</td>\n",
       "      <td>0.0</td>\n",
       "      <td>1.0</td>\n",
       "      <td>0.0</td>\n",
       "      <td>0.0</td>\n",
       "      <td>1.0</td>\n",
       "      <td>0.0</td>\n",
       "      <td>0.0</td>\n",
       "      <td>0.0</td>\n",
       "      <td>...</td>\n",
       "      <td>0.0</td>\n",
       "      <td>0.0</td>\n",
       "      <td>1.516834</td>\n",
       "      <td>1.197462</td>\n",
       "      <td>0.147289</td>\n",
       "      <td>-1.051483</td>\n",
       "      <td>-1.002707</td>\n",
       "      <td>0.903974</td>\n",
       "      <td>0.934322</td>\n",
       "      <td>-0.845239</td>\n",
       "    </tr>\n",
       "    <tr>\n",
       "      <th>3</th>\n",
       "      <td>0.0</td>\n",
       "      <td>1.0</td>\n",
       "      <td>0.0</td>\n",
       "      <td>1.0</td>\n",
       "      <td>0.0</td>\n",
       "      <td>0.0</td>\n",
       "      <td>1.0</td>\n",
       "      <td>0.0</td>\n",
       "      <td>0.0</td>\n",
       "      <td>0.0</td>\n",
       "      <td>...</td>\n",
       "      <td>1.0</td>\n",
       "      <td>0.0</td>\n",
       "      <td>-0.686593</td>\n",
       "      <td>1.197462</td>\n",
       "      <td>1.147458</td>\n",
       "      <td>1.291698</td>\n",
       "      <td>-0.265923</td>\n",
       "      <td>0.903974</td>\n",
       "      <td>-0.518896</td>\n",
       "      <td>-0.089462</td>\n",
       "    </tr>\n",
       "    <tr>\n",
       "      <th>4</th>\n",
       "      <td>0.0</td>\n",
       "      <td>1.0</td>\n",
       "      <td>0.0</td>\n",
       "      <td>1.0</td>\n",
       "      <td>0.0</td>\n",
       "      <td>0.0</td>\n",
       "      <td>1.0</td>\n",
       "      <td>0.0</td>\n",
       "      <td>1.0</td>\n",
       "      <td>0.0</td>\n",
       "      <td>...</td>\n",
       "      <td>0.0</td>\n",
       "      <td>0.0</td>\n",
       "      <td>-0.686593</td>\n",
       "      <td>1.197462</td>\n",
       "      <td>0.147289</td>\n",
       "      <td>1.291698</td>\n",
       "      <td>-0.265923</td>\n",
       "      <td>-0.030392</td>\n",
       "      <td>0.934322</td>\n",
       "      <td>-0.089462</td>\n",
       "    </tr>\n",
       "    <tr>\n",
       "      <th>...</th>\n",
       "      <td>...</td>\n",
       "      <td>...</td>\n",
       "      <td>...</td>\n",
       "      <td>...</td>\n",
       "      <td>...</td>\n",
       "      <td>...</td>\n",
       "      <td>...</td>\n",
       "      <td>...</td>\n",
       "      <td>...</td>\n",
       "      <td>...</td>\n",
       "      <td>...</td>\n",
       "      <td>...</td>\n",
       "      <td>...</td>\n",
       "      <td>...</td>\n",
       "      <td>...</td>\n",
       "      <td>...</td>\n",
       "      <td>...</td>\n",
       "      <td>...</td>\n",
       "      <td>...</td>\n",
       "      <td>...</td>\n",
       "      <td>...</td>\n",
       "    </tr>\n",
       "    <tr>\n",
       "      <th>17888</th>\n",
       "      <td>0.0</td>\n",
       "      <td>0.0</td>\n",
       "      <td>0.0</td>\n",
       "      <td>1.0</td>\n",
       "      <td>0.0</td>\n",
       "      <td>0.0</td>\n",
       "      <td>1.0</td>\n",
       "      <td>0.0</td>\n",
       "      <td>0.0</td>\n",
       "      <td>0.0</td>\n",
       "      <td>...</td>\n",
       "      <td>0.0</td>\n",
       "      <td>0.0</td>\n",
       "      <td>0.415121</td>\n",
       "      <td>-0.425980</td>\n",
       "      <td>0.147289</td>\n",
       "      <td>-0.270422</td>\n",
       "      <td>-0.265923</td>\n",
       "      <td>-0.030392</td>\n",
       "      <td>-0.518896</td>\n",
       "      <td>-0.845239</td>\n",
       "    </tr>\n",
       "    <tr>\n",
       "      <th>17889</th>\n",
       "      <td>0.0</td>\n",
       "      <td>0.0</td>\n",
       "      <td>0.0</td>\n",
       "      <td>1.0</td>\n",
       "      <td>0.0</td>\n",
       "      <td>0.0</td>\n",
       "      <td>1.0</td>\n",
       "      <td>0.0</td>\n",
       "      <td>0.0</td>\n",
       "      <td>0.0</td>\n",
       "      <td>...</td>\n",
       "      <td>0.0</td>\n",
       "      <td>0.0</td>\n",
       "      <td>-0.686593</td>\n",
       "      <td>-0.425980</td>\n",
       "      <td>0.147289</td>\n",
       "      <td>-0.270422</td>\n",
       "      <td>-1.002707</td>\n",
       "      <td>-0.030392</td>\n",
       "      <td>-0.518896</td>\n",
       "      <td>1.422094</td>\n",
       "    </tr>\n",
       "    <tr>\n",
       "      <th>17890</th>\n",
       "      <td>0.0</td>\n",
       "      <td>1.0</td>\n",
       "      <td>0.0</td>\n",
       "      <td>0.0</td>\n",
       "      <td>0.0</td>\n",
       "      <td>0.0</td>\n",
       "      <td>1.0</td>\n",
       "      <td>0.0</td>\n",
       "      <td>0.0</td>\n",
       "      <td>0.0</td>\n",
       "      <td>...</td>\n",
       "      <td>0.0</td>\n",
       "      <td>0.0</td>\n",
       "      <td>0.415121</td>\n",
       "      <td>-0.425980</td>\n",
       "      <td>0.147289</td>\n",
       "      <td>-0.270422</td>\n",
       "      <td>-0.265923</td>\n",
       "      <td>-0.030392</td>\n",
       "      <td>-0.518896</td>\n",
       "      <td>-0.089462</td>\n",
       "    </tr>\n",
       "    <tr>\n",
       "      <th>17891</th>\n",
       "      <td>0.0</td>\n",
       "      <td>1.0</td>\n",
       "      <td>0.0</td>\n",
       "      <td>1.0</td>\n",
       "      <td>0.0</td>\n",
       "      <td>0.0</td>\n",
       "      <td>1.0</td>\n",
       "      <td>1.0</td>\n",
       "      <td>1.0</td>\n",
       "      <td>1.0</td>\n",
       "      <td>...</td>\n",
       "      <td>0.0</td>\n",
       "      <td>0.0</td>\n",
       "      <td>0.415121</td>\n",
       "      <td>-0.425980</td>\n",
       "      <td>-2.853217</td>\n",
       "      <td>-1.051483</td>\n",
       "      <td>1.207646</td>\n",
       "      <td>-2.833489</td>\n",
       "      <td>-1.245505</td>\n",
       "      <td>1.422094</td>\n",
       "    </tr>\n",
       "    <tr>\n",
       "      <th>17892</th>\n",
       "      <td>0.0</td>\n",
       "      <td>0.0</td>\n",
       "      <td>0.0</td>\n",
       "      <td>1.0</td>\n",
       "      <td>0.0</td>\n",
       "      <td>1.0</td>\n",
       "      <td>1.0</td>\n",
       "      <td>0.0</td>\n",
       "      <td>0.0</td>\n",
       "      <td>0.0</td>\n",
       "      <td>...</td>\n",
       "      <td>0.0</td>\n",
       "      <td>0.0</td>\n",
       "      <td>1.516834</td>\n",
       "      <td>-0.425980</td>\n",
       "      <td>0.147289</td>\n",
       "      <td>-0.270422</td>\n",
       "      <td>1.207646</td>\n",
       "      <td>0.903974</td>\n",
       "      <td>-0.518896</td>\n",
       "      <td>-0.089462</td>\n",
       "    </tr>\n",
       "  </tbody>\n",
       "</table>\n",
       "<p>17893 rows × 99 columns</p>\n",
       "</div>"
      ],
      "text/plain": [
       "       x0_1.0  x1_1.0  x2_1.0  x3_1.0  x4_1.0  x5_1.0  x6_1.0  x7_1.0  x8_1.0  \\\n",
       "0         0.0     1.0     0.0     1.0     0.0     0.0     1.0     1.0     1.0   \n",
       "1         0.0     0.0     0.0     1.0     0.0     0.0     1.0     0.0     0.0   \n",
       "2         0.0     1.0     0.0     1.0     0.0     0.0     1.0     0.0     0.0   \n",
       "3         0.0     1.0     0.0     1.0     0.0     0.0     1.0     0.0     0.0   \n",
       "4         0.0     1.0     0.0     1.0     0.0     0.0     1.0     0.0     1.0   \n",
       "...       ...     ...     ...     ...     ...     ...     ...     ...     ...   \n",
       "17888     0.0     0.0     0.0     1.0     0.0     0.0     1.0     0.0     0.0   \n",
       "17889     0.0     0.0     0.0     1.0     0.0     0.0     1.0     0.0     0.0   \n",
       "17890     0.0     1.0     0.0     0.0     0.0     0.0     1.0     0.0     0.0   \n",
       "17891     0.0     1.0     0.0     1.0     0.0     0.0     1.0     1.0     1.0   \n",
       "17892     0.0     0.0     0.0     1.0     0.0     1.0     1.0     0.0     0.0   \n",
       "\n",
       "       x9_1.0  ...  x26_xtkaffoo  x26_xzmlyyjv  h1n1_concern  h1n1_knowledge  \\\n",
       "0         1.0  ...           0.0           0.0     -0.686593        1.197462   \n",
       "1         1.0  ...           0.0           0.0      1.516834        1.197462   \n",
       "2         0.0  ...           0.0           0.0      1.516834        1.197462   \n",
       "3         0.0  ...           1.0           0.0     -0.686593        1.197462   \n",
       "4         0.0  ...           0.0           0.0     -0.686593        1.197462   \n",
       "...       ...  ...           ...           ...           ...             ...   \n",
       "17888     0.0  ...           0.0           0.0      0.415121       -0.425980   \n",
       "17889     0.0  ...           0.0           0.0     -0.686593       -0.425980   \n",
       "17890     0.0  ...           0.0           0.0      0.415121       -0.425980   \n",
       "17891     1.0  ...           0.0           0.0      0.415121       -0.425980   \n",
       "17892     0.0  ...           0.0           0.0      1.516834       -0.425980   \n",
       "\n",
       "       opinion_h1n1_vacc_effective  opinion_h1n1_risk  \\\n",
       "0                         0.147289          -0.270422   \n",
       "1                         0.147289           1.291698   \n",
       "2                         0.147289          -1.051483   \n",
       "3                         1.147458           1.291698   \n",
       "4                         0.147289           1.291698   \n",
       "...                            ...                ...   \n",
       "17888                     0.147289          -0.270422   \n",
       "17889                     0.147289          -0.270422   \n",
       "17890                     0.147289          -0.270422   \n",
       "17891                    -2.853217          -1.051483   \n",
       "17892                     0.147289          -0.270422   \n",
       "\n",
       "       opinion_h1n1_sick_from_vacc  opinion_seas_vacc_effective  \\\n",
       "0                        -0.265923                    -0.030392   \n",
       "1                        -1.002707                     0.903974   \n",
       "2                        -1.002707                     0.903974   \n",
       "3                        -0.265923                     0.903974   \n",
       "4                        -0.265923                    -0.030392   \n",
       "...                            ...                          ...   \n",
       "17888                    -0.265923                    -0.030392   \n",
       "17889                    -1.002707                    -0.030392   \n",
       "17890                    -0.265923                    -0.030392   \n",
       "17891                     1.207646                    -2.833489   \n",
       "17892                     1.207646                     0.903974   \n",
       "\n",
       "       opinion_seas_risk  opinion_seas_sick_from_vacc  \n",
       "0               0.934322                    -0.089462  \n",
       "1               1.660931                    -0.845239  \n",
       "2               0.934322                    -0.845239  \n",
       "3              -0.518896                    -0.089462  \n",
       "4               0.934322                    -0.089462  \n",
       "...                  ...                          ...  \n",
       "17888          -0.518896                    -0.845239  \n",
       "17889          -0.518896                     1.422094  \n",
       "17890          -0.518896                    -0.089462  \n",
       "17891          -1.245505                     1.422094  \n",
       "17892          -0.518896                    -0.089462  \n",
       "\n",
       "[17893 rows x 99 columns]"
      ]
     },
     "execution_count": 36,
     "metadata": {},
     "output_type": "execute_result"
    }
   ],
   "source": [
    "X_post"
   ]
  },
  {
   "cell_type": "markdown",
   "metadata": {},
   "source": [
    "Next this for loop creates a dictionary with the an array of feature importance for each estimator. \n",
    "\n",
    "We then get the average feature importance by adding the arrays together and dividing them by two."
   ]
  },
  {
   "cell_type": "code",
   "execution_count": 37,
   "metadata": {
    "ExecuteTime": {
     "end_time": "2022-04-22T17:25:13.901510Z",
     "start_time": "2022-04-22T17:24:51.142635Z"
    }
   },
   "outputs": [],
   "source": [
    "feat_imp = {}\n",
    "for est in avg2_model.model.named_steps['avg2'].named_estimators:\n",
    "    etc = avg2_model.model.named_steps['avg2'].named_estimators[est]\n",
    "    feat_imp[etc] = etc.fit(X_post, y_train).feature_importances_ #22s"
   ]
  },
  {
   "cell_type": "code",
   "execution_count": 38,
   "metadata": {
    "ExecuteTime": {
     "end_time": "2022-04-22T17:25:13.905601Z",
     "start_time": "2022-04-22T17:25:13.902995Z"
    },
    "scrolled": true
   },
   "outputs": [],
   "source": [
    "avg_feat_imp = (list(feat_imp.values())[0] + list(feat_imp.values())[1])/2"
   ]
  },
  {
   "cell_type": "markdown",
   "metadata": {},
   "source": [
    "And finally, we create a Data Frame with the columns representing the Features and their Importances. We then sort values by Feature Importance and create a new Data Frame with just the top ten feature importances, clean the value names up a bit and make a bar chart for visual purposes. "
   ]
  },
  {
   "cell_type": "code",
   "execution_count": 39,
   "metadata": {
    "ExecuteTime": {
     "end_time": "2022-04-22T17:25:13.928478Z",
     "start_time": "2022-04-22T17:25:13.907046Z"
    },
    "scrolled": true
   },
   "outputs": [],
   "source": [
    "df = pd.DataFrame()\n",
    "df['Features'] = post_ct_cols\n",
    "df['Feature_importance'] = avg_feat_imp\n",
    "top_ten_feat = df.sort_values('Feature_importance', ascending=False).head(10)"
   ]
  },
  {
   "cell_type": "code",
   "execution_count": 40,
   "metadata": {
    "ExecuteTime": {
     "end_time": "2022-04-22T17:25:13.934066Z",
     "start_time": "2022-04-22T17:25:13.929691Z"
    }
   },
   "outputs": [],
   "source": [
    "top_ten_feat.Features = [row.strip().lower().replace('_',' ') for row in top_ten_feat.Features]\n",
    "top_ten_feat['Features'].replace('x8 1.0', 'Doctor Recommended', inplace=True)"
   ]
  },
  {
   "cell_type": "code",
   "execution_count": 41,
   "metadata": {
    "ExecuteTime": {
     "end_time": "2022-04-22T17:25:13.943487Z",
     "start_time": "2022-04-22T17:25:13.935393Z"
    },
    "scrolled": true
   },
   "outputs": [
    {
     "data": {
      "text/html": [
       "<div>\n",
       "<style scoped>\n",
       "    .dataframe tbody tr th:only-of-type {\n",
       "        vertical-align: middle;\n",
       "    }\n",
       "\n",
       "    .dataframe tbody tr th {\n",
       "        vertical-align: top;\n",
       "    }\n",
       "\n",
       "    .dataframe thead th {\n",
       "        text-align: right;\n",
       "    }\n",
       "</style>\n",
       "<table border=\"1\" class=\"dataframe\">\n",
       "  <thead>\n",
       "    <tr style=\"text-align: right;\">\n",
       "      <th></th>\n",
       "      <th>Features</th>\n",
       "      <th>Feature_importance</th>\n",
       "    </tr>\n",
       "  </thead>\n",
       "  <tbody>\n",
       "    <tr>\n",
       "      <th>97</th>\n",
       "      <td>opinion seas risk</td>\n",
       "      <td>0.077815</td>\n",
       "    </tr>\n",
       "    <tr>\n",
       "      <th>96</th>\n",
       "      <td>opinion seas vacc effective</td>\n",
       "      <td>0.075493</td>\n",
       "    </tr>\n",
       "    <tr>\n",
       "      <th>8</th>\n",
       "      <td>Doctor Recommended</td>\n",
       "      <td>0.068744</td>\n",
       "    </tr>\n",
       "    <tr>\n",
       "      <th>17</th>\n",
       "      <td>x13 65+ years</td>\n",
       "      <td>0.036875</td>\n",
       "    </tr>\n",
       "    <tr>\n",
       "      <th>94</th>\n",
       "      <td>opinion h1n1 risk</td>\n",
       "      <td>0.032015</td>\n",
       "    </tr>\n",
       "    <tr>\n",
       "      <th>93</th>\n",
       "      <td>opinion h1n1 vacc effective</td>\n",
       "      <td>0.029749</td>\n",
       "    </tr>\n",
       "    <tr>\n",
       "      <th>98</th>\n",
       "      <td>opinion seas sick from vacc</td>\n",
       "      <td>0.026720</td>\n",
       "    </tr>\n",
       "    <tr>\n",
       "      <th>91</th>\n",
       "      <td>h1n1 concern</td>\n",
       "      <td>0.025773</td>\n",
       "    </tr>\n",
       "    <tr>\n",
       "      <th>95</th>\n",
       "      <td>opinion h1n1 sick from vacc</td>\n",
       "      <td>0.024122</td>\n",
       "    </tr>\n",
       "    <tr>\n",
       "      <th>92</th>\n",
       "      <td>h1n1 knowledge</td>\n",
       "      <td>0.021408</td>\n",
       "    </tr>\n",
       "  </tbody>\n",
       "</table>\n",
       "</div>"
      ],
      "text/plain": [
       "                       Features  Feature_importance\n",
       "97            opinion seas risk            0.077815\n",
       "96  opinion seas vacc effective            0.075493\n",
       "8            Doctor Recommended            0.068744\n",
       "17                x13 65+ years            0.036875\n",
       "94            opinion h1n1 risk            0.032015\n",
       "93  opinion h1n1 vacc effective            0.029749\n",
       "98  opinion seas sick from vacc            0.026720\n",
       "91                 h1n1 concern            0.025773\n",
       "95  opinion h1n1 sick from vacc            0.024122\n",
       "92               h1n1 knowledge            0.021408"
      ]
     },
     "execution_count": 41,
     "metadata": {},
     "output_type": "execute_result"
    }
   ],
   "source": [
    "top_ten_feat"
   ]
  },
  {
   "cell_type": "code",
   "execution_count": 42,
   "metadata": {
    "ExecuteTime": {
     "end_time": "2022-04-22T17:25:14.139141Z",
     "start_time": "2022-04-22T17:25:13.944751Z"
    },
    "scrolled": true
   },
   "outputs": [
    {
     "data": {
      "image/png": "[encoded data removed]",
      "text/plain": [
       "<Figure size 432x288 with 1 Axes>"
      ]
     },
     "metadata": {
      "needs_background": "light"
     },
     "output_type": "display_data"
    }
   ],
   "source": [
    "fig, ax = plt.subplots()\n",
    "ax.barh(y= top_ten_feat.Features, width= top_ten_feat['Feature_importance'], color='midnightblue')\n",
    "ax.set_title('Feature Importance')\n",
    "ax.set_ylabel('Features')\n",
    "ax.set_xlabel('Importance')\n",
    "plt.xticks([])\n",
    "ax.invert_yaxis()\n",
    "plt.savefig('./images/Feature_Importance.jpeg', bbox_inches = 'tight');\n",
    "plt.savefig('./images/Feature_Importance.png', bbox_inches = 'tight');"
   ]
  },
  {
   "cell_type": "markdown",
   "metadata": {},
   "source": [
    "The top 3 most important features in determining whether a person was to get vaccinated are \n",
    "- A person's opinion on the risk of the seasonal flu \n",
    "- If it was Doctor Recommended\n",
    "- An opinion on seasonal vaccine effectiveness"
   ]
  },
  {
   "cell_type": "markdown",
   "metadata": {},
   "source": [
    "### Final Model"
   ]
  },
  {
   "cell_type": "markdown",
   "metadata": {},
   "source": [
    "Now we will take a look at our final model's performance."
   ]
  },
  {
   "cell_type": "code",
   "execution_count": 43,
   "metadata": {
    "ExecuteTime": {
     "end_time": "2022-04-22T17:25:14.141789Z",
     "start_time": "2022-04-22T17:25:14.140086Z"
    }
   },
   "outputs": [],
   "source": [
    "final_model = avg2_fit"
   ]
  },
  {
   "cell_type": "code",
   "execution_count": 44,
   "metadata": {
    "ExecuteTime": {
     "end_time": "2022-04-22T17:25:14.144426Z",
     "start_time": "2022-04-22T17:25:14.142874Z"
    }
   },
   "outputs": [],
   "source": [
    "#final_model.fit(X_train, y_train); "
   ]
  },
  {
   "cell_type": "code",
   "execution_count": 45,
   "metadata": {
    "ExecuteTime": {
     "end_time": "2022-04-22T17:25:17.136065Z",
     "start_time": "2022-04-22T17:25:14.145527Z"
    },
    "scrolled": false
   },
   "outputs": [
    {
     "data": {
      "image/png": "[encoded data removed]",
      "text/plain": [
       "<Figure size 432x288 with 2 Axes>"
      ]
     },
     "metadata": {
      "needs_background": "light"
     },
     "output_type": "display_data"
    }
   ],
   "source": [
    "fm_cm = plot_confusion_matrix(final_model, X_test, y_test, cmap=\"Blues\",\\\n",
    "                              display_labels=['UnVaccinated','Vaccinated'])\n",
    "fm_cm.ax_.set(xlabel='Predicted', ylabel='Actual')\n",
    "\n",
    "plt.savefig('./images/Confusion.jpeg', bbox_inches = 'tight');"
   ]
  },
  {
   "cell_type": "markdown",
   "metadata": {},
   "source": [
    "The confusion matrix above shows the counts of our predicted target variable against the actual target variable counts. Our true positive counts and true negative counts are much more dense then our false positives and false negatives. "
   ]
  },
  {
   "cell_type": "code",
   "execution_count": 46,
   "metadata": {
    "ExecuteTime": {
     "end_time": "2022-04-22T17:25:19.512892Z",
     "start_time": "2022-04-22T17:25:17.137038Z"
    }
   },
   "outputs": [],
   "source": [
    "y_hat = final_model.predict(X_test) "
   ]
  },
  {
   "cell_type": "code",
   "execution_count": 47,
   "metadata": {
    "ExecuteTime": {
     "end_time": "2022-04-22T17:25:19.518066Z",
     "start_time": "2022-04-22T17:25:19.514314Z"
    }
   },
   "outputs": [
    {
     "data": {
      "text/plain": [
       "(<function sklearn.metrics._classification.accuracy_score(y_true, y_pred, *, normalize=True, sample_weight=None)>,\n",
       " <function sklearn.metrics._classification.recall_score(y_true, y_pred, *, labels=None, pos_label=1, average='binary', sample_weight=None, zero_division='warn')>,\n",
       " <function sklearn.metrics._classification.precision_score(y_true, y_pred, *, labels=None, pos_label=1, average='binary', sample_weight=None, zero_division='warn')>,\n",
       " <function sklearn.metrics._classification.f1_score(y_true, y_pred, *, labels=None, pos_label=1, average='binary', sample_weight=None, zero_division='warn')>)"
      ]
     },
     "execution_count": 47,
     "metadata": {},
     "output_type": "execute_result"
    }
   ],
   "source": [
    "accuracy_score, recall_score, precision_score, f1_score"
   ]
  },
  {
   "cell_type": "code",
   "execution_count": 48,
   "metadata": {
    "ExecuteTime": {
     "end_time": "2022-04-22T17:25:19.547829Z",
     "start_time": "2022-04-22T17:25:19.519574Z"
    },
    "scrolled": true
   },
   "outputs": [
    {
     "name": "stdout",
     "output_type": "stream",
     "text": [
      "\n",
      "Our final model's accuracy on the test set is 0.79. \n",
      "\n",
      "Our final model's recall on the test set is 0.75 \n",
      "\n",
      "Our final model's precision on the test set is 0.78 \n",
      "\n",
      "Our final model's f1-score on the test is 0.77.\n",
      "\n"
     ]
    }
   ],
   "source": [
    "print(f\"\"\"\n",
    "Our final model's accuracy on the test set is {round(accuracy_score(y_test, y_hat), 2)}. \\n\n",
    "Our final model's recall on the test set is {round(recall_score(y_test, y_hat), 2)} \\n\n",
    "Our final model's precision on the test set is {round(precision_score(y_test, y_hat), 2)} \\n\n",
    "Our final model's f1-score on the test is {round(f1_score(y_test, y_hat), 2)}.\n",
    "\"\"\")"
   ]
  },
  {
   "cell_type": "markdown",
   "metadata": {},
   "source": [
    "When we apply"
   ]
  },
  {
   "cell_type": "code",
   "execution_count": 49,
   "metadata": {
    "ExecuteTime": {
     "end_time": "2022-04-22T17:25:22.029454Z",
     "start_time": "2022-04-22T17:25:19.548898Z"
    }
   },
   "outputs": [
    {
     "data": {
      "image/png": "[encoded data removed]",
      "text/plain": [
       "<Figure size 432x288 with 1 Axes>"
      ]
     },
     "metadata": {
      "needs_background": "light"
     },
     "output_type": "display_data"
    }
   ],
   "source": [
    "fm1_roc_curve = plot_roc_curve(final_model, X_test, y_test)\n",
    "plt.savefig('./images/ROC_Curve.jpeg', bbox_inches = 'tight');"
   ]
  },
  {
   "cell_type": "markdown",
   "metadata": {},
   "source": [
    "Let's take it one step further and choose a specific threshold to optimize our scores. The code to calculate on optimal threshold was provided by https://machinelearningmastery.com/threshold-moving-for-imbalanced-classification/."
   ]
  },
  {
   "cell_type": "code",
   "execution_count": 50,
   "metadata": {
    "ExecuteTime": {
     "end_time": "2022-04-22T17:25:24.444087Z",
     "start_time": "2022-04-22T17:25:22.030440Z"
    }
   },
   "outputs": [
    {
     "name": "stdout",
     "output_type": "stream",
     "text": [
      "Best Threshold=0.471400, G-Mean=0.791\n"
     ]
    }
   ],
   "source": [
    "y_hat = final_model.predict_proba(X_test)[:, 1]\n",
    "# calculate roc curves\n",
    "fpr, tpr, thresholds = roc_curve(y_test, y_hat)\n",
    "# calculate the g-mean for each threshold\n",
    "gmeans = sqrt(tpr * (1-fpr))\n",
    "# locate the index of the largest g-mean\n",
    "ix = argmax(gmeans)\n",
    "print('Best Threshold=%f, G-Mean=%.3f' % (thresholds[ix], gmeans[ix]))"
   ]
  },
  {
   "cell_type": "code",
   "execution_count": 51,
   "metadata": {
    "ExecuteTime": {
     "end_time": "2022-04-22T17:25:27.350343Z",
     "start_time": "2022-04-22T17:25:24.445202Z"
    }
   },
   "outputs": [],
   "source": [
    "y_hat = (final_model.predict_proba(X_test)[:,1] >= thresholds[ix]).astype(bool) "
   ]
  },
  {
   "cell_type": "code",
   "execution_count": 52,
   "metadata": {
    "ExecuteTime": {
     "end_time": "2022-04-22T17:25:27.369114Z",
     "start_time": "2022-04-22T17:25:27.351747Z"
    },
    "scrolled": true
   },
   "outputs": [
    {
     "name": "stdout",
     "output_type": "stream",
     "text": [
      "\n",
      "Our final model's accuracy on the test set is 0.79. \n",
      "\n",
      "Our final model's recall on the test set is 0.79 \n",
      "\n",
      "Our final model's precision on the test set is 0.76 \n",
      "\n",
      "Our final model's f1-score on the test is 0.78.\n",
      "\n"
     ]
    }
   ],
   "source": [
    "print(f\"\"\"\n",
    "Our final model's accuracy on the test set is {round(accuracy_score(y_test, y_hat), 2)}. \\n\n",
    "Our final model's recall on the test set is {round(recall_score(y_test, y_hat), 2)} \\n\n",
    "Our final model's precision on the test set is {round(precision_score(y_test, y_hat), 2)} \\n\n",
    "Our final model's f1-score on the test is {round(f1_score(y_test, y_hat), 2)}.\n",
    "\"\"\")"
   ]
  },
  {
   "cell_type": "code",
   "execution_count": 53,
   "metadata": {
    "ExecuteTime": {
     "end_time": "2022-04-22T17:25:27.373780Z",
     "start_time": "2022-04-22T17:25:27.370075Z"
    },
    "scrolled": true
   },
   "outputs": [],
   "source": [
    "cm = confusion_matrix(y_test, y_hat)"
   ]
  },
  {
   "cell_type": "code",
   "execution_count": 54,
   "metadata": {
    "ExecuteTime": {
     "end_time": "2022-04-22T17:25:27.545282Z",
     "start_time": "2022-04-22T17:25:27.376198Z"
    }
   },
   "outputs": [
    {
     "data": {
      "image/png": "[encoded data removed]",
      "text/plain": [
       "<Figure size 432x288 with 2 Axes>"
      ]
     },
     "metadata": {
      "needs_background": "light"
     },
     "output_type": "display_data"
    }
   ],
   "source": [
    "sns.heatmap(cm, annot=True, cmap='Blues', fmt='d',\n",
    "            xticklabels= ['Unvaccinated', 'Vaccinated'],\n",
    "            yticklabels= ['Unvaccinated', 'Vaccinated'])\n",
    "plt.xlabel('Predicted')\n",
    "plt.ylabel('Actual')\n",
    "plt.savefig('./images/Confusion2.jpeg', bbox_inches = 'tight');"
   ]
  },
  {
   "cell_type": "markdown",
   "metadata": {},
   "source": [
    "By choosing a specific threshold we were able to reduce the number of false negatives at the expense of false positives. This isn't really useful in our case, but it may be useful if we receive new data. In addition this may be helpful if we want to concentrate specifically on identifying Vaccinated individuals over UnVaccinated individuals."
   ]
  },
  {
   "cell_type": "code",
   "execution_count": 55,
   "metadata": {
    "ExecuteTime": {
     "end_time": "2022-04-22T17:25:27.548727Z",
     "start_time": "2022-04-22T17:25:27.546406Z"
    }
   },
   "outputs": [],
   "source": [
    "TN = cm[0][0]\n",
    "FN = cm[1][0]\n",
    "TP = cm[1][1]\n",
    "FP = cm[0][1]"
   ]
  },
  {
   "cell_type": "code",
   "execution_count": 56,
   "metadata": {
    "ExecuteTime": {
     "end_time": "2022-04-22T17:25:27.552815Z",
     "start_time": "2022-04-22T17:25:27.550148Z"
    },
    "scrolled": true
   },
   "outputs": [
    {
     "data": {
      "text/plain": [
       "76.33277551996174"
      ]
     },
     "execution_count": 56,
     "metadata": {},
     "output_type": "execute_result"
    }
   ],
   "source": [
    "100*(TP/ (TP+FP))"
   ]
  },
  {
   "cell_type": "code",
   "execution_count": 57,
   "metadata": {
    "ExecuteTime": {
     "end_time": "2022-04-22T17:25:27.556748Z",
     "start_time": "2022-04-22T17:25:27.553791Z"
    }
   },
   "outputs": [
    {
     "data": {
      "text/plain": [
       "81.62383934355431"
      ]
     },
     "execution_count": 57,
     "metadata": {},
     "output_type": "execute_result"
    }
   ],
   "source": [
    "100*(TN/ (TN+FN))"
   ]
  },
  {
   "cell_type": "code",
   "execution_count": 58,
   "metadata": {
    "ExecuteTime": {
     "end_time": "2022-04-22T17:25:27.843648Z",
     "start_time": "2022-04-22T17:25:27.559034Z"
    }
   },
   "outputs": [
    {
     "data": {
      "image/png": "[encoded data removed]",
      "text/plain": [
       "<Figure size 432x288 with 1 Axes>"
      ]
     },
     "metadata": {
      "needs_background": "light"
     },
     "output_type": "display_data"
    }
   ],
   "source": [
    "b2 = plt.barh(['Vaccinated', 'Unvaccinated'], \n",
    "              [100*(TP/ (TP+FP)), 100*(TN/ (TN+FN))],\n",
    "              color=\"midnightblue\")\n",
    "\n",
    "b1 = plt.barh(['Vaccinated', 'Unvaccinated'], \n",
    "              [100*(FP/ (TP+FP)),100*(FN/ (TN+FN))], \n",
    "              left=[100*(TP/ (TP+FP)), 100*(TN/ (TN+FN))], \n",
    "              color=\"lightskyblue\")\n",
    "\n",
    "plt.legend([b1, b2], [\"Incorrect\", \"Correct\"], \n",
    "           title=\"Predictions\", loc=\"best\")\n",
    "plt.title('Prediction Accuracy')\n",
    "\n",
    "plt.savefig('./images/Prediction_Accuracy.jpeg', bbox_inches = 'tight')\n",
    "plt.savefig('./images/Prediction_Accuracy.png', bbox_inches = 'tight')\n",
    "plt.show();"
   ]
  },
  {
   "cell_type": "markdown",
   "metadata": {},
   "source": [
    "Because we are using an older version of SkLearn we have to plot our ROC Curve by hand. The following code block was also found on https://machinelearningmastery.com/roc-curves-and-precision-recall-curves-for-classification-in-python/. Newer versions of SkLearn take predicted y and actual y values as arguments rather than the model and y values. "
   ]
  },
  {
   "cell_type": "code",
   "execution_count": 59,
   "metadata": {
    "ExecuteTime": {
     "end_time": "2022-04-22T17:25:58.314144Z",
     "start_time": "2022-04-22T17:25:27.846177Z"
    }
   },
   "outputs": [
    {
     "data": {
      "image/png": "[encoded data removed]",
      "text/plain": [
       "<Figure size 432x288 with 1 Axes>"
      ]
     },
     "metadata": {
      "needs_background": "light"
     },
     "output_type": "display_data"
    },
    {
     "data": {
      "text/plain": [
       "<Figure size 432x288 with 0 Axes>"
      ]
     },
     "metadata": {},
     "output_type": "display_data"
    }
   ],
   "source": [
    "# generate a no skill prediction (majority class)\n",
    "ns_probs = [0 for _ in range(len(y_test))]\n",
    "# fit a model\n",
    "final_model.fit_transform(X_train, y_train)\n",
    "# predict probabilities\n",
    "lr_probs = final_model.predict_proba(X_test)\n",
    "# keep probabilities for the positive outcome only\n",
    "lr_probs = lr_probs[:, 1]\n",
    "# calculate scores\n",
    "ns_auc = roc_auc_score(y_test, ns_probs)\n",
    "lr_auc = round((roc_auc_score(y_test, lr_probs)), 2)\n",
    "# calculate roc curves\n",
    "ns_fpr, ns_tpr, _ = roc_curve(y_test, ns_probs)\n",
    "lr_fpr, lr_tpr, _ = roc_curve(y_test, lr_probs)\n",
    "# plot the roc curve for the model\n",
    "plt.plot(lr_fpr, lr_tpr, label=f'Pipeline(AUC = {lr_auc})', color='steelblue')\n",
    "# axis labels\n",
    "plt.xlabel('False Positive Rate')\n",
    "plt.ylabel('True Positive Rate')\n",
    "# show the legend\n",
    "plt.legend(loc='lower right')\n",
    "# show the plot\n",
    "plt.show()\n",
    "plt.savefig('./images/ROC_Curve2.jpeg', bbox_inches = 'tight');"
   ]
  },
  {
   "cell_type": "markdown",
   "metadata": {},
   "source": [
    "Choosing our classification threshold here doesn't improve our model's metrics significantly, however, it could prove essential in a data set where the target variable is more imbalanced."
   ]
  },
  {
   "cell_type": "markdown",
   "metadata": {},
   "source": [
    "### Next Steps"
   ]
  },
  {
   "cell_type": "markdown",
   "metadata": {},
   "source": [
    "Possible Room for Improvement:\n",
    "- With more time we could run and tune more models. More and better models could improve our model's performance. \n",
    "- Tuning again after combining the estimators may also prove beneficial. \n",
    "- Getting another data source may add to the robustness of our models.\n",
    "- We may be able to predict other target variables"
   ]
  },
  {
   "cell_type": "code",
   "execution_count": null,
   "metadata": {},
   "outputs": [],
   "source": []
  }
 ],
 "metadata": {
  "kernelspec": {
   "display_name": "Python (learn-env)",
   "language": "python",
   "name": "learn-env"
  },
  "language_info": {
   "codemirror_mode": {
    "name": "ipython",
    "version": 3
   },
   "file_extension": ".py",
   "mimetype": "text/x-python",
   "name": "python",
   "nbconvert_exporter": "python",
   "pygments_lexer": "ipython3",
   "version": "3.8.5"
  },
  "toc": {
   "base_numbering": 1,
   "nav_menu": {},
   "number_sections": true,
   "sideBar": true,
   "skip_h1_title": false,
   "title_cell": "Table of Contents",
   "title_sidebar": "Contents",
   "toc_cell": false,
   "toc_position": {
    "height": "calc(100% - 180px)",
    "left": "10px",
    "top": "150px",
    "width": "216px"
   },
   "toc_section_display": true,
   "toc_window_display": false
  }
 },
 "nbformat": 4,
 "nbformat_minor": 4
}
